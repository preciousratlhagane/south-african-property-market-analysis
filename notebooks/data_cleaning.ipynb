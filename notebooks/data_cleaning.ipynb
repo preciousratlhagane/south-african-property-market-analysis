{
 "cells": [
  {
   "cell_type": "code",
   "execution_count": null,
   "id": "a78b697d",
   "metadata": {},
   "outputs": [],
   "source": [
    "# Import packages\n",
    "import numpy as np\n",
    "import pandas as pd"
   ]
  },
  {
   "cell_type": "code",
   "execution_count": null,
   "id": "14649de5",
   "metadata": {},
   "outputs": [],
   "source": [
    "# Load the rental listings\n",
    "rental_listings = pd.read_csv(\"../data/raw/rental_listings_for_capital_cities.csv\")\n",
    "rental_listings.head()"
   ]
  },
  {
   "cell_type": "code",
   "execution_count": null,
   "id": "5b288631",
   "metadata": {},
   "outputs": [],
   "source": [
    "# Load the properties for sale\n",
    "listings_for_sale = pd.read_csv(\"../data/raw/properties_for_sale_in_capital_cities.csv\")\n",
    "listings_for_sale.head()"
   ]
  },
  {
   "cell_type": "code",
   "execution_count": null,
   "id": "07386f3c",
   "metadata": {},
   "outputs": [],
   "source": []
  }
 ],
 "metadata": {
  "kernelspec": {
   "display_name": "geo_env",
   "language": "python",
   "name": "geo_env"
  },
  "language_info": {
   "name": "python",
   "version": "3.12.1"
  }
 },
 "nbformat": 4,
 "nbformat_minor": 5
}

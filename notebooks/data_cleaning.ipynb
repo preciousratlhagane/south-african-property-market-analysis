{
 "cells": [
  {
   "cell_type": "markdown",
   "id": "1feaf872",
   "metadata": {},
   "source": [
    "# <center> 🧽 Data Cleaning </center>"
   ]
  },
  {
   "cell_type": "markdown",
   "id": "42a4d6bf",
   "metadata": {},
   "source": [
    "## Table of Contents\n",
    "\n",
    "- [1. Introduction](#1-introduction)\n",
    "- [2. Loading Data](#2-loading-data)"
   ]
  },
  {
   "cell_type": "markdown",
   "id": "acdffd07",
   "metadata": {},
   "source": [
    "## 1. Introduction\n",
    "[Back to Table of Contents](#table-of-contents)\n",
    "\n",
    "---\n",
    "\n",
    "| ⚡ Description: Introducing the project ⚡ |\n",
    "| :--------------------------- |\n",
    "\n",
    "---"
   ]
  },
  {
   "cell_type": "markdown",
   "id": "bfc87451",
   "metadata": {},
   "source": [
    "<a id=\"two\"></a>\n",
    "## 2. Loading Data\n",
    "<a href=#cont>Back to Table of Contents</a>\n",
    "\n",
    "---\n",
    "    \n",
    "| ⚡ Description: Loading the data in our environment ⚡ |\n",
    "| :--------------------------- |\n",
    "\n",
    "---"
   ]
  },
  {
   "cell_type": "markdown",
   "id": "4c737deb",
   "metadata": {},
   "source": [
    "### Import packages"
   ]
  },
  {
   "cell_type": "code",
   "execution_count": 1,
   "id": "a78b697d",
   "metadata": {},
   "outputs": [],
   "source": [
    "# Import packages\n",
    "import numpy as np\n",
    "import pandas as pd\n",
    "import re"
   ]
  },
  {
   "cell_type": "markdown",
   "id": "9d14b166",
   "metadata": {},
   "source": [
    "### Rental Properties"
   ]
  },
  {
   "cell_type": "code",
   "execution_count": 2,
   "id": "4ee1b231",
   "metadata": {},
   "outputs": [
    {
     "data": {
      "text/plain": [
       "'Rentals'"
      ]
     },
     "metadata": {},
     "output_type": "display_data"
    },
    {
     "data": {
      "text/html": [
       "<div>\n",
       "<style scoped>\n",
       "    .dataframe tbody tr th:only-of-type {\n",
       "        vertical-align: middle;\n",
       "    }\n",
       "\n",
       "    .dataframe tbody tr th {\n",
       "        vertical-align: top;\n",
       "    }\n",
       "\n",
       "    .dataframe thead th {\n",
       "        text-align: right;\n",
       "    }\n",
       "</style>\n",
       "<table border=\"1\" class=\"dataframe\">\n",
       "  <thead>\n",
       "    <tr style=\"text-align: right;\">\n",
       "      <th></th>\n",
       "      <th>price</th>\n",
       "      <th>location</th>\n",
       "      <th>property_title</th>\n",
       "      <th>property_description</th>\n",
       "      <th>property_features</th>\n",
       "      <th>listing_slug</th>\n",
       "    </tr>\n",
       "  </thead>\n",
       "  <tbody>\n",
       "    <tr>\n",
       "      <th>0</th>\n",
       "      <td>R 7 000Per Month</td>\n",
       "      <td>Bhisho, Tyu Tyu North</td>\n",
       "      <td>3 Bedroom House to Rent in Tyu Tyu North</td>\n",
       "      <td>RE/MAX Border is proud to present this 3-bedro...</td>\n",
       "      <td>Property OverviewListing Number115295115Type o...</td>\n",
       "      <td>3-bedroom-house-to-rent-in-tyu-tyu-north-11529...</td>\n",
       "    </tr>\n",
       "    <tr>\n",
       "      <th>1</th>\n",
       "      <td>R 7 000Per Month</td>\n",
       "      <td>Bhisho, Bhisho Central</td>\n",
       "      <td>3 Bedroom House to Rent in Bhisho Central</td>\n",
       "      <td>How CONVENIENT is this flat directly opposite ...</td>\n",
       "      <td>Property OverviewListing Number115332086Type o...</td>\n",
       "      <td>3-bedroom-house-to-rent-in-bhisho-central-1153...</td>\n",
       "    </tr>\n",
       "    <tr>\n",
       "      <th>2</th>\n",
       "      <td>R 5 300Per Month</td>\n",
       "      <td>Bhisho, Tyu Tyu North</td>\n",
       "      <td>2 Bedroom House to Rent in Tyu Tyu North</td>\n",
       "      <td>Comfortable Home for a family which is availab...</td>\n",
       "      <td>Property OverviewListing Number115210602Type o...</td>\n",
       "      <td>2-bedroom-house-to-rent-in-tyu-tyu-north-11521...</td>\n",
       "    </tr>\n",
       "    <tr>\n",
       "      <th>3</th>\n",
       "      <td>NaN</td>\n",
       "      <td>NaN</td>\n",
       "      <td>NaN</td>\n",
       "      <td>NaN</td>\n",
       "      <td>NaN</td>\n",
       "      <td>house-to-rent-in-bisho-park-101731048</td>\n",
       "    </tr>\n",
       "    <tr>\n",
       "      <th>4</th>\n",
       "      <td>R 7 500Per Month</td>\n",
       "      <td>Bhisho, Bisho Park</td>\n",
       "      <td>3 Bedroom House to Rent in Bisho Park</td>\n",
       "      <td>BetterProp is thrilled to present this well-ma...</td>\n",
       "      <td>Property OverviewListing Number115555490Type o...</td>\n",
       "      <td>3-bedroom-house-to-rent-in-bisho-park-115555490</td>\n",
       "    </tr>\n",
       "  </tbody>\n",
       "</table>\n",
       "</div>"
      ],
      "text/plain": [
       "              price                location  \\\n",
       "0  R 7 000Per Month   Bhisho, Tyu Tyu North   \n",
       "1  R 7 000Per Month  Bhisho, Bhisho Central   \n",
       "2  R 5 300Per Month   Bhisho, Tyu Tyu North   \n",
       "3               NaN                     NaN   \n",
       "4  R 7 500Per Month      Bhisho, Bisho Park   \n",
       "\n",
       "                              property_title  \\\n",
       "0   3 Bedroom House to Rent in Tyu Tyu North   \n",
       "1  3 Bedroom House to Rent in Bhisho Central   \n",
       "2   2 Bedroom House to Rent in Tyu Tyu North   \n",
       "3                                        NaN   \n",
       "4      3 Bedroom House to Rent in Bisho Park   \n",
       "\n",
       "                                property_description  \\\n",
       "0  RE/MAX Border is proud to present this 3-bedro...   \n",
       "1  How CONVENIENT is this flat directly opposite ...   \n",
       "2  Comfortable Home for a family which is availab...   \n",
       "3                                                NaN   \n",
       "4  BetterProp is thrilled to present this well-ma...   \n",
       "\n",
       "                                   property_features  \\\n",
       "0  Property OverviewListing Number115295115Type o...   \n",
       "1  Property OverviewListing Number115332086Type o...   \n",
       "2  Property OverviewListing Number115210602Type o...   \n",
       "3                                                NaN   \n",
       "4  Property OverviewListing Number115555490Type o...   \n",
       "\n",
       "                                        listing_slug  \n",
       "0  3-bedroom-house-to-rent-in-tyu-tyu-north-11529...  \n",
       "1  3-bedroom-house-to-rent-in-bhisho-central-1153...  \n",
       "2  2-bedroom-house-to-rent-in-tyu-tyu-north-11521...  \n",
       "3              house-to-rent-in-bisho-park-101731048  \n",
       "4    3-bedroom-house-to-rent-in-bisho-park-115555490  "
      ]
     },
     "metadata": {},
     "output_type": "display_data"
    },
    {
     "data": {
      "text/plain": [
       "(15324, 6)"
      ]
     },
     "metadata": {},
     "output_type": "display_data"
    }
   ],
   "source": [
    "rental_listings = pd.read_csv(\"../data/raw/rental_listings_for_capital_cities.csv\")\n",
    "display(\"Rentals\", rental_listings.head(), rental_listings.shape)"
   ]
  },
  {
   "cell_type": "code",
   "execution_count": 3,
   "id": "01de9d3c",
   "metadata": {},
   "outputs": [
    {
     "name": "stdout",
     "output_type": "stream",
     "text": [
      "<class 'pandas.core.frame.DataFrame'>\n",
      "RangeIndex: 15324 entries, 0 to 15323\n",
      "Data columns (total 6 columns):\n",
      " #   Column                Non-Null Count  Dtype \n",
      "---  ------                --------------  ----- \n",
      " 0   price                 15323 non-null  object\n",
      " 1   location              8189 non-null   object\n",
      " 2   property_title        15323 non-null  object\n",
      " 3   property_description  15323 non-null  object\n",
      " 4   property_features     15323 non-null  object\n",
      " 5   listing_slug          15324 non-null  object\n",
      "dtypes: object(6)\n",
      "memory usage: 718.4+ KB\n"
     ]
    }
   ],
   "source": [
    "rental_listings.info()"
   ]
  },
  {
   "cell_type": "code",
   "execution_count": 4,
   "id": "d037535a",
   "metadata": {},
   "outputs": [
    {
     "data": {
      "text/plain": [
       "price                      1\n",
       "location                7135\n",
       "property_title             1\n",
       "property_description       1\n",
       "property_features          1\n",
       "listing_slug               0\n",
       "dtype: int64"
      ]
     },
     "execution_count": 4,
     "metadata": {},
     "output_type": "execute_result"
    }
   ],
   "source": [
    "rental_listings.isnull().sum()"
   ]
  },
  {
   "cell_type": "code",
   "execution_count": 5,
   "id": "564574cb",
   "metadata": {},
   "outputs": [
    {
     "name": "stdout",
     "output_type": "stream",
     "text": [
      "There are 7139 null values in the rental dataset\n"
     ]
    }
   ],
   "source": [
    "rental_null_values = rental_listings.isnull().sum().sum()\n",
    "print(f\"There are {rental_null_values} null values in the rental dataset\")"
   ]
  },
  {
   "cell_type": "code",
   "execution_count": 6,
   "id": "ea6279e5",
   "metadata": {},
   "outputs": [
    {
     "name": "stdout",
     "output_type": "stream",
     "text": [
      "There are 1303 duplicates in the rental dataset \n"
     ]
    }
   ],
   "source": [
    "rental_duplicates = rental_listings[rental_listings.duplicated()]\n",
    "num_rental_duplicates = len(rental_duplicates)\n",
    "print(f\"There are {num_rental_duplicates} duplicates in the rental dataset \")"
   ]
  },
  {
   "cell_type": "code",
   "execution_count": 7,
   "id": "e0c43e82",
   "metadata": {},
   "outputs": [],
   "source": [
    "# Drop duplicate rows and keep the first occurrence\n",
    "rental_listings = rental_listings.drop_duplicates().reset_index(drop=True)"
   ]
  },
  {
   "cell_type": "code",
   "execution_count": 8,
   "id": "77dae387",
   "metadata": {},
   "outputs": [],
   "source": [
    "rental_listings = rental_listings.dropna(subset=['price'])"
   ]
  },
  {
   "cell_type": "code",
   "execution_count": 46,
   "id": "73ca54fa",
   "metadata": {},
   "outputs": [
    {
     "name": "stdout",
     "output_type": "stream",
     "text": [
      "There are 217 listings with 'POA' in the price column.\n"
     ]
    }
   ],
   "source": [
    "poa_mask = rental_listings['price'].astype(\n",
    "    str).str.contains(\"POA\", case=False, na=False)\n",
    "num_poa = poa_mask.sum()\n",
    "\n",
    "print(f\"There are {num_poa} listings with 'POA' in the price column.\")"
   ]
  },
  {
   "cell_type": "code",
   "execution_count": 9,
   "id": "fd3bd830",
   "metadata": {},
   "outputs": [
    {
     "data": {
      "text/html": [
       "<div>\n",
       "<style scoped>\n",
       "    .dataframe tbody tr th:only-of-type {\n",
       "        vertical-align: middle;\n",
       "    }\n",
       "\n",
       "    .dataframe tbody tr th {\n",
       "        vertical-align: top;\n",
       "    }\n",
       "\n",
       "    .dataframe thead th {\n",
       "        text-align: right;\n",
       "    }\n",
       "</style>\n",
       "<table border=\"1\" class=\"dataframe\">\n",
       "  <thead>\n",
       "    <tr style=\"text-align: right;\">\n",
       "      <th></th>\n",
       "      <th>price</th>\n",
       "      <th>location</th>\n",
       "      <th>property_title</th>\n",
       "      <th>property_description</th>\n",
       "      <th>property_features</th>\n",
       "      <th>listing_slug</th>\n",
       "      <th>price (in rands)</th>\n",
       "      <th>price_type</th>\n",
       "    </tr>\n",
       "  </thead>\n",
       "  <tbody>\n",
       "    <tr>\n",
       "      <th>0</th>\n",
       "      <td>R7000PerMonth</td>\n",
       "      <td>Bhisho, Tyu Tyu North</td>\n",
       "      <td>3 Bedroom House to Rent in Tyu Tyu North</td>\n",
       "      <td>RE/MAX Border is proud to present this 3-bedro...</td>\n",
       "      <td>Property OverviewListing Number115295115Type o...</td>\n",
       "      <td>3-bedroom-house-to-rent-in-tyu-tyu-north-11529...</td>\n",
       "      <td>7000.0</td>\n",
       "      <td>Per Month</td>\n",
       "    </tr>\n",
       "    <tr>\n",
       "      <th>1</th>\n",
       "      <td>R7000PerMonth</td>\n",
       "      <td>Bhisho, Bhisho Central</td>\n",
       "      <td>3 Bedroom House to Rent in Bhisho Central</td>\n",
       "      <td>How CONVENIENT is this flat directly opposite ...</td>\n",
       "      <td>Property OverviewListing Number115332086Type o...</td>\n",
       "      <td>3-bedroom-house-to-rent-in-bhisho-central-1153...</td>\n",
       "      <td>7000.0</td>\n",
       "      <td>Per Month</td>\n",
       "    </tr>\n",
       "    <tr>\n",
       "      <th>2</th>\n",
       "      <td>R5300PerMonth</td>\n",
       "      <td>Bhisho, Tyu Tyu North</td>\n",
       "      <td>2 Bedroom House to Rent in Tyu Tyu North</td>\n",
       "      <td>Comfortable Home for a family which is availab...</td>\n",
       "      <td>Property OverviewListing Number115210602Type o...</td>\n",
       "      <td>2-bedroom-house-to-rent-in-tyu-tyu-north-11521...</td>\n",
       "      <td>5300.0</td>\n",
       "      <td>Per Month</td>\n",
       "    </tr>\n",
       "    <tr>\n",
       "      <th>4</th>\n",
       "      <td>R7500PerMonth</td>\n",
       "      <td>Bhisho, Bisho Park</td>\n",
       "      <td>3 Bedroom House to Rent in Bisho Park</td>\n",
       "      <td>BetterProp is thrilled to present this well-ma...</td>\n",
       "      <td>Property OverviewListing Number115555490Type o...</td>\n",
       "      <td>3-bedroom-house-to-rent-in-bisho-park-115555490</td>\n",
       "      <td>7500.0</td>\n",
       "      <td>Per Month</td>\n",
       "    </tr>\n",
       "    <tr>\n",
       "      <th>5</th>\n",
       "      <td>R5500PerMonth</td>\n",
       "      <td>Bhisho, Bisho Park</td>\n",
       "      <td>House to Rent in Bisho Park</td>\n",
       "      <td>This neat family home boasts:3 bedroomsOpen pl...</td>\n",
       "      <td>Property OverviewListing Number115525482Type o...</td>\n",
       "      <td>house-to-rent-in-bisho-park-115525482</td>\n",
       "      <td>5500.0</td>\n",
       "      <td>Per Month</td>\n",
       "    </tr>\n",
       "  </tbody>\n",
       "</table>\n",
       "</div>"
      ],
      "text/plain": [
       "           price                location  \\\n",
       "0  R7000PerMonth   Bhisho, Tyu Tyu North   \n",
       "1  R7000PerMonth  Bhisho, Bhisho Central   \n",
       "2  R5300PerMonth   Bhisho, Tyu Tyu North   \n",
       "4  R7500PerMonth      Bhisho, Bisho Park   \n",
       "5  R5500PerMonth      Bhisho, Bisho Park   \n",
       "\n",
       "                              property_title  \\\n",
       "0   3 Bedroom House to Rent in Tyu Tyu North   \n",
       "1  3 Bedroom House to Rent in Bhisho Central   \n",
       "2   2 Bedroom House to Rent in Tyu Tyu North   \n",
       "4      3 Bedroom House to Rent in Bisho Park   \n",
       "5                House to Rent in Bisho Park   \n",
       "\n",
       "                                property_description  \\\n",
       "0  RE/MAX Border is proud to present this 3-bedro...   \n",
       "1  How CONVENIENT is this flat directly opposite ...   \n",
       "2  Comfortable Home for a family which is availab...   \n",
       "4  BetterProp is thrilled to present this well-ma...   \n",
       "5  This neat family home boasts:3 bedroomsOpen pl...   \n",
       "\n",
       "                                   property_features  \\\n",
       "0  Property OverviewListing Number115295115Type o...   \n",
       "1  Property OverviewListing Number115332086Type o...   \n",
       "2  Property OverviewListing Number115210602Type o...   \n",
       "4  Property OverviewListing Number115555490Type o...   \n",
       "5  Property OverviewListing Number115525482Type o...   \n",
       "\n",
       "                                        listing_slug  price (in rands)  \\\n",
       "0  3-bedroom-house-to-rent-in-tyu-tyu-north-11529...            7000.0   \n",
       "1  3-bedroom-house-to-rent-in-bhisho-central-1153...            7000.0   \n",
       "2  2-bedroom-house-to-rent-in-tyu-tyu-north-11521...            5300.0   \n",
       "4    3-bedroom-house-to-rent-in-bisho-park-115555490            7500.0   \n",
       "5              house-to-rent-in-bisho-park-115525482            5500.0   \n",
       "\n",
       "  price_type  \n",
       "0  Per Month  \n",
       "1  Per Month  \n",
       "2  Per Month  \n",
       "4  Per Month  \n",
       "5  Per Month  "
      ]
     },
     "execution_count": 9,
     "metadata": {},
     "output_type": "execute_result"
    }
   ],
   "source": [
    "# Normalize spaces\n",
    "rental_listings['price'] = rental_listings['price'].str.replace(\n",
    "    r'\\s+', '', regex=True)\n",
    "\n",
    "# Extract price amount\n",
    "rental_listings['price (in rands)'] = rental_listings['price'].str.extract(\n",
    "    r'R?(\\d+)', expand=False)\n",
    "rental_listings['price (in rands)'] = pd.to_numeric(rental_listings['price (in rands)'], errors='coerce')\n",
    "\n",
    "# Now safely extract price type from the actual price string\n",
    "rental_listings['price_type'] = rental_listings['price'].str.extract(\n",
    "    r'(PerMonth|m2|m²|Perm²)', expand=False\n",
    ")\n",
    "\n",
    "# Standardize price type to make it more readable\n",
    "rental_listings['price_type'] = rental_listings['price_type'].replace({\n",
    "    'PerMonth': 'Per Month',\n",
    "    'm2': 'Per m²',\n",
    "    'Perm²': 'Per m²'\n",
    "})\n",
    "\n",
    "# Print out the first five rows of the table to see the results\n",
    "rental_listings.head()"
   ]
  },
  {
   "cell_type": "code",
   "execution_count": 10,
   "id": "4057939d",
   "metadata": {},
   "outputs": [
    {
     "data": {
      "text/html": [
       "<div>\n",
       "<style scoped>\n",
       "    .dataframe tbody tr th:only-of-type {\n",
       "        vertical-align: middle;\n",
       "    }\n",
       "\n",
       "    .dataframe tbody tr th {\n",
       "        vertical-align: top;\n",
       "    }\n",
       "\n",
       "    .dataframe thead th {\n",
       "        text-align: right;\n",
       "    }\n",
       "</style>\n",
       "<table border=\"1\" class=\"dataframe\">\n",
       "  <thead>\n",
       "    <tr style=\"text-align: right;\">\n",
       "      <th></th>\n",
       "      <th>price</th>\n",
       "      <th>location</th>\n",
       "      <th>property_title</th>\n",
       "      <th>property_description</th>\n",
       "      <th>property_features</th>\n",
       "      <th>listing_slug</th>\n",
       "      <th>price (in rands)</th>\n",
       "      <th>price_type</th>\n",
       "      <th>suburb</th>\n",
       "    </tr>\n",
       "  </thead>\n",
       "  <tbody>\n",
       "    <tr>\n",
       "      <th>0</th>\n",
       "      <td>R7000PerMonth</td>\n",
       "      <td>Bhisho, Tyu Tyu North</td>\n",
       "      <td>3 Bedroom House to Rent in Tyu Tyu North</td>\n",
       "      <td>RE/MAX Border is proud to present this 3-bedro...</td>\n",
       "      <td>Property OverviewListing Number115295115Type o...</td>\n",
       "      <td>3-bedroom-house-to-rent-in-tyu-tyu-north-11529...</td>\n",
       "      <td>7000.0</td>\n",
       "      <td>Per Month</td>\n",
       "      <td>Tyu Tyu North</td>\n",
       "    </tr>\n",
       "    <tr>\n",
       "      <th>1</th>\n",
       "      <td>R7000PerMonth</td>\n",
       "      <td>Bhisho, Bhisho Central</td>\n",
       "      <td>3 Bedroom House to Rent in Bhisho Central</td>\n",
       "      <td>How CONVENIENT is this flat directly opposite ...</td>\n",
       "      <td>Property OverviewListing Number115332086Type o...</td>\n",
       "      <td>3-bedroom-house-to-rent-in-bhisho-central-1153...</td>\n",
       "      <td>7000.0</td>\n",
       "      <td>Per Month</td>\n",
       "      <td>Bhisho Central</td>\n",
       "    </tr>\n",
       "    <tr>\n",
       "      <th>2</th>\n",
       "      <td>R5300PerMonth</td>\n",
       "      <td>Bhisho, Tyu Tyu North</td>\n",
       "      <td>2 Bedroom House to Rent in Tyu Tyu North</td>\n",
       "      <td>Comfortable Home for a family which is availab...</td>\n",
       "      <td>Property OverviewListing Number115210602Type o...</td>\n",
       "      <td>2-bedroom-house-to-rent-in-tyu-tyu-north-11521...</td>\n",
       "      <td>5300.0</td>\n",
       "      <td>Per Month</td>\n",
       "      <td>Tyu Tyu North</td>\n",
       "    </tr>\n",
       "    <tr>\n",
       "      <th>4</th>\n",
       "      <td>R7500PerMonth</td>\n",
       "      <td>Bhisho, Bisho Park</td>\n",
       "      <td>3 Bedroom House to Rent in Bisho Park</td>\n",
       "      <td>BetterProp is thrilled to present this well-ma...</td>\n",
       "      <td>Property OverviewListing Number115555490Type o...</td>\n",
       "      <td>3-bedroom-house-to-rent-in-bisho-park-115555490</td>\n",
       "      <td>7500.0</td>\n",
       "      <td>Per Month</td>\n",
       "      <td>Bisho Park</td>\n",
       "    </tr>\n",
       "    <tr>\n",
       "      <th>5</th>\n",
       "      <td>R5500PerMonth</td>\n",
       "      <td>Bhisho, Bisho Park</td>\n",
       "      <td>House to Rent in Bisho Park</td>\n",
       "      <td>This neat family home boasts:3 bedroomsOpen pl...</td>\n",
       "      <td>Property OverviewListing Number115525482Type o...</td>\n",
       "      <td>house-to-rent-in-bisho-park-115525482</td>\n",
       "      <td>5500.0</td>\n",
       "      <td>Per Month</td>\n",
       "      <td>Bisho Park</td>\n",
       "    </tr>\n",
       "  </tbody>\n",
       "</table>\n",
       "</div>"
      ],
      "text/plain": [
       "           price                location  \\\n",
       "0  R7000PerMonth   Bhisho, Tyu Tyu North   \n",
       "1  R7000PerMonth  Bhisho, Bhisho Central   \n",
       "2  R5300PerMonth   Bhisho, Tyu Tyu North   \n",
       "4  R7500PerMonth      Bhisho, Bisho Park   \n",
       "5  R5500PerMonth      Bhisho, Bisho Park   \n",
       "\n",
       "                              property_title  \\\n",
       "0   3 Bedroom House to Rent in Tyu Tyu North   \n",
       "1  3 Bedroom House to Rent in Bhisho Central   \n",
       "2   2 Bedroom House to Rent in Tyu Tyu North   \n",
       "4      3 Bedroom House to Rent in Bisho Park   \n",
       "5                House to Rent in Bisho Park   \n",
       "\n",
       "                                property_description  \\\n",
       "0  RE/MAX Border is proud to present this 3-bedro...   \n",
       "1  How CONVENIENT is this flat directly opposite ...   \n",
       "2  Comfortable Home for a family which is availab...   \n",
       "4  BetterProp is thrilled to present this well-ma...   \n",
       "5  This neat family home boasts:3 bedroomsOpen pl...   \n",
       "\n",
       "                                   property_features  \\\n",
       "0  Property OverviewListing Number115295115Type o...   \n",
       "1  Property OverviewListing Number115332086Type o...   \n",
       "2  Property OverviewListing Number115210602Type o...   \n",
       "4  Property OverviewListing Number115555490Type o...   \n",
       "5  Property OverviewListing Number115525482Type o...   \n",
       "\n",
       "                                        listing_slug  price (in rands)  \\\n",
       "0  3-bedroom-house-to-rent-in-tyu-tyu-north-11529...            7000.0   \n",
       "1  3-bedroom-house-to-rent-in-bhisho-central-1153...            7000.0   \n",
       "2  2-bedroom-house-to-rent-in-tyu-tyu-north-11521...            5300.0   \n",
       "4    3-bedroom-house-to-rent-in-bisho-park-115555490            7500.0   \n",
       "5              house-to-rent-in-bisho-park-115525482            5500.0   \n",
       "\n",
       "  price_type          suburb  \n",
       "0  Per Month   Tyu Tyu North  \n",
       "1  Per Month  Bhisho Central  \n",
       "2  Per Month   Tyu Tyu North  \n",
       "4  Per Month      Bisho Park  \n",
       "5  Per Month      Bisho Park  "
      ]
     },
     "execution_count": 10,
     "metadata": {},
     "output_type": "execute_result"
    }
   ],
   "source": [
    "# Extract the location from the listing_slug column\n",
    "rental_listings['suburb'] = rental_listings['property_title'].str.extract(\n",
    "    r'to Rent in (.+)', expand=False)\n",
    "\n",
    "# Remove the trailing numbers from the suburb column\n",
    "rental_listings['suburb'] = (\n",
    "    rental_listings['suburb'].str.replace(r'-\\d+$', '', regex=True).str.strip())\n",
    "\n",
    "# Print the first five rows of the table to see the results\n",
    "rental_listings.head()"
   ]
  },
  {
   "cell_type": "code",
   "execution_count": 11,
   "id": "46e5b844",
   "metadata": {},
   "outputs": [],
   "source": [
    "city_province = pd.read_csv(\"../data/raw/south_africa_provinces_capitals.csv\")\n",
    "city_list = city_province['city'].dropna().str.strip().unique()"
   ]
  },
  {
   "cell_type": "code",
   "execution_count": 12,
   "id": "1fd25e90",
   "metadata": {},
   "outputs": [],
   "source": [
    "def extract_city_from_location(location, city_list):\n",
    "    if pd.isna(location):\n",
    "        return None\n",
    "    \n",
    "    \n",
    "    location_lower = location.lower()\n",
    "    for city in city_list:\n",
    "        if city.lower() in location_lower:\n",
    "            return city\n",
    "    return None"
   ]
  },
  {
   "cell_type": "code",
   "execution_count": 13,
   "id": "40cea20f",
   "metadata": {},
   "outputs": [],
   "source": [
    "# Apply the above function to extract the function\n",
    "rental_listings['city'] = rental_listings['location'].apply(\n",
    "    lambda loc: extract_city_from_location(loc, city_list))"
   ]
  },
  {
   "cell_type": "code",
   "execution_count": 14,
   "id": "64867eae",
   "metadata": {},
   "outputs": [
    {
     "data": {
      "text/plain": [
       "city\n",
       "Johannesburg        2544\n",
       "Cape Town           2379\n",
       "Bloemfontein         855\n",
       "Polokwane            562\n",
       "Nelspruit            531\n",
       "Pietermaritzburg     458\n",
       "Kimberley            136\n",
       "Mafikeng              26\n",
       "Bhisho                 5\n",
       "Name: count, dtype: int64"
      ]
     },
     "execution_count": 14,
     "metadata": {},
     "output_type": "execute_result"
    }
   ],
   "source": [
    "rental_listings['city'].value_counts()"
   ]
  },
  {
   "cell_type": "code",
   "execution_count": 15,
   "id": "1cae26a8",
   "metadata": {},
   "outputs": [
    {
     "data": {
      "text/plain": [
       "np.int64(6524)"
      ]
     },
     "execution_count": 15,
     "metadata": {},
     "output_type": "execute_result"
    }
   ],
   "source": [
    "rental_listings['city'].isnull().sum()"
   ]
  },
  {
   "cell_type": "code",
   "execution_count": 17,
   "id": "5d587f6e",
   "metadata": {},
   "outputs": [],
   "source": [
    "# Create a mapping of suburb to kmown cities\n",
    "suburb_to_city_map = rental_listings[rental_listings['city'].notna()].drop_duplicates(subset=['suburb', 'city']).set_index('suburb')['city'].to_dict()\n",
    "\n",
    "# Fill missing city values based on the suburb\n",
    "rental_listings['city'] = rental_listings.apply(lambda row: suburb_to_city_map.get(row['suburb'], row['city']) if pd.isna(row['city']) else row['city'], axis= 1)   "
   ]
  },
  {
   "cell_type": "code",
   "execution_count": 18,
   "id": "da3632d2",
   "metadata": {},
   "outputs": [
    {
     "data": {
      "text/plain": [
       "np.int64(91)"
      ]
     },
     "execution_count": 18,
     "metadata": {},
     "output_type": "execute_result"
    }
   ],
   "source": [
    "rental_listings['city'].isnull().sum()"
   ]
  },
  {
   "cell_type": "code",
   "execution_count": 19,
   "id": "aac4dd4b",
   "metadata": {},
   "outputs": [],
   "source": [
    "# Drop the city rows with null values\n",
    "rental_listings = rental_listings.dropna(subset=['city'])"
   ]
  },
  {
   "cell_type": "code",
   "execution_count": null,
   "id": "1fe2bdb3",
   "metadata": {},
   "outputs": [],
   "source": [
    "# Merge the city with its matching province\n",
    "rental_listings = rental_listings.merge(city_province, on='city', how='left')"
   ]
  },
  {
   "cell_type": "code",
   "execution_count": 21,
   "id": "7baedd0a",
   "metadata": {},
   "outputs": [
    {
     "data": {
      "text/plain": [
       "price                      0\n",
       "location                6420\n",
       "property_title             0\n",
       "property_description       0\n",
       "property_features          0\n",
       "listing_slug               0\n",
       "price (in rands)         217\n",
       "price_type               155\n",
       "suburb                     0\n",
       "city                       0\n",
       "province                   0\n",
       "dtype: int64"
      ]
     },
     "execution_count": 21,
     "metadata": {},
     "output_type": "execute_result"
    }
   ],
   "source": [
    "rental_listings.isnull().sum()"
   ]
  },
  {
   "cell_type": "code",
   "execution_count": 23,
   "id": "1f8b7697",
   "metadata": {},
   "outputs": [
    {
     "name": "stdout",
     "output_type": "stream",
     "text": [
      "<class 'pandas.core.frame.DataFrame'>\n",
      "RangeIndex: 13929 entries, 0 to 13928\n",
      "Data columns (total 11 columns):\n",
      " #   Column                Non-Null Count  Dtype  \n",
      "---  ------                --------------  -----  \n",
      " 0   price                 13929 non-null  object \n",
      " 1   location              7509 non-null   object \n",
      " 2   property_title        13929 non-null  object \n",
      " 3   property_description  13929 non-null  object \n",
      " 4   property_features     13929 non-null  object \n",
      " 5   listing_slug          13929 non-null  object \n",
      " 6   price (in rands)      13712 non-null  float64\n",
      " 7   price_type            13774 non-null  object \n",
      " 8   suburb                13929 non-null  object \n",
      " 9   city                  13929 non-null  object \n",
      " 10  province              13929 non-null  object \n",
      "dtypes: float64(1), object(10)\n",
      "memory usage: 1.2+ MB\n"
     ]
    }
   ],
   "source": [
    "rental_listings.info()"
   ]
  },
  {
   "cell_type": "markdown",
   "id": "7d44a31b",
   "metadata": {},
   "source": [
    "### Listings for sale"
   ]
  },
  {
   "cell_type": "code",
   "execution_count": 24,
   "id": "48f4787c",
   "metadata": {},
   "outputs": [
    {
     "data": {
      "text/plain": [
       "'Listings for sale'"
      ]
     },
     "metadata": {},
     "output_type": "display_data"
    },
    {
     "data": {
      "text/html": [
       "<div>\n",
       "<style scoped>\n",
       "    .dataframe tbody tr th:only-of-type {\n",
       "        vertical-align: middle;\n",
       "    }\n",
       "\n",
       "    .dataframe tbody tr th {\n",
       "        vertical-align: top;\n",
       "    }\n",
       "\n",
       "    .dataframe thead th {\n",
       "        text-align: right;\n",
       "    }\n",
       "</style>\n",
       "<table border=\"1\" class=\"dataframe\">\n",
       "  <thead>\n",
       "    <tr style=\"text-align: right;\">\n",
       "      <th></th>\n",
       "      <th>price</th>\n",
       "      <th>location</th>\n",
       "      <th>property_title</th>\n",
       "      <th>property_description</th>\n",
       "      <th>property_features</th>\n",
       "      <th>listing_slug</th>\n",
       "    </tr>\n",
       "  </thead>\n",
       "  <tbody>\n",
       "    <tr>\n",
       "      <th>0</th>\n",
       "      <td>R 690 000Bond CostsBond CalculatorPurchase Pri...</td>\n",
       "      <td>Bhisho, Bhisho Central</td>\n",
       "      <td>3 Bedroom House for Sale in Bhisho Central</td>\n",
       "      <td>RE/MAX Border is proud to present this family ...</td>\n",
       "      <td>Property OverviewListing Number115871179Type o...</td>\n",
       "      <td>3-bedroom-house-for-sale-in-bhisho-central-115...</td>\n",
       "    </tr>\n",
       "    <tr>\n",
       "      <th>1</th>\n",
       "      <td>R 700 000Bond CostsBond CalculatorPurchase Pri...</td>\n",
       "      <td>Bhisho, Tyu Tyu North</td>\n",
       "      <td>3 Bedroom House for Sale in Tyu Tyu North</td>\n",
       "      <td>This spacious property offers a well-designed ...</td>\n",
       "      <td>Property OverviewListing Number115765257Type o...</td>\n",
       "      <td>3-bedroom-house-for-sale-in-tyu-tyu-north-1157...</td>\n",
       "    </tr>\n",
       "    <tr>\n",
       "      <th>2</th>\n",
       "      <td>R 749 000Bond CostsBond CalculatorPurchase Pri...</td>\n",
       "      <td>Bhisho, Tyu Tyu North</td>\n",
       "      <td>3 Bedroom House for Sale in Tyu Tyu North</td>\n",
       "      <td>Sizwe Mlungwana Properties is excited to prese...</td>\n",
       "      <td>Property OverviewListing Number115864665Type o...</td>\n",
       "      <td>3-bedroom-house-for-sale-in-tyu-tyu-north-1158...</td>\n",
       "    </tr>\n",
       "    <tr>\n",
       "      <th>3</th>\n",
       "      <td>R 799 000Bond CostsBond CalculatorPurchase Pri...</td>\n",
       "      <td>Bhisho, Bhisho Central</td>\n",
       "      <td>3 Bedroom House for Sale in Bhisho Central</td>\n",
       "      <td>Discover this well located 3 bedroom home.Perf...</td>\n",
       "      <td>Property OverviewListing Number115811196Type o...</td>\n",
       "      <td>3-bedroom-house-for-sale-in-bhisho-central-115...</td>\n",
       "    </tr>\n",
       "    <tr>\n",
       "      <th>4</th>\n",
       "      <td>R 695 000Bond CostsBond CalculatorPurchase Pri...</td>\n",
       "      <td>Bhisho, Tyu Tyu</td>\n",
       "      <td>3 Bedroom House for Sale in Tyu Tyu</td>\n",
       "      <td>Presenting this beautiful house to the market....</td>\n",
       "      <td>Property OverviewListing Number115837796Type o...</td>\n",
       "      <td>3-bedroom-house-for-sale-in-tyu-tyu-115837796</td>\n",
       "    </tr>\n",
       "  </tbody>\n",
       "</table>\n",
       "</div>"
      ],
      "text/plain": [
       "                                               price                location  \\\n",
       "0  R 690 000Bond CostsBond CalculatorPurchase Pri...  Bhisho, Bhisho Central   \n",
       "1  R 700 000Bond CostsBond CalculatorPurchase Pri...   Bhisho, Tyu Tyu North   \n",
       "2  R 749 000Bond CostsBond CalculatorPurchase Pri...   Bhisho, Tyu Tyu North   \n",
       "3  R 799 000Bond CostsBond CalculatorPurchase Pri...  Bhisho, Bhisho Central   \n",
       "4  R 695 000Bond CostsBond CalculatorPurchase Pri...         Bhisho, Tyu Tyu   \n",
       "\n",
       "                               property_title  \\\n",
       "0  3 Bedroom House for Sale in Bhisho Central   \n",
       "1   3 Bedroom House for Sale in Tyu Tyu North   \n",
       "2   3 Bedroom House for Sale in Tyu Tyu North   \n",
       "3  3 Bedroom House for Sale in Bhisho Central   \n",
       "4         3 Bedroom House for Sale in Tyu Tyu   \n",
       "\n",
       "                                property_description  \\\n",
       "0  RE/MAX Border is proud to present this family ...   \n",
       "1  This spacious property offers a well-designed ...   \n",
       "2  Sizwe Mlungwana Properties is excited to prese...   \n",
       "3  Discover this well located 3 bedroom home.Perf...   \n",
       "4  Presenting this beautiful house to the market....   \n",
       "\n",
       "                                   property_features  \\\n",
       "0  Property OverviewListing Number115871179Type o...   \n",
       "1  Property OverviewListing Number115765257Type o...   \n",
       "2  Property OverviewListing Number115864665Type o...   \n",
       "3  Property OverviewListing Number115811196Type o...   \n",
       "4  Property OverviewListing Number115837796Type o...   \n",
       "\n",
       "                                        listing_slug  \n",
       "0  3-bedroom-house-for-sale-in-bhisho-central-115...  \n",
       "1  3-bedroom-house-for-sale-in-tyu-tyu-north-1157...  \n",
       "2  3-bedroom-house-for-sale-in-tyu-tyu-north-1158...  \n",
       "3  3-bedroom-house-for-sale-in-bhisho-central-115...  \n",
       "4      3-bedroom-house-for-sale-in-tyu-tyu-115837796  "
      ]
     },
     "metadata": {},
     "output_type": "display_data"
    },
    {
     "data": {
      "text/plain": [
       "(40006, 6)"
      ]
     },
     "metadata": {},
     "output_type": "display_data"
    }
   ],
   "source": [
    "listings_for_sale = pd.read_csv(\"../data/raw/listings_for_sale_in_capital_cities.csv\")\n",
    "display(\"Listings for sale\", listings_for_sale.head(), listings_for_sale.shape)"
   ]
  },
  {
   "cell_type": "code",
   "execution_count": null,
   "id": "f47fec42",
   "metadata": {},
   "outputs": [
    {
     "name": "stdout",
     "output_type": "stream",
     "text": [
      "<class 'pandas.core.frame.DataFrame'>\n",
      "RangeIndex: 40006 entries, 0 to 40005\n",
      "Data columns (total 6 columns):\n",
      " #   Column                Non-Null Count  Dtype \n",
      "---  ------                --------------  ----- \n",
      " 0   price                 40002 non-null  object\n",
      " 1   location              33028 non-null  object\n",
      " 2   property_title        40002 non-null  object\n",
      " 3   property_description  40001 non-null  object\n",
      " 4   property_features     40002 non-null  object\n",
      " 5   listing_slug          40006 non-null  object\n",
      "dtypes: object(6)\n",
      "memory usage: 1.8+ MB\n"
     ]
    }
   ],
   "source": [
    "# Get information about the listings_for_sale document\n",
    "listings_for_sale.info()"
   ]
  },
  {
   "cell_type": "code",
   "execution_count": null,
   "id": "17509ea6",
   "metadata": {},
   "outputs": [
    {
     "data": {
      "text/plain": [
       "price                      4\n",
       "location                6978\n",
       "property_title             4\n",
       "property_description       5\n",
       "property_features          4\n",
       "listing_slug               0\n",
       "dtype: int64"
      ]
     },
     "execution_count": 26,
     "metadata": {},
     "output_type": "execute_result"
    }
   ],
   "source": [
    "# See the number of null values in each column\n",
    "listings_for_sale.isnull().sum()"
   ]
  },
  {
   "cell_type": "code",
   "execution_count": 27,
   "id": "e9a851be",
   "metadata": {},
   "outputs": [],
   "source": [
    "# Drop listings where the property_title is null\n",
    "listings_for_sale = listings_for_sale.dropna(subset=['property_title']).reset_index(drop=True)"
   ]
  },
  {
   "cell_type": "code",
   "execution_count": 28,
   "id": "f6f28351",
   "metadata": {},
   "outputs": [
    {
     "name": "stdout",
     "output_type": "stream",
     "text": [
      "There are 2072 duplicates in the rental dataset \n"
     ]
    }
   ],
   "source": [
    "listings_for_sale_duplicates = listings_for_sale[listings_for_sale.duplicated()]\n",
    "num_listings_for_sale_duplicates = len(listings_for_sale_duplicates)\n",
    "print(f\"There are {num_listings_for_sale_duplicates} duplicates in the rental dataset \")"
   ]
  },
  {
   "cell_type": "code",
   "execution_count": 29,
   "id": "b5b6aa93",
   "metadata": {},
   "outputs": [],
   "source": [
    "# Drop duplicate rows and keep the first occurrence\n",
    "listings_for_sale = listings_for_sale.drop_duplicates().reset_index(drop=True)"
   ]
  },
  {
   "cell_type": "code",
   "execution_count": null,
   "id": "ba74b764",
   "metadata": {},
   "outputs": [],
   "source": [
    "print(listings_for_sale['price'].str.contains(\n",
    "    'POA', case=False, na=False).sum())"
   ]
  },
  {
   "cell_type": "code",
   "execution_count": null,
   "id": "b6abbca8",
   "metadata": {},
   "outputs": [],
   "source": [
    "\"\"\"_summary_\n",
    "# Remove rows where 'price' contains 'POA' (case-insensitive)\n",
    "listings_for_sale = listings_for_sale[~listings_for_sale['price'].astype(\n",
    "    str).str.contains('POA', case=False, na=False)]\n",
    "rental_listings.reset_index(drop=True, inplace=True)\n",
    "    \"\"\""
   ]
  },
  {
   "cell_type": "code",
   "execution_count": 30,
   "id": "24bc0ec6",
   "metadata": {},
   "outputs": [
    {
     "data": {
      "text/html": [
       "<div>\n",
       "<style scoped>\n",
       "    .dataframe tbody tr th:only-of-type {\n",
       "        vertical-align: middle;\n",
       "    }\n",
       "\n",
       "    .dataframe tbody tr th {\n",
       "        vertical-align: top;\n",
       "    }\n",
       "\n",
       "    .dataframe thead th {\n",
       "        text-align: right;\n",
       "    }\n",
       "</style>\n",
       "<table border=\"1\" class=\"dataframe\">\n",
       "  <thead>\n",
       "    <tr style=\"text-align: right;\">\n",
       "      <th></th>\n",
       "      <th>price</th>\n",
       "      <th>location</th>\n",
       "      <th>property_title</th>\n",
       "      <th>property_description</th>\n",
       "      <th>property_features</th>\n",
       "      <th>listing_slug</th>\n",
       "      <th>price_cleaned</th>\n",
       "      <th>price (in rands)</th>\n",
       "    </tr>\n",
       "  </thead>\n",
       "  <tbody>\n",
       "    <tr>\n",
       "      <th>0</th>\n",
       "      <td>R 690 000Bond CostsBond CalculatorPurchase Pri...</td>\n",
       "      <td>Bhisho, Bhisho Central</td>\n",
       "      <td>3 Bedroom House for Sale in Bhisho Central</td>\n",
       "      <td>RE/MAX Border is proud to present this family ...</td>\n",
       "      <td>Property OverviewListing Number115871179Type o...</td>\n",
       "      <td>3-bedroom-house-for-sale-in-bhisho-central-115...</td>\n",
       "      <td>R690000</td>\n",
       "      <td>690000</td>\n",
       "    </tr>\n",
       "    <tr>\n",
       "      <th>1</th>\n",
       "      <td>R 700 000Bond CostsBond CalculatorPurchase Pri...</td>\n",
       "      <td>Bhisho, Tyu Tyu North</td>\n",
       "      <td>3 Bedroom House for Sale in Tyu Tyu North</td>\n",
       "      <td>This spacious property offers a well-designed ...</td>\n",
       "      <td>Property OverviewListing Number115765257Type o...</td>\n",
       "      <td>3-bedroom-house-for-sale-in-tyu-tyu-north-1157...</td>\n",
       "      <td>R700000</td>\n",
       "      <td>700000</td>\n",
       "    </tr>\n",
       "    <tr>\n",
       "      <th>2</th>\n",
       "      <td>R 749 000Bond CostsBond CalculatorPurchase Pri...</td>\n",
       "      <td>Bhisho, Tyu Tyu North</td>\n",
       "      <td>3 Bedroom House for Sale in Tyu Tyu North</td>\n",
       "      <td>Sizwe Mlungwana Properties is excited to prese...</td>\n",
       "      <td>Property OverviewListing Number115864665Type o...</td>\n",
       "      <td>3-bedroom-house-for-sale-in-tyu-tyu-north-1158...</td>\n",
       "      <td>R749000</td>\n",
       "      <td>749000</td>\n",
       "    </tr>\n",
       "    <tr>\n",
       "      <th>3</th>\n",
       "      <td>R 799 000Bond CostsBond CalculatorPurchase Pri...</td>\n",
       "      <td>Bhisho, Bhisho Central</td>\n",
       "      <td>3 Bedroom House for Sale in Bhisho Central</td>\n",
       "      <td>Discover this well located 3 bedroom home.Perf...</td>\n",
       "      <td>Property OverviewListing Number115811196Type o...</td>\n",
       "      <td>3-bedroom-house-for-sale-in-bhisho-central-115...</td>\n",
       "      <td>R799000</td>\n",
       "      <td>799000</td>\n",
       "    </tr>\n",
       "    <tr>\n",
       "      <th>4</th>\n",
       "      <td>R 695 000Bond CostsBond CalculatorPurchase Pri...</td>\n",
       "      <td>Bhisho, Tyu Tyu</td>\n",
       "      <td>3 Bedroom House for Sale in Tyu Tyu</td>\n",
       "      <td>Presenting this beautiful house to the market....</td>\n",
       "      <td>Property OverviewListing Number115837796Type o...</td>\n",
       "      <td>3-bedroom-house-for-sale-in-tyu-tyu-115837796</td>\n",
       "      <td>R695000</td>\n",
       "      <td>695000</td>\n",
       "    </tr>\n",
       "  </tbody>\n",
       "</table>\n",
       "</div>"
      ],
      "text/plain": [
       "                                               price                location  \\\n",
       "0  R 690 000Bond CostsBond CalculatorPurchase Pri...  Bhisho, Bhisho Central   \n",
       "1  R 700 000Bond CostsBond CalculatorPurchase Pri...   Bhisho, Tyu Tyu North   \n",
       "2  R 749 000Bond CostsBond CalculatorPurchase Pri...   Bhisho, Tyu Tyu North   \n",
       "3  R 799 000Bond CostsBond CalculatorPurchase Pri...  Bhisho, Bhisho Central   \n",
       "4  R 695 000Bond CostsBond CalculatorPurchase Pri...         Bhisho, Tyu Tyu   \n",
       "\n",
       "                               property_title  \\\n",
       "0  3 Bedroom House for Sale in Bhisho Central   \n",
       "1   3 Bedroom House for Sale in Tyu Tyu North   \n",
       "2   3 Bedroom House for Sale in Tyu Tyu North   \n",
       "3  3 Bedroom House for Sale in Bhisho Central   \n",
       "4         3 Bedroom House for Sale in Tyu Tyu   \n",
       "\n",
       "                                property_description  \\\n",
       "0  RE/MAX Border is proud to present this family ...   \n",
       "1  This spacious property offers a well-designed ...   \n",
       "2  Sizwe Mlungwana Properties is excited to prese...   \n",
       "3  Discover this well located 3 bedroom home.Perf...   \n",
       "4  Presenting this beautiful house to the market....   \n",
       "\n",
       "                                   property_features  \\\n",
       "0  Property OverviewListing Number115871179Type o...   \n",
       "1  Property OverviewListing Number115765257Type o...   \n",
       "2  Property OverviewListing Number115864665Type o...   \n",
       "3  Property OverviewListing Number115811196Type o...   \n",
       "4  Property OverviewListing Number115837796Type o...   \n",
       "\n",
       "                                        listing_slug price_cleaned  \\\n",
       "0  3-bedroom-house-for-sale-in-bhisho-central-115...       R690000   \n",
       "1  3-bedroom-house-for-sale-in-tyu-tyu-north-1157...       R700000   \n",
       "2  3-bedroom-house-for-sale-in-tyu-tyu-north-1158...       R749000   \n",
       "3  3-bedroom-house-for-sale-in-bhisho-central-115...       R799000   \n",
       "4      3-bedroom-house-for-sale-in-tyu-tyu-115837796       R695000   \n",
       "\n",
       "  price (in rands)  \n",
       "0           690000  \n",
       "1           700000  \n",
       "2           749000  \n",
       "3           799000  \n",
       "4           695000  "
      ]
     },
     "execution_count": 30,
     "metadata": {},
     "output_type": "execute_result"
    }
   ],
   "source": [
    "listings_for_sale['price_cleaned'] = listings_for_sale['price'].str.extract(\n",
    "    r'(R\\s?\\d[\\d\\s]*)')\n",
    "\n",
    "listings_for_sale['price_cleaned'] = listings_for_sale['price_cleaned'].str.replace(\n",
    "    r'\\s+', '', regex=True)\n",
    "\n",
    "listings_for_sale['price (in rands)'] = listings_for_sale['price_cleaned'].str.extract(\n",
    "    r'R?(\\d+)', expand=False)\n",
    "\n",
    "# Print out the first five rows to see the results\n",
    "listings_for_sale.head()"
   ]
  },
  {
   "cell_type": "code",
   "execution_count": 31,
   "id": "cd30906a",
   "metadata": {},
   "outputs": [
    {
     "data": {
      "text/html": [
       "<div>\n",
       "<style scoped>\n",
       "    .dataframe tbody tr th:only-of-type {\n",
       "        vertical-align: middle;\n",
       "    }\n",
       "\n",
       "    .dataframe tbody tr th {\n",
       "        vertical-align: top;\n",
       "    }\n",
       "\n",
       "    .dataframe thead th {\n",
       "        text-align: right;\n",
       "    }\n",
       "</style>\n",
       "<table border=\"1\" class=\"dataframe\">\n",
       "  <thead>\n",
       "    <tr style=\"text-align: right;\">\n",
       "      <th></th>\n",
       "      <th>price</th>\n",
       "      <th>location</th>\n",
       "      <th>property_title</th>\n",
       "      <th>property_description</th>\n",
       "      <th>property_features</th>\n",
       "      <th>listing_slug</th>\n",
       "      <th>price_cleaned</th>\n",
       "      <th>price (in rands)</th>\n",
       "      <th>suburb</th>\n",
       "    </tr>\n",
       "  </thead>\n",
       "  <tbody>\n",
       "    <tr>\n",
       "      <th>0</th>\n",
       "      <td>R 690 000Bond CostsBond CalculatorPurchase Pri...</td>\n",
       "      <td>Bhisho, Bhisho Central</td>\n",
       "      <td>3 Bedroom House for Sale in Bhisho Central</td>\n",
       "      <td>RE/MAX Border is proud to present this family ...</td>\n",
       "      <td>Property OverviewListing Number115871179Type o...</td>\n",
       "      <td>3-bedroom-house-for-sale-in-bhisho-central-115...</td>\n",
       "      <td>R690000</td>\n",
       "      <td>690000</td>\n",
       "      <td>Bhisho Central</td>\n",
       "    </tr>\n",
       "    <tr>\n",
       "      <th>1</th>\n",
       "      <td>R 700 000Bond CostsBond CalculatorPurchase Pri...</td>\n",
       "      <td>Bhisho, Tyu Tyu North</td>\n",
       "      <td>3 Bedroom House for Sale in Tyu Tyu North</td>\n",
       "      <td>This spacious property offers a well-designed ...</td>\n",
       "      <td>Property OverviewListing Number115765257Type o...</td>\n",
       "      <td>3-bedroom-house-for-sale-in-tyu-tyu-north-1157...</td>\n",
       "      <td>R700000</td>\n",
       "      <td>700000</td>\n",
       "      <td>Tyu Tyu North</td>\n",
       "    </tr>\n",
       "    <tr>\n",
       "      <th>2</th>\n",
       "      <td>R 749 000Bond CostsBond CalculatorPurchase Pri...</td>\n",
       "      <td>Bhisho, Tyu Tyu North</td>\n",
       "      <td>3 Bedroom House for Sale in Tyu Tyu North</td>\n",
       "      <td>Sizwe Mlungwana Properties is excited to prese...</td>\n",
       "      <td>Property OverviewListing Number115864665Type o...</td>\n",
       "      <td>3-bedroom-house-for-sale-in-tyu-tyu-north-1158...</td>\n",
       "      <td>R749000</td>\n",
       "      <td>749000</td>\n",
       "      <td>Tyu Tyu North</td>\n",
       "    </tr>\n",
       "    <tr>\n",
       "      <th>3</th>\n",
       "      <td>R 799 000Bond CostsBond CalculatorPurchase Pri...</td>\n",
       "      <td>Bhisho, Bhisho Central</td>\n",
       "      <td>3 Bedroom House for Sale in Bhisho Central</td>\n",
       "      <td>Discover this well located 3 bedroom home.Perf...</td>\n",
       "      <td>Property OverviewListing Number115811196Type o...</td>\n",
       "      <td>3-bedroom-house-for-sale-in-bhisho-central-115...</td>\n",
       "      <td>R799000</td>\n",
       "      <td>799000</td>\n",
       "      <td>Bhisho Central</td>\n",
       "    </tr>\n",
       "    <tr>\n",
       "      <th>4</th>\n",
       "      <td>R 695 000Bond CostsBond CalculatorPurchase Pri...</td>\n",
       "      <td>Bhisho, Tyu Tyu</td>\n",
       "      <td>3 Bedroom House for Sale in Tyu Tyu</td>\n",
       "      <td>Presenting this beautiful house to the market....</td>\n",
       "      <td>Property OverviewListing Number115837796Type o...</td>\n",
       "      <td>3-bedroom-house-for-sale-in-tyu-tyu-115837796</td>\n",
       "      <td>R695000</td>\n",
       "      <td>695000</td>\n",
       "      <td>Tyu Tyu</td>\n",
       "    </tr>\n",
       "  </tbody>\n",
       "</table>\n",
       "</div>"
      ],
      "text/plain": [
       "                                               price                location  \\\n",
       "0  R 690 000Bond CostsBond CalculatorPurchase Pri...  Bhisho, Bhisho Central   \n",
       "1  R 700 000Bond CostsBond CalculatorPurchase Pri...   Bhisho, Tyu Tyu North   \n",
       "2  R 749 000Bond CostsBond CalculatorPurchase Pri...   Bhisho, Tyu Tyu North   \n",
       "3  R 799 000Bond CostsBond CalculatorPurchase Pri...  Bhisho, Bhisho Central   \n",
       "4  R 695 000Bond CostsBond CalculatorPurchase Pri...         Bhisho, Tyu Tyu   \n",
       "\n",
       "                               property_title  \\\n",
       "0  3 Bedroom House for Sale in Bhisho Central   \n",
       "1   3 Bedroom House for Sale in Tyu Tyu North   \n",
       "2   3 Bedroom House for Sale in Tyu Tyu North   \n",
       "3  3 Bedroom House for Sale in Bhisho Central   \n",
       "4         3 Bedroom House for Sale in Tyu Tyu   \n",
       "\n",
       "                                property_description  \\\n",
       "0  RE/MAX Border is proud to present this family ...   \n",
       "1  This spacious property offers a well-designed ...   \n",
       "2  Sizwe Mlungwana Properties is excited to prese...   \n",
       "3  Discover this well located 3 bedroom home.Perf...   \n",
       "4  Presenting this beautiful house to the market....   \n",
       "\n",
       "                                   property_features  \\\n",
       "0  Property OverviewListing Number115871179Type o...   \n",
       "1  Property OverviewListing Number115765257Type o...   \n",
       "2  Property OverviewListing Number115864665Type o...   \n",
       "3  Property OverviewListing Number115811196Type o...   \n",
       "4  Property OverviewListing Number115837796Type o...   \n",
       "\n",
       "                                        listing_slug price_cleaned  \\\n",
       "0  3-bedroom-house-for-sale-in-bhisho-central-115...       R690000   \n",
       "1  3-bedroom-house-for-sale-in-tyu-tyu-north-1157...       R700000   \n",
       "2  3-bedroom-house-for-sale-in-tyu-tyu-north-1158...       R749000   \n",
       "3  3-bedroom-house-for-sale-in-bhisho-central-115...       R799000   \n",
       "4      3-bedroom-house-for-sale-in-tyu-tyu-115837796       R695000   \n",
       "\n",
       "  price (in rands)          suburb  \n",
       "0           690000  Bhisho Central  \n",
       "1           700000   Tyu Tyu North  \n",
       "2           749000   Tyu Tyu North  \n",
       "3           799000  Bhisho Central  \n",
       "4           695000         Tyu Tyu  "
      ]
     },
     "execution_count": 31,
     "metadata": {},
     "output_type": "execute_result"
    }
   ],
   "source": [
    "# Extract the location from the listing_slug column\n",
    "listings_for_sale['suburb'] = listings_for_sale['property_title'].str.extract(\n",
    "    r'for Sale in (.+)', expand=False)\n",
    "\n",
    "# Remove the trailing numbers from the suburb column\n",
    "listings_for_sale['suburb'] = (\n",
    "    listings_for_sale['suburb'].str.replace(r'-\\d+$', '', regex=True).str.strip())\n",
    "\n",
    "# Print the first five rows of the table to see the results\n",
    "listings_for_sale.head()"
   ]
  },
  {
   "cell_type": "code",
   "execution_count": null,
   "id": "fe5ca45c",
   "metadata": {},
   "outputs": [],
   "source": [
    "# Apply the extract_city_from_location function to extract the function\n",
    "listings_for_sale['city'] = listings_for_sale['location'].apply(\n",
    "    lambda loc: extract_city_from_location(loc, city_list))"
   ]
  },
  {
   "cell_type": "code",
   "execution_count": 33,
   "id": "9787f0ef",
   "metadata": {},
   "outputs": [
    {
     "data": {
      "text/plain": [
       "np.int64(6604)"
      ]
     },
     "execution_count": 33,
     "metadata": {},
     "output_type": "execute_result"
    }
   ],
   "source": [
    "listings_for_sale['city'].isnull().sum()"
   ]
  },
  {
   "cell_type": "code",
   "execution_count": 34,
   "id": "20ab33b1",
   "metadata": {},
   "outputs": [],
   "source": [
    "# Create a mapping of suburb to kmown cities\n",
    "suburb_to_city_map = listings_for_sale[listings_for_sale['city'].notna()].drop_duplicates(\n",
    "    subset=['suburb', 'city']).set_index('suburb')['city'].to_dict()\n",
    "\n",
    "# Fill missing city values based on the suburb\n",
    "listings_for_sale['city'] = listings_for_sale.apply(lambda row: suburb_to_city_map.get(\n",
    "    row['suburb'], row['city']) if pd.isna(row['city']) else row['city'], axis=1)"
   ]
  },
  {
   "cell_type": "code",
   "execution_count": null,
   "id": "ea95b608",
   "metadata": {},
   "outputs": [
    {
     "data": {
      "text/plain": [
       "city\n",
       "Johannesburg        12561\n",
       "Bloemfontein         6808\n",
       "Cape Town            5615\n",
       "Polokwane            4257\n",
       "Pietermaritzburg     3426\n",
       "Nelspruit            2504\n",
       "Kimberley            2447\n",
       "Mafikeng              165\n",
       "Bhisho                 88\n",
       "Name: count, dtype: int64"
      ]
     },
     "execution_count": 35,
     "metadata": {},
     "output_type": "execute_result"
    }
   ],
   "source": [
    "# See the number of unique values in the city column\n",
    "listings_for_sale['city'].value_counts()"
   ]
  },
  {
   "cell_type": "code",
   "execution_count": 36,
   "id": "d3dfdb08",
   "metadata": {},
   "outputs": [
    {
     "data": {
      "text/plain": [
       "price                      0\n",
       "location                6601\n",
       "property_title             0\n",
       "property_description       1\n",
       "property_features          0\n",
       "listing_slug               0\n",
       "price_cleaned            542\n",
       "price (in rands)         542\n",
       "suburb                     0\n",
       "city                      59\n",
       "dtype: int64"
      ]
     },
     "execution_count": 36,
     "metadata": {},
     "output_type": "execute_result"
    }
   ],
   "source": [
    "listings_for_sale.isnull().sum()"
   ]
  },
  {
   "cell_type": "code",
   "execution_count": null,
   "id": "90de8106",
   "metadata": {},
   "outputs": [],
   "source": [
    "listings_for_sale[listings_for_sale]"
   ]
  },
  {
   "cell_type": "code",
   "execution_count": 38,
   "id": "70d9e04d",
   "metadata": {},
   "outputs": [],
   "source": [
    "# Drop the rows where the city_column is empty\n",
    "listings_for_sale = listings_for_sale.dropna(subset=['city'])"
   ]
  },
  {
   "cell_type": "code",
   "execution_count": 39,
   "id": "86814373",
   "metadata": {},
   "outputs": [
    {
     "data": {
      "text/plain": [
       "price                      0\n",
       "location                6542\n",
       "property_title             0\n",
       "property_description       1\n",
       "property_features          0\n",
       "listing_slug               0\n",
       "price_cleaned            540\n",
       "price (in rands)         540\n",
       "suburb                     0\n",
       "city                       0\n",
       "dtype: int64"
      ]
     },
     "execution_count": 39,
     "metadata": {},
     "output_type": "execute_result"
    }
   ],
   "source": [
    "listings_for_sale.isnull().sum()"
   ]
  },
  {
   "cell_type": "code",
   "execution_count": null,
   "id": "eab559e8",
   "metadata": {},
   "outputs": [],
   "source": [
    "# Merge to get the matching province for the listings\n",
    "listings_for_sale = listings_for_sale.merge(city_province, on='city', how='left')"
   ]
  },
  {
   "cell_type": "code",
   "execution_count": 41,
   "id": "80bcfa0f",
   "metadata": {},
   "outputs": [
    {
     "data": {
      "text/plain": [
       "price                      0\n",
       "location                6542\n",
       "property_title             0\n",
       "property_description       1\n",
       "property_features          0\n",
       "listing_slug               0\n",
       "price_cleaned            540\n",
       "price (in rands)         540\n",
       "suburb                     0\n",
       "city                       0\n",
       "province                   0\n",
       "dtype: int64"
      ]
     },
     "execution_count": 41,
     "metadata": {},
     "output_type": "execute_result"
    }
   ],
   "source": [
    "listings_for_sale.isnull().sum()"
   ]
  },
  {
   "cell_type": "code",
   "execution_count": 47,
   "id": "1b8f21ef",
   "metadata": {},
   "outputs": [
    {
     "name": "stdout",
     "output_type": "stream",
     "text": [
      "There are 540 listings with 'POA' in the price column.\n"
     ]
    }
   ],
   "source": [
    "poa_mask = listings_for_sale['price'].astype(\n",
    "    str).str.contains(\"POA\", case=False, na=False)\n",
    "num_poa = poa_mask.sum()\n",
    "\n",
    "print(f\"There are {num_poa} listings with 'POA' in the price column.\")"
   ]
  }
 ],
 "metadata": {
  "kernelspec": {
   "display_name": ".venv",
   "language": "python",
   "name": "python3"
  },
  "language_info": {
   "codemirror_mode": {
    "name": "ipython",
    "version": 3
   },
   "file_extension": ".py",
   "mimetype": "text/x-python",
   "name": "python",
   "nbconvert_exporter": "python",
   "pygments_lexer": "ipython3",
   "version": "3.13.1"
  }
 },
 "nbformat": 4,
 "nbformat_minor": 5
}

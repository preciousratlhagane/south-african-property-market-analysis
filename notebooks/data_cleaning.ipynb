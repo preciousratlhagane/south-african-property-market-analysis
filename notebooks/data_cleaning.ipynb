{
 "cells": [
  {
   "cell_type": "markdown",
   "id": "1feaf872",
   "metadata": {},
   "source": [
    "# <center> 🧽 Data Cleaning </center>"
   ]
  },
  {
   "cell_type": "markdown",
   "id": "42a4d6bf",
   "metadata": {},
   "source": [
    "## Table of Contents\n",
    "\n",
    "- [1. Introduction](#1-introduction)\n",
    "- [2. Loading Data](#2-loading-data)"
   ]
  },
  {
   "cell_type": "markdown",
   "id": "acdffd07",
   "metadata": {},
   "source": [
    "## 1. Introduction\n",
    "[Back to Table of Contents](#table-of-contents)\n",
    "\n",
    "---\n",
    "\n",
    "| ⚡ Description: Introducing the project ⚡ |\n",
    "| :--------------------------- |\n",
    "\n",
    "---"
   ]
  },
  {
   "cell_type": "markdown",
   "id": "bfc87451",
   "metadata": {},
   "source": [
    "<a id=\"two\"></a>\n",
    "## 2. Loading Data\n",
    "<a href=#cont>Back to Table of Contents</a>\n",
    "\n",
    "---\n",
    "    \n",
    "| ⚡ Description: Loading the data in our environment ⚡ |\n",
    "| :--------------------------- |\n",
    "\n",
    "---"
   ]
  },
  {
   "cell_type": "markdown",
   "id": "4c737deb",
   "metadata": {},
   "source": [
    "### Import packages"
   ]
  },
  {
   "cell_type": "code",
   "execution_count": null,
   "id": "a78b697d",
   "metadata": {},
   "outputs": [],
   "source": [
    "# Import packages\n",
    "import re\n",
    "\n",
    "import numpy as np\n",
    "import pandas as pd"
   ]
  },
  {
   "cell_type": "markdown",
   "id": "9d14b166",
   "metadata": {},
   "source": [
    "### Rental Properties"
   ]
  },
  {
   "cell_type": "code",
   "execution_count": null,
   "id": "4ee1b231",
   "metadata": {},
   "outputs": [],
   "source": [
    "# Load the rental listings dataset\n",
    "rental_listings = pd.read_csv(\"../data/raw/rental_listings_for_capital_cities.csv\")\n",
    "\n",
    "# Display the first few rows of the dataset and it's shape\n",
    "display(\"Rentals\", rental_listings.head(), rental_listings.shape)"
   ]
  },
  {
   "cell_type": "code",
   "execution_count": null,
   "id": "01de9d3c",
   "metadata": {},
   "outputs": [],
   "source": [
    "# Print a summary of the dataset\n",
    "rental_listings.info()"
   ]
  },
  {
   "cell_type": "code",
   "execution_count": null,
   "id": "564574cb",
   "metadata": {},
   "outputs": [],
   "source": [
    "# Print the total number of null values in the dataset\n",
    "rental_null_values = rental_listings.isnull().sum().sum()\n",
    "print(f\"There are {rental_null_values} null values in the rental dataset\")"
   ]
  },
  {
   "cell_type": "code",
   "execution_count": null,
   "id": "d037535a",
   "metadata": {},
   "outputs": [],
   "source": [
    "# Print the number of null values in each column\n",
    "rental_listings.isnull().sum()"
   ]
  },
  {
   "cell_type": "code",
   "execution_count": null,
   "id": "1fadd376",
   "metadata": {},
   "outputs": [],
   "source": [
    "rental_listings[rental_listings.isnull().sum(axis=1) >= 4]"
   ]
  },
  {
   "cell_type": "code",
   "execution_count": null,
   "id": "f783b3a2",
   "metadata": {},
   "outputs": [],
   "source": [
    "rental_listings.drop(\n",
    "    rental_listings[rental_listings.isnull().sum(axis=1) >= 2].index, inplace=True)"
   ]
  },
  {
   "cell_type": "code",
   "execution_count": null,
   "id": "ea6279e5",
   "metadata": {},
   "outputs": [],
   "source": [
    "# Get the total number of duplicate rows in the dataset\n",
    "rental_duplicates = rental_listings[rental_listings.duplicated()]\n",
    "num_rental_duplicates = len(rental_duplicates)\n",
    "print(f\"There are {num_rental_duplicates} duplicates in the rental dataset \")"
   ]
  },
  {
   "cell_type": "code",
   "execution_count": null,
   "id": "e0c43e82",
   "metadata": {},
   "outputs": [],
   "source": [
    "# Drop duplicate rows and keep the first occurrence\n",
    "rental_listings = rental_listings.drop_duplicates().reset_index(drop=True)"
   ]
  },
  {
   "cell_type": "code",
   "execution_count": null,
   "id": "51e3df5e",
   "metadata": {},
   "outputs": [],
   "source": [
    "# Remove any information following the text 'Points of Interest' in the 'property_features' column\n",
    "rental_listings[\"property_features\"] = rental_listings[\"property_features\"].str.replace(\n",
    "    r'Points of Interest.*', '', regex=True\n",
    ")\n",
    "\n",
    "rental_listings[\"property_features\"] = rental_listings[\"property_features\"].str.strip()"
   ]
  },
  {
   "cell_type": "code",
   "execution_count": null,
   "id": "5d10715f",
   "metadata": {},
   "outputs": [],
   "source": [
    "patterns = {\n",
    "    'Listing Number': r'Listing Number(\\d+)',\n",
    "    'Type of Property': r'Type of Property\\s*(House|Apartment / Flat|Townhouse|Commercial|Industrial|Vacant Land|Farm)',\n",
    "    #'Description': r'Description([A-Za-z]+)',\n",
    "    #'Lifestyle': r'Lifestyle([A-Za-z]+)',\n",
    "    #'Occupation Date': r'Occupation Date([\\d\\w\\s]+?)Deposit Requirements',\n",
    "    #'Deposit Amount': r'Deposit Amount:\\s*R\\s?([\\d,]+)',\n",
    "    'Pets Allowed': r'Pets Allowed(Yes|No)',\n",
    "    'Furnished': r'Furnished(Yes|No)',\n",
    "    'Bedrooms': r'Bedrooms?\\s*(\\d+)',\n",
    "    'Bathrooms': r'Bathrooms?\\s*(\\d+)',\n",
    "    'Kitchen': r'Kitchens?\\s*(\\d+)',\n",
    "    'Lounge': r'Lounges?\\s*(\\d+)',\n",
    "    'Dining Room': r'Dining Room(\\d+)',\n",
    "    'Parking': r'Parking(\\d+)',\n",
    "    #'Special Features': r'Special Features(\\d+)',\n",
    "    #'Backup Water': r'Backup Water(Yes|No)',\n",
    "    'Erf Size (m²)': r'Erf Size\\s*(\\d+)\\s*m²',\n",
    "    'Floor Area (m²)': r'Floor Area\\s*(\\d+)\\s*m²',\n",
    "    'Garden': r'Gardens?\\s*(\\d+)',\n",
    "    'Pool': r'Pools?\\s*(\\d+)',\n",
    "    'Garage': r'Garages?\\s*(\\d+)'\n",
    "}\n",
    "\n",
    "\n",
    "\n",
    "# Function to extract features from text\n",
    "def extract_features(text):\n",
    "    return {\n",
    "        field: (match := re.search(pattern, text)\n",
    "                ) and match.group(1).strip() or None for field, pattern in patterns.items()\n",
    "    }\n",
    "    \n",
    "# Apply extraction row-wise\n",
    "extracted_df = rental_listings['property_features'].apply(extract_features).apply(pd.Series)\n",
    "\n",
    "# Combine original df with the extracted columns\n",
    "results_df = pd.concat([rental_listings, extracted_df], axis=1)\n",
    "\n",
    "# View result\n",
    "print(results_df)"
   ]
  },
  {
   "cell_type": "code",
   "execution_count": null,
   "id": "6c804854",
   "metadata": {},
   "outputs": [],
   "source": [
    "def extract_bedrooms_from_property_title(title):\n",
    "    if pd.isna(title):\n",
    "        return None\n",
    "    match = re.search(r'(\\d+)[-\\s]?bedroom', title.lower())\n",
    "    return int(match.group(1)) if match else None\n",
    "\n",
    "results_df['Bedrooms'] = results_df['Bedrooms'].fillna(\n",
    "    results_df.apply(lambda row: extract_bedrooms_from_property_title(row['property_title']) if pd.isna(row['Bedrooms']) else row['Bedrooms'], axis=1))\n",
    "\n",
    "# Optional: convert to integer if needed\n",
    "results_df['Bedrooms'] = pd.to_numeric(results_df['Bedrooms'], errors='coerce').astype('Int64')"
   ]
  },
  {
   "cell_type": "code",
   "execution_count": null,
   "id": "855df346",
   "metadata": {},
   "outputs": [],
   "source": [
    "results_df[\"Bedrooms\"].isnull().sum()"
   ]
  },
  {
   "cell_type": "code",
   "execution_count": null,
   "id": "fd3bd830",
   "metadata": {},
   "outputs": [],
   "source": [
    "# Normalize spaces\n",
    "results_df['price'] = results_df['price'].str.replace(\n",
    "    r'\\s+', '', regex=True)\n",
    "\n",
    "# Extract price amount\n",
    "results_df['price (in rands)'] = results_df['price'].str.extract(\n",
    "    r'R?(\\d+)', expand=False)\n",
    "results_df['price (in rands)'] = pd.to_numeric(results_df['price (in rands)'], errors='coerce')\n",
    "\n",
    "# Now safely extract price type from the actual price string\n",
    "results_df['price_type'] = results_df['price'].str.extract(\n",
    "    r'(PerMonth|m2|m²|Perm²|PerDay)', expand=False\n",
    ")\n",
    "\n",
    "# Standardize price type to make it more readable\n",
    "results_df['price_type'] = results_df['price_type'].replace({\n",
    "    'PerMonth': 'Per Month',\n",
    "    'm2': 'Per m²',\n",
    "    'Perm²': 'Per m²',\n",
    "    'PerDay': 'Per Day'\n",
    "})\n",
    "\n",
    "# Print out the first five rows of the table to see the results\n",
    "results_df.head()"
   ]
  },
  {
   "cell_type": "code",
   "execution_count": null,
   "id": "73ca54fa",
   "metadata": {},
   "outputs": [],
   "source": [
    "# Get the number of rows in the dataset in the 'price' column that are equal to 'POA'\n",
    "poa_mask = results_df['price'].astype(\n",
    "    str).str.contains(\"POA\", case=False, na=False)\n",
    "num_poa = poa_mask.sum()\n",
    "\n",
    "# Print the total number of rows\n",
    "print(f\"There are {num_poa} listings with 'POA' in the price column.\")"
   ]
  },
  {
   "cell_type": "code",
   "execution_count": null,
   "id": "72cf98a1",
   "metadata": {},
   "outputs": [],
   "source": [
    "poa_rows = results_df[results_df['price'].astype(\n",
    "    str).str.lower() == 'POA']\n",
    "print(poa_rows)"
   ]
  },
  {
   "cell_type": "code",
   "execution_count": null,
   "id": "e53c1832",
   "metadata": {},
   "outputs": [],
   "source": [
    "results_df['price_type'].value_counts()"
   ]
  },
  {
   "cell_type": "code",
   "execution_count": null,
   "id": "4057939d",
   "metadata": {},
   "outputs": [],
   "source": [
    "# Extract the location from the property_title column\n",
    "rental_listings['suburb'] = rental_listings['property_title'].str.extract(\n",
    "    r'to Rent in (.+)', expand=False)\n",
    "\n",
    "# Remove the trailing numbers from the suburb column\n",
    "rental_listings['suburb'] = (\n",
    "    rental_listings['suburb'].str.replace(r'-\\d+$', '', regex=True).str.strip())\n",
    "\n",
    "# Print the first five rows of the table to see the results\n",
    "rental_listings.head()"
   ]
  },
  {
   "cell_type": "code",
   "execution_count": null,
   "id": "ae200795",
   "metadata": {},
   "outputs": [],
   "source": [
    "rental_listings['suburb'].isnull().sum()"
   ]
  },
  {
   "cell_type": "code",
   "execution_count": null,
   "id": "46e5b844",
   "metadata": {},
   "outputs": [],
   "source": [
    "city_province = pd.read_csv(\"../data/raw/south_africa_provinces_capitals.csv\")\n",
    "city_list = city_province['city'].dropna().str.strip().unique()"
   ]
  },
  {
   "cell_type": "code",
   "execution_count": null,
   "id": "1fd25e90",
   "metadata": {},
   "outputs": [],
   "source": [
    "def extract_city_from_location(location, city_list):\n",
    "    if pd.isna(location):\n",
    "        return None\n",
    "    \n",
    "    \n",
    "    location_lower = location.lower()\n",
    "    for city in city_list:\n",
    "        if city.lower() in location_lower:\n",
    "            return city\n",
    "    return None"
   ]
  },
  {
   "cell_type": "code",
   "execution_count": null,
   "id": "40cea20f",
   "metadata": {},
   "outputs": [],
   "source": [
    "# Apply the extract_city_from_location function to extract the city\n",
    "rental_listings['city'] = rental_listings['location'].apply(\n",
    "    lambda loc: extract_city_from_location(loc, city_list))"
   ]
  },
  {
   "cell_type": "code",
   "execution_count": null,
   "id": "64867eae",
   "metadata": {},
   "outputs": [],
   "source": [
    "rental_listings['city'].value_counts()"
   ]
  },
  {
   "cell_type": "code",
   "execution_count": null,
   "id": "1cae26a8",
   "metadata": {},
   "outputs": [],
   "source": [
    "rental_listings['city'].isnull().sum()"
   ]
  },
  {
   "cell_type": "code",
   "execution_count": null,
   "id": "5d587f6e",
   "metadata": {},
   "outputs": [],
   "source": [
    "# Create a mapping of suburb to kmown cities\n",
    "suburb_to_city_map = rental_listings[rental_listings['city'].notna()].drop_duplicates(subset=['suburb', 'city']).set_index('suburb')['city'].to_dict()\n",
    "\n",
    "# Fill missing city values based on the suburb\n",
    "rental_listings['city'] = rental_listings.apply(lambda row: suburb_to_city_map.get(row['suburb'], row['city']) if pd.isna(row['city']) else row['city'], axis= 1)   "
   ]
  },
  {
   "cell_type": "code",
   "execution_count": null,
   "id": "da3632d2",
   "metadata": {},
   "outputs": [],
   "source": [
    "rental_listings['city'].isnull().sum()"
   ]
  },
  {
   "cell_type": "code",
   "execution_count": null,
   "id": "aac4dd4b",
   "metadata": {},
   "outputs": [],
   "source": [
    "# Drop the city rows with null values\n",
    "rental_listings = rental_listings.dropna(subset=['city'])"
   ]
  },
  {
   "cell_type": "code",
   "execution_count": null,
   "id": "1fe2bdb3",
   "metadata": {},
   "outputs": [],
   "source": [
    "# Merge the city with its matching province\n",
    "rental_listings = rental_listings.merge(city_province, on='city', how='left')"
   ]
  },
  {
   "cell_type": "code",
   "execution_count": null,
   "id": "7baedd0a",
   "metadata": {},
   "outputs": [],
   "source": [
    "rental_listings.isnull().sum()"
   ]
  },
  {
   "cell_type": "code",
   "execution_count": null,
   "id": "783c3211",
   "metadata": {},
   "outputs": [],
   "source": [
    "# Suburbs \n",
    "rental_listings['suburb'].value_counts()"
   ]
  },
  {
   "cell_type": "code",
   "execution_count": null,
   "id": "1f8b7697",
   "metadata": {},
   "outputs": [],
   "source": [
    "rental_listings.info()"
   ]
  },
  {
   "cell_type": "code",
   "execution_count": null,
   "id": "c593f1a3",
   "metadata": {},
   "outputs": [],
   "source": [
    "rental_listings.head(10)"
   ]
  },
  {
   "cell_type": "code",
   "execution_count": null,
   "id": "a67be39c",
   "metadata": {},
   "outputs": [],
   "source": [
    "results_df['Erf Size (m²)'].value_counts()"
   ]
  },
  {
   "cell_type": "code",
   "execution_count": null,
   "id": "91b43448",
   "metadata": {},
   "outputs": [],
   "source": [
    "results_df.head(20)"
   ]
  },
  {
   "cell_type": "code",
   "execution_count": null,
   "id": "ceaa5683",
   "metadata": {},
   "outputs": [],
   "source": [
    "results_df['Parking'].value_counts()"
   ]
  },
  {
   "cell_type": "code",
   "execution_count": null,
   "id": "4d37d767",
   "metadata": {},
   "outputs": [],
   "source": [
    "# Set display options\n",
    "pd.set_option('display.max_columns', None)        # Show all columns\n",
    "# Show all rows (if you're looking at multiple)\n",
    "pd.set_option('display.max_rows', None)\n",
    "# Show full content in each cell\n",
    "pd.set_option('display.max_colwidth', None)\n",
    "pd.set_option('display.width', None)              # Prevent line wrapping"
   ]
  },
  {
   "cell_type": "code",
   "execution_count": null,
   "id": "a2d87b2e",
   "metadata": {},
   "outputs": [],
   "source": [
    "results_df[\"Parking\"] = pd.to_numeric(results_df[\"Parking\"], errors='coerce')\n",
    "results_df[results_df[\"Parking\"] == 3].sort_values(\"Parking\")"
   ]
  },
  {
   "cell_type": "code",
   "execution_count": null,
   "id": "c01e105f",
   "metadata": {},
   "outputs": [],
   "source": [
    "results_df['Garage'].value_counts()"
   ]
  },
  {
   "cell_type": "code",
   "execution_count": null,
   "id": "ffd1a940",
   "metadata": {},
   "outputs": [],
   "source": [
    "results_df['Bedrooms'].isnull().sum()"
   ]
  },
  {
   "cell_type": "code",
   "execution_count": null,
   "id": "8bbbea20",
   "metadata": {},
   "outputs": [],
   "source": [
    "results_df['Bedrooms'].isnull().sum()"
   ]
  },
  {
   "cell_type": "code",
   "execution_count": null,
   "id": "2134b891",
   "metadata": {},
   "outputs": [],
   "source": [
    "results_df.info()"
   ]
  },
  {
   "cell_type": "code",
   "execution_count": null,
   "id": "e9c105ae",
   "metadata": {},
   "outputs": [],
   "source": [
    "results_df.head(20)"
   ]
  },
  {
   "cell_type": "code",
   "execution_count": null,
   "id": "f5ad9fc4",
   "metadata": {},
   "outputs": [],
   "source": [
    "results_df['Furnished'].value_counts()"
   ]
  },
  {
   "cell_type": "code",
   "execution_count": null,
   "id": "cd92ac76",
   "metadata": {},
   "outputs": [],
   "source": [
    "results_df['Type of Property'].value_counts()"
   ]
  },
  {
   "cell_type": "markdown",
   "id": "7d44a31b",
   "metadata": {},
   "source": [
    "### Listings for sale"
   ]
  },
  {
   "cell_type": "code",
   "execution_count": null,
   "id": "48f4787c",
   "metadata": {},
   "outputs": [],
   "source": [
    "listings_for_sale = pd.read_csv(\"../data/raw/listings_for_sale_in_capital_cities.csv\")\n",
    "display(\"Listings for sale\", listings_for_sale.head(), listings_for_sale.shape)"
   ]
  },
  {
   "cell_type": "code",
   "execution_count": null,
   "id": "f47fec42",
   "metadata": {},
   "outputs": [],
   "source": [
    "# Get information about the listings_for_sale document\n",
    "listings_for_sale.info()"
   ]
  },
  {
   "cell_type": "code",
   "execution_count": null,
   "id": "17509ea6",
   "metadata": {},
   "outputs": [],
   "source": [
    "# See the number of null values in each column\n",
    "listings_for_sale.isnull().sum()"
   ]
  },
  {
   "cell_type": "code",
   "execution_count": null,
   "id": "e9a851be",
   "metadata": {},
   "outputs": [],
   "source": [
    "# Drop listings where the property_title is null\n",
    "listings_for_sale = listings_for_sale.dropna(subset=['property_title']).reset_index(drop=True)"
   ]
  },
  {
   "cell_type": "code",
   "execution_count": null,
   "id": "f6f28351",
   "metadata": {},
   "outputs": [],
   "source": [
    "listings_for_sale_duplicates = listings_for_sale[listings_for_sale.duplicated()]\n",
    "num_listings_for_sale_duplicates = len(listings_for_sale_duplicates)\n",
    "print(f\"There are {num_listings_for_sale_duplicates} duplicates in the rental dataset \")"
   ]
  },
  {
   "cell_type": "code",
   "execution_count": null,
   "id": "b5b6aa93",
   "metadata": {},
   "outputs": [],
   "source": [
    "# Drop duplicate rows and keep the first occurrence\n",
    "listings_for_sale = listings_for_sale.drop_duplicates().reset_index(drop=True)"
   ]
  },
  {
   "cell_type": "code",
   "execution_count": null,
   "id": "ba74b764",
   "metadata": {},
   "outputs": [],
   "source": [
    "print(listings_for_sale['price'].str.contains(\n",
    "    'POA', case=False, na=False).sum())"
   ]
  },
  {
   "cell_type": "code",
   "execution_count": null,
   "id": "b6abbca8",
   "metadata": {},
   "outputs": [],
   "source": [
    "\"\"\"_summary_\n",
    "# Remove rows where 'price' contains 'POA' (case-insensitive)\n",
    "listings_for_sale = listings_for_sale[~listings_for_sale['price'].astype(\n",
    "    str).str.contains('POA', case=False, na=False)]\n",
    "rental_listings.reset_index(drop=True, inplace=True)\n",
    "    \"\"\""
   ]
  },
  {
   "cell_type": "code",
   "execution_count": null,
   "id": "24bc0ec6",
   "metadata": {},
   "outputs": [],
   "source": [
    "listings_for_sale['price_cleaned'] = listings_for_sale['price'].str.extract(\n",
    "    r'(R\\s?\\d[\\d\\s]*)')\n",
    "\n",
    "listings_for_sale['price_cleaned'] = listings_for_sale['price_cleaned'].str.replace(\n",
    "    r'\\s+', '', regex=True)\n",
    "\n",
    "listings_for_sale['price (in rands)'] = listings_for_sale['price_cleaned'].str.extract(\n",
    "    r'R?(\\d+)', expand=False)\n",
    "\n",
    "# Print out the first five rows to see the results\n",
    "listings_for_sale.head()"
   ]
  },
  {
   "cell_type": "code",
   "execution_count": null,
   "id": "cd30906a",
   "metadata": {},
   "outputs": [],
   "source": [
    "# Extract the location from the listing_slug column\n",
    "listings_for_sale['suburb'] = listings_for_sale['property_title'].str.extract(\n",
    "    r'for Sale in (.+)', expand=False)\n",
    "\n",
    "# Remove the trailing numbers from the suburb column\n",
    "listings_for_sale['suburb'] = (\n",
    "    listings_for_sale['suburb'].str.replace(r'-\\d+$', '', regex=True).str.strip())\n",
    "\n",
    "# Print the first five rows of the table to see the results\n",
    "listings_for_sale.head()"
   ]
  },
  {
   "cell_type": "code",
   "execution_count": null,
   "id": "fe5ca45c",
   "metadata": {},
   "outputs": [],
   "source": [
    "# Apply the extract_city_from_location function to extract the function\n",
    "listings_for_sale['city'] = listings_for_sale['location'].apply(\n",
    "    lambda loc: extract_city_from_location(loc, city_list))"
   ]
  },
  {
   "cell_type": "code",
   "execution_count": null,
   "id": "9787f0ef",
   "metadata": {},
   "outputs": [],
   "source": [
    "listings_for_sale['city'].isnull().sum()"
   ]
  },
  {
   "cell_type": "code",
   "execution_count": null,
   "id": "20ab33b1",
   "metadata": {},
   "outputs": [],
   "source": [
    "# Create a mapping of suburb to kmown cities\n",
    "suburb_to_city_map = listings_for_sale[listings_for_sale['city'].notna()].drop_duplicates(\n",
    "    subset=['suburb', 'city']).set_index('suburb')['city'].to_dict()\n",
    "\n",
    "# Fill missing city values based on the suburb\n",
    "listings_for_sale['city'] = listings_for_sale.apply(lambda row: suburb_to_city_map.get(\n",
    "    row['suburb'], row['city']) if pd.isna(row['city']) else row['city'], axis=1)"
   ]
  },
  {
   "cell_type": "code",
   "execution_count": null,
   "id": "ea95b608",
   "metadata": {},
   "outputs": [],
   "source": [
    "# See the number of unique values in the city column\n",
    "listings_for_sale['city'].value_counts()"
   ]
  },
  {
   "cell_type": "code",
   "execution_count": null,
   "id": "d3dfdb08",
   "metadata": {},
   "outputs": [],
   "source": [
    "listings_for_sale.isnull().sum()"
   ]
  },
  {
   "cell_type": "code",
   "execution_count": null,
   "id": "70d9e04d",
   "metadata": {},
   "outputs": [],
   "source": [
    "# Drop the rows where the city_column is empty\n",
    "listings_for_sale = listings_for_sale.dropna(subset=['city'])"
   ]
  },
  {
   "cell_type": "code",
   "execution_count": null,
   "id": "86814373",
   "metadata": {},
   "outputs": [],
   "source": [
    "listings_for_sale.isnull().sum()"
   ]
  },
  {
   "cell_type": "code",
   "execution_count": null,
   "id": "eab559e8",
   "metadata": {},
   "outputs": [],
   "source": [
    "# Merge to get the matching province for the listings\n",
    "listings_for_sale = listings_for_sale.merge(city_province, on='city', how='left')"
   ]
  },
  {
   "cell_type": "code",
   "execution_count": null,
   "id": "80bcfa0f",
   "metadata": {},
   "outputs": [],
   "source": [
    "listings_for_sale.isnull().sum()"
   ]
  },
  {
   "cell_type": "code",
   "execution_count": null,
   "id": "1b8f21ef",
   "metadata": {},
   "outputs": [],
   "source": [
    "poa_mask = listings_for_sale['price'].astype(\n",
    "    str).str.contains(\"POA\", case=False, na=False)\n",
    "num_poa = poa_mask.sum()\n",
    "\n",
    "print(f\"There are {num_poa} listings with 'POA' in the price column.\")"
   ]
  }
 ],
 "metadata": {
  "kernelspec": {
   "display_name": ".venv",
   "language": "python",
   "name": "python3"
  },
  "language_info": {
   "codemirror_mode": {
    "name": "ipython",
    "version": 3
   },
   "file_extension": ".py",
   "mimetype": "text/x-python",
   "name": "python",
   "nbconvert_exporter": "python",
   "pygments_lexer": "ipython3",
   "version": "3.13.1"
  }
 },
 "nbformat": 4,
 "nbformat_minor": 5
}

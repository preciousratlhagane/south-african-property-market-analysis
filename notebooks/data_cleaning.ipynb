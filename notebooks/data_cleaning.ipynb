{
 "cells": [
  {
   "cell_type": "markdown",
   "id": "1feaf872",
   "metadata": {},
   "source": [
    "# <center> 🧽 Data Cleaning </center>"
   ]
  },
  {
   "cell_type": "markdown",
   "id": "42a4d6bf",
   "metadata": {},
   "source": [
    "## Table of Contents\n",
    "\n",
    "- [1. Introduction](#1-introduction)\n",
    "- [2. Loading-Data](#2-loading-data)"
   ]
  },
  {
   "cell_type": "markdown",
   "id": "acdffd07",
   "metadata": {},
   "source": [
    "## 1. Introduction\n",
    "[Back to Table of Contents](#table-of-contents)\n",
    "\n",
    "---\n",
    "\n",
    "| ⚡ Description: Introducing the project ⚡ |\n",
    "| :--------------------------- |\n",
    "\n",
    "---"
   ]
  },
  {
   "cell_type": "markdown",
   "id": "bfc87451",
   "metadata": {},
   "source": [
    "<a id=\"two\"></a>\n",
    "## 2. Loading Data\n",
    "<a href=#cont>Back to Table of Contents</a>\n",
    "\n",
    "---\n",
    "    \n",
    "| ⚡ Description: Loading the data in our environment ⚡ |\n",
    "| :--------------------------- |\n",
    "\n",
    "---"
   ]
  },
  {
   "cell_type": "markdown",
   "id": "4c737deb",
   "metadata": {},
   "source": [
    "### Import packages"
   ]
  },
  {
   "cell_type": "code",
   "execution_count": 1,
   "id": "a78b697d",
   "metadata": {},
   "outputs": [],
   "source": [
    "# Import packages\n",
    "import numpy as np\n",
    "import pandas as pd"
   ]
  },
  {
   "cell_type": "markdown",
   "id": "9d14b166",
   "metadata": {},
   "source": [
    "### Rental Properties"
   ]
  },
  {
   "cell_type": "code",
   "execution_count": 2,
   "id": "4ee1b231",
   "metadata": {},
   "outputs": [
    {
     "data": {
      "text/plain": [
       "'Rentals'"
      ]
     },
     "metadata": {},
     "output_type": "display_data"
    },
    {
     "data": {
      "text/html": [
       "<div>\n",
       "<style scoped>\n",
       "    .dataframe tbody tr th:only-of-type {\n",
       "        vertical-align: middle;\n",
       "    }\n",
       "\n",
       "    .dataframe tbody tr th {\n",
       "        vertical-align: top;\n",
       "    }\n",
       "\n",
       "    .dataframe thead th {\n",
       "        text-align: right;\n",
       "    }\n",
       "</style>\n",
       "<table border=\"1\" class=\"dataframe\">\n",
       "  <thead>\n",
       "    <tr style=\"text-align: right;\">\n",
       "      <th></th>\n",
       "      <th>price</th>\n",
       "      <th>location</th>\n",
       "      <th>property_title</th>\n",
       "      <th>property_description</th>\n",
       "      <th>property_features</th>\n",
       "      <th>listing_slug</th>\n",
       "    </tr>\n",
       "  </thead>\n",
       "  <tbody>\n",
       "    <tr>\n",
       "      <th>0</th>\n",
       "      <td>R 7 000Per Month</td>\n",
       "      <td>Bhisho, Tyu Tyu North</td>\n",
       "      <td>3 Bedroom House to Rent in Tyu Tyu North</td>\n",
       "      <td>RE/MAX Border is proud to present this 3-bedro...</td>\n",
       "      <td>Property OverviewListing Number115295115Type o...</td>\n",
       "      <td>3-bedroom-house-to-rent-in-tyu-tyu-north-11529...</td>\n",
       "    </tr>\n",
       "    <tr>\n",
       "      <th>1</th>\n",
       "      <td>R 7 000Per Month</td>\n",
       "      <td>Bhisho, Bhisho Central</td>\n",
       "      <td>3 Bedroom House to Rent in Bhisho Central</td>\n",
       "      <td>How CONVENIENT is this flat directly opposite ...</td>\n",
       "      <td>Property OverviewListing Number115332086Type o...</td>\n",
       "      <td>3-bedroom-house-to-rent-in-bhisho-central-1153...</td>\n",
       "    </tr>\n",
       "    <tr>\n",
       "      <th>2</th>\n",
       "      <td>R 5 300Per Month</td>\n",
       "      <td>Bhisho, Tyu Tyu North</td>\n",
       "      <td>2 Bedroom House to Rent in Tyu Tyu North</td>\n",
       "      <td>Comfortable Home for a family which is availab...</td>\n",
       "      <td>Property OverviewListing Number115210602Type o...</td>\n",
       "      <td>2-bedroom-house-to-rent-in-tyu-tyu-north-11521...</td>\n",
       "    </tr>\n",
       "    <tr>\n",
       "      <th>3</th>\n",
       "      <td>NaN</td>\n",
       "      <td>NaN</td>\n",
       "      <td>NaN</td>\n",
       "      <td>NaN</td>\n",
       "      <td>NaN</td>\n",
       "      <td>house-to-rent-in-bisho-park-101731048</td>\n",
       "    </tr>\n",
       "    <tr>\n",
       "      <th>4</th>\n",
       "      <td>R 7 500Per Month</td>\n",
       "      <td>Bhisho, Bisho Park</td>\n",
       "      <td>3 Bedroom House to Rent in Bisho Park</td>\n",
       "      <td>BetterProp is thrilled to present this well-ma...</td>\n",
       "      <td>Property OverviewListing Number115555490Type o...</td>\n",
       "      <td>3-bedroom-house-to-rent-in-bisho-park-115555490</td>\n",
       "    </tr>\n",
       "  </tbody>\n",
       "</table>\n",
       "</div>"
      ],
      "text/plain": [
       "              price                location  \\\n",
       "0  R 7 000Per Month   Bhisho, Tyu Tyu North   \n",
       "1  R 7 000Per Month  Bhisho, Bhisho Central   \n",
       "2  R 5 300Per Month   Bhisho, Tyu Tyu North   \n",
       "3               NaN                     NaN   \n",
       "4  R 7 500Per Month      Bhisho, Bisho Park   \n",
       "\n",
       "                              property_title  \\\n",
       "0   3 Bedroom House to Rent in Tyu Tyu North   \n",
       "1  3 Bedroom House to Rent in Bhisho Central   \n",
       "2   2 Bedroom House to Rent in Tyu Tyu North   \n",
       "3                                        NaN   \n",
       "4      3 Bedroom House to Rent in Bisho Park   \n",
       "\n",
       "                                property_description  \\\n",
       "0  RE/MAX Border is proud to present this 3-bedro...   \n",
       "1  How CONVENIENT is this flat directly opposite ...   \n",
       "2  Comfortable Home for a family which is availab...   \n",
       "3                                                NaN   \n",
       "4  BetterProp is thrilled to present this well-ma...   \n",
       "\n",
       "                                   property_features  \\\n",
       "0  Property OverviewListing Number115295115Type o...   \n",
       "1  Property OverviewListing Number115332086Type o...   \n",
       "2  Property OverviewListing Number115210602Type o...   \n",
       "3                                                NaN   \n",
       "4  Property OverviewListing Number115555490Type o...   \n",
       "\n",
       "                                        listing_slug  \n",
       "0  3-bedroom-house-to-rent-in-tyu-tyu-north-11529...  \n",
       "1  3-bedroom-house-to-rent-in-bhisho-central-1153...  \n",
       "2  2-bedroom-house-to-rent-in-tyu-tyu-north-11521...  \n",
       "3              house-to-rent-in-bisho-park-101731048  \n",
       "4    3-bedroom-house-to-rent-in-bisho-park-115555490  "
      ]
     },
     "metadata": {},
     "output_type": "display_data"
    },
    {
     "data": {
      "text/plain": [
       "(15324, 6)"
      ]
     },
     "metadata": {},
     "output_type": "display_data"
    }
   ],
   "source": [
    "rental_listings = pd.read_csv(\"../data/raw/rental_listings_for_capital_cities.csv\")\n",
    "display(\"Rentals\", rental_listings.head(), rental_listings.shape)"
   ]
  },
  {
   "cell_type": "code",
   "execution_count": 3,
   "id": "01de9d3c",
   "metadata": {},
   "outputs": [
    {
     "name": "stdout",
     "output_type": "stream",
     "text": [
      "<class 'pandas.core.frame.DataFrame'>\n",
      "RangeIndex: 15324 entries, 0 to 15323\n",
      "Data columns (total 6 columns):\n",
      " #   Column                Non-Null Count  Dtype \n",
      "---  ------                --------------  ----- \n",
      " 0   price                 15323 non-null  object\n",
      " 1   location              8189 non-null   object\n",
      " 2   property_title        15323 non-null  object\n",
      " 3   property_description  15323 non-null  object\n",
      " 4   property_features     15323 non-null  object\n",
      " 5   listing_slug          15324 non-null  object\n",
      "dtypes: object(6)\n",
      "memory usage: 718.4+ KB\n"
     ]
    }
   ],
   "source": [
    "rental_listings.info()"
   ]
  },
  {
   "cell_type": "code",
   "execution_count": 4,
   "id": "564574cb",
   "metadata": {},
   "outputs": [
    {
     "name": "stdout",
     "output_type": "stream",
     "text": [
      "There are 7139 null values in the rental dataset\n"
     ]
    }
   ],
   "source": [
    "rental_null_values = rental_listings.isnull().sum().sum()\n",
    "print(f\"There are {rental_null_values} null values in the rental dataset\")"
   ]
  },
  {
   "cell_type": "code",
   "execution_count": 5,
   "id": "ea6279e5",
   "metadata": {},
   "outputs": [
    {
     "name": "stdout",
     "output_type": "stream",
     "text": [
      "There are 1303 duplicates in the rental dataset \n"
     ]
    }
   ],
   "source": [
    "rental_duplicates = rental_listings[rental_listings.duplicated()]\n",
    "num_rental_duplicates = len(rental_duplicates)\n",
    "print(f\"There are {num_rental_duplicates} duplicates in the rental dataset \")"
   ]
  },
  {
   "cell_type": "code",
   "execution_count": 6,
   "id": "77dae387",
   "metadata": {},
   "outputs": [],
   "source": [
    "rental_listings = rental_listings.dropna(subset=['price'])"
   ]
  },
  {
   "cell_type": "code",
   "execution_count": 7,
   "id": "fd3bd830",
   "metadata": {},
   "outputs": [],
   "source": [
    "# Normalize spaces\n",
    "rental_listings['price'] = rental_listings['price'].str.replace(\n",
    "    r'\\s+', '', regex=True)\n",
    "\n",
    "# Extract price amount\n",
    "rental_listings['price (in rands)'] = rental_listings['price'].str.extract(\n",
    "    r'R?(\\d+)', expand=False)\n",
    "rental_listings['price (in rands)'] = pd.to_numeric(rental_listings['price (in rands)'], errors='coerce')\n",
    "\n",
    "# Now safely extract price type from the actual price string\n",
    "rental_listings['price_type'] = rental_listings['price'].str.extract(\n",
    "    r'(PerMonth|m2|m²|Perm²)', expand=False\n",
    ")\n",
    "\n",
    "# Standardize price type to make it more readable\n",
    "rental_listings['price_type'] = rental_listings['price_type'].replace({\n",
    "    'PerMonth': 'Per Month',\n",
    "    'm2': 'Per m²',\n",
    "    'Perm²': 'Per m²'\n",
    "})"
   ]
  },
  {
   "cell_type": "code",
   "execution_count": 8,
   "id": "33fb5e32",
   "metadata": {},
   "outputs": [
    {
     "data": {
      "text/html": [
       "<div>\n",
       "<style scoped>\n",
       "    .dataframe tbody tr th:only-of-type {\n",
       "        vertical-align: middle;\n",
       "    }\n",
       "\n",
       "    .dataframe tbody tr th {\n",
       "        vertical-align: top;\n",
       "    }\n",
       "\n",
       "    .dataframe thead th {\n",
       "        text-align: right;\n",
       "    }\n",
       "</style>\n",
       "<table border=\"1\" class=\"dataframe\">\n",
       "  <thead>\n",
       "    <tr style=\"text-align: right;\">\n",
       "      <th></th>\n",
       "      <th>price</th>\n",
       "      <th>location</th>\n",
       "      <th>property_title</th>\n",
       "      <th>property_description</th>\n",
       "      <th>property_features</th>\n",
       "      <th>listing_slug</th>\n",
       "      <th>price (in rands)</th>\n",
       "      <th>price_type</th>\n",
       "    </tr>\n",
       "  </thead>\n",
       "  <tbody>\n",
       "    <tr>\n",
       "      <th>0</th>\n",
       "      <td>R7000PerMonth</td>\n",
       "      <td>Bhisho, Tyu Tyu North</td>\n",
       "      <td>3 Bedroom House to Rent in Tyu Tyu North</td>\n",
       "      <td>RE/MAX Border is proud to present this 3-bedro...</td>\n",
       "      <td>Property OverviewListing Number115295115Type o...</td>\n",
       "      <td>3-bedroom-house-to-rent-in-tyu-tyu-north-11529...</td>\n",
       "      <td>7000.0</td>\n",
       "      <td>Per Month</td>\n",
       "    </tr>\n",
       "    <tr>\n",
       "      <th>1</th>\n",
       "      <td>R7000PerMonth</td>\n",
       "      <td>Bhisho, Bhisho Central</td>\n",
       "      <td>3 Bedroom House to Rent in Bhisho Central</td>\n",
       "      <td>How CONVENIENT is this flat directly opposite ...</td>\n",
       "      <td>Property OverviewListing Number115332086Type o...</td>\n",
       "      <td>3-bedroom-house-to-rent-in-bhisho-central-1153...</td>\n",
       "      <td>7000.0</td>\n",
       "      <td>Per Month</td>\n",
       "    </tr>\n",
       "    <tr>\n",
       "      <th>2</th>\n",
       "      <td>R5300PerMonth</td>\n",
       "      <td>Bhisho, Tyu Tyu North</td>\n",
       "      <td>2 Bedroom House to Rent in Tyu Tyu North</td>\n",
       "      <td>Comfortable Home for a family which is availab...</td>\n",
       "      <td>Property OverviewListing Number115210602Type o...</td>\n",
       "      <td>2-bedroom-house-to-rent-in-tyu-tyu-north-11521...</td>\n",
       "      <td>5300.0</td>\n",
       "      <td>Per Month</td>\n",
       "    </tr>\n",
       "    <tr>\n",
       "      <th>4</th>\n",
       "      <td>R7500PerMonth</td>\n",
       "      <td>Bhisho, Bisho Park</td>\n",
       "      <td>3 Bedroom House to Rent in Bisho Park</td>\n",
       "      <td>BetterProp is thrilled to present this well-ma...</td>\n",
       "      <td>Property OverviewListing Number115555490Type o...</td>\n",
       "      <td>3-bedroom-house-to-rent-in-bisho-park-115555490</td>\n",
       "      <td>7500.0</td>\n",
       "      <td>Per Month</td>\n",
       "    </tr>\n",
       "    <tr>\n",
       "      <th>5</th>\n",
       "      <td>R5500PerMonth</td>\n",
       "      <td>Bhisho, Bisho Park</td>\n",
       "      <td>House to Rent in Bisho Park</td>\n",
       "      <td>This neat family home boasts:3 bedroomsOpen pl...</td>\n",
       "      <td>Property OverviewListing Number115525482Type o...</td>\n",
       "      <td>house-to-rent-in-bisho-park-115525482</td>\n",
       "      <td>5500.0</td>\n",
       "      <td>Per Month</td>\n",
       "    </tr>\n",
       "  </tbody>\n",
       "</table>\n",
       "</div>"
      ],
      "text/plain": [
       "           price                location  \\\n",
       "0  R7000PerMonth   Bhisho, Tyu Tyu North   \n",
       "1  R7000PerMonth  Bhisho, Bhisho Central   \n",
       "2  R5300PerMonth   Bhisho, Tyu Tyu North   \n",
       "4  R7500PerMonth      Bhisho, Bisho Park   \n",
       "5  R5500PerMonth      Bhisho, Bisho Park   \n",
       "\n",
       "                              property_title  \\\n",
       "0   3 Bedroom House to Rent in Tyu Tyu North   \n",
       "1  3 Bedroom House to Rent in Bhisho Central   \n",
       "2   2 Bedroom House to Rent in Tyu Tyu North   \n",
       "4      3 Bedroom House to Rent in Bisho Park   \n",
       "5                House to Rent in Bisho Park   \n",
       "\n",
       "                                property_description  \\\n",
       "0  RE/MAX Border is proud to present this 3-bedro...   \n",
       "1  How CONVENIENT is this flat directly opposite ...   \n",
       "2  Comfortable Home for a family which is availab...   \n",
       "4  BetterProp is thrilled to present this well-ma...   \n",
       "5  This neat family home boasts:3 bedroomsOpen pl...   \n",
       "\n",
       "                                   property_features  \\\n",
       "0  Property OverviewListing Number115295115Type o...   \n",
       "1  Property OverviewListing Number115332086Type o...   \n",
       "2  Property OverviewListing Number115210602Type o...   \n",
       "4  Property OverviewListing Number115555490Type o...   \n",
       "5  Property OverviewListing Number115525482Type o...   \n",
       "\n",
       "                                        listing_slug  price (in rands)  \\\n",
       "0  3-bedroom-house-to-rent-in-tyu-tyu-north-11529...            7000.0   \n",
       "1  3-bedroom-house-to-rent-in-bhisho-central-1153...            7000.0   \n",
       "2  2-bedroom-house-to-rent-in-tyu-tyu-north-11521...            5300.0   \n",
       "4    3-bedroom-house-to-rent-in-bisho-park-115555490            7500.0   \n",
       "5              house-to-rent-in-bisho-park-115525482            5500.0   \n",
       "\n",
       "  price_type  \n",
       "0  Per Month  \n",
       "1  Per Month  \n",
       "2  Per Month  \n",
       "4  Per Month  \n",
       "5  Per Month  "
      ]
     },
     "execution_count": 8,
     "metadata": {},
     "output_type": "execute_result"
    }
   ],
   "source": [
    "rental_listings.head()"
   ]
  },
  {
   "cell_type": "code",
   "execution_count": 9,
   "id": "4fd9e006",
   "metadata": {},
   "outputs": [
    {
     "data": {
      "text/plain": [
       "np.int64(0)"
      ]
     },
     "execution_count": 9,
     "metadata": {},
     "output_type": "execute_result"
    }
   ],
   "source": [
    "rental_listings['property_title'].isnull().sum()"
   ]
  },
  {
   "cell_type": "markdown",
   "id": "7d44a31b",
   "metadata": {},
   "source": [
    "### Listings for sale"
   ]
  },
  {
   "cell_type": "code",
   "execution_count": 10,
   "id": "48f4787c",
   "metadata": {},
   "outputs": [
    {
     "data": {
      "text/plain": [
       "'Listings for sale'"
      ]
     },
     "metadata": {},
     "output_type": "display_data"
    },
    {
     "data": {
      "text/html": [
       "<div>\n",
       "<style scoped>\n",
       "    .dataframe tbody tr th:only-of-type {\n",
       "        vertical-align: middle;\n",
       "    }\n",
       "\n",
       "    .dataframe tbody tr th {\n",
       "        vertical-align: top;\n",
       "    }\n",
       "\n",
       "    .dataframe thead th {\n",
       "        text-align: right;\n",
       "    }\n",
       "</style>\n",
       "<table border=\"1\" class=\"dataframe\">\n",
       "  <thead>\n",
       "    <tr style=\"text-align: right;\">\n",
       "      <th></th>\n",
       "      <th>price</th>\n",
       "      <th>location</th>\n",
       "      <th>property_title</th>\n",
       "      <th>property_description</th>\n",
       "      <th>property_features</th>\n",
       "      <th>listing_slug</th>\n",
       "    </tr>\n",
       "  </thead>\n",
       "  <tbody>\n",
       "    <tr>\n",
       "      <th>0</th>\n",
       "      <td>R 690 000Bond CostsBond CalculatorPurchase Pri...</td>\n",
       "      <td>Bhisho, Bhisho Central</td>\n",
       "      <td>3 Bedroom House for Sale in Bhisho Central</td>\n",
       "      <td>RE/MAX Border is proud to present this family ...</td>\n",
       "      <td>Property OverviewListing Number115871179Type o...</td>\n",
       "      <td>3-bedroom-house-for-sale-in-bhisho-central-115...</td>\n",
       "    </tr>\n",
       "    <tr>\n",
       "      <th>1</th>\n",
       "      <td>R 700 000Bond CostsBond CalculatorPurchase Pri...</td>\n",
       "      <td>Bhisho, Tyu Tyu North</td>\n",
       "      <td>3 Bedroom House for Sale in Tyu Tyu North</td>\n",
       "      <td>This spacious property offers a well-designed ...</td>\n",
       "      <td>Property OverviewListing Number115765257Type o...</td>\n",
       "      <td>3-bedroom-house-for-sale-in-tyu-tyu-north-1157...</td>\n",
       "    </tr>\n",
       "    <tr>\n",
       "      <th>2</th>\n",
       "      <td>R 749 000Bond CostsBond CalculatorPurchase Pri...</td>\n",
       "      <td>Bhisho, Tyu Tyu North</td>\n",
       "      <td>3 Bedroom House for Sale in Tyu Tyu North</td>\n",
       "      <td>Sizwe Mlungwana Properties is excited to prese...</td>\n",
       "      <td>Property OverviewListing Number115864665Type o...</td>\n",
       "      <td>3-bedroom-house-for-sale-in-tyu-tyu-north-1158...</td>\n",
       "    </tr>\n",
       "    <tr>\n",
       "      <th>3</th>\n",
       "      <td>R 799 000Bond CostsBond CalculatorPurchase Pri...</td>\n",
       "      <td>Bhisho, Bhisho Central</td>\n",
       "      <td>3 Bedroom House for Sale in Bhisho Central</td>\n",
       "      <td>Discover this well located 3 bedroom home.Perf...</td>\n",
       "      <td>Property OverviewListing Number115811196Type o...</td>\n",
       "      <td>3-bedroom-house-for-sale-in-bhisho-central-115...</td>\n",
       "    </tr>\n",
       "    <tr>\n",
       "      <th>4</th>\n",
       "      <td>R 695 000Bond CostsBond CalculatorPurchase Pri...</td>\n",
       "      <td>Bhisho, Tyu Tyu</td>\n",
       "      <td>3 Bedroom House for Sale in Tyu Tyu</td>\n",
       "      <td>Presenting this beautiful house to the market....</td>\n",
       "      <td>Property OverviewListing Number115837796Type o...</td>\n",
       "      <td>3-bedroom-house-for-sale-in-tyu-tyu-115837796</td>\n",
       "    </tr>\n",
       "  </tbody>\n",
       "</table>\n",
       "</div>"
      ],
      "text/plain": [
       "                                               price                location  \\\n",
       "0  R 690 000Bond CostsBond CalculatorPurchase Pri...  Bhisho, Bhisho Central   \n",
       "1  R 700 000Bond CostsBond CalculatorPurchase Pri...   Bhisho, Tyu Tyu North   \n",
       "2  R 749 000Bond CostsBond CalculatorPurchase Pri...   Bhisho, Tyu Tyu North   \n",
       "3  R 799 000Bond CostsBond CalculatorPurchase Pri...  Bhisho, Bhisho Central   \n",
       "4  R 695 000Bond CostsBond CalculatorPurchase Pri...         Bhisho, Tyu Tyu   \n",
       "\n",
       "                               property_title  \\\n",
       "0  3 Bedroom House for Sale in Bhisho Central   \n",
       "1   3 Bedroom House for Sale in Tyu Tyu North   \n",
       "2   3 Bedroom House for Sale in Tyu Tyu North   \n",
       "3  3 Bedroom House for Sale in Bhisho Central   \n",
       "4         3 Bedroom House for Sale in Tyu Tyu   \n",
       "\n",
       "                                property_description  \\\n",
       "0  RE/MAX Border is proud to present this family ...   \n",
       "1  This spacious property offers a well-designed ...   \n",
       "2  Sizwe Mlungwana Properties is excited to prese...   \n",
       "3  Discover this well located 3 bedroom home.Perf...   \n",
       "4  Presenting this beautiful house to the market....   \n",
       "\n",
       "                                   property_features  \\\n",
       "0  Property OverviewListing Number115871179Type o...   \n",
       "1  Property OverviewListing Number115765257Type o...   \n",
       "2  Property OverviewListing Number115864665Type o...   \n",
       "3  Property OverviewListing Number115811196Type o...   \n",
       "4  Property OverviewListing Number115837796Type o...   \n",
       "\n",
       "                                        listing_slug  \n",
       "0  3-bedroom-house-for-sale-in-bhisho-central-115...  \n",
       "1  3-bedroom-house-for-sale-in-tyu-tyu-north-1157...  \n",
       "2  3-bedroom-house-for-sale-in-tyu-tyu-north-1158...  \n",
       "3  3-bedroom-house-for-sale-in-bhisho-central-115...  \n",
       "4      3-bedroom-house-for-sale-in-tyu-tyu-115837796  "
      ]
     },
     "metadata": {},
     "output_type": "display_data"
    },
    {
     "data": {
      "text/plain": [
       "(40006, 6)"
      ]
     },
     "metadata": {},
     "output_type": "display_data"
    }
   ],
   "source": [
    "listings_for_sale = pd.read_csv(\"../data/raw/listings_for_sale_in_capital_cities.csv\")\n",
    "display(\"Listings for sale\", listings_for_sale.head(), listings_for_sale.shape)"
   ]
  },
  {
   "cell_type": "code",
   "execution_count": 12,
   "id": "24bc0ec6",
   "metadata": {},
   "outputs": [],
   "source": [
    "listings_for_sale['price_cleaned'] = listings_for_sale['price'].str.extract(\n",
    "    r'(R\\s?\\d[\\d\\s]*)')\n",
    "\n",
    "listings_for_sale['price_cleaned'] = listings_for_sale['price_cleaned'].str.replace(\n",
    "    r'\\s+', '', regex=True)\n",
    "\n",
    "listings_for_sale['price_amount'] = listings_for_sale['price_cleaned'].str.extract(\n",
    "    r'R?(\\d+)', expand=False)\n"
   ]
  },
  {
   "cell_type": "code",
   "execution_count": 15,
   "id": "168636fa",
   "metadata": {},
   "outputs": [
    {
     "data": {
      "text/html": [
       "<div>\n",
       "<style scoped>\n",
       "    .dataframe tbody tr th:only-of-type {\n",
       "        vertical-align: middle;\n",
       "    }\n",
       "\n",
       "    .dataframe tbody tr th {\n",
       "        vertical-align: top;\n",
       "    }\n",
       "\n",
       "    .dataframe thead th {\n",
       "        text-align: right;\n",
       "    }\n",
       "</style>\n",
       "<table border=\"1\" class=\"dataframe\">\n",
       "  <thead>\n",
       "    <tr style=\"text-align: right;\">\n",
       "      <th></th>\n",
       "      <th>price</th>\n",
       "      <th>location</th>\n",
       "      <th>property_title</th>\n",
       "      <th>property_description</th>\n",
       "      <th>property_features</th>\n",
       "      <th>listing_slug</th>\n",
       "      <th>price_cleaned</th>\n",
       "      <th>price_amount</th>\n",
       "    </tr>\n",
       "  </thead>\n",
       "  <tbody>\n",
       "    <tr>\n",
       "      <th>0</th>\n",
       "      <td>R 690 000Bond CostsBond CalculatorPurchase Pri...</td>\n",
       "      <td>Bhisho, Bhisho Central</td>\n",
       "      <td>3 Bedroom House for Sale in Bhisho Central</td>\n",
       "      <td>RE/MAX Border is proud to present this family ...</td>\n",
       "      <td>Property OverviewListing Number115871179Type o...</td>\n",
       "      <td>3-bedroom-house-for-sale-in-bhisho-central-115...</td>\n",
       "      <td>R690000</td>\n",
       "      <td>690000</td>\n",
       "    </tr>\n",
       "    <tr>\n",
       "      <th>1</th>\n",
       "      <td>R 700 000Bond CostsBond CalculatorPurchase Pri...</td>\n",
       "      <td>Bhisho, Tyu Tyu North</td>\n",
       "      <td>3 Bedroom House for Sale in Tyu Tyu North</td>\n",
       "      <td>This spacious property offers a well-designed ...</td>\n",
       "      <td>Property OverviewListing Number115765257Type o...</td>\n",
       "      <td>3-bedroom-house-for-sale-in-tyu-tyu-north-1157...</td>\n",
       "      <td>R700000</td>\n",
       "      <td>700000</td>\n",
       "    </tr>\n",
       "    <tr>\n",
       "      <th>2</th>\n",
       "      <td>R 749 000Bond CostsBond CalculatorPurchase Pri...</td>\n",
       "      <td>Bhisho, Tyu Tyu North</td>\n",
       "      <td>3 Bedroom House for Sale in Tyu Tyu North</td>\n",
       "      <td>Sizwe Mlungwana Properties is excited to prese...</td>\n",
       "      <td>Property OverviewListing Number115864665Type o...</td>\n",
       "      <td>3-bedroom-house-for-sale-in-tyu-tyu-north-1158...</td>\n",
       "      <td>R749000</td>\n",
       "      <td>749000</td>\n",
       "    </tr>\n",
       "    <tr>\n",
       "      <th>3</th>\n",
       "      <td>R 799 000Bond CostsBond CalculatorPurchase Pri...</td>\n",
       "      <td>Bhisho, Bhisho Central</td>\n",
       "      <td>3 Bedroom House for Sale in Bhisho Central</td>\n",
       "      <td>Discover this well located 3 bedroom home.Perf...</td>\n",
       "      <td>Property OverviewListing Number115811196Type o...</td>\n",
       "      <td>3-bedroom-house-for-sale-in-bhisho-central-115...</td>\n",
       "      <td>R799000</td>\n",
       "      <td>799000</td>\n",
       "    </tr>\n",
       "    <tr>\n",
       "      <th>4</th>\n",
       "      <td>R 695 000Bond CostsBond CalculatorPurchase Pri...</td>\n",
       "      <td>Bhisho, Tyu Tyu</td>\n",
       "      <td>3 Bedroom House for Sale in Tyu Tyu</td>\n",
       "      <td>Presenting this beautiful house to the market....</td>\n",
       "      <td>Property OverviewListing Number115837796Type o...</td>\n",
       "      <td>3-bedroom-house-for-sale-in-tyu-tyu-115837796</td>\n",
       "      <td>R695000</td>\n",
       "      <td>695000</td>\n",
       "    </tr>\n",
       "  </tbody>\n",
       "</table>\n",
       "</div>"
      ],
      "text/plain": [
       "                                               price                location  \\\n",
       "0  R 690 000Bond CostsBond CalculatorPurchase Pri...  Bhisho, Bhisho Central   \n",
       "1  R 700 000Bond CostsBond CalculatorPurchase Pri...   Bhisho, Tyu Tyu North   \n",
       "2  R 749 000Bond CostsBond CalculatorPurchase Pri...   Bhisho, Tyu Tyu North   \n",
       "3  R 799 000Bond CostsBond CalculatorPurchase Pri...  Bhisho, Bhisho Central   \n",
       "4  R 695 000Bond CostsBond CalculatorPurchase Pri...         Bhisho, Tyu Tyu   \n",
       "\n",
       "                               property_title  \\\n",
       "0  3 Bedroom House for Sale in Bhisho Central   \n",
       "1   3 Bedroom House for Sale in Tyu Tyu North   \n",
       "2   3 Bedroom House for Sale in Tyu Tyu North   \n",
       "3  3 Bedroom House for Sale in Bhisho Central   \n",
       "4         3 Bedroom House for Sale in Tyu Tyu   \n",
       "\n",
       "                                property_description  \\\n",
       "0  RE/MAX Border is proud to present this family ...   \n",
       "1  This spacious property offers a well-designed ...   \n",
       "2  Sizwe Mlungwana Properties is excited to prese...   \n",
       "3  Discover this well located 3 bedroom home.Perf...   \n",
       "4  Presenting this beautiful house to the market....   \n",
       "\n",
       "                                   property_features  \\\n",
       "0  Property OverviewListing Number115871179Type o...   \n",
       "1  Property OverviewListing Number115765257Type o...   \n",
       "2  Property OverviewListing Number115864665Type o...   \n",
       "3  Property OverviewListing Number115811196Type o...   \n",
       "4  Property OverviewListing Number115837796Type o...   \n",
       "\n",
       "                                        listing_slug price_cleaned  \\\n",
       "0  3-bedroom-house-for-sale-in-bhisho-central-115...       R690000   \n",
       "1  3-bedroom-house-for-sale-in-tyu-tyu-north-1157...       R700000   \n",
       "2  3-bedroom-house-for-sale-in-tyu-tyu-north-1158...       R749000   \n",
       "3  3-bedroom-house-for-sale-in-bhisho-central-115...       R799000   \n",
       "4      3-bedroom-house-for-sale-in-tyu-tyu-115837796       R695000   \n",
       "\n",
       "  price_amount  \n",
       "0       690000  \n",
       "1       700000  \n",
       "2       749000  \n",
       "3       799000  \n",
       "4       695000  "
      ]
     },
     "execution_count": 15,
     "metadata": {},
     "output_type": "execute_result"
    }
   ],
   "source": [
    "listings_for_sale.head()"
   ]
  },
  {
   "cell_type": "code",
   "execution_count": 18,
   "id": "3e568ff4",
   "metadata": {},
   "outputs": [
    {
     "data": {
      "text/plain": [
       "np.int64(0)"
      ]
     },
     "execution_count": 18,
     "metadata": {},
     "output_type": "execute_result"
    }
   ],
   "source": [
    "listings_for_sale['listing_slug'].isnull().sum()"
   ]
  }
 ],
 "metadata": {
  "kernelspec": {
   "display_name": "Python (venv)",
   "language": "python",
   "name": "venv"
  },
  "language_info": {
   "codemirror_mode": {
    "name": "ipython",
    "version": 3
   },
   "file_extension": ".py",
   "mimetype": "text/x-python",
   "name": "python",
   "nbconvert_exporter": "python",
   "pygments_lexer": "ipython3",
   "version": "3.13.1"
  }
 },
 "nbformat": 4,
 "nbformat_minor": 5
}

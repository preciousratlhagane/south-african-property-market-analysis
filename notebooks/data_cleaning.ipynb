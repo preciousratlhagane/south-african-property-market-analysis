{
 "cells": [
  {
   "cell_type": "markdown",
   "id": "1feaf872",
   "metadata": {},
   "source": [
    "# <center> 🧽 Data Cleaning </center>"
   ]
  },
  {
   "cell_type": "markdown",
   "id": "42a4d6bf",
   "metadata": {},
   "source": [
    "## Table of Contents\n",
    "\n",
    "- [1. Introduction](#1-introduction)\n",
    "- [2. Loading Data](#2-loading-data)"
   ]
  },
  {
   "cell_type": "markdown",
   "id": "acdffd07",
   "metadata": {},
   "source": [
    "## 1. Introduction\n",
    "[Back to Table of Contents](#table-of-contents)\n",
    "\n",
    "---\n",
    "\n",
    "| ⚡ Description: Introducing the project ⚡ |\n",
    "| :--------------------------- |\n",
    "\n",
    "---"
   ]
  },
  {
   "cell_type": "markdown",
   "id": "bfc87451",
   "metadata": {},
   "source": [
    "<a id=\"two\"></a>\n",
    "## 2. Loading Data\n",
    "<a href=#cont>Back to Table of Contents</a>\n",
    "\n",
    "---\n",
    "    \n",
    "| ⚡ Description: Loading the data in our environment ⚡ |\n",
    "| :--------------------------- |\n",
    "\n",
    "---"
   ]
  },
  {
   "cell_type": "markdown",
   "id": "4c737deb",
   "metadata": {},
   "source": [
    "### Import packages"
   ]
  },
  {
   "cell_type": "code",
   "execution_count": 10,
   "id": "a78b697d",
   "metadata": {},
   "outputs": [],
   "source": [
    "# Import packages\n",
    "import numpy as np\n",
    "import pandas as pd\n",
    "import re"
   ]
  },
  {
   "cell_type": "markdown",
   "id": "9d14b166",
   "metadata": {},
   "source": [
    "### Rental Properties"
   ]
  },
  {
   "cell_type": "code",
   "execution_count": 11,
   "id": "4ee1b231",
   "metadata": {},
   "outputs": [
    {
     "data": {
      "text/plain": [
       "'Rentals'"
      ]
     },
     "metadata": {},
     "output_type": "display_data"
    },
    {
     "data": {
      "text/html": [
       "<div>\n",
       "<style scoped>\n",
       "    .dataframe tbody tr th:only-of-type {\n",
       "        vertical-align: middle;\n",
       "    }\n",
       "\n",
       "    .dataframe tbody tr th {\n",
       "        vertical-align: top;\n",
       "    }\n",
       "\n",
       "    .dataframe thead th {\n",
       "        text-align: right;\n",
       "    }\n",
       "</style>\n",
       "<table border=\"1\" class=\"dataframe\">\n",
       "  <thead>\n",
       "    <tr style=\"text-align: right;\">\n",
       "      <th></th>\n",
       "      <th>price</th>\n",
       "      <th>location</th>\n",
       "      <th>property_title</th>\n",
       "      <th>property_description</th>\n",
       "      <th>property_features</th>\n",
       "      <th>listing_slug</th>\n",
       "    </tr>\n",
       "  </thead>\n",
       "  <tbody>\n",
       "    <tr>\n",
       "      <th>0</th>\n",
       "      <td>R 7 000Per Month</td>\n",
       "      <td>Bhisho, Tyu Tyu North</td>\n",
       "      <td>3 Bedroom House to Rent in Tyu Tyu North</td>\n",
       "      <td>RE/MAX Border is proud to present this 3-bedro...</td>\n",
       "      <td>Property OverviewListing Number115295115Type o...</td>\n",
       "      <td>3-bedroom-house-to-rent-in-tyu-tyu-north-11529...</td>\n",
       "    </tr>\n",
       "    <tr>\n",
       "      <th>1</th>\n",
       "      <td>R 7 000Per Month</td>\n",
       "      <td>Bhisho, Bhisho Central</td>\n",
       "      <td>3 Bedroom House to Rent in Bhisho Central</td>\n",
       "      <td>How CONVENIENT is this flat directly opposite ...</td>\n",
       "      <td>Property OverviewListing Number115332086Type o...</td>\n",
       "      <td>3-bedroom-house-to-rent-in-bhisho-central-1153...</td>\n",
       "    </tr>\n",
       "    <tr>\n",
       "      <th>2</th>\n",
       "      <td>R 5 300Per Month</td>\n",
       "      <td>Bhisho, Tyu Tyu North</td>\n",
       "      <td>2 Bedroom House to Rent in Tyu Tyu North</td>\n",
       "      <td>Comfortable Home for a family which is availab...</td>\n",
       "      <td>Property OverviewListing Number115210602Type o...</td>\n",
       "      <td>2-bedroom-house-to-rent-in-tyu-tyu-north-11521...</td>\n",
       "    </tr>\n",
       "    <tr>\n",
       "      <th>3</th>\n",
       "      <td>NaN</td>\n",
       "      <td>NaN</td>\n",
       "      <td>NaN</td>\n",
       "      <td>NaN</td>\n",
       "      <td>NaN</td>\n",
       "      <td>house-to-rent-in-bisho-park-101731048</td>\n",
       "    </tr>\n",
       "    <tr>\n",
       "      <th>4</th>\n",
       "      <td>R 7 500Per Month</td>\n",
       "      <td>Bhisho, Bisho Park</td>\n",
       "      <td>3 Bedroom House to Rent in Bisho Park</td>\n",
       "      <td>BetterProp is thrilled to present this well-ma...</td>\n",
       "      <td>Property OverviewListing Number115555490Type o...</td>\n",
       "      <td>3-bedroom-house-to-rent-in-bisho-park-115555490</td>\n",
       "    </tr>\n",
       "  </tbody>\n",
       "</table>\n",
       "</div>"
      ],
      "text/plain": [
       "              price                location  \\\n",
       "0  R 7 000Per Month   Bhisho, Tyu Tyu North   \n",
       "1  R 7 000Per Month  Bhisho, Bhisho Central   \n",
       "2  R 5 300Per Month   Bhisho, Tyu Tyu North   \n",
       "3               NaN                     NaN   \n",
       "4  R 7 500Per Month      Bhisho, Bisho Park   \n",
       "\n",
       "                              property_title  \\\n",
       "0   3 Bedroom House to Rent in Tyu Tyu North   \n",
       "1  3 Bedroom House to Rent in Bhisho Central   \n",
       "2   2 Bedroom House to Rent in Tyu Tyu North   \n",
       "3                                        NaN   \n",
       "4      3 Bedroom House to Rent in Bisho Park   \n",
       "\n",
       "                                property_description  \\\n",
       "0  RE/MAX Border is proud to present this 3-bedro...   \n",
       "1  How CONVENIENT is this flat directly opposite ...   \n",
       "2  Comfortable Home for a family which is availab...   \n",
       "3                                                NaN   \n",
       "4  BetterProp is thrilled to present this well-ma...   \n",
       "\n",
       "                                   property_features  \\\n",
       "0  Property OverviewListing Number115295115Type o...   \n",
       "1  Property OverviewListing Number115332086Type o...   \n",
       "2  Property OverviewListing Number115210602Type o...   \n",
       "3                                                NaN   \n",
       "4  Property OverviewListing Number115555490Type o...   \n",
       "\n",
       "                                        listing_slug  \n",
       "0  3-bedroom-house-to-rent-in-tyu-tyu-north-11529...  \n",
       "1  3-bedroom-house-to-rent-in-bhisho-central-1153...  \n",
       "2  2-bedroom-house-to-rent-in-tyu-tyu-north-11521...  \n",
       "3              house-to-rent-in-bisho-park-101731048  \n",
       "4    3-bedroom-house-to-rent-in-bisho-park-115555490  "
      ]
     },
     "metadata": {},
     "output_type": "display_data"
    },
    {
     "data": {
      "text/plain": [
       "(15324, 6)"
      ]
     },
     "metadata": {},
     "output_type": "display_data"
    }
   ],
   "source": [
    "rental_listings = pd.read_csv(\"../data/raw/rental_listings_for_capital_cities.csv\")\n",
    "display(\"Rentals\", rental_listings.head(), rental_listings.shape)"
   ]
  },
  {
   "cell_type": "code",
   "execution_count": 12,
   "id": "01de9d3c",
   "metadata": {},
   "outputs": [
    {
     "name": "stdout",
     "output_type": "stream",
     "text": [
      "<class 'pandas.core.frame.DataFrame'>\n",
      "RangeIndex: 15324 entries, 0 to 15323\n",
      "Data columns (total 6 columns):\n",
      " #   Column                Non-Null Count  Dtype \n",
      "---  ------                --------------  ----- \n",
      " 0   price                 15323 non-null  object\n",
      " 1   location              8189 non-null   object\n",
      " 2   property_title        15323 non-null  object\n",
      " 3   property_description  15323 non-null  object\n",
      " 4   property_features     15323 non-null  object\n",
      " 5   listing_slug          15324 non-null  object\n",
      "dtypes: object(6)\n",
      "memory usage: 718.4+ KB\n"
     ]
    }
   ],
   "source": [
    "rental_listings.info()"
   ]
  },
  {
   "cell_type": "code",
   "execution_count": 13,
   "id": "d037535a",
   "metadata": {},
   "outputs": [
    {
     "data": {
      "text/plain": [
       "price                      1\n",
       "location                7135\n",
       "property_title             1\n",
       "property_description       1\n",
       "property_features          1\n",
       "listing_slug               0\n",
       "dtype: int64"
      ]
     },
     "execution_count": 13,
     "metadata": {},
     "output_type": "execute_result"
    }
   ],
   "source": [
    "rental_listings.isnull().sum()"
   ]
  },
  {
   "cell_type": "code",
   "execution_count": 14,
   "id": "564574cb",
   "metadata": {},
   "outputs": [
    {
     "name": "stdout",
     "output_type": "stream",
     "text": [
      "There are 7139 null values in the rental dataset\n"
     ]
    }
   ],
   "source": [
    "rental_null_values = rental_listings.isnull().sum().sum()\n",
    "print(f\"There are {rental_null_values} null values in the rental dataset\")"
   ]
  },
  {
   "cell_type": "code",
   "execution_count": 15,
   "id": "ea6279e5",
   "metadata": {},
   "outputs": [
    {
     "name": "stdout",
     "output_type": "stream",
     "text": [
      "There are 1303 duplicates in the rental dataset \n"
     ]
    }
   ],
   "source": [
    "rental_duplicates = rental_listings[rental_listings.duplicated()]\n",
    "num_rental_duplicates = len(rental_duplicates)\n",
    "print(f\"There are {num_rental_duplicates} duplicates in the rental dataset \")"
   ]
  },
  {
   "cell_type": "code",
   "execution_count": 16,
   "id": "e0c43e82",
   "metadata": {},
   "outputs": [],
   "source": [
    "# Drop duplicate rows and keep the first occurrence\n",
    "rental_listings = rental_listings.drop_duplicates().reset_index(drop=True)"
   ]
  },
  {
   "cell_type": "code",
   "execution_count": 17,
   "id": "8fbe901e",
   "metadata": {},
   "outputs": [
    {
     "data": {
      "text/html": [
       "<div>\n",
       "<style scoped>\n",
       "    .dataframe tbody tr th:only-of-type {\n",
       "        vertical-align: middle;\n",
       "    }\n",
       "\n",
       "    .dataframe tbody tr th {\n",
       "        vertical-align: top;\n",
       "    }\n",
       "\n",
       "    .dataframe thead th {\n",
       "        text-align: right;\n",
       "    }\n",
       "</style>\n",
       "<table border=\"1\" class=\"dataframe\">\n",
       "  <thead>\n",
       "    <tr style=\"text-align: right;\">\n",
       "      <th></th>\n",
       "      <th>price</th>\n",
       "      <th>location</th>\n",
       "      <th>property_title</th>\n",
       "      <th>property_description</th>\n",
       "      <th>property_features</th>\n",
       "      <th>listing_slug</th>\n",
       "    </tr>\n",
       "  </thead>\n",
       "  <tbody>\n",
       "    <tr>\n",
       "      <th>3</th>\n",
       "      <td>NaN</td>\n",
       "      <td>NaN</td>\n",
       "      <td>NaN</td>\n",
       "      <td>NaN</td>\n",
       "      <td>NaN</td>\n",
       "      <td>house-to-rent-in-bisho-park-101731048</td>\n",
       "    </tr>\n",
       "  </tbody>\n",
       "</table>\n",
       "</div>"
      ],
      "text/plain": [
       "  price location property_title property_description property_features  \\\n",
       "3   NaN      NaN            NaN                  NaN               NaN   \n",
       "\n",
       "                            listing_slug  \n",
       "3  house-to-rent-in-bisho-park-101731048  "
      ]
     },
     "execution_count": 17,
     "metadata": {},
     "output_type": "execute_result"
    }
   ],
   "source": [
    "rental_listings[rental_listings['price'].isna()]"
   ]
  },
  {
   "cell_type": "code",
   "execution_count": 18,
   "id": "77dae387",
   "metadata": {},
   "outputs": [],
   "source": [
    "# Drop any null values in the price column\n",
    "rental_listings = rental_listings.dropna(subset=['price'])"
   ]
  },
  {
   "cell_type": "code",
   "execution_count": 19,
   "id": "73ca54fa",
   "metadata": {},
   "outputs": [
    {
     "name": "stdout",
     "output_type": "stream",
     "text": [
      "There are 218 listings with 'POA' in the price column.\n"
     ]
    }
   ],
   "source": [
    "poa_mask = rental_listings['price'].astype(\n",
    "    str).str.contains(\"POA\", case=False, na=False)\n",
    "num_poa = poa_mask.sum()\n",
    "\n",
    "print(f\"There are {num_poa} listings with 'POA' in the price column.\")"
   ]
  },
  {
   "cell_type": "code",
   "execution_count": 20,
   "id": "fd3bd830",
   "metadata": {},
   "outputs": [
    {
     "data": {
      "text/html": [
       "<div>\n",
       "<style scoped>\n",
       "    .dataframe tbody tr th:only-of-type {\n",
       "        vertical-align: middle;\n",
       "    }\n",
       "\n",
       "    .dataframe tbody tr th {\n",
       "        vertical-align: top;\n",
       "    }\n",
       "\n",
       "    .dataframe thead th {\n",
       "        text-align: right;\n",
       "    }\n",
       "</style>\n",
       "<table border=\"1\" class=\"dataframe\">\n",
       "  <thead>\n",
       "    <tr style=\"text-align: right;\">\n",
       "      <th></th>\n",
       "      <th>price</th>\n",
       "      <th>location</th>\n",
       "      <th>property_title</th>\n",
       "      <th>property_description</th>\n",
       "      <th>property_features</th>\n",
       "      <th>listing_slug</th>\n",
       "      <th>price (in rands)</th>\n",
       "      <th>price_type</th>\n",
       "    </tr>\n",
       "  </thead>\n",
       "  <tbody>\n",
       "    <tr>\n",
       "      <th>0</th>\n",
       "      <td>R7000PerMonth</td>\n",
       "      <td>Bhisho, Tyu Tyu North</td>\n",
       "      <td>3 Bedroom House to Rent in Tyu Tyu North</td>\n",
       "      <td>RE/MAX Border is proud to present this 3-bedro...</td>\n",
       "      <td>Property OverviewListing Number115295115Type o...</td>\n",
       "      <td>3-bedroom-house-to-rent-in-tyu-tyu-north-11529...</td>\n",
       "      <td>7000.0</td>\n",
       "      <td>Per Month</td>\n",
       "    </tr>\n",
       "    <tr>\n",
       "      <th>1</th>\n",
       "      <td>R7000PerMonth</td>\n",
       "      <td>Bhisho, Bhisho Central</td>\n",
       "      <td>3 Bedroom House to Rent in Bhisho Central</td>\n",
       "      <td>How CONVENIENT is this flat directly opposite ...</td>\n",
       "      <td>Property OverviewListing Number115332086Type o...</td>\n",
       "      <td>3-bedroom-house-to-rent-in-bhisho-central-1153...</td>\n",
       "      <td>7000.0</td>\n",
       "      <td>Per Month</td>\n",
       "    </tr>\n",
       "    <tr>\n",
       "      <th>2</th>\n",
       "      <td>R5300PerMonth</td>\n",
       "      <td>Bhisho, Tyu Tyu North</td>\n",
       "      <td>2 Bedroom House to Rent in Tyu Tyu North</td>\n",
       "      <td>Comfortable Home for a family which is availab...</td>\n",
       "      <td>Property OverviewListing Number115210602Type o...</td>\n",
       "      <td>2-bedroom-house-to-rent-in-tyu-tyu-north-11521...</td>\n",
       "      <td>5300.0</td>\n",
       "      <td>Per Month</td>\n",
       "    </tr>\n",
       "    <tr>\n",
       "      <th>4</th>\n",
       "      <td>R7500PerMonth</td>\n",
       "      <td>Bhisho, Bisho Park</td>\n",
       "      <td>3 Bedroom House to Rent in Bisho Park</td>\n",
       "      <td>BetterProp is thrilled to present this well-ma...</td>\n",
       "      <td>Property OverviewListing Number115555490Type o...</td>\n",
       "      <td>3-bedroom-house-to-rent-in-bisho-park-115555490</td>\n",
       "      <td>7500.0</td>\n",
       "      <td>Per Month</td>\n",
       "    </tr>\n",
       "    <tr>\n",
       "      <th>5</th>\n",
       "      <td>R5500PerMonth</td>\n",
       "      <td>Bhisho, Bisho Park</td>\n",
       "      <td>House to Rent in Bisho Park</td>\n",
       "      <td>This neat family home boasts:3 bedroomsOpen pl...</td>\n",
       "      <td>Property OverviewListing Number115525482Type o...</td>\n",
       "      <td>house-to-rent-in-bisho-park-115525482</td>\n",
       "      <td>5500.0</td>\n",
       "      <td>Per Month</td>\n",
       "    </tr>\n",
       "  </tbody>\n",
       "</table>\n",
       "</div>"
      ],
      "text/plain": [
       "           price                location  \\\n",
       "0  R7000PerMonth   Bhisho, Tyu Tyu North   \n",
       "1  R7000PerMonth  Bhisho, Bhisho Central   \n",
       "2  R5300PerMonth   Bhisho, Tyu Tyu North   \n",
       "4  R7500PerMonth      Bhisho, Bisho Park   \n",
       "5  R5500PerMonth      Bhisho, Bisho Park   \n",
       "\n",
       "                              property_title  \\\n",
       "0   3 Bedroom House to Rent in Tyu Tyu North   \n",
       "1  3 Bedroom House to Rent in Bhisho Central   \n",
       "2   2 Bedroom House to Rent in Tyu Tyu North   \n",
       "4      3 Bedroom House to Rent in Bisho Park   \n",
       "5                House to Rent in Bisho Park   \n",
       "\n",
       "                                property_description  \\\n",
       "0  RE/MAX Border is proud to present this 3-bedro...   \n",
       "1  How CONVENIENT is this flat directly opposite ...   \n",
       "2  Comfortable Home for a family which is availab...   \n",
       "4  BetterProp is thrilled to present this well-ma...   \n",
       "5  This neat family home boasts:3 bedroomsOpen pl...   \n",
       "\n",
       "                                   property_features  \\\n",
       "0  Property OverviewListing Number115295115Type o...   \n",
       "1  Property OverviewListing Number115332086Type o...   \n",
       "2  Property OverviewListing Number115210602Type o...   \n",
       "4  Property OverviewListing Number115555490Type o...   \n",
       "5  Property OverviewListing Number115525482Type o...   \n",
       "\n",
       "                                        listing_slug  price (in rands)  \\\n",
       "0  3-bedroom-house-to-rent-in-tyu-tyu-north-11529...            7000.0   \n",
       "1  3-bedroom-house-to-rent-in-bhisho-central-1153...            7000.0   \n",
       "2  2-bedroom-house-to-rent-in-tyu-tyu-north-11521...            5300.0   \n",
       "4    3-bedroom-house-to-rent-in-bisho-park-115555490            7500.0   \n",
       "5              house-to-rent-in-bisho-park-115525482            5500.0   \n",
       "\n",
       "  price_type  \n",
       "0  Per Month  \n",
       "1  Per Month  \n",
       "2  Per Month  \n",
       "4  Per Month  \n",
       "5  Per Month  "
      ]
     },
     "execution_count": 20,
     "metadata": {},
     "output_type": "execute_result"
    }
   ],
   "source": [
    "# Normalize spaces\n",
    "rental_listings['price'] = rental_listings['price'].str.replace(\n",
    "    r'\\s+', '', regex=True)\n",
    "\n",
    "# Extract price amount\n",
    "rental_listings['price (in rands)'] = rental_listings['price'].str.extract(\n",
    "    r'R?(\\d+)', expand=False)\n",
    "rental_listings['price (in rands)'] = pd.to_numeric(rental_listings['price (in rands)'], errors='coerce')\n",
    "\n",
    "# Now safely extract price type from the actual price string\n",
    "rental_listings['price_type'] = rental_listings['price'].str.extract(\n",
    "    r'(PerMonth|m2|m²|Perm²)', expand=False\n",
    ")\n",
    "\n",
    "# Standardize price type to make it more readable\n",
    "rental_listings['price_type'] = rental_listings['price_type'].replace({\n",
    "    'PerMonth': 'Per Month',\n",
    "    'm2': 'Per m²',\n",
    "    'Perm²': 'Per m²'\n",
    "})\n",
    "\n",
    "# Print out the first five rows of the table to see the results\n",
    "rental_listings.head()"
   ]
  },
  {
   "cell_type": "code",
   "execution_count": 21,
   "id": "4057939d",
   "metadata": {},
   "outputs": [
    {
     "data": {
      "text/html": [
       "<div>\n",
       "<style scoped>\n",
       "    .dataframe tbody tr th:only-of-type {\n",
       "        vertical-align: middle;\n",
       "    }\n",
       "\n",
       "    .dataframe tbody tr th {\n",
       "        vertical-align: top;\n",
       "    }\n",
       "\n",
       "    .dataframe thead th {\n",
       "        text-align: right;\n",
       "    }\n",
       "</style>\n",
       "<table border=\"1\" class=\"dataframe\">\n",
       "  <thead>\n",
       "    <tr style=\"text-align: right;\">\n",
       "      <th></th>\n",
       "      <th>price</th>\n",
       "      <th>location</th>\n",
       "      <th>property_title</th>\n",
       "      <th>property_description</th>\n",
       "      <th>property_features</th>\n",
       "      <th>listing_slug</th>\n",
       "      <th>price (in rands)</th>\n",
       "      <th>price_type</th>\n",
       "      <th>suburb</th>\n",
       "    </tr>\n",
       "  </thead>\n",
       "  <tbody>\n",
       "    <tr>\n",
       "      <th>0</th>\n",
       "      <td>R7000PerMonth</td>\n",
       "      <td>Bhisho, Tyu Tyu North</td>\n",
       "      <td>3 Bedroom House to Rent in Tyu Tyu North</td>\n",
       "      <td>RE/MAX Border is proud to present this 3-bedro...</td>\n",
       "      <td>Property OverviewListing Number115295115Type o...</td>\n",
       "      <td>3-bedroom-house-to-rent-in-tyu-tyu-north-11529...</td>\n",
       "      <td>7000.0</td>\n",
       "      <td>Per Month</td>\n",
       "      <td>Tyu Tyu North</td>\n",
       "    </tr>\n",
       "    <tr>\n",
       "      <th>1</th>\n",
       "      <td>R7000PerMonth</td>\n",
       "      <td>Bhisho, Bhisho Central</td>\n",
       "      <td>3 Bedroom House to Rent in Bhisho Central</td>\n",
       "      <td>How CONVENIENT is this flat directly opposite ...</td>\n",
       "      <td>Property OverviewListing Number115332086Type o...</td>\n",
       "      <td>3-bedroom-house-to-rent-in-bhisho-central-1153...</td>\n",
       "      <td>7000.0</td>\n",
       "      <td>Per Month</td>\n",
       "      <td>Bhisho Central</td>\n",
       "    </tr>\n",
       "    <tr>\n",
       "      <th>2</th>\n",
       "      <td>R5300PerMonth</td>\n",
       "      <td>Bhisho, Tyu Tyu North</td>\n",
       "      <td>2 Bedroom House to Rent in Tyu Tyu North</td>\n",
       "      <td>Comfortable Home for a family which is availab...</td>\n",
       "      <td>Property OverviewListing Number115210602Type o...</td>\n",
       "      <td>2-bedroom-house-to-rent-in-tyu-tyu-north-11521...</td>\n",
       "      <td>5300.0</td>\n",
       "      <td>Per Month</td>\n",
       "      <td>Tyu Tyu North</td>\n",
       "    </tr>\n",
       "    <tr>\n",
       "      <th>4</th>\n",
       "      <td>R7500PerMonth</td>\n",
       "      <td>Bhisho, Bisho Park</td>\n",
       "      <td>3 Bedroom House to Rent in Bisho Park</td>\n",
       "      <td>BetterProp is thrilled to present this well-ma...</td>\n",
       "      <td>Property OverviewListing Number115555490Type o...</td>\n",
       "      <td>3-bedroom-house-to-rent-in-bisho-park-115555490</td>\n",
       "      <td>7500.0</td>\n",
       "      <td>Per Month</td>\n",
       "      <td>Bisho Park</td>\n",
       "    </tr>\n",
       "    <tr>\n",
       "      <th>5</th>\n",
       "      <td>R5500PerMonth</td>\n",
       "      <td>Bhisho, Bisho Park</td>\n",
       "      <td>House to Rent in Bisho Park</td>\n",
       "      <td>This neat family home boasts:3 bedroomsOpen pl...</td>\n",
       "      <td>Property OverviewListing Number115525482Type o...</td>\n",
       "      <td>house-to-rent-in-bisho-park-115525482</td>\n",
       "      <td>5500.0</td>\n",
       "      <td>Per Month</td>\n",
       "      <td>Bisho Park</td>\n",
       "    </tr>\n",
       "  </tbody>\n",
       "</table>\n",
       "</div>"
      ],
      "text/plain": [
       "           price                location  \\\n",
       "0  R7000PerMonth   Bhisho, Tyu Tyu North   \n",
       "1  R7000PerMonth  Bhisho, Bhisho Central   \n",
       "2  R5300PerMonth   Bhisho, Tyu Tyu North   \n",
       "4  R7500PerMonth      Bhisho, Bisho Park   \n",
       "5  R5500PerMonth      Bhisho, Bisho Park   \n",
       "\n",
       "                              property_title  \\\n",
       "0   3 Bedroom House to Rent in Tyu Tyu North   \n",
       "1  3 Bedroom House to Rent in Bhisho Central   \n",
       "2   2 Bedroom House to Rent in Tyu Tyu North   \n",
       "4      3 Bedroom House to Rent in Bisho Park   \n",
       "5                House to Rent in Bisho Park   \n",
       "\n",
       "                                property_description  \\\n",
       "0  RE/MAX Border is proud to present this 3-bedro...   \n",
       "1  How CONVENIENT is this flat directly opposite ...   \n",
       "2  Comfortable Home for a family which is availab...   \n",
       "4  BetterProp is thrilled to present this well-ma...   \n",
       "5  This neat family home boasts:3 bedroomsOpen pl...   \n",
       "\n",
       "                                   property_features  \\\n",
       "0  Property OverviewListing Number115295115Type o...   \n",
       "1  Property OverviewListing Number115332086Type o...   \n",
       "2  Property OverviewListing Number115210602Type o...   \n",
       "4  Property OverviewListing Number115555490Type o...   \n",
       "5  Property OverviewListing Number115525482Type o...   \n",
       "\n",
       "                                        listing_slug  price (in rands)  \\\n",
       "0  3-bedroom-house-to-rent-in-tyu-tyu-north-11529...            7000.0   \n",
       "1  3-bedroom-house-to-rent-in-bhisho-central-1153...            7000.0   \n",
       "2  2-bedroom-house-to-rent-in-tyu-tyu-north-11521...            5300.0   \n",
       "4    3-bedroom-house-to-rent-in-bisho-park-115555490            7500.0   \n",
       "5              house-to-rent-in-bisho-park-115525482            5500.0   \n",
       "\n",
       "  price_type          suburb  \n",
       "0  Per Month   Tyu Tyu North  \n",
       "1  Per Month  Bhisho Central  \n",
       "2  Per Month   Tyu Tyu North  \n",
       "4  Per Month      Bisho Park  \n",
       "5  Per Month      Bisho Park  "
      ]
     },
     "execution_count": 21,
     "metadata": {},
     "output_type": "execute_result"
    }
   ],
   "source": [
    "# Extract the location from the property_title column\n",
    "rental_listings['suburb'] = rental_listings['property_title'].str.extract(\n",
    "    r'to Rent in (.+)', expand=False)\n",
    "\n",
    "# Remove the trailing numbers from the suburb column\n",
    "rental_listings['suburb'] = (\n",
    "    rental_listings['suburb'].str.replace(r'-\\d+$', '', regex=True).str.strip())\n",
    "\n",
    "# Print the first five rows of the table to see the results\n",
    "rental_listings.head()"
   ]
  },
  {
   "cell_type": "code",
   "execution_count": 22,
   "id": "ae200795",
   "metadata": {},
   "outputs": [
    {
     "data": {
      "text/plain": [
       "np.int64(0)"
      ]
     },
     "execution_count": 22,
     "metadata": {},
     "output_type": "execute_result"
    }
   ],
   "source": [
    "rental_listings['suburb'].isnull().sum()"
   ]
  },
  {
   "cell_type": "code",
   "execution_count": 23,
   "id": "46e5b844",
   "metadata": {},
   "outputs": [],
   "source": [
    "city_province = pd.read_csv(\"../data/raw/south_africa_provinces_capitals.csv\")\n",
    "city_list = city_province['city'].dropna().str.strip().unique()"
   ]
  },
  {
   "cell_type": "code",
   "execution_count": 24,
   "id": "1fd25e90",
   "metadata": {},
   "outputs": [],
   "source": [
    "def extract_city_from_location(location, city_list):\n",
    "    if pd.isna(location):\n",
    "        return None\n",
    "    \n",
    "    \n",
    "    location_lower = location.lower()\n",
    "    for city in city_list:\n",
    "        if city.lower() in location_lower:\n",
    "            return city\n",
    "    return None"
   ]
  },
  {
   "cell_type": "code",
   "execution_count": 25,
   "id": "40cea20f",
   "metadata": {},
   "outputs": [],
   "source": [
    "# Apply the above function to extract the function\n",
    "rental_listings['city'] = rental_listings['location'].apply(\n",
    "    lambda loc: extract_city_from_location(loc, city_list))"
   ]
  },
  {
   "cell_type": "code",
   "execution_count": 26,
   "id": "64867eae",
   "metadata": {},
   "outputs": [
    {
     "data": {
      "text/plain": [
       "city\n",
       "Johannesburg        2544\n",
       "Cape Town           2379\n",
       "Bloemfontein         855\n",
       "Polokwane            562\n",
       "Nelspruit            531\n",
       "Pietermaritzburg     458\n",
       "Kimberley            136\n",
       "Mafikeng              26\n",
       "Bhisho                 5\n",
       "Name: count, dtype: int64"
      ]
     },
     "execution_count": 26,
     "metadata": {},
     "output_type": "execute_result"
    }
   ],
   "source": [
    "rental_listings['city'].value_counts()"
   ]
  },
  {
   "cell_type": "code",
   "execution_count": 27,
   "id": "1cae26a8",
   "metadata": {},
   "outputs": [
    {
     "data": {
      "text/plain": [
       "np.int64(6524)"
      ]
     },
     "execution_count": 27,
     "metadata": {},
     "output_type": "execute_result"
    }
   ],
   "source": [
    "rental_listings['city'].isnull().sum()"
   ]
  },
  {
   "cell_type": "code",
   "execution_count": 28,
   "id": "5d587f6e",
   "metadata": {},
   "outputs": [],
   "source": [
    "# Create a mapping of suburb to kmown cities\n",
    "suburb_to_city_map = rental_listings[rental_listings['city'].notna()].drop_duplicates(subset=['suburb', 'city']).set_index('suburb')['city'].to_dict()\n",
    "\n",
    "# Fill missing city values based on the suburb\n",
    "rental_listings['city'] = rental_listings.apply(lambda row: suburb_to_city_map.get(row['suburb'], row['city']) if pd.isna(row['city']) else row['city'], axis= 1)   "
   ]
  },
  {
   "cell_type": "code",
   "execution_count": 29,
   "id": "da3632d2",
   "metadata": {},
   "outputs": [
    {
     "data": {
      "text/plain": [
       "np.int64(91)"
      ]
     },
     "execution_count": 29,
     "metadata": {},
     "output_type": "execute_result"
    }
   ],
   "source": [
    "rental_listings['city'].isnull().sum()"
   ]
  },
  {
   "cell_type": "code",
   "execution_count": 30,
   "id": "aac4dd4b",
   "metadata": {},
   "outputs": [],
   "source": [
    "# Drop the city rows with null values\n",
    "rental_listings = rental_listings.dropna(subset=['city'])"
   ]
  },
  {
   "cell_type": "code",
   "execution_count": 31,
   "id": "1fe2bdb3",
   "metadata": {},
   "outputs": [],
   "source": [
    "# Merge the city with its matching province\n",
    "rental_listings = rental_listings.merge(city_province, on='city', how='left')"
   ]
  },
  {
   "cell_type": "code",
   "execution_count": 32,
   "id": "7baedd0a",
   "metadata": {},
   "outputs": [
    {
     "data": {
      "text/plain": [
       "price                      0\n",
       "location                6420\n",
       "property_title             0\n",
       "property_description       0\n",
       "property_features          0\n",
       "listing_slug               0\n",
       "price (in rands)         217\n",
       "price_type               155\n",
       "suburb                     0\n",
       "city                       0\n",
       "province                   0\n",
       "dtype: int64"
      ]
     },
     "execution_count": 32,
     "metadata": {},
     "output_type": "execute_result"
    }
   ],
   "source": [
    "rental_listings.isnull().sum()"
   ]
  },
  {
   "cell_type": "code",
   "execution_count": 33,
   "id": "783c3211",
   "metadata": {},
   "outputs": [
    {
     "data": {
      "text/plain": [
       "suburb\n",
       "Cape Town City Centre    1077\n",
       "Rosebank                  639\n",
       "Woodstock                 350\n",
       "Johannesburg Central      296\n",
       "Claremont                 275\n",
       "                         ... \n",
       "Lebowakgomo                 1\n",
       "Lebowakgomo Zone F          1\n",
       "Silwerkruin                 1\n",
       "Bhisho Central              1\n",
       "Nirvana Ext 3               1\n",
       "Name: count, Length: 598, dtype: int64"
      ]
     },
     "execution_count": 33,
     "metadata": {},
     "output_type": "execute_result"
    }
   ],
   "source": [
    "# Suburbs \n",
    "rental_listings['suburb'].value_counts()"
   ]
  },
  {
   "cell_type": "code",
   "execution_count": 34,
   "id": "1f8b7697",
   "metadata": {},
   "outputs": [
    {
     "name": "stdout",
     "output_type": "stream",
     "text": [
      "<class 'pandas.core.frame.DataFrame'>\n",
      "RangeIndex: 13929 entries, 0 to 13928\n",
      "Data columns (total 11 columns):\n",
      " #   Column                Non-Null Count  Dtype  \n",
      "---  ------                --------------  -----  \n",
      " 0   price                 13929 non-null  object \n",
      " 1   location              7509 non-null   object \n",
      " 2   property_title        13929 non-null  object \n",
      " 3   property_description  13929 non-null  object \n",
      " 4   property_features     13929 non-null  object \n",
      " 5   listing_slug          13929 non-null  object \n",
      " 6   price (in rands)      13712 non-null  float64\n",
      " 7   price_type            13774 non-null  object \n",
      " 8   suburb                13929 non-null  object \n",
      " 9   city                  13929 non-null  object \n",
      " 10  province              13929 non-null  object \n",
      "dtypes: float64(1), object(10)\n",
      "memory usage: 1.2+ MB\n"
     ]
    }
   ],
   "source": [
    "rental_listings.info()"
   ]
  },
  {
   "cell_type": "code",
   "execution_count": 35,
   "id": "51e3df5e",
   "metadata": {},
   "outputs": [],
   "source": [
    "rental_listings[\"property_features\"] = rental_listings[\"property_features\"].str.replace(\n",
    "    r'Points of Interest.*', '', regex=True\n",
    ")\n",
    "\n",
    "rental_listings[\"property_features\"] = rental_listings[\"property_features\"].str.strip()"
   ]
  },
  {
   "cell_type": "code",
   "execution_count": 36,
   "id": "c593f1a3",
   "metadata": {},
   "outputs": [
    {
     "data": {
      "text/html": [
       "<div>\n",
       "<style scoped>\n",
       "    .dataframe tbody tr th:only-of-type {\n",
       "        vertical-align: middle;\n",
       "    }\n",
       "\n",
       "    .dataframe tbody tr th {\n",
       "        vertical-align: top;\n",
       "    }\n",
       "\n",
       "    .dataframe thead th {\n",
       "        text-align: right;\n",
       "    }\n",
       "</style>\n",
       "<table border=\"1\" class=\"dataframe\">\n",
       "  <thead>\n",
       "    <tr style=\"text-align: right;\">\n",
       "      <th></th>\n",
       "      <th>price</th>\n",
       "      <th>location</th>\n",
       "      <th>property_title</th>\n",
       "      <th>property_description</th>\n",
       "      <th>property_features</th>\n",
       "      <th>listing_slug</th>\n",
       "      <th>price (in rands)</th>\n",
       "      <th>price_type</th>\n",
       "      <th>suburb</th>\n",
       "      <th>city</th>\n",
       "      <th>province</th>\n",
       "    </tr>\n",
       "  </thead>\n",
       "  <tbody>\n",
       "    <tr>\n",
       "      <th>0</th>\n",
       "      <td>R7000PerMonth</td>\n",
       "      <td>Bhisho, Tyu Tyu North</td>\n",
       "      <td>3 Bedroom House to Rent in Tyu Tyu North</td>\n",
       "      <td>RE/MAX Border is proud to present this 3-bedro...</td>\n",
       "      <td>Property OverviewListing Number115295115Type o...</td>\n",
       "      <td>3-bedroom-house-to-rent-in-tyu-tyu-north-11529...</td>\n",
       "      <td>7000.0</td>\n",
       "      <td>Per Month</td>\n",
       "      <td>Tyu Tyu North</td>\n",
       "      <td>Bhisho</td>\n",
       "      <td>Eastern Cape</td>\n",
       "    </tr>\n",
       "    <tr>\n",
       "      <th>1</th>\n",
       "      <td>R7000PerMonth</td>\n",
       "      <td>Bhisho, Bhisho Central</td>\n",
       "      <td>3 Bedroom House to Rent in Bhisho Central</td>\n",
       "      <td>How CONVENIENT is this flat directly opposite ...</td>\n",
       "      <td>Property OverviewListing Number115332086Type o...</td>\n",
       "      <td>3-bedroom-house-to-rent-in-bhisho-central-1153...</td>\n",
       "      <td>7000.0</td>\n",
       "      <td>Per Month</td>\n",
       "      <td>Bhisho Central</td>\n",
       "      <td>Bhisho</td>\n",
       "      <td>Eastern Cape</td>\n",
       "    </tr>\n",
       "    <tr>\n",
       "      <th>2</th>\n",
       "      <td>R5300PerMonth</td>\n",
       "      <td>Bhisho, Tyu Tyu North</td>\n",
       "      <td>2 Bedroom House to Rent in Tyu Tyu North</td>\n",
       "      <td>Comfortable Home for a family which is availab...</td>\n",
       "      <td>Property OverviewListing Number115210602Type o...</td>\n",
       "      <td>2-bedroom-house-to-rent-in-tyu-tyu-north-11521...</td>\n",
       "      <td>5300.0</td>\n",
       "      <td>Per Month</td>\n",
       "      <td>Tyu Tyu North</td>\n",
       "      <td>Bhisho</td>\n",
       "      <td>Eastern Cape</td>\n",
       "    </tr>\n",
       "    <tr>\n",
       "      <th>3</th>\n",
       "      <td>R7500PerMonth</td>\n",
       "      <td>Bhisho, Bisho Park</td>\n",
       "      <td>3 Bedroom House to Rent in Bisho Park</td>\n",
       "      <td>BetterProp is thrilled to present this well-ma...</td>\n",
       "      <td>Property OverviewListing Number115555490Type o...</td>\n",
       "      <td>3-bedroom-house-to-rent-in-bisho-park-115555490</td>\n",
       "      <td>7500.0</td>\n",
       "      <td>Per Month</td>\n",
       "      <td>Bisho Park</td>\n",
       "      <td>Bhisho</td>\n",
       "      <td>Eastern Cape</td>\n",
       "    </tr>\n",
       "    <tr>\n",
       "      <th>4</th>\n",
       "      <td>R5500PerMonth</td>\n",
       "      <td>Bhisho, Bisho Park</td>\n",
       "      <td>House to Rent in Bisho Park</td>\n",
       "      <td>This neat family home boasts:3 bedroomsOpen pl...</td>\n",
       "      <td>Property OverviewListing Number115525482Type o...</td>\n",
       "      <td>house-to-rent-in-bisho-park-115525482</td>\n",
       "      <td>5500.0</td>\n",
       "      <td>Per Month</td>\n",
       "      <td>Bisho Park</td>\n",
       "      <td>Bhisho</td>\n",
       "      <td>Eastern Cape</td>\n",
       "    </tr>\n",
       "    <tr>\n",
       "      <th>5</th>\n",
       "      <td>R16000PerMonth</td>\n",
       "      <td>Bloemfontein, Groenvlei SH</td>\n",
       "      <td>4 Bedroom Townhouse to Rent in Groenvlei SH</td>\n",
       "      <td>Modern living with comfort and convenience!Thi...</td>\n",
       "      <td>Property OverviewListing Number115649514Type o...</td>\n",
       "      <td>4-bedroom-townhouse-to-rent-in-groenvlei-sh-11...</td>\n",
       "      <td>16000.0</td>\n",
       "      <td>Per Month</td>\n",
       "      <td>Groenvlei SH</td>\n",
       "      <td>Bloemfontein</td>\n",
       "      <td>Free State</td>\n",
       "    </tr>\n",
       "    <tr>\n",
       "      <th>6</th>\n",
       "      <td>R28000PerMonth</td>\n",
       "      <td>Bloemfontein, Hamilton</td>\n",
       "      <td>Industrial Property to Rent in Hamilton</td>\n",
       "      <td>This well-located and highly functional wareho...</td>\n",
       "      <td>Property OverviewListing Number115626383Type o...</td>\n",
       "      <td>industrial-property-to-rent-in-hamilton-115626383</td>\n",
       "      <td>28000.0</td>\n",
       "      <td>Per Month</td>\n",
       "      <td>Hamilton</td>\n",
       "      <td>Bloemfontein</td>\n",
       "      <td>Free State</td>\n",
       "    </tr>\n",
       "    <tr>\n",
       "      <th>7</th>\n",
       "      <td>R86000PerMonth</td>\n",
       "      <td>Bloemfontein, Hamilton</td>\n",
       "      <td>Industrial Property to Rent in Hamilton</td>\n",
       "      <td>This neat and secure 2000m2 warehouse, situate...</td>\n",
       "      <td>Property OverviewListing Number115626381Type o...</td>\n",
       "      <td>industrial-property-to-rent-in-hamilton-115626381</td>\n",
       "      <td>86000.0</td>\n",
       "      <td>Per Month</td>\n",
       "      <td>Hamilton</td>\n",
       "      <td>Bloemfontein</td>\n",
       "      <td>Free State</td>\n",
       "    </tr>\n",
       "    <tr>\n",
       "      <th>8</th>\n",
       "      <td>R13990PerMonth</td>\n",
       "      <td>Bloemfontein, Shellyvale</td>\n",
       "      <td>3 Bedroom Townhouse to Rent in Shellyvale</td>\n",
       "      <td>This delightful standalone home in the highly ...</td>\n",
       "      <td>Property OverviewListing Number115103630Type o...</td>\n",
       "      <td>3-bedroom-townhouse-to-rent-in-shellyvale-1151...</td>\n",
       "      <td>13990.0</td>\n",
       "      <td>Per Month</td>\n",
       "      <td>Shellyvale</td>\n",
       "      <td>Bloemfontein</td>\n",
       "      <td>Free State</td>\n",
       "    </tr>\n",
       "    <tr>\n",
       "      <th>9</th>\n",
       "      <td>R18000PerMonth</td>\n",
       "      <td>Bloemfontein, Woodland Hills Bergendal</td>\n",
       "      <td>3 Bedroom Townhouse to Rent in Woodland Hills ...</td>\n",
       "      <td>Experience luxury living in this brand-new, do...</td>\n",
       "      <td>Property OverviewListing Number113730436Type o...</td>\n",
       "      <td>3-bedroom-townhouse-to-rent-in-woodland-hills-...</td>\n",
       "      <td>18000.0</td>\n",
       "      <td>Per Month</td>\n",
       "      <td>Woodland Hills Bergendal</td>\n",
       "      <td>Bloemfontein</td>\n",
       "      <td>Free State</td>\n",
       "    </tr>\n",
       "  </tbody>\n",
       "</table>\n",
       "</div>"
      ],
      "text/plain": [
       "            price                                location  \\\n",
       "0   R7000PerMonth                   Bhisho, Tyu Tyu North   \n",
       "1   R7000PerMonth                  Bhisho, Bhisho Central   \n",
       "2   R5300PerMonth                   Bhisho, Tyu Tyu North   \n",
       "3   R7500PerMonth                      Bhisho, Bisho Park   \n",
       "4   R5500PerMonth                      Bhisho, Bisho Park   \n",
       "5  R16000PerMonth              Bloemfontein, Groenvlei SH   \n",
       "6  R28000PerMonth                  Bloemfontein, Hamilton   \n",
       "7  R86000PerMonth                  Bloemfontein, Hamilton   \n",
       "8  R13990PerMonth                Bloemfontein, Shellyvale   \n",
       "9  R18000PerMonth  Bloemfontein, Woodland Hills Bergendal   \n",
       "\n",
       "                                      property_title  \\\n",
       "0           3 Bedroom House to Rent in Tyu Tyu North   \n",
       "1          3 Bedroom House to Rent in Bhisho Central   \n",
       "2           2 Bedroom House to Rent in Tyu Tyu North   \n",
       "3              3 Bedroom House to Rent in Bisho Park   \n",
       "4                        House to Rent in Bisho Park   \n",
       "5        4 Bedroom Townhouse to Rent in Groenvlei SH   \n",
       "6            Industrial Property to Rent in Hamilton   \n",
       "7            Industrial Property to Rent in Hamilton   \n",
       "8          3 Bedroom Townhouse to Rent in Shellyvale   \n",
       "9  3 Bedroom Townhouse to Rent in Woodland Hills ...   \n",
       "\n",
       "                                property_description  \\\n",
       "0  RE/MAX Border is proud to present this 3-bedro...   \n",
       "1  How CONVENIENT is this flat directly opposite ...   \n",
       "2  Comfortable Home for a family which is availab...   \n",
       "3  BetterProp is thrilled to present this well-ma...   \n",
       "4  This neat family home boasts:3 bedroomsOpen pl...   \n",
       "5  Modern living with comfort and convenience!Thi...   \n",
       "6  This well-located and highly functional wareho...   \n",
       "7  This neat and secure 2000m2 warehouse, situate...   \n",
       "8  This delightful standalone home in the highly ...   \n",
       "9  Experience luxury living in this brand-new, do...   \n",
       "\n",
       "                                   property_features  \\\n",
       "0  Property OverviewListing Number115295115Type o...   \n",
       "1  Property OverviewListing Number115332086Type o...   \n",
       "2  Property OverviewListing Number115210602Type o...   \n",
       "3  Property OverviewListing Number115555490Type o...   \n",
       "4  Property OverviewListing Number115525482Type o...   \n",
       "5  Property OverviewListing Number115649514Type o...   \n",
       "6  Property OverviewListing Number115626383Type o...   \n",
       "7  Property OverviewListing Number115626381Type o...   \n",
       "8  Property OverviewListing Number115103630Type o...   \n",
       "9  Property OverviewListing Number113730436Type o...   \n",
       "\n",
       "                                        listing_slug  price (in rands)  \\\n",
       "0  3-bedroom-house-to-rent-in-tyu-tyu-north-11529...            7000.0   \n",
       "1  3-bedroom-house-to-rent-in-bhisho-central-1153...            7000.0   \n",
       "2  2-bedroom-house-to-rent-in-tyu-tyu-north-11521...            5300.0   \n",
       "3    3-bedroom-house-to-rent-in-bisho-park-115555490            7500.0   \n",
       "4              house-to-rent-in-bisho-park-115525482            5500.0   \n",
       "5  4-bedroom-townhouse-to-rent-in-groenvlei-sh-11...           16000.0   \n",
       "6  industrial-property-to-rent-in-hamilton-115626383           28000.0   \n",
       "7  industrial-property-to-rent-in-hamilton-115626381           86000.0   \n",
       "8  3-bedroom-townhouse-to-rent-in-shellyvale-1151...           13990.0   \n",
       "9  3-bedroom-townhouse-to-rent-in-woodland-hills-...           18000.0   \n",
       "\n",
       "  price_type                    suburb          city      province  \n",
       "0  Per Month             Tyu Tyu North        Bhisho  Eastern Cape  \n",
       "1  Per Month            Bhisho Central        Bhisho  Eastern Cape  \n",
       "2  Per Month             Tyu Tyu North        Bhisho  Eastern Cape  \n",
       "3  Per Month                Bisho Park        Bhisho  Eastern Cape  \n",
       "4  Per Month                Bisho Park        Bhisho  Eastern Cape  \n",
       "5  Per Month              Groenvlei SH  Bloemfontein    Free State  \n",
       "6  Per Month                  Hamilton  Bloemfontein    Free State  \n",
       "7  Per Month                  Hamilton  Bloemfontein    Free State  \n",
       "8  Per Month                Shellyvale  Bloemfontein    Free State  \n",
       "9  Per Month  Woodland Hills Bergendal  Bloemfontein    Free State  "
      ]
     },
     "execution_count": 36,
     "metadata": {},
     "output_type": "execute_result"
    }
   ],
   "source": [
    "rental_listings.head(10)"
   ]
  },
  {
   "cell_type": "code",
   "execution_count": 37,
   "id": "5d10715f",
   "metadata": {},
   "outputs": [
    {
     "name": "stdout",
     "output_type": "stream",
     "text": [
      "                price                        location  \\\n",
      "0       R7000PerMonth           Bhisho, Tyu Tyu North   \n",
      "1       R7000PerMonth          Bhisho, Bhisho Central   \n",
      "2       R5300PerMonth           Bhisho, Tyu Tyu North   \n",
      "3       R7500PerMonth              Bhisho, Bisho Park   \n",
      "4       R5500PerMonth              Bhisho, Bisho Park   \n",
      "...               ...                             ...   \n",
      "13924  R12770PerMonth            Polokwane, Moregloed   \n",
      "13925  R70631PerMonth  Polokwane, Polokwane Industria   \n",
      "13926        R72Perm²              Polokwane, Nirvana   \n",
      "13927  R19200PerMonth    Polokwane, Polokwane Central   \n",
      "13928  R13500PerMonth               Polokwane, Bendor   \n",
      "\n",
      "                                          property_title  \\\n",
      "0               3 Bedroom House to Rent in Tyu Tyu North   \n",
      "1              3 Bedroom House to Rent in Bhisho Central   \n",
      "2               2 Bedroom House to Rent in Tyu Tyu North   \n",
      "3                  3 Bedroom House to Rent in Bisho Park   \n",
      "4                            House to Rent in Bisho Park   \n",
      "...                                                  ...   \n",
      "13924               3 Bedroom House to Rent in Moregloed   \n",
      "13925  Industrial Property to Rent in Polokwane Indus...   \n",
      "13926             Industrial Property to Rent in Nirvana   \n",
      "13927   Commercial Property to Rent in Polokwane Central   \n",
      "13928                  2 Bedroom House to Rent in Bendor   \n",
      "\n",
      "                                    property_description  \\\n",
      "0      RE/MAX Border is proud to present this 3-bedro...   \n",
      "1      How CONVENIENT is this flat directly opposite ...   \n",
      "2      Comfortable Home for a family which is availab...   \n",
      "3      BetterProp is thrilled to present this well-ma...   \n",
      "4      This neat family home boasts:3 bedroomsOpen pl...   \n",
      "...                                                  ...   \n",
      "13924  This charming 3-bedroom, 2-bathroom house is l...   \n",
      "13925  This property comprises a substantial industri...   \n",
      "13926  Trador is situated at Kobalt street, Nirvana, ...   \n",
      "13927  Take your business to the next level with this...   \n",
      "13928  Located in a quiet and sought-after area in Be...   \n",
      "\n",
      "                                       property_features  \\\n",
      "0      Property OverviewListing Number115295115Type o...   \n",
      "1      Property OverviewListing Number115332086Type o...   \n",
      "2      Property OverviewListing Number115210602Type o...   \n",
      "3      Property OverviewListing Number115555490Type o...   \n",
      "4      Property OverviewListing Number115525482Type o...   \n",
      "...                                                  ...   \n",
      "13924  Property OverviewListing Number115537781Type o...   \n",
      "13925  Property OverviewListing Number115498798Type o...   \n",
      "13926  Property OverviewListing Number111663661Type o...   \n",
      "13927  Property OverviewListing Number115520154Type o...   \n",
      "13928  Property OverviewListing Number115579193Type o...   \n",
      "\n",
      "                                            listing_slug  price (in rands)  \\\n",
      "0      3-bedroom-house-to-rent-in-tyu-tyu-north-11529...            7000.0   \n",
      "1      3-bedroom-house-to-rent-in-bhisho-central-1153...            7000.0   \n",
      "2      2-bedroom-house-to-rent-in-tyu-tyu-north-11521...            5300.0   \n",
      "3        3-bedroom-house-to-rent-in-bisho-park-115555490            7500.0   \n",
      "4                  house-to-rent-in-bisho-park-115525482            5500.0   \n",
      "...                                                  ...               ...   \n",
      "13924     3-bedroom-house-to-rent-in-moregloed-115537781           12770.0   \n",
      "13925  industrial-property-to-rent-in-polokwane-indus...           70631.0   \n",
      "13926   industrial-property-to-rent-in-nirvana-111663661              72.0   \n",
      "13927  commercial-property-to-rent-in-polokwane-centr...           19200.0   \n",
      "13928        2-bedroom-house-to-rent-in-bendor-115579193           13500.0   \n",
      "\n",
      "      price_type               suburb       city  ... Bathrooms Kitchen  \\\n",
      "0      Per Month        Tyu Tyu North     Bhisho  ...         1       1   \n",
      "1      Per Month       Bhisho Central     Bhisho  ...         1       1   \n",
      "2      Per Month        Tyu Tyu North     Bhisho  ...         1       1   \n",
      "3      Per Month           Bisho Park     Bhisho  ...         1       1   \n",
      "4      Per Month           Bisho Park     Bhisho  ...      None    None   \n",
      "...          ...                  ...        ...  ...       ...     ...   \n",
      "13924  Per Month            Moregloed  Polokwane  ...         2       1   \n",
      "13925  Per Month  Polokwane Industria  Polokwane  ...      None    None   \n",
      "13926     Per m²              Nirvana  Polokwane  ...      None    None   \n",
      "13927  Per Month    Polokwane Central  Polokwane  ...         2       1   \n",
      "13928  Per Month               Bendor  Polokwane  ...         2       1   \n",
      "\n",
      "      Lounge Dining Room Parking Erf Size (m²) Floor Area (m²) Garden  Pool  \\\n",
      "0          1           1       1          None            None   None  None   \n",
      "1          1        None       1          None            None      1  None   \n",
      "2          1        None       1          None            None      1  None   \n",
      "3       None        None       3          None            None   None  None   \n",
      "4       None        None    None          None            None   None  None   \n",
      "...      ...         ...     ...           ...             ...    ...   ...   \n",
      "13924   None        None    None          None            None      1     1   \n",
      "13925   None        None    None          None            None   None  None   \n",
      "13926   None        None    None          None             250   None  None   \n",
      "13927   None        None       2          None             123   None  None   \n",
      "13928   None        None       2          None            None   None  None   \n",
      "\n",
      "      Garage  \n",
      "0       None  \n",
      "1       None  \n",
      "2       None  \n",
      "3       None  \n",
      "4       None  \n",
      "...      ...  \n",
      "13924      2  \n",
      "13925   None  \n",
      "13926   None  \n",
      "13927   None  \n",
      "13928   None  \n",
      "\n",
      "[13929 rows x 26 columns]\n"
     ]
    }
   ],
   "source": [
    "patterns = {\n",
    "    'Listing Number': r'Listing Number(\\d+)',\n",
    "    'Type of Property': r'Type of Property\\s*(House|Apartment / Flat|Townhouse|Commercial|Industrial|Vacant Land|Farm)',\n",
    "    #'Description': r'Description([A-Za-z]+)',\n",
    "    #'Lifestyle': r'Lifestyle([A-Za-z]+)',\n",
    "    #'Occupation Date': r'Occupation Date([\\d\\w\\s]+?)Deposit Requirements',\n",
    "    #'Deposit Amount': r'Deposit Amount:\\s*R\\s?([\\d,]+)',\n",
    "    'Pets Allowed': r'Pets Allowed(Yes|No)',\n",
    "    'Furnished': r'Furnished(Yes|No)',\n",
    "    'Bedrooms': r'Bedrooms?\\s*(\\d+)',\n",
    "    'Bathrooms': r'Bathrooms?\\s*(\\d+)',\n",
    "    'Kitchen': r'Kitchens?\\s*(\\d+)',\n",
    "    'Lounge': r'Lounges?\\s*(\\d+)',\n",
    "    'Dining Room': r'Dining Room(\\d+)',\n",
    "    'Parking': r'Parking(\\d+)',\n",
    "    #'Special Features': r'Special Features(\\d+)',\n",
    "    #'Backup Water': r'Backup Water(Yes|No)',\n",
    "    'Erf Size (m²)': r'Erf Size\\s*(\\d+)\\s*m²',\n",
    "    'Floor Area (m²)': r'Floor Area\\s*(\\d+)\\s*m²',\n",
    "    'Garden': r'Gardens?\\s*(\\d+)',\n",
    "    'Pool': r'Pools?\\s*(\\d+)',\n",
    "    'Garage': r'Garages?\\s*(\\d+)'\n",
    "}\n",
    "\n",
    "\n",
    "\n",
    "# Function to extract features from text\n",
    "def extract_features(text):\n",
    "    return {\n",
    "        field: (match := re.search(pattern, text)\n",
    "                ) and match.group(1).strip() or None for field, pattern in patterns.items()\n",
    "    }\n",
    "    \n",
    "# Apply extraction row-wise\n",
    "extracted_df = rental_listings['property_features'].apply(extract_features).apply(pd.Series)\n",
    "\n",
    "# Combine original df with the extracted columns\n",
    "results_df = pd.concat([rental_listings, extracted_df], axis=1)\n",
    "\n",
    "# View result\n",
    "print(results_df)"
   ]
  },
  {
   "cell_type": "code",
   "execution_count": 40,
   "id": "a67be39c",
   "metadata": {},
   "outputs": [
    {
     "data": {
      "text/plain": [
       "Erf Size (m²)\n",
       "495    68\n",
       "500    41\n",
       "250    39\n",
       "100    34\n",
       "800    34\n",
       "       ..\n",
       "922     1\n",
       "689     1\n",
       "877     1\n",
       "474     1\n",
       "416     1\n",
       "Name: count, Length: 716, dtype: int64"
      ]
     },
     "execution_count": 40,
     "metadata": {},
     "output_type": "execute_result"
    }
   ],
   "source": [
    "results_df['Erf Size (m²)'].value_counts()"
   ]
  },
  {
   "cell_type": "code",
   "execution_count": null,
   "id": "91b43448",
   "metadata": {},
   "outputs": [],
   "source": [
    "results_df.head(20)"
   ]
  },
  {
   "cell_type": "code",
   "execution_count": null,
   "id": "ceaa5683",
   "metadata": {},
   "outputs": [],
   "source": [
    "results_df['Parking'].value_counts()"
   ]
  },
  {
   "cell_type": "code",
   "execution_count": null,
   "id": "4d37d767",
   "metadata": {},
   "outputs": [],
   "source": [
    "# Set display options\n",
    "pd.set_option('display.max_columns', None)        # Show all columns\n",
    "# Show all rows (if you're looking at multiple)\n",
    "pd.set_option('display.max_rows', None)\n",
    "# Show full content in each cell\n",
    "pd.set_option('display.max_colwidth', None)\n",
    "pd.set_option('display.width', None)              # Prevent line wrapping"
   ]
  },
  {
   "cell_type": "code",
   "execution_count": null,
   "id": "a2d87b2e",
   "metadata": {},
   "outputs": [],
   "source": [
    "results_df[\"Parking\"] = pd.to_numeric(results_df[\"Parking\"], errors='coerce')\n",
    "results_df[results_df[\"Parking\"] == 3].sort_values(\"Parking\")"
   ]
  },
  {
   "cell_type": "code",
   "execution_count": null,
   "id": "c01e105f",
   "metadata": {},
   "outputs": [],
   "source": [
    "results_df['Garage'].value_counts()"
   ]
  },
  {
   "cell_type": "code",
   "execution_count": null,
   "id": "6c804854",
   "metadata": {},
   "outputs": [],
   "source": [
    "def extract_bedrooms_from_property_title(title):\n",
    "    if pd.isna(title):\n",
    "        return None\n",
    "    match = re.search(r'(\\d+)[-\\s]?bedroom', title.lower())\n",
    "    return int(match.group(1)) if match else None\n",
    "\n",
    "results_df['Bedrooms'] = results_df['Bedrooms'].fillna(\n",
    "    results_df.apply(lambda row: extract_bedrooms_from_property_title(row['property_title']) if pd.isna(row['Bedrooms']) else row['Bedrooms'], axis=1))\n",
    "\n",
    "# Optional: convert to integer if needed\n",
    "results_df['Bedrooms'] = pd.to_numeric(results_df['Bedrooms'], errors='coerce').astype('Int64')"
   ]
  },
  {
   "cell_type": "code",
   "execution_count": null,
   "id": "ffd1a940",
   "metadata": {},
   "outputs": [],
   "source": [
    "results_df['Bedrooms'].isnull().sum()"
   ]
  },
  {
   "cell_type": "code",
   "execution_count": null,
   "id": "8bbbea20",
   "metadata": {},
   "outputs": [],
   "source": [
    "results_df['Bedrooms'].isnull().sum()"
   ]
  },
  {
   "cell_type": "code",
   "execution_count": null,
   "id": "2134b891",
   "metadata": {},
   "outputs": [],
   "source": [
    "results_df.info()"
   ]
  },
  {
   "cell_type": "code",
   "execution_count": null,
   "id": "e9c105ae",
   "metadata": {},
   "outputs": [],
   "source": [
    "results_df.head(20)"
   ]
  },
  {
   "cell_type": "code",
   "execution_count": null,
   "id": "f5ad9fc4",
   "metadata": {},
   "outputs": [],
   "source": [
    "results_df['Furnished'].value_counts()"
   ]
  },
  {
   "cell_type": "code",
   "execution_count": null,
   "id": "cd92ac76",
   "metadata": {},
   "outputs": [],
   "source": [
    "results_df['Type of Property'].value_counts()"
   ]
  },
  {
   "cell_type": "markdown",
   "id": "7d44a31b",
   "metadata": {},
   "source": [
    "### Listings for sale"
   ]
  },
  {
   "cell_type": "code",
   "execution_count": null,
   "id": "48f4787c",
   "metadata": {},
   "outputs": [],
   "source": [
    "listings_for_sale = pd.read_csv(\"../data/raw/listings_for_sale_in_capital_cities.csv\")\n",
    "display(\"Listings for sale\", listings_for_sale.head(), listings_for_sale.shape)"
   ]
  },
  {
   "cell_type": "code",
   "execution_count": null,
   "id": "f47fec42",
   "metadata": {},
   "outputs": [],
   "source": [
    "# Get information about the listings_for_sale document\n",
    "listings_for_sale.info()"
   ]
  },
  {
   "cell_type": "code",
   "execution_count": null,
   "id": "17509ea6",
   "metadata": {},
   "outputs": [],
   "source": [
    "# See the number of null values in each column\n",
    "listings_for_sale.isnull().sum()"
   ]
  },
  {
   "cell_type": "code",
   "execution_count": null,
   "id": "e9a851be",
   "metadata": {},
   "outputs": [],
   "source": [
    "# Drop listings where the property_title is null\n",
    "listings_for_sale = listings_for_sale.dropna(subset=['property_title']).reset_index(drop=True)"
   ]
  },
  {
   "cell_type": "code",
   "execution_count": null,
   "id": "f6f28351",
   "metadata": {},
   "outputs": [],
   "source": [
    "listings_for_sale_duplicates = listings_for_sale[listings_for_sale.duplicated()]\n",
    "num_listings_for_sale_duplicates = len(listings_for_sale_duplicates)\n",
    "print(f\"There are {num_listings_for_sale_duplicates} duplicates in the rental dataset \")"
   ]
  },
  {
   "cell_type": "code",
   "execution_count": null,
   "id": "b5b6aa93",
   "metadata": {},
   "outputs": [],
   "source": [
    "# Drop duplicate rows and keep the first occurrence\n",
    "listings_for_sale = listings_for_sale.drop_duplicates().reset_index(drop=True)"
   ]
  },
  {
   "cell_type": "code",
   "execution_count": null,
   "id": "ba74b764",
   "metadata": {},
   "outputs": [],
   "source": [
    "print(listings_for_sale['price'].str.contains(\n",
    "    'POA', case=False, na=False).sum())"
   ]
  },
  {
   "cell_type": "code",
   "execution_count": null,
   "id": "b6abbca8",
   "metadata": {},
   "outputs": [],
   "source": [
    "\"\"\"_summary_\n",
    "# Remove rows where 'price' contains 'POA' (case-insensitive)\n",
    "listings_for_sale = listings_for_sale[~listings_for_sale['price'].astype(\n",
    "    str).str.contains('POA', case=False, na=False)]\n",
    "rental_listings.reset_index(drop=True, inplace=True)\n",
    "    \"\"\""
   ]
  },
  {
   "cell_type": "code",
   "execution_count": null,
   "id": "24bc0ec6",
   "metadata": {},
   "outputs": [],
   "source": [
    "listings_for_sale['price_cleaned'] = listings_for_sale['price'].str.extract(\n",
    "    r'(R\\s?\\d[\\d\\s]*)')\n",
    "\n",
    "listings_for_sale['price_cleaned'] = listings_for_sale['price_cleaned'].str.replace(\n",
    "    r'\\s+', '', regex=True)\n",
    "\n",
    "listings_for_sale['price (in rands)'] = listings_for_sale['price_cleaned'].str.extract(\n",
    "    r'R?(\\d+)', expand=False)\n",
    "\n",
    "# Print out the first five rows to see the results\n",
    "listings_for_sale.head()"
   ]
  },
  {
   "cell_type": "code",
   "execution_count": null,
   "id": "cd30906a",
   "metadata": {},
   "outputs": [],
   "source": [
    "# Extract the location from the listing_slug column\n",
    "listings_for_sale['suburb'] = listings_for_sale['property_title'].str.extract(\n",
    "    r'for Sale in (.+)', expand=False)\n",
    "\n",
    "# Remove the trailing numbers from the suburb column\n",
    "listings_for_sale['suburb'] = (\n",
    "    listings_for_sale['suburb'].str.replace(r'-\\d+$', '', regex=True).str.strip())\n",
    "\n",
    "# Print the first five rows of the table to see the results\n",
    "listings_for_sale.head()"
   ]
  },
  {
   "cell_type": "code",
   "execution_count": null,
   "id": "fe5ca45c",
   "metadata": {},
   "outputs": [],
   "source": [
    "# Apply the extract_city_from_location function to extract the function\n",
    "listings_for_sale['city'] = listings_for_sale['location'].apply(\n",
    "    lambda loc: extract_city_from_location(loc, city_list))"
   ]
  },
  {
   "cell_type": "code",
   "execution_count": null,
   "id": "9787f0ef",
   "metadata": {},
   "outputs": [],
   "source": [
    "listings_for_sale['city'].isnull().sum()"
   ]
  },
  {
   "cell_type": "code",
   "execution_count": null,
   "id": "20ab33b1",
   "metadata": {},
   "outputs": [],
   "source": [
    "# Create a mapping of suburb to kmown cities\n",
    "suburb_to_city_map = listings_for_sale[listings_for_sale['city'].notna()].drop_duplicates(\n",
    "    subset=['suburb', 'city']).set_index('suburb')['city'].to_dict()\n",
    "\n",
    "# Fill missing city values based on the suburb\n",
    "listings_for_sale['city'] = listings_for_sale.apply(lambda row: suburb_to_city_map.get(\n",
    "    row['suburb'], row['city']) if pd.isna(row['city']) else row['city'], axis=1)"
   ]
  },
  {
   "cell_type": "code",
   "execution_count": null,
   "id": "ea95b608",
   "metadata": {},
   "outputs": [],
   "source": [
    "# See the number of unique values in the city column\n",
    "listings_for_sale['city'].value_counts()"
   ]
  },
  {
   "cell_type": "code",
   "execution_count": null,
   "id": "d3dfdb08",
   "metadata": {},
   "outputs": [],
   "source": [
    "listings_for_sale.isnull().sum()"
   ]
  },
  {
   "cell_type": "code",
   "execution_count": null,
   "id": "70d9e04d",
   "metadata": {},
   "outputs": [],
   "source": [
    "# Drop the rows where the city_column is empty\n",
    "listings_for_sale = listings_for_sale.dropna(subset=['city'])"
   ]
  },
  {
   "cell_type": "code",
   "execution_count": null,
   "id": "86814373",
   "metadata": {},
   "outputs": [],
   "source": [
    "listings_for_sale.isnull().sum()"
   ]
  },
  {
   "cell_type": "code",
   "execution_count": null,
   "id": "eab559e8",
   "metadata": {},
   "outputs": [],
   "source": [
    "# Merge to get the matching province for the listings\n",
    "listings_for_sale = listings_for_sale.merge(city_province, on='city', how='left')"
   ]
  },
  {
   "cell_type": "code",
   "execution_count": null,
   "id": "80bcfa0f",
   "metadata": {},
   "outputs": [],
   "source": [
    "listings_for_sale.isnull().sum()"
   ]
  },
  {
   "cell_type": "code",
   "execution_count": null,
   "id": "1b8f21ef",
   "metadata": {},
   "outputs": [],
   "source": [
    "poa_mask = listings_for_sale['price'].astype(\n",
    "    str).str.contains(\"POA\", case=False, na=False)\n",
    "num_poa = poa_mask.sum()\n",
    "\n",
    "print(f\"There are {num_poa} listings with 'POA' in the price column.\")"
   ]
  }
 ],
 "metadata": {
  "kernelspec": {
   "display_name": ".venv",
   "language": "python",
   "name": "python3"
  },
  "language_info": {
   "codemirror_mode": {
    "name": "ipython",
    "version": 3
   },
   "file_extension": ".py",
   "mimetype": "text/x-python",
   "name": "python",
   "nbconvert_exporter": "python",
   "pygments_lexer": "ipython3",
   "version": "3.13.1"
  }
 },
 "nbformat": 4,
 "nbformat_minor": 5
}

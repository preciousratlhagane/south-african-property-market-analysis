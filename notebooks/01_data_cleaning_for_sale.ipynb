{
 "cells": [
  {
   "cell_type": "markdown",
   "id": "15598fec",
   "metadata": {},
   "source": [
    "# <center> 🧽 Data Cleaning Part 2 </center>"
   ]
  },
  {
   "cell_type": "markdown",
   "id": "53c8c6a1",
   "metadata": {},
   "source": [
    "## Table of Contents\n",
    "\n",
    "- [1. Introduction](#1-introduction)\n",
    "- [2. Loading Data](#2-loading-data)\n",
    "- [3. Exploratory Data Analysis](#3-exploratory-data-analysis)\n",
    "- [4. Save the transformed data](#4-save-the-transformed-data)"
   ]
  },
  {
   "cell_type": "markdown",
   "id": "471639f4",
   "metadata": {},
   "source": [
    "## 1. Introduction\n",
    "[Back to Table of Contents](#table-of-contents)\n",
    "\n",
    "---\n",
    "\n",
    "| ⚡ Description: Introducing the project ⚡ |\n",
    "| :--------------------------- |\n",
    "\n",
    "---"
   ]
  },
  {
   "cell_type": "markdown",
   "id": "9d9d4c1b",
   "metadata": {},
   "source": [
    "In this section, we shift our focus to cleaning and preparing the property listings for sale. While some cleaning steps such as handling missing values, feature extraction, and outlier treatment may overlap with those applied to rental listings, sale listings present unique challenges. \n",
    "\n",
    "To ensure the dataset is ready for analysis, we will:\n",
    "\n",
    "- Identify and handle `POA` entries in the price column\n",
    "- Impute missing values in key numerical columns (e.g., erf size, floor area)\n",
    "- Standardize categorical values and fix any structural inconsistencies. \n",
    "- Remove or adjust outliers where appropriate\n",
    "\n",
    "By the end of this section, the for-sale listings will be structured and cleaned similarly to the rental data, ready for unified or comparative analysis across different listings types. "
   ]
  },
  {
   "cell_type": "markdown",
   "id": "217f417d",
   "metadata": {},
   "source": [
    "## 2. Loading Data\n",
    "[Back to Table of Contents](#table-of-contents)\n",
    "\n",
    "---\n",
    "    \n",
    "| ⚡ Description: Loading the data in our environment ⚡ |\n",
    "| :--------------------------- |\n",
    "\n",
    "---"
   ]
  },
  {
   "cell_type": "markdown",
   "id": "46a18145",
   "metadata": {},
   "source": [
    "### Import packages"
   ]
  },
  {
   "cell_type": "code",
   "execution_count": 1,
   "id": "0d5fc26d",
   "metadata": {},
   "outputs": [],
   "source": [
    "# Import packages\n",
    "import re\n",
    "import warnings\n",
    "\n",
    "import numpy as np\n",
    "import pandas as pd\n",
    "\n",
    "warnings.filterwarnings(\"ignore\", category=FutureWarning)"
   ]
  },
  {
   "cell_type": "code",
   "execution_count": 2,
   "id": "ff5a3749",
   "metadata": {},
   "outputs": [
    {
     "data": {
      "text/plain": [
       "'Listings for sale'"
      ]
     },
     "metadata": {},
     "output_type": "display_data"
    },
    {
     "data": {
      "application/vnd.microsoft.datawrangler.viewer.v0+json": {
       "columns": [
        {
         "name": "index",
         "rawType": "int64",
         "type": "integer"
        },
        {
         "name": "price",
         "rawType": "object",
         "type": "string"
        },
        {
         "name": "location",
         "rawType": "object",
         "type": "string"
        },
        {
         "name": "property_title",
         "rawType": "object",
         "type": "string"
        },
        {
         "name": "property_description",
         "rawType": "object",
         "type": "string"
        },
        {
         "name": "property_features",
         "rawType": "object",
         "type": "string"
        },
        {
         "name": "listing_slug",
         "rawType": "object",
         "type": "string"
        }
       ],
       "ref": "c87fe3f4-7f4a-4197-bf3c-7b350c6755e4",
       "rows": [
        [
         "0",
         "R 690 000Bond CostsBond CalculatorPurchase PriceRDeposit(Optional)RInterest Rate%Loan TermyearsMonthly Repayment:Total Once Off Costs :Min Gross Monthly Income:View BreakdownWhat do I qualify for based on my income?What are the bond and transfer costs?*Disclaimer: Please note that by default this calculator uses the prime interest rate for bond payment calculations. This is purely for convenience and not an indication of the interest rate that might be offered to you by a bank. This calculator is intended to provide estimates based on the indicated amounts, rates and fees. Whilst we make every effort to ensure the accuracy of these calculations, we cannot be held liable for inaccuracies. Property24 does not accept liability for any damages arising from the use of this calculator.",
         "Bhisho, Bhisho Central",
         "3 Bedroom House for Sale in Bhisho Central",
         "RE/MAX Border is proud to present this family home in the heart of Tyutyu North.This solidly built property offers 3 comfortable bedrooms, a spacious lounge, a separate dining room, a functional kitchen, and a bathroom with a separate toilet—perfect for family living. The home is neat, and offers great potential for customization.Ideally located just off the Bisho main road, the property provides easy access to schools, churches, crèches, government offices, and public transport.Whether you're a first-time buyer, a growing family, or looking for a sound investment, this home is a must-see!Contact RE/MAX Border today to arrange your private viewing.GIBELA TRADE AND INVEST 1204 (PTY) LTD trading as RE/MAX Border (Beacon Bay) operates in terms of a franchise agreement with RE/MAXof Southern Africa.Read more...",
         "Property OverviewListing Number115871179Type of PropertyHouseDescriptionFreestandingLifestyleSuburbanList Date15 April 2025Erf Size248 m²Floor Area128 m²Rates and TaxesR 2 161Pets AllowedYesRoomsBedroom3Bathroom1Kitchen1Lounge1Dining Room1External FeaturesParking3GardenYesOther FeaturesSecuritySecurity GateWheelchair AccessibleNoPoints of InterestEducationBisho Primary School0.32kmBisho H School0.37kmTyutyu Primary School1.04kmZameka Junior Secondary School1.37kmSinako Primary School1.42kmBalasi Primary School2.26kmZ K Matthews Senior Secondary School2.52kmSkobeni Primary School3.41kmBreidbach Primary School4.00kmDale College4.10kmBreidbach Secondary School4.34kmThembalethu Primary School4.85kmSt Christophers Private School5.08kmHoërskool De Vos Malan5.08kmKingsridge High School For Girls5.21kmJityaza Combined Primary School5.27kmBulelani Primary School5.37kmCentral Primary School5.49kmKing Wm'S Town Primary School5.53kmLuzuko Junior Primary School5.76kmB Kat Senior Secondary School5.82kmIqonce Junior Secondary School6.09kmMzontsundu Senior Secondary School6.24kmWestbank Primary School6.38kmSchornville Primary School6.45kmAbundant Life Christian School6.45kmView moreTransport and Public ServicesYellowwoods2.24kmPlumbago2.35kmBelstone4.23kmKing William's Town6.18kmView more",
         "3-bedroom-house-for-sale-in-bhisho-central-115871179"
        ],
        [
         "1",
         "R 700 000Bond CostsBond CalculatorPurchase PriceRDeposit(Optional)RInterest Rate%Loan TermyearsMonthly Repayment:Total Once Off Costs :Min Gross Monthly Income:View BreakdownWhat do I qualify for based on my income?What are the bond and transfer costs?*Disclaimer: Please note that by default this calculator uses the prime interest rate for bond payment calculations. This is purely for convenience and not an indication of the interest rate that might be offered to you by a bank. This calculator is intended to provide estimates based on the indicated amounts, rates and fees. Whilst we make every effort to ensure the accuracy of these calculations, we cannot be held liable for inaccuracies. Property24 does not accept liability for any damages arising from the use of this calculator.",
         "Bhisho, Tyu Tyu North",
         "3 Bedroom House for Sale in Tyu Tyu North",
         "This spacious property offers a well-designed layout with three bathrooms, a convenient garage, and a modern kitchen that flows seamlessly into an open-plan lounge and dining area, perfect for entertaining. The home also includes a separate scullery and a dedicated laundry area for added practicality. Outside, you'll find a large, expansive yard, ideal for outdoor activities or future development.The property is ideally situated, offering easy access to essential amenities, including hospitals, schools, and a nearby shopping center. For added peace of mind, the exterior is fully paved and fitted with burglar bars, ensuring enhanced security for you and your family.",
         "Property OverviewListing Number115765257Type of PropertyHouseList Date24 March 2025Erf Size280 m²Floor Area278 m²Rates and TaxesR 1 070Pets AllowedYesRoomsBedroomBathrooms1Kitchens2Reception Rooms2External FeaturesGarageParking2GardenYesBuildingRoofTileWallConcreteFloorTiled FloorsOther FeaturesSecurityTotally Fenced,24 Hour AccessPoints of InterestEducationSinako Primary School0.51kmZameka Junior Secondary School0.55kmBisho Primary School1.15kmTyutyu Primary School1.18kmBisho H School1.31kmBalasi Primary School1.66kmSkobeni Primary School1.95kmZ K Matthews Senior Secondary School2.88kmBulelani Primary School3.91kmBreidbach Primary School4.88kmThembalethu Primary School4.88kmBreidbach Secondary School5.21kmDale College5.56kmB Kat Senior Secondary School5.63kmJityaza Combined Primary School6.28kmSt Christophers Private School6.32kmHoërskool De Vos Malan6.54kmKingsridge High School For Girls6.68kmLuzuko Junior Primary School6.89kmCentral Primary School6.92kmKing Wm'S Town Primary School6.98kmMzontsundu Senior Secondary School7.08kmPhillip Mtywaku Senior Secondary School7.43kmIqonce Junior Secondary School7.54kmView moreTransport and Public ServicesYellowwoods2.40kmPlumbago3.47kmBelstone5.39kmKing's Cross5.47kmMerino Vale5.94kmBlaney7.08kmView more",
         "3-bedroom-house-for-sale-in-tyu-tyu-north-115765257"
        ],
        [
         "2",
         "R 749 000Bond CostsBond CalculatorPurchase PriceRDeposit(Optional)RInterest Rate%Loan TermyearsMonthly Repayment:Total Once Off Costs :Min Gross Monthly Income:View BreakdownWhat do I qualify for based on my income?What are the bond and transfer costs?*Disclaimer: Please note that by default this calculator uses the prime interest rate for bond payment calculations. This is purely for convenience and not an indication of the interest rate that might be offered to you by a bank. This calculator is intended to provide estimates based on the indicated amounts, rates and fees. Whilst we make every effort to ensure the accuracy of these calculations, we cannot be held liable for inaccuracies. Property24 does not accept liability for any damages arising from the use of this calculator.",
         "Bhisho, Tyu Tyu North",
         "3 Bedroom House for Sale in Tyu Tyu North",
         "Sizwe Mlungwana Properties is excited to present this family home to the market.The house consist of 3 spacious bedrooms, modern kitchen that is spacious enough, bathroom, sitting room and carport.The house boast big yard for future extensions, the yard is child friendly and it's in a perfect location and secured.It is close to all amenities.Call today to avoid missing out.",
         "Property OverviewListing Number115864665Type of PropertyHouseList Date14 April 2025RoomsBedroom3Bathroom1Kitchen1Lounge1Other FeaturesSecurity1Points of InterestEducationSinako Primary School0.51kmZameka Junior Secondary School0.55kmBisho Primary School1.15kmTyutyu Primary School1.18kmBisho H School1.31kmBalasi Primary School1.66kmSkobeni Primary School1.95kmZ K Matthews Senior Secondary School2.88kmBulelani Primary School3.91kmBreidbach Primary School4.88kmThembalethu Primary School4.88kmBreidbach Secondary School5.21kmDale College5.56kmB Kat Senior Secondary School5.63kmJityaza Combined Primary School6.28kmSt Christophers Private School6.32kmHoërskool De Vos Malan6.54kmKingsridge High School For Girls6.68kmLuzuko Junior Primary School6.89kmCentral Primary School6.92kmKing Wm'S Town Primary School6.98kmMzontsundu Senior Secondary School7.08kmPhillip Mtywaku Senior Secondary School7.43kmIqonce Junior Secondary School7.54kmView moreTransport and Public ServicesYellowwoods2.40kmPlumbago3.47kmBelstone5.39kmKing's Cross5.47kmMerino Vale5.94kmBlaney7.08kmView more",
         "3-bedroom-house-for-sale-in-tyu-tyu-north-115864665"
        ],
        [
         "3",
         "R 799 000Bond CostsBond CalculatorPurchase PriceRDeposit(Optional)RInterest Rate%Loan TermyearsMonthly Repayment:Total Once Off Costs :Min Gross Monthly Income:View BreakdownWhat do I qualify for based on my income?What are the bond and transfer costs?*Disclaimer: Please note that by default this calculator uses the prime interest rate for bond payment calculations. This is purely for convenience and not an indication of the interest rate that might be offered to you by a bank. This calculator is intended to provide estimates based on the indicated amounts, rates and fees. Whilst we make every effort to ensure the accuracy of these calculations, we cannot be held liable for inaccuracies. Property24 does not accept liability for any damages arising from the use of this calculator.",
         "Bhisho, Bhisho Central",
         "3 Bedroom House for Sale in Bhisho Central",
         "Discover this well located 3 bedroom home.Perfect for families or investors.Situated within walking distance of top schools, a filing station and essential amenities.This property offers both convenience and comfort.Featuring a spacious lounge, a dedicated dining area and a well appointed bathroom.It provides a warm and inviting atmosphere.Don't miss this fantastic opportunity to own a home in the heart.Contact us today to arrange a viewing.",
         "Property OverviewListing Number115811196Type of PropertyHouseList Date02 April 2025Erf Size413 m²RoomsBedroom3Bathroom1Kitchen1External FeaturesGarden1Points of InterestEducationBisho Primary School0.32kmBisho H School0.37kmTyutyu Primary School1.04kmZameka Junior Secondary School1.37kmSinako Primary School1.42kmBalasi Primary School2.26kmZ K Matthews Senior Secondary School2.52kmSkobeni Primary School3.41kmBreidbach Primary School4.00kmDale College4.10kmBreidbach Secondary School4.34kmThembalethu Primary School4.85kmSt Christophers Private School5.08kmHoërskool De Vos Malan5.08kmKingsridge High School For Girls5.21kmJityaza Combined Primary School5.27kmBulelani Primary School5.37kmCentral Primary School5.49kmKing Wm'S Town Primary School5.53kmLuzuko Junior Primary School5.76kmB Kat Senior Secondary School5.82kmIqonce Junior Secondary School6.09kmMzontsundu Senior Secondary School6.24kmWestbank Primary School6.38kmSchornville Primary School6.45kmAbundant Life Christian School6.45kmView moreTransport and Public ServicesYellowwoods2.24kmPlumbago2.35kmBelstone4.23kmKing William's Town6.18kmView more",
         "3-bedroom-house-for-sale-in-bhisho-central-115811196"
        ],
        [
         "4",
         "R 695 000Bond CostsBond CalculatorPurchase PriceRDeposit(Optional)RInterest Rate%Loan TermyearsMonthly Repayment:Total Once Off Costs :Min Gross Monthly Income:View BreakdownWhat do I qualify for based on my income?What are the bond and transfer costs?*Disclaimer: Please note that by default this calculator uses the prime interest rate for bond payment calculations. This is purely for convenience and not an indication of the interest rate that might be offered to you by a bank. This calculator is intended to provide estimates based on the indicated amounts, rates and fees. Whilst we make every effort to ensure the accuracy of these calculations, we cannot be held liable for inaccuracies. Property24 does not accept liability for any damages arising from the use of this calculator.",
         "Bhisho, Tyu Tyu",
         "3 Bedroom House for Sale in Tyu Tyu",
         "Presenting this beautiful house to the market.The house consist of :-- 3 spacious bedrooms with laminated flooring- 1 bathroom- Open-plan kitchen and lounge area, perfect for entertaining- Fully walled yard with ample space for car parking and braai area- Porcelain tiles throughout the house, except for bedrooms- PVC ceilings for a modern finishConveniently located in the heart of Bisho, this property is:- Close to top schools- Near amenities and shopping centers- Centrally located for easy access to major roadsPerfect for families, first-time buyers, or investors!Don't miss this opportunity! Contact us to schedule a viewing!",
         "Property OverviewListing Number115837796Type of PropertyHouseList Date08 April 2025RoomsBedroom3Bathroom2Kitchen1Lounge1Other FeaturesSecurity1Points of InterestEducationTyutyu Primary School0.18kmBisho H School0.79kmZameka Junior Secondary School0.85kmBisho Primary School1.04kmSinako Primary School1.67kmBalasi Primary School2.83kmSkobeni Primary School2.89kmBreidbach Primary School3.54kmZ K Matthews Senior Secondary School3.55kmBreidbach Secondary School3.87kmDale College4.68kmBulelani Primary School5.01kmSt Christophers Private School5.09kmLuzuko Junior Primary School5.60kmHoërskool De Vos Malan5.65kmThembalethu Primary School5.81kmKingsridge High School For Girls5.84kmCentral Primary School5.90kmKing Wm'S Town Primary School6.07kmJityaza Combined Primary School6.42kmNoncedo Junior Primary School6.58kmIqonce Junior Secondary School6.62kmB Kat Senior Secondary School6.70kmTshatshu Primary School6.70kmView moreTransport and Public ServicesYellowwoods1.19kmPlumbago2.22kmBelstone4.11kmKing's Cross5.63kmMerino Vale6.66kmKing William's Town6.71kmView more",
         "3-bedroom-house-for-sale-in-tyu-tyu-115837796"
        ]
       ],
       "shape": {
        "columns": 6,
        "rows": 5
       }
      },
      "text/html": [
       "<div>\n",
       "<style scoped>\n",
       "    .dataframe tbody tr th:only-of-type {\n",
       "        vertical-align: middle;\n",
       "    }\n",
       "\n",
       "    .dataframe tbody tr th {\n",
       "        vertical-align: top;\n",
       "    }\n",
       "\n",
       "    .dataframe thead th {\n",
       "        text-align: right;\n",
       "    }\n",
       "</style>\n",
       "<table border=\"1\" class=\"dataframe\">\n",
       "  <thead>\n",
       "    <tr style=\"text-align: right;\">\n",
       "      <th></th>\n",
       "      <th>price</th>\n",
       "      <th>location</th>\n",
       "      <th>property_title</th>\n",
       "      <th>property_description</th>\n",
       "      <th>property_features</th>\n",
       "      <th>listing_slug</th>\n",
       "    </tr>\n",
       "  </thead>\n",
       "  <tbody>\n",
       "    <tr>\n",
       "      <th>0</th>\n",
       "      <td>R 690 000Bond CostsBond CalculatorPurchase Pri...</td>\n",
       "      <td>Bhisho, Bhisho Central</td>\n",
       "      <td>3 Bedroom House for Sale in Bhisho Central</td>\n",
       "      <td>RE/MAX Border is proud to present this family ...</td>\n",
       "      <td>Property OverviewListing Number115871179Type o...</td>\n",
       "      <td>3-bedroom-house-for-sale-in-bhisho-central-115...</td>\n",
       "    </tr>\n",
       "    <tr>\n",
       "      <th>1</th>\n",
       "      <td>R 700 000Bond CostsBond CalculatorPurchase Pri...</td>\n",
       "      <td>Bhisho, Tyu Tyu North</td>\n",
       "      <td>3 Bedroom House for Sale in Tyu Tyu North</td>\n",
       "      <td>This spacious property offers a well-designed ...</td>\n",
       "      <td>Property OverviewListing Number115765257Type o...</td>\n",
       "      <td>3-bedroom-house-for-sale-in-tyu-tyu-north-1157...</td>\n",
       "    </tr>\n",
       "    <tr>\n",
       "      <th>2</th>\n",
       "      <td>R 749 000Bond CostsBond CalculatorPurchase Pri...</td>\n",
       "      <td>Bhisho, Tyu Tyu North</td>\n",
       "      <td>3 Bedroom House for Sale in Tyu Tyu North</td>\n",
       "      <td>Sizwe Mlungwana Properties is excited to prese...</td>\n",
       "      <td>Property OverviewListing Number115864665Type o...</td>\n",
       "      <td>3-bedroom-house-for-sale-in-tyu-tyu-north-1158...</td>\n",
       "    </tr>\n",
       "    <tr>\n",
       "      <th>3</th>\n",
       "      <td>R 799 000Bond CostsBond CalculatorPurchase Pri...</td>\n",
       "      <td>Bhisho, Bhisho Central</td>\n",
       "      <td>3 Bedroom House for Sale in Bhisho Central</td>\n",
       "      <td>Discover this well located 3 bedroom home.Perf...</td>\n",
       "      <td>Property OverviewListing Number115811196Type o...</td>\n",
       "      <td>3-bedroom-house-for-sale-in-bhisho-central-115...</td>\n",
       "    </tr>\n",
       "    <tr>\n",
       "      <th>4</th>\n",
       "      <td>R 695 000Bond CostsBond CalculatorPurchase Pri...</td>\n",
       "      <td>Bhisho, Tyu Tyu</td>\n",
       "      <td>3 Bedroom House for Sale in Tyu Tyu</td>\n",
       "      <td>Presenting this beautiful house to the market....</td>\n",
       "      <td>Property OverviewListing Number115837796Type o...</td>\n",
       "      <td>3-bedroom-house-for-sale-in-tyu-tyu-115837796</td>\n",
       "    </tr>\n",
       "  </tbody>\n",
       "</table>\n",
       "</div>"
      ],
      "text/plain": [
       "                                               price                location  \\\n",
       "0  R 690 000Bond CostsBond CalculatorPurchase Pri...  Bhisho, Bhisho Central   \n",
       "1  R 700 000Bond CostsBond CalculatorPurchase Pri...   Bhisho, Tyu Tyu North   \n",
       "2  R 749 000Bond CostsBond CalculatorPurchase Pri...   Bhisho, Tyu Tyu North   \n",
       "3  R 799 000Bond CostsBond CalculatorPurchase Pri...  Bhisho, Bhisho Central   \n",
       "4  R 695 000Bond CostsBond CalculatorPurchase Pri...         Bhisho, Tyu Tyu   \n",
       "\n",
       "                               property_title  \\\n",
       "0  3 Bedroom House for Sale in Bhisho Central   \n",
       "1   3 Bedroom House for Sale in Tyu Tyu North   \n",
       "2   3 Bedroom House for Sale in Tyu Tyu North   \n",
       "3  3 Bedroom House for Sale in Bhisho Central   \n",
       "4         3 Bedroom House for Sale in Tyu Tyu   \n",
       "\n",
       "                                property_description  \\\n",
       "0  RE/MAX Border is proud to present this family ...   \n",
       "1  This spacious property offers a well-designed ...   \n",
       "2  Sizwe Mlungwana Properties is excited to prese...   \n",
       "3  Discover this well located 3 bedroom home.Perf...   \n",
       "4  Presenting this beautiful house to the market....   \n",
       "\n",
       "                                   property_features  \\\n",
       "0  Property OverviewListing Number115871179Type o...   \n",
       "1  Property OverviewListing Number115765257Type o...   \n",
       "2  Property OverviewListing Number115864665Type o...   \n",
       "3  Property OverviewListing Number115811196Type o...   \n",
       "4  Property OverviewListing Number115837796Type o...   \n",
       "\n",
       "                                        listing_slug  \n",
       "0  3-bedroom-house-for-sale-in-bhisho-central-115...  \n",
       "1  3-bedroom-house-for-sale-in-tyu-tyu-north-1157...  \n",
       "2  3-bedroom-house-for-sale-in-tyu-tyu-north-1158...  \n",
       "3  3-bedroom-house-for-sale-in-bhisho-central-115...  \n",
       "4      3-bedroom-house-for-sale-in-tyu-tyu-115837796  "
      ]
     },
     "metadata": {},
     "output_type": "display_data"
    },
    {
     "data": {
      "text/plain": [
       "(40006, 6)"
      ]
     },
     "metadata": {},
     "output_type": "display_data"
    }
   ],
   "source": [
    "# Load the dataset that contains the listings_for_sale\n",
    "listings_for_sale = pd.read_csv(\"../data/raw/listings_for_sale_in_capital_cities.csv\")\n",
    "display(\"Listings for sale\", listings_for_sale.head(), listings_for_sale.shape)"
   ]
  },
  {
   "cell_type": "markdown",
   "id": "462af450",
   "metadata": {},
   "source": [
    "## 3. Exploratory Data Analysis\n",
    "[Back to Table of Contents](#table-of-contents)\n",
    "\n",
    "---\n",
    "    \n",
    "| ⚡ Description: Exploring the data ⚡ |\n",
    "| :--------------------------- |\n",
    "\n",
    "---"
   ]
  },
  {
   "cell_type": "code",
   "execution_count": 3,
   "id": "b129cb31",
   "metadata": {},
   "outputs": [
    {
     "name": "stdout",
     "output_type": "stream",
     "text": [
      "<class 'pandas.core.frame.DataFrame'>\n",
      "RangeIndex: 40006 entries, 0 to 40005\n",
      "Data columns (total 6 columns):\n",
      " #   Column                Non-Null Count  Dtype \n",
      "---  ------                --------------  ----- \n",
      " 0   price                 40002 non-null  object\n",
      " 1   location              33028 non-null  object\n",
      " 2   property_title        40002 non-null  object\n",
      " 3   property_description  40001 non-null  object\n",
      " 4   property_features     40002 non-null  object\n",
      " 5   listing_slug          40006 non-null  object\n",
      "dtypes: object(6)\n",
      "memory usage: 1.8+ MB\n"
     ]
    }
   ],
   "source": [
    "# Get information about the listings_for_sale document\n",
    "listings_for_sale.info()"
   ]
  },
  {
   "cell_type": "code",
   "execution_count": 4,
   "id": "7defe869",
   "metadata": {},
   "outputs": [
    {
     "data": {
      "application/vnd.microsoft.datawrangler.viewer.v0+json": {
       "columns": [
        {
         "name": "index",
         "rawType": "object",
         "type": "string"
        },
        {
         "name": "0",
         "rawType": "int64",
         "type": "integer"
        }
       ],
       "ref": "a98e9c63-c89e-4753-9c35-6e0ee9d76a2b",
       "rows": [
        [
         "price",
         "4"
        ],
        [
         "location",
         "6978"
        ],
        [
         "property_title",
         "4"
        ],
        [
         "property_description",
         "5"
        ],
        [
         "property_features",
         "4"
        ],
        [
         "listing_slug",
         "0"
        ]
       ],
       "shape": {
        "columns": 1,
        "rows": 6
       }
      },
      "text/plain": [
       "price                      4\n",
       "location                6978\n",
       "property_title             4\n",
       "property_description       5\n",
       "property_features          4\n",
       "listing_slug               0\n",
       "dtype: int64"
      ]
     },
     "execution_count": 4,
     "metadata": {},
     "output_type": "execute_result"
    }
   ],
   "source": [
    "# See the number of null values in each column\n",
    "listings_for_sale.isnull().sum()"
   ]
  },
  {
   "cell_type": "code",
   "execution_count": 5,
   "id": "9073d87c",
   "metadata": {},
   "outputs": [
    {
     "data": {
      "application/vnd.microsoft.datawrangler.viewer.v0+json": {
       "columns": [
        {
         "name": "index",
         "rawType": "int64",
         "type": "integer"
        },
        {
         "name": "price",
         "rawType": "object",
         "type": "unknown"
        },
        {
         "name": "location",
         "rawType": "object",
         "type": "unknown"
        },
        {
         "name": "property_title",
         "rawType": "object",
         "type": "unknown"
        },
        {
         "name": "property_description",
         "rawType": "object",
         "type": "unknown"
        },
        {
         "name": "property_features",
         "rawType": "object",
         "type": "unknown"
        },
        {
         "name": "listing_slug",
         "rawType": "object",
         "type": "string"
        }
       ],
       "ref": "e7349b04-f350-4b57-bab5-12446c09c6d1",
       "rows": [
        [
         "14833",
         null,
         null,
         null,
         null,
         null,
         "property-for-sale-in-johannesburg-c100?Page=180"
        ],
        [
         "15027",
         null,
         null,
         null,
         null,
         null,
         "property-for-sale-in-johannesburg-c100?Page=189"
        ],
        [
         "17224",
         null,
         null,
         null,
         null,
         null,
         "property-for-sale-in-johannesburg-c100?Page=288"
        ],
        [
         "24804",
         null,
         null,
         null,
         null,
         null,
         "property-for-sale-in-johannesburg-c100?Page=630"
        ]
       ],
       "shape": {
        "columns": 6,
        "rows": 4
       }
      },
      "text/html": [
       "<div>\n",
       "<style scoped>\n",
       "    .dataframe tbody tr th:only-of-type {\n",
       "        vertical-align: middle;\n",
       "    }\n",
       "\n",
       "    .dataframe tbody tr th {\n",
       "        vertical-align: top;\n",
       "    }\n",
       "\n",
       "    .dataframe thead th {\n",
       "        text-align: right;\n",
       "    }\n",
       "</style>\n",
       "<table border=\"1\" class=\"dataframe\">\n",
       "  <thead>\n",
       "    <tr style=\"text-align: right;\">\n",
       "      <th></th>\n",
       "      <th>price</th>\n",
       "      <th>location</th>\n",
       "      <th>property_title</th>\n",
       "      <th>property_description</th>\n",
       "      <th>property_features</th>\n",
       "      <th>listing_slug</th>\n",
       "    </tr>\n",
       "  </thead>\n",
       "  <tbody>\n",
       "    <tr>\n",
       "      <th>14833</th>\n",
       "      <td>NaN</td>\n",
       "      <td>NaN</td>\n",
       "      <td>NaN</td>\n",
       "      <td>NaN</td>\n",
       "      <td>NaN</td>\n",
       "      <td>property-for-sale-in-johannesburg-c100?Page=180</td>\n",
       "    </tr>\n",
       "    <tr>\n",
       "      <th>15027</th>\n",
       "      <td>NaN</td>\n",
       "      <td>NaN</td>\n",
       "      <td>NaN</td>\n",
       "      <td>NaN</td>\n",
       "      <td>NaN</td>\n",
       "      <td>property-for-sale-in-johannesburg-c100?Page=189</td>\n",
       "    </tr>\n",
       "    <tr>\n",
       "      <th>17224</th>\n",
       "      <td>NaN</td>\n",
       "      <td>NaN</td>\n",
       "      <td>NaN</td>\n",
       "      <td>NaN</td>\n",
       "      <td>NaN</td>\n",
       "      <td>property-for-sale-in-johannesburg-c100?Page=288</td>\n",
       "    </tr>\n",
       "    <tr>\n",
       "      <th>24804</th>\n",
       "      <td>NaN</td>\n",
       "      <td>NaN</td>\n",
       "      <td>NaN</td>\n",
       "      <td>NaN</td>\n",
       "      <td>NaN</td>\n",
       "      <td>property-for-sale-in-johannesburg-c100?Page=630</td>\n",
       "    </tr>\n",
       "  </tbody>\n",
       "</table>\n",
       "</div>"
      ],
      "text/plain": [
       "      price location property_title property_description property_features  \\\n",
       "14833   NaN      NaN            NaN                  NaN               NaN   \n",
       "15027   NaN      NaN            NaN                  NaN               NaN   \n",
       "17224   NaN      NaN            NaN                  NaN               NaN   \n",
       "24804   NaN      NaN            NaN                  NaN               NaN   \n",
       "\n",
       "                                          listing_slug  \n",
       "14833  property-for-sale-in-johannesburg-c100?Page=180  \n",
       "15027  property-for-sale-in-johannesburg-c100?Page=189  \n",
       "17224  property-for-sale-in-johannesburg-c100?Page=288  \n",
       "24804  property-for-sale-in-johannesburg-c100?Page=630  "
      ]
     },
     "execution_count": 5,
     "metadata": {},
     "output_type": "execute_result"
    }
   ],
   "source": [
    "# View rows where the property_title is null\n",
    "listings_for_sale[listings_for_sale['property_title'].isna()]"
   ]
  },
  {
   "cell_type": "code",
   "execution_count": 6,
   "id": "5a76f190",
   "metadata": {},
   "outputs": [],
   "source": [
    "# Drop listings where the property_title is null\n",
    "listings_for_sale = listings_for_sale.dropna(subset=['property_title']).reset_index(drop=True)"
   ]
  },
  {
   "cell_type": "code",
   "execution_count": 7,
   "id": "a8b02100",
   "metadata": {},
   "outputs": [
    {
     "name": "stdout",
     "output_type": "stream",
     "text": [
      "There are 2072 duplicates in the listings_for_sale dataset \n"
     ]
    }
   ],
   "source": [
    "# Get the total number of duplicate rows\n",
    "listings_for_sale_duplicates = listings_for_sale[listings_for_sale.duplicated()]\n",
    "num_listings_for_sale_duplicates = len(listings_for_sale_duplicates)\n",
    "print(f\"There are {num_listings_for_sale_duplicates} duplicates in the listings_for_sale dataset \")"
   ]
  },
  {
   "cell_type": "code",
   "execution_count": 8,
   "id": "ae36ef66",
   "metadata": {},
   "outputs": [],
   "source": [
    "# Drop duplicate rows and keep the first occurrence\n",
    "listings_for_sale = listings_for_sale.drop_duplicates().reset_index(drop=True)"
   ]
  },
  {
   "cell_type": "markdown",
   "id": "61dcd98a",
   "metadata": {},
   "source": [
    "#### Property description"
   ]
  },
  {
   "cell_type": "markdown",
   "id": "812d0d8f",
   "metadata": {},
   "source": [
    "The `property_description` column contains free-text descriptions written by agents or property owners to highlight features and benefits of the listing. While this unstructured text can provide valuable insights, it is often subjective, inconsistent, and difficult to analyse at scale without advanced natural language processing. Since our current analysis focuses on structured, comparable features across listings, we will drop the property_description column."
   ]
  },
  {
   "cell_type": "code",
   "execution_count": 9,
   "id": "53a5f5d3",
   "metadata": {},
   "outputs": [],
   "source": [
    "# Drop the `property_description` column\n",
    "listings_for_sale.drop(columns=['property_description'], inplace=True)"
   ]
  },
  {
   "cell_type": "markdown",
   "id": "600aa4c0",
   "metadata": {},
   "source": [
    "#### Property features extraction"
   ]
  },
  {
   "cell_type": "markdown",
   "id": "c653d838",
   "metadata": {},
   "source": [
    "The `property_features` column has a section labelled *Points of Interest* which highlights nearby amenities and infrastructure such as schools, hospitals, shopping centres, public transport stops and recreational facilities. It provides a quick view of the property's surroundings and helps to assess its suitability for lifestyle preferences, daily commuting, and community accessibility. \n",
    "\n",
    "We remove this section to reduce noise and ensure consistency, as it contains unstructured text, and it may not be directly useful for aggregation without additional geospatial processing. "
   ]
  },
  {
   "cell_type": "code",
   "execution_count": 10,
   "id": "d329f027",
   "metadata": {},
   "outputs": [],
   "source": [
    "# Remove any information following the text 'Points of Interest' in the 'property_features' column\n",
    "listings_for_sale[\"property_features\"] = listings_for_sale[\"property_features\"].str.replace(\n",
    "    r'Points of Interest.*', '', regex=True\n",
    ")\n",
    "\n",
    "# Remove any empty spaces for easier analysis\n",
    "listings_for_sale[\"property_features\"] = listings_for_sale[\"property_features\"].str.strip()"
   ]
  },
  {
   "cell_type": "markdown",
   "id": "cde96851",
   "metadata": {},
   "source": [
    "The `property_features` column has a wealth of information about each listing, ranging from the listing number, the type of property, room information, deposit information, occupation date, etc. However, for the purpose of this analysis, we will only extract a subset of relevant features that are most structured and analytically useful where we can reliably quantify and compare across properties. Once the necessary information has been extracted, we will drop the property_features column."
   ]
  },
  {
   "cell_type": "code",
   "execution_count": 11,
   "id": "998b4ad1",
   "metadata": {},
   "outputs": [
    {
     "data": {
      "application/vnd.microsoft.datawrangler.viewer.v0+json": {
       "columns": [
        {
         "name": "index",
         "rawType": "int64",
         "type": "integer"
        },
        {
         "name": "price",
         "rawType": "object",
         "type": "string"
        },
        {
         "name": "location",
         "rawType": "object",
         "type": "string"
        },
        {
         "name": "property_title",
         "rawType": "object",
         "type": "string"
        },
        {
         "name": "listing_slug",
         "rawType": "object",
         "type": "string"
        },
        {
         "name": "listing_number",
         "rawType": "object",
         "type": "string"
        },
        {
         "name": "property_type",
         "rawType": "object",
         "type": "string"
        },
        {
         "name": "furnished",
         "rawType": "object",
         "type": "unknown"
        },
        {
         "name": "pets_allowed",
         "rawType": "object",
         "type": "unknown"
        },
        {
         "name": "backup_water",
         "rawType": "object",
         "type": "unknown"
        },
        {
         "name": "bedrooms",
         "rawType": "object",
         "type": "unknown"
        },
        {
         "name": "bathrooms",
         "rawType": "object",
         "type": "string"
        },
        {
         "name": "kitchen",
         "rawType": "object",
         "type": "string"
        },
        {
         "name": "lounge",
         "rawType": "object",
         "type": "unknown"
        },
        {
         "name": "dining_room",
         "rawType": "object",
         "type": "unknown"
        },
        {
         "name": "parking",
         "rawType": "object",
         "type": "unknown"
        },
        {
         "name": "garden",
         "rawType": "object",
         "type": "unknown"
        },
        {
         "name": "pool",
         "rawType": "object",
         "type": "unknown"
        },
        {
         "name": "garage",
         "rawType": "object",
         "type": "unknown"
        },
        {
         "name": "erf_size (m²)",
         "rawType": "object",
         "type": "unknown"
        },
        {
         "name": "floor_area (m²)",
         "rawType": "object",
         "type": "unknown"
        }
       ],
       "ref": "82a481e9-f065-43ee-8799-cda2ced80865",
       "rows": [
        [
         "0",
         "R 690 000Bond CostsBond CalculatorPurchase PriceRDeposit(Optional)RInterest Rate%Loan TermyearsMonthly Repayment:Total Once Off Costs :Min Gross Monthly Income:View BreakdownWhat do I qualify for based on my income?What are the bond and transfer costs?*Disclaimer: Please note that by default this calculator uses the prime interest rate for bond payment calculations. This is purely for convenience and not an indication of the interest rate that might be offered to you by a bank. This calculator is intended to provide estimates based on the indicated amounts, rates and fees. Whilst we make every effort to ensure the accuracy of these calculations, we cannot be held liable for inaccuracies. Property24 does not accept liability for any damages arising from the use of this calculator.",
         "Bhisho, Bhisho Central",
         "3 Bedroom House for Sale in Bhisho Central",
         "3-bedroom-house-for-sale-in-bhisho-central-115871179",
         "115871179",
         "House",
         null,
         "Yes",
         null,
         "3",
         "1",
         "1",
         "1",
         "1",
         "3",
         null,
         null,
         null,
         "248",
         "128"
        ],
        [
         "1",
         "R 700 000Bond CostsBond CalculatorPurchase PriceRDeposit(Optional)RInterest Rate%Loan TermyearsMonthly Repayment:Total Once Off Costs :Min Gross Monthly Income:View BreakdownWhat do I qualify for based on my income?What are the bond and transfer costs?*Disclaimer: Please note that by default this calculator uses the prime interest rate for bond payment calculations. This is purely for convenience and not an indication of the interest rate that might be offered to you by a bank. This calculator is intended to provide estimates based on the indicated amounts, rates and fees. Whilst we make every effort to ensure the accuracy of these calculations, we cannot be held liable for inaccuracies. Property24 does not accept liability for any damages arising from the use of this calculator.",
         "Bhisho, Tyu Tyu North",
         "3 Bedroom House for Sale in Tyu Tyu North",
         "3-bedroom-house-for-sale-in-tyu-tyu-north-115765257",
         "115765257",
         "House",
         null,
         "Yes",
         null,
         null,
         "1",
         "2",
         null,
         null,
         "2",
         null,
         null,
         null,
         "280",
         "278"
        ],
        [
         "2",
         "R 749 000Bond CostsBond CalculatorPurchase PriceRDeposit(Optional)RInterest Rate%Loan TermyearsMonthly Repayment:Total Once Off Costs :Min Gross Monthly Income:View BreakdownWhat do I qualify for based on my income?What are the bond and transfer costs?*Disclaimer: Please note that by default this calculator uses the prime interest rate for bond payment calculations. This is purely for convenience and not an indication of the interest rate that might be offered to you by a bank. This calculator is intended to provide estimates based on the indicated amounts, rates and fees. Whilst we make every effort to ensure the accuracy of these calculations, we cannot be held liable for inaccuracies. Property24 does not accept liability for any damages arising from the use of this calculator.",
         "Bhisho, Tyu Tyu North",
         "3 Bedroom House for Sale in Tyu Tyu North",
         "3-bedroom-house-for-sale-in-tyu-tyu-north-115864665",
         "115864665",
         "House",
         null,
         null,
         null,
         "3",
         "1",
         "1",
         "1",
         null,
         null,
         null,
         null,
         null,
         null,
         null
        ],
        [
         "3",
         "R 799 000Bond CostsBond CalculatorPurchase PriceRDeposit(Optional)RInterest Rate%Loan TermyearsMonthly Repayment:Total Once Off Costs :Min Gross Monthly Income:View BreakdownWhat do I qualify for based on my income?What are the bond and transfer costs?*Disclaimer: Please note that by default this calculator uses the prime interest rate for bond payment calculations. This is purely for convenience and not an indication of the interest rate that might be offered to you by a bank. This calculator is intended to provide estimates based on the indicated amounts, rates and fees. Whilst we make every effort to ensure the accuracy of these calculations, we cannot be held liable for inaccuracies. Property24 does not accept liability for any damages arising from the use of this calculator.",
         "Bhisho, Bhisho Central",
         "3 Bedroom House for Sale in Bhisho Central",
         "3-bedroom-house-for-sale-in-bhisho-central-115811196",
         "115811196",
         "House",
         null,
         null,
         null,
         "3",
         "1",
         "1",
         null,
         null,
         null,
         "1",
         null,
         null,
         "413",
         null
        ],
        [
         "4",
         "R 695 000Bond CostsBond CalculatorPurchase PriceRDeposit(Optional)RInterest Rate%Loan TermyearsMonthly Repayment:Total Once Off Costs :Min Gross Monthly Income:View BreakdownWhat do I qualify for based on my income?What are the bond and transfer costs?*Disclaimer: Please note that by default this calculator uses the prime interest rate for bond payment calculations. This is purely for convenience and not an indication of the interest rate that might be offered to you by a bank. This calculator is intended to provide estimates based on the indicated amounts, rates and fees. Whilst we make every effort to ensure the accuracy of these calculations, we cannot be held liable for inaccuracies. Property24 does not accept liability for any damages arising from the use of this calculator.",
         "Bhisho, Tyu Tyu",
         "3 Bedroom House for Sale in Tyu Tyu",
         "3-bedroom-house-for-sale-in-tyu-tyu-115837796",
         "115837796",
         "House",
         null,
         null,
         null,
         "3",
         "2",
         "1",
         "1",
         null,
         null,
         null,
         null,
         null,
         null,
         null
        ]
       ],
       "shape": {
        "columns": 20,
        "rows": 5
       }
      },
      "text/html": [
       "<div>\n",
       "<style scoped>\n",
       "    .dataframe tbody tr th:only-of-type {\n",
       "        vertical-align: middle;\n",
       "    }\n",
       "\n",
       "    .dataframe tbody tr th {\n",
       "        vertical-align: top;\n",
       "    }\n",
       "\n",
       "    .dataframe thead th {\n",
       "        text-align: right;\n",
       "    }\n",
       "</style>\n",
       "<table border=\"1\" class=\"dataframe\">\n",
       "  <thead>\n",
       "    <tr style=\"text-align: right;\">\n",
       "      <th></th>\n",
       "      <th>price</th>\n",
       "      <th>location</th>\n",
       "      <th>property_title</th>\n",
       "      <th>listing_slug</th>\n",
       "      <th>listing_number</th>\n",
       "      <th>property_type</th>\n",
       "      <th>furnished</th>\n",
       "      <th>pets_allowed</th>\n",
       "      <th>backup_water</th>\n",
       "      <th>bedrooms</th>\n",
       "      <th>bathrooms</th>\n",
       "      <th>kitchen</th>\n",
       "      <th>lounge</th>\n",
       "      <th>dining_room</th>\n",
       "      <th>parking</th>\n",
       "      <th>garden</th>\n",
       "      <th>pool</th>\n",
       "      <th>garage</th>\n",
       "      <th>erf_size (m²)</th>\n",
       "      <th>floor_area (m²)</th>\n",
       "    </tr>\n",
       "  </thead>\n",
       "  <tbody>\n",
       "    <tr>\n",
       "      <th>0</th>\n",
       "      <td>R 690 000Bond CostsBond CalculatorPurchase Pri...</td>\n",
       "      <td>Bhisho, Bhisho Central</td>\n",
       "      <td>3 Bedroom House for Sale in Bhisho Central</td>\n",
       "      <td>3-bedroom-house-for-sale-in-bhisho-central-115...</td>\n",
       "      <td>115871179</td>\n",
       "      <td>House</td>\n",
       "      <td>None</td>\n",
       "      <td>Yes</td>\n",
       "      <td>None</td>\n",
       "      <td>3</td>\n",
       "      <td>1</td>\n",
       "      <td>1</td>\n",
       "      <td>1</td>\n",
       "      <td>1</td>\n",
       "      <td>3</td>\n",
       "      <td>None</td>\n",
       "      <td>None</td>\n",
       "      <td>None</td>\n",
       "      <td>248</td>\n",
       "      <td>128</td>\n",
       "    </tr>\n",
       "    <tr>\n",
       "      <th>1</th>\n",
       "      <td>R 700 000Bond CostsBond CalculatorPurchase Pri...</td>\n",
       "      <td>Bhisho, Tyu Tyu North</td>\n",
       "      <td>3 Bedroom House for Sale in Tyu Tyu North</td>\n",
       "      <td>3-bedroom-house-for-sale-in-tyu-tyu-north-1157...</td>\n",
       "      <td>115765257</td>\n",
       "      <td>House</td>\n",
       "      <td>None</td>\n",
       "      <td>Yes</td>\n",
       "      <td>None</td>\n",
       "      <td>None</td>\n",
       "      <td>1</td>\n",
       "      <td>2</td>\n",
       "      <td>None</td>\n",
       "      <td>None</td>\n",
       "      <td>2</td>\n",
       "      <td>None</td>\n",
       "      <td>None</td>\n",
       "      <td>None</td>\n",
       "      <td>280</td>\n",
       "      <td>278</td>\n",
       "    </tr>\n",
       "    <tr>\n",
       "      <th>2</th>\n",
       "      <td>R 749 000Bond CostsBond CalculatorPurchase Pri...</td>\n",
       "      <td>Bhisho, Tyu Tyu North</td>\n",
       "      <td>3 Bedroom House for Sale in Tyu Tyu North</td>\n",
       "      <td>3-bedroom-house-for-sale-in-tyu-tyu-north-1158...</td>\n",
       "      <td>115864665</td>\n",
       "      <td>House</td>\n",
       "      <td>None</td>\n",
       "      <td>None</td>\n",
       "      <td>None</td>\n",
       "      <td>3</td>\n",
       "      <td>1</td>\n",
       "      <td>1</td>\n",
       "      <td>1</td>\n",
       "      <td>None</td>\n",
       "      <td>None</td>\n",
       "      <td>None</td>\n",
       "      <td>None</td>\n",
       "      <td>None</td>\n",
       "      <td>None</td>\n",
       "      <td>None</td>\n",
       "    </tr>\n",
       "    <tr>\n",
       "      <th>3</th>\n",
       "      <td>R 799 000Bond CostsBond CalculatorPurchase Pri...</td>\n",
       "      <td>Bhisho, Bhisho Central</td>\n",
       "      <td>3 Bedroom House for Sale in Bhisho Central</td>\n",
       "      <td>3-bedroom-house-for-sale-in-bhisho-central-115...</td>\n",
       "      <td>115811196</td>\n",
       "      <td>House</td>\n",
       "      <td>None</td>\n",
       "      <td>None</td>\n",
       "      <td>None</td>\n",
       "      <td>3</td>\n",
       "      <td>1</td>\n",
       "      <td>1</td>\n",
       "      <td>None</td>\n",
       "      <td>None</td>\n",
       "      <td>None</td>\n",
       "      <td>1</td>\n",
       "      <td>None</td>\n",
       "      <td>None</td>\n",
       "      <td>413</td>\n",
       "      <td>None</td>\n",
       "    </tr>\n",
       "    <tr>\n",
       "      <th>4</th>\n",
       "      <td>R 695 000Bond CostsBond CalculatorPurchase Pri...</td>\n",
       "      <td>Bhisho, Tyu Tyu</td>\n",
       "      <td>3 Bedroom House for Sale in Tyu Tyu</td>\n",
       "      <td>3-bedroom-house-for-sale-in-tyu-tyu-115837796</td>\n",
       "      <td>115837796</td>\n",
       "      <td>House</td>\n",
       "      <td>None</td>\n",
       "      <td>None</td>\n",
       "      <td>None</td>\n",
       "      <td>3</td>\n",
       "      <td>2</td>\n",
       "      <td>1</td>\n",
       "      <td>1</td>\n",
       "      <td>None</td>\n",
       "      <td>None</td>\n",
       "      <td>None</td>\n",
       "      <td>None</td>\n",
       "      <td>None</td>\n",
       "      <td>None</td>\n",
       "      <td>None</td>\n",
       "    </tr>\n",
       "  </tbody>\n",
       "</table>\n",
       "</div>"
      ],
      "text/plain": [
       "                                               price                location  \\\n",
       "0  R 690 000Bond CostsBond CalculatorPurchase Pri...  Bhisho, Bhisho Central   \n",
       "1  R 700 000Bond CostsBond CalculatorPurchase Pri...   Bhisho, Tyu Tyu North   \n",
       "2  R 749 000Bond CostsBond CalculatorPurchase Pri...   Bhisho, Tyu Tyu North   \n",
       "3  R 799 000Bond CostsBond CalculatorPurchase Pri...  Bhisho, Bhisho Central   \n",
       "4  R 695 000Bond CostsBond CalculatorPurchase Pri...         Bhisho, Tyu Tyu   \n",
       "\n",
       "                               property_title  \\\n",
       "0  3 Bedroom House for Sale in Bhisho Central   \n",
       "1   3 Bedroom House for Sale in Tyu Tyu North   \n",
       "2   3 Bedroom House for Sale in Tyu Tyu North   \n",
       "3  3 Bedroom House for Sale in Bhisho Central   \n",
       "4         3 Bedroom House for Sale in Tyu Tyu   \n",
       "\n",
       "                                        listing_slug listing_number  \\\n",
       "0  3-bedroom-house-for-sale-in-bhisho-central-115...      115871179   \n",
       "1  3-bedroom-house-for-sale-in-tyu-tyu-north-1157...      115765257   \n",
       "2  3-bedroom-house-for-sale-in-tyu-tyu-north-1158...      115864665   \n",
       "3  3-bedroom-house-for-sale-in-bhisho-central-115...      115811196   \n",
       "4      3-bedroom-house-for-sale-in-tyu-tyu-115837796      115837796   \n",
       "\n",
       "  property_type furnished pets_allowed backup_water bedrooms bathrooms  \\\n",
       "0         House      None          Yes         None        3         1   \n",
       "1         House      None          Yes         None     None         1   \n",
       "2         House      None         None         None        3         1   \n",
       "3         House      None         None         None        3         1   \n",
       "4         House      None         None         None        3         2   \n",
       "\n",
       "  kitchen lounge dining_room parking garden  pool garage erf_size (m²)  \\\n",
       "0       1      1           1       3   None  None   None           248   \n",
       "1       2   None        None       2   None  None   None           280   \n",
       "2       1      1        None    None   None  None   None          None   \n",
       "3       1   None        None    None      1  None   None           413   \n",
       "4       1      1        None    None   None  None   None          None   \n",
       "\n",
       "  floor_area (m²)  \n",
       "0             128  \n",
       "1             278  \n",
       "2            None  \n",
       "3            None  \n",
       "4            None  "
      ]
     },
     "execution_count": 11,
     "metadata": {},
     "output_type": "execute_result"
    }
   ],
   "source": [
    "# We define the patterns of the features we want to extract\n",
    "patterns = {\n",
    "    'listing_number': r'Listing Number(\\d+)',\n",
    "    'property_type': r'Type of Property\\s*(House|Apartment / Flat|Townhouse|Commercial|Industrial|Vacant Land|Farm)',\n",
    "    'furnished': r'Furnished(Yes|No)',\n",
    "    'pets_allowed': r'Pets Allowed(Yes|No)',\n",
    "    'backup_water': r'Backup Water(Yes|No)',\n",
    "    'bedrooms': r'Bedrooms?\\s*(\\d+)',\n",
    "    'bathrooms': r'Bathrooms?\\s*(\\d+)',\n",
    "    'kitchen': r'Kitchens?\\s*(\\d+)',\n",
    "    'lounge': r'Lounges?\\s*(\\d+)',\n",
    "    'dining_room': r'Dining Rooms?\\s*(\\d+)',\n",
    "    'parking': r'Parking(\\d+)',\n",
    "    'garden': r'Gardens?\\s*(\\d+)',\n",
    "    'pool': r'Pools?\\s*(\\d+)',\n",
    "    'garage': r'Garages?\\s*(\\d+)',\n",
    "    'erf_size (m²)': r'Erf Size\\s*(\\d+)\\s*m²',\n",
    "    'floor_area (m²)': r'Floor Area\\s*(\\d+)\\s*m²'\n",
    "}\n",
    "\n",
    "\n",
    "# Function to extract features from text\n",
    "def extract_features(text):\n",
    "    return {\n",
    "        field: (match := re.search(pattern, text)\n",
    "                ) and match.group(1).strip() or None for field, pattern in patterns.items()\n",
    "    }\n",
    "\n",
    "\n",
    "# Apply extraction row-wise\n",
    "extracted_df = listings_for_sale['property_features'].apply(\n",
    "    extract_features).apply(pd.Series)\n",
    "\n",
    "# Combine the original df with the extracted columns\n",
    "results_df = pd.concat([listings_for_sale, extracted_df], axis=1)\n",
    "\n",
    "# Drop the property_features after the extraction is complete\n",
    "results_df.drop(columns=['property_features'], inplace=True)\n",
    "\n",
    "# View results\n",
    "results_df.head()"
   ]
  },
  {
   "cell_type": "code",
   "execution_count": 12,
   "id": "2c5ed8d9",
   "metadata": {},
   "outputs": [
    {
     "data": {
      "text/plain": [
       "np.int64(17784)"
      ]
     },
     "execution_count": 12,
     "metadata": {},
     "output_type": "execute_result"
    }
   ],
   "source": [
    "# Print the number of null values in the `bedrooms` column\n",
    "results_df[\"bedrooms\"].isnull().sum()"
   ]
  },
  {
   "cell_type": "markdown",
   "id": "d28b976b",
   "metadata": {},
   "source": [
    "The `property_title` column often contains structured phrases that include the number of bedrooms for residential properties such as apartments, houses and townhouses. This consistency allows for the extraction of bedroom information directly from the title using regular expressions, which can help fill in missing values in the `bedrooms` columns. "
   ]
  },
  {
   "cell_type": "code",
   "execution_count": 13,
   "id": "f1b903b7",
   "metadata": {},
   "outputs": [],
   "source": [
    "def extract_bedrooms_from_property_title(title):\n",
    "    \"\"\"\n",
    "    Extract the number of bedrooms from a property title string.\n",
    "    This function searches for patterns like '2-bedroom', '3 bedroom', or '4bedroom' (case-insensitive) within the input title and returns the number of bedrooms as an integer.\n",
    "    \n",
    "    Args:\n",
    "        title (str): The property title text to extract the bedroom count from\n",
    "\n",
    "    Returns:\n",
    "        int or None: The number of bedrooms if found, otherwise, None\n",
    "    \"\"\"\n",
    "    if pd.isna(title):\n",
    "        return None\n",
    "    match = re.search(r'(\\d+)[-\\s]?bedroom', title.lower())\n",
    "    return int(match.group(1)) if match else None\n",
    "\n",
    "\n",
    "# Apply the function to fill in null values\n",
    "results_df['bedrooms'] = results_df['bedrooms'].fillna(results_df.apply(lambda row: extract_bedrooms_from_property_title(row['property_title']) if pd.isna(row['bedrooms']) else row['bedrooms'], axis=1))\n",
    "\n",
    "\n",
    "# Convert the column to an integer type\n",
    "results_df['bedrooms'] = pd.to_numeric(results_df['bedrooms'], errors='coerce').astype('Int64')"
   ]
  },
  {
   "cell_type": "code",
   "execution_count": 14,
   "id": "d1bd3656",
   "metadata": {},
   "outputs": [
    {
     "data": {
      "text/plain": [
       "np.int64(6321)"
      ]
     },
     "execution_count": 14,
     "metadata": {},
     "output_type": "execute_result"
    }
   ],
   "source": [
    "# Print the number of null values in the `bedrooms` column\n",
    "results_df[\"bedrooms\"].isnull().sum()"
   ]
  },
  {
   "cell_type": "markdown",
   "id": "a20346f2",
   "metadata": {},
   "source": [
    "#### Suburb, city and province extraction"
   ]
  },
  {
   "cell_type": "markdown",
   "id": "35ad322d",
   "metadata": {},
   "source": [
    "The `property_title` column follows a structure that includes the suburb where the property is located. We can use this to extract the suburb for each listing. "
   ]
  },
  {
   "cell_type": "code",
   "execution_count": 15,
   "id": "9c218b70",
   "metadata": {},
   "outputs": [
    {
     "data": {
      "application/vnd.microsoft.datawrangler.viewer.v0+json": {
       "columns": [
        {
         "name": "index",
         "rawType": "int64",
         "type": "integer"
        },
        {
         "name": "price",
         "rawType": "object",
         "type": "string"
        },
        {
         "name": "location",
         "rawType": "object",
         "type": "string"
        },
        {
         "name": "listing_slug",
         "rawType": "object",
         "type": "string"
        },
        {
         "name": "listing_number",
         "rawType": "object",
         "type": "string"
        },
        {
         "name": "property_type",
         "rawType": "object",
         "type": "string"
        },
        {
         "name": "furnished",
         "rawType": "object",
         "type": "unknown"
        },
        {
         "name": "pets_allowed",
         "rawType": "object",
         "type": "unknown"
        },
        {
         "name": "backup_water",
         "rawType": "object",
         "type": "unknown"
        },
        {
         "name": "bedrooms",
         "rawType": "Int64",
         "type": "integer"
        },
        {
         "name": "bathrooms",
         "rawType": "object",
         "type": "string"
        },
        {
         "name": "kitchen",
         "rawType": "object",
         "type": "string"
        },
        {
         "name": "lounge",
         "rawType": "object",
         "type": "unknown"
        },
        {
         "name": "dining_room",
         "rawType": "object",
         "type": "unknown"
        },
        {
         "name": "parking",
         "rawType": "object",
         "type": "unknown"
        },
        {
         "name": "garden",
         "rawType": "object",
         "type": "unknown"
        },
        {
         "name": "pool",
         "rawType": "object",
         "type": "unknown"
        },
        {
         "name": "garage",
         "rawType": "object",
         "type": "unknown"
        },
        {
         "name": "erf_size (m²)",
         "rawType": "object",
         "type": "unknown"
        },
        {
         "name": "floor_area (m²)",
         "rawType": "object",
         "type": "unknown"
        },
        {
         "name": "suburb",
         "rawType": "object",
         "type": "string"
        }
       ],
       "ref": "503fbf11-fad5-46b2-a589-b9e7434aac10",
       "rows": [
        [
         "0",
         "R 690 000Bond CostsBond CalculatorPurchase PriceRDeposit(Optional)RInterest Rate%Loan TermyearsMonthly Repayment:Total Once Off Costs :Min Gross Monthly Income:View BreakdownWhat do I qualify for based on my income?What are the bond and transfer costs?*Disclaimer: Please note that by default this calculator uses the prime interest rate for bond payment calculations. This is purely for convenience and not an indication of the interest rate that might be offered to you by a bank. This calculator is intended to provide estimates based on the indicated amounts, rates and fees. Whilst we make every effort to ensure the accuracy of these calculations, we cannot be held liable for inaccuracies. Property24 does not accept liability for any damages arising from the use of this calculator.",
         "Bhisho, Bhisho Central",
         "3-bedroom-house-for-sale-in-bhisho-central-115871179",
         "115871179",
         "House",
         null,
         "Yes",
         null,
         "3",
         "1",
         "1",
         "1",
         "1",
         "3",
         null,
         null,
         null,
         "248",
         "128",
         "Bhisho Central"
        ],
        [
         "1",
         "R 700 000Bond CostsBond CalculatorPurchase PriceRDeposit(Optional)RInterest Rate%Loan TermyearsMonthly Repayment:Total Once Off Costs :Min Gross Monthly Income:View BreakdownWhat do I qualify for based on my income?What are the bond and transfer costs?*Disclaimer: Please note that by default this calculator uses the prime interest rate for bond payment calculations. This is purely for convenience and not an indication of the interest rate that might be offered to you by a bank. This calculator is intended to provide estimates based on the indicated amounts, rates and fees. Whilst we make every effort to ensure the accuracy of these calculations, we cannot be held liable for inaccuracies. Property24 does not accept liability for any damages arising from the use of this calculator.",
         "Bhisho, Tyu Tyu North",
         "3-bedroom-house-for-sale-in-tyu-tyu-north-115765257",
         "115765257",
         "House",
         null,
         "Yes",
         null,
         "3",
         "1",
         "2",
         null,
         null,
         "2",
         null,
         null,
         null,
         "280",
         "278",
         "Tyu Tyu North"
        ],
        [
         "2",
         "R 749 000Bond CostsBond CalculatorPurchase PriceRDeposit(Optional)RInterest Rate%Loan TermyearsMonthly Repayment:Total Once Off Costs :Min Gross Monthly Income:View BreakdownWhat do I qualify for based on my income?What are the bond and transfer costs?*Disclaimer: Please note that by default this calculator uses the prime interest rate for bond payment calculations. This is purely for convenience and not an indication of the interest rate that might be offered to you by a bank. This calculator is intended to provide estimates based on the indicated amounts, rates and fees. Whilst we make every effort to ensure the accuracy of these calculations, we cannot be held liable for inaccuracies. Property24 does not accept liability for any damages arising from the use of this calculator.",
         "Bhisho, Tyu Tyu North",
         "3-bedroom-house-for-sale-in-tyu-tyu-north-115864665",
         "115864665",
         "House",
         null,
         null,
         null,
         "3",
         "1",
         "1",
         "1",
         null,
         null,
         null,
         null,
         null,
         null,
         null,
         "Tyu Tyu North"
        ],
        [
         "3",
         "R 799 000Bond CostsBond CalculatorPurchase PriceRDeposit(Optional)RInterest Rate%Loan TermyearsMonthly Repayment:Total Once Off Costs :Min Gross Monthly Income:View BreakdownWhat do I qualify for based on my income?What are the bond and transfer costs?*Disclaimer: Please note that by default this calculator uses the prime interest rate for bond payment calculations. This is purely for convenience and not an indication of the interest rate that might be offered to you by a bank. This calculator is intended to provide estimates based on the indicated amounts, rates and fees. Whilst we make every effort to ensure the accuracy of these calculations, we cannot be held liable for inaccuracies. Property24 does not accept liability for any damages arising from the use of this calculator.",
         "Bhisho, Bhisho Central",
         "3-bedroom-house-for-sale-in-bhisho-central-115811196",
         "115811196",
         "House",
         null,
         null,
         null,
         "3",
         "1",
         "1",
         null,
         null,
         null,
         "1",
         null,
         null,
         "413",
         null,
         "Bhisho Central"
        ],
        [
         "4",
         "R 695 000Bond CostsBond CalculatorPurchase PriceRDeposit(Optional)RInterest Rate%Loan TermyearsMonthly Repayment:Total Once Off Costs :Min Gross Monthly Income:View BreakdownWhat do I qualify for based on my income?What are the bond and transfer costs?*Disclaimer: Please note that by default this calculator uses the prime interest rate for bond payment calculations. This is purely for convenience and not an indication of the interest rate that might be offered to you by a bank. This calculator is intended to provide estimates based on the indicated amounts, rates and fees. Whilst we make every effort to ensure the accuracy of these calculations, we cannot be held liable for inaccuracies. Property24 does not accept liability for any damages arising from the use of this calculator.",
         "Bhisho, Tyu Tyu",
         "3-bedroom-house-for-sale-in-tyu-tyu-115837796",
         "115837796",
         "House",
         null,
         null,
         null,
         "3",
         "2",
         "1",
         "1",
         null,
         null,
         null,
         null,
         null,
         null,
         null,
         "Tyu Tyu"
        ]
       ],
       "shape": {
        "columns": 20,
        "rows": 5
       }
      },
      "text/html": [
       "<div>\n",
       "<style scoped>\n",
       "    .dataframe tbody tr th:only-of-type {\n",
       "        vertical-align: middle;\n",
       "    }\n",
       "\n",
       "    .dataframe tbody tr th {\n",
       "        vertical-align: top;\n",
       "    }\n",
       "\n",
       "    .dataframe thead th {\n",
       "        text-align: right;\n",
       "    }\n",
       "</style>\n",
       "<table border=\"1\" class=\"dataframe\">\n",
       "  <thead>\n",
       "    <tr style=\"text-align: right;\">\n",
       "      <th></th>\n",
       "      <th>price</th>\n",
       "      <th>location</th>\n",
       "      <th>listing_slug</th>\n",
       "      <th>listing_number</th>\n",
       "      <th>property_type</th>\n",
       "      <th>furnished</th>\n",
       "      <th>pets_allowed</th>\n",
       "      <th>backup_water</th>\n",
       "      <th>bedrooms</th>\n",
       "      <th>bathrooms</th>\n",
       "      <th>kitchen</th>\n",
       "      <th>lounge</th>\n",
       "      <th>dining_room</th>\n",
       "      <th>parking</th>\n",
       "      <th>garden</th>\n",
       "      <th>pool</th>\n",
       "      <th>garage</th>\n",
       "      <th>erf_size (m²)</th>\n",
       "      <th>floor_area (m²)</th>\n",
       "      <th>suburb</th>\n",
       "    </tr>\n",
       "  </thead>\n",
       "  <tbody>\n",
       "    <tr>\n",
       "      <th>0</th>\n",
       "      <td>R 690 000Bond CostsBond CalculatorPurchase Pri...</td>\n",
       "      <td>Bhisho, Bhisho Central</td>\n",
       "      <td>3-bedroom-house-for-sale-in-bhisho-central-115...</td>\n",
       "      <td>115871179</td>\n",
       "      <td>House</td>\n",
       "      <td>None</td>\n",
       "      <td>Yes</td>\n",
       "      <td>None</td>\n",
       "      <td>3</td>\n",
       "      <td>1</td>\n",
       "      <td>1</td>\n",
       "      <td>1</td>\n",
       "      <td>1</td>\n",
       "      <td>3</td>\n",
       "      <td>None</td>\n",
       "      <td>None</td>\n",
       "      <td>None</td>\n",
       "      <td>248</td>\n",
       "      <td>128</td>\n",
       "      <td>Bhisho Central</td>\n",
       "    </tr>\n",
       "    <tr>\n",
       "      <th>1</th>\n",
       "      <td>R 700 000Bond CostsBond CalculatorPurchase Pri...</td>\n",
       "      <td>Bhisho, Tyu Tyu North</td>\n",
       "      <td>3-bedroom-house-for-sale-in-tyu-tyu-north-1157...</td>\n",
       "      <td>115765257</td>\n",
       "      <td>House</td>\n",
       "      <td>None</td>\n",
       "      <td>Yes</td>\n",
       "      <td>None</td>\n",
       "      <td>3</td>\n",
       "      <td>1</td>\n",
       "      <td>2</td>\n",
       "      <td>None</td>\n",
       "      <td>None</td>\n",
       "      <td>2</td>\n",
       "      <td>None</td>\n",
       "      <td>None</td>\n",
       "      <td>None</td>\n",
       "      <td>280</td>\n",
       "      <td>278</td>\n",
       "      <td>Tyu Tyu North</td>\n",
       "    </tr>\n",
       "    <tr>\n",
       "      <th>2</th>\n",
       "      <td>R 749 000Bond CostsBond CalculatorPurchase Pri...</td>\n",
       "      <td>Bhisho, Tyu Tyu North</td>\n",
       "      <td>3-bedroom-house-for-sale-in-tyu-tyu-north-1158...</td>\n",
       "      <td>115864665</td>\n",
       "      <td>House</td>\n",
       "      <td>None</td>\n",
       "      <td>None</td>\n",
       "      <td>None</td>\n",
       "      <td>3</td>\n",
       "      <td>1</td>\n",
       "      <td>1</td>\n",
       "      <td>1</td>\n",
       "      <td>None</td>\n",
       "      <td>None</td>\n",
       "      <td>None</td>\n",
       "      <td>None</td>\n",
       "      <td>None</td>\n",
       "      <td>None</td>\n",
       "      <td>None</td>\n",
       "      <td>Tyu Tyu North</td>\n",
       "    </tr>\n",
       "    <tr>\n",
       "      <th>3</th>\n",
       "      <td>R 799 000Bond CostsBond CalculatorPurchase Pri...</td>\n",
       "      <td>Bhisho, Bhisho Central</td>\n",
       "      <td>3-bedroom-house-for-sale-in-bhisho-central-115...</td>\n",
       "      <td>115811196</td>\n",
       "      <td>House</td>\n",
       "      <td>None</td>\n",
       "      <td>None</td>\n",
       "      <td>None</td>\n",
       "      <td>3</td>\n",
       "      <td>1</td>\n",
       "      <td>1</td>\n",
       "      <td>None</td>\n",
       "      <td>None</td>\n",
       "      <td>None</td>\n",
       "      <td>1</td>\n",
       "      <td>None</td>\n",
       "      <td>None</td>\n",
       "      <td>413</td>\n",
       "      <td>None</td>\n",
       "      <td>Bhisho Central</td>\n",
       "    </tr>\n",
       "    <tr>\n",
       "      <th>4</th>\n",
       "      <td>R 695 000Bond CostsBond CalculatorPurchase Pri...</td>\n",
       "      <td>Bhisho, Tyu Tyu</td>\n",
       "      <td>3-bedroom-house-for-sale-in-tyu-tyu-115837796</td>\n",
       "      <td>115837796</td>\n",
       "      <td>House</td>\n",
       "      <td>None</td>\n",
       "      <td>None</td>\n",
       "      <td>None</td>\n",
       "      <td>3</td>\n",
       "      <td>2</td>\n",
       "      <td>1</td>\n",
       "      <td>1</td>\n",
       "      <td>None</td>\n",
       "      <td>None</td>\n",
       "      <td>None</td>\n",
       "      <td>None</td>\n",
       "      <td>None</td>\n",
       "      <td>None</td>\n",
       "      <td>None</td>\n",
       "      <td>Tyu Tyu</td>\n",
       "    </tr>\n",
       "  </tbody>\n",
       "</table>\n",
       "</div>"
      ],
      "text/plain": [
       "                                               price                location  \\\n",
       "0  R 690 000Bond CostsBond CalculatorPurchase Pri...  Bhisho, Bhisho Central   \n",
       "1  R 700 000Bond CostsBond CalculatorPurchase Pri...   Bhisho, Tyu Tyu North   \n",
       "2  R 749 000Bond CostsBond CalculatorPurchase Pri...   Bhisho, Tyu Tyu North   \n",
       "3  R 799 000Bond CostsBond CalculatorPurchase Pri...  Bhisho, Bhisho Central   \n",
       "4  R 695 000Bond CostsBond CalculatorPurchase Pri...         Bhisho, Tyu Tyu   \n",
       "\n",
       "                                        listing_slug listing_number  \\\n",
       "0  3-bedroom-house-for-sale-in-bhisho-central-115...      115871179   \n",
       "1  3-bedroom-house-for-sale-in-tyu-tyu-north-1157...      115765257   \n",
       "2  3-bedroom-house-for-sale-in-tyu-tyu-north-1158...      115864665   \n",
       "3  3-bedroom-house-for-sale-in-bhisho-central-115...      115811196   \n",
       "4      3-bedroom-house-for-sale-in-tyu-tyu-115837796      115837796   \n",
       "\n",
       "  property_type furnished pets_allowed backup_water  bedrooms bathrooms  \\\n",
       "0         House      None          Yes         None         3         1   \n",
       "1         House      None          Yes         None         3         1   \n",
       "2         House      None         None         None         3         1   \n",
       "3         House      None         None         None         3         1   \n",
       "4         House      None         None         None         3         2   \n",
       "\n",
       "  kitchen lounge dining_room parking garden  pool garage erf_size (m²)  \\\n",
       "0       1      1           1       3   None  None   None           248   \n",
       "1       2   None        None       2   None  None   None           280   \n",
       "2       1      1        None    None   None  None   None          None   \n",
       "3       1   None        None    None      1  None   None           413   \n",
       "4       1      1        None    None   None  None   None          None   \n",
       "\n",
       "  floor_area (m²)          suburb  \n",
       "0             128  Bhisho Central  \n",
       "1             278   Tyu Tyu North  \n",
       "2            None   Tyu Tyu North  \n",
       "3            None  Bhisho Central  \n",
       "4            None         Tyu Tyu  "
      ]
     },
     "execution_count": 15,
     "metadata": {},
     "output_type": "execute_result"
    }
   ],
   "source": [
    "# Extract the suburb from the property_title column\n",
    "results_df['suburb'] = results_df['property_title'].str.extract(\n",
    "    r'for Sale in (.+)', expand=False)\n",
    "\n",
    "# Clean up possible trailing whitespaces\n",
    "results_df['suburb'] = results_df['suburb'].str.strip()\n",
    "\n",
    "\n",
    "# Drop the property_title column as we have extracted all the information we need\n",
    "results_df.drop(columns=['property_title'], inplace=True)\n",
    "\n",
    "# Print the first five rows of the table to see the results\n",
    "results_df.head()"
   ]
  },
  {
   "cell_type": "markdown",
   "id": "f4c7f672",
   "metadata": {},
   "source": [
    "We will then load a seperate **city_province** csv file that contains a mapping of cities to their matching provinces to validate and fill in missing province information in the main dataset. "
   ]
  },
  {
   "cell_type": "code",
   "execution_count": 16,
   "id": "b2ef5285",
   "metadata": {},
   "outputs": [],
   "source": [
    "# Load the CSV that contains the capital_cities with their respective provinces and create a mapping\n",
    "city_province = pd.read_csv(\"../data/raw/south_africa_provinces_capitals.csv\")\n",
    "\n",
    "# Crete a mapping from city to province\n",
    "city_list = city_province['city'].dropna().str.strip().unique()"
   ]
  },
  {
   "cell_type": "markdown",
   "id": "9199bb68",
   "metadata": {},
   "source": [
    "The `location` column contains inconsistent formats, where it lists both the suburb and city and other times provides a full address. To address this, we use the *city_list* mapping to extract the city by matching it against known entries. If no match is found, the value is replaced with **None**."
   ]
  },
  {
   "cell_type": "code",
   "execution_count": 17,
   "id": "563848ae",
   "metadata": {},
   "outputs": [],
   "source": [
    "def extract_city_from_location(location, city_list):\n",
    "    \"\"\"\n",
    "    Extract the city name from a location string based on a provided list of cities.\n",
    "    \n",
    "    This function checks whether any city from a given list appears (case-insensitive) in the provided location string. If a match is found, the corresponding city name (in original casing from the list) is returned. \n",
    "    \n",
    "    Args:\n",
    "        location (str): The text string containing location information.\n",
    "        city_list (list of str): A list of known city names to match against the location.\n",
    "\n",
    "    Returns:\n",
    "        str or None: The matched city name if found in the location string, otherwise, None\n",
    "    \"\"\"\n",
    "    if pd.isna(location):\n",
    "        return None\n",
    "\n",
    "    location_lower = location.lower()\n",
    "    for city in city_list:\n",
    "        if city.lower() in location_lower:\n",
    "            return city\n",
    "    return None"
   ]
  },
  {
   "cell_type": "code",
   "execution_count": 18,
   "id": "1db00fa7",
   "metadata": {},
   "outputs": [],
   "source": [
    "# Apply the extract_city_from_location function to extract the city from the location column\n",
    "results_df['city'] = results_df['location'].apply(\n",
    "    lambda loc: extract_city_from_location(loc, city_list))\n",
    "\n",
    "# Drop the location column as it is redundant\n",
    "results_df.drop(columns=[\"location\"], inplace=True)"
   ]
  },
  {
   "cell_type": "markdown",
   "id": "f545ac15",
   "metadata": {},
   "source": [
    "The `city` column contains null values because some entries in the `location` column are empty or incomplete. To address this, we create a mapping of known suburbs to their matching cities and use it to fill in the missing `city` column. "
   ]
  },
  {
   "cell_type": "code",
   "execution_count": 19,
   "id": "a4ceacf6",
   "metadata": {},
   "outputs": [],
   "source": [
    "# Create a mapping of suburb to known cities\n",
    "suburb_to_city_map = results_df[results_df['city'].notna()].drop_duplicates(\n",
    "    subset=['suburb', 'city']).set_index('suburb')['city'].to_dict()\n",
    "\n",
    "# Fill missing city values based on the suburb\n",
    "results_df['city'] = results_df.apply(lambda row: suburb_to_city_map.get(\n",
    "    row['suburb'], row['city']) if pd.isna(row['city']) else row['city'], axis=1)"
   ]
  },
  {
   "cell_type": "code",
   "execution_count": 20,
   "id": "0a68e61f",
   "metadata": {},
   "outputs": [
    {
     "data": {
      "text/plain": [
       "np.int64(59)"
      ]
     },
     "execution_count": 20,
     "metadata": {},
     "output_type": "execute_result"
    }
   ],
   "source": [
    "# Print out the number of null values within the `city` column\n",
    "results_df['city'].isnull().sum()"
   ]
  },
  {
   "cell_type": "markdown",
   "id": "d7a7ee6e",
   "metadata": {},
   "source": [
    "There are 59 null rows in the city column which account for less than 0.1% of the total dataset. We remove these rows to maintain data quality given their small proportion. "
   ]
  },
  {
   "cell_type": "code",
   "execution_count": 21,
   "id": "65ca3f11",
   "metadata": {},
   "outputs": [
    {
     "data": {
      "text/plain": [
       "np.int64(0)"
      ]
     },
     "execution_count": 21,
     "metadata": {},
     "output_type": "execute_result"
    }
   ],
   "source": [
    "# Drop the city rows with null values\n",
    "results_df = results_df.dropna(subset=['city'])\n",
    "\n",
    "# Get the total number of null rows in the `city` column\n",
    "results_df['city'].isnull().sum()"
   ]
  },
  {
   "cell_type": "markdown",
   "id": "73cda8a8",
   "metadata": {},
   "source": [
    "We will then merge the dataset with the **city_province.csv** file to assign the matching province to each city. "
   ]
  },
  {
   "cell_type": "code",
   "execution_count": 22,
   "id": "8903f37f",
   "metadata": {},
   "outputs": [],
   "source": [
    "# Merge the city with its matching province\n",
    "results_df = results_df.merge(city_province, on='city', how='left')"
   ]
  },
  {
   "cell_type": "markdown",
   "id": "4a21ade2",
   "metadata": {},
   "source": [
    "The `listing_slug` column contains a URL-friendly string summarising key details about this listing, such as the number of bedrooms, property type, suburb, and a unique listing ID. This information is already available in other columns; we drop `listing_slug` to avoid redundancy. "
   ]
  },
  {
   "cell_type": "code",
   "execution_count": 23,
   "id": "620bc058",
   "metadata": {},
   "outputs": [],
   "source": [
    "# Drop the listing slug column\n",
    "results_df.drop(columns=['listing_slug'], inplace=True)"
   ]
  },
  {
   "cell_type": "markdown",
   "id": "6b3c5c75",
   "metadata": {},
   "source": [
    "### Price column"
   ]
  },
  {
   "cell_type": "markdown",
   "id": "ac61a092",
   "metadata": {},
   "source": [
    "The `price` column currently combines the price amount with the bond calculator text (e.g., R 690 000Bond CostBond....), which complicates aggregation and analysis. To resolve this, we extract the numeric value into a new `price (ZAR)` column, removing the currency symbol in the process. The cleaned data is then stored in a new DataFrame called **results_df**. "
   ]
  },
  {
   "cell_type": "code",
   "execution_count": 24,
   "id": "59dc2f9e",
   "metadata": {},
   "outputs": [
    {
     "data": {
      "application/vnd.microsoft.datawrangler.viewer.v0+json": {
       "columns": [
        {
         "name": "index",
         "rawType": "int64",
         "type": "integer"
        },
        {
         "name": "price",
         "rawType": "object",
         "type": "string"
        },
        {
         "name": "listing_number",
         "rawType": "object",
         "type": "string"
        },
        {
         "name": "property_type",
         "rawType": "object",
         "type": "string"
        },
        {
         "name": "furnished",
         "rawType": "object",
         "type": "unknown"
        },
        {
         "name": "pets_allowed",
         "rawType": "object",
         "type": "unknown"
        },
        {
         "name": "backup_water",
         "rawType": "object",
         "type": "unknown"
        },
        {
         "name": "bedrooms",
         "rawType": "Int64",
         "type": "integer"
        },
        {
         "name": "bathrooms",
         "rawType": "object",
         "type": "string"
        },
        {
         "name": "kitchen",
         "rawType": "object",
         "type": "string"
        },
        {
         "name": "lounge",
         "rawType": "object",
         "type": "unknown"
        },
        {
         "name": "dining_room",
         "rawType": "object",
         "type": "unknown"
        },
        {
         "name": "parking",
         "rawType": "object",
         "type": "unknown"
        },
        {
         "name": "garden",
         "rawType": "object",
         "type": "unknown"
        },
        {
         "name": "pool",
         "rawType": "object",
         "type": "unknown"
        },
        {
         "name": "garage",
         "rawType": "object",
         "type": "unknown"
        },
        {
         "name": "erf_size (m²)",
         "rawType": "object",
         "type": "unknown"
        },
        {
         "name": "floor_area (m²)",
         "rawType": "object",
         "type": "unknown"
        },
        {
         "name": "suburb",
         "rawType": "object",
         "type": "string"
        },
        {
         "name": "city",
         "rawType": "object",
         "type": "string"
        },
        {
         "name": "province",
         "rawType": "object",
         "type": "string"
        },
        {
         "name": "price_cleaned",
         "rawType": "object",
         "type": "string"
        },
        {
         "name": "price (ZAR)",
         "rawType": "object",
         "type": "string"
        }
       ],
       "ref": "f576cf42-bfd5-4982-bc45-cfa2a93f8585",
       "rows": [
        [
         "0",
         "R 690 000Bond CostsBond CalculatorPurchase PriceRDeposit(Optional)RInterest Rate%Loan TermyearsMonthly Repayment:Total Once Off Costs :Min Gross Monthly Income:View BreakdownWhat do I qualify for based on my income?What are the bond and transfer costs?*Disclaimer: Please note that by default this calculator uses the prime interest rate for bond payment calculations. This is purely for convenience and not an indication of the interest rate that might be offered to you by a bank. This calculator is intended to provide estimates based on the indicated amounts, rates and fees. Whilst we make every effort to ensure the accuracy of these calculations, we cannot be held liable for inaccuracies. Property24 does not accept liability for any damages arising from the use of this calculator.",
         "115871179",
         "House",
         null,
         "Yes",
         null,
         "3",
         "1",
         "1",
         "1",
         "1",
         "3",
         null,
         null,
         null,
         "248",
         "128",
         "Bhisho Central",
         "Bhisho",
         "Eastern Cape",
         "R690000",
         "690000"
        ],
        [
         "1",
         "R 700 000Bond CostsBond CalculatorPurchase PriceRDeposit(Optional)RInterest Rate%Loan TermyearsMonthly Repayment:Total Once Off Costs :Min Gross Monthly Income:View BreakdownWhat do I qualify for based on my income?What are the bond and transfer costs?*Disclaimer: Please note that by default this calculator uses the prime interest rate for bond payment calculations. This is purely for convenience and not an indication of the interest rate that might be offered to you by a bank. This calculator is intended to provide estimates based on the indicated amounts, rates and fees. Whilst we make every effort to ensure the accuracy of these calculations, we cannot be held liable for inaccuracies. Property24 does not accept liability for any damages arising from the use of this calculator.",
         "115765257",
         "House",
         null,
         "Yes",
         null,
         "3",
         "1",
         "2",
         null,
         null,
         "2",
         null,
         null,
         null,
         "280",
         "278",
         "Tyu Tyu North",
         "Bhisho",
         "Eastern Cape",
         "R700000",
         "700000"
        ],
        [
         "2",
         "R 749 000Bond CostsBond CalculatorPurchase PriceRDeposit(Optional)RInterest Rate%Loan TermyearsMonthly Repayment:Total Once Off Costs :Min Gross Monthly Income:View BreakdownWhat do I qualify for based on my income?What are the bond and transfer costs?*Disclaimer: Please note that by default this calculator uses the prime interest rate for bond payment calculations. This is purely for convenience and not an indication of the interest rate that might be offered to you by a bank. This calculator is intended to provide estimates based on the indicated amounts, rates and fees. Whilst we make every effort to ensure the accuracy of these calculations, we cannot be held liable for inaccuracies. Property24 does not accept liability for any damages arising from the use of this calculator.",
         "115864665",
         "House",
         null,
         null,
         null,
         "3",
         "1",
         "1",
         "1",
         null,
         null,
         null,
         null,
         null,
         null,
         null,
         "Tyu Tyu North",
         "Bhisho",
         "Eastern Cape",
         "R749000",
         "749000"
        ],
        [
         "3",
         "R 799 000Bond CostsBond CalculatorPurchase PriceRDeposit(Optional)RInterest Rate%Loan TermyearsMonthly Repayment:Total Once Off Costs :Min Gross Monthly Income:View BreakdownWhat do I qualify for based on my income?What are the bond and transfer costs?*Disclaimer: Please note that by default this calculator uses the prime interest rate for bond payment calculations. This is purely for convenience and not an indication of the interest rate that might be offered to you by a bank. This calculator is intended to provide estimates based on the indicated amounts, rates and fees. Whilst we make every effort to ensure the accuracy of these calculations, we cannot be held liable for inaccuracies. Property24 does not accept liability for any damages arising from the use of this calculator.",
         "115811196",
         "House",
         null,
         null,
         null,
         "3",
         "1",
         "1",
         null,
         null,
         null,
         "1",
         null,
         null,
         "413",
         null,
         "Bhisho Central",
         "Bhisho",
         "Eastern Cape",
         "R799000",
         "799000"
        ],
        [
         "4",
         "R 695 000Bond CostsBond CalculatorPurchase PriceRDeposit(Optional)RInterest Rate%Loan TermyearsMonthly Repayment:Total Once Off Costs :Min Gross Monthly Income:View BreakdownWhat do I qualify for based on my income?What are the bond and transfer costs?*Disclaimer: Please note that by default this calculator uses the prime interest rate for bond payment calculations. This is purely for convenience and not an indication of the interest rate that might be offered to you by a bank. This calculator is intended to provide estimates based on the indicated amounts, rates and fees. Whilst we make every effort to ensure the accuracy of these calculations, we cannot be held liable for inaccuracies. Property24 does not accept liability for any damages arising from the use of this calculator.",
         "115837796",
         "House",
         null,
         null,
         null,
         "3",
         "2",
         "1",
         "1",
         null,
         null,
         null,
         null,
         null,
         null,
         null,
         "Tyu Tyu",
         "Bhisho",
         "Eastern Cape",
         "R695000",
         "695000"
        ]
       ],
       "shape": {
        "columns": 22,
        "rows": 5
       }
      },
      "text/html": [
       "<div>\n",
       "<style scoped>\n",
       "    .dataframe tbody tr th:only-of-type {\n",
       "        vertical-align: middle;\n",
       "    }\n",
       "\n",
       "    .dataframe tbody tr th {\n",
       "        vertical-align: top;\n",
       "    }\n",
       "\n",
       "    .dataframe thead th {\n",
       "        text-align: right;\n",
       "    }\n",
       "</style>\n",
       "<table border=\"1\" class=\"dataframe\">\n",
       "  <thead>\n",
       "    <tr style=\"text-align: right;\">\n",
       "      <th></th>\n",
       "      <th>price</th>\n",
       "      <th>listing_number</th>\n",
       "      <th>property_type</th>\n",
       "      <th>furnished</th>\n",
       "      <th>pets_allowed</th>\n",
       "      <th>backup_water</th>\n",
       "      <th>bedrooms</th>\n",
       "      <th>bathrooms</th>\n",
       "      <th>kitchen</th>\n",
       "      <th>lounge</th>\n",
       "      <th>...</th>\n",
       "      <th>garden</th>\n",
       "      <th>pool</th>\n",
       "      <th>garage</th>\n",
       "      <th>erf_size (m²)</th>\n",
       "      <th>floor_area (m²)</th>\n",
       "      <th>suburb</th>\n",
       "      <th>city</th>\n",
       "      <th>province</th>\n",
       "      <th>price_cleaned</th>\n",
       "      <th>price (ZAR)</th>\n",
       "    </tr>\n",
       "  </thead>\n",
       "  <tbody>\n",
       "    <tr>\n",
       "      <th>0</th>\n",
       "      <td>R 690 000Bond CostsBond CalculatorPurchase Pri...</td>\n",
       "      <td>115871179</td>\n",
       "      <td>House</td>\n",
       "      <td>None</td>\n",
       "      <td>Yes</td>\n",
       "      <td>None</td>\n",
       "      <td>3</td>\n",
       "      <td>1</td>\n",
       "      <td>1</td>\n",
       "      <td>1</td>\n",
       "      <td>...</td>\n",
       "      <td>None</td>\n",
       "      <td>None</td>\n",
       "      <td>None</td>\n",
       "      <td>248</td>\n",
       "      <td>128</td>\n",
       "      <td>Bhisho Central</td>\n",
       "      <td>Bhisho</td>\n",
       "      <td>Eastern Cape</td>\n",
       "      <td>R690000</td>\n",
       "      <td>690000</td>\n",
       "    </tr>\n",
       "    <tr>\n",
       "      <th>1</th>\n",
       "      <td>R 700 000Bond CostsBond CalculatorPurchase Pri...</td>\n",
       "      <td>115765257</td>\n",
       "      <td>House</td>\n",
       "      <td>None</td>\n",
       "      <td>Yes</td>\n",
       "      <td>None</td>\n",
       "      <td>3</td>\n",
       "      <td>1</td>\n",
       "      <td>2</td>\n",
       "      <td>None</td>\n",
       "      <td>...</td>\n",
       "      <td>None</td>\n",
       "      <td>None</td>\n",
       "      <td>None</td>\n",
       "      <td>280</td>\n",
       "      <td>278</td>\n",
       "      <td>Tyu Tyu North</td>\n",
       "      <td>Bhisho</td>\n",
       "      <td>Eastern Cape</td>\n",
       "      <td>R700000</td>\n",
       "      <td>700000</td>\n",
       "    </tr>\n",
       "    <tr>\n",
       "      <th>2</th>\n",
       "      <td>R 749 000Bond CostsBond CalculatorPurchase Pri...</td>\n",
       "      <td>115864665</td>\n",
       "      <td>House</td>\n",
       "      <td>None</td>\n",
       "      <td>None</td>\n",
       "      <td>None</td>\n",
       "      <td>3</td>\n",
       "      <td>1</td>\n",
       "      <td>1</td>\n",
       "      <td>1</td>\n",
       "      <td>...</td>\n",
       "      <td>None</td>\n",
       "      <td>None</td>\n",
       "      <td>None</td>\n",
       "      <td>None</td>\n",
       "      <td>None</td>\n",
       "      <td>Tyu Tyu North</td>\n",
       "      <td>Bhisho</td>\n",
       "      <td>Eastern Cape</td>\n",
       "      <td>R749000</td>\n",
       "      <td>749000</td>\n",
       "    </tr>\n",
       "    <tr>\n",
       "      <th>3</th>\n",
       "      <td>R 799 000Bond CostsBond CalculatorPurchase Pri...</td>\n",
       "      <td>115811196</td>\n",
       "      <td>House</td>\n",
       "      <td>None</td>\n",
       "      <td>None</td>\n",
       "      <td>None</td>\n",
       "      <td>3</td>\n",
       "      <td>1</td>\n",
       "      <td>1</td>\n",
       "      <td>None</td>\n",
       "      <td>...</td>\n",
       "      <td>1</td>\n",
       "      <td>None</td>\n",
       "      <td>None</td>\n",
       "      <td>413</td>\n",
       "      <td>None</td>\n",
       "      <td>Bhisho Central</td>\n",
       "      <td>Bhisho</td>\n",
       "      <td>Eastern Cape</td>\n",
       "      <td>R799000</td>\n",
       "      <td>799000</td>\n",
       "    </tr>\n",
       "    <tr>\n",
       "      <th>4</th>\n",
       "      <td>R 695 000Bond CostsBond CalculatorPurchase Pri...</td>\n",
       "      <td>115837796</td>\n",
       "      <td>House</td>\n",
       "      <td>None</td>\n",
       "      <td>None</td>\n",
       "      <td>None</td>\n",
       "      <td>3</td>\n",
       "      <td>2</td>\n",
       "      <td>1</td>\n",
       "      <td>1</td>\n",
       "      <td>...</td>\n",
       "      <td>None</td>\n",
       "      <td>None</td>\n",
       "      <td>None</td>\n",
       "      <td>None</td>\n",
       "      <td>None</td>\n",
       "      <td>Tyu Tyu</td>\n",
       "      <td>Bhisho</td>\n",
       "      <td>Eastern Cape</td>\n",
       "      <td>R695000</td>\n",
       "      <td>695000</td>\n",
       "    </tr>\n",
       "  </tbody>\n",
       "</table>\n",
       "<p>5 rows × 22 columns</p>\n",
       "</div>"
      ],
      "text/plain": [
       "                                               price listing_number  \\\n",
       "0  R 690 000Bond CostsBond CalculatorPurchase Pri...      115871179   \n",
       "1  R 700 000Bond CostsBond CalculatorPurchase Pri...      115765257   \n",
       "2  R 749 000Bond CostsBond CalculatorPurchase Pri...      115864665   \n",
       "3  R 799 000Bond CostsBond CalculatorPurchase Pri...      115811196   \n",
       "4  R 695 000Bond CostsBond CalculatorPurchase Pri...      115837796   \n",
       "\n",
       "  property_type furnished pets_allowed backup_water  bedrooms bathrooms  \\\n",
       "0         House      None          Yes         None         3         1   \n",
       "1         House      None          Yes         None         3         1   \n",
       "2         House      None         None         None         3         1   \n",
       "3         House      None         None         None         3         1   \n",
       "4         House      None         None         None         3         2   \n",
       "\n",
       "  kitchen lounge  ... garden  pool garage erf_size (m²) floor_area (m²)  \\\n",
       "0       1      1  ...   None  None   None           248             128   \n",
       "1       2   None  ...   None  None   None           280             278   \n",
       "2       1      1  ...   None  None   None          None            None   \n",
       "3       1   None  ...      1  None   None           413            None   \n",
       "4       1      1  ...   None  None   None          None            None   \n",
       "\n",
       "           suburb    city      province price_cleaned price (ZAR)  \n",
       "0  Bhisho Central  Bhisho  Eastern Cape       R690000      690000  \n",
       "1   Tyu Tyu North  Bhisho  Eastern Cape       R700000      700000  \n",
       "2   Tyu Tyu North  Bhisho  Eastern Cape       R749000      749000  \n",
       "3  Bhisho Central  Bhisho  Eastern Cape       R799000      799000  \n",
       "4         Tyu Tyu  Bhisho  Eastern Cape       R695000      695000  \n",
       "\n",
       "[5 rows x 22 columns]"
      ]
     },
     "execution_count": 24,
     "metadata": {},
     "output_type": "execute_result"
    }
   ],
   "source": [
    "# Extract the price amount from the `price` column\n",
    "results_df['price_cleaned'] = results_df['price'].str.extract(\n",
    "    r'(R\\s?\\d[\\d\\s]*)')\n",
    "\n",
    "# Remove trailing whitespaces\n",
    "results_df['price_cleaned'] = results_df['price_cleaned'].str.replace(\n",
    "    r'\\s+', '', regex=True)\n",
    "\n",
    "# Extract the results of the `price_cleaned` column to the new column `price (ZAR)`\n",
    "results_df['price (ZAR)'] = results_df['price_cleaned'].str.extract(\n",
    "    r'R?(\\d+)', expand=False)\n",
    "\n",
    "# Print out the first five rows to see the results\n",
    "results_df.head()"
   ]
  },
  {
   "cell_type": "code",
   "execution_count": 25,
   "id": "b57c7b6d",
   "metadata": {},
   "outputs": [
    {
     "name": "stdout",
     "output_type": "stream",
     "text": [
      "There are 542 listings with 'POA' in the price column.\n"
     ]
    }
   ],
   "source": [
    "# Get number of rows that contain \"POA\"\n",
    "poa_mask = listings_for_sale['price'].astype(\n",
    "    str).str.contains(\"POA\", case=False, na=False)\n",
    "num_poa = poa_mask.sum()\n",
    "\n",
    "# Print results\n",
    "print(f\"There are {num_poa} listings with 'POA' in the price column.\")"
   ]
  },
  {
   "cell_type": "markdown",
   "id": "c6ec3520",
   "metadata": {},
   "source": [
    "There are currently 542 rows containing \"POA\". To clean this, we will calculate the average price based on `suburb`, `city` and `property_type`, and use these averages to impute the missing values."
   ]
  },
  {
   "cell_type": "code",
   "execution_count": 26,
   "id": "7c7a3590",
   "metadata": {},
   "outputs": [],
   "source": [
    "# Identify POA entries in 'price' for sale listings\n",
    "poa_mask = results_df['price'].str.startswith('POA', na=False)\n",
    "\n",
    "# Ensure 'price (ZAR)' is numeric (already extracted earlier)\n",
    "results_df['price (ZAR)'] = pd.to_numeric(\n",
    "    results_df['price (ZAR)'], errors='coerce')\n",
    "\n",
    "\n",
    "\n",
    "# Calculate grouped averages for non-POA values\n",
    "avg_prices = results_df[~poa_mask & results_df['price (ZAR)'].notna()] \\\n",
    "    .groupby(['suburb', 'city', 'property_type'])['price (ZAR)'] \\\n",
    "    .mean().reset_index().rename(columns={'price (ZAR)': 'price_avg'})\n",
    "\n",
    "# Merge the average prices back into the main DataFrame\n",
    "results_df = results_df.merge(\n",
    "    avg_prices, on=['suburb', 'city', 'property_type'], how='left')\n",
    "\n",
    "# Impute POA prices with the average (only where POA exists)\n",
    "results_df.loc[poa_mask, 'price (ZAR)'] = results_df.loc[poa_mask, 'price_avg']\n",
    "\n",
    "# Drop the helper column\n",
    "results_df.drop(columns='price_avg', inplace=True)"
   ]
  },
  {
   "cell_type": "code",
   "execution_count": 27,
   "id": "9faaed22",
   "metadata": {},
   "outputs": [
    {
     "name": "stdout",
     "output_type": "stream",
     "text": [
      "Remaining 'POA': 0\n",
      "Remaining nulls 'price (ZAR)': 41\n"
     ]
    }
   ],
   "source": [
    "# Print number of rows that contain \"POA\"\n",
    "print(\"Remaining 'POA':\", results_df['price'].str.lower().eq('poa').sum())\n",
    "\n",
    "# Get total number of null values in the `price(ZAR)` column\n",
    "print(\"Remaining nulls 'price (ZAR)':\", results_df['price (ZAR)'].isna().sum())"
   ]
  },
  {
   "cell_type": "code",
   "execution_count": 28,
   "id": "6cb2c0bd",
   "metadata": {},
   "outputs": [
    {
     "data": {
      "application/vnd.microsoft.datawrangler.viewer.v0+json": {
       "columns": [
        {
         "name": "index",
         "rawType": "int64",
         "type": "integer"
        },
        {
         "name": "price",
         "rawType": "object",
         "type": "string"
        },
        {
         "name": "listing_number",
         "rawType": "object",
         "type": "string"
        },
        {
         "name": "property_type",
         "rawType": "object",
         "type": "string"
        },
        {
         "name": "furnished",
         "rawType": "object",
         "type": "unknown"
        },
        {
         "name": "pets_allowed",
         "rawType": "object",
         "type": "unknown"
        },
        {
         "name": "backup_water",
         "rawType": "object",
         "type": "unknown"
        },
        {
         "name": "bedrooms",
         "rawType": "Int64",
         "type": "integer"
        },
        {
         "name": "bathrooms",
         "rawType": "object",
         "type": "unknown"
        },
        {
         "name": "kitchen",
         "rawType": "object",
         "type": "unknown"
        },
        {
         "name": "lounge",
         "rawType": "object",
         "type": "unknown"
        },
        {
         "name": "dining_room",
         "rawType": "object",
         "type": "unknown"
        },
        {
         "name": "parking",
         "rawType": "object",
         "type": "unknown"
        },
        {
         "name": "garden",
         "rawType": "object",
         "type": "unknown"
        },
        {
         "name": "pool",
         "rawType": "object",
         "type": "unknown"
        },
        {
         "name": "garage",
         "rawType": "object",
         "type": "unknown"
        },
        {
         "name": "erf_size (m²)",
         "rawType": "object",
         "type": "unknown"
        },
        {
         "name": "floor_area (m²)",
         "rawType": "object",
         "type": "unknown"
        },
        {
         "name": "suburb",
         "rawType": "object",
         "type": "string"
        },
        {
         "name": "city",
         "rawType": "object",
         "type": "string"
        },
        {
         "name": "province",
         "rawType": "object",
         "type": "string"
        },
        {
         "name": "price_cleaned",
         "rawType": "object",
         "type": "unknown"
        },
        {
         "name": "price (ZAR)",
         "rawType": "float64",
         "type": "float"
        }
       ],
       "ref": "ad62bb05-33c4-4ccf-8d8c-70826e79f796",
       "rows": [
        [
         "2704",
         "POABond CostsBond CalculatorPurchase PriceRDeposit(Optional)RInterest Rate%Loan TermyearsMonthly Repayment:Total Once Off Costs :Min Gross Monthly Income:View BreakdownWhat do I qualify for based on my income?What are the bond and transfer costs?*Disclaimer: Please note that by default this calculator uses the prime interest rate for bond payment calculations. This is purely for convenience and not an indication of the interest rate that might be offered to you by a bank. This calculator is intended to provide estimates based on the indicated amounts, rates and fees. Whilst we make every effort to ensure the accuracy of these calculations, we cannot be held liable for inaccuracies. Property24 does not accept liability for any damages arising from the use of this calculator.",
         "115976173",
         "House",
         null,
         null,
         null,
         "5",
         "3",
         "1",
         "1",
         "1",
         "6",
         "1",
         null,
         "2",
         null,
         "250",
         "Hartebeesfontein SH",
         "Bloemfontein",
         "Free State",
         null,
         null
        ],
        [
         "3024",
         "POABond CostsBond CalculatorPurchase PriceRDeposit(Optional)RInterest Rate%Loan TermyearsMonthly Repayment:Total Once Off Costs :Min Gross Monthly Income:View BreakdownWhat do I qualify for based on my income?What are the bond and transfer costs?*Disclaimer: Please note that by default this calculator uses the prime interest rate for bond payment calculations. This is purely for convenience and not an indication of the interest rate that might be offered to you by a bank. This calculator is intended to provide estimates based on the indicated amounts, rates and fees. Whilst we make every effort to ensure the accuracy of these calculations, we cannot be held liable for inaccuracies. Property24 does not accept liability for any damages arising from the use of this calculator.",
         "111277371",
         "Commercial",
         "Yes",
         "No",
         null,
         null,
         "12",
         "2",
         null,
         null,
         "24",
         null,
         null,
         null,
         null,
         null,
         "Heuwelsig",
         "Bloemfontein",
         "Free State",
         null,
         null
        ],
        [
         "3558",
         "POABond CostsBond CalculatorPurchase PriceRDeposit(Optional)RInterest Rate%Loan TermyearsMonthly Repayment:Total Once Off Costs :Min Gross Monthly Income:View BreakdownWhat do I qualify for based on my income?What are the bond and transfer costs?*Disclaimer: Please note that by default this calculator uses the prime interest rate for bond payment calculations. This is purely for convenience and not an indication of the interest rate that might be offered to you by a bank. This calculator is intended to provide estimates based on the indicated amounts, rates and fees. Whilst we make every effort to ensure the accuracy of these calculations, we cannot be held liable for inaccuracies. Property24 does not accept liability for any damages arising from the use of this calculator.",
         "114108103",
         "Commercial",
         null,
         null,
         null,
         "13",
         "14",
         "1",
         null,
         null,
         "20",
         null,
         null,
         null,
         null,
         "882",
         "Bayswater",
         "Bloemfontein",
         "Free State",
         null,
         null
        ],
        [
         "4771",
         "POABond CostsBond CalculatorPurchase PriceRDeposit(Optional)RInterest Rate%Loan TermyearsMonthly Repayment:Total Once Off Costs :Min Gross Monthly Income:View BreakdownWhat do I qualify for based on my income?What are the bond and transfer costs?*Disclaimer: Please note that by default this calculator uses the prime interest rate for bond payment calculations. This is purely for convenience and not an indication of the interest rate that might be offered to you by a bank. This calculator is intended to provide estimates based on the indicated amounts, rates and fees. Whilst we make every effort to ensure the accuracy of these calculations, we cannot be held liable for inaccuracies. Property24 does not accept liability for any damages arising from the use of this calculator.",
         "114515238",
         "Industrial",
         null,
         null,
         null,
         null,
         null,
         null,
         null,
         null,
         null,
         null,
         null,
         null,
         null,
         null,
         "Noordhoek",
         "Bloemfontein",
         "Free State",
         null,
         null
        ],
        [
         "5521",
         "POABond CostsBond CalculatorPurchase PriceRDeposit(Optional)RInterest Rate%Loan TermyearsMonthly Repayment:Total Once Off Costs :Min Gross Monthly Income:View BreakdownWhat do I qualify for based on my income?What are the bond and transfer costs?*Disclaimer: Please note that by default this calculator uses the prime interest rate for bond payment calculations. This is purely for convenience and not an indication of the interest rate that might be offered to you by a bank. This calculator is intended to provide estimates based on the indicated amounts, rates and fees. Whilst we make every effort to ensure the accuracy of these calculations, we cannot be held liable for inaccuracies. Property24 does not accept liability for any damages arising from the use of this calculator.",
         "113316750",
         "Townhouse",
         null,
         null,
         null,
         null,
         null,
         null,
         null,
         null,
         null,
         null,
         null,
         null,
         null,
         null,
         "Bloemfontein Rural",
         "Bloemfontein",
         "Free State",
         null,
         null
        ],
        [
         "5621",
         "POABond CostsBond CalculatorPurchase PriceRDeposit(Optional)RInterest Rate%Loan TermyearsMonthly Repayment:Total Once Off Costs :Min Gross Monthly Income:View BreakdownWhat do I qualify for based on my income?What are the bond and transfer costs?*Disclaimer: Please note that by default this calculator uses the prime interest rate for bond payment calculations. This is purely for convenience and not an indication of the interest rate that might be offered to you by a bank. This calculator is intended to provide estimates based on the indicated amounts, rates and fees. Whilst we make every effort to ensure the accuracy of these calculations, we cannot be held liable for inaccuracies. Property24 does not accept liability for any damages arising from the use of this calculator.",
         "114505067",
         "Vacant Land",
         null,
         null,
         null,
         null,
         null,
         null,
         null,
         null,
         null,
         null,
         null,
         null,
         null,
         null,
         "Fichardt Park",
         "Bloemfontein",
         "Free State",
         null,
         null
        ],
        [
         "7230",
         "POABond CostsBond CalculatorPurchase PriceRDeposit(Optional)RInterest Rate%Loan TermyearsMonthly Repayment:Total Once Off Costs :Min Gross Monthly Income:View BreakdownWhat do I qualify for based on my income?What are the bond and transfer costs?*Disclaimer: Please note that by default this calculator uses the prime interest rate for bond payment calculations. This is purely for convenience and not an indication of the interest rate that might be offered to you by a bank. This calculator is intended to provide estimates based on the indicated amounts, rates and fees. Whilst we make every effort to ensure the accuracy of these calculations, we cannot be held liable for inaccuracies. Property24 does not accept liability for any damages arising from the use of this calculator.",
         "115523243",
         "Commercial",
         null,
         null,
         null,
         null,
         null,
         null,
         null,
         null,
         null,
         null,
         null,
         null,
         null,
         null,
         "Gatesville",
         "Cape Town",
         "Western Cape",
         null,
         null
        ],
        [
         "7928",
         "POABond CostsBond CalculatorPurchase PriceRDeposit(Optional)RInterest Rate%Loan TermyearsMonthly Repayment:Total Once Off Costs :Min Gross Monthly Income:View BreakdownWhat do I qualify for based on my income?What are the bond and transfer costs?*Disclaimer: Please note that by default this calculator uses the prime interest rate for bond payment calculations. This is purely for convenience and not an indication of the interest rate that might be offered to you by a bank. This calculator is intended to provide estimates based on the indicated amounts, rates and fees. Whilst we make every effort to ensure the accuracy of these calculations, we cannot be held liable for inaccuracies. Property24 does not accept liability for any damages arising from the use of this calculator.",
         "115865675",
         "Commercial",
         null,
         null,
         null,
         null,
         null,
         null,
         null,
         null,
         null,
         null,
         null,
         null,
         "622",
         null,
         "Kirstenhof",
         "Cape Town",
         "Western Cape",
         null,
         null
        ],
        [
         "7955",
         "POABond CostsBond CalculatorPurchase PriceRDeposit(Optional)RInterest Rate%Loan TermyearsMonthly Repayment:Total Once Off Costs :Min Gross Monthly Income:View BreakdownWhat do I qualify for based on my income?What are the bond and transfer costs?*Disclaimer: Please note that by default this calculator uses the prime interest rate for bond payment calculations. This is purely for convenience and not an indication of the interest rate that might be offered to you by a bank. This calculator is intended to provide estimates based on the indicated amounts, rates and fees. Whilst we make every effort to ensure the accuracy of these calculations, we cannot be held liable for inaccuracies. Property24 does not accept liability for any damages arising from the use of this calculator.",
         "115960492",
         "House",
         null,
         "Yes",
         null,
         "4",
         "1",
         "1",
         "1",
         "1",
         "2",
         null,
         null,
         "1",
         "487",
         null,
         "Zwartdam",
         "Cape Town",
         "Western Cape",
         null,
         null
        ],
        [
         "10449",
         "POABond CostsBond CalculatorPurchase PriceRDeposit(Optional)RInterest Rate%Loan TermyearsMonthly Repayment:Total Once Off Costs :Min Gross Monthly Income:View BreakdownWhat do I qualify for based on my income?What are the bond and transfer costs?*Disclaimer: Please note that by default this calculator uses the prime interest rate for bond payment calculations. This is purely for convenience and not an indication of the interest rate that might be offered to you by a bank. This calculator is intended to provide estimates based on the indicated amounts, rates and fees. Whilst we make every effort to ensure the accuracy of these calculations, we cannot be held liable for inaccuracies. Property24 does not accept liability for any damages arising from the use of this calculator.",
         "114215115",
         "Vacant Land",
         null,
         null,
         null,
         "1",
         "1",
         "1",
         "1",
         null,
         null,
         null,
         "1",
         "1",
         null,
         null,
         "Belle Constantia",
         "Cape Town",
         "Western Cape",
         null,
         null
        ],
        [
         "11185",
         "POABond CostsBond CalculatorPurchase PriceRDeposit(Optional)RInterest Rate%Loan TermyearsMonthly Repayment:Total Once Off Costs :Min Gross Monthly Income:View BreakdownWhat do I qualify for based on my income?What are the bond and transfer costs?*Disclaimer: Please note that by default this calculator uses the prime interest rate for bond payment calculations. This is purely for convenience and not an indication of the interest rate that might be offered to you by a bank. This calculator is intended to provide estimates based on the indicated amounts, rates and fees. Whilst we make every effort to ensure the accuracy of these calculations, we cannot be held liable for inaccuracies. Property24 does not accept liability for any damages arising from the use of this calculator.",
         "115451304",
         "Commercial",
         null,
         null,
         null,
         null,
         null,
         null,
         null,
         null,
         null,
         null,
         null,
         null,
         null,
         null,
         "Schaapkraal",
         "Cape Town",
         "Western Cape",
         null,
         null
        ],
        [
         "11343",
         "POABond CostsBond CalculatorPurchase PriceRDeposit(Optional)RInterest Rate%Loan TermyearsMonthly Repayment:Total Once Off Costs :Min Gross Monthly Income:View BreakdownWhat do I qualify for based on my income?What are the bond and transfer costs?*Disclaimer: Please note that by default this calculator uses the prime interest rate for bond payment calculations. This is purely for convenience and not an indication of the interest rate that might be offered to you by a bank. This calculator is intended to provide estimates based on the indicated amounts, rates and fees. Whilst we make every effort to ensure the accuracy of these calculations, we cannot be held liable for inaccuracies. Property24 does not accept liability for any damages arising from the use of this calculator.",
         "115913288",
         "Commercial",
         null,
         null,
         null,
         null,
         null,
         null,
         null,
         null,
         null,
         null,
         null,
         null,
         "694",
         null,
         "Southfield",
         "Cape Town",
         "Western Cape",
         null,
         null
        ],
        [
         "11776",
         "POABond CostsBond CalculatorPurchase PriceRDeposit(Optional)RInterest Rate%Loan TermyearsMonthly Repayment:Total Once Off Costs :Min Gross Monthly Income:View BreakdownWhat do I qualify for based on my income?What are the bond and transfer costs?*Disclaimer: Please note that by default this calculator uses the prime interest rate for bond payment calculations. This is purely for convenience and not an indication of the interest rate that might be offered to you by a bank. This calculator is intended to provide estimates based on the indicated amounts, rates and fees. Whilst we make every effort to ensure the accuracy of these calculations, we cannot be held liable for inaccuracies. Property24 does not accept liability for any damages arising from the use of this calculator.",
         "115964221",
         "Commercial",
         null,
         null,
         null,
         null,
         null,
         null,
         null,
         null,
         null,
         null,
         null,
         null,
         "490",
         "797",
         "Surrey Estate",
         "Cape Town",
         "Western Cape",
         null,
         null
        ],
        [
         "11818",
         "POABond CostsBond CalculatorPurchase PriceRDeposit(Optional)RInterest Rate%Loan TermyearsMonthly Repayment:Total Once Off Costs :Min Gross Monthly Income:View BreakdownWhat do I qualify for based on my income?What are the bond and transfer costs?*Disclaimer: Please note that by default this calculator uses the prime interest rate for bond payment calculations. This is purely for convenience and not an indication of the interest rate that might be offered to you by a bank. This calculator is intended to provide estimates based on the indicated amounts, rates and fees. Whilst we make every effort to ensure the accuracy of these calculations, we cannot be held liable for inaccuracies. Property24 does not accept liability for any damages arising from the use of this calculator.",
         "115935207",
         "Commercial",
         null,
         null,
         null,
         null,
         null,
         null,
         null,
         null,
         null,
         null,
         null,
         null,
         null,
         "159",
         "Philippi",
         "Cape Town",
         "Western Cape",
         null,
         null
        ],
        [
         "12070",
         "POABond CostsBond CalculatorPurchase PriceRDeposit(Optional)RInterest Rate%Loan TermyearsMonthly Repayment:Total Once Off Costs :Min Gross Monthly Income:View BreakdownWhat do I qualify for based on my income?What are the bond and transfer costs?*Disclaimer: Please note that by default this calculator uses the prime interest rate for bond payment calculations. This is purely for convenience and not an indication of the interest rate that might be offered to you by a bank. This calculator is intended to provide estimates based on the indicated amounts, rates and fees. Whilst we make every effort to ensure the accuracy of these calculations, we cannot be held liable for inaccuracies. Property24 does not accept liability for any damages arising from the use of this calculator.",
         "115886800",
         "House",
         null,
         null,
         null,
         "4",
         "1",
         null,
         "1",
         "1",
         null,
         null,
         null,
         null,
         "257",
         "195",
         "Factreton",
         "Cape Town",
         "Western Cape",
         null,
         null
        ],
        [
         "12927",
         "POABond CostsBond CalculatorPurchase PriceRDeposit(Optional)RInterest Rate%Loan TermyearsMonthly Repayment:Total Once Off Costs :Min Gross Monthly Income:View BreakdownWhat do I qualify for based on my income?What are the bond and transfer costs?*Disclaimer: Please note that by default this calculator uses the prime interest rate for bond payment calculations. This is purely for convenience and not an indication of the interest rate that might be offered to you by a bank. This calculator is intended to provide estimates based on the indicated amounts, rates and fees. Whilst we make every effort to ensure the accuracy of these calculations, we cannot be held liable for inaccuracies. Property24 does not accept liability for any damages arising from the use of this calculator.",
         "115783867",
         "Commercial",
         null,
         null,
         null,
         null,
         null,
         null,
         null,
         null,
         null,
         null,
         null,
         null,
         null,
         "184",
         "Maboneng",
         "Johannesburg",
         "Gauteng",
         null,
         null
        ],
        [
         "12943",
         "POABond CostsBond CalculatorPurchase PriceRDeposit(Optional)RInterest Rate%Loan TermyearsMonthly Repayment:Total Once Off Costs :Min Gross Monthly Income:View BreakdownWhat do I qualify for based on my income?What are the bond and transfer costs?*Disclaimer: Please note that by default this calculator uses the prime interest rate for bond payment calculations. This is purely for convenience and not an indication of the interest rate that might be offered to you by a bank. This calculator is intended to provide estimates based on the indicated amounts, rates and fees. Whilst we make every effort to ensure the accuracy of these calculations, we cannot be held liable for inaccuracies. Property24 does not accept liability for any damages arising from the use of this calculator.",
         "115876162",
         "Commercial",
         null,
         null,
         null,
         null,
         null,
         null,
         null,
         null,
         null,
         null,
         null,
         null,
         null,
         null,
         "Melrose North",
         "Johannesburg",
         "Gauteng",
         null,
         null
        ],
        [
         "13593",
         "POABond CostsBond CalculatorPurchase PriceRDeposit(Optional)RInterest Rate%Loan TermyearsMonthly Repayment:Total Once Off Costs :Min Gross Monthly Income:View BreakdownWhat do I qualify for based on my income?What are the bond and transfer costs?*Disclaimer: Please note that by default this calculator uses the prime interest rate for bond payment calculations. This is purely for convenience and not an indication of the interest rate that might be offered to you by a bank. This calculator is intended to provide estimates based on the indicated amounts, rates and fees. Whilst we make every effort to ensure the accuracy of these calculations, we cannot be held liable for inaccuracies. Property24 does not accept liability for any damages arising from the use of this calculator.",
         "115783867",
         "Commercial",
         null,
         null,
         null,
         null,
         null,
         null,
         null,
         null,
         null,
         null,
         null,
         null,
         null,
         "184",
         "Maboneng",
         "Johannesburg",
         "Gauteng",
         null,
         null
        ],
        [
         "13687",
         "POABond CostsBond CalculatorPurchase PriceRDeposit(Optional)RInterest Rate%Loan TermyearsMonthly Repayment:Total Once Off Costs :Min Gross Monthly Income:View BreakdownWhat do I qualify for based on my income?What are the bond and transfer costs?*Disclaimer: Please note that by default this calculator uses the prime interest rate for bond payment calculations. This is purely for convenience and not an indication of the interest rate that might be offered to you by a bank. This calculator is intended to provide estimates based on the indicated amounts, rates and fees. Whilst we make every effort to ensure the accuracy of these calculations, we cannot be held liable for inaccuracies. Property24 does not accept liability for any damages arising from the use of this calculator.",
         "115894093",
         "Commercial",
         null,
         null,
         null,
         null,
         null,
         null,
         null,
         null,
         null,
         null,
         null,
         null,
         null,
         null,
         "Maboneng",
         "Johannesburg",
         "Gauteng",
         null,
         null
        ],
        [
         "14984",
         "POABond CostsBond CalculatorPurchase PriceRDeposit(Optional)RInterest Rate%Loan TermyearsMonthly Repayment:Total Once Off Costs :Min Gross Monthly Income:View BreakdownWhat do I qualify for based on my income?What are the bond and transfer costs?*Disclaimer: Please note that by default this calculator uses the prime interest rate for bond payment calculations. This is purely for convenience and not an indication of the interest rate that might be offered to you by a bank. This calculator is intended to provide estimates based on the indicated amounts, rates and fees. Whilst we make every effort to ensure the accuracy of these calculations, we cannot be held liable for inaccuracies. Property24 does not accept liability for any damages arising from the use of this calculator.",
         "115901759",
         "Commercial",
         null,
         null,
         null,
         null,
         null,
         null,
         null,
         null,
         null,
         null,
         null,
         null,
         null,
         null,
         "Melrose North",
         "Johannesburg",
         "Gauteng",
         null,
         null
        ],
        [
         "16899",
         "POABond CostsBond CalculatorPurchase PriceRDeposit(Optional)RInterest Rate%Loan TermyearsMonthly Repayment:Total Once Off Costs :Min Gross Monthly Income:View BreakdownWhat do I qualify for based on my income?What are the bond and transfer costs?*Disclaimer: Please note that by default this calculator uses the prime interest rate for bond payment calculations. This is purely for convenience and not an indication of the interest rate that might be offered to you by a bank. This calculator is intended to provide estimates based on the indicated amounts, rates and fees. Whilst we make every effort to ensure the accuracy of these calculations, we cannot be held liable for inaccuracies. Property24 does not accept liability for any damages arising from the use of this calculator.",
         "115840228",
         "Commercial",
         null,
         "No",
         null,
         null,
         "8",
         "4",
         null,
         null,
         "6",
         null,
         null,
         null,
         null,
         null,
         "Cyrildene",
         "Johannesburg",
         "Gauteng",
         null,
         null
        ],
        [
         "17493",
         "POABond CostsBond CalculatorPurchase PriceRDeposit(Optional)RInterest Rate%Loan TermyearsMonthly Repayment:Total Once Off Costs :Min Gross Monthly Income:View BreakdownWhat do I qualify for based on my income?What are the bond and transfer costs?*Disclaimer: Please note that by default this calculator uses the prime interest rate for bond payment calculations. This is purely for convenience and not an indication of the interest rate that might be offered to you by a bank. This calculator is intended to provide estimates based on the indicated amounts, rates and fees. Whilst we make every effort to ensure the accuracy of these calculations, we cannot be held liable for inaccuracies. Property24 does not accept liability for any damages arising from the use of this calculator.",
         "115837363",
         "Industrial",
         null,
         null,
         null,
         null,
         null,
         null,
         null,
         null,
         null,
         null,
         null,
         null,
         "830",
         "830",
         "Springfield",
         "Johannesburg",
         "Gauteng",
         null,
         null
        ],
        [
         "19727",
         "POABond CostsBond CalculatorPurchase PriceRDeposit(Optional)RInterest Rate%Loan TermyearsMonthly Repayment:Total Once Off Costs :Min Gross Monthly Income:View BreakdownWhat do I qualify for based on my income?What are the bond and transfer costs?*Disclaimer: Please note that by default this calculator uses the prime interest rate for bond payment calculations. This is purely for convenience and not an indication of the interest rate that might be offered to you by a bank. This calculator is intended to provide estimates based on the indicated amounts, rates and fees. Whilst we make every effort to ensure the accuracy of these calculations, we cannot be held liable for inaccuracies. Property24 does not accept liability for any damages arising from the use of this calculator.",
         "111836610",
         "Industrial",
         null,
         null,
         null,
         null,
         null,
         null,
         null,
         null,
         null,
         null,
         null,
         null,
         "826",
         "219",
         "North Doornfontein",
         "Johannesburg",
         "Gauteng",
         null,
         null
        ],
        [
         "20161",
         "POABond CostsBond CalculatorPurchase PriceRDeposit(Optional)RInterest Rate%Loan TermyearsMonthly Repayment:Total Once Off Costs :Min Gross Monthly Income:View BreakdownWhat do I qualify for based on my income?What are the bond and transfer costs?*Disclaimer: Please note that by default this calculator uses the prime interest rate for bond payment calculations. This is purely for convenience and not an indication of the interest rate that might be offered to you by a bank. This calculator is intended to provide estimates based on the indicated amounts, rates and fees. Whilst we make every effort to ensure the accuracy of these calculations, we cannot be held liable for inaccuracies. Property24 does not accept liability for any damages arising from the use of this calculator.",
         "114239279",
         "Farm",
         null,
         null,
         null,
         "9",
         "7",
         "1",
         "1",
         "1",
         null,
         "1",
         "1",
         "4",
         null,
         "575",
         "Rispark",
         "Johannesburg",
         "Gauteng",
         null,
         null
        ],
        [
         "22529",
         "POABond CostsBond CalculatorPurchase PriceRDeposit(Optional)RInterest Rate%Loan TermyearsMonthly Repayment:Total Once Off Costs :Min Gross Monthly Income:View BreakdownWhat do I qualify for based on my income?What are the bond and transfer costs?*Disclaimer: Please note that by default this calculator uses the prime interest rate for bond payment calculations. This is purely for convenience and not an indication of the interest rate that might be offered to you by a bank. This calculator is intended to provide estimates based on the indicated amounts, rates and fees. Whilst we make every effort to ensure the accuracy of these calculations, we cannot be held liable for inaccuracies. Property24 does not accept liability for any damages arising from the use of this calculator.",
         "115600264",
         "Vacant Land",
         null,
         null,
         null,
         null,
         null,
         null,
         null,
         null,
         null,
         null,
         null,
         null,
         null,
         null,
         "Anchorville",
         "Johannesburg",
         "Gauteng",
         null,
         null
        ],
        [
         "23098",
         "POABond CostsBond CalculatorPurchase PriceRDeposit(Optional)RInterest Rate%Loan TermyearsMonthly Repayment:Total Once Off Costs :Min Gross Monthly Income:View BreakdownWhat do I qualify for based on my income?What are the bond and transfer costs?*Disclaimer: Please note that by default this calculator uses the prime interest rate for bond payment calculations. This is purely for convenience and not an indication of the interest rate that might be offered to you by a bank. This calculator is intended to provide estimates based on the indicated amounts, rates and fees. Whilst we make every effort to ensure the accuracy of these calculations, we cannot be held liable for inaccuracies. Property24 does not accept liability for any damages arising from the use of this calculator.",
         "114995603",
         "Commercial",
         null,
         null,
         null,
         null,
         "7",
         null,
         null,
         null,
         null,
         null,
         null,
         null,
         null,
         null,
         "Lenasia Ext 5",
         "Johannesburg",
         "Gauteng",
         null,
         null
        ],
        [
         "24498",
         "POABond CostsBond CalculatorPurchase PriceRDeposit(Optional)RInterest Rate%Loan TermyearsMonthly Repayment:Total Once Off Costs :Min Gross Monthly Income:View BreakdownWhat do I qualify for based on my income?What are the bond and transfer costs?*Disclaimer: Please note that by default this calculator uses the prime interest rate for bond payment calculations. This is purely for convenience and not an indication of the interest rate that might be offered to you by a bank. This calculator is intended to provide estimates based on the indicated amounts, rates and fees. Whilst we make every effort to ensure the accuracy of these calculations, we cannot be held liable for inaccuracies. Property24 does not accept liability for any damages arising from the use of this calculator.",
         "114438093",
         "Vacant Land",
         null,
         null,
         null,
         null,
         null,
         null,
         null,
         null,
         null,
         null,
         null,
         null,
         null,
         null,
         "Marshalltown",
         "Johannesburg",
         "Gauteng",
         null,
         null
        ],
        [
         "24512",
         "POABond CostsBond CalculatorPurchase PriceRDeposit(Optional)RInterest Rate%Loan TermyearsMonthly Repayment:Total Once Off Costs :Min Gross Monthly Income:View BreakdownWhat do I qualify for based on my income?What are the bond and transfer costs?*Disclaimer: Please note that by default this calculator uses the prime interest rate for bond payment calculations. This is purely for convenience and not an indication of the interest rate that might be offered to you by a bank. This calculator is intended to provide estimates based on the indicated amounts, rates and fees. Whilst we make every effort to ensure the accuracy of these calculations, we cannot be held liable for inaccuracies. Property24 does not accept liability for any damages arising from the use of this calculator.",
         "115613519",
         "Commercial",
         null,
         null,
         null,
         null,
         null,
         null,
         null,
         null,
         null,
         null,
         null,
         null,
         null,
         null,
         "Denver",
         "Johannesburg",
         "Gauteng",
         null,
         null
        ],
        [
         "25004",
         "POABond CostsBond CalculatorPurchase PriceRDeposit(Optional)RInterest Rate%Loan TermyearsMonthly Repayment:Total Once Off Costs :Min Gross Monthly Income:View BreakdownWhat do I qualify for based on my income?What are the bond and transfer costs?*Disclaimer: Please note that by default this calculator uses the prime interest rate for bond payment calculations. This is purely for convenience and not an indication of the interest rate that might be offered to you by a bank. This calculator is intended to provide estimates based on the indicated amounts, rates and fees. Whilst we make every effort to ensure the accuracy of these calculations, we cannot be held liable for inaccuracies. Property24 does not accept liability for any damages arising from the use of this calculator.",
         "115669377",
         "Vacant Land",
         null,
         null,
         null,
         null,
         null,
         null,
         null,
         null,
         null,
         null,
         null,
         null,
         null,
         null,
         "Denver",
         "Johannesburg",
         "Gauteng",
         null,
         null
        ],
        [
         "25030",
         "POABond CostsBond CalculatorPurchase PriceRDeposit(Optional)RInterest Rate%Loan TermyearsMonthly Repayment:Total Once Off Costs :Min Gross Monthly Income:View BreakdownWhat do I qualify for based on my income?What are the bond and transfer costs?*Disclaimer: Please note that by default this calculator uses the prime interest rate for bond payment calculations. This is purely for convenience and not an indication of the interest rate that might be offered to you by a bank. This calculator is intended to provide estimates based on the indicated amounts, rates and fees. Whilst we make every effort to ensure the accuracy of these calculations, we cannot be held liable for inaccuracies. Property24 does not accept liability for any damages arising from the use of this calculator.",
         "115653560",
         "Industrial",
         null,
         null,
         null,
         null,
         null,
         null,
         null,
         null,
         "15",
         null,
         null,
         null,
         null,
         null,
         "Marshalltown",
         "Johannesburg",
         "Gauteng",
         null,
         null
        ],
        [
         "25068",
         "POABond CostsBond CalculatorPurchase PriceRDeposit(Optional)RInterest Rate%Loan TermyearsMonthly Repayment:Total Once Off Costs :Min Gross Monthly Income:View BreakdownWhat do I qualify for based on my income?What are the bond and transfer costs?*Disclaimer: Please note that by default this calculator uses the prime interest rate for bond payment calculations. This is purely for convenience and not an indication of the interest rate that might be offered to you by a bank. This calculator is intended to provide estimates based on the indicated amounts, rates and fees. Whilst we make every effort to ensure the accuracy of these calculations, we cannot be held liable for inaccuracies. Property24 does not accept liability for any damages arising from the use of this calculator.",
         "115746531",
         "Commercial",
         null,
         null,
         null,
         null,
         null,
         null,
         null,
         null,
         null,
         null,
         null,
         null,
         "515",
         null,
         "Maboneng",
         "Johannesburg",
         "Gauteng",
         null,
         null
        ],
        [
         "25624",
         "POABond CostsBond CalculatorPurchase PriceRDeposit(Optional)RInterest Rate%Loan TermyearsMonthly Repayment:Total Once Off Costs :Min Gross Monthly Income:View BreakdownWhat do I qualify for based on my income?What are the bond and transfer costs?*Disclaimer: Please note that by default this calculator uses the prime interest rate for bond payment calculations. This is purely for convenience and not an indication of the interest rate that might be offered to you by a bank. This calculator is intended to provide estimates based on the indicated amounts, rates and fees. Whilst we make every effort to ensure the accuracy of these calculations, we cannot be held liable for inaccuracies. Property24 does not accept liability for any damages arising from the use of this calculator.",
         "112092349",
         "House",
         null,
         null,
         null,
         "3",
         "1",
         "1",
         "1",
         null,
         "3",
         "1",
         null,
         null,
         null,
         null,
         "Vergenoeg Ext 8",
         "Kimberley",
         "Northern Cape",
         null,
         null
        ],
        [
         "26323",
         "POABond CostsBond CalculatorPurchase PriceRDeposit(Optional)RInterest Rate%Loan TermyearsMonthly Repayment:Total Once Off Costs :Min Gross Monthly Income:View BreakdownWhat do I qualify for based on my income?What are the bond and transfer costs?*Disclaimer: Please note that by default this calculator uses the prime interest rate for bond payment calculations. This is purely for convenience and not an indication of the interest rate that might be offered to you by a bank. This calculator is intended to provide estimates based on the indicated amounts, rates and fees. Whilst we make every effort to ensure the accuracy of these calculations, we cannot be held liable for inaccuracies. Property24 does not accept liability for any damages arising from the use of this calculator.",
         "115644858",
         "Commercial",
         null,
         null,
         null,
         null,
         null,
         null,
         null,
         null,
         null,
         null,
         null,
         null,
         null,
         null,
         "Fabricia",
         "Kimberley",
         "Northern Cape",
         null,
         null
        ],
        [
         "27702",
         "POABond CostsBond CalculatorPurchase PriceRDeposit(Optional)RInterest Rate%Loan TermyearsMonthly Repayment:Total Once Off Costs :Min Gross Monthly Income:View BreakdownWhat do I qualify for based on my income?What are the bond and transfer costs?*Disclaimer: Please note that by default this calculator uses the prime interest rate for bond payment calculations. This is purely for convenience and not an indication of the interest rate that might be offered to you by a bank. This calculator is intended to provide estimates based on the indicated amounts, rates and fees. Whilst we make every effort to ensure the accuracy of these calculations, we cannot be held liable for inaccuracies. Property24 does not accept liability for any damages arising from the use of this calculator.",
         "115134071",
         "Commercial",
         null,
         null,
         null,
         null,
         null,
         null,
         null,
         null,
         null,
         null,
         null,
         null,
         null,
         null,
         "Mafikeng Central",
         "Mafikeng",
         "North West",
         null,
         null
        ],
        [
         "27706",
         "POABond CostsBond CalculatorPurchase PriceRDeposit(Optional)RInterest Rate%Loan TermyearsMonthly Repayment:Total Once Off Costs :Min Gross Monthly Income:View BreakdownWhat do I qualify for based on my income?What are the bond and transfer costs?*Disclaimer: Please note that by default this calculator uses the prime interest rate for bond payment calculations. This is purely for convenience and not an indication of the interest rate that might be offered to you by a bank. This calculator is intended to provide estimates based on the indicated amounts, rates and fees. Whilst we make every effort to ensure the accuracy of these calculations, we cannot be held liable for inaccuracies. Property24 does not accept liability for any damages arising from the use of this calculator.",
         "113651891",
         "Farm",
         null,
         null,
         null,
         null,
         "2",
         null,
         null,
         null,
         null,
         null,
         null,
         null,
         null,
         null,
         "Mafikeng Central",
         "Mafikeng",
         "North West",
         null,
         null
        ],
        [
         "27718",
         "POABond CostsBond CalculatorPurchase PriceRDeposit(Optional)RInterest Rate%Loan TermyearsMonthly Repayment:Total Once Off Costs :Min Gross Monthly Income:View BreakdownWhat do I qualify for based on my income?What are the bond and transfer costs?*Disclaimer: Please note that by default this calculator uses the prime interest rate for bond payment calculations. This is purely for convenience and not an indication of the interest rate that might be offered to you by a bank. This calculator is intended to provide estimates based on the indicated amounts, rates and fees. Whilst we make every effort to ensure the accuracy of these calculations, we cannot be held liable for inaccuracies. Property24 does not accept liability for any damages arising from the use of this calculator.",
         "115188540",
         "House",
         null,
         null,
         null,
         "3",
         "2",
         null,
         "1",
         "1",
         null,
         null,
         null,
         null,
         null,
         null,
         "Setumo Park",
         "Mafikeng",
         "North West",
         null,
         null
        ],
        [
         "28037",
         "POABond CostsBond CalculatorPurchase PriceRDeposit(Optional)RInterest Rate%Loan TermyearsMonthly Repayment:Total Once Off Costs :Min Gross Monthly Income:View BreakdownWhat do I qualify for based on my income?What are the bond and transfer costs?*Disclaimer: Please note that by default this calculator uses the prime interest rate for bond payment calculations. This is purely for convenience and not an indication of the interest rate that might be offered to you by a bank. This calculator is intended to provide estimates based on the indicated amounts, rates and fees. Whilst we make every effort to ensure the accuracy of these calculations, we cannot be held liable for inaccuracies. Property24 does not accept liability for any damages arising from the use of this calculator.",
         "115044121",
         "Farm",
         null,
         null,
         null,
         null,
         null,
         null,
         null,
         null,
         null,
         null,
         null,
         null,
         null,
         null,
         "Beryl",
         "Nelspruit",
         "Mpumalanga",
         null,
         null
        ],
        [
         "28290",
         "POABond CostsBond CalculatorPurchase PriceRDeposit(Optional)RInterest Rate%Loan TermyearsMonthly Repayment:Total Once Off Costs :Min Gross Monthly Income:View BreakdownWhat do I qualify for based on my income?What are the bond and transfer costs?*Disclaimer: Please note that by default this calculator uses the prime interest rate for bond payment calculations. This is purely for convenience and not an indication of the interest rate that might be offered to you by a bank. This calculator is intended to provide estimates based on the indicated amounts, rates and fees. Whilst we make every effort to ensure the accuracy of these calculations, we cannot be held liable for inaccuracies. Property24 does not accept liability for any damages arising from the use of this calculator.",
         "113032869",
         "Commercial",
         null,
         "No",
         null,
         null,
         "6",
         "4",
         null,
         null,
         "20",
         null,
         null,
         null,
         null,
         null,
         "Riverside Industrial Park",
         "Nelspruit",
         "Mpumalanga",
         null,
         null
        ],
        [
         "32139",
         "POABond CostsBond CalculatorPurchase PriceRDeposit(Optional)RInterest Rate%Loan TermyearsMonthly Repayment:Total Once Off Costs :Min Gross Monthly Income:View BreakdownWhat do I qualify for based on my income?What are the bond and transfer costs?*Disclaimer: Please note that by default this calculator uses the prime interest rate for bond payment calculations. This is purely for convenience and not an indication of the interest rate that might be offered to you by a bank. This calculator is intended to provide estimates based on the indicated amounts, rates and fees. Whilst we make every effort to ensure the accuracy of these calculations, we cannot be held liable for inaccuracies. Property24 does not accept liability for any damages arising from the use of this calculator.",
         "115849431",
         "Industrial",
         null,
         null,
         null,
         null,
         null,
         null,
         null,
         null,
         null,
         null,
         null,
         null,
         null,
         null,
         "Plessislaer",
         "Pietermaritzburg",
         "KwaZulu-Natal",
         null,
         null
        ],
        [
         "34758",
         "POABond CostsBond CalculatorPurchase PriceRDeposit(Optional)RInterest Rate%Loan TermyearsMonthly Repayment:Total Once Off Costs :Min Gross Monthly Income:View BreakdownWhat do I qualify for based on my income?What are the bond and transfer costs?*Disclaimer: Please note that by default this calculator uses the prime interest rate for bond payment calculations. This is purely for convenience and not an indication of the interest rate that might be offered to you by a bank. This calculator is intended to provide estimates based on the indicated amounts, rates and fees. Whilst we make every effort to ensure the accuracy of these calculations, we cannot be held liable for inaccuracies. Property24 does not accept liability for any damages arising from the use of this calculator.",
         "112041043",
         "Farm",
         null,
         null,
         null,
         "3",
         "2",
         "1",
         "1",
         "1",
         "2",
         "1",
         "1",
         "2",
         null,
         "300",
         "Duvenageskraal AH",
         "Polokwane",
         "Limpopo",
         null,
         null
        ],
        [
         "35050",
         "POABond CostsBond CalculatorPurchase PriceRDeposit(Optional)RInterest Rate%Loan TermyearsMonthly Repayment:Total Once Off Costs :Min Gross Monthly Income:View BreakdownWhat do I qualify for based on my income?What are the bond and transfer costs?*Disclaimer: Please note that by default this calculator uses the prime interest rate for bond payment calculations. This is purely for convenience and not an indication of the interest rate that might be offered to you by a bank. This calculator is intended to provide estimates based on the indicated amounts, rates and fees. Whilst we make every effort to ensure the accuracy of these calculations, we cannot be held liable for inaccuracies. Property24 does not accept liability for any damages arising from the use of this calculator.",
         "112071576",
         "House",
         null,
         null,
         null,
         "4",
         "1",
         "1",
         "1",
         "1",
         null,
         null,
         null,
         null,
         "900",
         "140",
         "Perskebult",
         "Polokwane",
         "Limpopo",
         null,
         null
        ]
       ],
       "shape": {
        "columns": 22,
        "rows": 41
       }
      },
      "text/html": [
       "<div>\n",
       "<style scoped>\n",
       "    .dataframe tbody tr th:only-of-type {\n",
       "        vertical-align: middle;\n",
       "    }\n",
       "\n",
       "    .dataframe tbody tr th {\n",
       "        vertical-align: top;\n",
       "    }\n",
       "\n",
       "    .dataframe thead th {\n",
       "        text-align: right;\n",
       "    }\n",
       "</style>\n",
       "<table border=\"1\" class=\"dataframe\">\n",
       "  <thead>\n",
       "    <tr style=\"text-align: right;\">\n",
       "      <th></th>\n",
       "      <th>price</th>\n",
       "      <th>listing_number</th>\n",
       "      <th>property_type</th>\n",
       "      <th>furnished</th>\n",
       "      <th>pets_allowed</th>\n",
       "      <th>backup_water</th>\n",
       "      <th>bedrooms</th>\n",
       "      <th>bathrooms</th>\n",
       "      <th>kitchen</th>\n",
       "      <th>lounge</th>\n",
       "      <th>...</th>\n",
       "      <th>garden</th>\n",
       "      <th>pool</th>\n",
       "      <th>garage</th>\n",
       "      <th>erf_size (m²)</th>\n",
       "      <th>floor_area (m²)</th>\n",
       "      <th>suburb</th>\n",
       "      <th>city</th>\n",
       "      <th>province</th>\n",
       "      <th>price_cleaned</th>\n",
       "      <th>price (ZAR)</th>\n",
       "    </tr>\n",
       "  </thead>\n",
       "  <tbody>\n",
       "    <tr>\n",
       "      <th>2704</th>\n",
       "      <td>POABond CostsBond CalculatorPurchase PriceRDep...</td>\n",
       "      <td>115976173</td>\n",
       "      <td>House</td>\n",
       "      <td>None</td>\n",
       "      <td>None</td>\n",
       "      <td>None</td>\n",
       "      <td>5</td>\n",
       "      <td>3</td>\n",
       "      <td>1</td>\n",
       "      <td>1</td>\n",
       "      <td>...</td>\n",
       "      <td>1</td>\n",
       "      <td>None</td>\n",
       "      <td>2</td>\n",
       "      <td>None</td>\n",
       "      <td>250</td>\n",
       "      <td>Hartebeesfontein SH</td>\n",
       "      <td>Bloemfontein</td>\n",
       "      <td>Free State</td>\n",
       "      <td>NaN</td>\n",
       "      <td>NaN</td>\n",
       "    </tr>\n",
       "    <tr>\n",
       "      <th>3024</th>\n",
       "      <td>POABond CostsBond CalculatorPurchase PriceRDep...</td>\n",
       "      <td>111277371</td>\n",
       "      <td>Commercial</td>\n",
       "      <td>Yes</td>\n",
       "      <td>No</td>\n",
       "      <td>None</td>\n",
       "      <td>&lt;NA&gt;</td>\n",
       "      <td>12</td>\n",
       "      <td>2</td>\n",
       "      <td>None</td>\n",
       "      <td>...</td>\n",
       "      <td>None</td>\n",
       "      <td>None</td>\n",
       "      <td>None</td>\n",
       "      <td>None</td>\n",
       "      <td>None</td>\n",
       "      <td>Heuwelsig</td>\n",
       "      <td>Bloemfontein</td>\n",
       "      <td>Free State</td>\n",
       "      <td>NaN</td>\n",
       "      <td>NaN</td>\n",
       "    </tr>\n",
       "    <tr>\n",
       "      <th>3558</th>\n",
       "      <td>POABond CostsBond CalculatorPurchase PriceRDep...</td>\n",
       "      <td>114108103</td>\n",
       "      <td>Commercial</td>\n",
       "      <td>None</td>\n",
       "      <td>None</td>\n",
       "      <td>None</td>\n",
       "      <td>13</td>\n",
       "      <td>14</td>\n",
       "      <td>1</td>\n",
       "      <td>None</td>\n",
       "      <td>...</td>\n",
       "      <td>None</td>\n",
       "      <td>None</td>\n",
       "      <td>None</td>\n",
       "      <td>None</td>\n",
       "      <td>882</td>\n",
       "      <td>Bayswater</td>\n",
       "      <td>Bloemfontein</td>\n",
       "      <td>Free State</td>\n",
       "      <td>NaN</td>\n",
       "      <td>NaN</td>\n",
       "    </tr>\n",
       "    <tr>\n",
       "      <th>4771</th>\n",
       "      <td>POABond CostsBond CalculatorPurchase PriceRDep...</td>\n",
       "      <td>114515238</td>\n",
       "      <td>Industrial</td>\n",
       "      <td>None</td>\n",
       "      <td>None</td>\n",
       "      <td>None</td>\n",
       "      <td>&lt;NA&gt;</td>\n",
       "      <td>None</td>\n",
       "      <td>None</td>\n",
       "      <td>None</td>\n",
       "      <td>...</td>\n",
       "      <td>None</td>\n",
       "      <td>None</td>\n",
       "      <td>None</td>\n",
       "      <td>None</td>\n",
       "      <td>None</td>\n",
       "      <td>Noordhoek</td>\n",
       "      <td>Bloemfontein</td>\n",
       "      <td>Free State</td>\n",
       "      <td>NaN</td>\n",
       "      <td>NaN</td>\n",
       "    </tr>\n",
       "    <tr>\n",
       "      <th>5521</th>\n",
       "      <td>POABond CostsBond CalculatorPurchase PriceRDep...</td>\n",
       "      <td>113316750</td>\n",
       "      <td>Townhouse</td>\n",
       "      <td>None</td>\n",
       "      <td>None</td>\n",
       "      <td>None</td>\n",
       "      <td>&lt;NA&gt;</td>\n",
       "      <td>None</td>\n",
       "      <td>None</td>\n",
       "      <td>None</td>\n",
       "      <td>...</td>\n",
       "      <td>None</td>\n",
       "      <td>None</td>\n",
       "      <td>None</td>\n",
       "      <td>None</td>\n",
       "      <td>None</td>\n",
       "      <td>Bloemfontein Rural</td>\n",
       "      <td>Bloemfontein</td>\n",
       "      <td>Free State</td>\n",
       "      <td>NaN</td>\n",
       "      <td>NaN</td>\n",
       "    </tr>\n",
       "    <tr>\n",
       "      <th>5621</th>\n",
       "      <td>POABond CostsBond CalculatorPurchase PriceRDep...</td>\n",
       "      <td>114505067</td>\n",
       "      <td>Vacant Land</td>\n",
       "      <td>None</td>\n",
       "      <td>None</td>\n",
       "      <td>None</td>\n",
       "      <td>&lt;NA&gt;</td>\n",
       "      <td>None</td>\n",
       "      <td>None</td>\n",
       "      <td>None</td>\n",
       "      <td>...</td>\n",
       "      <td>None</td>\n",
       "      <td>None</td>\n",
       "      <td>None</td>\n",
       "      <td>None</td>\n",
       "      <td>None</td>\n",
       "      <td>Fichardt Park</td>\n",
       "      <td>Bloemfontein</td>\n",
       "      <td>Free State</td>\n",
       "      <td>NaN</td>\n",
       "      <td>NaN</td>\n",
       "    </tr>\n",
       "    <tr>\n",
       "      <th>7230</th>\n",
       "      <td>POABond CostsBond CalculatorPurchase PriceRDep...</td>\n",
       "      <td>115523243</td>\n",
       "      <td>Commercial</td>\n",
       "      <td>None</td>\n",
       "      <td>None</td>\n",
       "      <td>None</td>\n",
       "      <td>&lt;NA&gt;</td>\n",
       "      <td>None</td>\n",
       "      <td>None</td>\n",
       "      <td>None</td>\n",
       "      <td>...</td>\n",
       "      <td>None</td>\n",
       "      <td>None</td>\n",
       "      <td>None</td>\n",
       "      <td>None</td>\n",
       "      <td>None</td>\n",
       "      <td>Gatesville</td>\n",
       "      <td>Cape Town</td>\n",
       "      <td>Western Cape</td>\n",
       "      <td>NaN</td>\n",
       "      <td>NaN</td>\n",
       "    </tr>\n",
       "    <tr>\n",
       "      <th>7928</th>\n",
       "      <td>POABond CostsBond CalculatorPurchase PriceRDep...</td>\n",
       "      <td>115865675</td>\n",
       "      <td>Commercial</td>\n",
       "      <td>None</td>\n",
       "      <td>None</td>\n",
       "      <td>None</td>\n",
       "      <td>&lt;NA&gt;</td>\n",
       "      <td>None</td>\n",
       "      <td>None</td>\n",
       "      <td>None</td>\n",
       "      <td>...</td>\n",
       "      <td>None</td>\n",
       "      <td>None</td>\n",
       "      <td>None</td>\n",
       "      <td>622</td>\n",
       "      <td>None</td>\n",
       "      <td>Kirstenhof</td>\n",
       "      <td>Cape Town</td>\n",
       "      <td>Western Cape</td>\n",
       "      <td>NaN</td>\n",
       "      <td>NaN</td>\n",
       "    </tr>\n",
       "    <tr>\n",
       "      <th>7955</th>\n",
       "      <td>POABond CostsBond CalculatorPurchase PriceRDep...</td>\n",
       "      <td>115960492</td>\n",
       "      <td>House</td>\n",
       "      <td>None</td>\n",
       "      <td>Yes</td>\n",
       "      <td>None</td>\n",
       "      <td>4</td>\n",
       "      <td>1</td>\n",
       "      <td>1</td>\n",
       "      <td>1</td>\n",
       "      <td>...</td>\n",
       "      <td>None</td>\n",
       "      <td>None</td>\n",
       "      <td>1</td>\n",
       "      <td>487</td>\n",
       "      <td>None</td>\n",
       "      <td>Zwartdam</td>\n",
       "      <td>Cape Town</td>\n",
       "      <td>Western Cape</td>\n",
       "      <td>NaN</td>\n",
       "      <td>NaN</td>\n",
       "    </tr>\n",
       "    <tr>\n",
       "      <th>10449</th>\n",
       "      <td>POABond CostsBond CalculatorPurchase PriceRDep...</td>\n",
       "      <td>114215115</td>\n",
       "      <td>Vacant Land</td>\n",
       "      <td>None</td>\n",
       "      <td>None</td>\n",
       "      <td>None</td>\n",
       "      <td>1</td>\n",
       "      <td>1</td>\n",
       "      <td>1</td>\n",
       "      <td>1</td>\n",
       "      <td>...</td>\n",
       "      <td>None</td>\n",
       "      <td>1</td>\n",
       "      <td>1</td>\n",
       "      <td>None</td>\n",
       "      <td>None</td>\n",
       "      <td>Belle Constantia</td>\n",
       "      <td>Cape Town</td>\n",
       "      <td>Western Cape</td>\n",
       "      <td>NaN</td>\n",
       "      <td>NaN</td>\n",
       "    </tr>\n",
       "    <tr>\n",
       "      <th>11185</th>\n",
       "      <td>POABond CostsBond CalculatorPurchase PriceRDep...</td>\n",
       "      <td>115451304</td>\n",
       "      <td>Commercial</td>\n",
       "      <td>None</td>\n",
       "      <td>None</td>\n",
       "      <td>None</td>\n",
       "      <td>&lt;NA&gt;</td>\n",
       "      <td>None</td>\n",
       "      <td>None</td>\n",
       "      <td>None</td>\n",
       "      <td>...</td>\n",
       "      <td>None</td>\n",
       "      <td>None</td>\n",
       "      <td>None</td>\n",
       "      <td>None</td>\n",
       "      <td>None</td>\n",
       "      <td>Schaapkraal</td>\n",
       "      <td>Cape Town</td>\n",
       "      <td>Western Cape</td>\n",
       "      <td>NaN</td>\n",
       "      <td>NaN</td>\n",
       "    </tr>\n",
       "    <tr>\n",
       "      <th>11343</th>\n",
       "      <td>POABond CostsBond CalculatorPurchase PriceRDep...</td>\n",
       "      <td>115913288</td>\n",
       "      <td>Commercial</td>\n",
       "      <td>None</td>\n",
       "      <td>None</td>\n",
       "      <td>None</td>\n",
       "      <td>&lt;NA&gt;</td>\n",
       "      <td>None</td>\n",
       "      <td>None</td>\n",
       "      <td>None</td>\n",
       "      <td>...</td>\n",
       "      <td>None</td>\n",
       "      <td>None</td>\n",
       "      <td>None</td>\n",
       "      <td>694</td>\n",
       "      <td>None</td>\n",
       "      <td>Southfield</td>\n",
       "      <td>Cape Town</td>\n",
       "      <td>Western Cape</td>\n",
       "      <td>NaN</td>\n",
       "      <td>NaN</td>\n",
       "    </tr>\n",
       "    <tr>\n",
       "      <th>11776</th>\n",
       "      <td>POABond CostsBond CalculatorPurchase PriceRDep...</td>\n",
       "      <td>115964221</td>\n",
       "      <td>Commercial</td>\n",
       "      <td>None</td>\n",
       "      <td>None</td>\n",
       "      <td>None</td>\n",
       "      <td>&lt;NA&gt;</td>\n",
       "      <td>None</td>\n",
       "      <td>None</td>\n",
       "      <td>None</td>\n",
       "      <td>...</td>\n",
       "      <td>None</td>\n",
       "      <td>None</td>\n",
       "      <td>None</td>\n",
       "      <td>490</td>\n",
       "      <td>797</td>\n",
       "      <td>Surrey Estate</td>\n",
       "      <td>Cape Town</td>\n",
       "      <td>Western Cape</td>\n",
       "      <td>NaN</td>\n",
       "      <td>NaN</td>\n",
       "    </tr>\n",
       "    <tr>\n",
       "      <th>11818</th>\n",
       "      <td>POABond CostsBond CalculatorPurchase PriceRDep...</td>\n",
       "      <td>115935207</td>\n",
       "      <td>Commercial</td>\n",
       "      <td>None</td>\n",
       "      <td>None</td>\n",
       "      <td>None</td>\n",
       "      <td>&lt;NA&gt;</td>\n",
       "      <td>None</td>\n",
       "      <td>None</td>\n",
       "      <td>None</td>\n",
       "      <td>...</td>\n",
       "      <td>None</td>\n",
       "      <td>None</td>\n",
       "      <td>None</td>\n",
       "      <td>None</td>\n",
       "      <td>159</td>\n",
       "      <td>Philippi</td>\n",
       "      <td>Cape Town</td>\n",
       "      <td>Western Cape</td>\n",
       "      <td>NaN</td>\n",
       "      <td>NaN</td>\n",
       "    </tr>\n",
       "    <tr>\n",
       "      <th>12070</th>\n",
       "      <td>POABond CostsBond CalculatorPurchase PriceRDep...</td>\n",
       "      <td>115886800</td>\n",
       "      <td>House</td>\n",
       "      <td>None</td>\n",
       "      <td>None</td>\n",
       "      <td>None</td>\n",
       "      <td>4</td>\n",
       "      <td>1</td>\n",
       "      <td>None</td>\n",
       "      <td>1</td>\n",
       "      <td>...</td>\n",
       "      <td>None</td>\n",
       "      <td>None</td>\n",
       "      <td>None</td>\n",
       "      <td>257</td>\n",
       "      <td>195</td>\n",
       "      <td>Factreton</td>\n",
       "      <td>Cape Town</td>\n",
       "      <td>Western Cape</td>\n",
       "      <td>NaN</td>\n",
       "      <td>NaN</td>\n",
       "    </tr>\n",
       "    <tr>\n",
       "      <th>12927</th>\n",
       "      <td>POABond CostsBond CalculatorPurchase PriceRDep...</td>\n",
       "      <td>115783867</td>\n",
       "      <td>Commercial</td>\n",
       "      <td>None</td>\n",
       "      <td>None</td>\n",
       "      <td>None</td>\n",
       "      <td>&lt;NA&gt;</td>\n",
       "      <td>None</td>\n",
       "      <td>None</td>\n",
       "      <td>None</td>\n",
       "      <td>...</td>\n",
       "      <td>None</td>\n",
       "      <td>None</td>\n",
       "      <td>None</td>\n",
       "      <td>None</td>\n",
       "      <td>184</td>\n",
       "      <td>Maboneng</td>\n",
       "      <td>Johannesburg</td>\n",
       "      <td>Gauteng</td>\n",
       "      <td>NaN</td>\n",
       "      <td>NaN</td>\n",
       "    </tr>\n",
       "    <tr>\n",
       "      <th>12943</th>\n",
       "      <td>POABond CostsBond CalculatorPurchase PriceRDep...</td>\n",
       "      <td>115876162</td>\n",
       "      <td>Commercial</td>\n",
       "      <td>None</td>\n",
       "      <td>None</td>\n",
       "      <td>None</td>\n",
       "      <td>&lt;NA&gt;</td>\n",
       "      <td>None</td>\n",
       "      <td>None</td>\n",
       "      <td>None</td>\n",
       "      <td>...</td>\n",
       "      <td>None</td>\n",
       "      <td>None</td>\n",
       "      <td>None</td>\n",
       "      <td>None</td>\n",
       "      <td>None</td>\n",
       "      <td>Melrose North</td>\n",
       "      <td>Johannesburg</td>\n",
       "      <td>Gauteng</td>\n",
       "      <td>NaN</td>\n",
       "      <td>NaN</td>\n",
       "    </tr>\n",
       "    <tr>\n",
       "      <th>13593</th>\n",
       "      <td>POABond CostsBond CalculatorPurchase PriceRDep...</td>\n",
       "      <td>115783867</td>\n",
       "      <td>Commercial</td>\n",
       "      <td>None</td>\n",
       "      <td>None</td>\n",
       "      <td>None</td>\n",
       "      <td>&lt;NA&gt;</td>\n",
       "      <td>None</td>\n",
       "      <td>None</td>\n",
       "      <td>None</td>\n",
       "      <td>...</td>\n",
       "      <td>None</td>\n",
       "      <td>None</td>\n",
       "      <td>None</td>\n",
       "      <td>None</td>\n",
       "      <td>184</td>\n",
       "      <td>Maboneng</td>\n",
       "      <td>Johannesburg</td>\n",
       "      <td>Gauteng</td>\n",
       "      <td>NaN</td>\n",
       "      <td>NaN</td>\n",
       "    </tr>\n",
       "    <tr>\n",
       "      <th>13687</th>\n",
       "      <td>POABond CostsBond CalculatorPurchase PriceRDep...</td>\n",
       "      <td>115894093</td>\n",
       "      <td>Commercial</td>\n",
       "      <td>None</td>\n",
       "      <td>None</td>\n",
       "      <td>None</td>\n",
       "      <td>&lt;NA&gt;</td>\n",
       "      <td>None</td>\n",
       "      <td>None</td>\n",
       "      <td>None</td>\n",
       "      <td>...</td>\n",
       "      <td>None</td>\n",
       "      <td>None</td>\n",
       "      <td>None</td>\n",
       "      <td>None</td>\n",
       "      <td>None</td>\n",
       "      <td>Maboneng</td>\n",
       "      <td>Johannesburg</td>\n",
       "      <td>Gauteng</td>\n",
       "      <td>NaN</td>\n",
       "      <td>NaN</td>\n",
       "    </tr>\n",
       "    <tr>\n",
       "      <th>14984</th>\n",
       "      <td>POABond CostsBond CalculatorPurchase PriceRDep...</td>\n",
       "      <td>115901759</td>\n",
       "      <td>Commercial</td>\n",
       "      <td>None</td>\n",
       "      <td>None</td>\n",
       "      <td>None</td>\n",
       "      <td>&lt;NA&gt;</td>\n",
       "      <td>None</td>\n",
       "      <td>None</td>\n",
       "      <td>None</td>\n",
       "      <td>...</td>\n",
       "      <td>None</td>\n",
       "      <td>None</td>\n",
       "      <td>None</td>\n",
       "      <td>None</td>\n",
       "      <td>None</td>\n",
       "      <td>Melrose North</td>\n",
       "      <td>Johannesburg</td>\n",
       "      <td>Gauteng</td>\n",
       "      <td>NaN</td>\n",
       "      <td>NaN</td>\n",
       "    </tr>\n",
       "    <tr>\n",
       "      <th>16899</th>\n",
       "      <td>POABond CostsBond CalculatorPurchase PriceRDep...</td>\n",
       "      <td>115840228</td>\n",
       "      <td>Commercial</td>\n",
       "      <td>None</td>\n",
       "      <td>No</td>\n",
       "      <td>None</td>\n",
       "      <td>&lt;NA&gt;</td>\n",
       "      <td>8</td>\n",
       "      <td>4</td>\n",
       "      <td>None</td>\n",
       "      <td>...</td>\n",
       "      <td>None</td>\n",
       "      <td>None</td>\n",
       "      <td>None</td>\n",
       "      <td>None</td>\n",
       "      <td>None</td>\n",
       "      <td>Cyrildene</td>\n",
       "      <td>Johannesburg</td>\n",
       "      <td>Gauteng</td>\n",
       "      <td>NaN</td>\n",
       "      <td>NaN</td>\n",
       "    </tr>\n",
       "    <tr>\n",
       "      <th>17493</th>\n",
       "      <td>POABond CostsBond CalculatorPurchase PriceRDep...</td>\n",
       "      <td>115837363</td>\n",
       "      <td>Industrial</td>\n",
       "      <td>None</td>\n",
       "      <td>None</td>\n",
       "      <td>None</td>\n",
       "      <td>&lt;NA&gt;</td>\n",
       "      <td>None</td>\n",
       "      <td>None</td>\n",
       "      <td>None</td>\n",
       "      <td>...</td>\n",
       "      <td>None</td>\n",
       "      <td>None</td>\n",
       "      <td>None</td>\n",
       "      <td>830</td>\n",
       "      <td>830</td>\n",
       "      <td>Springfield</td>\n",
       "      <td>Johannesburg</td>\n",
       "      <td>Gauteng</td>\n",
       "      <td>NaN</td>\n",
       "      <td>NaN</td>\n",
       "    </tr>\n",
       "    <tr>\n",
       "      <th>19727</th>\n",
       "      <td>POABond CostsBond CalculatorPurchase PriceRDep...</td>\n",
       "      <td>111836610</td>\n",
       "      <td>Industrial</td>\n",
       "      <td>None</td>\n",
       "      <td>None</td>\n",
       "      <td>None</td>\n",
       "      <td>&lt;NA&gt;</td>\n",
       "      <td>None</td>\n",
       "      <td>None</td>\n",
       "      <td>None</td>\n",
       "      <td>...</td>\n",
       "      <td>None</td>\n",
       "      <td>None</td>\n",
       "      <td>None</td>\n",
       "      <td>826</td>\n",
       "      <td>219</td>\n",
       "      <td>North Doornfontein</td>\n",
       "      <td>Johannesburg</td>\n",
       "      <td>Gauteng</td>\n",
       "      <td>NaN</td>\n",
       "      <td>NaN</td>\n",
       "    </tr>\n",
       "    <tr>\n",
       "      <th>20161</th>\n",
       "      <td>POABond CostsBond CalculatorPurchase PriceRDep...</td>\n",
       "      <td>114239279</td>\n",
       "      <td>Farm</td>\n",
       "      <td>None</td>\n",
       "      <td>None</td>\n",
       "      <td>None</td>\n",
       "      <td>9</td>\n",
       "      <td>7</td>\n",
       "      <td>1</td>\n",
       "      <td>1</td>\n",
       "      <td>...</td>\n",
       "      <td>1</td>\n",
       "      <td>1</td>\n",
       "      <td>4</td>\n",
       "      <td>None</td>\n",
       "      <td>575</td>\n",
       "      <td>Rispark</td>\n",
       "      <td>Johannesburg</td>\n",
       "      <td>Gauteng</td>\n",
       "      <td>NaN</td>\n",
       "      <td>NaN</td>\n",
       "    </tr>\n",
       "    <tr>\n",
       "      <th>22529</th>\n",
       "      <td>POABond CostsBond CalculatorPurchase PriceRDep...</td>\n",
       "      <td>115600264</td>\n",
       "      <td>Vacant Land</td>\n",
       "      <td>None</td>\n",
       "      <td>None</td>\n",
       "      <td>None</td>\n",
       "      <td>&lt;NA&gt;</td>\n",
       "      <td>None</td>\n",
       "      <td>None</td>\n",
       "      <td>None</td>\n",
       "      <td>...</td>\n",
       "      <td>None</td>\n",
       "      <td>None</td>\n",
       "      <td>None</td>\n",
       "      <td>None</td>\n",
       "      <td>None</td>\n",
       "      <td>Anchorville</td>\n",
       "      <td>Johannesburg</td>\n",
       "      <td>Gauteng</td>\n",
       "      <td>NaN</td>\n",
       "      <td>NaN</td>\n",
       "    </tr>\n",
       "    <tr>\n",
       "      <th>23098</th>\n",
       "      <td>POABond CostsBond CalculatorPurchase PriceRDep...</td>\n",
       "      <td>114995603</td>\n",
       "      <td>Commercial</td>\n",
       "      <td>None</td>\n",
       "      <td>None</td>\n",
       "      <td>None</td>\n",
       "      <td>&lt;NA&gt;</td>\n",
       "      <td>7</td>\n",
       "      <td>None</td>\n",
       "      <td>None</td>\n",
       "      <td>...</td>\n",
       "      <td>None</td>\n",
       "      <td>None</td>\n",
       "      <td>None</td>\n",
       "      <td>None</td>\n",
       "      <td>None</td>\n",
       "      <td>Lenasia Ext 5</td>\n",
       "      <td>Johannesburg</td>\n",
       "      <td>Gauteng</td>\n",
       "      <td>NaN</td>\n",
       "      <td>NaN</td>\n",
       "    </tr>\n",
       "    <tr>\n",
       "      <th>24498</th>\n",
       "      <td>POABond CostsBond CalculatorPurchase PriceRDep...</td>\n",
       "      <td>114438093</td>\n",
       "      <td>Vacant Land</td>\n",
       "      <td>None</td>\n",
       "      <td>None</td>\n",
       "      <td>None</td>\n",
       "      <td>&lt;NA&gt;</td>\n",
       "      <td>None</td>\n",
       "      <td>None</td>\n",
       "      <td>None</td>\n",
       "      <td>...</td>\n",
       "      <td>None</td>\n",
       "      <td>None</td>\n",
       "      <td>None</td>\n",
       "      <td>None</td>\n",
       "      <td>None</td>\n",
       "      <td>Marshalltown</td>\n",
       "      <td>Johannesburg</td>\n",
       "      <td>Gauteng</td>\n",
       "      <td>NaN</td>\n",
       "      <td>NaN</td>\n",
       "    </tr>\n",
       "    <tr>\n",
       "      <th>24512</th>\n",
       "      <td>POABond CostsBond CalculatorPurchase PriceRDep...</td>\n",
       "      <td>115613519</td>\n",
       "      <td>Commercial</td>\n",
       "      <td>None</td>\n",
       "      <td>None</td>\n",
       "      <td>None</td>\n",
       "      <td>&lt;NA&gt;</td>\n",
       "      <td>None</td>\n",
       "      <td>None</td>\n",
       "      <td>None</td>\n",
       "      <td>...</td>\n",
       "      <td>None</td>\n",
       "      <td>None</td>\n",
       "      <td>None</td>\n",
       "      <td>None</td>\n",
       "      <td>None</td>\n",
       "      <td>Denver</td>\n",
       "      <td>Johannesburg</td>\n",
       "      <td>Gauteng</td>\n",
       "      <td>NaN</td>\n",
       "      <td>NaN</td>\n",
       "    </tr>\n",
       "    <tr>\n",
       "      <th>25004</th>\n",
       "      <td>POABond CostsBond CalculatorPurchase PriceRDep...</td>\n",
       "      <td>115669377</td>\n",
       "      <td>Vacant Land</td>\n",
       "      <td>None</td>\n",
       "      <td>None</td>\n",
       "      <td>None</td>\n",
       "      <td>&lt;NA&gt;</td>\n",
       "      <td>None</td>\n",
       "      <td>None</td>\n",
       "      <td>None</td>\n",
       "      <td>...</td>\n",
       "      <td>None</td>\n",
       "      <td>None</td>\n",
       "      <td>None</td>\n",
       "      <td>None</td>\n",
       "      <td>None</td>\n",
       "      <td>Denver</td>\n",
       "      <td>Johannesburg</td>\n",
       "      <td>Gauteng</td>\n",
       "      <td>NaN</td>\n",
       "      <td>NaN</td>\n",
       "    </tr>\n",
       "    <tr>\n",
       "      <th>25030</th>\n",
       "      <td>POABond CostsBond CalculatorPurchase PriceRDep...</td>\n",
       "      <td>115653560</td>\n",
       "      <td>Industrial</td>\n",
       "      <td>None</td>\n",
       "      <td>None</td>\n",
       "      <td>None</td>\n",
       "      <td>&lt;NA&gt;</td>\n",
       "      <td>None</td>\n",
       "      <td>None</td>\n",
       "      <td>None</td>\n",
       "      <td>...</td>\n",
       "      <td>None</td>\n",
       "      <td>None</td>\n",
       "      <td>None</td>\n",
       "      <td>None</td>\n",
       "      <td>None</td>\n",
       "      <td>Marshalltown</td>\n",
       "      <td>Johannesburg</td>\n",
       "      <td>Gauteng</td>\n",
       "      <td>NaN</td>\n",
       "      <td>NaN</td>\n",
       "    </tr>\n",
       "    <tr>\n",
       "      <th>25068</th>\n",
       "      <td>POABond CostsBond CalculatorPurchase PriceRDep...</td>\n",
       "      <td>115746531</td>\n",
       "      <td>Commercial</td>\n",
       "      <td>None</td>\n",
       "      <td>None</td>\n",
       "      <td>None</td>\n",
       "      <td>&lt;NA&gt;</td>\n",
       "      <td>None</td>\n",
       "      <td>None</td>\n",
       "      <td>None</td>\n",
       "      <td>...</td>\n",
       "      <td>None</td>\n",
       "      <td>None</td>\n",
       "      <td>None</td>\n",
       "      <td>515</td>\n",
       "      <td>None</td>\n",
       "      <td>Maboneng</td>\n",
       "      <td>Johannesburg</td>\n",
       "      <td>Gauteng</td>\n",
       "      <td>NaN</td>\n",
       "      <td>NaN</td>\n",
       "    </tr>\n",
       "    <tr>\n",
       "      <th>25624</th>\n",
       "      <td>POABond CostsBond CalculatorPurchase PriceRDep...</td>\n",
       "      <td>112092349</td>\n",
       "      <td>House</td>\n",
       "      <td>None</td>\n",
       "      <td>None</td>\n",
       "      <td>None</td>\n",
       "      <td>3</td>\n",
       "      <td>1</td>\n",
       "      <td>1</td>\n",
       "      <td>1</td>\n",
       "      <td>...</td>\n",
       "      <td>1</td>\n",
       "      <td>None</td>\n",
       "      <td>None</td>\n",
       "      <td>None</td>\n",
       "      <td>None</td>\n",
       "      <td>Vergenoeg Ext 8</td>\n",
       "      <td>Kimberley</td>\n",
       "      <td>Northern Cape</td>\n",
       "      <td>NaN</td>\n",
       "      <td>NaN</td>\n",
       "    </tr>\n",
       "    <tr>\n",
       "      <th>26323</th>\n",
       "      <td>POABond CostsBond CalculatorPurchase PriceRDep...</td>\n",
       "      <td>115644858</td>\n",
       "      <td>Commercial</td>\n",
       "      <td>None</td>\n",
       "      <td>None</td>\n",
       "      <td>None</td>\n",
       "      <td>&lt;NA&gt;</td>\n",
       "      <td>None</td>\n",
       "      <td>None</td>\n",
       "      <td>None</td>\n",
       "      <td>...</td>\n",
       "      <td>None</td>\n",
       "      <td>None</td>\n",
       "      <td>None</td>\n",
       "      <td>None</td>\n",
       "      <td>None</td>\n",
       "      <td>Fabricia</td>\n",
       "      <td>Kimberley</td>\n",
       "      <td>Northern Cape</td>\n",
       "      <td>NaN</td>\n",
       "      <td>NaN</td>\n",
       "    </tr>\n",
       "    <tr>\n",
       "      <th>27702</th>\n",
       "      <td>POABond CostsBond CalculatorPurchase PriceRDep...</td>\n",
       "      <td>115134071</td>\n",
       "      <td>Commercial</td>\n",
       "      <td>None</td>\n",
       "      <td>None</td>\n",
       "      <td>None</td>\n",
       "      <td>&lt;NA&gt;</td>\n",
       "      <td>None</td>\n",
       "      <td>None</td>\n",
       "      <td>None</td>\n",
       "      <td>...</td>\n",
       "      <td>None</td>\n",
       "      <td>None</td>\n",
       "      <td>None</td>\n",
       "      <td>None</td>\n",
       "      <td>None</td>\n",
       "      <td>Mafikeng Central</td>\n",
       "      <td>Mafikeng</td>\n",
       "      <td>North West</td>\n",
       "      <td>NaN</td>\n",
       "      <td>NaN</td>\n",
       "    </tr>\n",
       "    <tr>\n",
       "      <th>27706</th>\n",
       "      <td>POABond CostsBond CalculatorPurchase PriceRDep...</td>\n",
       "      <td>113651891</td>\n",
       "      <td>Farm</td>\n",
       "      <td>None</td>\n",
       "      <td>None</td>\n",
       "      <td>None</td>\n",
       "      <td>&lt;NA&gt;</td>\n",
       "      <td>2</td>\n",
       "      <td>None</td>\n",
       "      <td>None</td>\n",
       "      <td>...</td>\n",
       "      <td>None</td>\n",
       "      <td>None</td>\n",
       "      <td>None</td>\n",
       "      <td>None</td>\n",
       "      <td>None</td>\n",
       "      <td>Mafikeng Central</td>\n",
       "      <td>Mafikeng</td>\n",
       "      <td>North West</td>\n",
       "      <td>NaN</td>\n",
       "      <td>NaN</td>\n",
       "    </tr>\n",
       "    <tr>\n",
       "      <th>27718</th>\n",
       "      <td>POABond CostsBond CalculatorPurchase PriceRDep...</td>\n",
       "      <td>115188540</td>\n",
       "      <td>House</td>\n",
       "      <td>None</td>\n",
       "      <td>None</td>\n",
       "      <td>None</td>\n",
       "      <td>3</td>\n",
       "      <td>2</td>\n",
       "      <td>None</td>\n",
       "      <td>1</td>\n",
       "      <td>...</td>\n",
       "      <td>None</td>\n",
       "      <td>None</td>\n",
       "      <td>None</td>\n",
       "      <td>None</td>\n",
       "      <td>None</td>\n",
       "      <td>Setumo Park</td>\n",
       "      <td>Mafikeng</td>\n",
       "      <td>North West</td>\n",
       "      <td>NaN</td>\n",
       "      <td>NaN</td>\n",
       "    </tr>\n",
       "    <tr>\n",
       "      <th>28037</th>\n",
       "      <td>POABond CostsBond CalculatorPurchase PriceRDep...</td>\n",
       "      <td>115044121</td>\n",
       "      <td>Farm</td>\n",
       "      <td>None</td>\n",
       "      <td>None</td>\n",
       "      <td>None</td>\n",
       "      <td>&lt;NA&gt;</td>\n",
       "      <td>None</td>\n",
       "      <td>None</td>\n",
       "      <td>None</td>\n",
       "      <td>...</td>\n",
       "      <td>None</td>\n",
       "      <td>None</td>\n",
       "      <td>None</td>\n",
       "      <td>None</td>\n",
       "      <td>None</td>\n",
       "      <td>Beryl</td>\n",
       "      <td>Nelspruit</td>\n",
       "      <td>Mpumalanga</td>\n",
       "      <td>NaN</td>\n",
       "      <td>NaN</td>\n",
       "    </tr>\n",
       "    <tr>\n",
       "      <th>28290</th>\n",
       "      <td>POABond CostsBond CalculatorPurchase PriceRDep...</td>\n",
       "      <td>113032869</td>\n",
       "      <td>Commercial</td>\n",
       "      <td>None</td>\n",
       "      <td>No</td>\n",
       "      <td>None</td>\n",
       "      <td>&lt;NA&gt;</td>\n",
       "      <td>6</td>\n",
       "      <td>4</td>\n",
       "      <td>None</td>\n",
       "      <td>...</td>\n",
       "      <td>None</td>\n",
       "      <td>None</td>\n",
       "      <td>None</td>\n",
       "      <td>None</td>\n",
       "      <td>None</td>\n",
       "      <td>Riverside Industrial Park</td>\n",
       "      <td>Nelspruit</td>\n",
       "      <td>Mpumalanga</td>\n",
       "      <td>NaN</td>\n",
       "      <td>NaN</td>\n",
       "    </tr>\n",
       "    <tr>\n",
       "      <th>32139</th>\n",
       "      <td>POABond CostsBond CalculatorPurchase PriceRDep...</td>\n",
       "      <td>115849431</td>\n",
       "      <td>Industrial</td>\n",
       "      <td>None</td>\n",
       "      <td>None</td>\n",
       "      <td>None</td>\n",
       "      <td>&lt;NA&gt;</td>\n",
       "      <td>None</td>\n",
       "      <td>None</td>\n",
       "      <td>None</td>\n",
       "      <td>...</td>\n",
       "      <td>None</td>\n",
       "      <td>None</td>\n",
       "      <td>None</td>\n",
       "      <td>None</td>\n",
       "      <td>None</td>\n",
       "      <td>Plessislaer</td>\n",
       "      <td>Pietermaritzburg</td>\n",
       "      <td>KwaZulu-Natal</td>\n",
       "      <td>NaN</td>\n",
       "      <td>NaN</td>\n",
       "    </tr>\n",
       "    <tr>\n",
       "      <th>34758</th>\n",
       "      <td>POABond CostsBond CalculatorPurchase PriceRDep...</td>\n",
       "      <td>112041043</td>\n",
       "      <td>Farm</td>\n",
       "      <td>None</td>\n",
       "      <td>None</td>\n",
       "      <td>None</td>\n",
       "      <td>3</td>\n",
       "      <td>2</td>\n",
       "      <td>1</td>\n",
       "      <td>1</td>\n",
       "      <td>...</td>\n",
       "      <td>1</td>\n",
       "      <td>1</td>\n",
       "      <td>2</td>\n",
       "      <td>None</td>\n",
       "      <td>300</td>\n",
       "      <td>Duvenageskraal AH</td>\n",
       "      <td>Polokwane</td>\n",
       "      <td>Limpopo</td>\n",
       "      <td>NaN</td>\n",
       "      <td>NaN</td>\n",
       "    </tr>\n",
       "    <tr>\n",
       "      <th>35050</th>\n",
       "      <td>POABond CostsBond CalculatorPurchase PriceRDep...</td>\n",
       "      <td>112071576</td>\n",
       "      <td>House</td>\n",
       "      <td>None</td>\n",
       "      <td>None</td>\n",
       "      <td>None</td>\n",
       "      <td>4</td>\n",
       "      <td>1</td>\n",
       "      <td>1</td>\n",
       "      <td>1</td>\n",
       "      <td>...</td>\n",
       "      <td>None</td>\n",
       "      <td>None</td>\n",
       "      <td>None</td>\n",
       "      <td>900</td>\n",
       "      <td>140</td>\n",
       "      <td>Perskebult</td>\n",
       "      <td>Polokwane</td>\n",
       "      <td>Limpopo</td>\n",
       "      <td>NaN</td>\n",
       "      <td>NaN</td>\n",
       "    </tr>\n",
       "  </tbody>\n",
       "</table>\n",
       "<p>41 rows × 22 columns</p>\n",
       "</div>"
      ],
      "text/plain": [
       "                                                   price listing_number  \\\n",
       "2704   POABond CostsBond CalculatorPurchase PriceRDep...      115976173   \n",
       "3024   POABond CostsBond CalculatorPurchase PriceRDep...      111277371   \n",
       "3558   POABond CostsBond CalculatorPurchase PriceRDep...      114108103   \n",
       "4771   POABond CostsBond CalculatorPurchase PriceRDep...      114515238   \n",
       "5521   POABond CostsBond CalculatorPurchase PriceRDep...      113316750   \n",
       "5621   POABond CostsBond CalculatorPurchase PriceRDep...      114505067   \n",
       "7230   POABond CostsBond CalculatorPurchase PriceRDep...      115523243   \n",
       "7928   POABond CostsBond CalculatorPurchase PriceRDep...      115865675   \n",
       "7955   POABond CostsBond CalculatorPurchase PriceRDep...      115960492   \n",
       "10449  POABond CostsBond CalculatorPurchase PriceRDep...      114215115   \n",
       "11185  POABond CostsBond CalculatorPurchase PriceRDep...      115451304   \n",
       "11343  POABond CostsBond CalculatorPurchase PriceRDep...      115913288   \n",
       "11776  POABond CostsBond CalculatorPurchase PriceRDep...      115964221   \n",
       "11818  POABond CostsBond CalculatorPurchase PriceRDep...      115935207   \n",
       "12070  POABond CostsBond CalculatorPurchase PriceRDep...      115886800   \n",
       "12927  POABond CostsBond CalculatorPurchase PriceRDep...      115783867   \n",
       "12943  POABond CostsBond CalculatorPurchase PriceRDep...      115876162   \n",
       "13593  POABond CostsBond CalculatorPurchase PriceRDep...      115783867   \n",
       "13687  POABond CostsBond CalculatorPurchase PriceRDep...      115894093   \n",
       "14984  POABond CostsBond CalculatorPurchase PriceRDep...      115901759   \n",
       "16899  POABond CostsBond CalculatorPurchase PriceRDep...      115840228   \n",
       "17493  POABond CostsBond CalculatorPurchase PriceRDep...      115837363   \n",
       "19727  POABond CostsBond CalculatorPurchase PriceRDep...      111836610   \n",
       "20161  POABond CostsBond CalculatorPurchase PriceRDep...      114239279   \n",
       "22529  POABond CostsBond CalculatorPurchase PriceRDep...      115600264   \n",
       "23098  POABond CostsBond CalculatorPurchase PriceRDep...      114995603   \n",
       "24498  POABond CostsBond CalculatorPurchase PriceRDep...      114438093   \n",
       "24512  POABond CostsBond CalculatorPurchase PriceRDep...      115613519   \n",
       "25004  POABond CostsBond CalculatorPurchase PriceRDep...      115669377   \n",
       "25030  POABond CostsBond CalculatorPurchase PriceRDep...      115653560   \n",
       "25068  POABond CostsBond CalculatorPurchase PriceRDep...      115746531   \n",
       "25624  POABond CostsBond CalculatorPurchase PriceRDep...      112092349   \n",
       "26323  POABond CostsBond CalculatorPurchase PriceRDep...      115644858   \n",
       "27702  POABond CostsBond CalculatorPurchase PriceRDep...      115134071   \n",
       "27706  POABond CostsBond CalculatorPurchase PriceRDep...      113651891   \n",
       "27718  POABond CostsBond CalculatorPurchase PriceRDep...      115188540   \n",
       "28037  POABond CostsBond CalculatorPurchase PriceRDep...      115044121   \n",
       "28290  POABond CostsBond CalculatorPurchase PriceRDep...      113032869   \n",
       "32139  POABond CostsBond CalculatorPurchase PriceRDep...      115849431   \n",
       "34758  POABond CostsBond CalculatorPurchase PriceRDep...      112041043   \n",
       "35050  POABond CostsBond CalculatorPurchase PriceRDep...      112071576   \n",
       "\n",
       "      property_type furnished pets_allowed backup_water  bedrooms bathrooms  \\\n",
       "2704          House      None         None         None         5         3   \n",
       "3024     Commercial       Yes           No         None      <NA>        12   \n",
       "3558     Commercial      None         None         None        13        14   \n",
       "4771     Industrial      None         None         None      <NA>      None   \n",
       "5521      Townhouse      None         None         None      <NA>      None   \n",
       "5621    Vacant Land      None         None         None      <NA>      None   \n",
       "7230     Commercial      None         None         None      <NA>      None   \n",
       "7928     Commercial      None         None         None      <NA>      None   \n",
       "7955          House      None          Yes         None         4         1   \n",
       "10449   Vacant Land      None         None         None         1         1   \n",
       "11185    Commercial      None         None         None      <NA>      None   \n",
       "11343    Commercial      None         None         None      <NA>      None   \n",
       "11776    Commercial      None         None         None      <NA>      None   \n",
       "11818    Commercial      None         None         None      <NA>      None   \n",
       "12070         House      None         None         None         4         1   \n",
       "12927    Commercial      None         None         None      <NA>      None   \n",
       "12943    Commercial      None         None         None      <NA>      None   \n",
       "13593    Commercial      None         None         None      <NA>      None   \n",
       "13687    Commercial      None         None         None      <NA>      None   \n",
       "14984    Commercial      None         None         None      <NA>      None   \n",
       "16899    Commercial      None           No         None      <NA>         8   \n",
       "17493    Industrial      None         None         None      <NA>      None   \n",
       "19727    Industrial      None         None         None      <NA>      None   \n",
       "20161          Farm      None         None         None         9         7   \n",
       "22529   Vacant Land      None         None         None      <NA>      None   \n",
       "23098    Commercial      None         None         None      <NA>         7   \n",
       "24498   Vacant Land      None         None         None      <NA>      None   \n",
       "24512    Commercial      None         None         None      <NA>      None   \n",
       "25004   Vacant Land      None         None         None      <NA>      None   \n",
       "25030    Industrial      None         None         None      <NA>      None   \n",
       "25068    Commercial      None         None         None      <NA>      None   \n",
       "25624         House      None         None         None         3         1   \n",
       "26323    Commercial      None         None         None      <NA>      None   \n",
       "27702    Commercial      None         None         None      <NA>      None   \n",
       "27706          Farm      None         None         None      <NA>         2   \n",
       "27718         House      None         None         None         3         2   \n",
       "28037          Farm      None         None         None      <NA>      None   \n",
       "28290    Commercial      None           No         None      <NA>         6   \n",
       "32139    Industrial      None         None         None      <NA>      None   \n",
       "34758          Farm      None         None         None         3         2   \n",
       "35050         House      None         None         None         4         1   \n",
       "\n",
       "      kitchen lounge  ... garden  pool garage erf_size (m²) floor_area (m²)  \\\n",
       "2704        1      1  ...      1  None      2          None             250   \n",
       "3024        2   None  ...   None  None   None          None            None   \n",
       "3558        1   None  ...   None  None   None          None             882   \n",
       "4771     None   None  ...   None  None   None          None            None   \n",
       "5521     None   None  ...   None  None   None          None            None   \n",
       "5621     None   None  ...   None  None   None          None            None   \n",
       "7230     None   None  ...   None  None   None          None            None   \n",
       "7928     None   None  ...   None  None   None           622            None   \n",
       "7955        1      1  ...   None  None      1           487            None   \n",
       "10449       1      1  ...   None     1      1          None            None   \n",
       "11185    None   None  ...   None  None   None          None            None   \n",
       "11343    None   None  ...   None  None   None           694            None   \n",
       "11776    None   None  ...   None  None   None           490             797   \n",
       "11818    None   None  ...   None  None   None          None             159   \n",
       "12070    None      1  ...   None  None   None           257             195   \n",
       "12927    None   None  ...   None  None   None          None             184   \n",
       "12943    None   None  ...   None  None   None          None            None   \n",
       "13593    None   None  ...   None  None   None          None             184   \n",
       "13687    None   None  ...   None  None   None          None            None   \n",
       "14984    None   None  ...   None  None   None          None            None   \n",
       "16899       4   None  ...   None  None   None          None            None   \n",
       "17493    None   None  ...   None  None   None           830             830   \n",
       "19727    None   None  ...   None  None   None           826             219   \n",
       "20161       1      1  ...      1     1      4          None             575   \n",
       "22529    None   None  ...   None  None   None          None            None   \n",
       "23098    None   None  ...   None  None   None          None            None   \n",
       "24498    None   None  ...   None  None   None          None            None   \n",
       "24512    None   None  ...   None  None   None          None            None   \n",
       "25004    None   None  ...   None  None   None          None            None   \n",
       "25030    None   None  ...   None  None   None          None            None   \n",
       "25068    None   None  ...   None  None   None           515            None   \n",
       "25624       1      1  ...      1  None   None          None            None   \n",
       "26323    None   None  ...   None  None   None          None            None   \n",
       "27702    None   None  ...   None  None   None          None            None   \n",
       "27706    None   None  ...   None  None   None          None            None   \n",
       "27718    None      1  ...   None  None   None          None            None   \n",
       "28037    None   None  ...   None  None   None          None            None   \n",
       "28290       4   None  ...   None  None   None          None            None   \n",
       "32139    None   None  ...   None  None   None          None            None   \n",
       "34758       1      1  ...      1     1      2          None             300   \n",
       "35050       1      1  ...   None  None   None           900             140   \n",
       "\n",
       "                          suburb              city       province  \\\n",
       "2704         Hartebeesfontein SH      Bloemfontein     Free State   \n",
       "3024                   Heuwelsig      Bloemfontein     Free State   \n",
       "3558                   Bayswater      Bloemfontein     Free State   \n",
       "4771                   Noordhoek      Bloemfontein     Free State   \n",
       "5521          Bloemfontein Rural      Bloemfontein     Free State   \n",
       "5621               Fichardt Park      Bloemfontein     Free State   \n",
       "7230                  Gatesville         Cape Town   Western Cape   \n",
       "7928                  Kirstenhof         Cape Town   Western Cape   \n",
       "7955                    Zwartdam         Cape Town   Western Cape   \n",
       "10449           Belle Constantia         Cape Town   Western Cape   \n",
       "11185                Schaapkraal         Cape Town   Western Cape   \n",
       "11343                 Southfield         Cape Town   Western Cape   \n",
       "11776              Surrey Estate         Cape Town   Western Cape   \n",
       "11818                   Philippi         Cape Town   Western Cape   \n",
       "12070                  Factreton         Cape Town   Western Cape   \n",
       "12927                   Maboneng      Johannesburg        Gauteng   \n",
       "12943              Melrose North      Johannesburg        Gauteng   \n",
       "13593                   Maboneng      Johannesburg        Gauteng   \n",
       "13687                   Maboneng      Johannesburg        Gauteng   \n",
       "14984              Melrose North      Johannesburg        Gauteng   \n",
       "16899                  Cyrildene      Johannesburg        Gauteng   \n",
       "17493                Springfield      Johannesburg        Gauteng   \n",
       "19727         North Doornfontein      Johannesburg        Gauteng   \n",
       "20161                    Rispark      Johannesburg        Gauteng   \n",
       "22529                Anchorville      Johannesburg        Gauteng   \n",
       "23098              Lenasia Ext 5      Johannesburg        Gauteng   \n",
       "24498               Marshalltown      Johannesburg        Gauteng   \n",
       "24512                     Denver      Johannesburg        Gauteng   \n",
       "25004                     Denver      Johannesburg        Gauteng   \n",
       "25030               Marshalltown      Johannesburg        Gauteng   \n",
       "25068                   Maboneng      Johannesburg        Gauteng   \n",
       "25624            Vergenoeg Ext 8         Kimberley  Northern Cape   \n",
       "26323                   Fabricia         Kimberley  Northern Cape   \n",
       "27702           Mafikeng Central          Mafikeng     North West   \n",
       "27706           Mafikeng Central          Mafikeng     North West   \n",
       "27718                Setumo Park          Mafikeng     North West   \n",
       "28037                      Beryl         Nelspruit     Mpumalanga   \n",
       "28290  Riverside Industrial Park         Nelspruit     Mpumalanga   \n",
       "32139                Plessislaer  Pietermaritzburg  KwaZulu-Natal   \n",
       "34758          Duvenageskraal AH         Polokwane        Limpopo   \n",
       "35050                 Perskebult         Polokwane        Limpopo   \n",
       "\n",
       "      price_cleaned price (ZAR)  \n",
       "2704            NaN         NaN  \n",
       "3024            NaN         NaN  \n",
       "3558            NaN         NaN  \n",
       "4771            NaN         NaN  \n",
       "5521            NaN         NaN  \n",
       "5621            NaN         NaN  \n",
       "7230            NaN         NaN  \n",
       "7928            NaN         NaN  \n",
       "7955            NaN         NaN  \n",
       "10449           NaN         NaN  \n",
       "11185           NaN         NaN  \n",
       "11343           NaN         NaN  \n",
       "11776           NaN         NaN  \n",
       "11818           NaN         NaN  \n",
       "12070           NaN         NaN  \n",
       "12927           NaN         NaN  \n",
       "12943           NaN         NaN  \n",
       "13593           NaN         NaN  \n",
       "13687           NaN         NaN  \n",
       "14984           NaN         NaN  \n",
       "16899           NaN         NaN  \n",
       "17493           NaN         NaN  \n",
       "19727           NaN         NaN  \n",
       "20161           NaN         NaN  \n",
       "22529           NaN         NaN  \n",
       "23098           NaN         NaN  \n",
       "24498           NaN         NaN  \n",
       "24512           NaN         NaN  \n",
       "25004           NaN         NaN  \n",
       "25030           NaN         NaN  \n",
       "25068           NaN         NaN  \n",
       "25624           NaN         NaN  \n",
       "26323           NaN         NaN  \n",
       "27702           NaN         NaN  \n",
       "27706           NaN         NaN  \n",
       "27718           NaN         NaN  \n",
       "28037           NaN         NaN  \n",
       "28290           NaN         NaN  \n",
       "32139           NaN         NaN  \n",
       "34758           NaN         NaN  \n",
       "35050           NaN         NaN  \n",
       "\n",
       "[41 rows x 22 columns]"
      ]
     },
     "execution_count": 28,
     "metadata": {},
     "output_type": "execute_result"
    }
   ],
   "source": [
    "# Visualize null rows in the `price(ZAR)` column\n",
    "results_df[results_df['price (ZAR)'].isna()]"
   ]
  },
  {
   "cell_type": "markdown",
   "id": "5db4eb71",
   "metadata": {},
   "source": [
    "These 41 rows remain because an average based on the combination of `property_type`, `city` and `suburb` could not be calculated for them. Since they represent a small subset of the data, we will remove them from the dataset. "
   ]
  },
  {
   "cell_type": "code",
   "execution_count": 29,
   "id": "696cf0f7",
   "metadata": {},
   "outputs": [],
   "source": [
    "# Drop rows with the price (ZAR) column that are null\n",
    "results_df = results_df.dropna(subset=['price (ZAR)'])"
   ]
  },
  {
   "cell_type": "code",
   "execution_count": 30,
   "id": "d28372a6",
   "metadata": {},
   "outputs": [],
   "source": [
    "# Drop the price column as we do not need it anymore\n",
    "results_df.drop(columns=['price'], inplace=True)\n",
    "\n",
    "# Drop the price_cleaned column as we do not need it anymore\n",
    "results_df.drop(columns=['price_cleaned'], inplace=True)"
   ]
  },
  {
   "cell_type": "markdown",
   "id": "47653538",
   "metadata": {},
   "source": [
    "We will now proceed to clean the columns that were previously extracted from the `property_features` column. "
   ]
  },
  {
   "cell_type": "markdown",
   "id": "5ee29007",
   "metadata": {},
   "source": [
    "### Pets Allowed column"
   ]
  },
  {
   "cell_type": "code",
   "execution_count": 31,
   "id": "a4588986",
   "metadata": {},
   "outputs": [
    {
     "data": {
      "text/plain": [
       "np.int64(15540)"
      ]
     },
     "execution_count": 31,
     "metadata": {},
     "output_type": "execute_result"
    }
   ],
   "source": [
    "# Get the total number of null values in the `pets_allowed` column\n",
    "results_df['pets_allowed'].isnull().sum()"
   ]
  },
  {
   "cell_type": "code",
   "execution_count": 32,
   "id": "3c1939d0",
   "metadata": {},
   "outputs": [
    {
     "data": {
      "application/vnd.microsoft.datawrangler.viewer.v0+json": {
       "columns": [
        {
         "name": "pets_allowed",
         "rawType": "object",
         "type": "string"
        },
        {
         "name": "count",
         "rawType": "int64",
         "type": "integer"
        }
       ],
       "ref": "6c2b91cd-8bb3-4886-84a4-b0f97f37ec35",
       "rows": [
        [
         "Yes",
         "15342"
        ],
        [
         "No",
         "6948"
        ]
       ],
       "shape": {
        "columns": 1,
        "rows": 2
       }
      },
      "text/plain": [
       "pets_allowed\n",
       "Yes    15342\n",
       "No      6948\n",
       "Name: count, dtype: int64"
      ]
     },
     "execution_count": 32,
     "metadata": {},
     "output_type": "execute_result"
    }
   ],
   "source": [
    "# Get the total number of unique values in the `pets_allowed` column\n",
    "results_df['pets_allowed'].value_counts()"
   ]
  },
  {
   "cell_type": "markdown",
   "id": "2e82eb7c",
   "metadata": {},
   "source": [
    "We will calculate the mode of the `pets_allowed` column for each property type to identify the most common pet policy associated with each major property category. "
   ]
  },
  {
   "cell_type": "code",
   "execution_count": 33,
   "id": "71c8d24f",
   "metadata": {},
   "outputs": [
    {
     "name": "stdout",
     "output_type": "stream",
     "text": [
      "property_type\n",
      "Apartment / Flat     No\n",
      "Commercial           No\n",
      "Farm                Yes\n",
      "House               Yes\n",
      "Industrial           No\n",
      "Townhouse           Yes\n",
      "Vacant Land          No\n",
      "Name: pets_allowed, dtype: object\n"
     ]
    }
   ],
   "source": [
    "# Calculate mode for each property type\n",
    "pets_mode = results_df.groupby('property_type')['pets_allowed'].agg(\n",
    "    lambda x: x.mode().iloc[0] if not x.mode().empty else pd.NA\n",
    ")\n",
    "\n",
    "# Print results\n",
    "print(pets_mode)"
   ]
  },
  {
   "cell_type": "markdown",
   "id": "3511e768",
   "metadata": {},
   "source": [
    "We will then use the mode values for each property type to fill in the missing values in the `pets_allowed` column. "
   ]
  },
  {
   "cell_type": "code",
   "execution_count": 34,
   "id": "749476a8",
   "metadata": {},
   "outputs": [],
   "source": [
    "# Initialise a dictionary that contains the common mode values for each property type\n",
    "default_pets_value = {\n",
    "    'Apartment / Flat': 'No',\n",
    "    'Commercial': 'No',\n",
    "    'Farm': 'Yes',\n",
    "    'House': 'Yes',\n",
    "    'Industrial': 'No',\n",
    "    'Townhouse': 'Yes',\n",
    "    'Vacant Land': 'No'\n",
    "}\n",
    "\n",
    "# Apply the default_pet_value for all null values\n",
    "results_df['pets_allowed'] = results_df.apply(\n",
    "    lambda row: default_pets_value[row['property_type']]\n",
    "    if pd.isna(row['pets_allowed']) and row['property_type'] in default_pets_value\n",
    "    else row['pets_allowed'],\n",
    "    axis=1\n",
    ")"
   ]
  },
  {
   "cell_type": "code",
   "execution_count": 35,
   "id": "3ad3c322",
   "metadata": {},
   "outputs": [
    {
     "name": "stdout",
     "output_type": "stream",
     "text": [
      "0\n"
     ]
    }
   ],
   "source": [
    "# Verify that no null values exist in the `pets_allowed` column\n",
    "print(results_df['pets_allowed'].isna().sum())"
   ]
  },
  {
   "cell_type": "markdown",
   "id": "f4a4da5c",
   "metadata": {},
   "source": [
    "### Furnished column"
   ]
  },
  {
   "cell_type": "code",
   "execution_count": 36,
   "id": "ec9aa487",
   "metadata": {},
   "outputs": [
    {
     "data": {
      "text/plain": [
       "np.int64(36800)"
      ]
     },
     "execution_count": 36,
     "metadata": {},
     "output_type": "execute_result"
    }
   ],
   "source": [
    "# Get the number of null values in the `furnished` column\n",
    "results_df['furnished'].isnull().sum()"
   ]
  },
  {
   "cell_type": "code",
   "execution_count": 37,
   "id": "277244a8",
   "metadata": {},
   "outputs": [
    {
     "data": {
      "application/vnd.microsoft.datawrangler.viewer.v0+json": {
       "columns": [
        {
         "name": "furnished",
         "rawType": "object",
         "type": "string"
        },
        {
         "name": "count",
         "rawType": "int64",
         "type": "integer"
        }
       ],
       "ref": "68c7e8f2-53e4-4c55-bc65-3f311197d2b5",
       "rows": [
        [
         "Yes",
         "1030"
        ]
       ],
       "shape": {
        "columns": 1,
        "rows": 1
       }
      },
      "text/plain": [
       "furnished\n",
       "Yes    1030\n",
       "Name: count, dtype: int64"
      ]
     },
     "execution_count": 37,
     "metadata": {},
     "output_type": "execute_result"
    }
   ],
   "source": [
    "# Get the total number of unique value counts in the `furnished` column\n",
    "results_df['furnished'].value_counts()"
   ]
  },
  {
   "cell_type": "markdown",
   "id": "d2da0853",
   "metadata": {},
   "source": [
    "We will calculate the mode of the `furnished` column for each property type to identify the most common furnishing status associated with each major property category."
   ]
  },
  {
   "cell_type": "code",
   "execution_count": 38,
   "id": "21b198fb",
   "metadata": {},
   "outputs": [
    {
     "name": "stdout",
     "output_type": "stream",
     "text": [
      "property_type\n",
      "Apartment / Flat     Yes\n",
      "Commercial           Yes\n",
      "Farm                 Yes\n",
      "House                Yes\n",
      "Industrial          <NA>\n",
      "Townhouse            Yes\n",
      "Vacant Land          Yes\n",
      "Name: furnished, dtype: object\n"
     ]
    }
   ],
   "source": [
    "# Calculate mode for each property type for the furnished column\n",
    "furnished_mode = results_df.groupby('property_type')['furnished'].agg(\n",
    "    lambda x: x.mode().iloc[0] if not x.mode().empty else pd.NA\n",
    ")\n",
    "print(furnished_mode)"
   ]
  },
  {
   "cell_type": "markdown",
   "id": "7e9f5c71",
   "metadata": {},
   "source": [
    "To maintain data consistency, we will fill in the null values in the `furnished` column with *\"Unknown\"*."
   ]
  },
  {
   "cell_type": "code",
   "execution_count": 39,
   "id": "d736a7bc",
   "metadata": {},
   "outputs": [],
   "source": [
    "# Fill the null values in the furnished column with \"Unknown\"\n",
    "results_df['furnished'] = results_df['furnished'].fillna(\"Unknown\")"
   ]
  },
  {
   "cell_type": "code",
   "execution_count": 40,
   "id": "925facd1",
   "metadata": {},
   "outputs": [
    {
     "name": "stdout",
     "output_type": "stream",
     "text": [
      "0\n"
     ]
    }
   ],
   "source": [
    "# Verify that there are no null values in the `furnished` column\n",
    "print(results_df['furnished'].isna().sum())"
   ]
  },
  {
   "cell_type": "markdown",
   "id": "d45008cd",
   "metadata": {},
   "source": [
    "### Bedrooms column"
   ]
  },
  {
   "cell_type": "code",
   "execution_count": 41,
   "id": "5b441f70",
   "metadata": {},
   "outputs": [
    {
     "data": {
      "text/plain": [
       "np.int64(6249)"
      ]
     },
     "execution_count": 41,
     "metadata": {},
     "output_type": "execute_result"
    }
   ],
   "source": [
    "# Get the total number of null values in the `bedrooms` column\n",
    "results_df['bedrooms'].isnull().sum()"
   ]
  },
  {
   "cell_type": "code",
   "execution_count": 42,
   "id": "5655ef3a",
   "metadata": {},
   "outputs": [
    {
     "data": {
      "application/vnd.microsoft.datawrangler.viewer.v0+json": {
       "columns": [
        {
         "name": "bedrooms",
         "rawType": "Int64",
         "type": "integer"
        },
        {
         "name": "count",
         "rawType": "Int64",
         "type": "integer"
        }
       ],
       "ref": "ed5bb36d-58bc-44ce-ae74-af3356d45e31",
       "rows": [
        [
         "3",
         "11223"
        ],
        [
         "2",
         "7751"
        ],
        [
         "4",
         "5399"
        ],
        [
         "1",
         "2717"
        ],
        [
         "5",
         "2260"
        ],
        [
         "6",
         "758"
        ],
        [
         "7",
         "360"
        ],
        [
         "8",
         "201"
        ],
        [
         "10",
         "156"
        ],
        [
         "0",
         "124"
        ],
        [
         "9",
         "121"
        ],
        [
         "11",
         "81"
        ],
        [
         "12",
         "80"
        ],
        [
         "13",
         "52"
        ],
        [
         "14",
         "44"
        ],
        [
         "15",
         "41"
        ],
        [
         "18",
         "22"
        ],
        [
         "16",
         "22"
        ],
        [
         "17",
         "20"
        ],
        [
         "21",
         "14"
        ],
        [
         "20",
         "13"
        ],
        [
         "19",
         "12"
        ],
        [
         "23",
         "11"
        ],
        [
         "25",
         "9"
        ],
        [
         "54",
         "8"
        ],
        [
         "22",
         "6"
        ],
        [
         "24",
         "5"
        ],
        [
         "36",
         "5"
        ],
        [
         "30",
         "5"
        ],
        [
         "27",
         "4"
        ],
        [
         "55",
         "4"
        ],
        [
         "40",
         "3"
        ],
        [
         "47",
         "3"
        ],
        [
         "28",
         "3"
        ],
        [
         "26",
         "3"
        ],
        [
         "38",
         "3"
        ],
        [
         "42",
         "2"
        ],
        [
         "41",
         "2"
        ],
        [
         "50",
         "2"
        ],
        [
         "46",
         "2"
        ],
        [
         "53",
         "2"
        ],
        [
         "32",
         "2"
        ],
        [
         "33",
         "2"
        ],
        [
         "48",
         "2"
        ],
        [
         "44",
         "2"
        ],
        [
         "56",
         "2"
        ],
        [
         "84",
         "1"
        ],
        [
         "29",
         "1"
        ],
        [
         "67",
         "1"
        ],
        [
         "153",
         "1"
        ]
       ],
       "shape": {
        "columns": 1,
        "rows": 64
       }
      },
      "text/plain": [
       "bedrooms\n",
       "3     11223\n",
       "2      7751\n",
       "4      5399\n",
       "1      2717\n",
       "5      2260\n",
       "      ...  \n",
       "78        1\n",
       "37        1\n",
       "65        1\n",
       "64        1\n",
       "34        1\n",
       "Name: count, Length: 64, dtype: Int64"
      ]
     },
     "execution_count": 42,
     "metadata": {},
     "output_type": "execute_result"
    }
   ],
   "source": [
    "# Get the number of unique value counts in the `bedrooms` column\n",
    "results_df['bedrooms'].value_counts()"
   ]
  },
  {
   "cell_type": "markdown",
   "id": "6390835e",
   "metadata": {},
   "source": [
    "For the `bedrooms` column, we calculate the median values for each property type to understand the central tendency within the dataset."
   ]
  },
  {
   "cell_type": "code",
   "execution_count": 43,
   "id": "0780c298",
   "metadata": {},
   "outputs": [
    {
     "name": "stdout",
     "output_type": "stream",
     "text": [
      "      property_type  median_kitchen\n",
      "1        Commercial            12.5\n",
      "2              Farm             4.0\n",
      "3             House             3.0\n",
      "6       Vacant Land             3.0\n",
      "5         Townhouse             3.0\n",
      "0  Apartment / Flat             2.0\n",
      "4        Industrial             2.0\n"
     ]
    }
   ],
   "source": [
    "# Ensure that the bedrooms column is numeric\n",
    "results_df['bedrooms'] = pd.to_numeric(\n",
    "    results_df['bedrooms'], errors='coerce').astype('Int64')\n",
    "\n",
    "\n",
    "# Group by property type and calculate median\n",
    "median_kitchens = results_df.groupby('property_type')[\n",
    "    'bedrooms'].median().reset_index()\n",
    "\n",
    "# Rename columns for clarity\n",
    "median_kitchens.columns = ['property_type', 'median_kitchen']\n",
    "\n",
    "# Sort by median descending (optional)\n",
    "median_kitchens = median_kitchens.sort_values(\n",
    "    by='median_kitchen', ascending=False)\n",
    "\n",
    "print(median_kitchens)"
   ]
  },
  {
   "cell_type": "markdown",
   "id": "2a426e60",
   "metadata": {},
   "source": [
    "There appear to be outliers in the `bedrooms` column, with a maximum value of 244. To further investigate, we will identify and visualise the number of outlier entries per property type, using 15 bedrooms as the threshold. "
   ]
  },
  {
   "cell_type": "code",
   "execution_count": 44,
   "id": "dc338553",
   "metadata": {},
   "outputs": [
    {
     "name": "stdout",
     "output_type": "stream",
     "text": [
      "      property_type  Count with >15 bedrooms\n",
      "3             House                      101\n",
      "1        Commercial                       69\n",
      "0  Apartment / Flat                       25\n",
      "2              Farm                       15\n",
      "4         Townhouse                        3\n"
     ]
    }
   ],
   "source": [
    "# Ensure 'bedrooms' is numeric\n",
    "results_df['bedrooms'] = pd.to_numeric(\n",
    "    results_df['bedrooms'], errors='coerce').astype('Int64')\n",
    "\n",
    "# Filter listings with bedrooms > 15\n",
    "bedroom_outliers = results_df[results_df['bedrooms'] > 15]\n",
    "\n",
    "# Group by property_type and count\n",
    "bedroom_summary = bedroom_outliers.groupby(\n",
    "    'property_type')['bedrooms'].count().reset_index()\n",
    "\n",
    "# Rename column for clarity\n",
    "bedroom_summary.columns = ['property_type', 'Count with >15 bedrooms']\n",
    "\n",
    "# Sort by count descending\n",
    "bedroom_summary = bedroom_summary.sort_values(\n",
    "    by='Count with >15 bedrooms', ascending=False)\n",
    "\n",
    "print(bedroom_summary)"
   ]
  },
  {
   "cell_type": "markdown",
   "id": "dee015d2",
   "metadata": {},
   "source": [
    "In total, there are 213 outlier entries in the `bedrooms` column, with the highest count found in the house property type. To address those, we replace the outlier values with the median number of bedrooms for each property type. If a median value cannot be determined (i.e., is missing), we substitute it with zero. \n",
    "\n",
    "For the remaining null values, we impute them using the median number of bedrooms for each property type."
   ]
  },
  {
   "cell_type": "code",
   "execution_count": 45,
   "id": "263aaa11",
   "metadata": {},
   "outputs": [],
   "source": [
    "bedroom_threshold = 15\n",
    "\n",
    "# Identify outliers\n",
    "bedroom_outliers = results_df[results_df['bedrooms'] > bedroom_threshold]\n",
    "\n",
    "# Compute medians and replace NaNs with 0\n",
    "bedroom_median = results_df[results_df['bedrooms'] <= bedroom_threshold] \\\n",
    "    .groupby('property_type')['bedrooms'].median().fillna(0)\n",
    "\n",
    "# Replace outlier values\n",
    "for idx, row in bedroom_outliers.iterrows():\n",
    "    prop_type = row['property_type']\n",
    "    median_val = bedroom_median.get(prop_type, 1)\n",
    "    results_df.at[idx, 'bedrooms'] = median_val"
   ]
  },
  {
   "cell_type": "code",
   "execution_count": 46,
   "id": "2a9837aa",
   "metadata": {},
   "outputs": [],
   "source": [
    "# Fill NaN bedrooms values with property-type median, or 0 if still missing\n",
    "def fill_missing_bedrooms(row):\n",
    "    if pd.isna(row['bedrooms']):\n",
    "        return bedroom_median.get(row['property_type'], 0)\n",
    "    return row['bedrooms']\n",
    "\n",
    "\n",
    "# Apply the above function to the `bedrooms` column\n",
    "results_df['bedrooms'] = results_df.apply(fill_missing_bedrooms, axis=1)\n",
    "\n",
    "# Convert results to integers\n",
    "results_df['bedrooms'] = results_df['bedrooms'].round().astype('Int64')"
   ]
  },
  {
   "cell_type": "code",
   "execution_count": 47,
   "id": "99801ba1",
   "metadata": {},
   "outputs": [
    {
     "data": {
      "text/plain": [
       "np.int64(0)"
      ]
     },
     "execution_count": 47,
     "metadata": {},
     "output_type": "execute_result"
    }
   ],
   "source": [
    "# Verify there are no null values in the `bedrooms` column\n",
    "results_df['bedrooms'].isnull().sum()"
   ]
  },
  {
   "cell_type": "markdown",
   "id": "70a7f1e4",
   "metadata": {},
   "source": [
    "### Bathrooms column"
   ]
  },
  {
   "cell_type": "code",
   "execution_count": 48,
   "id": "e11716f4",
   "metadata": {},
   "outputs": [
    {
     "data": {
      "text/plain": [
       "np.int64(5000)"
      ]
     },
     "execution_count": 48,
     "metadata": {},
     "output_type": "execute_result"
    }
   ],
   "source": [
    "# Get the total number of null values in the `bathrooms` column\n",
    "results_df['bathrooms'].isnull().sum()"
   ]
  },
  {
   "cell_type": "code",
   "execution_count": 49,
   "id": "5268cdc9",
   "metadata": {},
   "outputs": [
    {
     "data": {
      "application/vnd.microsoft.datawrangler.viewer.v0+json": {
       "columns": [
        {
         "name": "bathrooms",
         "rawType": "object",
         "type": "string"
        },
        {
         "name": "count",
         "rawType": "int64",
         "type": "integer"
        }
       ],
       "ref": "1967f4dd-dbac-4177-b367-9201cb17e9d1",
       "rows": [
        [
         "2",
         "13078"
        ],
        [
         "1",
         "11229"
        ],
        [
         "3",
         "4659"
        ],
        [
         "4",
         "1864"
        ],
        [
         "5",
         "768"
        ],
        [
         "6",
         "376"
        ],
        [
         "7",
         "192"
        ],
        [
         "8",
         "150"
        ],
        [
         "10",
         "103"
        ],
        [
         "9",
         "77"
        ],
        [
         "12",
         "66"
        ],
        [
         "11",
         "41"
        ],
        [
         "15",
         "31"
        ],
        [
         "14",
         "26"
        ],
        [
         "13",
         "26"
        ],
        [
         "20",
         "17"
        ],
        [
         "18",
         "16"
        ],
        [
         "21",
         "15"
        ],
        [
         "16",
         "13"
        ],
        [
         "36",
         "7"
        ],
        [
         "0",
         "6"
        ],
        [
         "24",
         "6"
        ],
        [
         "25",
         "5"
        ],
        [
         "17",
         "5"
        ],
        [
         "22",
         "4"
        ],
        [
         "19",
         "4"
        ],
        [
         "27",
         "4"
        ],
        [
         "30",
         "3"
        ],
        [
         "47",
         "3"
        ],
        [
         "26",
         "3"
        ],
        [
         "65",
         "3"
        ],
        [
         "48",
         "3"
        ],
        [
         "23",
         "3"
        ],
        [
         "31",
         "2"
        ],
        [
         "28",
         "2"
        ],
        [
         "40",
         "2"
        ],
        [
         "57",
         "1"
        ],
        [
         "84",
         "1"
        ],
        [
         "137",
         "1"
        ],
        [
         "131",
         "1"
        ],
        [
         "82",
         "1"
        ],
        [
         "49",
         "1"
        ],
        [
         "52",
         "1"
        ],
        [
         "78",
         "1"
        ],
        [
         "85",
         "1"
        ],
        [
         "112",
         "1"
        ],
        [
         "33",
         "1"
        ],
        [
         "50",
         "1"
        ],
        [
         "29",
         "1"
        ],
        [
         "54",
         "1"
        ]
       ],
       "shape": {
        "columns": 1,
        "rows": 54
       }
      },
      "text/plain": [
       "bathrooms\n",
       "2      13078\n",
       "1      11229\n",
       "3       4659\n",
       "4       1864\n",
       "5        768\n",
       "6        376\n",
       "7        192\n",
       "8        150\n",
       "10       103\n",
       "9         77\n",
       "12        66\n",
       "11        41\n",
       "15        31\n",
       "14        26\n",
       "13        26\n",
       "20        17\n",
       "18        16\n",
       "21        15\n",
       "16        13\n",
       "36         7\n",
       "0          6\n",
       "24         6\n",
       "25         5\n",
       "17         5\n",
       "22         4\n",
       "19         4\n",
       "27         4\n",
       "30         3\n",
       "47         3\n",
       "26         3\n",
       "65         3\n",
       "48         3\n",
       "23         3\n",
       "31         2\n",
       "28         2\n",
       "40         2\n",
       "57         1\n",
       "84         1\n",
       "137        1\n",
       "131        1\n",
       "82         1\n",
       "49         1\n",
       "52         1\n",
       "78         1\n",
       "85         1\n",
       "112        1\n",
       "33         1\n",
       "50         1\n",
       "29         1\n",
       "54         1\n",
       "55         1\n",
       "60         1\n",
       "32         1\n",
       "34         1\n",
       "Name: count, dtype: int64"
      ]
     },
     "execution_count": 49,
     "metadata": {},
     "output_type": "execute_result"
    }
   ],
   "source": [
    "# Get the total number of unique value counts in the `bathrooms` column\n",
    "results_df['bathrooms'].value_counts()"
   ]
  },
  {
   "cell_type": "markdown",
   "id": "e5f8a338",
   "metadata": {},
   "source": [
    "There appear to be outliers in the `bathrooms` column, with a maximum value of 137. To further investigate, we will identify and visualise the number of outlier entries per property type, using 10 bathrooms as the threshold. "
   ]
  },
  {
   "cell_type": "code",
   "execution_count": 50,
   "id": "fe487bb3",
   "metadata": {},
   "outputs": [
    {
     "name": "stdout",
     "output_type": "stream",
     "text": [
      "      property_type  Count with >10 bathrooms\n",
      "1        Commercial                       130\n",
      "3             House                       127\n",
      "2              Farm                        26\n",
      "0  Apartment / Flat                        25\n",
      "4        Industrial                        16\n",
      "5         Townhouse                         4\n"
     ]
    }
   ],
   "source": [
    "# Ensure 'bathrooms' is numeric\n",
    "results_df['bathrooms'] = pd.to_numeric(\n",
    "    results_df['bathrooms'], errors='coerce').astype('Int64')\n",
    "\n",
    "# Filter listings with bathrooms > 10\n",
    "bathroom_outliers = results_df[results_df['bathrooms'] > 10]\n",
    "\n",
    "# Group by property_type and count\n",
    "bathroom_summary = bathroom_outliers.groupby(\n",
    "    'property_type')['bathrooms'].count().reset_index()\n",
    "\n",
    "# Rename column for clarity\n",
    "bathroom_summary.columns = ['property_type', 'Count with >10 bathrooms']\n",
    "\n",
    "# Sort by count descending\n",
    "bathroom_summary = bathroom_summary.sort_values(\n",
    "    by='Count with >10 bathrooms', ascending=False)\n",
    "\n",
    "print(bathroom_summary)"
   ]
  },
  {
   "cell_type": "markdown",
   "id": "34d62165",
   "metadata": {},
   "source": [
    "In total, there are 328 outlier entries in the `bathrooms` column, with the highest count found in the commercial property type. To address those, we replace the outlier values with the median number of bathrooms for each property type. If a median value cannot be determined (i.e., is missing), we substitute it with zero. \n",
    "\n",
    "For the remaining null values, we impute them using the median number of bathrooms for each property type."
   ]
  },
  {
   "cell_type": "code",
   "execution_count": 51,
   "id": "e6a61a65",
   "metadata": {},
   "outputs": [],
   "source": [
    "# Set the bathroom_threshold for outlier bathroom numbers\n",
    "bathroom_threshold = 10\n",
    "\n",
    "# Define the outlier bathrooms as specified by the bathroom_threshold\n",
    "outliner_bathrooms = results_df[results_df['bathrooms'] > bathroom_threshold]\n",
    "\n",
    "bathroom_median = results_df[results_df['bathrooms'] <= bathroom_threshold].groupby(\n",
    "    'property_type')['bathrooms'].median()\n",
    "\n",
    "bathroom_median = bathroom_median.fillna(0)\n",
    "\n",
    "for idx, row in outliner_bathrooms.iterrows():\n",
    "    prop_type = row['property_type']\n",
    "    median_val = bathroom_median.get(prop_type, 0)\n",
    "    results_df.at[idx, 'bathrooms'] = median_val"
   ]
  },
  {
   "cell_type": "code",
   "execution_count": 52,
   "id": "2b84adab",
   "metadata": {},
   "outputs": [],
   "source": [
    "# Fill NaN bathroom values with property-type median, or 0 if still missing\n",
    "def fill_missing_bathrooms(row):\n",
    "    if pd.isna(row['bathrooms']):\n",
    "        return bathroom_median.get(row['property_type'], 0)\n",
    "    return row['bathrooms']\n",
    "\n",
    "\n",
    "# Apply the above function to the `bathrooms` column\n",
    "results_df['bathrooms'] = results_df.apply(fill_missing_bathrooms, axis=1)\n",
    "\n",
    "# Convert results to integers\n",
    "results_df['bathrooms'] = results_df['bathrooms'].round().astype('Int64')"
   ]
  },
  {
   "cell_type": "code",
   "execution_count": 53,
   "id": "5a85d203",
   "metadata": {},
   "outputs": [
    {
     "data": {
      "text/plain": [
       "np.int64(0)"
      ]
     },
     "execution_count": 53,
     "metadata": {},
     "output_type": "execute_result"
    }
   ],
   "source": [
    "# Verify there are no null values in the `bathrooms` column\n",
    "results_df['bathrooms'].isnull().sum()"
   ]
  },
  {
   "cell_type": "markdown",
   "id": "e4cb8294",
   "metadata": {},
   "source": [
    "### Kitchen column"
   ]
  },
  {
   "cell_type": "code",
   "execution_count": 54,
   "id": "13855402",
   "metadata": {},
   "outputs": [
    {
     "data": {
      "text/plain": [
       "np.int64(8978)"
      ]
     },
     "execution_count": 54,
     "metadata": {},
     "output_type": "execute_result"
    }
   ],
   "source": [
    "# Get the total number of null values in the `kitchen` column\n",
    "results_df['kitchen'].isnull().sum()"
   ]
  },
  {
   "cell_type": "code",
   "execution_count": 55,
   "id": "834630a2",
   "metadata": {},
   "outputs": [
    {
     "data": {
      "application/vnd.microsoft.datawrangler.viewer.v0+json": {
       "columns": [
        {
         "name": "kitchen",
         "rawType": "object",
         "type": "string"
        },
        {
         "name": "count",
         "rawType": "int64",
         "type": "integer"
        }
       ],
       "ref": "1762f367-199b-47cb-85a8-9c5dcf9d4437",
       "rows": [
        [
         "1",
         "27115"
        ],
        [
         "2",
         "1048"
        ],
        [
         "3",
         "304"
        ],
        [
         "4",
         "148"
        ],
        [
         "5",
         "82"
        ],
        [
         "6",
         "25"
        ],
        [
         "8",
         "20"
        ],
        [
         "7",
         "18"
        ],
        [
         "18",
         "15"
        ],
        [
         "10",
         "10"
        ],
        [
         "11",
         "9"
        ],
        [
         "14",
         "9"
        ],
        [
         "12",
         "8"
        ],
        [
         "15",
         "6"
        ],
        [
         "9",
         "5"
        ],
        [
         "16",
         "4"
        ],
        [
         "27",
         "4"
        ],
        [
         "20",
         "3"
        ],
        [
         "13",
         "2"
        ],
        [
         "47",
         "1"
        ],
        [
         "51",
         "1"
        ],
        [
         "17",
         "1"
        ],
        [
         "84",
         "1"
        ],
        [
         "25",
         "1"
        ],
        [
         "131",
         "1"
        ],
        [
         "115",
         "1"
        ],
        [
         "65",
         "1"
        ],
        [
         "34",
         "1"
        ],
        [
         "112",
         "1"
        ],
        [
         "78",
         "1"
        ],
        [
         "85",
         "1"
        ],
        [
         "24",
         "1"
        ],
        [
         "19",
         "1"
        ],
        [
         "48",
         "1"
        ],
        [
         "40",
         "1"
        ],
        [
         "32",
         "1"
        ]
       ],
       "shape": {
        "columns": 1,
        "rows": 36
       }
      },
      "text/plain": [
       "kitchen\n",
       "1      27115\n",
       "2       1048\n",
       "3        304\n",
       "4        148\n",
       "5         82\n",
       "6         25\n",
       "8         20\n",
       "7         18\n",
       "18        15\n",
       "10        10\n",
       "11         9\n",
       "14         9\n",
       "12         8\n",
       "15         6\n",
       "9          5\n",
       "16         4\n",
       "27         4\n",
       "20         3\n",
       "13         2\n",
       "47         1\n",
       "51         1\n",
       "17         1\n",
       "84         1\n",
       "25         1\n",
       "131        1\n",
       "115        1\n",
       "65         1\n",
       "34         1\n",
       "112        1\n",
       "78         1\n",
       "85         1\n",
       "24         1\n",
       "19         1\n",
       "48         1\n",
       "40         1\n",
       "32         1\n",
       "Name: count, dtype: int64"
      ]
     },
     "execution_count": 55,
     "metadata": {},
     "output_type": "execute_result"
    }
   ],
   "source": [
    "# Get the unique value counts for the `kitchen` column\n",
    "results_df['kitchen'].value_counts()"
   ]
  },
  {
   "cell_type": "markdown",
   "id": "fdee022a",
   "metadata": {},
   "source": [
    "For the `kitchen` column, we calculate the median values for each property type to understand the central tendency within the dataset."
   ]
  },
  {
   "cell_type": "code",
   "execution_count": 56,
   "id": "6c529bfe",
   "metadata": {},
   "outputs": [
    {
     "name": "stdout",
     "output_type": "stream",
     "text": [
      "      property_type  median_kitchen\n",
      "0  Apartment / Flat             1.0\n",
      "1        Commercial             1.0\n",
      "2              Farm             1.0\n",
      "3             House             1.0\n",
      "4        Industrial             1.0\n",
      "5         Townhouse             1.0\n",
      "6       Vacant Land             1.0\n"
     ]
    }
   ],
   "source": [
    "# Ensure that the kitchen column is numeric\n",
    "results_df['kitchen'] = pd.to_numeric(\n",
    "    results_df['kitchen'], errors='coerce').astype('Int64')\n",
    "\n",
    "\n",
    "# Group by property type and calculate median\n",
    "median_kitchens = results_df.groupby('property_type')[\n",
    "    'kitchen'].median().reset_index()\n",
    "\n",
    "# Rename columns for clarity\n",
    "median_kitchens.columns = ['property_type', 'median_kitchen']\n",
    "\n",
    "# Sort by median descending\n",
    "median_kitchens = median_kitchens.sort_values(\n",
    "    by='median_kitchen', ascending=False)\n",
    "\n",
    "print(median_kitchens)"
   ]
  },
  {
   "cell_type": "markdown",
   "id": "d719a656",
   "metadata": {},
   "source": [
    "There are also outliers in the dataset, with the maximum number of kitchens reaching 131. To address this, we replace the outliers with the median kitchen value for each property type, defaulting to zero if the median is unavailable. \n",
    "\n",
    "For the remaining null values, we impute the Kitchen column using the median value for the respective property type, defaulting to 0 again if the median is unavailable."
   ]
  },
  {
   "cell_type": "code",
   "execution_count": 57,
   "id": "2ae3cec1",
   "metadata": {},
   "outputs": [],
   "source": [
    "# Define threshold\n",
    "kitchen_threshold = 9\n",
    "\n",
    "# Identify outliers\n",
    "kitchen_outliers = results_df[results_df['kitchen'] > kitchen_threshold]\n",
    "\n",
    "# Compute medians and replace NaNs with 0\n",
    "kitchen_median = results_df[results_df['kitchen'] <= kitchen_threshold] \\\n",
    "    .groupby('property_type')['kitchen'].median().fillna(0)\n",
    "\n",
    "# Replace outlier values\n",
    "for idx, row in kitchen_outliers.iterrows():\n",
    "    prop_type = row['property_type']\n",
    "    median_val = kitchen_median.get(prop_type, 1)\n",
    "    results_df.at[idx, 'kitchen'] = median_val"
   ]
  },
  {
   "cell_type": "code",
   "execution_count": 58,
   "id": "374a030d",
   "metadata": {},
   "outputs": [],
   "source": [
    "# Fill NaN kitchen values with property-type median, or 0 if still missing\n",
    "def fill_missing_kitchen(row):\n",
    "    if pd.isna(row['kitchen']):\n",
    "        return kitchen_median.get(row['property_type'], 0)\n",
    "    return row['kitchen']\n",
    "\n",
    "\n",
    "# Apply the function\n",
    "results_df['kitchen'] = results_df.apply(fill_missing_kitchen, axis=1)\n",
    "\n",
    "# Convert results to integers\n",
    "results_df['kitchen'] = results_df['kitchen'].round().astype('Int64')"
   ]
  },
  {
   "cell_type": "code",
   "execution_count": 59,
   "id": "d5fc00b9",
   "metadata": {},
   "outputs": [
    {
     "data": {
      "text/plain": [
       "np.int64(0)"
      ]
     },
     "execution_count": 59,
     "metadata": {},
     "output_type": "execute_result"
    }
   ],
   "source": [
    "# Verify that there are no null values\n",
    "results_df['kitchen'].isnull().sum()"
   ]
  },
  {
   "cell_type": "markdown",
   "id": "79cd6a06",
   "metadata": {},
   "source": [
    "### Lounge column"
   ]
  },
  {
   "cell_type": "code",
   "execution_count": 60,
   "id": "85e4e8a6",
   "metadata": {},
   "outputs": [
    {
     "data": {
      "text/plain": [
       "np.int64(23922)"
      ]
     },
     "execution_count": 60,
     "metadata": {},
     "output_type": "execute_result"
    }
   ],
   "source": [
    "# Get the total number of null values in the `lounge` column\n",
    "results_df['lounge'].isnull().sum()"
   ]
  },
  {
   "cell_type": "code",
   "execution_count": 61,
   "id": "673fa057",
   "metadata": {},
   "outputs": [
    {
     "data": {
      "application/vnd.microsoft.datawrangler.viewer.v0+json": {
       "columns": [
        {
         "name": "lounge",
         "rawType": "object",
         "type": "string"
        },
        {
         "name": "count",
         "rawType": "int64",
         "type": "integer"
        }
       ],
       "ref": "b5b9567e-ebf7-4baf-9421-20674cef3d33",
       "rows": [
        [
         "1",
         "13150"
        ],
        [
         "2",
         "575"
        ],
        [
         "3",
         "122"
        ],
        [
         "4",
         "31"
        ],
        [
         "5",
         "15"
        ],
        [
         "6",
         "4"
        ],
        [
         "7",
         "4"
        ],
        [
         "9",
         "3"
        ],
        [
         "8",
         "2"
        ],
        [
         "12",
         "1"
        ],
        [
         "11",
         "1"
        ]
       ],
       "shape": {
        "columns": 1,
        "rows": 11
       }
      },
      "text/plain": [
       "lounge\n",
       "1     13150\n",
       "2       575\n",
       "3       122\n",
       "4        31\n",
       "5        15\n",
       "6         4\n",
       "7         4\n",
       "9         3\n",
       "8         2\n",
       "12        1\n",
       "11        1\n",
       "Name: count, dtype: int64"
      ]
     },
     "execution_count": 61,
     "metadata": {},
     "output_type": "execute_result"
    }
   ],
   "source": [
    "# Get the unique value counts of the `lounge` column\n",
    "results_df['lounge'].value_counts()"
   ]
  },
  {
   "cell_type": "markdown",
   "id": "3abb8b9f",
   "metadata": {},
   "source": [
    "For the `lounge` column, we calculate the median values for each property type to understand the central tendency within the dataset."
   ]
  },
  {
   "cell_type": "code",
   "execution_count": 62,
   "id": "e86819e8",
   "metadata": {},
   "outputs": [
    {
     "name": "stdout",
     "output_type": "stream",
     "text": [
      "      property_type  median_lounge\n",
      "0  Apartment / Flat            1.0\n",
      "1        Commercial            1.0\n",
      "2              Farm            1.0\n",
      "3             House            1.0\n",
      "4        Industrial            1.0\n",
      "5         Townhouse            1.0\n",
      "6       Vacant Land            1.0\n"
     ]
    }
   ],
   "source": [
    "# Ensure that the lounge column is numeric\n",
    "results_df['lounge'] = pd.to_numeric(\n",
    "    results_df['lounge'], errors='coerce').astype('Int64')\n",
    "\n",
    "\n",
    "# Group by property type and calculate median\n",
    "median_lounge = results_df.groupby('property_type')[\n",
    "    'lounge'].median().reset_index()\n",
    "\n",
    "# Rename columns for clarity\n",
    "median_lounge.columns = ['property_type', 'median_lounge']\n",
    "\n",
    "# Sort by median descending (optional)\n",
    "median_lounge = median_lounge.sort_values(\n",
    "    by='median_lounge', ascending=False)\n",
    "\n",
    "print(median_lounge)"
   ]
  },
  {
   "cell_type": "markdown",
   "id": "180a8f95",
   "metadata": {},
   "source": [
    "There are outliers in the dataset, with the maximum number of lounges reaching 12. To address this, we replace the outliers with the median lounge value for each property type, defaulting to zero if the median is unavailable. \n",
    "\n",
    "For the remaining null values, we impute the lounge column using the median value for the respective property type, defaulting to 0 again if the median is unavailable."
   ]
  },
  {
   "cell_type": "code",
   "execution_count": 63,
   "id": "4dc546cb",
   "metadata": {},
   "outputs": [],
   "source": [
    "# Define threshold\n",
    "lounge_threshold = 9\n",
    "\n",
    "# Identify outliers\n",
    "lounge_outliers = results_df[results_df['lounge'] > lounge_threshold]\n",
    "\n",
    "# Compute medians and replace NaNs with 0\n",
    "lounge_median = results_df[results_df['lounge'] <= lounge_threshold] \\\n",
    "    .groupby('property_type')['lounge'].median().fillna(0)\n",
    "\n",
    "# Replace outlier values\n",
    "for idx, row in lounge_outliers.iterrows():\n",
    "    prop_type = row['property_type']\n",
    "    median_val = lounge_median.get(prop_type, 1)\n",
    "    results_df.at[idx, 'lounge'] = median_val"
   ]
  },
  {
   "cell_type": "code",
   "execution_count": 64,
   "id": "64d9d432",
   "metadata": {},
   "outputs": [],
   "source": [
    "# Fill NaN lounge values with property-type median, or 0 if still missing\n",
    "def fill_missing_lounge(row):\n",
    "    if pd.isna(row['lounge']):\n",
    "        return lounge_median.get(row['property_type'], 0)\n",
    "    return row['lounge']\n",
    "\n",
    "\n",
    "# Apply the function\n",
    "results_df['lounge'] = results_df.apply(fill_missing_lounge, axis=1)\n",
    "\n",
    "# Convert results to integers\n",
    "results_df['lounge'] = results_df['lounge'].round().astype('Int64')"
   ]
  },
  {
   "cell_type": "code",
   "execution_count": 65,
   "id": "40db68dc",
   "metadata": {},
   "outputs": [
    {
     "data": {
      "text/plain": [
       "np.int64(0)"
      ]
     },
     "execution_count": 65,
     "metadata": {},
     "output_type": "execute_result"
    }
   ],
   "source": [
    "# Verify that there are no null values present\n",
    "results_df['lounge'].isnull().sum()"
   ]
  },
  {
   "cell_type": "markdown",
   "id": "8aac0322",
   "metadata": {},
   "source": [
    "### Dining Room column"
   ]
  },
  {
   "cell_type": "code",
   "execution_count": 66,
   "id": "55e80d30",
   "metadata": {},
   "outputs": [
    {
     "data": {
      "text/plain": [
       "np.int64(26440)"
      ]
     },
     "execution_count": 66,
     "metadata": {},
     "output_type": "execute_result"
    }
   ],
   "source": [
    "# Get the total number of null values in the `dining_room` column\n",
    "results_df['dining_room'].isnull().sum()"
   ]
  },
  {
   "cell_type": "code",
   "execution_count": 67,
   "id": "7bca8a64",
   "metadata": {},
   "outputs": [
    {
     "data": {
      "application/vnd.microsoft.datawrangler.viewer.v0+json": {
       "columns": [
        {
         "name": "dining_room",
         "rawType": "object",
         "type": "string"
        },
        {
         "name": "count",
         "rawType": "int64",
         "type": "integer"
        }
       ],
       "ref": "4afa7d2d-05b5-4f98-8a76-bc0e5016cde0",
       "rows": [
        [
         "1",
         "11118"
        ],
        [
         "2",
         "228"
        ],
        [
         "3",
         "27"
        ],
        [
         "4",
         "10"
        ],
        [
         "5",
         "3"
        ],
        [
         "7",
         "2"
        ],
        [
         "122",
         "1"
        ],
        [
         "8",
         "1"
        ]
       ],
       "shape": {
        "columns": 1,
        "rows": 8
       }
      },
      "text/plain": [
       "dining_room\n",
       "1      11118\n",
       "2        228\n",
       "3         27\n",
       "4         10\n",
       "5          3\n",
       "7          2\n",
       "122        1\n",
       "8          1\n",
       "Name: count, dtype: int64"
      ]
     },
     "execution_count": 67,
     "metadata": {},
     "output_type": "execute_result"
    }
   ],
   "source": [
    "# Get the unique value counts in the `Dining Room` column\n",
    "results_df['dining_room'].value_counts()"
   ]
  },
  {
   "cell_type": "markdown",
   "id": "b00f075f",
   "metadata": {},
   "source": [
    "For the `dining_room` column, we calculate the median values for each property type to understand the central tendency within the dataset."
   ]
  },
  {
   "cell_type": "code",
   "execution_count": 68,
   "id": "3d770033",
   "metadata": {},
   "outputs": [
    {
     "name": "stdout",
     "output_type": "stream",
     "text": [
      "      property_type  median_dining_room\n",
      "0  Apartment / Flat                 1.0\n",
      "1        Commercial                 1.0\n",
      "2              Farm                 1.0\n",
      "3             House                 1.0\n",
      "5         Townhouse                 1.0\n",
      "6       Vacant Land                 1.0\n",
      "4        Industrial                <NA>\n"
     ]
    }
   ],
   "source": [
    "# Ensure that the dining_room column is numeric\n",
    "results_df['dining_room'] = pd.to_numeric(\n",
    "    results_df['dining_room'], errors='coerce').astype('Int64')\n",
    "\n",
    "\n",
    "# Group by property type and calculate median\n",
    "median_dining_room = results_df.groupby('property_type')[\n",
    "    'dining_room'].median().reset_index()\n",
    "\n",
    "# Rename columns for clarity\n",
    "median_dining_room.columns = ['property_type', 'median_dining_room']\n",
    "\n",
    "# Sort by median descending (optional)\n",
    "median_dining_room = median_dining_room.sort_values(\n",
    "    by='median_dining_room', ascending=False)\n",
    "\n",
    "print(median_dining_room)"
   ]
  },
  {
   "cell_type": "markdown",
   "id": "0a42df8d",
   "metadata": {},
   "source": [
    "The industrial property type has a median dining room value of null, which is expected given the nature of the property. There are outliers in the dataset, with the maximum number of dining rooms reaching 122. To address this, we replace the outliers with the median dining room value for each property type, defaulting to zero if the median is unavailable. \n",
    "\n",
    "For the remaining null values, we impute the dining room column using the median value for the respective property type, defaulting to 0 again if the median is unavailable."
   ]
  },
  {
   "cell_type": "code",
   "execution_count": 69,
   "id": "666b57c9",
   "metadata": {},
   "outputs": [],
   "source": [
    "# Define threshold\n",
    "dining_room_threshold = 9\n",
    "\n",
    "# Identify outliers\n",
    "dining_room_outliers = results_df[results_df['dining_room'] > dining_room_threshold]\n",
    "\n",
    "# Compute medians and replace NaNs with 0\n",
    "lounge_median = results_df[results_df['dining_room'] <= dining_room_threshold] \\\n",
    "    .groupby('property_type')['dining_room'].median().fillna(0)\n",
    "\n",
    "# Replace outlier values\n",
    "for idx, row in dining_room_outliers.iterrows():\n",
    "    prop_type = row['property_type']\n",
    "    median_val = lounge_median.get(prop_type, 1)\n",
    "    results_df.at[idx, 'dining_room'] = median_val"
   ]
  },
  {
   "cell_type": "code",
   "execution_count": 70,
   "id": "b60e60d3",
   "metadata": {},
   "outputs": [],
   "source": [
    "# Fill NaN dining_room values with property-type median, or 0 if still missing\n",
    "def fill_missing_dining_room(row):\n",
    "    if pd.isna(row['dining_room']):\n",
    "        return lounge_median.get(row['property_type'], 0)\n",
    "    return row['dining_room']\n",
    "\n",
    "\n",
    "# Apply the function\n",
    "results_df['dining_room'] = results_df.apply(fill_missing_dining_room, axis=1)\n",
    "\n",
    "# Convert results to integers\n",
    "results_df['dining_room'] = results_df['dining_room'].round().astype('Int64')"
   ]
  },
  {
   "cell_type": "code",
   "execution_count": 71,
   "id": "d0ba9d93",
   "metadata": {},
   "outputs": [
    {
     "data": {
      "text/plain": [
       "np.int64(0)"
      ]
     },
     "execution_count": 71,
     "metadata": {},
     "output_type": "execute_result"
    }
   ],
   "source": [
    "# Verify that no null values exist in the column\n",
    "results_df['dining_room'].isnull().sum()"
   ]
  },
  {
   "cell_type": "markdown",
   "id": "028756bc",
   "metadata": {},
   "source": [
    "### Garage column"
   ]
  },
  {
   "cell_type": "code",
   "execution_count": 72,
   "id": "a732a8f3",
   "metadata": {},
   "outputs": [
    {
     "data": {
      "text/plain": [
       "np.int64(28417)"
      ]
     },
     "execution_count": 72,
     "metadata": {},
     "output_type": "execute_result"
    }
   ],
   "source": [
    "# Get the total number of null values in the `garage` dataset\n",
    "results_df['garage'].isnull().sum()"
   ]
  },
  {
   "cell_type": "code",
   "execution_count": 73,
   "id": "99d963a9",
   "metadata": {},
   "outputs": [
    {
     "data": {
      "application/vnd.microsoft.datawrangler.viewer.v0+json": {
       "columns": [
        {
         "name": "garage",
         "rawType": "object",
         "type": "string"
        },
        {
         "name": "count",
         "rawType": "int64",
         "type": "integer"
        }
       ],
       "ref": "1f52ecd2-f63b-4130-9c1e-cdd2feafbd18",
       "rows": [
        [
         "1",
         "4210"
        ],
        [
         "2",
         "4068"
        ],
        [
         "3",
         "583"
        ],
        [
         "4",
         "386"
        ],
        [
         "5",
         "67"
        ],
        [
         "6",
         "54"
        ],
        [
         "8",
         "9"
        ],
        [
         "7",
         "8"
        ],
        [
         "0",
         "8"
        ],
        [
         "10",
         "4"
        ],
        [
         "12",
         "3"
        ],
        [
         "40",
         "3"
        ],
        [
         "13",
         "2"
        ],
        [
         "18",
         "1"
        ],
        [
         "9",
         "1"
        ],
        [
         "25",
         "1"
        ],
        [
         "15",
         "1"
        ],
        [
         "34",
         "1"
        ],
        [
         "20",
         "1"
        ],
        [
         "19",
         "1"
        ],
        [
         "24",
         "1"
        ]
       ],
       "shape": {
        "columns": 1,
        "rows": 21
       }
      },
      "text/plain": [
       "garage\n",
       "1     4210\n",
       "2     4068\n",
       "3      583\n",
       "4      386\n",
       "5       67\n",
       "6       54\n",
       "8        9\n",
       "7        8\n",
       "0        8\n",
       "10       4\n",
       "12       3\n",
       "40       3\n",
       "13       2\n",
       "18       1\n",
       "9        1\n",
       "25       1\n",
       "15       1\n",
       "34       1\n",
       "20       1\n",
       "19       1\n",
       "24       1\n",
       "Name: count, dtype: int64"
      ]
     },
     "execution_count": 73,
     "metadata": {},
     "output_type": "execute_result"
    }
   ],
   "source": [
    "# Get the unique value counts for the `garage` column\n",
    "results_df['garage'].value_counts()"
   ]
  },
  {
   "cell_type": "markdown",
   "id": "4247e022",
   "metadata": {},
   "source": [
    "For the `garage` column, we calculate the median values for each property type to understand the central tendency within the dataset."
   ]
  },
  {
   "cell_type": "code",
   "execution_count": 74,
   "id": "18f5ccb7",
   "metadata": {},
   "outputs": [
    {
     "name": "stdout",
     "output_type": "stream",
     "text": [
      "      property_type  median_garage\n",
      "1        Commercial            2.0\n",
      "2              Farm            2.0\n",
      "6       Vacant Land            2.0\n",
      "3             House            2.0\n",
      "0  Apartment / Flat            1.0\n",
      "5         Townhouse            1.0\n",
      "4        Industrial           <NA>\n"
     ]
    }
   ],
   "source": [
    "# Ensure that the garage column is numeric\n",
    "results_df['garage'] = pd.to_numeric(\n",
    "    results_df['garage'], errors='coerce').astype('Int64')\n",
    "\n",
    "\n",
    "# Group by property type and calculate median\n",
    "median_garage = results_df.groupby('property_type')[\n",
    "    'garage'].median().reset_index()\n",
    "\n",
    "# Rename columns for clarity\n",
    "median_garage.columns = ['property_type', 'median_garage']\n",
    "\n",
    "# Sort by median descending (optional)\n",
    "median_garage = median_garage.sort_values(\n",
    "    by='median_garage', ascending=False)\n",
    "\n",
    "print(median_garage)"
   ]
  },
  {
   "cell_type": "markdown",
   "id": "11c773d8",
   "metadata": {},
   "source": [
    "The industrial property type has a median garage value of null, which is expected given its nature. There are also outliers in the dataset, with the maximum number of garages reaching 40.\n",
    "\n",
    "To address this, we replace the outliers with the median garage value for each property type, defaulting to zero if the median is unavailable. \n",
    "\n",
    "For the remaining null values, we impute the garage column using the median value for the respective property type, defaulting to 0 again if the median is unavailable."
   ]
  },
  {
   "cell_type": "code",
   "execution_count": 75,
   "id": "4566f07c",
   "metadata": {},
   "outputs": [],
   "source": [
    "# Define the threshold\n",
    "garage_threshold = 6\n",
    "\n",
    "# Identify outliers\n",
    "garage_outliers = results_df[results_df['garage'] > garage_threshold]\n",
    "\n",
    "# Compute medians and replace NaNs with 0\n",
    "garage_median = results_df[results_df['garage'] <= garage_threshold].groupby(\n",
    "    'property_type')['garage'].median().fillna(0)\n",
    "\n",
    "# Replace outlier values\n",
    "for idx, row in garage_outliers.iterrows():\n",
    "    prop_type = row['property_type']\n",
    "    median_val = garage_median.get(prop_type, 1)\n",
    "    results_df.at[idx, 'garage'] = median_val"
   ]
  },
  {
   "cell_type": "code",
   "execution_count": 76,
   "id": "c9cfe2d3",
   "metadata": {},
   "outputs": [],
   "source": [
    "# Fill NaN garage values with property-type median, or 0 if still missing\n",
    "def fill_missing_garage(row):\n",
    "    if pd.isna(row['garage']):\n",
    "        return garage_median.get(row['property_type'], 0)\n",
    "    return row['garage']\n",
    "\n",
    "\n",
    "# Apply the function\n",
    "results_df['garage'] = results_df.apply(fill_missing_garage, axis=1)\n",
    "\n",
    "# Convert the column to integer\n",
    "results_df['garage'] = results_df['garage'].round().astype('Int64')"
   ]
  },
  {
   "cell_type": "code",
   "execution_count": 77,
   "id": "6bc6e4a0",
   "metadata": {},
   "outputs": [
    {
     "data": {
      "text/plain": [
       "np.int64(0)"
      ]
     },
     "execution_count": 77,
     "metadata": {},
     "output_type": "execute_result"
    }
   ],
   "source": [
    "# Verify that there are no null values\n",
    "results_df['garage'].isnull().sum()"
   ]
  },
  {
   "cell_type": "markdown",
   "id": "12179053",
   "metadata": {},
   "source": [
    "### Garden column"
   ]
  },
  {
   "cell_type": "code",
   "execution_count": 78,
   "id": "2b0ab3d3",
   "metadata": {},
   "outputs": [
    {
     "data": {
      "text/plain": [
       "np.int64(27616)"
      ]
     },
     "execution_count": 78,
     "metadata": {},
     "output_type": "execute_result"
    }
   ],
   "source": [
    "# Get the total number of null values in the `garden` column\n",
    "results_df['garden'].isnull().sum()"
   ]
  },
  {
   "cell_type": "code",
   "execution_count": 79,
   "id": "9436189d",
   "metadata": {},
   "outputs": [
    {
     "data": {
      "application/vnd.microsoft.datawrangler.viewer.v0+json": {
       "columns": [
        {
         "name": "garden",
         "rawType": "object",
         "type": "string"
        },
        {
         "name": "count",
         "rawType": "int64",
         "type": "integer"
        }
       ],
       "ref": "9e9d44b0-d8da-4489-b7db-0a3c83255796",
       "rows": [
        [
         "1",
         "10042"
        ],
        [
         "2",
         "157"
        ],
        [
         "3",
         "8"
        ],
        [
         "4",
         "4"
        ],
        [
         "7",
         "2"
        ],
        [
         "5",
         "1"
        ]
       ],
       "shape": {
        "columns": 1,
        "rows": 6
       }
      },
      "text/plain": [
       "garden\n",
       "1    10042\n",
       "2      157\n",
       "3        8\n",
       "4        4\n",
       "7        2\n",
       "5        1\n",
       "Name: count, dtype: int64"
      ]
     },
     "execution_count": 79,
     "metadata": {},
     "output_type": "execute_result"
    }
   ],
   "source": [
    "# Get the unique value counts\n",
    "results_df['garden'].value_counts()"
   ]
  },
  {
   "cell_type": "markdown",
   "id": "dbc64050",
   "metadata": {},
   "source": [
    "For the `garden` column, we calculate the median values for each property type to understand the central tendency within the dataset."
   ]
  },
  {
   "cell_type": "code",
   "execution_count": 80,
   "id": "d6eeb657",
   "metadata": {},
   "outputs": [
    {
     "name": "stdout",
     "output_type": "stream",
     "text": [
      "      property_type  median_garden\n",
      "0  Apartment / Flat            1.0\n",
      "1        Commercial            1.0\n",
      "2              Farm            1.0\n",
      "3             House            1.0\n",
      "5         Townhouse            1.0\n",
      "6       Vacant Land            1.0\n",
      "4        Industrial           <NA>\n"
     ]
    }
   ],
   "source": [
    "# Ensure that the garden column is numeric\n",
    "results_df['garden'] = pd.to_numeric(\n",
    "    results_df['garden'], errors='coerce').astype('Int64')\n",
    "\n",
    "\n",
    "# Group by property type and calculate median\n",
    "median_garden = results_df.groupby('property_type')[\n",
    "    'garden'].median().reset_index()\n",
    "\n",
    "# Rename columns for clarity\n",
    "median_garden.columns = ['property_type', 'median_garden']\n",
    "\n",
    "# Sort by median descending (optional)\n",
    "median_garden = median_garden.sort_values(\n",
    "    by='median_garden', ascending=False)\n",
    "\n",
    "print(median_garden)"
   ]
  },
  {
   "cell_type": "markdown",
   "id": "b2fc5d7b",
   "metadata": {},
   "source": [
    "The median number of gardens is consistent across all property types, except for Industrial, which has a null median—an expected outcome, as most properties are likely to include at least one garden, whereas industrial areas typically consist of warehouses, factories, or plants with minimal landscaping. Additionally, there are outliers in the dataset, with some properties reporting up to 7 gardens.\n",
    "\n",
    "To address this:\n",
    "\n",
    "- We replace the outliers with the median garden count for their respective property types, using 0 as a fallback if the median is not available.\n",
    "- Remaining null values in the garden column are then imputed using the same median-based strategy per property type, again defaulting to 0 where necessary."
   ]
  },
  {
   "cell_type": "code",
   "execution_count": 81,
   "id": "3071193c",
   "metadata": {},
   "outputs": [],
   "source": [
    "# Define threshold\n",
    "garden_threshold = 3\n",
    "\n",
    "# Identify outliers\n",
    "garden_outliers = results_df[results_df['garden'] > garden_threshold]\n",
    "\n",
    "# Compute medians and replace NaNs with 0\n",
    "garden_median = results_df[results_df['garden'] <= garden_threshold].groupby(\n",
    "    'property_type')['garden'].median().fillna(0)\n",
    "\n",
    "# Replace outlier values\n",
    "for idx, row in garden_outliers.iterrows():\n",
    "    prop_type = row['property_type']\n",
    "    median_val = garden_median.get(prop_type, 1)\n",
    "    results_df.at[idx, 'garden'] = median_val"
   ]
  },
  {
   "cell_type": "code",
   "execution_count": 82,
   "id": "ba083fc3",
   "metadata": {},
   "outputs": [],
   "source": [
    "# Fill NaN garden values with property-type median, or 0 if still missing\n",
    "def fill_missing_garden(row):\n",
    "    if pd.isna(row['garden']):\n",
    "        return garage_median.get(row['property_type'], 0)\n",
    "    return row['garden']\n",
    "\n",
    "\n",
    "# Apply the function\n",
    "results_df['garden'] = results_df.apply(fill_missing_garden, axis=1)\n",
    "\n",
    "# Convert the column to integers\n",
    "results_df['garden'] = results_df['garden'].round().astype('Int64')"
   ]
  },
  {
   "cell_type": "code",
   "execution_count": 83,
   "id": "b493bcf1",
   "metadata": {},
   "outputs": [
    {
     "data": {
      "text/plain": [
       "np.int64(0)"
      ]
     },
     "execution_count": 83,
     "metadata": {},
     "output_type": "execute_result"
    }
   ],
   "source": [
    "# Verify that there are no null values\n",
    "results_df['garden'].isnull().sum()"
   ]
  },
  {
   "cell_type": "markdown",
   "id": "7a0e264f",
   "metadata": {},
   "source": [
    "### Pool column"
   ]
  },
  {
   "cell_type": "code",
   "execution_count": 84,
   "id": "02a581ba",
   "metadata": {},
   "outputs": [
    {
     "data": {
      "text/plain": [
       "np.int64(31879)"
      ]
     },
     "execution_count": 84,
     "metadata": {},
     "output_type": "execute_result"
    }
   ],
   "source": [
    "# Get the total number of null values in the `pool` column\n",
    "results_df['pool'].isnull().sum()"
   ]
  },
  {
   "cell_type": "code",
   "execution_count": 85,
   "id": "85c6560a",
   "metadata": {},
   "outputs": [
    {
     "data": {
      "application/vnd.microsoft.datawrangler.viewer.v0+json": {
       "columns": [
        {
         "name": "pool",
         "rawType": "object",
         "type": "string"
        },
        {
         "name": "count",
         "rawType": "int64",
         "type": "integer"
        }
       ],
       "ref": "11781e43-4877-4240-b4a7-948332449631",
       "rows": [
        [
         "1",
         "5866"
        ],
        [
         "2",
         "84"
        ],
        [
         "3",
         "1"
        ]
       ],
       "shape": {
        "columns": 1,
        "rows": 3
       }
      },
      "text/plain": [
       "pool\n",
       "1    5866\n",
       "2      84\n",
       "3       1\n",
       "Name: count, dtype: int64"
      ]
     },
     "execution_count": 85,
     "metadata": {},
     "output_type": "execute_result"
    }
   ],
   "source": [
    "# Get the unique value counts\n",
    "results_df['pool'].value_counts()"
   ]
  },
  {
   "cell_type": "markdown",
   "id": "95a2f7e1",
   "metadata": {},
   "source": [
    "For the `pool` column, we calculate the median values for each property type to understand the central tendency within the dataset."
   ]
  },
  {
   "cell_type": "code",
   "execution_count": 86,
   "id": "456f274d",
   "metadata": {},
   "outputs": [
    {
     "name": "stdout",
     "output_type": "stream",
     "text": [
      "      property_type  median_pool\n",
      "0  Apartment / Flat          1.0\n",
      "1        Commercial          1.0\n",
      "2              Farm          1.0\n",
      "3             House          1.0\n",
      "5         Townhouse          1.0\n",
      "6       Vacant Land          1.0\n",
      "4        Industrial         <NA>\n"
     ]
    }
   ],
   "source": [
    "# Ensure that the pool column is numeric\n",
    "results_df['pool'] = pd.to_numeric(\n",
    "    results_df['pool'], errors='coerce').astype('Int64')\n",
    "\n",
    "\n",
    "# Group by property type and calculate median\n",
    "median_pool = results_df.groupby('property_type')[\n",
    "    'pool'].median().reset_index()\n",
    "\n",
    "# Rename columns for clarity\n",
    "median_pool.columns = ['property_type', 'median_pool']\n",
    "\n",
    "# Sort by median descending (optional)\n",
    "median_pool = median_pool.sort_values(\n",
    "    by='median_pool', ascending=False)\n",
    "\n",
    "print(median_pool)"
   ]
  },
  {
   "cell_type": "markdown",
   "id": "eaf1e832",
   "metadata": {},
   "source": [
    "The median values for the industrial property type is null, which is expected given the nature of these properties. For the missing values, we will impute zeros, as a pool is typically a prominent feature intended to attract customers—if it were present, it would likely have been explicitly listed."
   ]
  },
  {
   "cell_type": "code",
   "execution_count": 87,
   "id": "de2ee949",
   "metadata": {},
   "outputs": [],
   "source": [
    "# Impute the null values with zero\n",
    "results_df['pool'] = results_df['pool'].fillna(0)"
   ]
  },
  {
   "cell_type": "code",
   "execution_count": 88,
   "id": "78d78eef",
   "metadata": {},
   "outputs": [
    {
     "data": {
      "text/plain": [
       "np.int64(0)"
      ]
     },
     "execution_count": 88,
     "metadata": {},
     "output_type": "execute_result"
    }
   ],
   "source": [
    "# Verify that there are no null values\n",
    "results_df['pool'].isnull().sum()"
   ]
  },
  {
   "cell_type": "markdown",
   "id": "1412cefb",
   "metadata": {},
   "source": [
    "### Parking column"
   ]
  },
  {
   "cell_type": "code",
   "execution_count": 89,
   "id": "7bb91c91",
   "metadata": {},
   "outputs": [
    {
     "data": {
      "text/plain": [
       "np.int64(14311)"
      ]
     },
     "execution_count": 89,
     "metadata": {},
     "output_type": "execute_result"
    }
   ],
   "source": [
    "# Get the total number of null values in the `parking` column\n",
    "results_df['parking'].isnull().sum()"
   ]
  },
  {
   "cell_type": "code",
   "execution_count": 90,
   "id": "53cc8c65",
   "metadata": {},
   "outputs": [
    {
     "data": {
      "application/vnd.microsoft.datawrangler.viewer.v0+json": {
       "columns": [
        {
         "name": "parking",
         "rawType": "object",
         "type": "string"
        },
        {
         "name": "count",
         "rawType": "int64",
         "type": "integer"
        }
       ],
       "ref": "c4a0f0f4-263e-4304-8206-2fbacf67a850",
       "rows": [
        [
         "1",
         "10041"
        ],
        [
         "2",
         "6470"
        ],
        [
         "4",
         "2086"
        ],
        [
         "3",
         "1567"
        ],
        [
         "6",
         "929"
        ],
        [
         "5",
         "681"
        ],
        [
         "8",
         "411"
        ],
        [
         "10",
         "401"
        ],
        [
         "7",
         "190"
        ],
        [
         "12",
         "99"
        ],
        [
         "20",
         "90"
        ],
        [
         "9",
         "83"
        ],
        [
         "15",
         "74"
        ],
        [
         "14",
         "62"
        ],
        [
         "11",
         "51"
        ],
        [
         "16",
         "30"
        ],
        [
         "13",
         "26"
        ],
        [
         "18",
         "24"
        ],
        [
         "30",
         "23"
        ],
        [
         "25",
         "20"
        ],
        [
         "40",
         "17"
        ],
        [
         "50",
         "11"
        ],
        [
         "28",
         "9"
        ],
        [
         "17",
         "9"
        ],
        [
         "21",
         "7"
        ],
        [
         "22",
         "7"
        ],
        [
         "36",
         "6"
        ],
        [
         "19",
         "6"
        ],
        [
         "35",
         "6"
        ],
        [
         "47",
         "6"
        ],
        [
         "27",
         "5"
        ],
        [
         "34",
         "5"
        ],
        [
         "150",
         "3"
        ],
        [
         "60",
         "3"
        ],
        [
         "23",
         "3"
        ],
        [
         "46",
         "3"
        ],
        [
         "62",
         "2"
        ],
        [
         "24",
         "2"
        ],
        [
         "29",
         "2"
        ],
        [
         "75",
         "2"
        ],
        [
         "67",
         "2"
        ],
        [
         "38",
         "2"
        ],
        [
         "26",
         "2"
        ],
        [
         "45",
         "2"
        ],
        [
         "41",
         "2"
        ],
        [
         "33",
         "2"
        ],
        [
         "48",
         "2"
        ],
        [
         "43",
         "2"
        ],
        [
         "135",
         "2"
        ],
        [
         "37",
         "2"
        ]
       ],
       "shape": {
        "columns": 1,
        "rows": 75
       }
      },
      "text/plain": [
       "parking\n",
       "1      10041\n",
       "2       6470\n",
       "4       2086\n",
       "3       1567\n",
       "6        929\n",
       "       ...  \n",
       "58         1\n",
       "233        1\n",
       "51         1\n",
       "196        1\n",
       "31         1\n",
       "Name: count, Length: 75, dtype: int64"
      ]
     },
     "execution_count": 90,
     "metadata": {},
     "output_type": "execute_result"
    }
   ],
   "source": [
    "# Get the unique value count\n",
    "results_df['parking'].value_counts()"
   ]
  },
  {
   "cell_type": "markdown",
   "id": "74c639e8",
   "metadata": {},
   "source": [
    "For the `parking` column, we calculate the median values for each property type to understand the central tendency within the dataset."
   ]
  },
  {
   "cell_type": "code",
   "execution_count": 91,
   "id": "3ae1e465",
   "metadata": {},
   "outputs": [
    {
     "name": "stdout",
     "output_type": "stream",
     "text": [
      "      property_type  median_parking\n",
      "4        Industrial            10.0\n",
      "1        Commercial             8.0\n",
      "2              Farm             4.0\n",
      "6       Vacant Land             2.0\n",
      "3             House             2.0\n",
      "0  Apartment / Flat             1.0\n",
      "5         Townhouse             1.0\n"
     ]
    }
   ],
   "source": [
    "# Ensure that the parking column is numeric\n",
    "results_df['parking'] = pd.to_numeric(\n",
    "    results_df['parking'], errors='coerce').astype('Int64')\n",
    "\n",
    "\n",
    "# Group by property type and calculate median\n",
    "median_parking = results_df.groupby('property_type')[\n",
    "    'parking'].median().reset_index()\n",
    "\n",
    "# Rename columns for clarity\n",
    "median_parking.columns = ['property_type', 'median_parking']\n",
    "\n",
    "# Sort by median descending (optional)\n",
    "median_parking = median_parking.sort_values(\n",
    "    by='median_parking', ascending=False)\n",
    "\n",
    "print(median_parking)"
   ]
  },
  {
   "cell_type": "markdown",
   "id": "c96bca6c",
   "metadata": {},
   "source": [
    "There are also outliers in the dataset, with the maximum number of parking reaching 300. The median values also support this observation, with the median value of the industrial type being 10, which is very high. \n",
    "\n",
    "To address this, we replace the outliers with the median parking value for each property type, defaulting to zero if the median is unavailable. \n",
    "\n",
    "For the remaining null values, we impute the parking column using the median value for the respective property type, defaulting to 0 again if the median is unavailable."
   ]
  },
  {
   "cell_type": "code",
   "execution_count": 92,
   "id": "c54950f4",
   "metadata": {},
   "outputs": [],
   "source": [
    "# Define the threshold\n",
    "parking_threshold = 5\n",
    "\n",
    "# Identify outliers\n",
    "parking_outliers = results_df[results_df['parking'] > parking_threshold]\n",
    "\n",
    "# Compute medians and replace NaNs with 0\n",
    "parking_median = results_df[results_df['parking'] <= parking_threshold].groupby(\n",
    "    'property_type')['parking'].median().fillna(0)\n",
    "\n",
    "# Replace outlier values\n",
    "for idx, row in parking_outliers.iterrows():\n",
    "    prop_type = row['property_type']\n",
    "    median_val = parking_median.get(prop_type, 1)\n",
    "    results_df.at[idx, 'parking'] = median_val"
   ]
  },
  {
   "cell_type": "code",
   "execution_count": 93,
   "id": "19ea2201",
   "metadata": {},
   "outputs": [],
   "source": [
    "# Fill NaN parking values with property-type median, or 0 if still missing\n",
    "def fill_missing_parking(row):\n",
    "    if pd.isna(row['parking']):\n",
    "        return garage_median.get(row['property_type'], 0)\n",
    "    return row['parking']\n",
    "\n",
    "\n",
    "# Apply the function\n",
    "results_df['parking'] = results_df.apply(fill_missing_parking, axis=1)\n",
    "\n",
    "# Convert the column to integer type\n",
    "results_df['parking'] = results_df['parking'].round().astype('Int64')"
   ]
  },
  {
   "cell_type": "code",
   "execution_count": 94,
   "id": "8e7c1711",
   "metadata": {},
   "outputs": [
    {
     "data": {
      "text/plain": [
       "np.int64(0)"
      ]
     },
     "execution_count": 94,
     "metadata": {},
     "output_type": "execute_result"
    }
   ],
   "source": [
    "# Verify that null values are not present anymore.\n",
    "results_df['parking'].isnull().sum()"
   ]
  },
  {
   "cell_type": "markdown",
   "id": "25c3888c",
   "metadata": {},
   "source": [
    "### Backup Water column"
   ]
  },
  {
   "cell_type": "code",
   "execution_count": 95,
   "id": "a34b3add",
   "metadata": {},
   "outputs": [
    {
     "data": {
      "text/plain": [
       "np.int64(32892)"
      ]
     },
     "execution_count": 95,
     "metadata": {},
     "output_type": "execute_result"
    }
   ],
   "source": [
    "# Get the total number of null values in the `backup_water` column\n",
    "results_df['backup_water'].isnull().sum()"
   ]
  },
  {
   "cell_type": "code",
   "execution_count": 96,
   "id": "6631d31d",
   "metadata": {},
   "outputs": [
    {
     "data": {
      "application/vnd.microsoft.datawrangler.viewer.v0+json": {
       "columns": [
        {
         "name": "backup_water",
         "rawType": "object",
         "type": "string"
        },
        {
         "name": "count",
         "rawType": "int64",
         "type": "integer"
        }
       ],
       "ref": "141b702d-ee86-4f71-ac4a-df2b7ab62348",
       "rows": [
        [
         "No",
         "3203"
        ],
        [
         "Yes",
         "1735"
        ]
       ],
       "shape": {
        "columns": 1,
        "rows": 2
       }
      },
      "text/plain": [
       "backup_water\n",
       "No     3203\n",
       "Yes    1735\n",
       "Name: count, dtype: int64"
      ]
     },
     "execution_count": 96,
     "metadata": {},
     "output_type": "execute_result"
    }
   ],
   "source": [
    "# Get the unique value counts\n",
    "results_df['backup_water'].value_counts()"
   ]
  },
  {
   "cell_type": "markdown",
   "id": "79fd1cf6",
   "metadata": {},
   "source": [
    "We will calculate the mode of the `backup_water` column for each property type to determine the most common backup water availability status associated with each major property category."
   ]
  },
  {
   "cell_type": "code",
   "execution_count": 97,
   "id": "849e04af",
   "metadata": {},
   "outputs": [
    {
     "name": "stdout",
     "output_type": "stream",
     "text": [
      "property_type\n",
      "Apartment / Flat     No\n",
      "Commercial          Yes\n",
      "Farm                Yes\n",
      "House                No\n",
      "Industrial           No\n",
      "Townhouse            No\n",
      "Vacant Land          No\n",
      "Name: backup_water, dtype: object\n"
     ]
    }
   ],
   "source": [
    "# Calculate mode for each property type for the furnished column\n",
    "backup_water_mode = results_df.groupby('property_type')['backup_water'].agg(\n",
    "    lambda x: x.mode().iloc[0] if not x.mode().empty else pd.NA\n",
    ")\n",
    "\n",
    "# Print results\n",
    "print(backup_water_mode)"
   ]
  },
  {
   "cell_type": "markdown",
   "id": "01a5929c",
   "metadata": {},
   "source": [
    "To maintain data consistency, we will fill in the null values in the `backup_water` column with *\"Unknown\"*."
   ]
  },
  {
   "cell_type": "code",
   "execution_count": 98,
   "id": "487e5d7c",
   "metadata": {},
   "outputs": [],
   "source": [
    "# Impute null values with \"Unknown\"\n",
    "results_df['backup_water'] = results_df['backup_water'].fillna('Unknown')"
   ]
  },
  {
   "cell_type": "code",
   "execution_count": 99,
   "id": "b2de018b",
   "metadata": {},
   "outputs": [
    {
     "data": {
      "text/plain": [
       "np.int64(0)"
      ]
     },
     "execution_count": 99,
     "metadata": {},
     "output_type": "execute_result"
    }
   ],
   "source": [
    "# Verify no null values exist\n",
    "results_df['backup_water'].isnull().sum()"
   ]
  },
  {
   "cell_type": "markdown",
   "id": "09762450",
   "metadata": {},
   "source": [
    "### Floor Area column"
   ]
  },
  {
   "cell_type": "code",
   "execution_count": 100,
   "id": "abda4ffe",
   "metadata": {},
   "outputs": [
    {
     "data": {
      "text/plain": [
       "np.int64(19915)"
      ]
     },
     "execution_count": 100,
     "metadata": {},
     "output_type": "execute_result"
    }
   ],
   "source": [
    "# Get the total number of null values in the `floor_area column\n",
    "results_df['floor_area (m²)'].isnull().sum()"
   ]
  },
  {
   "cell_type": "code",
   "execution_count": 101,
   "id": "80b8376b",
   "metadata": {},
   "outputs": [
    {
     "data": {
      "application/vnd.microsoft.datawrangler.viewer.v0+json": {
       "columns": [
        {
         "name": "floor_area (m²)",
         "rawType": "object",
         "type": "string"
        },
        {
         "name": "count",
         "rawType": "int64",
         "type": "integer"
        }
       ],
       "ref": "6a9dd82f-8a9c-4ebb-b64f-07c2a026ee61",
       "rows": [
        [
         "48",
         "237"
        ],
        [
         "60",
         "192"
        ],
        [
         "300",
         "177"
        ],
        [
         "70",
         "169"
        ],
        [
         "400",
         "158"
        ],
        [
         "200",
         "157"
        ],
        [
         "62",
         "153"
        ],
        [
         "80",
         "151"
        ],
        [
         "65",
         "148"
        ],
        [
         "100",
         "145"
        ],
        [
         "68",
         "143"
        ],
        [
         "55",
         "142"
        ],
        [
         "82",
         "141"
        ],
        [
         "76",
         "140"
        ],
        [
         "71",
         "140"
        ],
        [
         "90",
         "134"
        ],
        [
         "77",
         "131"
        ],
        [
         "53",
         "127"
        ],
        [
         "50",
         "124"
        ],
        [
         "85",
         "121"
        ],
        [
         "88",
         "120"
        ],
        [
         "57",
         "120"
        ],
        [
         "250",
         "120"
        ],
        [
         "102",
         "120"
        ],
        [
         "67",
         "119"
        ],
        [
         "64",
         "118"
        ],
        [
         "58",
         "117"
        ],
        [
         "79",
         "117"
        ],
        [
         "66",
         "116"
        ],
        [
         "86",
         "116"
        ],
        [
         "74",
         "113"
        ],
        [
         "59",
         "112"
        ],
        [
         "61",
         "111"
        ],
        [
         "45",
         "111"
        ],
        [
         "32",
         "110"
        ],
        [
         "51",
         "110"
        ],
        [
         "150",
         "108"
        ],
        [
         "350",
         "108"
        ],
        [
         "73",
         "106"
        ],
        [
         "220",
         "104"
        ],
        [
         "63",
         "104"
        ],
        [
         "47",
         "103"
        ],
        [
         "78",
         "102"
        ],
        [
         "120",
         "101"
        ],
        [
         "500",
         "101"
        ],
        [
         "72",
         "100"
        ],
        [
         "83",
         "99"
        ],
        [
         "110",
         "96"
        ],
        [
         "54",
         "96"
        ],
        [
         "43",
         "96"
        ]
       ],
       "shape": {
        "columns": 1,
        "rows": 849
       }
      },
      "text/plain": [
       "floor_area (m²)\n",
       "48     237\n",
       "60     192\n",
       "300    177\n",
       "70     169\n",
       "400    158\n",
       "      ... \n",
       "657      1\n",
       "866      1\n",
       "569      1\n",
       "2        1\n",
       "617      1\n",
       "Name: count, Length: 849, dtype: int64"
      ]
     },
     "execution_count": 101,
     "metadata": {},
     "output_type": "execute_result"
    }
   ],
   "source": [
    "# Get the unique value counts\n",
    "results_df['floor_area (m²)'].value_counts()"
   ]
  },
  {
   "cell_type": "markdown",
   "id": "aecb32f9",
   "metadata": {},
   "source": [
    "The `floor_area` column contains extremely small values, starting from as low as 1 m², which are considered outliers since no property is realistically that small. To address this, we treat all values less than 50 m² as missing and replace them using the median floor area, grouped by property_type, suburb, and a newly created `price_bin` column that categorizes properties into price ranges.\n",
    "\n",
    "Any remaining missing values are then filled with the overall median floor area across all rows."
   ]
  },
  {
   "cell_type": "code",
   "execution_count": 102,
   "id": "fcef963f",
   "metadata": {},
   "outputs": [],
   "source": [
    "# Convert floor area column to numeric\n",
    "results_df['floor_area (m²)'] = pd.to_numeric(\n",
    "    results_df['floor_area (m²)'], errors='coerce').astype('Int64')\n",
    "\n",
    "\n",
    "# Create price bins to help group properties by price range\n",
    "results_df['price_bin'] = pd.qcut(\n",
    "    results_df['price (ZAR)'], q=4, duplicates='drop')\n",
    "\n",
    "\n",
    "# Treat extremely small floor areas (<50 m²) as missing values\n",
    "results_df.loc[results_df['floor_area (m²)'] < 50, 'floor_area (m²)'] = pd.NA\n",
    "\n",
    "\n",
    "# Calculate grouped median floor area for similar properties\n",
    "group_means = results_df.groupby(\n",
    "    ['property_type', 'suburb', 'price_bin']\n",
    ")['floor_area (m²)'].mean()\n",
    "\n",
    "\n",
    "# Function to replace missing floor area with grouped median\n",
    "def replace_with_group_mean(row):\n",
    "    if pd.isna(row['floor_area (m²)']):\n",
    "        try:\n",
    "            return group_means.loc[\n",
    "                (row['property_type'],\n",
    "                 row['suburb'], row['price_bin'])\n",
    "            ]\n",
    "        except KeyError:\n",
    "            return np.nan\n",
    "    else:\n",
    "        return row['floor_area (m²)']\n",
    "\n",
    "\n",
    "# Apply the replacement\n",
    "results_df['floor_area (m²)'] = results_df.apply(\n",
    "    replace_with_group_mean, axis=1)"
   ]
  },
  {
   "cell_type": "code",
   "execution_count": 103,
   "id": "46fdd965",
   "metadata": {},
   "outputs": [],
   "source": [
    "# Fill in remaining null values with the median across all rows\n",
    "results_df['floor_area (m²)'].fillna(\n",
    "    results_df['floor_area (m²)'].median(), inplace=True\n",
    ")"
   ]
  },
  {
   "cell_type": "code",
   "execution_count": 104,
   "id": "baa2d3b0",
   "metadata": {},
   "outputs": [
    {
     "data": {
      "text/plain": [
       "np.int64(0)"
      ]
     },
     "execution_count": 104,
     "metadata": {},
     "output_type": "execute_result"
    }
   ],
   "source": [
    "# Verify that null values do not exist\n",
    "results_df['floor_area (m²)'].isnull().sum()"
   ]
  },
  {
   "cell_type": "markdown",
   "id": "21b18986",
   "metadata": {},
   "source": [
    "### Erf Size column"
   ]
  },
  {
   "cell_type": "code",
   "execution_count": 105,
   "id": "e1974dae",
   "metadata": {},
   "outputs": [
    {
     "data": {
      "text/plain": [
       "np.int64(24065)"
      ]
     },
     "execution_count": 105,
     "metadata": {},
     "output_type": "execute_result"
    }
   ],
   "source": [
    "# Get the total number of null values in the `erf_size` column\n",
    "results_df['erf_size (m²)'].isnull().sum()"
   ]
  },
  {
   "cell_type": "code",
   "execution_count": 106,
   "id": "3b106d92",
   "metadata": {},
   "outputs": [
    {
     "data": {
      "application/vnd.microsoft.datawrangler.viewer.v0+json": {
       "columns": [
        {
         "name": "erf_size (m²)",
         "rawType": "object",
         "type": "string"
        },
        {
         "name": "count",
         "rawType": "int64",
         "type": "integer"
        }
       ],
       "ref": "e3ee8144-4f4d-483c-90e7-12c96f73979e",
       "rows": [
        [
         "495",
         "747"
        ],
        [
         "496",
         "315"
        ],
        [
         "990",
         "183"
        ],
        [
         "400",
         "167"
        ],
        [
         "600",
         "142"
        ],
        [
         "300",
         "139"
        ],
        [
         "991",
         "133"
        ],
        [
         "450",
         "132"
        ],
        [
         "350",
         "95"
        ],
        [
         "500",
         "94"
        ],
        [
         "248",
         "78"
        ],
        [
         "372",
         "78"
        ],
        [
         "595",
         "70"
        ],
        [
         "330",
         "63"
        ],
        [
         "833",
         "56"
        ],
        [
         "250",
         "53"
        ],
        [
         "800",
         "51"
        ],
        [
         "200",
         "50"
        ],
        [
         "497",
         "49"
        ],
        [
         "992",
         "49"
        ],
        [
         "375",
         "48"
        ],
        [
         "744",
         "47"
        ],
        [
         "900",
         "44"
        ],
        [
         "150",
         "44"
        ],
        [
         "371",
         "43"
        ],
        [
         "446",
         "41"
        ],
        [
         "480",
         "40"
        ],
        [
         "180",
         "40"
        ],
        [
         "420",
         "39"
        ],
        [
         "700",
         "39"
        ],
        [
         "280",
         "39"
        ],
        [
         "714",
         "38"
        ],
        [
         "515",
         "36"
        ],
        [
         "704",
         "35"
        ],
        [
         "518",
         "35"
        ],
        [
         "743",
         "35"
        ],
        [
         "90",
         "35"
        ],
        [
         "260",
         "34"
        ],
        [
         "325",
         "34"
        ],
        [
         "470",
         "33"
        ],
        [
         "520",
         "33"
        ],
        [
         "995",
         "33"
        ],
        [
         "101",
         "32"
        ],
        [
         "322",
         "32"
        ],
        [
         "435",
         "32"
        ],
        [
         "70",
         "32"
        ],
        [
         "262",
         "32"
        ],
        [
         "471",
         "31"
        ],
        [
         "67",
         "31"
        ],
        [
         "498",
         "31"
        ]
       ],
       "shape": {
        "columns": 1,
        "rows": 987
       }
      },
      "text/plain": [
       "erf_size (m²)\n",
       "495    747\n",
       "496    315\n",
       "990    183\n",
       "400    167\n",
       "600    142\n",
       "      ... \n",
       "131      1\n",
       "192      1\n",
       "857      1\n",
       "16       1\n",
       "921      1\n",
       "Name: count, Length: 987, dtype: int64"
      ]
     },
     "execution_count": 106,
     "metadata": {},
     "output_type": "execute_result"
    }
   ],
   "source": [
    "# Get the unique value counts\n",
    "results_df['erf_size (m²)'].value_counts()"
   ]
  },
  {
   "cell_type": "markdown",
   "id": "5618bca5",
   "metadata": {},
   "source": [
    "The `erf_size` column contains extremely small values, starting from as low as 1 m², which are considered outliers since no property is realistically that small. To address this, we treat all values less than 50 m² as missing and replace them using the median erf size, grouped by property_type, suburb, and a newly created `price_bin` column that categorizes properties into price ranges.\n",
    "\n",
    "Any remaining missing values are then filled with the overall median floor area across all rows."
   ]
  },
  {
   "cell_type": "code",
   "execution_count": 107,
   "id": "d9618f80",
   "metadata": {},
   "outputs": [],
   "source": [
    "# Convert floor area column to numeric\n",
    "results_df['erf_size (m²)'] = pd.to_numeric(\n",
    "    results_df['erf_size (m²)'], errors='coerce').astype('Int64')\n",
    "\n",
    "\n",
    "# Create price bins to help group properties by price range\n",
    "results_df['price_bin'] = pd.qcut(\n",
    "    results_df['price (ZAR)'], q=4, duplicates='drop')\n",
    "\n",
    "\n",
    "# Treat extremely small floor areas (<50 m²) as missing values\n",
    "results_df.loc[results_df['erf_size (m²)'] < 50, 'erf_size (m²)'] = pd.NA\n",
    "\n",
    "\n",
    "# Calculate grouped median floor area for similar properties\n",
    "group_means = results_df.groupby(\n",
    "    ['property_type', 'suburb', 'price_bin']\n",
    ")['erf_size (m²)'].mean()\n",
    "\n",
    "\n",
    "# Function to replace missing floor area with grouped median\n",
    "def replace_with_group_mean(row):\n",
    "    if pd.isna(row['erf_size (m²)']):\n",
    "        try:\n",
    "            return group_means.loc[\n",
    "                (row['property_type'],\n",
    "                 row['suburb'], row['price_bin'])\n",
    "            ]\n",
    "        except KeyError:\n",
    "            return np.nan\n",
    "    else:\n",
    "        return row['erf_size (m²)']\n",
    "\n",
    "\n",
    "# Apply the replacement\n",
    "results_df['erf_size (m²)'] = results_df.apply(\n",
    "    replace_with_group_mean, axis=1)"
   ]
  },
  {
   "cell_type": "code",
   "execution_count": 108,
   "id": "f4bf9569",
   "metadata": {},
   "outputs": [],
   "source": [
    "# Fill in remaining null values with the median across all rows\n",
    "results_df['erf_size (m²)'].fillna(\n",
    "    results_df['erf_size (m²)'].median(), inplace=True\n",
    ")"
   ]
  },
  {
   "cell_type": "code",
   "execution_count": 109,
   "id": "65944258",
   "metadata": {},
   "outputs": [
    {
     "data": {
      "text/plain": [
       "np.int64(0)"
      ]
     },
     "execution_count": 109,
     "metadata": {},
     "output_type": "execute_result"
    }
   ],
   "source": [
    "# Verify that no null values exist\n",
    "results_df['erf_size (m²)'].isnull().sum()"
   ]
  },
  {
   "cell_type": "code",
   "execution_count": 110,
   "id": "ad3e872a",
   "metadata": {},
   "outputs": [],
   "source": [
    "# Drop price_bin as we do not need it anymore\n",
    "results_df.drop(columns=['price_bin'], inplace=True)"
   ]
  },
  {
   "cell_type": "code",
   "execution_count": 111,
   "id": "f0d84a42",
   "metadata": {},
   "outputs": [
    {
     "name": "stdout",
     "output_type": "stream",
     "text": [
      "<class 'pandas.core.frame.DataFrame'>\n",
      "Index: 37830 entries, 0 to 37870\n",
      "Data columns (total 20 columns):\n",
      " #   Column           Non-Null Count  Dtype  \n",
      "---  ------           --------------  -----  \n",
      " 0   listing_number   37830 non-null  object \n",
      " 1   property_type    37830 non-null  object \n",
      " 2   furnished        37830 non-null  object \n",
      " 3   pets_allowed     37830 non-null  object \n",
      " 4   backup_water     37830 non-null  object \n",
      " 5   bedrooms         37830 non-null  Int64  \n",
      " 6   bathrooms        37830 non-null  Int64  \n",
      " 7   kitchen          37830 non-null  Int64  \n",
      " 8   lounge           37830 non-null  Int64  \n",
      " 9   dining_room      37830 non-null  Int64  \n",
      " 10  parking          37830 non-null  Int64  \n",
      " 11  garden           37830 non-null  Int64  \n",
      " 12  pool             37830 non-null  Int64  \n",
      " 13  garage           37830 non-null  Int64  \n",
      " 14  erf_size (m²)    37830 non-null  float64\n",
      " 15  floor_area (m²)  37830 non-null  float64\n",
      " 16  suburb           37830 non-null  object \n",
      " 17  city             37830 non-null  object \n",
      " 18  province         37830 non-null  object \n",
      " 19  price (ZAR)      37830 non-null  float64\n",
      "dtypes: Int64(9), float64(3), object(8)\n",
      "memory usage: 7.4+ MB\n"
     ]
    }
   ],
   "source": [
    "# Print a summary of the cleaned dataset\n",
    "results_df.info()"
   ]
  },
  {
   "cell_type": "markdown",
   "id": "56b62547",
   "metadata": {},
   "source": [
    "## 4. Save the transformed data\n",
    "[Back to Table of Contents](#table-of-contents)\n",
    "\n",
    "---\n",
    "\n",
    "| ⚡ Description: Storing our pre-processed data ⚡ |\n",
    "| :--------------------------- |\n",
    "\n",
    "---"
   ]
  },
  {
   "cell_type": "code",
   "execution_count": 112,
   "id": "cd65e7b7",
   "metadata": {},
   "outputs": [],
   "source": [
    "# Define the file path\n",
    "save_path = (\"../data/processed/cleaned_listings_for_sale.csv\")\n",
    "\n",
    "# Save to CSV\n",
    "results_df.to_csv(save_path, index=False)"
   ]
  }
 ],
 "metadata": {
  "kernelspec": {
   "display_name": ".venv",
   "language": "python",
   "name": "python3"
  },
  "language_info": {
   "codemirror_mode": {
    "name": "ipython",
    "version": 3
   },
   "file_extension": ".py",
   "mimetype": "text/x-python",
   "name": "python",
   "nbconvert_exporter": "python",
   "pygments_lexer": "ipython3",
   "version": "3.13.1"
  }
 },
 "nbformat": 4,
 "nbformat_minor": 5
}

{
 "cells": [
  {
   "cell_type": "markdown",
   "id": "15598fec",
   "metadata": {},
   "source": [
    "# <center> 🧽 Data Cleaning Part 2 </center>"
   ]
  },
  {
   "cell_type": "markdown",
   "id": "53c8c6a1",
   "metadata": {},
   "source": [
    "## Table of Contents\n",
    "\n",
    "- [1. Introduction](#1-introduction)\n",
    "- [2. Loading Data](#2-loading-data)"
   ]
  },
  {
   "cell_type": "markdown",
   "id": "471639f4",
   "metadata": {},
   "source": [
    "## 1. Introduction\n",
    "[Back to Table of Contents](#table-of-contents)\n",
    "\n",
    "---\n",
    "\n",
    "| ⚡ Description: Introducing the project ⚡ |\n",
    "| :--------------------------- |\n",
    "\n",
    "---"
   ]
  },
  {
   "cell_type": "markdown",
   "id": "217f417d",
   "metadata": {},
   "source": [
    "<a id=\"two\"></a>\n",
    "## 2. Loading Data\n",
    "<a href=#cont>Back to Table of Contents</a>\n",
    "\n",
    "---\n",
    "    \n",
    "| ⚡ Description: Loading the data in our environment ⚡ |\n",
    "| :--------------------------- |\n",
    "\n",
    "---"
   ]
  },
  {
   "cell_type": "markdown",
   "id": "46a18145",
   "metadata": {},
   "source": [
    "### Import packages"
   ]
  },
  {
   "cell_type": "code",
   "execution_count": 1,
   "id": "0d5fc26d",
   "metadata": {},
   "outputs": [],
   "source": [
    "# Import packages\n",
    "import re\n",
    "\n",
    "import numpy as np\n",
    "import pandas as pd"
   ]
  },
  {
   "cell_type": "code",
   "execution_count": null,
   "id": "ff5a3749",
   "metadata": {},
   "outputs": [],
   "source": [
    "listings_for_sale = pd.read_csv(\"../data/raw/listings_for_sale_in_capital_cities.csv\")\n",
    "display(\"Listings for sale\", listings_for_sale.head(), listings_for_sale.shape)"
   ]
  },
  {
   "cell_type": "code",
   "execution_count": null,
   "id": "b129cb31",
   "metadata": {},
   "outputs": [],
   "source": [
    "# Get information about the listings_for_sale document\n",
    "listings_for_sale.info()"
   ]
  },
  {
   "cell_type": "code",
   "execution_count": null,
   "id": "7defe869",
   "metadata": {},
   "outputs": [],
   "source": [
    "# See the number of null values in each column\n",
    "listings_for_sale.isnull().sum()"
   ]
  },
  {
   "cell_type": "code",
   "execution_count": null,
   "id": "5a76f190",
   "metadata": {},
   "outputs": [],
   "source": [
    "# Drop listings where the property_title is null\n",
    "listings_for_sale = listings_for_sale.dropna(subset=['property_title']).reset_index(drop=True)"
   ]
  },
  {
   "cell_type": "code",
   "execution_count": null,
   "id": "a8b02100",
   "metadata": {},
   "outputs": [],
   "source": [
    "listings_for_sale_duplicates = listings_for_sale[listings_for_sale.duplicated()]\n",
    "num_listings_for_sale_duplicates = len(listings_for_sale_duplicates)\n",
    "print(f\"There are {num_listings_for_sale_duplicates} duplicates in the listings_for_sale dataset \")"
   ]
  },
  {
   "cell_type": "code",
   "execution_count": null,
   "id": "ae36ef66",
   "metadata": {},
   "outputs": [],
   "source": [
    "# Drop duplicate rows and keep the first occurrence\n",
    "listings_for_sale = listings_for_sale.drop_duplicates().reset_index(drop=True)"
   ]
  },
  {
   "cell_type": "code",
   "execution_count": null,
   "id": "59dc2f9e",
   "metadata": {},
   "outputs": [],
   "source": [
    "listings_for_sale['price_cleaned'] = listings_for_sale['price'].str.extract(\n",
    "    r'(R\\s?\\d[\\d\\s]*)')\n",
    "\n",
    "listings_for_sale['price_cleaned'] = listings_for_sale['price_cleaned'].str.replace(\n",
    "    r'\\s+', '', regex=True)\n",
    "\n",
    "listings_for_sale['price (in rands)'] = listings_for_sale['price_cleaned'].str.extract(\n",
    "    r'R?(\\d+)', expand=False)\n",
    "\n",
    "# Print out the first five rows to see the results\n",
    "listings_for_sale.head()"
   ]
  },
  {
   "cell_type": "code",
   "execution_count": null,
   "id": "a7ddb938",
   "metadata": {},
   "outputs": [],
   "source": [
    "# Extract the location from the listing_slug column\n",
    "listings_for_sale['suburb'] = listings_for_sale['property_title'].str.extract(\n",
    "    r'for Sale in (.+)', expand=False)\n",
    "\n",
    "# Remove the trailing numbers from the suburb column\n",
    "listings_for_sale['suburb'] = (\n",
    "    listings_for_sale['suburb'].str.replace(r'-\\d+$', '', regex=True).str.strip())\n",
    "\n",
    "# Print the first five rows of the table to see the results\n",
    "listings_for_sale.head()"
   ]
  },
  {
   "cell_type": "code",
   "execution_count": null,
   "id": "1115480f",
   "metadata": {},
   "outputs": [],
   "source": [
    "def extract_city_from_location(location, city_list):\n",
    "    if pd.isna(location):\n",
    "        return None\n",
    "    \n",
    "    \n",
    "    location_lower = location.lower()\n",
    "    for city in city_list:\n",
    "        if city.lower() in location_lower:\n",
    "            return city\n",
    "    return None"
   ]
  },
  {
   "cell_type": "code",
   "execution_count": null,
   "id": "5632c46c",
   "metadata": {},
   "outputs": [],
   "source": [
    "# Apply the extract_city_from_location function to extract the function\n",
    "listings_for_sale['city'] = listings_for_sale['location'].apply(\n",
    "    lambda loc: extract_city_from_location(loc, city_list))"
   ]
  },
  {
   "cell_type": "code",
   "execution_count": null,
   "id": "e146af4d",
   "metadata": {},
   "outputs": [],
   "source": [
    "listings_for_sale['city'].isnull().sum()"
   ]
  },
  {
   "cell_type": "code",
   "execution_count": null,
   "id": "168a5deb",
   "metadata": {},
   "outputs": [],
   "source": [
    "# Create a mapping of suburb to kmown cities\n",
    "suburb_to_city_map = listings_for_sale[listings_for_sale['city'].notna()].drop_duplicates(\n",
    "    subset=['suburb', 'city']).set_index('suburb')['city'].to_dict()\n",
    "\n",
    "# Fill missing city values based on the suburb\n",
    "listings_for_sale['city'] = listings_for_sale.apply(lambda row: suburb_to_city_map.get(\n",
    "    row['suburb'], row['city']) if pd.isna(row['city']) else row['city'], axis=1)"
   ]
  },
  {
   "cell_type": "code",
   "execution_count": null,
   "id": "472e63b7",
   "metadata": {},
   "outputs": [],
   "source": [
    "# See the number of unique values in the city column\n",
    "listings_for_sale['city'].value_counts()"
   ]
  },
  {
   "cell_type": "code",
   "execution_count": null,
   "id": "b9ae5d3b",
   "metadata": {},
   "outputs": [],
   "source": [
    "listings_for_sale.isnull().sum()"
   ]
  },
  {
   "cell_type": "code",
   "execution_count": null,
   "id": "23d400ae",
   "metadata": {},
   "outputs": [],
   "source": [
    "# Drop the rows where the city_column is empty\n",
    "listings_for_sale = listings_for_sale.dropna(subset=['city'])"
   ]
  },
  {
   "cell_type": "code",
   "execution_count": null,
   "id": "0479d38a",
   "metadata": {},
   "outputs": [],
   "source": [
    "# Merge to get the matching province for the listings\n",
    "listings_for_sale = listings_for_sale.merge(city_province, on='city', how='left')"
   ]
  },
  {
   "cell_type": "code",
   "execution_count": null,
   "id": "b57c7b6d",
   "metadata": {},
   "outputs": [],
   "source": [
    "poa_mask = listings_for_sale['price'].astype(\n",
    "    str).str.contains(\"POA\", case=False, na=False)\n",
    "num_poa = poa_mask.sum()\n",
    "\n",
    "print(f\"There are {num_poa} listings with 'POA' in the price column.\")"
   ]
  }
 ],
 "metadata": {
  "kernelspec": {
   "display_name": ".venv",
   "language": "python",
   "name": "python3"
  },
  "language_info": {
   "codemirror_mode": {
    "name": "ipython",
    "version": 3
   },
   "file_extension": ".py",
   "mimetype": "text/x-python",
   "name": "python",
   "nbconvert_exporter": "python",
   "pygments_lexer": "ipython3",
   "version": "3.13.1"
  }
 },
 "nbformat": 4,
 "nbformat_minor": 5
}

{
 "cells": [
  {
   "cell_type": "markdown",
   "id": "1feaf872",
   "metadata": {},
   "source": [
    "# <center> 🧽 Data Cleaning Part 1 </center>"
   ]
  },
  {
   "cell_type": "markdown",
   "id": "42a4d6bf",
   "metadata": {},
   "source": [
    "## Table of Contents\n",
    "\n",
    "- [1. Introduction](#1-introduction)\n",
    "- [2. Loading Data](#2-loading-data)\n",
    "- [3. Exploratory Data Analysis](#3-exploratory-data-analysis)\n",
    "- [4. Save the transformed data](#4-save-the-transformed-data)"
   ]
  },
  {
   "cell_type": "markdown",
   "id": "acdffd07",
   "metadata": {},
   "source": [
    "## 1. Introduction\n",
    "[Back to Table of Contents](#table-of-contents)\n",
    "\n",
    "---\n",
    "\n",
    "| ⚡ Description: Introducing the project ⚡ |\n",
    "| :--------------------------- |\n",
    "\n",
    "---"
   ]
  },
  {
   "cell_type": "markdown",
   "id": "cf9beb8e",
   "metadata": {},
   "source": [
    "The South African property market is as diverse as its nine provinces, which each capital city offering a distinctive combination of lifestyle, econonomic activity, and real estate dynamics. In this project, we focus on analyzing property listings across South Africa's provincial capitals to uncover trends, identify investment opportunites, and evaluate affordability across regions.\n",
    "\n",
    "Real estate decisions, whether to buy, rent or invest rely heavily on accurate, data-driven insights. This notebook is part of a broader project aimed at equipping investors, analysts, and policy makers with a clearer view of the current landscape. By leveraging web-scraped data from online property listings, we examine key features such as property types, pricing, location, and amenities. \n",
    "\n",
    "Through careful data cleaning, exploratory data analysis, and visualization, we aim to:\n",
    "\n",
    "- Compare rental and sale prices across capital cities\n",
    "- Identify supply-demand dynamics\n",
    "- Analyse the affordability and investment potential of different regions\n",
    "- Explore how property features and economic context influence pricing\n",
    "\n",
    "The findings from this notebook feed into a Power BI dashboard that allows for dynamic and interactive exploration of property trends across the country. \n",
    "\n",
    "This notebook documents each step of the analysis pipeline -starting from raw data processing to uncovering insights to ensure transparency, reproducibility, and a foundation for further exploration"
   ]
  },
  {
   "cell_type": "markdown",
   "id": "bfc87451",
   "metadata": {},
   "source": [
    "## 2. Loading Data\n",
    "[Back to Table of Contents](#table-of-contents)\n",
    "\n",
    "---\n",
    "    \n",
    "| ⚡ Description: Loading the data in our environment ⚡ |\n",
    "| :--------------------------- |\n",
    "\n",
    "---"
   ]
  },
  {
   "cell_type": "markdown",
   "id": "4c737deb",
   "metadata": {},
   "source": [
    "### Import packages"
   ]
  },
  {
   "cell_type": "code",
   "execution_count": 1,
   "id": "a78b697d",
   "metadata": {},
   "outputs": [],
   "source": [
    "# Import packages\n",
    "import re\n",
    "import warnings\n",
    "\n",
    "import numpy as np\n",
    "import pandas as pd\n",
    "\n",
    "warnings.filterwarnings(\"ignore\", category=FutureWarning)"
   ]
  },
  {
   "cell_type": "code",
   "execution_count": 2,
   "id": "4ee1b231",
   "metadata": {},
   "outputs": [
    {
     "data": {
      "text/plain": [
       "'Rentals'"
      ]
     },
     "metadata": {},
     "output_type": "display_data"
    },
    {
     "data": {
      "application/vnd.microsoft.datawrangler.viewer.v0+json": {
       "columns": [
        {
         "name": "index",
         "rawType": "int64",
         "type": "integer"
        },
        {
         "name": "price",
         "rawType": "object",
         "type": "unknown"
        },
        {
         "name": "location",
         "rawType": "object",
         "type": "unknown"
        },
        {
         "name": "property_title",
         "rawType": "object",
         "type": "unknown"
        },
        {
         "name": "property_description",
         "rawType": "object",
         "type": "unknown"
        },
        {
         "name": "property_features",
         "rawType": "object",
         "type": "unknown"
        },
        {
         "name": "listing_slug",
         "rawType": "object",
         "type": "string"
        }
       ],
       "ref": "da8272d6-759f-40bc-8d39-7ee49fd4a641",
       "rows": [
        [
         "0",
         "R 7 000Per Month",
         "Bhisho, Tyu Tyu North",
         "3 Bedroom House to Rent in Tyu Tyu North",
         "RE/MAX Border is proud to present this 3-bedroom house, located in Tyutyu North, Bisho.The home boasts a bright and airy living area which seamlessly connects to the kitchen. The property has 3 bedrooms and 1 bathroom, a yard, perfect for outdoor activities or relaxation.Admin fees do apply.Viewings arranged by appointment.Rent: R7 000Deposit: R10 500Electricity and water are excluded.",
         "Property OverviewListing Number115295115Type of PropertyHouseDescriptionFreestandingLifestyleSuburbanOccupation Date02 December 2024Deposit RequirementsDeposit Amount: R 10500Pets AllowedNoFurnishedNoRoomsBedroom3Bathroom1Kitchen1Lounge1Dining Room1External FeaturesParking1Other FeaturesSpecial Features1Backup WaterNoPoints of InterestEducationSinako Primary School0.51kmZameka Junior Secondary School0.55kmBisho Primary School1.15kmTyutyu Primary School1.18kmBisho H School1.31kmBalasi Primary School1.66kmSkobeni Primary School1.95kmZ K Matthews Senior Secondary School2.88kmBulelani Primary School3.91kmBreidbach Primary School4.88kmThembalethu Primary School4.88kmBreidbach Secondary School5.21kmDale College5.56kmB Kat Senior Secondary School5.63kmJityaza Combined Primary School6.28kmSt Christophers Private School6.32kmHoërskool De Vos Malan6.54kmKingsridge High School For Girls6.68kmLuzuko Junior Primary School6.89kmCentral Primary School6.92kmKing Wm'S Town Primary School6.98kmMzontsundu Senior Secondary School7.08kmPhillip Mtywaku Senior Secondary School7.43kmIqonce Junior Secondary School7.54kmView moreTransport and Public ServicesYellowwoods2.40kmPlumbago3.47kmBelstone5.39kmKing's Cross5.47kmMerino Vale5.94kmBlaney7.08kmView more",
         "3-bedroom-house-to-rent-in-tyu-tyu-north-115295115"
        ],
        [
         "1",
         "R 7 000Per Month",
         "Bhisho, Bhisho Central",
         "3 Bedroom House to Rent in Bhisho Central",
         "How CONVENIENT is this flat directly opposite OFFICE BLOCK in Bhisho Central?SAVE ON PETROL COSTS getting to and from work.Three bedrooms with built in cupboards, bathroom, spacious open plan kitchen and lounge, beautifully tiled.Parking behind a gate.Applicants will be screened and  interviewed.A deposit of R8 500 is required.The Tenant will also pay the water and sewerage.Pre-paid electricity.",
         "Property OverviewListing Number115332086Type of PropertyHousePets AllowedNoFurnishedNoRoomsBedroom3Bathroom1Kitchen1Lounge1External FeaturesParking1Garden1Other FeaturesSecurity1Points of InterestEducationBisho Primary School0.32kmBisho H School0.37kmTyutyu Primary School1.04kmZameka Junior Secondary School1.37kmSinako Primary School1.42kmBalasi Primary School2.26kmZ K Matthews Senior Secondary School2.52kmSkobeni Primary School3.41kmBreidbach Primary School4.00kmDale College4.10kmBreidbach Secondary School4.34kmThembalethu Primary School4.85kmSt Christophers Private School5.08kmHoërskool De Vos Malan5.08kmKingsridge High School For Girls5.21kmJityaza Combined Primary School5.27kmBulelani Primary School5.37kmCentral Primary School5.49kmKing Wm'S Town Primary School5.53kmLuzuko Junior Primary School5.76kmB Kat Senior Secondary School5.82kmIqonce Junior Secondary School6.09kmMzontsundu Senior Secondary School6.24kmWestbank Primary School6.38kmSchornville Primary School6.45kmAbundant Life Christian School6.45kmView moreTransport and Public ServicesYellowwoods2.24kmPlumbago2.35kmBelstone4.23kmKing William's Town6.18kmView more",
         "3-bedroom-house-to-rent-in-bhisho-central-115332086"
        ],
        [
         "2",
         "R 5 300Per Month",
         "Bhisho, Tyu Tyu North",
         "2 Bedroom House to Rent in Tyu Tyu North",
         "Comfortable Home for a family which is available FOR RENTAL as from the 1st December 2024.There is pre paid electricity.The Tenant also pays for the Water, as per usage, refuse and sewerage.A DEPOSIT of R5 300 is required,  a rental application and a credit check apply to secure a suitable Tenant.",
         "Property OverviewListing Number115210602Type of PropertyHouseOccupation Date01 December 2024Deposit RequirementsEqual to one month rent plus additional to cover the municipal serv...Pets AllowedYesFurnishedNoRoomsBedroom2Bathroom1Kitchen1Lounge1External FeaturesParking1Garden1Other FeaturesNearby Public TransportMinibus TaxiPoints of InterestEducationSinako Primary School0.51kmZameka Junior Secondary School0.55kmBisho Primary School1.15kmTyutyu Primary School1.18kmBisho H School1.31kmBalasi Primary School1.66kmSkobeni Primary School1.95kmZ K Matthews Senior Secondary School2.88kmBulelani Primary School3.91kmBreidbach Primary School4.88kmThembalethu Primary School4.88kmBreidbach Secondary School5.21kmDale College5.56kmB Kat Senior Secondary School5.63kmJityaza Combined Primary School6.28kmSt Christophers Private School6.32kmHoërskool De Vos Malan6.54kmKingsridge High School For Girls6.68kmLuzuko Junior Primary School6.89kmCentral Primary School6.92kmKing Wm'S Town Primary School6.98kmMzontsundu Senior Secondary School7.08kmPhillip Mtywaku Senior Secondary School7.43kmIqonce Junior Secondary School7.54kmView moreTransport and Public ServicesYellowwoods2.40kmPlumbago3.47kmBelstone5.39kmKing's Cross5.47kmMerino Vale5.94kmBlaney7.08kmView more",
         "2-bedroom-house-to-rent-in-tyu-tyu-north-115210602"
        ],
        [
         "3",
         null,
         null,
         null,
         null,
         null,
         "house-to-rent-in-bisho-park-101731048"
        ],
        [
         "4",
         "R 7 500Per Month",
         "Bhisho, Bisho Park",
         "3 Bedroom House to Rent in Bisho Park",
         "BetterProp is thrilled to present this well-maintained 3-bedroom, 1-bathroom home is designed with both comfort and functionality in mind, making it perfect for families or individuals seeking a cozy, yet spacious living environment. Upon entering, you'll be greeted by a warm and inviting lounge area, ideal for relaxing with loved ones or entertaining guests. The large windows allow natural light to flood the room, creating a bright and airy atmosphere.Adjacent to the lounge, the formal dining area is spacious enough to accommodate family dinners or gatherings, providing a wonderful space to create lasting memories. The kitchen is thoughtfully designed, featuring ample countertop space, cabinetry, and modern appliances, perfect for preparing meals or enjoying casual meals at thebreakfast nook.The home boasts three well-sized bedrooms, each with plenty of closet space and large windows that let in plenty of light, creating a peaceful retreat for rest and relaxation. The bathroom, conveniently located near the bedrooms, is designed with contemporary finishes and features a bathtub and shower combination.For added convenience, the property includes a large two-car garage, offering secure parking and additional storage options. The garage can also be used for projects or as an extra space for your needs.With ample parking space for guests, a practical layout, and easy access to local amenities, this home provides everything you need for a comfortable and convenient lifestyle.Read more...",
         "Property OverviewListing Number115555490Type of PropertyHouseOccupation Date10 February 2025Pets AllowedYesFurnishedNoRoomsBedroomBathrooms1.5Kitchens1Reception Rooms2External FeaturesGarageParking3Points of InterestEducationSinako Primary School0.35kmBalasi Primary School0.85kmZameka Junior Secondary School1.34kmBisho Primary School1.38kmBisho H School1.68kmTyutyu Primary School1.84kmZ K Matthews Senior Secondary School2.18kmSkobeni Primary School2.25kmBulelani Primary School3.90kmThembalethu Primary School4.07kmB Kat Senior Secondary School4.82kmBreidbach Primary School5.48kmDale College5.67kmJityaza Combined Primary School5.75kmBreidbach Secondary School5.82kmMzontsundu Senior Secondary School6.46kmHoërskool De Vos Malan6.63kmSt Christophers Private School6.73kmKingsridge High School For Girls6.73kmKing Wm'S Town Primary School7.09kmCentral Primary School7.10kmPhillip Mtywaku Senior Secondary School7.19kmNdukumbana Junior Primary School7.21kmBumbanani Primary School7.22kmHarperton Primary School7.36kmView moreTransport and Public ServicesYellowwoods3.15kmPlumbago3.94kmBelstone5.85kmKing's Cross6.06kmMerino Vale6.22kmView more",
         "3-bedroom-house-to-rent-in-bisho-park-115555490"
        ]
       ],
       "shape": {
        "columns": 6,
        "rows": 5
       }
      },
      "text/html": [
       "<div>\n",
       "<style scoped>\n",
       "    .dataframe tbody tr th:only-of-type {\n",
       "        vertical-align: middle;\n",
       "    }\n",
       "\n",
       "    .dataframe tbody tr th {\n",
       "        vertical-align: top;\n",
       "    }\n",
       "\n",
       "    .dataframe thead th {\n",
       "        text-align: right;\n",
       "    }\n",
       "</style>\n",
       "<table border=\"1\" class=\"dataframe\">\n",
       "  <thead>\n",
       "    <tr style=\"text-align: right;\">\n",
       "      <th></th>\n",
       "      <th>price</th>\n",
       "      <th>location</th>\n",
       "      <th>property_title</th>\n",
       "      <th>property_description</th>\n",
       "      <th>property_features</th>\n",
       "      <th>listing_slug</th>\n",
       "    </tr>\n",
       "  </thead>\n",
       "  <tbody>\n",
       "    <tr>\n",
       "      <th>0</th>\n",
       "      <td>R 7 000Per Month</td>\n",
       "      <td>Bhisho, Tyu Tyu North</td>\n",
       "      <td>3 Bedroom House to Rent in Tyu Tyu North</td>\n",
       "      <td>RE/MAX Border is proud to present this 3-bedro...</td>\n",
       "      <td>Property OverviewListing Number115295115Type o...</td>\n",
       "      <td>3-bedroom-house-to-rent-in-tyu-tyu-north-11529...</td>\n",
       "    </tr>\n",
       "    <tr>\n",
       "      <th>1</th>\n",
       "      <td>R 7 000Per Month</td>\n",
       "      <td>Bhisho, Bhisho Central</td>\n",
       "      <td>3 Bedroom House to Rent in Bhisho Central</td>\n",
       "      <td>How CONVENIENT is this flat directly opposite ...</td>\n",
       "      <td>Property OverviewListing Number115332086Type o...</td>\n",
       "      <td>3-bedroom-house-to-rent-in-bhisho-central-1153...</td>\n",
       "    </tr>\n",
       "    <tr>\n",
       "      <th>2</th>\n",
       "      <td>R 5 300Per Month</td>\n",
       "      <td>Bhisho, Tyu Tyu North</td>\n",
       "      <td>2 Bedroom House to Rent in Tyu Tyu North</td>\n",
       "      <td>Comfortable Home for a family which is availab...</td>\n",
       "      <td>Property OverviewListing Number115210602Type o...</td>\n",
       "      <td>2-bedroom-house-to-rent-in-tyu-tyu-north-11521...</td>\n",
       "    </tr>\n",
       "    <tr>\n",
       "      <th>3</th>\n",
       "      <td>NaN</td>\n",
       "      <td>NaN</td>\n",
       "      <td>NaN</td>\n",
       "      <td>NaN</td>\n",
       "      <td>NaN</td>\n",
       "      <td>house-to-rent-in-bisho-park-101731048</td>\n",
       "    </tr>\n",
       "    <tr>\n",
       "      <th>4</th>\n",
       "      <td>R 7 500Per Month</td>\n",
       "      <td>Bhisho, Bisho Park</td>\n",
       "      <td>3 Bedroom House to Rent in Bisho Park</td>\n",
       "      <td>BetterProp is thrilled to present this well-ma...</td>\n",
       "      <td>Property OverviewListing Number115555490Type o...</td>\n",
       "      <td>3-bedroom-house-to-rent-in-bisho-park-115555490</td>\n",
       "    </tr>\n",
       "  </tbody>\n",
       "</table>\n",
       "</div>"
      ],
      "text/plain": [
       "              price                location  \\\n",
       "0  R 7 000Per Month   Bhisho, Tyu Tyu North   \n",
       "1  R 7 000Per Month  Bhisho, Bhisho Central   \n",
       "2  R 5 300Per Month   Bhisho, Tyu Tyu North   \n",
       "3               NaN                     NaN   \n",
       "4  R 7 500Per Month      Bhisho, Bisho Park   \n",
       "\n",
       "                              property_title  \\\n",
       "0   3 Bedroom House to Rent in Tyu Tyu North   \n",
       "1  3 Bedroom House to Rent in Bhisho Central   \n",
       "2   2 Bedroom House to Rent in Tyu Tyu North   \n",
       "3                                        NaN   \n",
       "4      3 Bedroom House to Rent in Bisho Park   \n",
       "\n",
       "                                property_description  \\\n",
       "0  RE/MAX Border is proud to present this 3-bedro...   \n",
       "1  How CONVENIENT is this flat directly opposite ...   \n",
       "2  Comfortable Home for a family which is availab...   \n",
       "3                                                NaN   \n",
       "4  BetterProp is thrilled to present this well-ma...   \n",
       "\n",
       "                                   property_features  \\\n",
       "0  Property OverviewListing Number115295115Type o...   \n",
       "1  Property OverviewListing Number115332086Type o...   \n",
       "2  Property OverviewListing Number115210602Type o...   \n",
       "3                                                NaN   \n",
       "4  Property OverviewListing Number115555490Type o...   \n",
       "\n",
       "                                        listing_slug  \n",
       "0  3-bedroom-house-to-rent-in-tyu-tyu-north-11529...  \n",
       "1  3-bedroom-house-to-rent-in-bhisho-central-1153...  \n",
       "2  2-bedroom-house-to-rent-in-tyu-tyu-north-11521...  \n",
       "3              house-to-rent-in-bisho-park-101731048  \n",
       "4    3-bedroom-house-to-rent-in-bisho-park-115555490  "
      ]
     },
     "metadata": {},
     "output_type": "display_data"
    },
    {
     "data": {
      "text/plain": [
       "(15324, 6)"
      ]
     },
     "metadata": {},
     "output_type": "display_data"
    }
   ],
   "source": [
    "# Load the rental listings dataset\n",
    "rental_listings = pd.read_csv(\"../data/raw/rental_listings_for_capital_cities.csv\")\n",
    "\n",
    "# Display the first few rows of the dataset and its shape\n",
    "display(\"Rentals\", rental_listings.head(), rental_listings.shape)"
   ]
  },
  {
   "cell_type": "markdown",
   "id": "d5ade05f",
   "metadata": {},
   "source": [
    "## 3. Exploratory Data Analysis\n",
    "[Back to Table of Contents](#table-of-contents)\n",
    "\n",
    "---\n",
    "    \n",
    "| ⚡ Description: Exploring the data ⚡ |\n",
    "| :--------------------------- |\n",
    "\n",
    "---"
   ]
  },
  {
   "cell_type": "code",
   "execution_count": 3,
   "id": "01de9d3c",
   "metadata": {},
   "outputs": [
    {
     "name": "stdout",
     "output_type": "stream",
     "text": [
      "<class 'pandas.core.frame.DataFrame'>\n",
      "RangeIndex: 15324 entries, 0 to 15323\n",
      "Data columns (total 6 columns):\n",
      " #   Column                Non-Null Count  Dtype \n",
      "---  ------                --------------  ----- \n",
      " 0   price                 15323 non-null  object\n",
      " 1   location              8189 non-null   object\n",
      " 2   property_title        15323 non-null  object\n",
      " 3   property_description  15323 non-null  object\n",
      " 4   property_features     15323 non-null  object\n",
      " 5   listing_slug          15324 non-null  object\n",
      "dtypes: object(6)\n",
      "memory usage: 718.4+ KB\n"
     ]
    }
   ],
   "source": [
    "# Print a summary of the dataset\n",
    "rental_listings.info()"
   ]
  },
  {
   "cell_type": "code",
   "execution_count": 4,
   "id": "564574cb",
   "metadata": {},
   "outputs": [
    {
     "name": "stdout",
     "output_type": "stream",
     "text": [
      "There are 7139 null values in the rental dataset\n"
     ]
    }
   ],
   "source": [
    "# Print the total number of null values in the dataset\n",
    "rental_null_values = rental_listings.isnull().sum().sum()\n",
    "print(f\"There are {rental_null_values} null values in the rental dataset\")"
   ]
  },
  {
   "cell_type": "code",
   "execution_count": 5,
   "id": "d037535a",
   "metadata": {},
   "outputs": [
    {
     "data": {
      "application/vnd.microsoft.datawrangler.viewer.v0+json": {
       "columns": [
        {
         "name": "index",
         "rawType": "object",
         "type": "string"
        },
        {
         "name": "0",
         "rawType": "int64",
         "type": "integer"
        }
       ],
       "ref": "9f02c19b-1362-4c14-8e2e-1b20cdc4f56e",
       "rows": [
        [
         "price",
         "1"
        ],
        [
         "location",
         "7135"
        ],
        [
         "property_title",
         "1"
        ],
        [
         "property_description",
         "1"
        ],
        [
         "property_features",
         "1"
        ],
        [
         "listing_slug",
         "0"
        ]
       ],
       "shape": {
        "columns": 1,
        "rows": 6
       }
      },
      "text/plain": [
       "price                      1\n",
       "location                7135\n",
       "property_title             1\n",
       "property_description       1\n",
       "property_features          1\n",
       "listing_slug               0\n",
       "dtype: int64"
      ]
     },
     "execution_count": 5,
     "metadata": {},
     "output_type": "execute_result"
    }
   ],
   "source": [
    "# Print the number of null values in each column\n",
    "rental_listings.isnull().sum()"
   ]
  },
  {
   "cell_type": "code",
   "execution_count": 6,
   "id": "1fadd376",
   "metadata": {},
   "outputs": [
    {
     "data": {
      "application/vnd.microsoft.datawrangler.viewer.v0+json": {
       "columns": [
        {
         "name": "index",
         "rawType": "int64",
         "type": "integer"
        },
        {
         "name": "price",
         "rawType": "object",
         "type": "unknown"
        },
        {
         "name": "location",
         "rawType": "object",
         "type": "unknown"
        },
        {
         "name": "property_title",
         "rawType": "object",
         "type": "unknown"
        },
        {
         "name": "property_description",
         "rawType": "object",
         "type": "unknown"
        },
        {
         "name": "property_features",
         "rawType": "object",
         "type": "unknown"
        },
        {
         "name": "listing_slug",
         "rawType": "object",
         "type": "string"
        }
       ],
       "ref": "477a7397-b948-4dcf-b644-1feb55610a76",
       "rows": [
        [
         "3",
         null,
         null,
         null,
         null,
         null,
         "house-to-rent-in-bisho-park-101731048"
        ]
       ],
       "shape": {
        "columns": 6,
        "rows": 1
       }
      },
      "text/html": [
       "<div>\n",
       "<style scoped>\n",
       "    .dataframe tbody tr th:only-of-type {\n",
       "        vertical-align: middle;\n",
       "    }\n",
       "\n",
       "    .dataframe tbody tr th {\n",
       "        vertical-align: top;\n",
       "    }\n",
       "\n",
       "    .dataframe thead th {\n",
       "        text-align: right;\n",
       "    }\n",
       "</style>\n",
       "<table border=\"1\" class=\"dataframe\">\n",
       "  <thead>\n",
       "    <tr style=\"text-align: right;\">\n",
       "      <th></th>\n",
       "      <th>price</th>\n",
       "      <th>location</th>\n",
       "      <th>property_title</th>\n",
       "      <th>property_description</th>\n",
       "      <th>property_features</th>\n",
       "      <th>listing_slug</th>\n",
       "    </tr>\n",
       "  </thead>\n",
       "  <tbody>\n",
       "    <tr>\n",
       "      <th>3</th>\n",
       "      <td>NaN</td>\n",
       "      <td>NaN</td>\n",
       "      <td>NaN</td>\n",
       "      <td>NaN</td>\n",
       "      <td>NaN</td>\n",
       "      <td>house-to-rent-in-bisho-park-101731048</td>\n",
       "    </tr>\n",
       "  </tbody>\n",
       "</table>\n",
       "</div>"
      ],
      "text/plain": [
       "  price location property_title property_description property_features  \\\n",
       "3   NaN      NaN            NaN                  NaN               NaN   \n",
       "\n",
       "                            listing_slug  \n",
       "3  house-to-rent-in-bisho-park-101731048  "
      ]
     },
     "execution_count": 6,
     "metadata": {},
     "output_type": "execute_result"
    }
   ],
   "source": [
    "# Print the rows that have null values in four columns or more\n",
    "rental_listings[rental_listings.isnull().sum(axis=1) >= 4]"
   ]
  },
  {
   "cell_type": "code",
   "execution_count": 7,
   "id": "f783b3a2",
   "metadata": {},
   "outputs": [],
   "source": [
    "# Drop the rows that have null values in four columns or more\n",
    "rental_listings.drop(\n",
    "    rental_listings[rental_listings.isnull().sum(axis=1) >= 2].index, inplace=True)"
   ]
  },
  {
   "cell_type": "code",
   "execution_count": 8,
   "id": "ea6279e5",
   "metadata": {},
   "outputs": [
    {
     "name": "stdout",
     "output_type": "stream",
     "text": [
      "There are 1303 duplicates in the rental dataset \n"
     ]
    }
   ],
   "source": [
    "# Get the total number of duplicate rows in the dataset\n",
    "rental_duplicates = rental_listings[rental_listings.duplicated()]\n",
    "num_rental_duplicates = len(rental_duplicates)\n",
    "print(f\"There are {num_rental_duplicates} duplicates in the rental dataset \")"
   ]
  },
  {
   "cell_type": "code",
   "execution_count": 9,
   "id": "e0c43e82",
   "metadata": {},
   "outputs": [],
   "source": [
    "# Drop duplicate rows and keep the first occurrence\n",
    "rental_listings = rental_listings.drop_duplicates().reset_index(drop=True)"
   ]
  },
  {
   "cell_type": "markdown",
   "id": "889270ad",
   "metadata": {},
   "source": [
    "#### Property description"
   ]
  },
  {
   "cell_type": "markdown",
   "id": "81e32869",
   "metadata": {},
   "source": [
    "The `property_description` column contains free-text descriptions written by agents or property owners to highlight features and benefits of the listing. While this unstructured text can provide valuable insights, it is often subjective, inconsistent, and difficult to analyse at scale without advanced natural language processing. Since our current analysis focuses on structured, comparable features across listings, we will drop the property_description column."
   ]
  },
  {
   "cell_type": "code",
   "execution_count": 10,
   "id": "7bbf197d",
   "metadata": {},
   "outputs": [],
   "source": [
    "# Drop the `property_description` column\n",
    "rental_listings.drop(columns=['property_description'], inplace=True)"
   ]
  },
  {
   "cell_type": "markdown",
   "id": "5b1b5345",
   "metadata": {},
   "source": [
    "#### Property features extraction"
   ]
  },
  {
   "cell_type": "markdown",
   "id": "d661c1f7",
   "metadata": {},
   "source": [
    "The `property_features` column has a section labelled *Points of Interest* which highlights nearby amenities and infrastructure such as schools, hospitals, shopping centres, public transport stops and recreational facilities. It provides a quick view of the property's surroundings and helps to assess its suitability for lifestyle preferences, daily commuting, and community accessibility. \n",
    "\n",
    "We remove this section to reduce noise and ensure consistency, as it contains unstructured text, and it may not be directly useful for aggregation without additional geospatial processing. "
   ]
  },
  {
   "cell_type": "code",
   "execution_count": 11,
   "id": "51e3df5e",
   "metadata": {},
   "outputs": [],
   "source": [
    "# Remove any information following the text 'Points of Interest' in the 'property_features' column\n",
    "rental_listings[\"property_features\"] = rental_listings[\"property_features\"].str.replace(\n",
    "    r'Points of Interest.*', '', regex=True\n",
    ")\n",
    "\n",
    "# Remove any empty spaces for easier analysis\n",
    "rental_listings[\"property_features\"] = rental_listings[\"property_features\"].str.strip()"
   ]
  },
  {
   "cell_type": "markdown",
   "id": "c509cdce",
   "metadata": {},
   "source": [
    "The `property_features` column has a wealth of information about each listing, ranging from the listing number, the type of property, room information, deposit information, occupation date, etc. However, for the purpose of this analysis, we will only extract a subset of relevant features that are most structured and analytically useful where we can reliably quantify and compare across properties. Once the necessary information has been extracted, we will drop the property_features column."
   ]
  },
  {
   "cell_type": "code",
   "execution_count": 12,
   "id": "5d10715f",
   "metadata": {},
   "outputs": [
    {
     "data": {
      "application/vnd.microsoft.datawrangler.viewer.v0+json": {
       "columns": [
        {
         "name": "index",
         "rawType": "int64",
         "type": "integer"
        },
        {
         "name": "price",
         "rawType": "object",
         "type": "string"
        },
        {
         "name": "location",
         "rawType": "object",
         "type": "string"
        },
        {
         "name": "property_title",
         "rawType": "object",
         "type": "string"
        },
        {
         "name": "listing_slug",
         "rawType": "object",
         "type": "string"
        },
        {
         "name": "listing_number",
         "rawType": "object",
         "type": "string"
        },
        {
         "name": "property_type",
         "rawType": "object",
         "type": "string"
        },
        {
         "name": "furnished",
         "rawType": "object",
         "type": "unknown"
        },
        {
         "name": "pets_allowed",
         "rawType": "object",
         "type": "unknown"
        },
        {
         "name": "backup_water",
         "rawType": "object",
         "type": "unknown"
        },
        {
         "name": "bedrooms",
         "rawType": "object",
         "type": "unknown"
        },
        {
         "name": "bathrooms",
         "rawType": "object",
         "type": "unknown"
        },
        {
         "name": "kitchen",
         "rawType": "object",
         "type": "unknown"
        },
        {
         "name": "lounge",
         "rawType": "object",
         "type": "unknown"
        },
        {
         "name": "dining_room",
         "rawType": "object",
         "type": "unknown"
        },
        {
         "name": "parking",
         "rawType": "object",
         "type": "unknown"
        },
        {
         "name": "garden",
         "rawType": "object",
         "type": "unknown"
        },
        {
         "name": "pool",
         "rawType": "object",
         "type": "unknown"
        },
        {
         "name": "garage",
         "rawType": "object",
         "type": "unknown"
        },
        {
         "name": "erf_size (m²)",
         "rawType": "object",
         "type": "unknown"
        },
        {
         "name": "floor_area (m²)",
         "rawType": "object",
         "type": "unknown"
        }
       ],
       "ref": "8f159cbd-3814-42f9-9e8c-feffd5017db5",
       "rows": [
        [
         "0",
         "R 7 000Per Month",
         "Bhisho, Tyu Tyu North",
         "3 Bedroom House to Rent in Tyu Tyu North",
         "3-bedroom-house-to-rent-in-tyu-tyu-north-115295115",
         "115295115",
         "House",
         "No",
         "No",
         "No",
         "3",
         "1",
         "1",
         "1",
         "1",
         "1",
         null,
         null,
         null,
         null,
         null
        ],
        [
         "1",
         "R 7 000Per Month",
         "Bhisho, Bhisho Central",
         "3 Bedroom House to Rent in Bhisho Central",
         "3-bedroom-house-to-rent-in-bhisho-central-115332086",
         "115332086",
         "House",
         "No",
         "No",
         null,
         "3",
         "1",
         "1",
         "1",
         null,
         "1",
         "1",
         null,
         null,
         null,
         null
        ],
        [
         "2",
         "R 5 300Per Month",
         "Bhisho, Tyu Tyu North",
         "2 Bedroom House to Rent in Tyu Tyu North",
         "2-bedroom-house-to-rent-in-tyu-tyu-north-115210602",
         "115210602",
         "House",
         "No",
         "Yes",
         null,
         "2",
         "1",
         "1",
         "1",
         null,
         "1",
         "1",
         null,
         null,
         null,
         null
        ],
        [
         "3",
         "R 7 500Per Month",
         "Bhisho, Bisho Park",
         "3 Bedroom House to Rent in Bisho Park",
         "3-bedroom-house-to-rent-in-bisho-park-115555490",
         "115555490",
         "House",
         "No",
         "Yes",
         null,
         null,
         "1",
         "1",
         null,
         null,
         "3",
         null,
         null,
         null,
         null,
         null
        ],
        [
         "4",
         "R 5 500Per Month",
         "Bhisho, Bisho Park",
         "House to Rent in Bisho Park",
         "house-to-rent-in-bisho-park-115525482",
         "115525482",
         "House",
         null,
         null,
         null,
         null,
         null,
         null,
         null,
         null,
         null,
         null,
         null,
         null,
         null,
         null
        ]
       ],
       "shape": {
        "columns": 20,
        "rows": 5
       }
      },
      "text/html": [
       "<div>\n",
       "<style scoped>\n",
       "    .dataframe tbody tr th:only-of-type {\n",
       "        vertical-align: middle;\n",
       "    }\n",
       "\n",
       "    .dataframe tbody tr th {\n",
       "        vertical-align: top;\n",
       "    }\n",
       "\n",
       "    .dataframe thead th {\n",
       "        text-align: right;\n",
       "    }\n",
       "</style>\n",
       "<table border=\"1\" class=\"dataframe\">\n",
       "  <thead>\n",
       "    <tr style=\"text-align: right;\">\n",
       "      <th></th>\n",
       "      <th>price</th>\n",
       "      <th>location</th>\n",
       "      <th>property_title</th>\n",
       "      <th>listing_slug</th>\n",
       "      <th>listing_number</th>\n",
       "      <th>property_type</th>\n",
       "      <th>furnished</th>\n",
       "      <th>pets_allowed</th>\n",
       "      <th>backup_water</th>\n",
       "      <th>bedrooms</th>\n",
       "      <th>bathrooms</th>\n",
       "      <th>kitchen</th>\n",
       "      <th>lounge</th>\n",
       "      <th>dining_room</th>\n",
       "      <th>parking</th>\n",
       "      <th>garden</th>\n",
       "      <th>pool</th>\n",
       "      <th>garage</th>\n",
       "      <th>erf_size (m²)</th>\n",
       "      <th>floor_area (m²)</th>\n",
       "    </tr>\n",
       "  </thead>\n",
       "  <tbody>\n",
       "    <tr>\n",
       "      <th>0</th>\n",
       "      <td>R 7 000Per Month</td>\n",
       "      <td>Bhisho, Tyu Tyu North</td>\n",
       "      <td>3 Bedroom House to Rent in Tyu Tyu North</td>\n",
       "      <td>3-bedroom-house-to-rent-in-tyu-tyu-north-11529...</td>\n",
       "      <td>115295115</td>\n",
       "      <td>House</td>\n",
       "      <td>No</td>\n",
       "      <td>No</td>\n",
       "      <td>No</td>\n",
       "      <td>3</td>\n",
       "      <td>1</td>\n",
       "      <td>1</td>\n",
       "      <td>1</td>\n",
       "      <td>1</td>\n",
       "      <td>1</td>\n",
       "      <td>None</td>\n",
       "      <td>None</td>\n",
       "      <td>None</td>\n",
       "      <td>None</td>\n",
       "      <td>None</td>\n",
       "    </tr>\n",
       "    <tr>\n",
       "      <th>1</th>\n",
       "      <td>R 7 000Per Month</td>\n",
       "      <td>Bhisho, Bhisho Central</td>\n",
       "      <td>3 Bedroom House to Rent in Bhisho Central</td>\n",
       "      <td>3-bedroom-house-to-rent-in-bhisho-central-1153...</td>\n",
       "      <td>115332086</td>\n",
       "      <td>House</td>\n",
       "      <td>No</td>\n",
       "      <td>No</td>\n",
       "      <td>None</td>\n",
       "      <td>3</td>\n",
       "      <td>1</td>\n",
       "      <td>1</td>\n",
       "      <td>1</td>\n",
       "      <td>None</td>\n",
       "      <td>1</td>\n",
       "      <td>1</td>\n",
       "      <td>None</td>\n",
       "      <td>None</td>\n",
       "      <td>None</td>\n",
       "      <td>None</td>\n",
       "    </tr>\n",
       "    <tr>\n",
       "      <th>2</th>\n",
       "      <td>R 5 300Per Month</td>\n",
       "      <td>Bhisho, Tyu Tyu North</td>\n",
       "      <td>2 Bedroom House to Rent in Tyu Tyu North</td>\n",
       "      <td>2-bedroom-house-to-rent-in-tyu-tyu-north-11521...</td>\n",
       "      <td>115210602</td>\n",
       "      <td>House</td>\n",
       "      <td>No</td>\n",
       "      <td>Yes</td>\n",
       "      <td>None</td>\n",
       "      <td>2</td>\n",
       "      <td>1</td>\n",
       "      <td>1</td>\n",
       "      <td>1</td>\n",
       "      <td>None</td>\n",
       "      <td>1</td>\n",
       "      <td>1</td>\n",
       "      <td>None</td>\n",
       "      <td>None</td>\n",
       "      <td>None</td>\n",
       "      <td>None</td>\n",
       "    </tr>\n",
       "    <tr>\n",
       "      <th>3</th>\n",
       "      <td>R 7 500Per Month</td>\n",
       "      <td>Bhisho, Bisho Park</td>\n",
       "      <td>3 Bedroom House to Rent in Bisho Park</td>\n",
       "      <td>3-bedroom-house-to-rent-in-bisho-park-115555490</td>\n",
       "      <td>115555490</td>\n",
       "      <td>House</td>\n",
       "      <td>No</td>\n",
       "      <td>Yes</td>\n",
       "      <td>None</td>\n",
       "      <td>None</td>\n",
       "      <td>1</td>\n",
       "      <td>1</td>\n",
       "      <td>None</td>\n",
       "      <td>None</td>\n",
       "      <td>3</td>\n",
       "      <td>None</td>\n",
       "      <td>None</td>\n",
       "      <td>None</td>\n",
       "      <td>None</td>\n",
       "      <td>None</td>\n",
       "    </tr>\n",
       "    <tr>\n",
       "      <th>4</th>\n",
       "      <td>R 5 500Per Month</td>\n",
       "      <td>Bhisho, Bisho Park</td>\n",
       "      <td>House to Rent in Bisho Park</td>\n",
       "      <td>house-to-rent-in-bisho-park-115525482</td>\n",
       "      <td>115525482</td>\n",
       "      <td>House</td>\n",
       "      <td>None</td>\n",
       "      <td>None</td>\n",
       "      <td>None</td>\n",
       "      <td>None</td>\n",
       "      <td>None</td>\n",
       "      <td>None</td>\n",
       "      <td>None</td>\n",
       "      <td>None</td>\n",
       "      <td>None</td>\n",
       "      <td>None</td>\n",
       "      <td>None</td>\n",
       "      <td>None</td>\n",
       "      <td>None</td>\n",
       "      <td>None</td>\n",
       "    </tr>\n",
       "  </tbody>\n",
       "</table>\n",
       "</div>"
      ],
      "text/plain": [
       "              price                location  \\\n",
       "0  R 7 000Per Month   Bhisho, Tyu Tyu North   \n",
       "1  R 7 000Per Month  Bhisho, Bhisho Central   \n",
       "2  R 5 300Per Month   Bhisho, Tyu Tyu North   \n",
       "3  R 7 500Per Month      Bhisho, Bisho Park   \n",
       "4  R 5 500Per Month      Bhisho, Bisho Park   \n",
       "\n",
       "                              property_title  \\\n",
       "0   3 Bedroom House to Rent in Tyu Tyu North   \n",
       "1  3 Bedroom House to Rent in Bhisho Central   \n",
       "2   2 Bedroom House to Rent in Tyu Tyu North   \n",
       "3      3 Bedroom House to Rent in Bisho Park   \n",
       "4                House to Rent in Bisho Park   \n",
       "\n",
       "                                        listing_slug listing_number  \\\n",
       "0  3-bedroom-house-to-rent-in-tyu-tyu-north-11529...      115295115   \n",
       "1  3-bedroom-house-to-rent-in-bhisho-central-1153...      115332086   \n",
       "2  2-bedroom-house-to-rent-in-tyu-tyu-north-11521...      115210602   \n",
       "3    3-bedroom-house-to-rent-in-bisho-park-115555490      115555490   \n",
       "4              house-to-rent-in-bisho-park-115525482      115525482   \n",
       "\n",
       "  property_type furnished pets_allowed backup_water bedrooms bathrooms  \\\n",
       "0         House        No           No           No        3         1   \n",
       "1         House        No           No         None        3         1   \n",
       "2         House        No          Yes         None        2         1   \n",
       "3         House        No          Yes         None     None         1   \n",
       "4         House      None         None         None     None      None   \n",
       "\n",
       "  kitchen lounge dining_room parking garden  pool garage erf_size (m²)  \\\n",
       "0       1      1           1       1   None  None   None          None   \n",
       "1       1      1        None       1      1  None   None          None   \n",
       "2       1      1        None       1      1  None   None          None   \n",
       "3       1   None        None       3   None  None   None          None   \n",
       "4    None   None        None    None   None  None   None          None   \n",
       "\n",
       "  floor_area (m²)  \n",
       "0            None  \n",
       "1            None  \n",
       "2            None  \n",
       "3            None  \n",
       "4            None  "
      ]
     },
     "execution_count": 12,
     "metadata": {},
     "output_type": "execute_result"
    }
   ],
   "source": [
    "# We define the patterns of the features we want to extract\n",
    "patterns = {\n",
    "    'listing_number': r'Listing Number(\\d+)',\n",
    "    'property_type': r'Type of Property\\s*(House|Apartment / Flat|Townhouse|Commercial|Industrial|Vacant Land|Farm)',\n",
    "    'furnished': r'Furnished(Yes|No)',\n",
    "    'pets_allowed': r'Pets Allowed(Yes|No)',\n",
    "    'backup_water': r'Backup Water(Yes|No)',\n",
    "    'bedrooms': r'Bedrooms?\\s*(\\d+)',\n",
    "    'bathrooms': r'Bathrooms?\\s*(\\d+)',\n",
    "    'kitchen': r'Kitchens?\\s*(\\d+)',\n",
    "    'lounge': r'Lounges?\\s*(\\d+)',\n",
    "    'dining_room': r'Dining Rooms?\\s*(\\d+)',\n",
    "    'parking': r'Parking(\\d+)',\n",
    "    'garden': r'Gardens?\\s*(\\d+)',\n",
    "    'pool': r'Pools?\\s*(\\d+)',\n",
    "    'garage': r'Garages?\\s*(\\d+)',\n",
    "    'erf_size (m²)': r'Erf Size\\s*(\\d+)\\s*m²',\n",
    "    'floor_area (m²)': r'Floor Area\\s*(\\d+)\\s*m²'\n",
    "}\n",
    "\n",
    "\n",
    "\n",
    "# Function to extract features from text\n",
    "def extract_features(text):\n",
    "    return {\n",
    "        field: (match := re.search(pattern, text)\n",
    "                ) and match.group(1).strip() or None for field, pattern in patterns.items()\n",
    "    }\n",
    "    \n",
    "# Apply extraction row-wise\n",
    "extracted_df = rental_listings['property_features'].apply(extract_features).apply(pd.Series)\n",
    "\n",
    "# Combine the original df with the extracted columns\n",
    "results_df = pd.concat([rental_listings, extracted_df], axis=1)\n",
    "\n",
    "# Drop the property_features after the extraction is complete\n",
    "results_df.drop(columns=['property_features'], inplace=True)\n",
    "\n",
    "# View results\n",
    "results_df.head()"
   ]
  },
  {
   "cell_type": "code",
   "execution_count": 13,
   "id": "0903730d",
   "metadata": {},
   "outputs": [
    {
     "data": {
      "text/plain": [
       "np.int64(11068)"
      ]
     },
     "execution_count": 13,
     "metadata": {},
     "output_type": "execute_result"
    }
   ],
   "source": [
    "# Print the number of null values in the `bedrooms` column\n",
    "results_df[\"bedrooms\"].isnull().sum()"
   ]
  },
  {
   "cell_type": "markdown",
   "id": "f72b2998",
   "metadata": {},
   "source": [
    "The `property_title` column often contains structured phrases that include the number of bedrooms for residential properties such as apartments, houses and townhouses. This consistency allows for the extraction of bedroom information directly from the title using regular expressions, which can help fill in missing values in the `bedrooms` columns. "
   ]
  },
  {
   "cell_type": "code",
   "execution_count": 14,
   "id": "6c804854",
   "metadata": {},
   "outputs": [],
   "source": [
    "def extract_bedrooms_from_property_title(title):\n",
    "    if pd.isna(title):\n",
    "        return None\n",
    "    match = re.search(r'(\\d+)[-\\s]?bedroom', title.lower())\n",
    "    return int(match.group(1)) if match else None\n",
    "\n",
    "results_df['bedrooms'] = results_df['bedrooms'].fillna(\n",
    "    results_df.apply(lambda row: extract_bedrooms_from_property_title(row['property_title']) if pd.isna(row['bedrooms']) else row['bedrooms'], axis=1))\n",
    "\n",
    "# Convert the column to an integer type\n",
    "results_df['bedrooms'] = pd.to_numeric(results_df['bedrooms'], errors='coerce').astype('Int64')"
   ]
  },
  {
   "cell_type": "code",
   "execution_count": 15,
   "id": "855df346",
   "metadata": {},
   "outputs": [
    {
     "data": {
      "text/plain": [
       "np.int64(8521)"
      ]
     },
     "execution_count": 15,
     "metadata": {},
     "output_type": "execute_result"
    }
   ],
   "source": [
    "# Print the number of null values in the `bedrooms` column after the function has been applied\n",
    "results_df[\"bedrooms\"].isnull().sum()"
   ]
  },
  {
   "cell_type": "markdown",
   "id": "492e5bab",
   "metadata": {},
   "source": [
    "####  Suburb, city and province extraction"
   ]
  },
  {
   "cell_type": "markdown",
   "id": "4f271be5",
   "metadata": {},
   "source": [
    "The `property_title` column follows a structure that includes the suburb where the property is located. We can use this to extract the suburb for each listing. "
   ]
  },
  {
   "cell_type": "code",
   "execution_count": 16,
   "id": "4057939d",
   "metadata": {},
   "outputs": [
    {
     "data": {
      "application/vnd.microsoft.datawrangler.viewer.v0+json": {
       "columns": [
        {
         "name": "index",
         "rawType": "int64",
         "type": "integer"
        },
        {
         "name": "price",
         "rawType": "object",
         "type": "string"
        },
        {
         "name": "location",
         "rawType": "object",
         "type": "string"
        },
        {
         "name": "listing_slug",
         "rawType": "object",
         "type": "string"
        },
        {
         "name": "listing_number",
         "rawType": "object",
         "type": "string"
        },
        {
         "name": "property_type",
         "rawType": "object",
         "type": "string"
        },
        {
         "name": "furnished",
         "rawType": "object",
         "type": "unknown"
        },
        {
         "name": "pets_allowed",
         "rawType": "object",
         "type": "unknown"
        },
        {
         "name": "backup_water",
         "rawType": "object",
         "type": "unknown"
        },
        {
         "name": "bedrooms",
         "rawType": "Int64",
         "type": "integer"
        },
        {
         "name": "bathrooms",
         "rawType": "object",
         "type": "unknown"
        },
        {
         "name": "kitchen",
         "rawType": "object",
         "type": "unknown"
        },
        {
         "name": "lounge",
         "rawType": "object",
         "type": "unknown"
        },
        {
         "name": "dining_room",
         "rawType": "object",
         "type": "unknown"
        },
        {
         "name": "parking",
         "rawType": "object",
         "type": "unknown"
        },
        {
         "name": "garden",
         "rawType": "object",
         "type": "unknown"
        },
        {
         "name": "pool",
         "rawType": "object",
         "type": "unknown"
        },
        {
         "name": "garage",
         "rawType": "object",
         "type": "unknown"
        },
        {
         "name": "erf_size (m²)",
         "rawType": "object",
         "type": "unknown"
        },
        {
         "name": "floor_area (m²)",
         "rawType": "object",
         "type": "unknown"
        },
        {
         "name": "suburb",
         "rawType": "object",
         "type": "string"
        }
       ],
       "ref": "cc55f758-bd22-4e45-9bf3-00475492b25a",
       "rows": [
        [
         "0",
         "R 7 000Per Month",
         "Bhisho, Tyu Tyu North",
         "3-bedroom-house-to-rent-in-tyu-tyu-north-115295115",
         "115295115",
         "House",
         "No",
         "No",
         "No",
         "3",
         "1",
         "1",
         "1",
         "1",
         "1",
         null,
         null,
         null,
         null,
         null,
         "Tyu Tyu North"
        ],
        [
         "1",
         "R 7 000Per Month",
         "Bhisho, Bhisho Central",
         "3-bedroom-house-to-rent-in-bhisho-central-115332086",
         "115332086",
         "House",
         "No",
         "No",
         null,
         "3",
         "1",
         "1",
         "1",
         null,
         "1",
         "1",
         null,
         null,
         null,
         null,
         "Bhisho Central"
        ],
        [
         "2",
         "R 5 300Per Month",
         "Bhisho, Tyu Tyu North",
         "2-bedroom-house-to-rent-in-tyu-tyu-north-115210602",
         "115210602",
         "House",
         "No",
         "Yes",
         null,
         "2",
         "1",
         "1",
         "1",
         null,
         "1",
         "1",
         null,
         null,
         null,
         null,
         "Tyu Tyu North"
        ],
        [
         "3",
         "R 7 500Per Month",
         "Bhisho, Bisho Park",
         "3-bedroom-house-to-rent-in-bisho-park-115555490",
         "115555490",
         "House",
         "No",
         "Yes",
         null,
         "3",
         "1",
         "1",
         null,
         null,
         "3",
         null,
         null,
         null,
         null,
         null,
         "Bisho Park"
        ],
        [
         "4",
         "R 5 500Per Month",
         "Bhisho, Bisho Park",
         "house-to-rent-in-bisho-park-115525482",
         "115525482",
         "House",
         null,
         null,
         null,
         null,
         null,
         null,
         null,
         null,
         null,
         null,
         null,
         null,
         null,
         null,
         "Bisho Park"
        ]
       ],
       "shape": {
        "columns": 20,
        "rows": 5
       }
      },
      "text/html": [
       "<div>\n",
       "<style scoped>\n",
       "    .dataframe tbody tr th:only-of-type {\n",
       "        vertical-align: middle;\n",
       "    }\n",
       "\n",
       "    .dataframe tbody tr th {\n",
       "        vertical-align: top;\n",
       "    }\n",
       "\n",
       "    .dataframe thead th {\n",
       "        text-align: right;\n",
       "    }\n",
       "</style>\n",
       "<table border=\"1\" class=\"dataframe\">\n",
       "  <thead>\n",
       "    <tr style=\"text-align: right;\">\n",
       "      <th></th>\n",
       "      <th>price</th>\n",
       "      <th>location</th>\n",
       "      <th>listing_slug</th>\n",
       "      <th>listing_number</th>\n",
       "      <th>property_type</th>\n",
       "      <th>furnished</th>\n",
       "      <th>pets_allowed</th>\n",
       "      <th>backup_water</th>\n",
       "      <th>bedrooms</th>\n",
       "      <th>bathrooms</th>\n",
       "      <th>kitchen</th>\n",
       "      <th>lounge</th>\n",
       "      <th>dining_room</th>\n",
       "      <th>parking</th>\n",
       "      <th>garden</th>\n",
       "      <th>pool</th>\n",
       "      <th>garage</th>\n",
       "      <th>erf_size (m²)</th>\n",
       "      <th>floor_area (m²)</th>\n",
       "      <th>suburb</th>\n",
       "    </tr>\n",
       "  </thead>\n",
       "  <tbody>\n",
       "    <tr>\n",
       "      <th>0</th>\n",
       "      <td>R 7 000Per Month</td>\n",
       "      <td>Bhisho, Tyu Tyu North</td>\n",
       "      <td>3-bedroom-house-to-rent-in-tyu-tyu-north-11529...</td>\n",
       "      <td>115295115</td>\n",
       "      <td>House</td>\n",
       "      <td>No</td>\n",
       "      <td>No</td>\n",
       "      <td>No</td>\n",
       "      <td>3</td>\n",
       "      <td>1</td>\n",
       "      <td>1</td>\n",
       "      <td>1</td>\n",
       "      <td>1</td>\n",
       "      <td>1</td>\n",
       "      <td>None</td>\n",
       "      <td>None</td>\n",
       "      <td>None</td>\n",
       "      <td>None</td>\n",
       "      <td>None</td>\n",
       "      <td>Tyu Tyu North</td>\n",
       "    </tr>\n",
       "    <tr>\n",
       "      <th>1</th>\n",
       "      <td>R 7 000Per Month</td>\n",
       "      <td>Bhisho, Bhisho Central</td>\n",
       "      <td>3-bedroom-house-to-rent-in-bhisho-central-1153...</td>\n",
       "      <td>115332086</td>\n",
       "      <td>House</td>\n",
       "      <td>No</td>\n",
       "      <td>No</td>\n",
       "      <td>None</td>\n",
       "      <td>3</td>\n",
       "      <td>1</td>\n",
       "      <td>1</td>\n",
       "      <td>1</td>\n",
       "      <td>None</td>\n",
       "      <td>1</td>\n",
       "      <td>1</td>\n",
       "      <td>None</td>\n",
       "      <td>None</td>\n",
       "      <td>None</td>\n",
       "      <td>None</td>\n",
       "      <td>Bhisho Central</td>\n",
       "    </tr>\n",
       "    <tr>\n",
       "      <th>2</th>\n",
       "      <td>R 5 300Per Month</td>\n",
       "      <td>Bhisho, Tyu Tyu North</td>\n",
       "      <td>2-bedroom-house-to-rent-in-tyu-tyu-north-11521...</td>\n",
       "      <td>115210602</td>\n",
       "      <td>House</td>\n",
       "      <td>No</td>\n",
       "      <td>Yes</td>\n",
       "      <td>None</td>\n",
       "      <td>2</td>\n",
       "      <td>1</td>\n",
       "      <td>1</td>\n",
       "      <td>1</td>\n",
       "      <td>None</td>\n",
       "      <td>1</td>\n",
       "      <td>1</td>\n",
       "      <td>None</td>\n",
       "      <td>None</td>\n",
       "      <td>None</td>\n",
       "      <td>None</td>\n",
       "      <td>Tyu Tyu North</td>\n",
       "    </tr>\n",
       "    <tr>\n",
       "      <th>3</th>\n",
       "      <td>R 7 500Per Month</td>\n",
       "      <td>Bhisho, Bisho Park</td>\n",
       "      <td>3-bedroom-house-to-rent-in-bisho-park-115555490</td>\n",
       "      <td>115555490</td>\n",
       "      <td>House</td>\n",
       "      <td>No</td>\n",
       "      <td>Yes</td>\n",
       "      <td>None</td>\n",
       "      <td>3</td>\n",
       "      <td>1</td>\n",
       "      <td>1</td>\n",
       "      <td>None</td>\n",
       "      <td>None</td>\n",
       "      <td>3</td>\n",
       "      <td>None</td>\n",
       "      <td>None</td>\n",
       "      <td>None</td>\n",
       "      <td>None</td>\n",
       "      <td>None</td>\n",
       "      <td>Bisho Park</td>\n",
       "    </tr>\n",
       "    <tr>\n",
       "      <th>4</th>\n",
       "      <td>R 5 500Per Month</td>\n",
       "      <td>Bhisho, Bisho Park</td>\n",
       "      <td>house-to-rent-in-bisho-park-115525482</td>\n",
       "      <td>115525482</td>\n",
       "      <td>House</td>\n",
       "      <td>None</td>\n",
       "      <td>None</td>\n",
       "      <td>None</td>\n",
       "      <td>&lt;NA&gt;</td>\n",
       "      <td>None</td>\n",
       "      <td>None</td>\n",
       "      <td>None</td>\n",
       "      <td>None</td>\n",
       "      <td>None</td>\n",
       "      <td>None</td>\n",
       "      <td>None</td>\n",
       "      <td>None</td>\n",
       "      <td>None</td>\n",
       "      <td>None</td>\n",
       "      <td>Bisho Park</td>\n",
       "    </tr>\n",
       "  </tbody>\n",
       "</table>\n",
       "</div>"
      ],
      "text/plain": [
       "              price                location  \\\n",
       "0  R 7 000Per Month   Bhisho, Tyu Tyu North   \n",
       "1  R 7 000Per Month  Bhisho, Bhisho Central   \n",
       "2  R 5 300Per Month   Bhisho, Tyu Tyu North   \n",
       "3  R 7 500Per Month      Bhisho, Bisho Park   \n",
       "4  R 5 500Per Month      Bhisho, Bisho Park   \n",
       "\n",
       "                                        listing_slug listing_number  \\\n",
       "0  3-bedroom-house-to-rent-in-tyu-tyu-north-11529...      115295115   \n",
       "1  3-bedroom-house-to-rent-in-bhisho-central-1153...      115332086   \n",
       "2  2-bedroom-house-to-rent-in-tyu-tyu-north-11521...      115210602   \n",
       "3    3-bedroom-house-to-rent-in-bisho-park-115555490      115555490   \n",
       "4              house-to-rent-in-bisho-park-115525482      115525482   \n",
       "\n",
       "  property_type furnished pets_allowed backup_water  bedrooms bathrooms  \\\n",
       "0         House        No           No           No         3         1   \n",
       "1         House        No           No         None         3         1   \n",
       "2         House        No          Yes         None         2         1   \n",
       "3         House        No          Yes         None         3         1   \n",
       "4         House      None         None         None      <NA>      None   \n",
       "\n",
       "  kitchen lounge dining_room parking garden  pool garage erf_size (m²)  \\\n",
       "0       1      1           1       1   None  None   None          None   \n",
       "1       1      1        None       1      1  None   None          None   \n",
       "2       1      1        None       1      1  None   None          None   \n",
       "3       1   None        None       3   None  None   None          None   \n",
       "4    None   None        None    None   None  None   None          None   \n",
       "\n",
       "  floor_area (m²)          suburb  \n",
       "0            None   Tyu Tyu North  \n",
       "1            None  Bhisho Central  \n",
       "2            None   Tyu Tyu North  \n",
       "3            None      Bisho Park  \n",
       "4            None      Bisho Park  "
      ]
     },
     "execution_count": 16,
     "metadata": {},
     "output_type": "execute_result"
    }
   ],
   "source": [
    "# Extract the suburb from the property_title column\n",
    "results_df['suburb'] = results_df['property_title'].str.extract(\n",
    "    r'to Rent in (.+)', expand=False)\n",
    "\n",
    "# Remove the trailing numbers from the suburb column\n",
    "results_df['suburb'] = (\n",
    "    results_df['suburb'].str.replace(r'-\\d+$', '', regex=True).str.strip())\n",
    "\n",
    "# Drop the property_title column as we have extracted all the information we need\n",
    "results_df.drop(columns=['property_title'], inplace=True)\n",
    "\n",
    "# Print the first five rows of the table to see the results\n",
    "results_df.head()"
   ]
  },
  {
   "cell_type": "markdown",
   "id": "d3052575",
   "metadata": {},
   "source": [
    "We will then load a seperate **city_province** csv file that contains a mapping of cities to their matching provinces to validate and fill in missing province information in the main dataset. "
   ]
  },
  {
   "cell_type": "code",
   "execution_count": 17,
   "id": "46e5b844",
   "metadata": {},
   "outputs": [],
   "source": [
    "# Load the CSV that contains the capital_cities with their respective provinces and create a mapping\n",
    "city_province = pd.read_csv(\"../data/raw/south_africa_provinces_capitals.csv\")\n",
    "\n",
    "# Crete a mapping from city to province\n",
    "city_list = city_province['city'].dropna().str.strip().unique()"
   ]
  },
  {
   "cell_type": "markdown",
   "id": "92bfda5b",
   "metadata": {},
   "source": [
    "The `location` column contains inconsistent formats, where it lists both the suburb and city and other times provides a full address. To address this, we use the *city_list* mapping to extract the city by matching it against known entries. If no match is found, the value is replaced with **None**."
   ]
  },
  {
   "cell_type": "code",
   "execution_count": 18,
   "id": "1fd25e90",
   "metadata": {},
   "outputs": [],
   "source": [
    "def extract_city_from_location(location, city_list):\n",
    "    if pd.isna(location):\n",
    "        return None\n",
    "    \n",
    "    \n",
    "    location_lower = location.lower()\n",
    "    for city in city_list:\n",
    "        if city.lower() in location_lower:\n",
    "            return city\n",
    "    return None"
   ]
  },
  {
   "cell_type": "code",
   "execution_count": 19,
   "id": "40cea20f",
   "metadata": {},
   "outputs": [],
   "source": [
    "# Apply the extract_city_from_location function to extract the city from the location column\n",
    "results_df['city'] = results_df['location'].apply(\n",
    "    lambda loc: extract_city_from_location(loc, city_list))\n",
    "\n",
    "# Drop the location column as it is redundant\n",
    "results_df.drop(columns=[\"location\"], inplace=True)"
   ]
  },
  {
   "cell_type": "markdown",
   "id": "d69ee9df",
   "metadata": {},
   "source": [
    "The `city` column contains null values because some entries in the `location` column are empty or incomplete. To address this, we create a mapping of known suburbs to their matching cities and use it to fill in the missing `city` column. "
   ]
  },
  {
   "cell_type": "code",
   "execution_count": 20,
   "id": "5d587f6e",
   "metadata": {},
   "outputs": [],
   "source": [
    "# Create a mapping of suburb to known cities\n",
    "suburb_to_city_map = results_df[results_df['city'].notna()].drop_duplicates(subset=['suburb', 'city']).set_index('suburb')['city'].to_dict()\n",
    "\n",
    "# Fill missing city values based on the suburb\n",
    "results_df['city'] = results_df.apply(lambda row: suburb_to_city_map.get(row['suburb'], row['city']) if pd.isna(row['city']) else row['city'], axis= 1)   "
   ]
  },
  {
   "cell_type": "code",
   "execution_count": 21,
   "id": "90f5968d",
   "metadata": {},
   "outputs": [
    {
     "data": {
      "text/plain": [
       "np.int64(91)"
      ]
     },
     "execution_count": 21,
     "metadata": {},
     "output_type": "execute_result"
    }
   ],
   "source": [
    "# Print out the number of null values within the `city` column\n",
    "results_df['city'].isnull().sum()"
   ]
  },
  {
   "cell_type": "markdown",
   "id": "257b7890",
   "metadata": {},
   "source": [
    "There are 91 null rows in the city column which account for less than 0.5% of the total dataset. We remove these rows to maintain data quality given their small proportion. "
   ]
  },
  {
   "cell_type": "code",
   "execution_count": 22,
   "id": "aac4dd4b",
   "metadata": {},
   "outputs": [
    {
     "data": {
      "text/plain": [
       "np.int64(0)"
      ]
     },
     "execution_count": 22,
     "metadata": {},
     "output_type": "execute_result"
    }
   ],
   "source": [
    "# Drop the city rows with null values\n",
    "results_df = results_df.dropna(subset=['city'])\n",
    "results_df['city'].isnull().sum()"
   ]
  },
  {
   "cell_type": "markdown",
   "id": "d63e92fb",
   "metadata": {},
   "source": [
    "We will then merge the dataset with the **city_province.csv** file to assign the matching province to each city. "
   ]
  },
  {
   "cell_type": "code",
   "execution_count": 23,
   "id": "1fe2bdb3",
   "metadata": {},
   "outputs": [],
   "source": [
    "# Merge the city with its matching province\n",
    "results_df = results_df.merge(city_province, on='city', how='left')"
   ]
  },
  {
   "cell_type": "markdown",
   "id": "c318c993",
   "metadata": {},
   "source": [
    "The `listing_slug` column contains a URL-friendly string summarising key details about this listing, such as the number of bedrooms, property type, suburb, and a unique listing ID. This information is already available in other columns; we drop `listing_slug` to avoid redundancy. "
   ]
  },
  {
   "cell_type": "code",
   "execution_count": 24,
   "id": "7083d40c",
   "metadata": {},
   "outputs": [],
   "source": [
    "# Drop the listing slug column\n",
    "results_df.drop(columns=['listing_slug'], inplace=True)"
   ]
  },
  {
   "cell_type": "markdown",
   "id": "85a7fb31",
   "metadata": {},
   "source": [
    "#### Price column"
   ]
  },
  {
   "cell_type": "markdown",
   "id": "5f6ec85a",
   "metadata": {},
   "source": [
    "The `price` column currently combines the price amount with its associated pricing type (e.g., R 7000Per Month), which complicates aggregation and analysis. To resolve this, we separate the pricing type into a new `price_type` column and extract the numeric value into a new `price (ZAR)` column, removing the currency symbol in the process. The cleaned data is then stored in a new DataFrame called **results_df**. "
   ]
  },
  {
   "cell_type": "code",
   "execution_count": 25,
   "id": "fd3bd830",
   "metadata": {},
   "outputs": [
    {
     "name": "stdout",
     "output_type": "stream",
     "text": [
      "              price price_type  price (ZAR)\n",
      "0  R 7 000Per Month  Per Month       7000.0\n",
      "1  R 7 000Per Month  Per Month       7000.0\n",
      "2  R 5 300Per Month  Per Month       5300.0\n",
      "3  R 7 500Per Month  Per Month       7500.0\n",
      "4  R 5 500Per Month  Per Month       5500.0\n"
     ]
    }
   ],
   "source": [
    "# Extract the pricing option after the price amount\n",
    "results_df['price_type'] = results_df['price'].str.extract(\n",
    "    r'(Per\\s*Month|Per\\s*Day|m2|m²|Perm²)', flags=re.IGNORECASE, expand=False\n",
    ")\n",
    "\n",
    "\n",
    "# Normalise price_type text (remove spaces, lower case), then map to standard form\n",
    "results_df['price_type'] = results_df['price_type'].str.replace(\n",
    "    r'\\s+', '', regex=True).str.lower()\n",
    "results_df['price_type'] = results_df['price_type'].replace({\n",
    "    'permonth': 'Per Month',\n",
    "    'perday': 'Per Day',\n",
    "    'm2': 'Per m²',\n",
    "    'm²': 'Per m²',\n",
    "    'perm²': 'Per m²'\n",
    "})\n",
    "\n",
    "# Remove spaces inside the price string first\n",
    "results_df['price_clean'] = results_df['price'].str.replace(\n",
    "    r'\\s+', '', regex=True)\n",
    "\n",
    "# Now extract the numeric part (digits only, continuous)\n",
    "results_df['price (ZAR)'] = results_df['price_clean'].str.extract(\n",
    "    r'R?(\\d+)', expand=False)\n",
    "\n",
    "# Convert the price(ZAR) column to numeric\n",
    "results_df['price (ZAR)'] = pd.to_numeric(\n",
    "    results_df['price (ZAR)'], errors='coerce')\n",
    "\n",
    "# Drop the helper column `price_clean` column\n",
    "results_df.drop(columns=['price_clean'], inplace=True)\n",
    "\n",
    "# Then clean blank or whitespace-only price_type entries as before\n",
    "results_df['price_type'] = results_df['price_type'].replace(\n",
    "    r'^\\s*$', pd.NA, regex=True)\n",
    "\n",
    "# Preview results\n",
    "print(results_df[['price', 'price_type', 'price (ZAR)']].head())"
   ]
  },
  {
   "cell_type": "code",
   "execution_count": 26,
   "id": "14d6e2f3",
   "metadata": {},
   "outputs": [
    {
     "data": {
      "application/vnd.microsoft.datawrangler.viewer.v0+json": {
       "columns": [
        {
         "name": "price_type",
         "rawType": "object",
         "type": "string"
        },
        {
         "name": "count",
         "rawType": "int64",
         "type": "integer"
        }
       ],
       "ref": "98105b54-96af-428e-adb1-37a639a7f6ed",
       "rows": [
        [
         "Per Month",
         "12826"
        ],
        [
         "Per m²",
         "948"
        ],
        [
         "Per Day",
         "143"
        ]
       ],
       "shape": {
        "columns": 1,
        "rows": 3
       }
      },
      "text/plain": [
       "price_type\n",
       "Per Month    12826\n",
       "Per m²         948\n",
       "Per Day        143\n",
       "Name: count, dtype: int64"
      ]
     },
     "execution_count": 26,
     "metadata": {},
     "output_type": "execute_result"
    }
   ],
   "source": [
    "# Get the unique values in the price_type column\n",
    "results_df['price_type'].value_counts()"
   ]
  },
  {
   "cell_type": "code",
   "execution_count": 27,
   "id": "0b368c91",
   "metadata": {},
   "outputs": [
    {
     "data": {
      "text/plain": [
       "np.int64(12)"
      ]
     },
     "execution_count": 27,
     "metadata": {},
     "output_type": "execute_result"
    }
   ],
   "source": [
    "# Get the number of null values in the price_type column\n",
    "results_df['price_type'].isnull().sum()"
   ]
  },
  {
   "cell_type": "markdown",
   "id": "c4f47812",
   "metadata": {},
   "source": [
    "There are 12 null values in the `price_type` column, which is unexpected given that the `price` column contains no null entries. To investigate this, we filter the dataset to display the rows where `price_type` is missing. "
   ]
  },
  {
   "cell_type": "code",
   "execution_count": 28,
   "id": "32602d6a",
   "metadata": {},
   "outputs": [
    {
     "data": {
      "application/vnd.microsoft.datawrangler.viewer.v0+json": {
       "columns": [
        {
         "name": "index",
         "rawType": "int64",
         "type": "integer"
        },
        {
         "name": "price",
         "rawType": "object",
         "type": "string"
        },
        {
         "name": "listing_number",
         "rawType": "object",
         "type": "string"
        },
        {
         "name": "property_type",
         "rawType": "object",
         "type": "string"
        },
        {
         "name": "furnished",
         "rawType": "object",
         "type": "unknown"
        },
        {
         "name": "pets_allowed",
         "rawType": "object",
         "type": "unknown"
        },
        {
         "name": "backup_water",
         "rawType": "object",
         "type": "unknown"
        },
        {
         "name": "bedrooms",
         "rawType": "Int64",
         "type": "integer"
        },
        {
         "name": "bathrooms",
         "rawType": "object",
         "type": "unknown"
        },
        {
         "name": "kitchen",
         "rawType": "object",
         "type": "unknown"
        },
        {
         "name": "lounge",
         "rawType": "object",
         "type": "unknown"
        },
        {
         "name": "dining_room",
         "rawType": "object",
         "type": "unknown"
        },
        {
         "name": "parking",
         "rawType": "object",
         "type": "unknown"
        },
        {
         "name": "garden",
         "rawType": "object",
         "type": "unknown"
        },
        {
         "name": "pool",
         "rawType": "object",
         "type": "unknown"
        },
        {
         "name": "garage",
         "rawType": "object",
         "type": "unknown"
        },
        {
         "name": "erf_size (m²)",
         "rawType": "object",
         "type": "unknown"
        },
        {
         "name": "floor_area (m²)",
         "rawType": "object",
         "type": "unknown"
        },
        {
         "name": "suburb",
         "rawType": "object",
         "type": "string"
        },
        {
         "name": "city",
         "rawType": "object",
         "type": "string"
        },
        {
         "name": "province",
         "rawType": "object",
         "type": "string"
        },
        {
         "name": "price_type",
         "rawType": "object",
         "type": "unknown"
        },
        {
         "name": "price (ZAR)",
         "rawType": "float64",
         "type": "float"
        }
       ],
       "ref": "111f6b35-2947-4510-9710-03081b360c40",
       "rows": [
        [
         "357",
         "POA",
         "114774738",
         "Industrial",
         "No",
         null,
         null,
         null,
         null,
         null,
         null,
         null,
         null,
         null,
         null,
         null,
         null,
         null,
         "Hilton",
         "Bloemfontein",
         "Free State",
         null,
         null
        ],
        [
         "3728",
         "POA",
         "115605901",
         "House",
         "Yes",
         "No",
         null,
         "4",
         "6",
         "2",
         "2",
         "2",
         null,
         "1",
         "1",
         "1",
         null,
         null,
         "Bantry Bay",
         "Cape Town",
         "Western Cape",
         null,
         null
        ],
        [
         "3760",
         "POA",
         "115594664",
         "House",
         "Yes",
         "No",
         null,
         "5",
         "7",
         "2",
         "4",
         "3",
         null,
         null,
         "1",
         "1",
         null,
         null,
         "Clifton",
         "Cape Town",
         "Western Cape",
         null,
         null
        ],
        [
         "3771",
         "POA",
         "115613951",
         "House",
         "Yes",
         null,
         null,
         "5",
         "5",
         "2",
         "4",
         null,
         null,
         null,
         "1",
         "1",
         null,
         null,
         "Fresnaye",
         "Cape Town",
         "Western Cape",
         null,
         null
        ],
        [
         "3837",
         "POA",
         "115606187",
         "House",
         "Yes",
         "No",
         null,
         "4",
         "5",
         "1",
         "1",
         "1",
         null,
         null,
         "1",
         "2",
         null,
         null,
         "Clifton",
         "Cape Town",
         "Western Cape",
         null,
         null
        ],
        [
         "4180",
         "POA",
         "108778518",
         "House",
         "Yes",
         null,
         null,
         "5",
         "5",
         "1",
         "1",
         "1",
         "4",
         null,
         null,
         null,
         "991",
         "862",
         "Llandudno",
         "Cape Town",
         "Western Cape",
         null,
         null
        ],
        [
         "4587",
         "POA",
         "115118688",
         "House",
         "Yes",
         "No",
         null,
         "5",
         "4",
         "1",
         null,
         null,
         null,
         null,
         null,
         null,
         "530",
         null,
         "Camps Bay",
         "Cape Town",
         "Western Cape",
         null,
         null
        ],
        [
         "4610",
         "POA",
         "115153896",
         "House",
         "Yes",
         "No",
         null,
         "5",
         "5",
         null,
         null,
         null,
         null,
         null,
         null,
         null,
         null,
         "463",
         "Clifton",
         "Cape Town",
         "Western Cape",
         null,
         null
        ],
        [
         "4896",
         "POA",
         "110813037",
         "House",
         "Yes",
         null,
         null,
         "8",
         "8",
         "1",
         "1",
         null,
         null,
         null,
         null,
         null,
         null,
         "605",
         "Llandudno",
         "Cape Town",
         "Western Cape",
         null,
         null
        ],
        [
         "4899",
         "POA",
         "113953599",
         "House",
         "Yes",
         null,
         null,
         "7",
         "7",
         null,
         null,
         null,
         "20",
         null,
         null,
         null,
         null,
         null,
         "Constantia",
         "Cape Town",
         "Western Cape",
         null,
         null
        ],
        [
         "5027",
         "POA",
         "106851597",
         "House",
         "Yes",
         null,
         null,
         "7",
         "5",
         "1",
         null,
         null,
         null,
         null,
         null,
         null,
         null,
         null,
         "Llandudno",
         "Cape Town",
         "Western Cape",
         null,
         null
        ],
        [
         "11534",
         "POA",
         "114533276",
         "Industrial",
         null,
         null,
         null,
         null,
         null,
         null,
         null,
         null,
         null,
         null,
         null,
         null,
         null,
         null,
         "City Deep",
         "Johannesburg",
         "Gauteng",
         null,
         null
        ]
       ],
       "shape": {
        "columns": 22,
        "rows": 12
       }
      },
      "text/html": [
       "<div>\n",
       "<style scoped>\n",
       "    .dataframe tbody tr th:only-of-type {\n",
       "        vertical-align: middle;\n",
       "    }\n",
       "\n",
       "    .dataframe tbody tr th {\n",
       "        vertical-align: top;\n",
       "    }\n",
       "\n",
       "    .dataframe thead th {\n",
       "        text-align: right;\n",
       "    }\n",
       "</style>\n",
       "<table border=\"1\" class=\"dataframe\">\n",
       "  <thead>\n",
       "    <tr style=\"text-align: right;\">\n",
       "      <th></th>\n",
       "      <th>price</th>\n",
       "      <th>listing_number</th>\n",
       "      <th>property_type</th>\n",
       "      <th>furnished</th>\n",
       "      <th>pets_allowed</th>\n",
       "      <th>backup_water</th>\n",
       "      <th>bedrooms</th>\n",
       "      <th>bathrooms</th>\n",
       "      <th>kitchen</th>\n",
       "      <th>lounge</th>\n",
       "      <th>...</th>\n",
       "      <th>garden</th>\n",
       "      <th>pool</th>\n",
       "      <th>garage</th>\n",
       "      <th>erf_size (m²)</th>\n",
       "      <th>floor_area (m²)</th>\n",
       "      <th>suburb</th>\n",
       "      <th>city</th>\n",
       "      <th>province</th>\n",
       "      <th>price_type</th>\n",
       "      <th>price (ZAR)</th>\n",
       "    </tr>\n",
       "  </thead>\n",
       "  <tbody>\n",
       "    <tr>\n",
       "      <th>357</th>\n",
       "      <td>POA</td>\n",
       "      <td>114774738</td>\n",
       "      <td>Industrial</td>\n",
       "      <td>No</td>\n",
       "      <td>None</td>\n",
       "      <td>None</td>\n",
       "      <td>&lt;NA&gt;</td>\n",
       "      <td>None</td>\n",
       "      <td>None</td>\n",
       "      <td>None</td>\n",
       "      <td>...</td>\n",
       "      <td>None</td>\n",
       "      <td>None</td>\n",
       "      <td>None</td>\n",
       "      <td>None</td>\n",
       "      <td>None</td>\n",
       "      <td>Hilton</td>\n",
       "      <td>Bloemfontein</td>\n",
       "      <td>Free State</td>\n",
       "      <td>NaN</td>\n",
       "      <td>NaN</td>\n",
       "    </tr>\n",
       "    <tr>\n",
       "      <th>3728</th>\n",
       "      <td>POA</td>\n",
       "      <td>115605901</td>\n",
       "      <td>House</td>\n",
       "      <td>Yes</td>\n",
       "      <td>No</td>\n",
       "      <td>None</td>\n",
       "      <td>4</td>\n",
       "      <td>6</td>\n",
       "      <td>2</td>\n",
       "      <td>2</td>\n",
       "      <td>...</td>\n",
       "      <td>1</td>\n",
       "      <td>1</td>\n",
       "      <td>1</td>\n",
       "      <td>None</td>\n",
       "      <td>None</td>\n",
       "      <td>Bantry Bay</td>\n",
       "      <td>Cape Town</td>\n",
       "      <td>Western Cape</td>\n",
       "      <td>NaN</td>\n",
       "      <td>NaN</td>\n",
       "    </tr>\n",
       "    <tr>\n",
       "      <th>3760</th>\n",
       "      <td>POA</td>\n",
       "      <td>115594664</td>\n",
       "      <td>House</td>\n",
       "      <td>Yes</td>\n",
       "      <td>No</td>\n",
       "      <td>None</td>\n",
       "      <td>5</td>\n",
       "      <td>7</td>\n",
       "      <td>2</td>\n",
       "      <td>4</td>\n",
       "      <td>...</td>\n",
       "      <td>None</td>\n",
       "      <td>1</td>\n",
       "      <td>1</td>\n",
       "      <td>None</td>\n",
       "      <td>None</td>\n",
       "      <td>Clifton</td>\n",
       "      <td>Cape Town</td>\n",
       "      <td>Western Cape</td>\n",
       "      <td>NaN</td>\n",
       "      <td>NaN</td>\n",
       "    </tr>\n",
       "    <tr>\n",
       "      <th>3771</th>\n",
       "      <td>POA</td>\n",
       "      <td>115613951</td>\n",
       "      <td>House</td>\n",
       "      <td>Yes</td>\n",
       "      <td>None</td>\n",
       "      <td>None</td>\n",
       "      <td>5</td>\n",
       "      <td>5</td>\n",
       "      <td>2</td>\n",
       "      <td>4</td>\n",
       "      <td>...</td>\n",
       "      <td>None</td>\n",
       "      <td>1</td>\n",
       "      <td>1</td>\n",
       "      <td>None</td>\n",
       "      <td>None</td>\n",
       "      <td>Fresnaye</td>\n",
       "      <td>Cape Town</td>\n",
       "      <td>Western Cape</td>\n",
       "      <td>NaN</td>\n",
       "      <td>NaN</td>\n",
       "    </tr>\n",
       "    <tr>\n",
       "      <th>3837</th>\n",
       "      <td>POA</td>\n",
       "      <td>115606187</td>\n",
       "      <td>House</td>\n",
       "      <td>Yes</td>\n",
       "      <td>No</td>\n",
       "      <td>None</td>\n",
       "      <td>4</td>\n",
       "      <td>5</td>\n",
       "      <td>1</td>\n",
       "      <td>1</td>\n",
       "      <td>...</td>\n",
       "      <td>None</td>\n",
       "      <td>1</td>\n",
       "      <td>2</td>\n",
       "      <td>None</td>\n",
       "      <td>None</td>\n",
       "      <td>Clifton</td>\n",
       "      <td>Cape Town</td>\n",
       "      <td>Western Cape</td>\n",
       "      <td>NaN</td>\n",
       "      <td>NaN</td>\n",
       "    </tr>\n",
       "    <tr>\n",
       "      <th>4180</th>\n",
       "      <td>POA</td>\n",
       "      <td>108778518</td>\n",
       "      <td>House</td>\n",
       "      <td>Yes</td>\n",
       "      <td>None</td>\n",
       "      <td>None</td>\n",
       "      <td>5</td>\n",
       "      <td>5</td>\n",
       "      <td>1</td>\n",
       "      <td>1</td>\n",
       "      <td>...</td>\n",
       "      <td>None</td>\n",
       "      <td>None</td>\n",
       "      <td>None</td>\n",
       "      <td>991</td>\n",
       "      <td>862</td>\n",
       "      <td>Llandudno</td>\n",
       "      <td>Cape Town</td>\n",
       "      <td>Western Cape</td>\n",
       "      <td>NaN</td>\n",
       "      <td>NaN</td>\n",
       "    </tr>\n",
       "    <tr>\n",
       "      <th>4587</th>\n",
       "      <td>POA</td>\n",
       "      <td>115118688</td>\n",
       "      <td>House</td>\n",
       "      <td>Yes</td>\n",
       "      <td>No</td>\n",
       "      <td>None</td>\n",
       "      <td>5</td>\n",
       "      <td>4</td>\n",
       "      <td>1</td>\n",
       "      <td>None</td>\n",
       "      <td>...</td>\n",
       "      <td>None</td>\n",
       "      <td>None</td>\n",
       "      <td>None</td>\n",
       "      <td>530</td>\n",
       "      <td>None</td>\n",
       "      <td>Camps Bay</td>\n",
       "      <td>Cape Town</td>\n",
       "      <td>Western Cape</td>\n",
       "      <td>NaN</td>\n",
       "      <td>NaN</td>\n",
       "    </tr>\n",
       "    <tr>\n",
       "      <th>4610</th>\n",
       "      <td>POA</td>\n",
       "      <td>115153896</td>\n",
       "      <td>House</td>\n",
       "      <td>Yes</td>\n",
       "      <td>No</td>\n",
       "      <td>None</td>\n",
       "      <td>5</td>\n",
       "      <td>5</td>\n",
       "      <td>None</td>\n",
       "      <td>None</td>\n",
       "      <td>...</td>\n",
       "      <td>None</td>\n",
       "      <td>None</td>\n",
       "      <td>None</td>\n",
       "      <td>None</td>\n",
       "      <td>463</td>\n",
       "      <td>Clifton</td>\n",
       "      <td>Cape Town</td>\n",
       "      <td>Western Cape</td>\n",
       "      <td>NaN</td>\n",
       "      <td>NaN</td>\n",
       "    </tr>\n",
       "    <tr>\n",
       "      <th>4896</th>\n",
       "      <td>POA</td>\n",
       "      <td>110813037</td>\n",
       "      <td>House</td>\n",
       "      <td>Yes</td>\n",
       "      <td>None</td>\n",
       "      <td>None</td>\n",
       "      <td>8</td>\n",
       "      <td>8</td>\n",
       "      <td>1</td>\n",
       "      <td>1</td>\n",
       "      <td>...</td>\n",
       "      <td>None</td>\n",
       "      <td>None</td>\n",
       "      <td>None</td>\n",
       "      <td>None</td>\n",
       "      <td>605</td>\n",
       "      <td>Llandudno</td>\n",
       "      <td>Cape Town</td>\n",
       "      <td>Western Cape</td>\n",
       "      <td>NaN</td>\n",
       "      <td>NaN</td>\n",
       "    </tr>\n",
       "    <tr>\n",
       "      <th>4899</th>\n",
       "      <td>POA</td>\n",
       "      <td>113953599</td>\n",
       "      <td>House</td>\n",
       "      <td>Yes</td>\n",
       "      <td>None</td>\n",
       "      <td>None</td>\n",
       "      <td>7</td>\n",
       "      <td>7</td>\n",
       "      <td>None</td>\n",
       "      <td>None</td>\n",
       "      <td>...</td>\n",
       "      <td>None</td>\n",
       "      <td>None</td>\n",
       "      <td>None</td>\n",
       "      <td>None</td>\n",
       "      <td>None</td>\n",
       "      <td>Constantia</td>\n",
       "      <td>Cape Town</td>\n",
       "      <td>Western Cape</td>\n",
       "      <td>NaN</td>\n",
       "      <td>NaN</td>\n",
       "    </tr>\n",
       "    <tr>\n",
       "      <th>5027</th>\n",
       "      <td>POA</td>\n",
       "      <td>106851597</td>\n",
       "      <td>House</td>\n",
       "      <td>Yes</td>\n",
       "      <td>None</td>\n",
       "      <td>None</td>\n",
       "      <td>7</td>\n",
       "      <td>5</td>\n",
       "      <td>1</td>\n",
       "      <td>None</td>\n",
       "      <td>...</td>\n",
       "      <td>None</td>\n",
       "      <td>None</td>\n",
       "      <td>None</td>\n",
       "      <td>None</td>\n",
       "      <td>None</td>\n",
       "      <td>Llandudno</td>\n",
       "      <td>Cape Town</td>\n",
       "      <td>Western Cape</td>\n",
       "      <td>NaN</td>\n",
       "      <td>NaN</td>\n",
       "    </tr>\n",
       "    <tr>\n",
       "      <th>11534</th>\n",
       "      <td>POA</td>\n",
       "      <td>114533276</td>\n",
       "      <td>Industrial</td>\n",
       "      <td>None</td>\n",
       "      <td>None</td>\n",
       "      <td>None</td>\n",
       "      <td>&lt;NA&gt;</td>\n",
       "      <td>None</td>\n",
       "      <td>None</td>\n",
       "      <td>None</td>\n",
       "      <td>...</td>\n",
       "      <td>None</td>\n",
       "      <td>None</td>\n",
       "      <td>None</td>\n",
       "      <td>None</td>\n",
       "      <td>None</td>\n",
       "      <td>City Deep</td>\n",
       "      <td>Johannesburg</td>\n",
       "      <td>Gauteng</td>\n",
       "      <td>NaN</td>\n",
       "      <td>NaN</td>\n",
       "    </tr>\n",
       "  </tbody>\n",
       "</table>\n",
       "<p>12 rows × 22 columns</p>\n",
       "</div>"
      ],
      "text/plain": [
       "      price listing_number property_type furnished pets_allowed backup_water  \\\n",
       "357     POA      114774738    Industrial        No         None         None   \n",
       "3728    POA      115605901         House       Yes           No         None   \n",
       "3760    POA      115594664         House       Yes           No         None   \n",
       "3771    POA      115613951         House       Yes         None         None   \n",
       "3837    POA      115606187         House       Yes           No         None   \n",
       "4180    POA      108778518         House       Yes         None         None   \n",
       "4587    POA      115118688         House       Yes           No         None   \n",
       "4610    POA      115153896         House       Yes           No         None   \n",
       "4896    POA      110813037         House       Yes         None         None   \n",
       "4899    POA      113953599         House       Yes         None         None   \n",
       "5027    POA      106851597         House       Yes         None         None   \n",
       "11534   POA      114533276    Industrial      None         None         None   \n",
       "\n",
       "       bedrooms bathrooms kitchen lounge  ... garden  pool garage  \\\n",
       "357        <NA>      None    None   None  ...   None  None   None   \n",
       "3728          4         6       2      2  ...      1     1      1   \n",
       "3760          5         7       2      4  ...   None     1      1   \n",
       "3771          5         5       2      4  ...   None     1      1   \n",
       "3837          4         5       1      1  ...   None     1      2   \n",
       "4180          5         5       1      1  ...   None  None   None   \n",
       "4587          5         4       1   None  ...   None  None   None   \n",
       "4610          5         5    None   None  ...   None  None   None   \n",
       "4896          8         8       1      1  ...   None  None   None   \n",
       "4899          7         7    None   None  ...   None  None   None   \n",
       "5027          7         5       1   None  ...   None  None   None   \n",
       "11534      <NA>      None    None   None  ...   None  None   None   \n",
       "\n",
       "      erf_size (m²) floor_area (m²)      suburb          city      province  \\\n",
       "357            None            None      Hilton  Bloemfontein    Free State   \n",
       "3728           None            None  Bantry Bay     Cape Town  Western Cape   \n",
       "3760           None            None     Clifton     Cape Town  Western Cape   \n",
       "3771           None            None    Fresnaye     Cape Town  Western Cape   \n",
       "3837           None            None     Clifton     Cape Town  Western Cape   \n",
       "4180            991             862   Llandudno     Cape Town  Western Cape   \n",
       "4587            530            None   Camps Bay     Cape Town  Western Cape   \n",
       "4610           None             463     Clifton     Cape Town  Western Cape   \n",
       "4896           None             605   Llandudno     Cape Town  Western Cape   \n",
       "4899           None            None  Constantia     Cape Town  Western Cape   \n",
       "5027           None            None   Llandudno     Cape Town  Western Cape   \n",
       "11534          None            None   City Deep  Johannesburg       Gauteng   \n",
       "\n",
       "      price_type price (ZAR)  \n",
       "357          NaN         NaN  \n",
       "3728         NaN         NaN  \n",
       "3760         NaN         NaN  \n",
       "3771         NaN         NaN  \n",
       "3837         NaN         NaN  \n",
       "4180         NaN         NaN  \n",
       "4587         NaN         NaN  \n",
       "4610         NaN         NaN  \n",
       "4896         NaN         NaN  \n",
       "4899         NaN         NaN  \n",
       "5027         NaN         NaN  \n",
       "11534        NaN         NaN  \n",
       "\n",
       "[12 rows x 22 columns]"
      ]
     },
     "execution_count": 28,
     "metadata": {},
     "output_type": "execute_result"
    }
   ],
   "source": [
    "# Visualize the rows where price_type is null\n",
    "results_df[results_df['price_type'].isna()]"
   ]
  },
  {
   "cell_type": "markdown",
   "id": "d4d15cae",
   "metadata": {},
   "source": [
    "These 12 rows are interesting because the `price` column has the acronym 'POA', which stands for *Price on Application* but there is no price_type such as monthly, per square meter or per day. \n",
    "\n",
    "These 12 rows are interesting because the `price` column contains the acronym \"POA\" (Price on Application), yet the corresponding `price_type` is missing; e.g., values like \"Per Month\", \"Per Square Metre\" or \"Per Day\" are not provided. "
   ]
  },
  {
   "cell_type": "markdown",
   "id": "35c8cfb8",
   "metadata": {},
   "source": [
    "We will then calculate the total number of rows where the `price` column contains \"POA\", including those with an associated `price_type` and those without."
   ]
  },
  {
   "cell_type": "code",
   "execution_count": 29,
   "id": "b742f58d",
   "metadata": {},
   "outputs": [
    {
     "name": "stdout",
     "output_type": "stream",
     "text": [
      "There are 217 listings with 'POA' in the price column.\n"
     ]
    }
   ],
   "source": [
    "# Get the number of rows in the dataset in the 'price' column that are equal to 'POA'\n",
    "poa_mask = results_df['price'].astype(\n",
    "    str).str.contains(\"POA\", case=False, na=False)\n",
    "num_poa = poa_mask.sum()\n",
    "\n",
    "# Print the total number of rows\n",
    "print(f\"There are {num_poa} listings with 'POA' in the price column.\")"
   ]
  },
  {
   "cell_type": "markdown",
   "id": "3ab3121d",
   "metadata": {},
   "source": [
    "There are currently 217 rows containing \"POA\". To clean this, we will calculate the average price based on `suburb`, `property_type` and `price_type`, and use these averages to impute the missing values. Rows with \"POA\" without a `price_type` will then be removed. "
   ]
  },
  {
   "cell_type": "code",
   "execution_count": 30,
   "id": "a895e0c1",
   "metadata": {},
   "outputs": [],
   "source": [
    "# Identify POA rows with valid price_type\n",
    "poa_mask = results_df['price'].str.lower().str.startswith('poa')\n",
    "poa_with_type_mask = poa_mask & results_df['price_type'].notna() & (\n",
    "    results_df['price_type'] != '')\n",
    "\n",
    "# Calculate averages for the suburb, property_type and price_type\n",
    "avg_prices = results_df[~poa_mask & results_df['price (ZAR)'].notna()] \\\n",
    "    .groupby(['suburb', 'property_type', 'price_type'])['price (ZAR)'] \\\n",
    "    .apply(lambda x: pd.to_numeric(x, errors='coerce').mean()) \\\n",
    "    .reset_index().rename(columns={'price (ZAR)': 'price_avg'})\n",
    "\n",
    "# Merge the averages into the original DataFrame\n",
    "results_df = results_df.merge(\n",
    "    avg_prices, on=['suburb', 'property_type', 'price_type'], how='left')\n",
    "\n",
    "# Replace the POA with non-empty price_types with the averages\n",
    "results_df.loc[poa_with_type_mask,\n",
    "               'price (ZAR)'] = results_df.loc[poa_with_type_mask, 'price_avg']\n",
    "\n",
    "# Drop the POA rows without a price type\n",
    "results_df = results_df[~(poa_mask & ~poa_with_type_mask)]\n",
    "\n",
    "# Drop the helper column\n",
    "results_df.drop(columns=['price_avg'], inplace=True)"
   ]
  },
  {
   "cell_type": "code",
   "execution_count": 31,
   "id": "a39ae2d8",
   "metadata": {},
   "outputs": [
    {
     "name": "stdout",
     "output_type": "stream",
     "text": [
      "Remaining 'POA': 0\n",
      "Remaining nulls 'price (ZAR)': 12\n"
     ]
    }
   ],
   "source": [
    "print(\"Remaining 'POA':\", results_df['price'].str.lower().eq('poa').sum())\n",
    "print(\"Remaining nulls 'price (ZAR)':\",\n",
    "      results_df['price (ZAR)'].isna().sum())"
   ]
  },
  {
   "cell_type": "markdown",
   "id": "180833f3",
   "metadata": {},
   "source": [
    "There are unexpected null values in the `price (ZAR)` column. To investigate, we filter the dataset to display only the rows where the price (in rands) is null"
   ]
  },
  {
   "cell_type": "code",
   "execution_count": 32,
   "id": "47cb16ed",
   "metadata": {},
   "outputs": [
    {
     "data": {
      "application/vnd.microsoft.datawrangler.viewer.v0+json": {
       "columns": [
        {
         "name": "index",
         "rawType": "int64",
         "type": "integer"
        },
        {
         "name": "price",
         "rawType": "object",
         "type": "string"
        },
        {
         "name": "listing_number",
         "rawType": "object",
         "type": "string"
        },
        {
         "name": "property_type",
         "rawType": "object",
         "type": "string"
        },
        {
         "name": "furnished",
         "rawType": "object",
         "type": "unknown"
        },
        {
         "name": "pets_allowed",
         "rawType": "object",
         "type": "unknown"
        },
        {
         "name": "backup_water",
         "rawType": "object",
         "type": "unknown"
        },
        {
         "name": "bedrooms",
         "rawType": "Int64",
         "type": "integer"
        },
        {
         "name": "bathrooms",
         "rawType": "object",
         "type": "unknown"
        },
        {
         "name": "kitchen",
         "rawType": "object",
         "type": "unknown"
        },
        {
         "name": "lounge",
         "rawType": "object",
         "type": "unknown"
        },
        {
         "name": "dining_room",
         "rawType": "object",
         "type": "unknown"
        },
        {
         "name": "parking",
         "rawType": "object",
         "type": "unknown"
        },
        {
         "name": "garden",
         "rawType": "object",
         "type": "unknown"
        },
        {
         "name": "pool",
         "rawType": "object",
         "type": "unknown"
        },
        {
         "name": "garage",
         "rawType": "object",
         "type": "unknown"
        },
        {
         "name": "erf_size (m²)",
         "rawType": "object",
         "type": "unknown"
        },
        {
         "name": "floor_area (m²)",
         "rawType": "object",
         "type": "unknown"
        },
        {
         "name": "suburb",
         "rawType": "object",
         "type": "string"
        },
        {
         "name": "city",
         "rawType": "object",
         "type": "string"
        },
        {
         "name": "province",
         "rawType": "object",
         "type": "string"
        },
        {
         "name": "price_type",
         "rawType": "object",
         "type": "string"
        },
        {
         "name": "price (ZAR)",
         "rawType": "float64",
         "type": "float"
        }
       ],
       "ref": "f672bbed-1ae7-46e2-bc00-e1832e93b15d",
       "rows": [
        [
         "4246",
         "POAPer Day",
         "115374518",
         "Apartment / Flat",
         null,
         null,
         null,
         "4",
         "4",
         "1",
         null,
         null,
         "3",
         null,
         "1",
         null,
         null,
         null,
         "Fresnaye",
         "Cape Town",
         "Western Cape",
         "Per Day",
         null
        ],
        [
         "4586",
         "POAPer Day",
         "112682529",
         "House",
         "Yes",
         null,
         null,
         "7",
         "7",
         null,
         null,
         null,
         "6",
         null,
         null,
         null,
         null,
         null,
         "Zwaanswyk",
         "Cape Town",
         "Western Cape",
         "Per Day",
         null
        ],
        [
         "4836",
         "POAPer Day",
         "111244618",
         "Apartment / Flat",
         null,
         null,
         null,
         "3",
         "3",
         null,
         null,
         null,
         "2",
         null,
         "1",
         null,
         null,
         "286",
         "Bakoven",
         "Cape Town",
         "Western Cape",
         "Per Day",
         null
        ],
        [
         "4863",
         "POAPer Day",
         "114968205",
         "Apartment / Flat",
         null,
         null,
         null,
         "4",
         "4",
         "1",
         null,
         null,
         "3",
         null,
         "1",
         null,
         null,
         null,
         "Fresnaye",
         "Cape Town",
         "Western Cape",
         "Per Day",
         null
        ],
        [
         "4991",
         "POAPer Day",
         "111859212",
         "Apartment / Flat",
         "Yes",
         null,
         null,
         "3",
         "4",
         "1",
         null,
         null,
         "2",
         null,
         "1",
         null,
         null,
         null,
         "Bantry Bay",
         "Cape Town",
         "Western Cape",
         "Per Day",
         null
        ],
        [
         "7450",
         "POAPer m²",
         "115523149",
         "Commercial",
         null,
         null,
         null,
         null,
         null,
         null,
         null,
         null,
         null,
         null,
         null,
         null,
         null,
         "235",
         "Heriotdale",
         "Johannesburg",
         "Gauteng",
         "Per m²",
         null
        ],
        [
         "8317",
         "POAPer m²",
         "115418255",
         "Commercial",
         null,
         null,
         null,
         null,
         null,
         null,
         null,
         null,
         null,
         null,
         null,
         null,
         null,
         "260",
         "Heriotdale",
         "Johannesburg",
         "Gauteng",
         "Per m²",
         null
        ],
        [
         "8706",
         "POAPer Month",
         "114459245",
         "Industrial",
         "No",
         null,
         null,
         null,
         null,
         null,
         null,
         null,
         null,
         null,
         null,
         null,
         "500",
         "500",
         "Westgate",
         "Johannesburg",
         "Gauteng",
         "Per Month",
         null
        ],
        [
         "8758",
         "POAPer m²",
         "115517306",
         "Commercial",
         null,
         null,
         null,
         null,
         null,
         null,
         null,
         null,
         null,
         null,
         null,
         null,
         null,
         "225",
         "Heriotdale",
         "Johannesburg",
         "Gauteng",
         "Per m²",
         null
        ],
        [
         "12308",
         "POAPer Month",
         "113997397",
         "Industrial",
         "No",
         null,
         null,
         null,
         null,
         null,
         null,
         null,
         null,
         null,
         null,
         null,
         null,
         null,
         "Nelsville",
         "Nelspruit",
         "Mpumalanga",
         "Per Month",
         null
        ],
        [
         "13346",
         "POAPer Month",
         "115506400",
         "Vacant Land",
         null,
         null,
         null,
         null,
         null,
         null,
         null,
         null,
         null,
         null,
         null,
         null,
         null,
         null,
         "Magna Via Industrial",
         "Polokwane",
         "Limpopo",
         "Per Month",
         null
        ],
        [
         "13904",
         "POAPer m²",
         "115507851",
         "Vacant Land",
         null,
         null,
         null,
         null,
         null,
         null,
         null,
         null,
         null,
         null,
         null,
         null,
         null,
         null,
         "Magna Via Industrial",
         "Polokwane",
         "Limpopo",
         "Per m²",
         null
        ]
       ],
       "shape": {
        "columns": 22,
        "rows": 12
       }
      },
      "text/html": [
       "<div>\n",
       "<style scoped>\n",
       "    .dataframe tbody tr th:only-of-type {\n",
       "        vertical-align: middle;\n",
       "    }\n",
       "\n",
       "    .dataframe tbody tr th {\n",
       "        vertical-align: top;\n",
       "    }\n",
       "\n",
       "    .dataframe thead th {\n",
       "        text-align: right;\n",
       "    }\n",
       "</style>\n",
       "<table border=\"1\" class=\"dataframe\">\n",
       "  <thead>\n",
       "    <tr style=\"text-align: right;\">\n",
       "      <th></th>\n",
       "      <th>price</th>\n",
       "      <th>listing_number</th>\n",
       "      <th>property_type</th>\n",
       "      <th>furnished</th>\n",
       "      <th>pets_allowed</th>\n",
       "      <th>backup_water</th>\n",
       "      <th>bedrooms</th>\n",
       "      <th>bathrooms</th>\n",
       "      <th>kitchen</th>\n",
       "      <th>lounge</th>\n",
       "      <th>...</th>\n",
       "      <th>garden</th>\n",
       "      <th>pool</th>\n",
       "      <th>garage</th>\n",
       "      <th>erf_size (m²)</th>\n",
       "      <th>floor_area (m²)</th>\n",
       "      <th>suburb</th>\n",
       "      <th>city</th>\n",
       "      <th>province</th>\n",
       "      <th>price_type</th>\n",
       "      <th>price (ZAR)</th>\n",
       "    </tr>\n",
       "  </thead>\n",
       "  <tbody>\n",
       "    <tr>\n",
       "      <th>4246</th>\n",
       "      <td>POAPer Day</td>\n",
       "      <td>115374518</td>\n",
       "      <td>Apartment / Flat</td>\n",
       "      <td>None</td>\n",
       "      <td>None</td>\n",
       "      <td>None</td>\n",
       "      <td>4</td>\n",
       "      <td>4</td>\n",
       "      <td>1</td>\n",
       "      <td>None</td>\n",
       "      <td>...</td>\n",
       "      <td>None</td>\n",
       "      <td>1</td>\n",
       "      <td>None</td>\n",
       "      <td>None</td>\n",
       "      <td>None</td>\n",
       "      <td>Fresnaye</td>\n",
       "      <td>Cape Town</td>\n",
       "      <td>Western Cape</td>\n",
       "      <td>Per Day</td>\n",
       "      <td>NaN</td>\n",
       "    </tr>\n",
       "    <tr>\n",
       "      <th>4586</th>\n",
       "      <td>POAPer Day</td>\n",
       "      <td>112682529</td>\n",
       "      <td>House</td>\n",
       "      <td>Yes</td>\n",
       "      <td>None</td>\n",
       "      <td>None</td>\n",
       "      <td>7</td>\n",
       "      <td>7</td>\n",
       "      <td>None</td>\n",
       "      <td>None</td>\n",
       "      <td>...</td>\n",
       "      <td>None</td>\n",
       "      <td>None</td>\n",
       "      <td>None</td>\n",
       "      <td>None</td>\n",
       "      <td>None</td>\n",
       "      <td>Zwaanswyk</td>\n",
       "      <td>Cape Town</td>\n",
       "      <td>Western Cape</td>\n",
       "      <td>Per Day</td>\n",
       "      <td>NaN</td>\n",
       "    </tr>\n",
       "    <tr>\n",
       "      <th>4836</th>\n",
       "      <td>POAPer Day</td>\n",
       "      <td>111244618</td>\n",
       "      <td>Apartment / Flat</td>\n",
       "      <td>None</td>\n",
       "      <td>None</td>\n",
       "      <td>None</td>\n",
       "      <td>3</td>\n",
       "      <td>3</td>\n",
       "      <td>None</td>\n",
       "      <td>None</td>\n",
       "      <td>...</td>\n",
       "      <td>None</td>\n",
       "      <td>1</td>\n",
       "      <td>None</td>\n",
       "      <td>None</td>\n",
       "      <td>286</td>\n",
       "      <td>Bakoven</td>\n",
       "      <td>Cape Town</td>\n",
       "      <td>Western Cape</td>\n",
       "      <td>Per Day</td>\n",
       "      <td>NaN</td>\n",
       "    </tr>\n",
       "    <tr>\n",
       "      <th>4863</th>\n",
       "      <td>POAPer Day</td>\n",
       "      <td>114968205</td>\n",
       "      <td>Apartment / Flat</td>\n",
       "      <td>None</td>\n",
       "      <td>None</td>\n",
       "      <td>None</td>\n",
       "      <td>4</td>\n",
       "      <td>4</td>\n",
       "      <td>1</td>\n",
       "      <td>None</td>\n",
       "      <td>...</td>\n",
       "      <td>None</td>\n",
       "      <td>1</td>\n",
       "      <td>None</td>\n",
       "      <td>None</td>\n",
       "      <td>None</td>\n",
       "      <td>Fresnaye</td>\n",
       "      <td>Cape Town</td>\n",
       "      <td>Western Cape</td>\n",
       "      <td>Per Day</td>\n",
       "      <td>NaN</td>\n",
       "    </tr>\n",
       "    <tr>\n",
       "      <th>4991</th>\n",
       "      <td>POAPer Day</td>\n",
       "      <td>111859212</td>\n",
       "      <td>Apartment / Flat</td>\n",
       "      <td>Yes</td>\n",
       "      <td>None</td>\n",
       "      <td>None</td>\n",
       "      <td>3</td>\n",
       "      <td>4</td>\n",
       "      <td>1</td>\n",
       "      <td>None</td>\n",
       "      <td>...</td>\n",
       "      <td>None</td>\n",
       "      <td>1</td>\n",
       "      <td>None</td>\n",
       "      <td>None</td>\n",
       "      <td>None</td>\n",
       "      <td>Bantry Bay</td>\n",
       "      <td>Cape Town</td>\n",
       "      <td>Western Cape</td>\n",
       "      <td>Per Day</td>\n",
       "      <td>NaN</td>\n",
       "    </tr>\n",
       "    <tr>\n",
       "      <th>7450</th>\n",
       "      <td>POAPer m²</td>\n",
       "      <td>115523149</td>\n",
       "      <td>Commercial</td>\n",
       "      <td>None</td>\n",
       "      <td>None</td>\n",
       "      <td>None</td>\n",
       "      <td>&lt;NA&gt;</td>\n",
       "      <td>None</td>\n",
       "      <td>None</td>\n",
       "      <td>None</td>\n",
       "      <td>...</td>\n",
       "      <td>None</td>\n",
       "      <td>None</td>\n",
       "      <td>None</td>\n",
       "      <td>None</td>\n",
       "      <td>235</td>\n",
       "      <td>Heriotdale</td>\n",
       "      <td>Johannesburg</td>\n",
       "      <td>Gauteng</td>\n",
       "      <td>Per m²</td>\n",
       "      <td>NaN</td>\n",
       "    </tr>\n",
       "    <tr>\n",
       "      <th>8317</th>\n",
       "      <td>POAPer m²</td>\n",
       "      <td>115418255</td>\n",
       "      <td>Commercial</td>\n",
       "      <td>None</td>\n",
       "      <td>None</td>\n",
       "      <td>None</td>\n",
       "      <td>&lt;NA&gt;</td>\n",
       "      <td>None</td>\n",
       "      <td>None</td>\n",
       "      <td>None</td>\n",
       "      <td>...</td>\n",
       "      <td>None</td>\n",
       "      <td>None</td>\n",
       "      <td>None</td>\n",
       "      <td>None</td>\n",
       "      <td>260</td>\n",
       "      <td>Heriotdale</td>\n",
       "      <td>Johannesburg</td>\n",
       "      <td>Gauteng</td>\n",
       "      <td>Per m²</td>\n",
       "      <td>NaN</td>\n",
       "    </tr>\n",
       "    <tr>\n",
       "      <th>8706</th>\n",
       "      <td>POAPer Month</td>\n",
       "      <td>114459245</td>\n",
       "      <td>Industrial</td>\n",
       "      <td>No</td>\n",
       "      <td>None</td>\n",
       "      <td>None</td>\n",
       "      <td>&lt;NA&gt;</td>\n",
       "      <td>None</td>\n",
       "      <td>None</td>\n",
       "      <td>None</td>\n",
       "      <td>...</td>\n",
       "      <td>None</td>\n",
       "      <td>None</td>\n",
       "      <td>None</td>\n",
       "      <td>500</td>\n",
       "      <td>500</td>\n",
       "      <td>Westgate</td>\n",
       "      <td>Johannesburg</td>\n",
       "      <td>Gauteng</td>\n",
       "      <td>Per Month</td>\n",
       "      <td>NaN</td>\n",
       "    </tr>\n",
       "    <tr>\n",
       "      <th>8758</th>\n",
       "      <td>POAPer m²</td>\n",
       "      <td>115517306</td>\n",
       "      <td>Commercial</td>\n",
       "      <td>None</td>\n",
       "      <td>None</td>\n",
       "      <td>None</td>\n",
       "      <td>&lt;NA&gt;</td>\n",
       "      <td>None</td>\n",
       "      <td>None</td>\n",
       "      <td>None</td>\n",
       "      <td>...</td>\n",
       "      <td>None</td>\n",
       "      <td>None</td>\n",
       "      <td>None</td>\n",
       "      <td>None</td>\n",
       "      <td>225</td>\n",
       "      <td>Heriotdale</td>\n",
       "      <td>Johannesburg</td>\n",
       "      <td>Gauteng</td>\n",
       "      <td>Per m²</td>\n",
       "      <td>NaN</td>\n",
       "    </tr>\n",
       "    <tr>\n",
       "      <th>12308</th>\n",
       "      <td>POAPer Month</td>\n",
       "      <td>113997397</td>\n",
       "      <td>Industrial</td>\n",
       "      <td>No</td>\n",
       "      <td>None</td>\n",
       "      <td>None</td>\n",
       "      <td>&lt;NA&gt;</td>\n",
       "      <td>None</td>\n",
       "      <td>None</td>\n",
       "      <td>None</td>\n",
       "      <td>...</td>\n",
       "      <td>None</td>\n",
       "      <td>None</td>\n",
       "      <td>None</td>\n",
       "      <td>None</td>\n",
       "      <td>None</td>\n",
       "      <td>Nelsville</td>\n",
       "      <td>Nelspruit</td>\n",
       "      <td>Mpumalanga</td>\n",
       "      <td>Per Month</td>\n",
       "      <td>NaN</td>\n",
       "    </tr>\n",
       "    <tr>\n",
       "      <th>13346</th>\n",
       "      <td>POAPer Month</td>\n",
       "      <td>115506400</td>\n",
       "      <td>Vacant Land</td>\n",
       "      <td>None</td>\n",
       "      <td>None</td>\n",
       "      <td>None</td>\n",
       "      <td>&lt;NA&gt;</td>\n",
       "      <td>None</td>\n",
       "      <td>None</td>\n",
       "      <td>None</td>\n",
       "      <td>...</td>\n",
       "      <td>None</td>\n",
       "      <td>None</td>\n",
       "      <td>None</td>\n",
       "      <td>None</td>\n",
       "      <td>None</td>\n",
       "      <td>Magna Via Industrial</td>\n",
       "      <td>Polokwane</td>\n",
       "      <td>Limpopo</td>\n",
       "      <td>Per Month</td>\n",
       "      <td>NaN</td>\n",
       "    </tr>\n",
       "    <tr>\n",
       "      <th>13904</th>\n",
       "      <td>POAPer m²</td>\n",
       "      <td>115507851</td>\n",
       "      <td>Vacant Land</td>\n",
       "      <td>None</td>\n",
       "      <td>None</td>\n",
       "      <td>None</td>\n",
       "      <td>&lt;NA&gt;</td>\n",
       "      <td>None</td>\n",
       "      <td>None</td>\n",
       "      <td>None</td>\n",
       "      <td>...</td>\n",
       "      <td>None</td>\n",
       "      <td>None</td>\n",
       "      <td>None</td>\n",
       "      <td>None</td>\n",
       "      <td>None</td>\n",
       "      <td>Magna Via Industrial</td>\n",
       "      <td>Polokwane</td>\n",
       "      <td>Limpopo</td>\n",
       "      <td>Per m²</td>\n",
       "      <td>NaN</td>\n",
       "    </tr>\n",
       "  </tbody>\n",
       "</table>\n",
       "<p>12 rows × 22 columns</p>\n",
       "</div>"
      ],
      "text/plain": [
       "              price listing_number     property_type furnished pets_allowed  \\\n",
       "4246     POAPer Day      115374518  Apartment / Flat      None         None   \n",
       "4586     POAPer Day      112682529             House       Yes         None   \n",
       "4836     POAPer Day      111244618  Apartment / Flat      None         None   \n",
       "4863     POAPer Day      114968205  Apartment / Flat      None         None   \n",
       "4991     POAPer Day      111859212  Apartment / Flat       Yes         None   \n",
       "7450      POAPer m²      115523149        Commercial      None         None   \n",
       "8317      POAPer m²      115418255        Commercial      None         None   \n",
       "8706   POAPer Month      114459245        Industrial        No         None   \n",
       "8758      POAPer m²      115517306        Commercial      None         None   \n",
       "12308  POAPer Month      113997397        Industrial        No         None   \n",
       "13346  POAPer Month      115506400       Vacant Land      None         None   \n",
       "13904     POAPer m²      115507851       Vacant Land      None         None   \n",
       "\n",
       "      backup_water  bedrooms bathrooms kitchen lounge  ... garden  pool  \\\n",
       "4246          None         4         4       1   None  ...   None     1   \n",
       "4586          None         7         7    None   None  ...   None  None   \n",
       "4836          None         3         3    None   None  ...   None     1   \n",
       "4863          None         4         4       1   None  ...   None     1   \n",
       "4991          None         3         4       1   None  ...   None     1   \n",
       "7450          None      <NA>      None    None   None  ...   None  None   \n",
       "8317          None      <NA>      None    None   None  ...   None  None   \n",
       "8706          None      <NA>      None    None   None  ...   None  None   \n",
       "8758          None      <NA>      None    None   None  ...   None  None   \n",
       "12308         None      <NA>      None    None   None  ...   None  None   \n",
       "13346         None      <NA>      None    None   None  ...   None  None   \n",
       "13904         None      <NA>      None    None   None  ...   None  None   \n",
       "\n",
       "      garage erf_size (m²) floor_area (m²)                suburb  \\\n",
       "4246    None          None            None              Fresnaye   \n",
       "4586    None          None            None             Zwaanswyk   \n",
       "4836    None          None             286               Bakoven   \n",
       "4863    None          None            None              Fresnaye   \n",
       "4991    None          None            None            Bantry Bay   \n",
       "7450    None          None             235            Heriotdale   \n",
       "8317    None          None             260            Heriotdale   \n",
       "8706    None           500             500              Westgate   \n",
       "8758    None          None             225            Heriotdale   \n",
       "12308   None          None            None             Nelsville   \n",
       "13346   None          None            None  Magna Via Industrial   \n",
       "13904   None          None            None  Magna Via Industrial   \n",
       "\n",
       "               city      province price_type price (ZAR)  \n",
       "4246      Cape Town  Western Cape    Per Day         NaN  \n",
       "4586      Cape Town  Western Cape    Per Day         NaN  \n",
       "4836      Cape Town  Western Cape    Per Day         NaN  \n",
       "4863      Cape Town  Western Cape    Per Day         NaN  \n",
       "4991      Cape Town  Western Cape    Per Day         NaN  \n",
       "7450   Johannesburg       Gauteng     Per m²         NaN  \n",
       "8317   Johannesburg       Gauteng     Per m²         NaN  \n",
       "8706   Johannesburg       Gauteng  Per Month         NaN  \n",
       "8758   Johannesburg       Gauteng     Per m²         NaN  \n",
       "12308     Nelspruit    Mpumalanga  Per Month         NaN  \n",
       "13346     Polokwane       Limpopo  Per Month         NaN  \n",
       "13904     Polokwane       Limpopo     Per m²         NaN  \n",
       "\n",
       "[12 rows x 22 columns]"
      ]
     },
     "execution_count": 32,
     "metadata": {},
     "output_type": "execute_result"
    }
   ],
   "source": [
    "# Get the rows where price (ZAR) is null\n",
    "results_df[results_df['price (ZAR)'].isna()]"
   ]
  },
  {
   "cell_type": "markdown",
   "id": "376a3c98",
   "metadata": {},
   "source": [
    "These 12 rows remain because an average based on the combination of `property_type`, `price_type` and `suburb` could not be calculated for them. Since they represent a small subset of the data, we will remove them from the dataset. "
   ]
  },
  {
   "cell_type": "code",
   "execution_count": 33,
   "id": "dd497659",
   "metadata": {},
   "outputs": [],
   "source": [
    "# Drop rows with the price (ZAR) column that are null\n",
    "results_df = results_df.dropna(subset=['price (ZAR)'])"
   ]
  },
  {
   "cell_type": "code",
   "execution_count": 34,
   "id": "60153147",
   "metadata": {},
   "outputs": [],
   "source": [
    "# Drop the price column as we do not need it anymore\n",
    "results_df.drop(columns=['price'], inplace=True)"
   ]
  },
  {
   "cell_type": "markdown",
   "id": "82b980c3",
   "metadata": {},
   "source": [
    "We will now proceed to clean the columns that were previously extracted from the `property_features` column. "
   ]
  },
  {
   "cell_type": "markdown",
   "id": "9e495a29",
   "metadata": {},
   "source": [
    "### Pets Allowed column"
   ]
  },
  {
   "cell_type": "code",
   "execution_count": 35,
   "id": "c941d5a9",
   "metadata": {},
   "outputs": [
    {
     "data": {
      "text/plain": [
       "np.int64(10304)"
      ]
     },
     "execution_count": 35,
     "metadata": {},
     "output_type": "execute_result"
    }
   ],
   "source": [
    "# Get the total number of null values in the `pets_allowed` column\n",
    "results_df['pets_allowed'].isnull().sum()"
   ]
  },
  {
   "cell_type": "code",
   "execution_count": 36,
   "id": "7fc285a8",
   "metadata": {},
   "outputs": [
    {
     "data": {
      "application/vnd.microsoft.datawrangler.viewer.v0+json": {
       "columns": [
        {
         "name": "pets_allowed",
         "rawType": "object",
         "type": "string"
        },
        {
         "name": "count",
         "rawType": "int64",
         "type": "integer"
        }
       ],
       "ref": "b1ab3c4d-d34c-4a43-99fd-8901a3c2008c",
       "rows": [
        [
         "No",
         "2598"
        ],
        [
         "Yes",
         "1003"
        ]
       ],
       "shape": {
        "columns": 1,
        "rows": 2
       }
      },
      "text/plain": [
       "pets_allowed\n",
       "No     2598\n",
       "Yes    1003\n",
       "Name: count, dtype: int64"
      ]
     },
     "execution_count": 36,
     "metadata": {},
     "output_type": "execute_result"
    }
   ],
   "source": [
    "# Get the total number of unique values in the `pets_allowed` column\n",
    "results_df['pets_allowed'].value_counts()"
   ]
  },
  {
   "cell_type": "markdown",
   "id": "bf60bb71",
   "metadata": {},
   "source": [
    "We will calculate the mode of the `pets_allowed` column for each property type to identify the most common pet policy associated with each major property category. "
   ]
  },
  {
   "cell_type": "code",
   "execution_count": 37,
   "id": "07d88e4d",
   "metadata": {},
   "outputs": [
    {
     "name": "stdout",
     "output_type": "stream",
     "text": [
      "property_type\n",
      "Apartment / Flat     No\n",
      "Commercial           No\n",
      "Farm                Yes\n",
      "House               Yes\n",
      "Industrial           No\n",
      "Townhouse            No\n",
      "Vacant Land          No\n",
      "Name: pets_allowed, dtype: object\n"
     ]
    }
   ],
   "source": [
    "# Calculate mode for each property type\n",
    "pets_mode = results_df.groupby('property_type')['pets_allowed'].agg(\n",
    "    lambda x: x.mode().iloc[0] if not x.mode().empty else pd.NA\n",
    ")\n",
    "\n",
    "# Print results\n",
    "print(pets_mode)"
   ]
  },
  {
   "cell_type": "markdown",
   "id": "1d77a427",
   "metadata": {},
   "source": [
    "We will then use the mode values for each property type to fill in the missing values in the `pets_allowed` column. "
   ]
  },
  {
   "cell_type": "code",
   "execution_count": 38,
   "id": "a50044d2",
   "metadata": {},
   "outputs": [],
   "source": [
    "# Initialise a dictionary that contains the common mode values for each property type\n",
    "default_pets_value = {\n",
    "    'Apartment / Flat': 'No', \n",
    "    'Commercial': 'No',\n",
    "    'Farm': 'Yes',\n",
    "    'House': 'Yes', \n",
    "    'Industrial': 'No', \n",
    "    'Townhouse': 'No', \n",
    "    'Vacant Land': 'No'\n",
    "}\n",
    "\n",
    "# Apply the default_pet_value for all null values\n",
    "results_df['pets_allowed'] = results_df.apply(\n",
    "    lambda row: default_pets_value[row['property_type']]\n",
    "    if pd.isna(row['pets_allowed']) and row['property_type'] in default_pets_value\n",
    "    else row['pets_allowed'],\n",
    "    axis=1\n",
    ")"
   ]
  },
  {
   "cell_type": "code",
   "execution_count": 39,
   "id": "ce64b4b1",
   "metadata": {},
   "outputs": [
    {
     "name": "stdout",
     "output_type": "stream",
     "text": [
      "0\n"
     ]
    }
   ],
   "source": [
    "# Verify that no null values exist in the `pets_allowed` column\n",
    "print(results_df['pets_allowed'].isna().sum())"
   ]
  },
  {
   "cell_type": "markdown",
   "id": "d9ccea38",
   "metadata": {},
   "source": [
    "### Furnished column"
   ]
  },
  {
   "cell_type": "code",
   "execution_count": 40,
   "id": "56bf14a3",
   "metadata": {},
   "outputs": [
    {
     "data": {
      "text/plain": [
       "np.int64(4635)"
      ]
     },
     "execution_count": 40,
     "metadata": {},
     "output_type": "execute_result"
    }
   ],
   "source": [
    "# Get the number of null values in the `furnished` column\n",
    "results_df['furnished'].isnull().sum()"
   ]
  },
  {
   "cell_type": "code",
   "execution_count": 41,
   "id": "aaf0a236",
   "metadata": {},
   "outputs": [
    {
     "data": {
      "application/vnd.microsoft.datawrangler.viewer.v0+json": {
       "columns": [
        {
         "name": "furnished",
         "rawType": "object",
         "type": "string"
        },
        {
         "name": "count",
         "rawType": "int64",
         "type": "integer"
        }
       ],
       "ref": "f8de290a-aaca-44a3-b848-d3cc0d073722",
       "rows": [
        [
         "No",
         "7962"
        ],
        [
         "Yes",
         "1308"
        ]
       ],
       "shape": {
        "columns": 1,
        "rows": 2
       }
      },
      "text/plain": [
       "furnished\n",
       "No     7962\n",
       "Yes    1308\n",
       "Name: count, dtype: int64"
      ]
     },
     "execution_count": 41,
     "metadata": {},
     "output_type": "execute_result"
    }
   ],
   "source": [
    "# Get the total number of unique value counts in the `furnished` column\n",
    "results_df['furnished'].value_counts()"
   ]
  },
  {
   "cell_type": "markdown",
   "id": "ca392073",
   "metadata": {},
   "source": [
    "We will calculate the mode of the `furnished` column for each property type to identify the most common furnishing status associated with each major property category."
   ]
  },
  {
   "cell_type": "code",
   "execution_count": 42,
   "id": "b606df23",
   "metadata": {},
   "outputs": [
    {
     "name": "stdout",
     "output_type": "stream",
     "text": [
      "property_type\n",
      "Apartment / Flat    No\n",
      "Commercial          No\n",
      "Farm                No\n",
      "House               No\n",
      "Industrial          No\n",
      "Townhouse           No\n",
      "Vacant Land         No\n",
      "Name: furnished, dtype: object\n"
     ]
    }
   ],
   "source": [
    "# Calculate mode for each property type for the furnished column\n",
    "furnished_mode = results_df.groupby('property_type')['furnished'].agg(\n",
    "    lambda x: x.mode().iloc[0] if not x.mode().empty else pd.NA\n",
    ")\n",
    "print(furnished_mode)"
   ]
  },
  {
   "cell_type": "markdown",
   "id": "f85d201f",
   "metadata": {},
   "source": [
    "To maintain data consistency, we will fill in the null values in the `furnished` column with *\"Unknown\"*."
   ]
  },
  {
   "cell_type": "code",
   "execution_count": 43,
   "id": "7f34f209",
   "metadata": {},
   "outputs": [],
   "source": [
    "# Fill the null values in the furnished column with \"Unknown\"\n",
    "results_df['furnished'] = results_df['furnished'].fillna(\"Unknown\")"
   ]
  },
  {
   "cell_type": "code",
   "execution_count": 44,
   "id": "c27be147",
   "metadata": {},
   "outputs": [
    {
     "name": "stdout",
     "output_type": "stream",
     "text": [
      "0\n"
     ]
    }
   ],
   "source": [
    "# Verify that there are no null values in the `furnished` column\n",
    "print(results_df['furnished'].isna().sum())"
   ]
  },
  {
   "cell_type": "markdown",
   "id": "0a2ad281",
   "metadata": {},
   "source": [
    "### Bedrooms column"
   ]
  },
  {
   "cell_type": "code",
   "execution_count": 45,
   "id": "a66ab57b",
   "metadata": {},
   "outputs": [
    {
     "data": {
      "text/plain": [
       "np.int64(8449)"
      ]
     },
     "execution_count": 45,
     "metadata": {},
     "output_type": "execute_result"
    }
   ],
   "source": [
    "# Get the total number of null values in the `bedrooms` column\n",
    "results_df['bedrooms'].isnull().sum()"
   ]
  },
  {
   "cell_type": "code",
   "execution_count": 46,
   "id": "a6d618af",
   "metadata": {},
   "outputs": [
    {
     "data": {
      "application/vnd.microsoft.datawrangler.viewer.v0+json": {
       "columns": [
        {
         "name": "bedrooms",
         "rawType": "Int64",
         "type": "integer"
        },
        {
         "name": "count",
         "rawType": "Int64",
         "type": "integer"
        }
       ],
       "ref": "0b12d605-8286-466d-a442-3f3367ca94a9",
       "rows": [
        [
         "2",
         "1825"
        ],
        [
         "1",
         "1446"
        ],
        [
         "3",
         "1178"
        ],
        [
         "5",
         "403"
        ],
        [
         "4",
         "347"
        ],
        [
         "0",
         "177"
        ],
        [
         "6",
         "45"
        ],
        [
         "7",
         "17"
        ],
        [
         "8",
         "8"
        ],
        [
         "9",
         "4"
        ],
        [
         "11",
         "2"
        ],
        [
         "13",
         "2"
        ],
        [
         "12",
         "1"
        ],
        [
         "10",
         "1"
        ]
       ],
       "shape": {
        "columns": 1,
        "rows": 14
       }
      },
      "text/plain": [
       "bedrooms\n",
       "2     1825\n",
       "1     1446\n",
       "3     1178\n",
       "5      403\n",
       "4      347\n",
       "0      177\n",
       "6       45\n",
       "7       17\n",
       "8        8\n",
       "9        4\n",
       "11       2\n",
       "13       2\n",
       "12       1\n",
       "10       1\n",
       "Name: count, dtype: Int64"
      ]
     },
     "execution_count": 46,
     "metadata": {},
     "output_type": "execute_result"
    }
   ],
   "source": [
    "# Get the number of unique value counts in the `bedrooms` column\n",
    "results_df['bedrooms'].value_counts()"
   ]
  },
  {
   "cell_type": "markdown",
   "id": "3b15c689",
   "metadata": {},
   "source": [
    "For the `bedrooms` column, we calculate the median values for each property type to understand the central tendency within the dataset."
   ]
  },
  {
   "cell_type": "code",
   "execution_count": 47,
   "id": "3c55601c",
   "metadata": {},
   "outputs": [],
   "source": [
    "# Calculate the median number of bedrooms for each property_type\n",
    "bedroom_medians = results_df.groupby('property_type')['bedrooms'].median()\n",
    "\n",
    "def fill_bedrooms(row):\n",
    "    if pd.isna(row['bedrooms']):\n",
    "        median = bedroom_medians.get(row['property_type'], np.nan)\n",
    "        return median if pd.notna(median) else 0\n",
    "    return row['bedrooms']\n",
    "\n",
    "# Apply function\n",
    "results_df['bedrooms'] = results_df.apply(fill_bedrooms, axis=1)\n",
    "\n",
    "# Convert results to integer\n",
    "results_df['bedrooms'] = results_df['bedrooms'].round().astype('Int64')"
   ]
  },
  {
   "cell_type": "code",
   "execution_count": 48,
   "id": "a9c6548d",
   "metadata": {},
   "outputs": [
    {
     "data": {
      "text/plain": [
       "np.int64(0)"
      ]
     },
     "execution_count": 48,
     "metadata": {},
     "output_type": "execute_result"
    }
   ],
   "source": [
    "# Verify there are no null values in the `bedrooms` column\n",
    "results_df['bedrooms'].isnull().sum()"
   ]
  },
  {
   "cell_type": "markdown",
   "id": "b36141f9",
   "metadata": {},
   "source": [
    "### Bathrooms column"
   ]
  },
  {
   "cell_type": "code",
   "execution_count": 49,
   "id": "68405c89",
   "metadata": {},
   "outputs": [
    {
     "data": {
      "text/plain": [
       "np.int64(6113)"
      ]
     },
     "execution_count": 49,
     "metadata": {},
     "output_type": "execute_result"
    }
   ],
   "source": [
    "# Get the total number of null values in the `bathrooms` column\n",
    "results_df['bathrooms'].isnull().sum()"
   ]
  },
  {
   "cell_type": "code",
   "execution_count": 50,
   "id": "148f0c2a",
   "metadata": {},
   "outputs": [
    {
     "data": {
      "application/vnd.microsoft.datawrangler.viewer.v0+json": {
       "columns": [
        {
         "name": "bathrooms",
         "rawType": "object",
         "type": "string"
        },
        {
         "name": "count",
         "rawType": "int64",
         "type": "integer"
        }
       ],
       "ref": "ccc190c8-2703-477d-9006-aa3754aa7c2b",
       "rows": [
        [
         "1",
         "3937"
        ],
        [
         "2",
         "2662"
        ],
        [
         "3",
         "529"
        ],
        [
         "4",
         "347"
        ],
        [
         "6",
         "99"
        ],
        [
         "5",
         "90"
        ],
        [
         "8",
         "41"
        ],
        [
         "7",
         "26"
        ],
        [
         "10",
         "21"
        ],
        [
         "0",
         "13"
        ],
        [
         "12",
         "6"
        ],
        [
         "15",
         "5"
        ],
        [
         "9",
         "4"
        ],
        [
         "20",
         "3"
        ],
        [
         "14",
         "2"
        ],
        [
         "16",
         "2"
        ],
        [
         "11",
         "1"
        ],
        [
         "13",
         "1"
        ],
        [
         "30",
         "1"
        ],
        [
         "200",
         "1"
        ],
        [
         "160",
         "1"
        ]
       ],
       "shape": {
        "columns": 1,
        "rows": 21
       }
      },
      "text/plain": [
       "bathrooms\n",
       "1      3937\n",
       "2      2662\n",
       "3       529\n",
       "4       347\n",
       "6        99\n",
       "5        90\n",
       "8        41\n",
       "7        26\n",
       "10       21\n",
       "0        13\n",
       "12        6\n",
       "15        5\n",
       "9         4\n",
       "20        3\n",
       "14        2\n",
       "16        2\n",
       "11        1\n",
       "13        1\n",
       "30        1\n",
       "200       1\n",
       "160       1\n",
       "Name: count, dtype: int64"
      ]
     },
     "execution_count": 50,
     "metadata": {},
     "output_type": "execute_result"
    }
   ],
   "source": [
    "# Get the total number of unique value counts in the `bathrooms` column\n",
    "results_df['bathrooms'].value_counts()"
   ]
  },
  {
   "cell_type": "markdown",
   "id": "9ef4d51f",
   "metadata": {},
   "source": [
    "There appear to be outliers in the `bathrooms` column, with a maximum value of 200. To further investigate, we will identify and visualise the number of outlier entries per property type, using 9 bathrooms as the threshold. "
   ]
  },
  {
   "cell_type": "code",
   "execution_count": 51,
   "id": "c41471c2",
   "metadata": {},
   "outputs": [
    {
     "name": "stdout",
     "output_type": "stream",
     "text": [
      "  property_type  Count with >10 bathrooms\n",
      "0    Commercial                        21\n",
      "2    Industrial                        19\n",
      "1         House                         4\n"
     ]
    }
   ],
   "source": [
    "# Ensure 'bathrooms' is numeric\n",
    "results_df['bathrooms'] = pd.to_numeric(results_df['bathrooms'], errors='coerce').astype('Int64')\n",
    "\n",
    "# Filter listings with bathrooms > 9\n",
    "bathroom_outliers = results_df[results_df['bathrooms'] > 9]\n",
    "\n",
    "# Group by property_type and count\n",
    "bathroom_summary = bathroom_outliers.groupby(\n",
    "    'property_type')['bathrooms'].count().reset_index()\n",
    "\n",
    "# Rename column for clarity\n",
    "bathroom_summary.columns = ['property_type', 'Count with >10 bathrooms']\n",
    "\n",
    "# Sort by count descending\n",
    "bathroom_summary = bathroom_summary.sort_values(\n",
    "    by='Count with >10 bathrooms', ascending=False)\n",
    "\n",
    "print(bathroom_summary)"
   ]
  },
  {
   "cell_type": "markdown",
   "id": "a4bf5970",
   "metadata": {},
   "source": [
    "In total, there are 44 outlier entries in the `bathrooms` column, with the highest count found in the commercial property type. To address those, we replace the outlier values with the median number of bathrooms for each property type. If a median value cannot be determined (i.e., is missing), we substitute it with zero. \n",
    "\n",
    "For the remaining null values, we impute them using the median number of bathrooms for each property type."
   ]
  },
  {
   "cell_type": "code",
   "execution_count": 52,
   "id": "c4435c75",
   "metadata": {},
   "outputs": [],
   "source": [
    "# Set the threshold for outlier bathroom numbers\n",
    "threshold = 9 \n",
    "\n",
    "# Define the outlier bathrooms as specified by the threshold\n",
    "outliner_bathrooms = results_df[results_df['bathrooms'] > threshold]\n",
    "\n",
    "bathroom_median = results_df[results_df['bathrooms'] <= threshold].groupby('property_type')['bathrooms'].median()\n",
    "\n",
    "bathroom_median = bathroom_median.fillna(0)\n",
    "\n",
    "for idx, row in outliner_bathrooms.iterrows():\n",
    "    prop_type = row['property_type']\n",
    "    median_val = bathroom_median.get(prop_type, 0)\n",
    "    results_df.at[idx, 'bathrooms'] = median_val"
   ]
  },
  {
   "cell_type": "code",
   "execution_count": 53,
   "id": "2fab70c1",
   "metadata": {},
   "outputs": [],
   "source": [
    "# Fill NaN bathroom values with property-type median, or 0 if still missing\n",
    "def fill_missing_bathrooms(row):\n",
    "    if pd.isna(row['bathrooms']):\n",
    "        return bathroom_median.get(row['property_type'], 0)\n",
    "    return row['bathrooms']\n",
    "\n",
    "# Apply the above function to the `bathrooms` column\n",
    "results_df['bathrooms'] = results_df.apply(fill_missing_bathrooms, axis=1)\n",
    "\n",
    "# Convert results to integers\n",
    "results_df['bathrooms'] = results_df['bathrooms'].round().astype('Int64')"
   ]
  },
  {
   "cell_type": "code",
   "execution_count": 54,
   "id": "a204238b",
   "metadata": {},
   "outputs": [
    {
     "data": {
      "text/plain": [
       "np.int64(0)"
      ]
     },
     "execution_count": 54,
     "metadata": {},
     "output_type": "execute_result"
    }
   ],
   "source": [
    "# Verify there are no null values in the `bathrooms` column\n",
    "results_df['bathrooms'].isnull().sum()"
   ]
  },
  {
   "cell_type": "markdown",
   "id": "d8fe61e1",
   "metadata": {},
   "source": [
    "### Kitchen column"
   ]
  },
  {
   "cell_type": "code",
   "execution_count": 55,
   "id": "b731b0df",
   "metadata": {},
   "outputs": [
    {
     "data": {
      "text/plain": [
       "np.int64(7387)"
      ]
     },
     "execution_count": 55,
     "metadata": {},
     "output_type": "execute_result"
    }
   ],
   "source": [
    "# Get the total number of null values in the `kitchen` column\n",
    "results_df['kitchen'].isnull().sum()"
   ]
  },
  {
   "cell_type": "code",
   "execution_count": 56,
   "id": "cd1b5601",
   "metadata": {},
   "outputs": [
    {
     "data": {
      "application/vnd.microsoft.datawrangler.viewer.v0+json": {
       "columns": [
        {
         "name": "kitchen",
         "rawType": "object",
         "type": "string"
        },
        {
         "name": "count",
         "rawType": "int64",
         "type": "integer"
        }
       ],
       "ref": "0eedaddb-67a3-4763-82ca-a4e770fa77aa",
       "rows": [
        [
         "1",
         "6116"
        ],
        [
         "2",
         "304"
        ],
        [
         "4",
         "44"
        ],
        [
         "3",
         "40"
        ],
        [
         "5",
         "10"
        ],
        [
         "6",
         "2"
        ],
        [
         "21",
         "1"
        ],
        [
         "10",
         "1"
        ]
       ],
       "shape": {
        "columns": 1,
        "rows": 8
       }
      },
      "text/plain": [
       "kitchen\n",
       "1     6116\n",
       "2      304\n",
       "4       44\n",
       "3       40\n",
       "5       10\n",
       "6        2\n",
       "21       1\n",
       "10       1\n",
       "Name: count, dtype: int64"
      ]
     },
     "execution_count": 56,
     "metadata": {},
     "output_type": "execute_result"
    }
   ],
   "source": [
    "# Get the unique value counts for the `kitchen` column\n",
    "results_df['kitchen'].value_counts()"
   ]
  },
  {
   "cell_type": "markdown",
   "id": "19eb4b25",
   "metadata": {},
   "source": [
    "For the `kitchen` column, we calculate the median values for each property type to understand the central tendency within the dataset."
   ]
  },
  {
   "cell_type": "code",
   "execution_count": 57,
   "id": "ba95f942",
   "metadata": {},
   "outputs": [
    {
     "name": "stdout",
     "output_type": "stream",
     "text": [
      "      property_type  Median kitchen\n",
      "0  Apartment / Flat             1.0\n",
      "1        Commercial             1.0\n",
      "2              Farm             1.0\n",
      "3             House             1.0\n",
      "4        Industrial             1.0\n",
      "5         Townhouse             1.0\n",
      "6       Vacant Land            <NA>\n"
     ]
    }
   ],
   "source": [
    "# Ensure that the kitchen column is numeric\n",
    "results_df['kitchen'] = pd.to_numeric(\n",
    "    results_df['kitchen'], errors='coerce').astype('Int64')\n",
    "\n",
    "\n",
    "# Group by property type and calculate median\n",
    "median_kitchens = results_df.groupby('property_type')[\n",
    "    'kitchen'].median().reset_index()\n",
    "\n",
    "# Rename columns for clarity\n",
    "median_kitchens.columns = ['property_type', 'Median kitchen']\n",
    "\n",
    "# Sort by median descending (optional)\n",
    "median_kitchens = median_kitchens.sort_values(\n",
    "    by='Median kitchen', ascending=False)\n",
    "\n",
    "print(median_kitchens)"
   ]
  },
  {
   "cell_type": "markdown",
   "id": "813f4027",
   "metadata": {},
   "source": [
    "The vacant land property type has a median kitchen value of null, which is expected given its nature. There are also outliers in the dataset, with the maximum number of kitchens reaching 10. To address this, we replace the outliers with the median kitchen value for each property type, defaulting to zero if the median is unavailable. \n",
    "\n",
    "For the remaining null values, we impute the Kitchen column using the median value for the respective property type, defaulting to 0 again if the median is unavailable."
   ]
  },
  {
   "cell_type": "code",
   "execution_count": 58,
   "id": "1f76ed24",
   "metadata": {},
   "outputs": [],
   "source": [
    "kitchen_threshold = 6\n",
    "\n",
    "# Identify outliers\n",
    "kitchen_outliers = results_df[results_df['kitchen'] > kitchen_threshold]\n",
    "\n",
    "# Compute medians and replace NaNs with 0\n",
    "kitchen_median = results_df[results_df['kitchen'] <= kitchen_threshold] \\\n",
    "    .groupby('property_type')['kitchen'].median().fillna(0)\n",
    "\n",
    "# Replace outlier values\n",
    "for idx, row in kitchen_outliers.iterrows():\n",
    "    prop_type = row['property_type']\n",
    "    median_val = kitchen_median.get(prop_type, 1)\n",
    "    results_df.at[idx, 'kitchen'] = median_val"
   ]
  },
  {
   "cell_type": "code",
   "execution_count": 59,
   "id": "cb336161",
   "metadata": {},
   "outputs": [],
   "source": [
    "# Fill NaN kitchen values with property-type median, or 0 if still missing\n",
    "def fill_missing_kitchen(row):\n",
    "    if pd.isna(row['kitchen']):\n",
    "        return kitchen_median.get(row['property_type'], 0)\n",
    "    return row['kitchen']\n",
    "\n",
    "# Apply the function\n",
    "results_df['kitchen'] = results_df.apply(fill_missing_kitchen, axis=1)\n",
    "\n",
    "# Convert results to integers\n",
    "results_df['kitchen'] = results_df['kitchen'].round().astype('Int64')"
   ]
  },
  {
   "cell_type": "code",
   "execution_count": 60,
   "id": "105e2385",
   "metadata": {},
   "outputs": [
    {
     "data": {
      "text/plain": [
       "np.int64(0)"
      ]
     },
     "execution_count": 60,
     "metadata": {},
     "output_type": "execute_result"
    }
   ],
   "source": [
    "# Verify that there are no null values\n",
    "results_df['kitchen'].isnull().sum()"
   ]
  },
  {
   "cell_type": "markdown",
   "id": "7dd618d3",
   "metadata": {},
   "source": [
    "### Lounge column"
   ]
  },
  {
   "cell_type": "code",
   "execution_count": 61,
   "id": "74353e40",
   "metadata": {},
   "outputs": [
    {
     "data": {
      "text/plain": [
       "np.int64(12299)"
      ]
     },
     "execution_count": 61,
     "metadata": {},
     "output_type": "execute_result"
    }
   ],
   "source": [
    "# Get the total number of null values in the `lounge` column\n",
    "results_df['lounge'].isnull().sum()"
   ]
  },
  {
   "cell_type": "code",
   "execution_count": 62,
   "id": "298b12a0",
   "metadata": {},
   "outputs": [
    {
     "data": {
      "application/vnd.microsoft.datawrangler.viewer.v0+json": {
       "columns": [
        {
         "name": "lounge",
         "rawType": "object",
         "type": "string"
        },
        {
         "name": "count",
         "rawType": "int64",
         "type": "integer"
        }
       ],
       "ref": "f42fb40c-a14c-44dc-89c8-3688e37fc23b",
       "rows": [
        [
         "1",
         "1575"
        ],
        [
         "2",
         "29"
        ],
        [
         "3",
         "2"
        ]
       ],
       "shape": {
        "columns": 1,
        "rows": 3
       }
      },
      "text/plain": [
       "lounge\n",
       "1    1575\n",
       "2      29\n",
       "3       2\n",
       "Name: count, dtype: int64"
      ]
     },
     "execution_count": 62,
     "metadata": {},
     "output_type": "execute_result"
    }
   ],
   "source": [
    "# Get the unique value counts of the `Lounge` column\n",
    "results_df['lounge'].value_counts()"
   ]
  },
  {
   "cell_type": "markdown",
   "id": "cefef17a",
   "metadata": {},
   "source": [
    "For the `lounge` column, we calculate the median values for each property type to understand the central tendency within the dataset."
   ]
  },
  {
   "cell_type": "code",
   "execution_count": 63,
   "id": "d89a519d",
   "metadata": {},
   "outputs": [
    {
     "name": "stdout",
     "output_type": "stream",
     "text": [
      "      property_type  Median lounge\n",
      "0  Apartment / Flat            1.0\n",
      "1        Commercial            1.0\n",
      "2              Farm            1.0\n",
      "3             House            1.0\n",
      "5         Townhouse            1.0\n",
      "4        Industrial           <NA>\n",
      "6       Vacant Land           <NA>\n"
     ]
    }
   ],
   "source": [
    "# Ensure that the lounge column is numeric\n",
    "results_df['lounge'] = pd.to_numeric(\n",
    "    results_df['lounge'], errors='coerce').astype('Int64')\n",
    "\n",
    "\n",
    "# Group by property type and calculate median\n",
    "median_lounge = results_df.groupby('property_type')[\n",
    "    'lounge'].median().reset_index()\n",
    "\n",
    "# Rename columns for clarity\n",
    "median_lounge.columns = ['property_type', 'Median lounge']\n",
    "\n",
    "# Sort by median descending (optional)\n",
    "median_lounge = median_lounge.sort_values(\n",
    "    by='Median lounge', ascending=False)\n",
    "\n",
    "print(median_lounge)"
   ]
  },
  {
   "cell_type": "markdown",
   "id": "c765b348",
   "metadata": {},
   "source": [
    "The vacant land property type has a median lounge value of null, which is expected given the nature of the property. Since there are no apparent outliers in the dataset, we focus on addressing the remaining null values. These are imputed using the median lounge value for each property type, defaulting to 0 where the median is unavailable."
   ]
  },
  {
   "cell_type": "code",
   "execution_count": 64,
   "id": "a47d8a6f",
   "metadata": {},
   "outputs": [],
   "source": [
    "# Compute median lounges per property type\n",
    "lounge_median = results_df.groupby('property_type')['lounge'].median()\n",
    "\n",
    "# Fill NaNs in median with 0\n",
    "median_lounge = lounge_median.fillna(0)\n",
    "\n",
    "# Function using the correctly filled median\n",
    "def fill_lounge(row):\n",
    "    if pd.isna(row['lounge']):\n",
    "        return median_lounge.get(row['property_type'], 0)\n",
    "    return row['lounge']\n",
    "\n",
    "\n",
    "# Apply the function\n",
    "results_df['lounge'] = results_df.apply(fill_lounge, axis=1)\n",
    "\n",
    "# Convert results to integers\n",
    "results_df['lounge'] = results_df['lounge'].round().astype('Int64')"
   ]
  },
  {
   "cell_type": "code",
   "execution_count": 65,
   "id": "e24f46bb",
   "metadata": {},
   "outputs": [
    {
     "data": {
      "text/plain": [
       "np.int64(0)"
      ]
     },
     "execution_count": 65,
     "metadata": {},
     "output_type": "execute_result"
    }
   ],
   "source": [
    "# Verify that there are no null values present\n",
    "results_df['lounge'].isnull().sum()"
   ]
  },
  {
   "cell_type": "markdown",
   "id": "c3be09a8",
   "metadata": {},
   "source": [
    "### Dining Room column"
   ]
  },
  {
   "cell_type": "code",
   "execution_count": 66,
   "id": "b6e5d560",
   "metadata": {},
   "outputs": [
    {
     "data": {
      "text/plain": [
       "np.int64(13103)"
      ]
     },
     "execution_count": 66,
     "metadata": {},
     "output_type": "execute_result"
    }
   ],
   "source": [
    "# Get the total number of null values in the `dining_room` column\n",
    "results_df['dining_room'].isnull().sum()"
   ]
  },
  {
   "cell_type": "code",
   "execution_count": 67,
   "id": "ef4c9c1c",
   "metadata": {},
   "outputs": [
    {
     "data": {
      "application/vnd.microsoft.datawrangler.viewer.v0+json": {
       "columns": [
        {
         "name": "dining_room",
         "rawType": "object",
         "type": "string"
        },
        {
         "name": "count",
         "rawType": "int64",
         "type": "integer"
        }
       ],
       "ref": "91f5ed00-7a33-467d-84aa-4e7511e6303d",
       "rows": [
        [
         "1",
         "795"
        ],
        [
         "2",
         "6"
        ],
        [
         "3",
         "1"
        ]
       ],
       "shape": {
        "columns": 1,
        "rows": 3
       }
      },
      "text/plain": [
       "dining_room\n",
       "1    795\n",
       "2      6\n",
       "3      1\n",
       "Name: count, dtype: int64"
      ]
     },
     "execution_count": 67,
     "metadata": {},
     "output_type": "execute_result"
    }
   ],
   "source": [
    "# Get the unique value counts in the `Dining Room` column\n",
    "results_df['dining_room'].value_counts()"
   ]
  },
  {
   "cell_type": "markdown",
   "id": "3dc86200",
   "metadata": {},
   "source": [
    "For the `dining_room` column, we calculate the median values for each property type to understand the central tendency within the dataset."
   ]
  },
  {
   "cell_type": "code",
   "execution_count": 68,
   "id": "16711c40",
   "metadata": {},
   "outputs": [
    {
     "name": "stdout",
     "output_type": "stream",
     "text": [
      "      property_type  median_dining_room\n",
      "0  Apartment / Flat                 1.0\n",
      "1        Commercial                 1.0\n",
      "3             House                 1.0\n",
      "5         Townhouse                 1.0\n",
      "2              Farm                <NA>\n",
      "4        Industrial                <NA>\n",
      "6       Vacant Land                <NA>\n"
     ]
    }
   ],
   "source": [
    "# Ensure that the dining_room column is numeric\n",
    "results_df['dining_room'] = pd.to_numeric(\n",
    "    results_df['dining_room'], errors='coerce').astype('Int64')\n",
    "\n",
    "\n",
    "# Group by property type and calculate median\n",
    "median_dining_room = results_df.groupby('property_type')[\n",
    "    'dining_room'].median().reset_index()\n",
    "\n",
    "# Rename columns for clarity\n",
    "median_dining_room.columns = ['property_type', 'median_dining_room']\n",
    "\n",
    "# Sort by median descending (optional)\n",
    "median_dining_room = median_dining_room.sort_values(\n",
    "    by='median_dining_room', ascending=False)\n",
    "\n",
    "print(median_dining_room)"
   ]
  },
  {
   "cell_type": "markdown",
   "id": "11081b50",
   "metadata": {},
   "source": [
    "The vacant land and industrial property types have a median dining room value of null, which is expected given the nature of the property. Since there are no apparent outliers in the dataset, we focus on addressing the remaining null values. These are imputed using each property type's median dining room value, defaulting to 0 where the median is unavailable."
   ]
  },
  {
   "cell_type": "code",
   "execution_count": 69,
   "id": "339de017",
   "metadata": {},
   "outputs": [],
   "source": [
    "# Compute median lounges per property type\n",
    "dining_room_median = results_df.groupby('property_type')['dining_room'].median()\n",
    "\n",
    "# Fill NaNs in median with 0\n",
    "median_dining_room = dining_room_median.fillna(0)\n",
    "\n",
    "# Function using the correctly filled median\n",
    "def fill_lounge(row):\n",
    "    if pd.isna(row['dining_room']):\n",
    "        return median_dining_room.get(row['property_type'], 0)\n",
    "    return row['dining_room']\n",
    "\n",
    "\n",
    "# Apply the function to impute the null values\n",
    "results_df['dining_room'] = results_df.apply(fill_lounge, axis=1)\n",
    "\n",
    "# Convert the column to integer\n",
    "results_df['dining_room'] = results_df['dining_room'].round().astype('Int64')"
   ]
  },
  {
   "cell_type": "code",
   "execution_count": 70,
   "id": "059ee635",
   "metadata": {},
   "outputs": [
    {
     "data": {
      "text/plain": [
       "np.int64(0)"
      ]
     },
     "execution_count": 70,
     "metadata": {},
     "output_type": "execute_result"
    }
   ],
   "source": [
    "# Verify that no null values exist in the column\n",
    "results_df['dining_room'].isnull().sum()"
   ]
  },
  {
   "cell_type": "markdown",
   "id": "61e0f3be",
   "metadata": {},
   "source": [
    "### Garage column"
   ]
  },
  {
   "cell_type": "code",
   "execution_count": 71,
   "id": "08b43877",
   "metadata": {},
   "outputs": [
    {
     "data": {
      "text/plain": [
       "np.int64(13242)"
      ]
     },
     "execution_count": 71,
     "metadata": {},
     "output_type": "execute_result"
    }
   ],
   "source": [
    "# Get the total number of null values in the `garage` dataset\n",
    "results_df['garage'].isnull().sum()"
   ]
  },
  {
   "cell_type": "code",
   "execution_count": 72,
   "id": "e85c081d",
   "metadata": {},
   "outputs": [
    {
     "data": {
      "application/vnd.microsoft.datawrangler.viewer.v0+json": {
       "columns": [
        {
         "name": "garage",
         "rawType": "object",
         "type": "string"
        },
        {
         "name": "count",
         "rawType": "int64",
         "type": "integer"
        }
       ],
       "ref": "1a59e78d-6704-4308-8848-bf7048332db0",
       "rows": [
        [
         "1",
         "388"
        ],
        [
         "2",
         "233"
        ],
        [
         "3",
         "18"
        ],
        [
         "4",
         "12"
        ],
        [
         "5",
         "5"
        ],
        [
         "40",
         "2"
        ],
        [
         "14",
         "1"
        ],
        [
         "20",
         "1"
        ],
        [
         "10",
         "1"
        ],
        [
         "6",
         "1"
        ],
        [
         "9",
         "1"
        ]
       ],
       "shape": {
        "columns": 1,
        "rows": 11
       }
      },
      "text/plain": [
       "garage\n",
       "1     388\n",
       "2     233\n",
       "3      18\n",
       "4      12\n",
       "5       5\n",
       "40      2\n",
       "14      1\n",
       "20      1\n",
       "10      1\n",
       "6       1\n",
       "9       1\n",
       "Name: count, dtype: int64"
      ]
     },
     "execution_count": 72,
     "metadata": {},
     "output_type": "execute_result"
    }
   ],
   "source": [
    "# Get the unique value counts for the `garage` column\n",
    "results_df['garage'].value_counts()"
   ]
  },
  {
   "cell_type": "markdown",
   "id": "8b136e4c",
   "metadata": {},
   "source": [
    "For the `garage` column, we calculate the median values for each property type to understand the central tendency within the dataset."
   ]
  },
  {
   "cell_type": "code",
   "execution_count": 73,
   "id": "15b53d3c",
   "metadata": {},
   "outputs": [
    {
     "name": "stdout",
     "output_type": "stream",
     "text": [
      "      property_type  median_garage\n",
      "4        Industrial           30.0\n",
      "1        Commercial           12.0\n",
      "3             House            2.0\n",
      "0  Apartment / Flat            1.0\n",
      "5         Townhouse            1.0\n",
      "2              Farm           <NA>\n",
      "6       Vacant Land           <NA>\n"
     ]
    }
   ],
   "source": [
    "# Ensure that the garage column is numeric\n",
    "results_df['garage'] = pd.to_numeric(\n",
    "    results_df['garage'], errors='coerce').astype('Int64')\n",
    "\n",
    "\n",
    "# Group by property type and calculate median\n",
    "median_garage = results_df.groupby('property_type')[\n",
    "    'garage'].median().reset_index()\n",
    "\n",
    "# Rename columns for clarity\n",
    "median_garage.columns = ['property_type', 'median_garage']\n",
    "\n",
    "# Sort by median descending (optional)\n",
    "median_garage = median_garage.sort_values(\n",
    "    by='median_garage', ascending=False)\n",
    "\n",
    "print(median_garage)"
   ]
  },
  {
   "cell_type": "markdown",
   "id": "d285241a",
   "metadata": {},
   "source": [
    "The vacant land and farm property types have a median garage value of null, which is expected given their nature. There are also outliers in the dataset, with the maximum number of garages reaching 40. The median values also support this observation, with the median value of the industrial type being 30, which is very high. \n",
    "\n",
    "To address this, we replace the outliers with the median garage value for each property type, defaulting to zero if the median is unavailable. \n",
    "\n",
    "For the remaining null values, we impute the garage column using the median value for the respective property type, defaulting to 0 again if the median is unavailable."
   ]
  },
  {
   "cell_type": "code",
   "execution_count": 74,
   "id": "b052f6a3",
   "metadata": {},
   "outputs": [],
   "source": [
    "# Define the threshold\n",
    "garage_threshold = 5\n",
    "\n",
    "# Identify outliers\n",
    "garage_outliers = results_df[results_df['garage'] > garage_threshold]\n",
    "\n",
    "# Compute medians and replace NaNs with 0\n",
    "garage_median = results_df[results_df['garage'] <= garage_threshold].groupby('property_type')['garage'].median().fillna(0)\n",
    "\n",
    "# Replace outlier values\n",
    "for idx, row in garage_outliers.iterrows():\n",
    "    prop_type = row['property_type']\n",
    "    median_val = garage_median.get(prop_type, 1)\n",
    "    results_df.at[idx, 'garage'] = median_val"
   ]
  },
  {
   "cell_type": "code",
   "execution_count": 75,
   "id": "c90b5e0c",
   "metadata": {},
   "outputs": [],
   "source": [
    "# Fill NaN kitchen values with property-type median, or 0 if still missing\n",
    "def fill_missing_garage(row):\n",
    "    if pd.isna(row['garage']):\n",
    "        return garage_median.get(row['property_type'], 0)\n",
    "    return row['garage']\n",
    "\n",
    "# Apply the function\n",
    "results_df['garage'] = results_df.apply(fill_missing_garage, axis=1)\n",
    "\n",
    "# Convert the column to integer\n",
    "results_df['garage'] = results_df['garage'].round().astype('Int64')"
   ]
  },
  {
   "cell_type": "code",
   "execution_count": 76,
   "id": "41a2b6e2",
   "metadata": {},
   "outputs": [
    {
     "data": {
      "text/plain": [
       "np.int64(0)"
      ]
     },
     "execution_count": 76,
     "metadata": {},
     "output_type": "execute_result"
    }
   ],
   "source": [
    "# Verify that there are no null values\n",
    "results_df['garage'].isnull().sum()"
   ]
  },
  {
   "cell_type": "markdown",
   "id": "b045f629",
   "metadata": {},
   "source": [
    "### Garden column"
   ]
  },
  {
   "cell_type": "code",
   "execution_count": 77,
   "id": "b16a6584",
   "metadata": {},
   "outputs": [
    {
     "data": {
      "text/plain": [
       "np.int64(12622)"
      ]
     },
     "execution_count": 77,
     "metadata": {},
     "output_type": "execute_result"
    }
   ],
   "source": [
    "# Get the total number of null values in the `garden` column\n",
    "results_df['garden'].isnull().sum()"
   ]
  },
  {
   "cell_type": "code",
   "execution_count": 78,
   "id": "61266077",
   "metadata": {},
   "outputs": [
    {
     "data": {
      "application/vnd.microsoft.datawrangler.viewer.v0+json": {
       "columns": [
        {
         "name": "garden",
         "rawType": "object",
         "type": "string"
        },
        {
         "name": "count",
         "rawType": "int64",
         "type": "integer"
        }
       ],
       "ref": "d5a6754c-da7a-418a-8943-2e133e165a5d",
       "rows": [
        [
         "1",
         "1274"
        ],
        [
         "2",
         "7"
        ],
        [
         "23",
         "1"
        ],
        [
         "3",
         "1"
        ]
       ],
       "shape": {
        "columns": 1,
        "rows": 4
       }
      },
      "text/plain": [
       "garden\n",
       "1     1274\n",
       "2        7\n",
       "23       1\n",
       "3        1\n",
       "Name: count, dtype: int64"
      ]
     },
     "execution_count": 78,
     "metadata": {},
     "output_type": "execute_result"
    }
   ],
   "source": [
    "# Get the unique value counts\n",
    "results_df['garden'].value_counts()"
   ]
  },
  {
   "cell_type": "markdown",
   "id": "05a76e9b",
   "metadata": {},
   "source": [
    "For the `garden` column, we calculate the median values for each property type to understand the central tendency within the dataset."
   ]
  },
  {
   "cell_type": "code",
   "execution_count": 79,
   "id": "c78ce3c7",
   "metadata": {},
   "outputs": [
    {
     "name": "stdout",
     "output_type": "stream",
     "text": [
      "      property_type  median_garden\n",
      "0  Apartment / Flat            1.0\n",
      "1        Commercial            1.0\n",
      "2              Farm            1.0\n",
      "3             House            1.0\n",
      "4        Industrial            1.0\n",
      "5         Townhouse            1.0\n",
      "6       Vacant Land            1.0\n"
     ]
    }
   ],
   "source": [
    "# Ensure that the garden column is numeric\n",
    "results_df['garden'] = pd.to_numeric(\n",
    "    results_df['garden'], errors='coerce').astype('Int64')\n",
    "\n",
    "\n",
    "# Group by property type and calculate median\n",
    "median_garden = results_df.groupby('property_type')[\n",
    "    'garden'].median().reset_index()\n",
    "\n",
    "# Rename columns for clarity\n",
    "median_garden.columns = ['property_type', 'median_garden']\n",
    "\n",
    "# Sort by median descending (optional)\n",
    "median_garden = median_garden.sort_values(\n",
    "    by='median_garden', ascending=False)\n",
    "\n",
    "print(median_garden)"
   ]
  },
  {
   "cell_type": "markdown",
   "id": "217e4e6f",
   "metadata": {},
   "source": [
    "The median values for all property types are the same, which is unsurprising, as most properties are expected to have at least one garden. There are also outliers in the dataset, with the maximum number of gardens reaching 23. To address this, we replace the outliers with the median kitchen value for each property type, defaulting to zero if the median is unavailable. \n",
    "\n",
    "For the remaining null values, we impute the garden column using the median value for the respective property type, defaulting to 0 again if the median is unavailable."
   ]
  },
  {
   "cell_type": "code",
   "execution_count": 80,
   "id": "a6f4aa30",
   "metadata": {},
   "outputs": [],
   "source": [
    "garden_threshold = 3\n",
    "\n",
    "# Identify outliers\n",
    "garden_outliers = results_df[results_df['garden'] > garden_threshold]\n",
    "\n",
    "# Compute medians and replace NaNs with 0\n",
    "garden_median = results_df[results_df['garden'] <= garden_threshold].groupby(\n",
    "    'property_type')['garden'].median().fillna(0)\n",
    "\n",
    "# Replace outlier values\n",
    "for idx, row in garden_outliers.iterrows():\n",
    "    prop_type = row['property_type']\n",
    "    median_val = garden_median.get(prop_type, 1)\n",
    "    results_df.at[idx, 'garden'] = median_val"
   ]
  },
  {
   "cell_type": "code",
   "execution_count": 81,
   "id": "2d539d2c",
   "metadata": {},
   "outputs": [],
   "source": [
    "# Fill NaN kitchen values with property-type median, or 0 if still missing\n",
    "def fill_missing_garden(row):\n",
    "    if pd.isna(row['garden']):\n",
    "        return garage_median.get(row['property_type'], 0)\n",
    "    return row['garden']\n",
    "\n",
    "# Apply the function\n",
    "results_df['garden'] = results_df.apply(fill_missing_garden, axis=1)\n",
    "\n",
    "# Convert the column to integers\n",
    "results_df['garden'] = results_df['garden'].round().astype('Int64')"
   ]
  },
  {
   "cell_type": "code",
   "execution_count": 82,
   "id": "9c3297cb",
   "metadata": {},
   "outputs": [
    {
     "data": {
      "text/plain": [
       "np.int64(0)"
      ]
     },
     "execution_count": 82,
     "metadata": {},
     "output_type": "execute_result"
    }
   ],
   "source": [
    "# Verify that there are no null values\n",
    "results_df['garden'].isnull().sum()"
   ]
  },
  {
   "cell_type": "markdown",
   "id": "30e053d3",
   "metadata": {},
   "source": [
    "### Pool column"
   ]
  },
  {
   "cell_type": "code",
   "execution_count": 83,
   "id": "22aab9c0",
   "metadata": {},
   "outputs": [
    {
     "data": {
      "text/plain": [
       "np.int64(13175)"
      ]
     },
     "execution_count": 83,
     "metadata": {},
     "output_type": "execute_result"
    }
   ],
   "source": [
    "# Get the total number of null values in the `pool` column\n",
    "results_df['pool'].isnull().sum()"
   ]
  },
  {
   "cell_type": "code",
   "execution_count": 84,
   "id": "f9261e6c",
   "metadata": {},
   "outputs": [
    {
     "data": {
      "application/vnd.microsoft.datawrangler.viewer.v0+json": {
       "columns": [
        {
         "name": "pool",
         "rawType": "object",
         "type": "string"
        },
        {
         "name": "count",
         "rawType": "int64",
         "type": "integer"
        }
       ],
       "ref": "ed822087-beb9-48c0-a35a-f4401fbd83c4",
       "rows": [
        [
         "1",
         "719"
        ],
        [
         "2",
         "10"
        ],
        [
         "3",
         "1"
        ]
       ],
       "shape": {
        "columns": 1,
        "rows": 3
       }
      },
      "text/plain": [
       "pool\n",
       "1    719\n",
       "2     10\n",
       "3      1\n",
       "Name: count, dtype: int64"
      ]
     },
     "execution_count": 84,
     "metadata": {},
     "output_type": "execute_result"
    }
   ],
   "source": [
    "# Get the unique value counts\n",
    "results_df['pool'].value_counts()"
   ]
  },
  {
   "cell_type": "markdown",
   "id": "783593e4",
   "metadata": {},
   "source": [
    "For the `pool` column, we calculate the median values for each property type to understand the central tendency within the dataset."
   ]
  },
  {
   "cell_type": "code",
   "execution_count": 85,
   "id": "604ed8c9",
   "metadata": {},
   "outputs": [
    {
     "name": "stdout",
     "output_type": "stream",
     "text": [
      "      property_type  median_pool\n",
      "0  Apartment / Flat          1.0\n",
      "1        Commercial          1.0\n",
      "3             House          1.0\n",
      "5         Townhouse          1.0\n",
      "2              Farm         <NA>\n",
      "4        Industrial         <NA>\n",
      "6       Vacant Land         <NA>\n"
     ]
    }
   ],
   "source": [
    "# Ensure that the pool column is numeric\n",
    "results_df['pool'] = pd.to_numeric(\n",
    "    results_df['pool'], errors='coerce').astype('Int64')\n",
    "\n",
    "\n",
    "# Group by property type and calculate median\n",
    "median_pool = results_df.groupby('property_type')[\n",
    "    'pool'].median().reset_index()\n",
    "\n",
    "# Rename columns for clarity\n",
    "median_pool.columns = ['property_type', 'median_pool']\n",
    "\n",
    "# Sort by median descending (optional)\n",
    "median_pool = median_pool.sort_values(\n",
    "    by='median_pool', ascending=False)\n",
    "\n",
    "print(median_pool)"
   ]
  },
  {
   "cell_type": "markdown",
   "id": "da96c719",
   "metadata": {},
   "source": [
    "The median values for the farm, industrial, and vacant land property types are null, which is expected given the nature of these properties. For the missing values, we will impute zeros, as a pool is typically a prominent feature intended to attract customers—if it were present, it would likely have been explicitly listed."
   ]
  },
  {
   "cell_type": "code",
   "execution_count": 86,
   "id": "6318ff01",
   "metadata": {},
   "outputs": [],
   "source": [
    "# Impute the null values with zero\n",
    "results_df['pool'] = results_df['pool'].fillna(0)"
   ]
  },
  {
   "cell_type": "code",
   "execution_count": 87,
   "id": "fce4b866",
   "metadata": {},
   "outputs": [
    {
     "data": {
      "text/plain": [
       "np.int64(0)"
      ]
     },
     "execution_count": 87,
     "metadata": {},
     "output_type": "execute_result"
    }
   ],
   "source": [
    "# Verify that there are no null values\n",
    "results_df['pool'].isnull().sum()"
   ]
  },
  {
   "cell_type": "markdown",
   "id": "d37fe0c7",
   "metadata": {},
   "source": [
    "### Parking column"
   ]
  },
  {
   "cell_type": "code",
   "execution_count": 88,
   "id": "c1ba7540",
   "metadata": {},
   "outputs": [
    {
     "data": {
      "text/plain": [
       "np.int64(8477)"
      ]
     },
     "execution_count": 88,
     "metadata": {},
     "output_type": "execute_result"
    }
   ],
   "source": [
    "# Get the total number of null values in the `parking` column\n",
    "results_df['parking'].isnull().sum()"
   ]
  },
  {
   "cell_type": "code",
   "execution_count": 89,
   "id": "0ac26a4c",
   "metadata": {},
   "outputs": [
    {
     "data": {
      "application/vnd.microsoft.datawrangler.viewer.v0+json": {
       "columns": [
        {
         "name": "parking",
         "rawType": "object",
         "type": "string"
        },
        {
         "name": "count",
         "rawType": "int64",
         "type": "integer"
        }
       ],
       "ref": "ee2234b7-db99-4b5a-bbc5-40351531109e",
       "rows": [
        [
         "1",
         "2361"
        ],
        [
         "2",
         "1122"
        ],
        [
         "4",
         "385"
        ],
        [
         "3",
         "242"
        ],
        [
         "5",
         "169"
        ],
        [
         "6",
         "162"
        ],
        [
         "10",
         "160"
        ],
        [
         "8",
         "110"
        ],
        [
         "20",
         "72"
        ],
        [
         "12",
         "69"
        ],
        [
         "15",
         "58"
        ],
        [
         "7",
         "39"
        ],
        [
         "16",
         "35"
        ],
        [
         "30",
         "30"
        ],
        [
         "14",
         "29"
        ],
        [
         "40",
         "27"
        ],
        [
         "50",
         "26"
        ],
        [
         "25",
         "25"
        ],
        [
         "24",
         "24"
        ],
        [
         "9",
         "22"
        ],
        [
         "18",
         "14"
        ],
        [
         "35",
         "13"
        ],
        [
         "60",
         "13"
        ],
        [
         "22",
         "12"
        ],
        [
         "11",
         "12"
        ],
        [
         "13",
         "10"
        ],
        [
         "32",
         "10"
        ],
        [
         "28",
         "8"
        ],
        [
         "100",
         "8"
        ],
        [
         "17",
         "8"
        ],
        [
         "1200",
         "7"
        ],
        [
         "80",
         "7"
        ],
        [
         "21",
         "6"
        ],
        [
         "1450",
         "5"
        ],
        [
         "19",
         "5"
        ],
        [
         "70",
         "5"
        ],
        [
         "1600",
         "5"
        ],
        [
         "36",
         "5"
        ],
        [
         "254",
         "5"
        ],
        [
         "33",
         "5"
        ],
        [
         "27",
         "5"
        ],
        [
         "46",
         "5"
        ],
        [
         "23",
         "4"
        ],
        [
         "42",
         "4"
        ],
        [
         "26",
         "3"
        ],
        [
         "85",
         "3"
        ],
        [
         "45",
         "3"
        ],
        [
         "1500",
         "3"
        ],
        [
         "48",
         "3"
        ],
        [
         "41",
         "3"
        ]
       ],
       "shape": {
        "columns": 1,
        "rows": 94
       }
      },
      "text/plain": [
       "parking\n",
       "1      2361\n",
       "2      1122\n",
       "4       385\n",
       "3       242\n",
       "5       169\n",
       "       ... \n",
       "65        1\n",
       "137       1\n",
       "175       1\n",
       "160       1\n",
       "66        1\n",
       "Name: count, Length: 94, dtype: int64"
      ]
     },
     "execution_count": 89,
     "metadata": {},
     "output_type": "execute_result"
    }
   ],
   "source": [
    "# Get the unique value count\n",
    "results_df['parking'].value_counts()"
   ]
  },
  {
   "cell_type": "markdown",
   "id": "0bea0bf2",
   "metadata": {},
   "source": [
    "For the `parking` column, we calculate the median values for each property type to understand the central tendency within the dataset."
   ]
  },
  {
   "cell_type": "code",
   "execution_count": 90,
   "id": "f9e02d41",
   "metadata": {},
   "outputs": [
    {
     "name": "stdout",
     "output_type": "stream",
     "text": [
      "      property_type  median_parking\n",
      "1        Commercial             6.0\n",
      "4        Industrial             5.0\n",
      "2              Farm             2.0\n",
      "3             House             2.0\n",
      "0  Apartment / Flat             1.0\n",
      "5         Townhouse             1.0\n",
      "6       Vacant Land             1.0\n"
     ]
    }
   ],
   "source": [
    "# Ensure that the parking column is numeric\n",
    "results_df['parking'] = pd.to_numeric(\n",
    "    results_df['parking'], errors='coerce').astype('Int64')\n",
    "\n",
    "\n",
    "# Group by property type and calculate median\n",
    "median_parking = results_df.groupby('property_type')[\n",
    "    'parking'].median().reset_index()\n",
    "\n",
    "# Rename columns for clarity\n",
    "median_parking.columns = ['property_type', 'median_parking']\n",
    "\n",
    "# Sort by median descending (optional)\n",
    "median_parking = median_parking.sort_values(\n",
    "    by='median_parking', ascending=False)\n",
    "\n",
    "print(median_parking)"
   ]
  },
  {
   "cell_type": "markdown",
   "id": "f61bbd6c",
   "metadata": {},
   "source": [
    "There are also outliers in the dataset, with the maximum number of parking reaching 3050. The median values also support this observation, with the median value of the commercial type being 6, which is very high. \n",
    "\n",
    "To address this, we replace the outliers with the median parking value for each property type, defaulting to zero if the median is unavailable. \n",
    "\n",
    "For the remaining null values, we impute the parking column using the median value for the respective property type, defaulting to 0 again if the median is unavailable."
   ]
  },
  {
   "cell_type": "code",
   "execution_count": 91,
   "id": "2640689b",
   "metadata": {},
   "outputs": [],
   "source": [
    "# Define the threshold\n",
    "parking_threshold = 5\n",
    "\n",
    "# Identify outliers\n",
    "parking_outliers = results_df[results_df['parking'] > parking_threshold]\n",
    "\n",
    "# Compute medians and replace NaNs with 0\n",
    "parking_median = results_df[results_df['parking'] <= parking_threshold].groupby(\n",
    "    'property_type')['parking'].median().fillna(0)\n",
    "\n",
    "# Replace outlier values\n",
    "for idx, row in parking_outliers.iterrows():\n",
    "    prop_type = row['property_type']\n",
    "    median_val = parking_median.get(prop_type, 1)\n",
    "    results_df.at[idx, 'parking'] = median_val"
   ]
  },
  {
   "cell_type": "code",
   "execution_count": 92,
   "id": "6ef9ab74",
   "metadata": {},
   "outputs": [],
   "source": [
    "# Fill NaN kitchen values with property-type median, or 0 if still missing\n",
    "def fill_missing_parking(row):\n",
    "    if pd.isna(row['parking']):\n",
    "        return garage_median.get(row['property_type'], 0)\n",
    "    return row['parking']\n",
    "\n",
    "# Apply the function\n",
    "results_df['parking'] = results_df.apply(fill_missing_parking, axis=1)\n",
    "\n",
    "# Convert the column to integer type\n",
    "results_df['parking'] = results_df['parking'].round().astype('Int64')"
   ]
  },
  {
   "cell_type": "code",
   "execution_count": 93,
   "id": "240e1231",
   "metadata": {},
   "outputs": [
    {
     "data": {
      "text/plain": [
       "np.int64(0)"
      ]
     },
     "execution_count": 93,
     "metadata": {},
     "output_type": "execute_result"
    }
   ],
   "source": [
    "# Verify that null values are not present anymore.\n",
    "results_df['parking'].isnull().sum()"
   ]
  },
  {
   "cell_type": "markdown",
   "id": "387ca22e",
   "metadata": {},
   "source": [
    "### Backup Water column"
   ]
  },
  {
   "cell_type": "code",
   "execution_count": 94,
   "id": "1d6f1c2b",
   "metadata": {},
   "outputs": [
    {
     "data": {
      "text/plain": [
       "np.int64(12410)"
      ]
     },
     "execution_count": 94,
     "metadata": {},
     "output_type": "execute_result"
    }
   ],
   "source": [
    "# Get the total number of null values in the `backup_water` column\n",
    "results_df['backup_water'].isnull().sum()"
   ]
  },
  {
   "cell_type": "code",
   "execution_count": 95,
   "id": "bb4ce201",
   "metadata": {},
   "outputs": [
    {
     "data": {
      "application/vnd.microsoft.datawrangler.viewer.v0+json": {
       "columns": [
        {
         "name": "backup_water",
         "rawType": "object",
         "type": "string"
        },
        {
         "name": "count",
         "rawType": "int64",
         "type": "integer"
        }
       ],
       "ref": "4f167ef4-478d-46b9-ba84-0db85db47964",
       "rows": [
        [
         "Yes",
         "757"
        ],
        [
         "No",
         "738"
        ]
       ],
       "shape": {
        "columns": 1,
        "rows": 2
       }
      },
      "text/plain": [
       "backup_water\n",
       "Yes    757\n",
       "No     738\n",
       "Name: count, dtype: int64"
      ]
     },
     "execution_count": 95,
     "metadata": {},
     "output_type": "execute_result"
    }
   ],
   "source": [
    "# Get the unique value counts\n",
    "results_df['backup_water'].value_counts()"
   ]
  },
  {
   "cell_type": "markdown",
   "id": "cd96964b",
   "metadata": {},
   "source": [
    "We will calculate the mode of the `backup_water` column for each property type to determine the most common backup water availability status associated with each major property category."
   ]
  },
  {
   "cell_type": "code",
   "execution_count": 96,
   "id": "9a53722e",
   "metadata": {},
   "outputs": [
    {
     "name": "stdout",
     "output_type": "stream",
     "text": [
      "property_type\n",
      "Apartment / Flat      No\n",
      "Commercial           Yes\n",
      "Farm                <NA>\n",
      "House                 No\n",
      "Industrial            No\n",
      "Townhouse             No\n",
      "Vacant Land           No\n",
      "Name: backup_water, dtype: object\n"
     ]
    }
   ],
   "source": [
    "# Calculate mode for each property type for the furnished column\n",
    "backup_water_mode = results_df.groupby('property_type')['backup_water'].agg(\n",
    "    lambda x: x.mode().iloc[0] if not x.mode().empty else pd.NA\n",
    ")\n",
    "print(backup_water_mode)"
   ]
  },
  {
   "cell_type": "markdown",
   "id": "0ea73780",
   "metadata": {},
   "source": [
    "To maintain data consistency, we will fill in the null values in the `backup_water` column with *\"Unknown\"*."
   ]
  },
  {
   "cell_type": "code",
   "execution_count": 97,
   "id": "61ec15ef",
   "metadata": {},
   "outputs": [],
   "source": [
    "# Impute null values with \"Unknown\"\n",
    "results_df['backup_water'] = results_df['backup_water'].fillna('Unknown')"
   ]
  },
  {
   "cell_type": "code",
   "execution_count": 98,
   "id": "42100301",
   "metadata": {},
   "outputs": [
    {
     "data": {
      "text/plain": [
       "np.int64(0)"
      ]
     },
     "execution_count": 98,
     "metadata": {},
     "output_type": "execute_result"
    }
   ],
   "source": [
    "# Verify no null values exist\n",
    "results_df['backup_water'].isnull().sum()"
   ]
  },
  {
   "cell_type": "markdown",
   "id": "faa9bff1",
   "metadata": {},
   "source": [
    "### Floor Area column"
   ]
  },
  {
   "cell_type": "code",
   "execution_count": 99,
   "id": "255f8299",
   "metadata": {},
   "outputs": [
    {
     "data": {
      "text/plain": [
       "np.int64(6234)"
      ]
     },
     "execution_count": 99,
     "metadata": {},
     "output_type": "execute_result"
    }
   ],
   "source": [
    "# Get the total number of null values in the `floor_area column\n",
    "results_df['floor_area (m²)'].isnull().sum()"
   ]
  },
  {
   "cell_type": "code",
   "execution_count": 100,
   "id": "2c2cfd0c",
   "metadata": {},
   "outputs": [
    {
     "data": {
      "application/vnd.microsoft.datawrangler.viewer.v0+json": {
       "columns": [
        {
         "name": "floor_area (m²)",
         "rawType": "object",
         "type": "string"
        },
        {
         "name": "count",
         "rawType": "int64",
         "type": "integer"
        }
       ],
       "ref": "ae648bfd-7169-4d88-9afd-95cefe9a8999",
       "rows": [
        [
         "300",
         "105"
        ],
        [
         "30",
         "93"
        ],
        [
         "50",
         "90"
        ],
        [
         "100",
         "89"
        ],
        [
         "60",
         "78"
        ],
        [
         "200",
         "77"
        ],
        [
         "80",
         "71"
        ],
        [
         "20",
         "71"
        ],
        [
         "250",
         "59"
        ],
        [
         "150",
         "56"
        ],
        [
         "400",
         "56"
        ],
        [
         "90",
         "55"
        ],
        [
         "75",
         "53"
        ],
        [
         "70",
         "53"
        ],
        [
         "120",
         "51"
        ],
        [
         "800",
         "51"
        ],
        [
         "45",
         "51"
        ],
        [
         "35",
         "50"
        ],
        [
         "40",
         "49"
        ],
        [
         "43",
         "48"
        ],
        [
         "500",
         "48"
        ],
        [
         "15",
         "48"
        ],
        [
         "110",
         "47"
        ],
        [
         "180",
         "46"
        ],
        [
         "450",
         "46"
        ],
        [
         "600",
         "43"
        ],
        [
         "140",
         "42"
        ],
        [
         "51",
         "42"
        ],
        [
         "42",
         "41"
        ],
        [
         "25",
         "41"
        ],
        [
         "270",
         "40"
        ],
        [
         "220",
         "40"
        ],
        [
         "350",
         "39"
        ],
        [
         "360",
         "38"
        ],
        [
         "55",
         "38"
        ],
        [
         "330",
         "38"
        ],
        [
         "160",
         "37"
        ],
        [
         "32",
         "36"
        ],
        [
         "8",
         "34"
        ],
        [
         "65",
         "34"
        ],
        [
         "225",
         "33"
        ],
        [
         "125",
         "33"
        ],
        [
         "88",
         "32"
        ],
        [
         "530",
         "32"
        ],
        [
         "318",
         "31"
        ],
        [
         "47",
         "31"
        ],
        [
         "5",
         "30"
        ],
        [
         "105",
         "29"
        ],
        [
         "85",
         "29"
        ],
        [
         "10",
         "29"
        ]
       ],
       "shape": {
        "columns": 1,
        "rows": 764
       }
      },
      "text/plain": [
       "floor_area (m²)\n",
       "300    105\n",
       "30      93\n",
       "50      90\n",
       "100     89\n",
       "60      78\n",
       "      ... \n",
       "783      1\n",
       "577      1\n",
       "635      1\n",
       "990      1\n",
       "974      1\n",
       "Name: count, Length: 764, dtype: int64"
      ]
     },
     "execution_count": 100,
     "metadata": {},
     "output_type": "execute_result"
    }
   ],
   "source": [
    "# Get the unique value counts\n",
    "results_df['floor_area (m²)'].value_counts()"
   ]
  },
  {
   "cell_type": "markdown",
   "id": "4af5a9c5",
   "metadata": {},
   "source": [
    "To impute the missing values in the `floor_area (m²)` column, we apply a hierarchical group-based median imputation strategy. First, we convert the column to a numeric data type to handle any non-numeric entries safely. We then calculate the median floor area for each combination of property_type and city, as floor space often varies based on both the type of property and its location.\n",
    "\n",
    "If a specific (property_type, city) pair does not have enough data to calculate a median, we fall back to using the overall median for that property_type. Finally, if the property type itself has no median (e.g., all values are missing), we assign a default value of 0. This approach ensures that the imputed values remain contextually relevant and avoid skewing analyses with arbitrary values."
   ]
  },
  {
   "cell_type": "code",
   "execution_count": 101,
   "id": "53197ff8",
   "metadata": {},
   "outputs": [],
   "source": [
    "# Ensure that the floor_area (m²) column is numeric\n",
    "results_df['floor_area (m²)'] = pd.to_numeric(\n",
    "    results_df['floor_area (m²)'], errors='coerce').astype('Int64')\n",
    "\n",
    "\n",
    "# Group by both property_type and city for more specific medians\n",
    "floor_size_median = results_df.groupby(['property_type', 'city'])['floor_area (m²)'].median()\n",
    "\n",
    "# Fallback: Overall median by property type\n",
    "floor_size_fallback = results_df.groupby('property_type')['floor_area (m²)'].median()\n",
    "\n",
    "def fill_erf_size(row):\n",
    "    if pd.isna(row['floor_area (m²)']):\n",
    "        val = floor_size_median.get((row['property_type'], row['city']), np.nan)\n",
    "        if pd.isna(val):\n",
    "            val = floor_size_fallback.get(row['property_type'], 0)\n",
    "        return val\n",
    "    return row['floor_area (m²)']\n",
    "\n",
    "results_df['floor_area (m²)'] = results_df.apply(fill_erf_size, axis=1)"
   ]
  },
  {
   "cell_type": "code",
   "execution_count": 102,
   "id": "97a612a0",
   "metadata": {},
   "outputs": [
    {
     "data": {
      "text/plain": [
       "np.int64(0)"
      ]
     },
     "execution_count": 102,
     "metadata": {},
     "output_type": "execute_result"
    }
   ],
   "source": [
    "# Verify that null values do not exist\n",
    "results_df['floor_area (m²)'].isnull().sum()"
   ]
  },
  {
   "cell_type": "markdown",
   "id": "6c150693",
   "metadata": {},
   "source": [
    "### Erf Size column"
   ]
  },
  {
   "cell_type": "code",
   "execution_count": 103,
   "id": "ac8a2c8a",
   "metadata": {},
   "outputs": [
    {
     "data": {
      "text/plain": [
       "np.int64(10801)"
      ]
     },
     "execution_count": 103,
     "metadata": {},
     "output_type": "execute_result"
    }
   ],
   "source": [
    "# Get the total number of null values in the `erf_size` column\n",
    "results_df['erf_size (m²)'].isnull().sum()"
   ]
  },
  {
   "cell_type": "code",
   "execution_count": 104,
   "id": "bcc856bf",
   "metadata": {},
   "outputs": [
    {
     "data": {
      "application/vnd.microsoft.datawrangler.viewer.v0+json": {
       "columns": [
        {
         "name": "erf_size (m²)",
         "rawType": "object",
         "type": "string"
        },
        {
         "name": "count",
         "rawType": "int64",
         "type": "integer"
        }
       ],
       "ref": "dcdd950e-32ea-4815-9499-edf399d00564",
       "rows": [
        [
         "495",
         "68"
        ],
        [
         "500",
         "40"
        ],
        [
         "250",
         "39"
        ],
        [
         "100",
         "34"
        ],
        [
         "800",
         "34"
        ],
        [
         "200",
         "32"
        ],
        [
         "600",
         "30"
        ],
        [
         "496",
         "29"
        ],
        [
         "60",
         "29"
        ],
        [
         "300",
         "28"
        ],
        [
         "400",
         "25"
        ],
        [
         "450",
         "25"
        ],
        [
         "750",
         "24"
        ],
        [
         "990",
         "23"
        ],
        [
         "90",
         "23"
        ],
        [
         "150",
         "21"
        ],
        [
         "991",
         "21"
        ],
        [
         "120",
         "20"
        ],
        [
         "220",
         "20"
        ],
        [
         "70",
         "19"
        ],
        [
         "75",
         "18"
        ],
        [
         "594",
         "18"
        ],
        [
         "140",
         "18"
        ],
        [
         "248",
         "18"
        ],
        [
         "249",
         "16"
        ],
        [
         "360",
         "16"
        ],
        [
         "264",
         "16"
        ],
        [
         "1",
         "16"
        ],
        [
         "466",
         "15"
        ],
        [
         "900",
         "15"
        ],
        [
         "530",
         "15"
        ],
        [
         "270",
         "15"
        ],
        [
         "65",
         "14"
        ],
        [
         "170",
         "14"
        ],
        [
         "700",
         "14"
        ],
        [
         "350",
         "14"
        ],
        [
         "547",
         "13"
        ],
        [
         "80",
         "13"
        ],
        [
         "55",
         "13"
        ],
        [
         "180",
         "13"
        ],
        [
         "110",
         "13"
        ],
        [
         "655",
         "13"
        ],
        [
         "125",
         "12"
        ],
        [
         "218",
         "12"
        ],
        [
         "225",
         "12"
        ],
        [
         "808",
         "12"
        ],
        [
         "678",
         "12"
        ],
        [
         "76",
         "12"
        ],
        [
         "929",
         "12"
        ],
        [
         "154",
         "12"
        ]
       ],
       "shape": {
        "columns": 1,
        "rows": 716
       }
      },
      "text/plain": [
       "erf_size (m²)\n",
       "495    68\n",
       "500    40\n",
       "250    39\n",
       "100    34\n",
       "800    34\n",
       "       ..\n",
       "922     1\n",
       "689     1\n",
       "877     1\n",
       "474     1\n",
       "416     1\n",
       "Name: count, Length: 716, dtype: int64"
      ]
     },
     "execution_count": 104,
     "metadata": {},
     "output_type": "execute_result"
    }
   ],
   "source": [
    "# Get the unique value counts\n",
    "results_df['erf_size (m²)'].value_counts()"
   ]
  },
  {
   "cell_type": "markdown",
   "id": "02d37dc8",
   "metadata": {},
   "source": [
    "To impute the missing values in the `erf_size (m²)` column, we also apply a hierarchical group-based median imputation strategy. First, we convert the column to a numeric data type to handle any non-numeric entries safely. We then calculate the median floor area for each combination of property_type and city, as floor space often varies based on both the type of property and its location.\n",
    "\n",
    "If a specific (property_type, city) pair does not have enough data to calculate a median, we fall back to using the overall median for that property_type. Finally, if the property type itself has no median (e.g., all values are missing), we assign a default value of 0. This approach ensures that the imputed values remain contextually relevant and avoid skewing analyses with arbitrary values."
   ]
  },
  {
   "cell_type": "code",
   "execution_count": 105,
   "id": "cca2c8d4",
   "metadata": {},
   "outputs": [],
   "source": [
    "# Convert to numeric (coerce errors to NaN)\n",
    "results_df['erf_size (m²)'] = pd.to_numeric(\n",
    "    results_df['erf_size (m²)'], errors='coerce')\n",
    "\n",
    "#Calculate medians\n",
    "erf_medians = results_df.groupby(['property_type', 'city'])[\n",
    "    'erf_size (m²)'].median()\n",
    "erf_medians_fallback = results_df.groupby(\n",
    "    'property_type')['erf_size (m²)'].median()\n",
    "\n",
    "# Define the fill function\n",
    "def fill_erf_size(row):\n",
    "    if pd.isna(row['erf_size (m²)']):\n",
    "        val = erf_medians.get((row['property_type'], row['city']), np.nan)\n",
    "        if pd.isna(val):\n",
    "            val = erf_medians_fallback.get(row['property_type'], 0)\n",
    "        return val\n",
    "    return row['erf_size (m²)']\n",
    "\n",
    "\n",
    "# Apply the fill function\n",
    "results_df['erf_size (m²)'] = results_df.apply(fill_erf_size, axis=1)"
   ]
  },
  {
   "cell_type": "code",
   "execution_count": 106,
   "id": "9b2403ca",
   "metadata": {},
   "outputs": [
    {
     "data": {
      "text/plain": [
       "np.int64(3)"
      ]
     },
     "execution_count": 106,
     "metadata": {},
     "output_type": "execute_result"
    }
   ],
   "source": [
    "# Verify that no null values exist\n",
    "results_df['erf_size (m²)'].isnull().sum()"
   ]
  },
  {
   "cell_type": "code",
   "execution_count": 107,
   "id": "25e8207f",
   "metadata": {},
   "outputs": [
    {
     "data": {
      "application/vnd.microsoft.datawrangler.viewer.v0+json": {
       "columns": [
        {
         "name": "index",
         "rawType": "int64",
         "type": "integer"
        },
        {
         "name": "listing_number",
         "rawType": "object",
         "type": "string"
        },
        {
         "name": "property_type",
         "rawType": "object",
         "type": "string"
        },
        {
         "name": "furnished",
         "rawType": "object",
         "type": "string"
        },
        {
         "name": "pets_allowed",
         "rawType": "object",
         "type": "string"
        },
        {
         "name": "backup_water",
         "rawType": "object",
         "type": "string"
        },
        {
         "name": "bedrooms",
         "rawType": "Int64",
         "type": "integer"
        },
        {
         "name": "bathrooms",
         "rawType": "Int64",
         "type": "integer"
        },
        {
         "name": "kitchen",
         "rawType": "Int64",
         "type": "integer"
        },
        {
         "name": "lounge",
         "rawType": "Int64",
         "type": "integer"
        },
        {
         "name": "dining_room",
         "rawType": "Int64",
         "type": "integer"
        },
        {
         "name": "parking",
         "rawType": "Int64",
         "type": "integer"
        },
        {
         "name": "garden",
         "rawType": "Int64",
         "type": "integer"
        },
        {
         "name": "pool",
         "rawType": "Int64",
         "type": "integer"
        },
        {
         "name": "garage",
         "rawType": "Int64",
         "type": "integer"
        },
        {
         "name": "erf_size (m²)",
         "rawType": "float64",
         "type": "float"
        },
        {
         "name": "floor_area (m²)",
         "rawType": "float64",
         "type": "float"
        },
        {
         "name": "suburb",
         "rawType": "object",
         "type": "string"
        },
        {
         "name": "city",
         "rawType": "object",
         "type": "string"
        },
        {
         "name": "province",
         "rawType": "object",
         "type": "string"
        },
        {
         "name": "price_type",
         "rawType": "object",
         "type": "string"
        },
        {
         "name": "price (ZAR)",
         "rawType": "float64",
         "type": "float"
        }
       ],
       "ref": "dfbc7441-ea02-43bb-be20-f4d676154b20",
       "rows": [
        [
         "64",
         "115727102",
         "Farm",
         "No",
         "Yes",
         "Unknown",
         "4",
         "3",
         "1",
         "1",
         "0",
         "2",
         "0",
         "0",
         "0",
         null,
         "100.0",
         "Olive Hill",
         "Bloemfontein",
         "Free State",
         "Per Month",
         "12450.0"
        ],
        [
         "12321",
         "114729501",
         "Farm",
         "Unknown",
         "Yes",
         "Unknown",
         "5",
         "5",
         "1",
         "1",
         "0",
         "0",
         "0",
         "0",
         "0",
         null,
         "100.0",
         "Nelspruit Rural",
         "Nelspruit",
         "Mpumalanga",
         "Per Month",
         "24000.0"
        ],
        [
         "13895",
         "115606963",
         "Farm",
         "Unknown",
         "Yes",
         "Unknown",
         "2",
         "1",
         "1",
         "1",
         "0",
         "0",
         "1",
         "0",
         "0",
         null,
         "100.0",
         "Kalkfontein AH",
         "Polokwane",
         "Limpopo",
         "Per Month",
         "5600.0"
        ]
       ],
       "shape": {
        "columns": 21,
        "rows": 3
       }
      },
      "text/html": [
       "<div>\n",
       "<style scoped>\n",
       "    .dataframe tbody tr th:only-of-type {\n",
       "        vertical-align: middle;\n",
       "    }\n",
       "\n",
       "    .dataframe tbody tr th {\n",
       "        vertical-align: top;\n",
       "    }\n",
       "\n",
       "    .dataframe thead th {\n",
       "        text-align: right;\n",
       "    }\n",
       "</style>\n",
       "<table border=\"1\" class=\"dataframe\">\n",
       "  <thead>\n",
       "    <tr style=\"text-align: right;\">\n",
       "      <th></th>\n",
       "      <th>listing_number</th>\n",
       "      <th>property_type</th>\n",
       "      <th>furnished</th>\n",
       "      <th>pets_allowed</th>\n",
       "      <th>backup_water</th>\n",
       "      <th>bedrooms</th>\n",
       "      <th>bathrooms</th>\n",
       "      <th>kitchen</th>\n",
       "      <th>lounge</th>\n",
       "      <th>dining_room</th>\n",
       "      <th>...</th>\n",
       "      <th>garden</th>\n",
       "      <th>pool</th>\n",
       "      <th>garage</th>\n",
       "      <th>erf_size (m²)</th>\n",
       "      <th>floor_area (m²)</th>\n",
       "      <th>suburb</th>\n",
       "      <th>city</th>\n",
       "      <th>province</th>\n",
       "      <th>price_type</th>\n",
       "      <th>price (ZAR)</th>\n",
       "    </tr>\n",
       "  </thead>\n",
       "  <tbody>\n",
       "    <tr>\n",
       "      <th>64</th>\n",
       "      <td>115727102</td>\n",
       "      <td>Farm</td>\n",
       "      <td>No</td>\n",
       "      <td>Yes</td>\n",
       "      <td>Unknown</td>\n",
       "      <td>4</td>\n",
       "      <td>3</td>\n",
       "      <td>1</td>\n",
       "      <td>1</td>\n",
       "      <td>0</td>\n",
       "      <td>...</td>\n",
       "      <td>0</td>\n",
       "      <td>0</td>\n",
       "      <td>0</td>\n",
       "      <td>NaN</td>\n",
       "      <td>100.0</td>\n",
       "      <td>Olive Hill</td>\n",
       "      <td>Bloemfontein</td>\n",
       "      <td>Free State</td>\n",
       "      <td>Per Month</td>\n",
       "      <td>12450.0</td>\n",
       "    </tr>\n",
       "    <tr>\n",
       "      <th>12321</th>\n",
       "      <td>114729501</td>\n",
       "      <td>Farm</td>\n",
       "      <td>Unknown</td>\n",
       "      <td>Yes</td>\n",
       "      <td>Unknown</td>\n",
       "      <td>5</td>\n",
       "      <td>5</td>\n",
       "      <td>1</td>\n",
       "      <td>1</td>\n",
       "      <td>0</td>\n",
       "      <td>...</td>\n",
       "      <td>0</td>\n",
       "      <td>0</td>\n",
       "      <td>0</td>\n",
       "      <td>NaN</td>\n",
       "      <td>100.0</td>\n",
       "      <td>Nelspruit Rural</td>\n",
       "      <td>Nelspruit</td>\n",
       "      <td>Mpumalanga</td>\n",
       "      <td>Per Month</td>\n",
       "      <td>24000.0</td>\n",
       "    </tr>\n",
       "    <tr>\n",
       "      <th>13895</th>\n",
       "      <td>115606963</td>\n",
       "      <td>Farm</td>\n",
       "      <td>Unknown</td>\n",
       "      <td>Yes</td>\n",
       "      <td>Unknown</td>\n",
       "      <td>2</td>\n",
       "      <td>1</td>\n",
       "      <td>1</td>\n",
       "      <td>1</td>\n",
       "      <td>0</td>\n",
       "      <td>...</td>\n",
       "      <td>1</td>\n",
       "      <td>0</td>\n",
       "      <td>0</td>\n",
       "      <td>NaN</td>\n",
       "      <td>100.0</td>\n",
       "      <td>Kalkfontein AH</td>\n",
       "      <td>Polokwane</td>\n",
       "      <td>Limpopo</td>\n",
       "      <td>Per Month</td>\n",
       "      <td>5600.0</td>\n",
       "    </tr>\n",
       "  </tbody>\n",
       "</table>\n",
       "<p>3 rows × 21 columns</p>\n",
       "</div>"
      ],
      "text/plain": [
       "      listing_number property_type furnished pets_allowed backup_water  \\\n",
       "64         115727102          Farm        No          Yes      Unknown   \n",
       "12321      114729501          Farm   Unknown          Yes      Unknown   \n",
       "13895      115606963          Farm   Unknown          Yes      Unknown   \n",
       "\n",
       "       bedrooms  bathrooms  kitchen  lounge  dining_room  ...  garden  pool  \\\n",
       "64            4          3        1       1            0  ...       0     0   \n",
       "12321         5          5        1       1            0  ...       0     0   \n",
       "13895         2          1        1       1            0  ...       1     0   \n",
       "\n",
       "       garage  erf_size (m²)  floor_area (m²)           suburb          city  \\\n",
       "64          0            NaN            100.0       Olive Hill  Bloemfontein   \n",
       "12321       0            NaN            100.0  Nelspruit Rural     Nelspruit   \n",
       "13895       0            NaN            100.0   Kalkfontein AH     Polokwane   \n",
       "\n",
       "         province price_type price (ZAR)  \n",
       "64     Free State  Per Month     12450.0  \n",
       "12321  Mpumalanga  Per Month     24000.0  \n",
       "13895     Limpopo  Per Month      5600.0  \n",
       "\n",
       "[3 rows x 21 columns]"
      ]
     },
     "execution_count": 107,
     "metadata": {},
     "output_type": "execute_result"
    }
   ],
   "source": [
    "# Visualise the rows that are null in the `erf_size` column\n",
    "results_df[results_df['erf_size (m²)'].isna()]"
   ]
  },
  {
   "cell_type": "code",
   "execution_count": 108,
   "id": "8f31aa2c",
   "metadata": {},
   "outputs": [
    {
     "data": {
      "application/vnd.microsoft.datawrangler.viewer.v0+json": {
       "columns": [
        {
         "name": "index",
         "rawType": "int64",
         "type": "integer"
        },
        {
         "name": "listing_number",
         "rawType": "object",
         "type": "string"
        },
        {
         "name": "property_type",
         "rawType": "object",
         "type": "string"
        },
        {
         "name": "furnished",
         "rawType": "object",
         "type": "string"
        },
        {
         "name": "pets_allowed",
         "rawType": "object",
         "type": "string"
        },
        {
         "name": "backup_water",
         "rawType": "object",
         "type": "string"
        },
        {
         "name": "bedrooms",
         "rawType": "Int64",
         "type": "integer"
        },
        {
         "name": "bathrooms",
         "rawType": "Int64",
         "type": "integer"
        },
        {
         "name": "kitchen",
         "rawType": "Int64",
         "type": "integer"
        },
        {
         "name": "lounge",
         "rawType": "Int64",
         "type": "integer"
        },
        {
         "name": "dining_room",
         "rawType": "Int64",
         "type": "integer"
        },
        {
         "name": "parking",
         "rawType": "Int64",
         "type": "integer"
        },
        {
         "name": "garden",
         "rawType": "Int64",
         "type": "integer"
        },
        {
         "name": "pool",
         "rawType": "Int64",
         "type": "integer"
        },
        {
         "name": "garage",
         "rawType": "Int64",
         "type": "integer"
        },
        {
         "name": "erf_size (m²)",
         "rawType": "float64",
         "type": "float"
        },
        {
         "name": "floor_area (m²)",
         "rawType": "float64",
         "type": "float"
        },
        {
         "name": "suburb",
         "rawType": "object",
         "type": "string"
        },
        {
         "name": "city",
         "rawType": "object",
         "type": "string"
        },
        {
         "name": "province",
         "rawType": "object",
         "type": "string"
        },
        {
         "name": "price_type",
         "rawType": "object",
         "type": "string"
        },
        {
         "name": "price (ZAR)",
         "rawType": "float64",
         "type": "float"
        }
       ],
       "ref": "3125e74f-6744-4dac-a782-97198e2ec076",
       "rows": [
        [
         "64",
         "115727102",
         "Farm",
         "No",
         "Yes",
         "Unknown",
         "4",
         "3",
         "1",
         "1",
         "0",
         "2",
         "0",
         "0",
         "0",
         null,
         "100.0",
         "Olive Hill",
         "Bloemfontein",
         "Free State",
         "Per Month",
         "12450.0"
        ],
        [
         "12321",
         "114729501",
         "Farm",
         "Unknown",
         "Yes",
         "Unknown",
         "5",
         "5",
         "1",
         "1",
         "0",
         "0",
         "0",
         "0",
         "0",
         null,
         "100.0",
         "Nelspruit Rural",
         "Nelspruit",
         "Mpumalanga",
         "Per Month",
         "24000.0"
        ],
        [
         "13895",
         "115606963",
         "Farm",
         "Unknown",
         "Yes",
         "Unknown",
         "2",
         "1",
         "1",
         "1",
         "0",
         "0",
         "1",
         "0",
         "0",
         null,
         "100.0",
         "Kalkfontein AH",
         "Polokwane",
         "Limpopo",
         "Per Month",
         "5600.0"
        ]
       ],
       "shape": {
        "columns": 21,
        "rows": 3
       }
      },
      "text/html": [
       "<div>\n",
       "<style scoped>\n",
       "    .dataframe tbody tr th:only-of-type {\n",
       "        vertical-align: middle;\n",
       "    }\n",
       "\n",
       "    .dataframe tbody tr th {\n",
       "        vertical-align: top;\n",
       "    }\n",
       "\n",
       "    .dataframe thead th {\n",
       "        text-align: right;\n",
       "    }\n",
       "</style>\n",
       "<table border=\"1\" class=\"dataframe\">\n",
       "  <thead>\n",
       "    <tr style=\"text-align: right;\">\n",
       "      <th></th>\n",
       "      <th>listing_number</th>\n",
       "      <th>property_type</th>\n",
       "      <th>furnished</th>\n",
       "      <th>pets_allowed</th>\n",
       "      <th>backup_water</th>\n",
       "      <th>bedrooms</th>\n",
       "      <th>bathrooms</th>\n",
       "      <th>kitchen</th>\n",
       "      <th>lounge</th>\n",
       "      <th>dining_room</th>\n",
       "      <th>...</th>\n",
       "      <th>garden</th>\n",
       "      <th>pool</th>\n",
       "      <th>garage</th>\n",
       "      <th>erf_size (m²)</th>\n",
       "      <th>floor_area (m²)</th>\n",
       "      <th>suburb</th>\n",
       "      <th>city</th>\n",
       "      <th>province</th>\n",
       "      <th>price_type</th>\n",
       "      <th>price (ZAR)</th>\n",
       "    </tr>\n",
       "  </thead>\n",
       "  <tbody>\n",
       "    <tr>\n",
       "      <th>64</th>\n",
       "      <td>115727102</td>\n",
       "      <td>Farm</td>\n",
       "      <td>No</td>\n",
       "      <td>Yes</td>\n",
       "      <td>Unknown</td>\n",
       "      <td>4</td>\n",
       "      <td>3</td>\n",
       "      <td>1</td>\n",
       "      <td>1</td>\n",
       "      <td>0</td>\n",
       "      <td>...</td>\n",
       "      <td>0</td>\n",
       "      <td>0</td>\n",
       "      <td>0</td>\n",
       "      <td>NaN</td>\n",
       "      <td>100.0</td>\n",
       "      <td>Olive Hill</td>\n",
       "      <td>Bloemfontein</td>\n",
       "      <td>Free State</td>\n",
       "      <td>Per Month</td>\n",
       "      <td>12450.0</td>\n",
       "    </tr>\n",
       "    <tr>\n",
       "      <th>12321</th>\n",
       "      <td>114729501</td>\n",
       "      <td>Farm</td>\n",
       "      <td>Unknown</td>\n",
       "      <td>Yes</td>\n",
       "      <td>Unknown</td>\n",
       "      <td>5</td>\n",
       "      <td>5</td>\n",
       "      <td>1</td>\n",
       "      <td>1</td>\n",
       "      <td>0</td>\n",
       "      <td>...</td>\n",
       "      <td>0</td>\n",
       "      <td>0</td>\n",
       "      <td>0</td>\n",
       "      <td>NaN</td>\n",
       "      <td>100.0</td>\n",
       "      <td>Nelspruit Rural</td>\n",
       "      <td>Nelspruit</td>\n",
       "      <td>Mpumalanga</td>\n",
       "      <td>Per Month</td>\n",
       "      <td>24000.0</td>\n",
       "    </tr>\n",
       "    <tr>\n",
       "      <th>13895</th>\n",
       "      <td>115606963</td>\n",
       "      <td>Farm</td>\n",
       "      <td>Unknown</td>\n",
       "      <td>Yes</td>\n",
       "      <td>Unknown</td>\n",
       "      <td>2</td>\n",
       "      <td>1</td>\n",
       "      <td>1</td>\n",
       "      <td>1</td>\n",
       "      <td>0</td>\n",
       "      <td>...</td>\n",
       "      <td>1</td>\n",
       "      <td>0</td>\n",
       "      <td>0</td>\n",
       "      <td>NaN</td>\n",
       "      <td>100.0</td>\n",
       "      <td>Kalkfontein AH</td>\n",
       "      <td>Polokwane</td>\n",
       "      <td>Limpopo</td>\n",
       "      <td>Per Month</td>\n",
       "      <td>5600.0</td>\n",
       "    </tr>\n",
       "  </tbody>\n",
       "</table>\n",
       "<p>3 rows × 21 columns</p>\n",
       "</div>"
      ],
      "text/plain": [
       "      listing_number property_type furnished pets_allowed backup_water  \\\n",
       "64         115727102          Farm        No          Yes      Unknown   \n",
       "12321      114729501          Farm   Unknown          Yes      Unknown   \n",
       "13895      115606963          Farm   Unknown          Yes      Unknown   \n",
       "\n",
       "       bedrooms  bathrooms  kitchen  lounge  dining_room  ...  garden  pool  \\\n",
       "64            4          3        1       1            0  ...       0     0   \n",
       "12321         5          5        1       1            0  ...       0     0   \n",
       "13895         2          1        1       1            0  ...       1     0   \n",
       "\n",
       "       garage  erf_size (m²)  floor_area (m²)           suburb          city  \\\n",
       "64          0            NaN            100.0       Olive Hill  Bloemfontein   \n",
       "12321       0            NaN            100.0  Nelspruit Rural     Nelspruit   \n",
       "13895       0            NaN            100.0   Kalkfontein AH     Polokwane   \n",
       "\n",
       "         province price_type price (ZAR)  \n",
       "64     Free State  Per Month     12450.0  \n",
       "12321  Mpumalanga  Per Month     24000.0  \n",
       "13895     Limpopo  Per Month      5600.0  \n",
       "\n",
       "[3 rows x 21 columns]"
      ]
     },
     "execution_count": 108,
     "metadata": {},
     "output_type": "execute_result"
    }
   ],
   "source": [
    "# Visualise the rows where the property_type equals 'Farm'\n",
    "results_df[results_df['property_type'] == 'Farm']"
   ]
  },
  {
   "cell_type": "markdown",
   "id": "1533bc41",
   "metadata": {},
   "source": [
    "The only records with null values in erf_size (m²) belong to the \"Farm\" property type. Since these are the only farm listings available, we avoid dropping them. Instead, we impute a conservative placeholder value (e.g., 1000 m²), based on knowledge that farm properties tend to be substantially larger. This allows us to retain these listings in the analysis while maintaining consistency in the dataset."
   ]
  },
  {
   "cell_type": "code",
   "execution_count": 109,
   "id": "96a22341",
   "metadata": {},
   "outputs": [],
   "source": [
    "# Fill in the null values\n",
    "results_df['erf_size (m²)'].fillna(1000, inplace=True)"
   ]
  },
  {
   "cell_type": "code",
   "execution_count": 110,
   "id": "b9ebe078",
   "metadata": {},
   "outputs": [
    {
     "name": "stdout",
     "output_type": "stream",
     "text": [
      "<class 'pandas.core.frame.DataFrame'>\n",
      "Index: 13905 entries, 0 to 13928\n",
      "Data columns (total 21 columns):\n",
      " #   Column           Non-Null Count  Dtype  \n",
      "---  ------           --------------  -----  \n",
      " 0   listing_number   13905 non-null  object \n",
      " 1   property_type    13905 non-null  object \n",
      " 2   furnished        13905 non-null  object \n",
      " 3   pets_allowed     13905 non-null  object \n",
      " 4   backup_water     13905 non-null  object \n",
      " 5   bedrooms         13905 non-null  Int64  \n",
      " 6   bathrooms        13905 non-null  Int64  \n",
      " 7   kitchen          13905 non-null  Int64  \n",
      " 8   lounge           13905 non-null  Int64  \n",
      " 9   dining_room      13905 non-null  Int64  \n",
      " 10  parking          13905 non-null  Int64  \n",
      " 11  garden           13905 non-null  Int64  \n",
      " 12  pool             13905 non-null  Int64  \n",
      " 13  garage           13905 non-null  Int64  \n",
      " 14  erf_size (m²)    13905 non-null  float64\n",
      " 15  floor_area (m²)  13905 non-null  float64\n",
      " 16  suburb           13905 non-null  object \n",
      " 17  city             13905 non-null  object \n",
      " 18  province         13905 non-null  object \n",
      " 19  price_type       13905 non-null  object \n",
      " 20  price (ZAR)      13905 non-null  float64\n",
      "dtypes: Int64(9), float64(3), object(9)\n",
      "memory usage: 3.0+ MB\n"
     ]
    }
   ],
   "source": [
    "# Print a summary of the cleaned dataset\n",
    "results_df.info()"
   ]
  },
  {
   "cell_type": "markdown",
   "id": "3e50c920",
   "metadata": {},
   "source": [
    "## 4. Save the transformed data\n",
    "[Back to Table of Contents](#table-of-contents)\n",
    "\n",
    "---\n",
    "\n",
    "| ⚡ Description: Storing our pre-processed data ⚡ |\n",
    "| :--------------------------- |\n",
    "\n",
    "---"
   ]
  },
  {
   "cell_type": "code",
   "execution_count": 111,
   "id": "86f8d214",
   "metadata": {},
   "outputs": [],
   "source": [
    "# Define the file path\n",
    "save_path = (\"../data/processed/cleaned_rental_listings.csv\")\n",
    "\n",
    "# Save to CSV\n",
    "results_df.to_csv(save_path, index=False)"
   ]
  }
 ],
 "metadata": {
  "kernelspec": {
   "display_name": ".venv",
   "language": "python",
   "name": "python3"
  },
  "language_info": {
   "codemirror_mode": {
    "name": "ipython",
    "version": 3
   },
   "file_extension": ".py",
   "mimetype": "text/x-python",
   "name": "python",
   "nbconvert_exporter": "python",
   "pygments_lexer": "ipython3",
   "version": "3.13.1"
  }
 },
 "nbformat": 4,
 "nbformat_minor": 5
}

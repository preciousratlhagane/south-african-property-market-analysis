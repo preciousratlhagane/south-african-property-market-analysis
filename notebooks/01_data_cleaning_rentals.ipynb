{
 "cells": [
  {
   "cell_type": "markdown",
   "id": "1feaf872",
   "metadata": {},
   "source": [
    "# <center> 🧽 Data Cleaning Part 1 </center>"
   ]
  },
  {
   "cell_type": "markdown",
   "id": "42a4d6bf",
   "metadata": {},
   "source": [
    "## Table of Contents\n",
    "\n",
    "- [1. Introduction](#1-introduction)\n",
    "- [2. Loading Data](#2-loading-data)\n",
    "- [3. Exploratory Data Analysis](#3-exploratory-data-analysis)"
   ]
  },
  {
   "cell_type": "markdown",
   "id": "acdffd07",
   "metadata": {},
   "source": [
    "## 1. Introduction\n",
    "[Back to Table of Contents](#table-of-contents)\n",
    "\n",
    "---\n",
    "\n",
    "| ⚡ Description: Introducing the project ⚡ |\n",
    "| :--------------------------- |\n",
    "\n",
    "---"
   ]
  },
  {
   "cell_type": "markdown",
   "id": "cf9beb8e",
   "metadata": {},
   "source": [
    "The South African property market is as diverse as its nine provinces, which each capital city offering a distinctive combination of lifestyle, econonomic activity, and real estate dynamics. In this project, we focus on analyzing property listings across South Africa's provincial capitals to uncover trends, identify investment opportunites, and evaluate affordability across regions.\n",
    "\n",
    "Real estate decisions, whether to buy, rent or invest rely heavily on accurate, data-driven insights. This notebook is part of a broader project aimed at equipping investors, analysts, and policy makers with a clearer view of the current landscape. By leveraging web-scraped data from online property listings, we examine key features such as property types, pricing, location, and amenities. \n",
    "\n",
    "Through careful data cleaning, exploratory data analysis, and visualization, we aim to:\n",
    "\n",
    "- Compare rental and sale prices across capital cities\n",
    "- Identify supply-demand dynamics\n",
    "- Analyse the affordability and investment potential of different regions\n",
    "- Explore how property features and economic context influence pricing\n",
    "\n",
    "The findings from this notebook feed into a Power BI dashboard that allows for dynamic and interactive exploration of property trends across the country. \n",
    "\n",
    "This notebook documents each step of the analysis pipeline -starting from raw data processing to uncovering insights to ensure transparency, reproducibility, and a foundation for further exploration"
   ]
  },
  {
   "cell_type": "markdown",
   "id": "bfc87451",
   "metadata": {},
   "source": [
    "## 2. Loading Data\n",
    "[Back to Table of Contents](#table-of-contents)\n",
    "\n",
    "---\n",
    "    \n",
    "| ⚡ Description: Loading the data in our environment ⚡ |\n",
    "| :--------------------------- |\n",
    "\n",
    "---"
   ]
  },
  {
   "cell_type": "markdown",
   "id": "4c737deb",
   "metadata": {},
   "source": [
    "### Import packages"
   ]
  },
  {
   "cell_type": "code",
   "execution_count": 1,
   "id": "a78b697d",
   "metadata": {},
   "outputs": [],
   "source": [
    "# Import packages\n",
    "import re\n",
    "\n",
    "import numpy as np\n",
    "import pandas as pd"
   ]
  },
  {
   "cell_type": "code",
   "execution_count": 2,
   "id": "4ee1b231",
   "metadata": {},
   "outputs": [
    {
     "data": {
      "text/plain": [
       "'Rentals'"
      ]
     },
     "metadata": {},
     "output_type": "display_data"
    },
    {
     "data": {
      "application/vnd.microsoft.datawrangler.viewer.v0+json": {
       "columns": [
        {
         "name": "index",
         "rawType": "int64",
         "type": "integer"
        },
        {
         "name": "price",
         "rawType": "object",
         "type": "unknown"
        },
        {
         "name": "location",
         "rawType": "object",
         "type": "unknown"
        },
        {
         "name": "property_title",
         "rawType": "object",
         "type": "unknown"
        },
        {
         "name": "property_description",
         "rawType": "object",
         "type": "unknown"
        },
        {
         "name": "property_features",
         "rawType": "object",
         "type": "unknown"
        },
        {
         "name": "listing_slug",
         "rawType": "object",
         "type": "string"
        }
       ],
       "ref": "4eb9ea7c-2504-41c4-92ea-dfd4c1c0808e",
       "rows": [
        [
         "0",
         "R 7 000Per Month",
         "Bhisho, Tyu Tyu North",
         "3 Bedroom House to Rent in Tyu Tyu North",
         "RE/MAX Border is proud to present this 3-bedroom house, located in Tyutyu North, Bisho.The home boasts a bright and airy living area which seamlessly connects to the kitchen. The property has 3 bedrooms and 1 bathroom, a yard, perfect for outdoor activities or relaxation.Admin fees do apply.Viewings arranged by appointment.Rent: R7 000Deposit: R10 500Electricity and water are excluded.",
         "Property OverviewListing Number115295115Type of PropertyHouseDescriptionFreestandingLifestyleSuburbanOccupation Date02 December 2024Deposit RequirementsDeposit Amount: R 10500Pets AllowedNoFurnishedNoRoomsBedroom3Bathroom1Kitchen1Lounge1Dining Room1External FeaturesParking1Other FeaturesSpecial Features1Backup WaterNoPoints of InterestEducationSinako Primary School0.51kmZameka Junior Secondary School0.55kmBisho Primary School1.15kmTyutyu Primary School1.18kmBisho H School1.31kmBalasi Primary School1.66kmSkobeni Primary School1.95kmZ K Matthews Senior Secondary School2.88kmBulelani Primary School3.91kmBreidbach Primary School4.88kmThembalethu Primary School4.88kmBreidbach Secondary School5.21kmDale College5.56kmB Kat Senior Secondary School5.63kmJityaza Combined Primary School6.28kmSt Christophers Private School6.32kmHoërskool De Vos Malan6.54kmKingsridge High School For Girls6.68kmLuzuko Junior Primary School6.89kmCentral Primary School6.92kmKing Wm'S Town Primary School6.98kmMzontsundu Senior Secondary School7.08kmPhillip Mtywaku Senior Secondary School7.43kmIqonce Junior Secondary School7.54kmView moreTransport and Public ServicesYellowwoods2.40kmPlumbago3.47kmBelstone5.39kmKing's Cross5.47kmMerino Vale5.94kmBlaney7.08kmView more",
         "3-bedroom-house-to-rent-in-tyu-tyu-north-115295115"
        ],
        [
         "1",
         "R 7 000Per Month",
         "Bhisho, Bhisho Central",
         "3 Bedroom House to Rent in Bhisho Central",
         "How CONVENIENT is this flat directly opposite OFFICE BLOCK in Bhisho Central?SAVE ON PETROL COSTS getting to and from work.Three bedrooms with built in cupboards, bathroom, spacious open plan kitchen and lounge, beautifully tiled.Parking behind a gate.Applicants will be screened and  interviewed.A deposit of R8 500 is required.The Tenant will also pay the water and sewerage.Pre-paid electricity.",
         "Property OverviewListing Number115332086Type of PropertyHousePets AllowedNoFurnishedNoRoomsBedroom3Bathroom1Kitchen1Lounge1External FeaturesParking1Garden1Other FeaturesSecurity1Points of InterestEducationBisho Primary School0.32kmBisho H School0.37kmTyutyu Primary School1.04kmZameka Junior Secondary School1.37kmSinako Primary School1.42kmBalasi Primary School2.26kmZ K Matthews Senior Secondary School2.52kmSkobeni Primary School3.41kmBreidbach Primary School4.00kmDale College4.10kmBreidbach Secondary School4.34kmThembalethu Primary School4.85kmSt Christophers Private School5.08kmHoërskool De Vos Malan5.08kmKingsridge High School For Girls5.21kmJityaza Combined Primary School5.27kmBulelani Primary School5.37kmCentral Primary School5.49kmKing Wm'S Town Primary School5.53kmLuzuko Junior Primary School5.76kmB Kat Senior Secondary School5.82kmIqonce Junior Secondary School6.09kmMzontsundu Senior Secondary School6.24kmWestbank Primary School6.38kmSchornville Primary School6.45kmAbundant Life Christian School6.45kmView moreTransport and Public ServicesYellowwoods2.24kmPlumbago2.35kmBelstone4.23kmKing William's Town6.18kmView more",
         "3-bedroom-house-to-rent-in-bhisho-central-115332086"
        ],
        [
         "2",
         "R 5 300Per Month",
         "Bhisho, Tyu Tyu North",
         "2 Bedroom House to Rent in Tyu Tyu North",
         "Comfortable Home for a family which is available FOR RENTAL as from the 1st December 2024.There is pre paid electricity.The Tenant also pays for the Water, as per usage, refuse and sewerage.A DEPOSIT of R5 300 is required,  a rental application and a credit check apply to secure a suitable Tenant.",
         "Property OverviewListing Number115210602Type of PropertyHouseOccupation Date01 December 2024Deposit RequirementsEqual to one month rent plus additional to cover the municipal serv...Pets AllowedYesFurnishedNoRoomsBedroom2Bathroom1Kitchen1Lounge1External FeaturesParking1Garden1Other FeaturesNearby Public TransportMinibus TaxiPoints of InterestEducationSinako Primary School0.51kmZameka Junior Secondary School0.55kmBisho Primary School1.15kmTyutyu Primary School1.18kmBisho H School1.31kmBalasi Primary School1.66kmSkobeni Primary School1.95kmZ K Matthews Senior Secondary School2.88kmBulelani Primary School3.91kmBreidbach Primary School4.88kmThembalethu Primary School4.88kmBreidbach Secondary School5.21kmDale College5.56kmB Kat Senior Secondary School5.63kmJityaza Combined Primary School6.28kmSt Christophers Private School6.32kmHoërskool De Vos Malan6.54kmKingsridge High School For Girls6.68kmLuzuko Junior Primary School6.89kmCentral Primary School6.92kmKing Wm'S Town Primary School6.98kmMzontsundu Senior Secondary School7.08kmPhillip Mtywaku Senior Secondary School7.43kmIqonce Junior Secondary School7.54kmView moreTransport and Public ServicesYellowwoods2.40kmPlumbago3.47kmBelstone5.39kmKing's Cross5.47kmMerino Vale5.94kmBlaney7.08kmView more",
         "2-bedroom-house-to-rent-in-tyu-tyu-north-115210602"
        ],
        [
         "3",
         null,
         null,
         null,
         null,
         null,
         "house-to-rent-in-bisho-park-101731048"
        ],
        [
         "4",
         "R 7 500Per Month",
         "Bhisho, Bisho Park",
         "3 Bedroom House to Rent in Bisho Park",
         "BetterProp is thrilled to present this well-maintained 3-bedroom, 1-bathroom home is designed with both comfort and functionality in mind, making it perfect for families or individuals seeking a cozy, yet spacious living environment. Upon entering, you'll be greeted by a warm and inviting lounge area, ideal for relaxing with loved ones or entertaining guests. The large windows allow natural light to flood the room, creating a bright and airy atmosphere.Adjacent to the lounge, the formal dining area is spacious enough to accommodate family dinners or gatherings, providing a wonderful space to create lasting memories. The kitchen is thoughtfully designed, featuring ample countertop space, cabinetry, and modern appliances, perfect for preparing meals or enjoying casual meals at thebreakfast nook.The home boasts three well-sized bedrooms, each with plenty of closet space and large windows that let in plenty of light, creating a peaceful retreat for rest and relaxation. The bathroom, conveniently located near the bedrooms, is designed with contemporary finishes and features a bathtub and shower combination.For added convenience, the property includes a large two-car garage, offering secure parking and additional storage options. The garage can also be used for projects or as an extra space for your needs.With ample parking space for guests, a practical layout, and easy access to local amenities, this home provides everything you need for a comfortable and convenient lifestyle.Read more...",
         "Property OverviewListing Number115555490Type of PropertyHouseOccupation Date10 February 2025Pets AllowedYesFurnishedNoRoomsBedroomBathrooms1.5Kitchens1Reception Rooms2External FeaturesGarageParking3Points of InterestEducationSinako Primary School0.35kmBalasi Primary School0.85kmZameka Junior Secondary School1.34kmBisho Primary School1.38kmBisho H School1.68kmTyutyu Primary School1.84kmZ K Matthews Senior Secondary School2.18kmSkobeni Primary School2.25kmBulelani Primary School3.90kmThembalethu Primary School4.07kmB Kat Senior Secondary School4.82kmBreidbach Primary School5.48kmDale College5.67kmJityaza Combined Primary School5.75kmBreidbach Secondary School5.82kmMzontsundu Senior Secondary School6.46kmHoërskool De Vos Malan6.63kmSt Christophers Private School6.73kmKingsridge High School For Girls6.73kmKing Wm'S Town Primary School7.09kmCentral Primary School7.10kmPhillip Mtywaku Senior Secondary School7.19kmNdukumbana Junior Primary School7.21kmBumbanani Primary School7.22kmHarperton Primary School7.36kmView moreTransport and Public ServicesYellowwoods3.15kmPlumbago3.94kmBelstone5.85kmKing's Cross6.06kmMerino Vale6.22kmView more",
         "3-bedroom-house-to-rent-in-bisho-park-115555490"
        ]
       ],
       "shape": {
        "columns": 6,
        "rows": 5
       }
      },
      "text/html": [
       "<div>\n",
       "<style scoped>\n",
       "    .dataframe tbody tr th:only-of-type {\n",
       "        vertical-align: middle;\n",
       "    }\n",
       "\n",
       "    .dataframe tbody tr th {\n",
       "        vertical-align: top;\n",
       "    }\n",
       "\n",
       "    .dataframe thead th {\n",
       "        text-align: right;\n",
       "    }\n",
       "</style>\n",
       "<table border=\"1\" class=\"dataframe\">\n",
       "  <thead>\n",
       "    <tr style=\"text-align: right;\">\n",
       "      <th></th>\n",
       "      <th>price</th>\n",
       "      <th>location</th>\n",
       "      <th>property_title</th>\n",
       "      <th>property_description</th>\n",
       "      <th>property_features</th>\n",
       "      <th>listing_slug</th>\n",
       "    </tr>\n",
       "  </thead>\n",
       "  <tbody>\n",
       "    <tr>\n",
       "      <th>0</th>\n",
       "      <td>R 7 000Per Month</td>\n",
       "      <td>Bhisho, Tyu Tyu North</td>\n",
       "      <td>3 Bedroom House to Rent in Tyu Tyu North</td>\n",
       "      <td>RE/MAX Border is proud to present this 3-bedro...</td>\n",
       "      <td>Property OverviewListing Number115295115Type o...</td>\n",
       "      <td>3-bedroom-house-to-rent-in-tyu-tyu-north-11529...</td>\n",
       "    </tr>\n",
       "    <tr>\n",
       "      <th>1</th>\n",
       "      <td>R 7 000Per Month</td>\n",
       "      <td>Bhisho, Bhisho Central</td>\n",
       "      <td>3 Bedroom House to Rent in Bhisho Central</td>\n",
       "      <td>How CONVENIENT is this flat directly opposite ...</td>\n",
       "      <td>Property OverviewListing Number115332086Type o...</td>\n",
       "      <td>3-bedroom-house-to-rent-in-bhisho-central-1153...</td>\n",
       "    </tr>\n",
       "    <tr>\n",
       "      <th>2</th>\n",
       "      <td>R 5 300Per Month</td>\n",
       "      <td>Bhisho, Tyu Tyu North</td>\n",
       "      <td>2 Bedroom House to Rent in Tyu Tyu North</td>\n",
       "      <td>Comfortable Home for a family which is availab...</td>\n",
       "      <td>Property OverviewListing Number115210602Type o...</td>\n",
       "      <td>2-bedroom-house-to-rent-in-tyu-tyu-north-11521...</td>\n",
       "    </tr>\n",
       "    <tr>\n",
       "      <th>3</th>\n",
       "      <td>NaN</td>\n",
       "      <td>NaN</td>\n",
       "      <td>NaN</td>\n",
       "      <td>NaN</td>\n",
       "      <td>NaN</td>\n",
       "      <td>house-to-rent-in-bisho-park-101731048</td>\n",
       "    </tr>\n",
       "    <tr>\n",
       "      <th>4</th>\n",
       "      <td>R 7 500Per Month</td>\n",
       "      <td>Bhisho, Bisho Park</td>\n",
       "      <td>3 Bedroom House to Rent in Bisho Park</td>\n",
       "      <td>BetterProp is thrilled to present this well-ma...</td>\n",
       "      <td>Property OverviewListing Number115555490Type o...</td>\n",
       "      <td>3-bedroom-house-to-rent-in-bisho-park-115555490</td>\n",
       "    </tr>\n",
       "  </tbody>\n",
       "</table>\n",
       "</div>"
      ],
      "text/plain": [
       "              price                location  \\\n",
       "0  R 7 000Per Month   Bhisho, Tyu Tyu North   \n",
       "1  R 7 000Per Month  Bhisho, Bhisho Central   \n",
       "2  R 5 300Per Month   Bhisho, Tyu Tyu North   \n",
       "3               NaN                     NaN   \n",
       "4  R 7 500Per Month      Bhisho, Bisho Park   \n",
       "\n",
       "                              property_title  \\\n",
       "0   3 Bedroom House to Rent in Tyu Tyu North   \n",
       "1  3 Bedroom House to Rent in Bhisho Central   \n",
       "2   2 Bedroom House to Rent in Tyu Tyu North   \n",
       "3                                        NaN   \n",
       "4      3 Bedroom House to Rent in Bisho Park   \n",
       "\n",
       "                                property_description  \\\n",
       "0  RE/MAX Border is proud to present this 3-bedro...   \n",
       "1  How CONVENIENT is this flat directly opposite ...   \n",
       "2  Comfortable Home for a family which is availab...   \n",
       "3                                                NaN   \n",
       "4  BetterProp is thrilled to present this well-ma...   \n",
       "\n",
       "                                   property_features  \\\n",
       "0  Property OverviewListing Number115295115Type o...   \n",
       "1  Property OverviewListing Number115332086Type o...   \n",
       "2  Property OverviewListing Number115210602Type o...   \n",
       "3                                                NaN   \n",
       "4  Property OverviewListing Number115555490Type o...   \n",
       "\n",
       "                                        listing_slug  \n",
       "0  3-bedroom-house-to-rent-in-tyu-tyu-north-11529...  \n",
       "1  3-bedroom-house-to-rent-in-bhisho-central-1153...  \n",
       "2  2-bedroom-house-to-rent-in-tyu-tyu-north-11521...  \n",
       "3              house-to-rent-in-bisho-park-101731048  \n",
       "4    3-bedroom-house-to-rent-in-bisho-park-115555490  "
      ]
     },
     "metadata": {},
     "output_type": "display_data"
    },
    {
     "data": {
      "text/plain": [
       "(15324, 6)"
      ]
     },
     "metadata": {},
     "output_type": "display_data"
    }
   ],
   "source": [
    "# Load the rental listings dataset\n",
    "rental_listings = pd.read_csv(\"../data/raw/rental_listings_for_capital_cities.csv\")\n",
    "\n",
    "# Display the first few rows of the dataset and it's shape\n",
    "display(\"Rentals\", rental_listings.head(), rental_listings.shape)"
   ]
  },
  {
   "cell_type": "markdown",
   "id": "d5ade05f",
   "metadata": {},
   "source": [
    "## 3. Exploratory Data Analysis\n",
    "[Back to Table of Contents](#table-of-contents)\n",
    "\n",
    "---\n",
    "    \n",
    "| ⚡ Description: Exploring the data ⚡ |\n",
    "| :--------------------------- |\n",
    "\n",
    "---"
   ]
  },
  {
   "cell_type": "code",
   "execution_count": 3,
   "id": "01de9d3c",
   "metadata": {},
   "outputs": [
    {
     "name": "stdout",
     "output_type": "stream",
     "text": [
      "<class 'pandas.core.frame.DataFrame'>\n",
      "RangeIndex: 15324 entries, 0 to 15323\n",
      "Data columns (total 6 columns):\n",
      " #   Column                Non-Null Count  Dtype \n",
      "---  ------                --------------  ----- \n",
      " 0   price                 15323 non-null  object\n",
      " 1   location              8189 non-null   object\n",
      " 2   property_title        15323 non-null  object\n",
      " 3   property_description  15323 non-null  object\n",
      " 4   property_features     15323 non-null  object\n",
      " 5   listing_slug          15324 non-null  object\n",
      "dtypes: object(6)\n",
      "memory usage: 718.4+ KB\n"
     ]
    }
   ],
   "source": [
    "# Print a summary of the dataset\n",
    "rental_listings.info()"
   ]
  },
  {
   "cell_type": "code",
   "execution_count": 4,
   "id": "564574cb",
   "metadata": {},
   "outputs": [
    {
     "name": "stdout",
     "output_type": "stream",
     "text": [
      "There are 7139 null values in the rental dataset\n"
     ]
    }
   ],
   "source": [
    "# Print the total number of null values in the dataset\n",
    "rental_null_values = rental_listings.isnull().sum().sum()\n",
    "print(f\"There are {rental_null_values} null values in the rental dataset\")"
   ]
  },
  {
   "cell_type": "code",
   "execution_count": 5,
   "id": "d037535a",
   "metadata": {},
   "outputs": [
    {
     "data": {
      "application/vnd.microsoft.datawrangler.viewer.v0+json": {
       "columns": [
        {
         "name": "index",
         "rawType": "object",
         "type": "string"
        },
        {
         "name": "0",
         "rawType": "int64",
         "type": "integer"
        }
       ],
       "ref": "f387a54c-c4cd-4390-958b-6c1372b68e59",
       "rows": [
        [
         "price",
         "1"
        ],
        [
         "location",
         "7135"
        ],
        [
         "property_title",
         "1"
        ],
        [
         "property_description",
         "1"
        ],
        [
         "property_features",
         "1"
        ],
        [
         "listing_slug",
         "0"
        ]
       ],
       "shape": {
        "columns": 1,
        "rows": 6
       }
      },
      "text/plain": [
       "price                      1\n",
       "location                7135\n",
       "property_title             1\n",
       "property_description       1\n",
       "property_features          1\n",
       "listing_slug               0\n",
       "dtype: int64"
      ]
     },
     "execution_count": 5,
     "metadata": {},
     "output_type": "execute_result"
    }
   ],
   "source": [
    "# Print the number of null values in each column\n",
    "rental_listings.isnull().sum()"
   ]
  },
  {
   "cell_type": "code",
   "execution_count": null,
   "id": "1fadd376",
   "metadata": {},
   "outputs": [
    {
     "data": {
      "application/vnd.microsoft.datawrangler.viewer.v0+json": {
       "columns": [
        {
         "name": "index",
         "rawType": "int64",
         "type": "integer"
        },
        {
         "name": "price",
         "rawType": "object",
         "type": "unknown"
        },
        {
         "name": "location",
         "rawType": "object",
         "type": "unknown"
        },
        {
         "name": "property_title",
         "rawType": "object",
         "type": "unknown"
        },
        {
         "name": "property_description",
         "rawType": "object",
         "type": "unknown"
        },
        {
         "name": "property_features",
         "rawType": "object",
         "type": "unknown"
        },
        {
         "name": "listing_slug",
         "rawType": "object",
         "type": "string"
        }
       ],
       "ref": "c6d40def-ffa4-4a8e-8902-0e344d628767",
       "rows": [
        [
         "3",
         null,
         null,
         null,
         null,
         null,
         "house-to-rent-in-bisho-park-101731048"
        ]
       ],
       "shape": {
        "columns": 6,
        "rows": 1
       }
      },
      "text/html": [
       "<div>\n",
       "<style scoped>\n",
       "    .dataframe tbody tr th:only-of-type {\n",
       "        vertical-align: middle;\n",
       "    }\n",
       "\n",
       "    .dataframe tbody tr th {\n",
       "        vertical-align: top;\n",
       "    }\n",
       "\n",
       "    .dataframe thead th {\n",
       "        text-align: right;\n",
       "    }\n",
       "</style>\n",
       "<table border=\"1\" class=\"dataframe\">\n",
       "  <thead>\n",
       "    <tr style=\"text-align: right;\">\n",
       "      <th></th>\n",
       "      <th>price</th>\n",
       "      <th>location</th>\n",
       "      <th>property_title</th>\n",
       "      <th>property_description</th>\n",
       "      <th>property_features</th>\n",
       "      <th>listing_slug</th>\n",
       "    </tr>\n",
       "  </thead>\n",
       "  <tbody>\n",
       "    <tr>\n",
       "      <th>3</th>\n",
       "      <td>NaN</td>\n",
       "      <td>NaN</td>\n",
       "      <td>NaN</td>\n",
       "      <td>NaN</td>\n",
       "      <td>NaN</td>\n",
       "      <td>house-to-rent-in-bisho-park-101731048</td>\n",
       "    </tr>\n",
       "  </tbody>\n",
       "</table>\n",
       "</div>"
      ],
      "text/plain": [
       "  price location property_title property_description property_features  \\\n",
       "3   NaN      NaN            NaN                  NaN               NaN   \n",
       "\n",
       "                            listing_slug  \n",
       "3  house-to-rent-in-bisho-park-101731048  "
      ]
     },
     "execution_count": 6,
     "metadata": {},
     "output_type": "execute_result"
    }
   ],
   "source": [
    "# Print the rows that have null values in four columns or more\n",
    "rental_listings[rental_listings.isnull().sum(axis=1) >= 4]"
   ]
  },
  {
   "cell_type": "code",
   "execution_count": null,
   "id": "f783b3a2",
   "metadata": {},
   "outputs": [],
   "source": [
    "# Drop the rows that have null values in four columns or more\n",
    "rental_listings.drop(\n",
    "    rental_listings[rental_listings.isnull().sum(axis=1) >= 2].index, inplace=True)"
   ]
  },
  {
   "cell_type": "code",
   "execution_count": 8,
   "id": "ea6279e5",
   "metadata": {},
   "outputs": [
    {
     "name": "stdout",
     "output_type": "stream",
     "text": [
      "There are 1303 duplicates in the rental dataset \n"
     ]
    }
   ],
   "source": [
    "# Get the total number of duplicate rows in the dataset\n",
    "rental_duplicates = rental_listings[rental_listings.duplicated()]\n",
    "num_rental_duplicates = len(rental_duplicates)\n",
    "print(f\"There are {num_rental_duplicates} duplicates in the rental dataset \")"
   ]
  },
  {
   "cell_type": "code",
   "execution_count": 9,
   "id": "e0c43e82",
   "metadata": {},
   "outputs": [],
   "source": [
    "# Drop duplicate rows and keep the first occurrence\n",
    "rental_listings = rental_listings.drop_duplicates().reset_index(drop=True)"
   ]
  },
  {
   "cell_type": "markdown",
   "id": "5b1b5345",
   "metadata": {},
   "source": [
    "#### Property features extraction"
   ]
  },
  {
   "cell_type": "markdown",
   "id": "d661c1f7",
   "metadata": {},
   "source": [
    "The `property_features` column has a section labelled *Points of Interest* which highlights nearby amenities and infrastructure such as schools, hospitals, shopping centers, public transport stops and recreational facilites. It provides a quick view of the property's surroundings and helps to assess its suitability for lifestyle preferences, daily commuting, and community accessbility. \n",
    "\n",
    "We remove this section to reduce noise and ensure consistency as it contains unstructured text and it may not be directly useful for aggregation without additional geospatial processing. "
   ]
  },
  {
   "cell_type": "code",
   "execution_count": null,
   "id": "51e3df5e",
   "metadata": {},
   "outputs": [],
   "source": [
    "# Remove any information following the text 'Points of Interest' in the 'property_features' column\n",
    "rental_listings[\"property_features\"] = rental_listings[\"property_features\"].str.replace(\n",
    "    r'Points of Interest.*', '', regex=True\n",
    ")\n",
    "\n",
    "# Remove any empty spaces for easier analysis\n",
    "rental_listings[\"property_features\"] = rental_listings[\"property_features\"].str.strip()"
   ]
  },
  {
   "cell_type": "markdown",
   "id": "c509cdce",
   "metadata": {},
   "source": [
    "The `property_features` column has a wealth of information about each listing ranging from the listing number, the type of property, room information, deposit information, occupation date etc. however for the purpose of this analysis, we will only extract a subset of relevant features that are most structured and analytically useful where we can reliably quanify and compare across properties. "
   ]
  },
  {
   "cell_type": "code",
   "execution_count": null,
   "id": "5d10715f",
   "metadata": {},
   "outputs": [
    {
     "data": {
      "application/vnd.microsoft.datawrangler.viewer.v0+json": {
       "columns": [
        {
         "name": "index",
         "rawType": "int64",
         "type": "integer"
        },
        {
         "name": "price",
         "rawType": "object",
         "type": "string"
        },
        {
         "name": "location",
         "rawType": "object",
         "type": "string"
        },
        {
         "name": "property_title",
         "rawType": "object",
         "type": "string"
        },
        {
         "name": "property_description",
         "rawType": "object",
         "type": "string"
        },
        {
         "name": "property_features",
         "rawType": "object",
         "type": "string"
        },
        {
         "name": "listing_slug",
         "rawType": "object",
         "type": "string"
        },
        {
         "name": "Listing Number",
         "rawType": "object",
         "type": "string"
        },
        {
         "name": "Type of Property",
         "rawType": "object",
         "type": "string"
        },
        {
         "name": "Pets Allowed",
         "rawType": "object",
         "type": "unknown"
        },
        {
         "name": "Furnished",
         "rawType": "object",
         "type": "unknown"
        },
        {
         "name": "Bedrooms",
         "rawType": "object",
         "type": "unknown"
        },
        {
         "name": "Bathrooms",
         "rawType": "object",
         "type": "unknown"
        },
        {
         "name": "Kitchen",
         "rawType": "object",
         "type": "unknown"
        },
        {
         "name": "Lounge",
         "rawType": "object",
         "type": "unknown"
        },
        {
         "name": "Dining Room",
         "rawType": "object",
         "type": "unknown"
        },
        {
         "name": "Parking",
         "rawType": "object",
         "type": "unknown"
        },
        {
         "name": "Backup Water",
         "rawType": "object",
         "type": "unknown"
        },
        {
         "name": "Erf Size (m²)",
         "rawType": "object",
         "type": "unknown"
        },
        {
         "name": "Floor Area (m²)",
         "rawType": "object",
         "type": "unknown"
        },
        {
         "name": "Garden",
         "rawType": "object",
         "type": "unknown"
        },
        {
         "name": "Pool",
         "rawType": "object",
         "type": "unknown"
        },
        {
         "name": "Garage",
         "rawType": "object",
         "type": "unknown"
        }
       ],
       "ref": "1e09e97b-4767-41d6-9806-3dc21717f501",
       "rows": [
        [
         "0",
         "R 7 000Per Month",
         "Bhisho, Tyu Tyu North",
         "3 Bedroom House to Rent in Tyu Tyu North",
         "RE/MAX Border is proud to present this 3-bedroom house, located in Tyutyu North, Bisho.The home boasts a bright and airy living area which seamlessly connects to the kitchen. The property has 3 bedrooms and 1 bathroom, a yard, perfect for outdoor activities or relaxation.Admin fees do apply.Viewings arranged by appointment.Rent: R7 000Deposit: R10 500Electricity and water are excluded.",
         "Property OverviewListing Number115295115Type of PropertyHouseDescriptionFreestandingLifestyleSuburbanOccupation Date02 December 2024Deposit RequirementsDeposit Amount: R 10500Pets AllowedNoFurnishedNoRoomsBedroom3Bathroom1Kitchen1Lounge1Dining Room1External FeaturesParking1Other FeaturesSpecial Features1Backup WaterNo",
         "3-bedroom-house-to-rent-in-tyu-tyu-north-115295115",
         "115295115",
         "House",
         "No",
         "No",
         "3",
         "1",
         "1",
         "1",
         "1",
         "1",
         "No",
         null,
         null,
         null,
         null,
         null
        ],
        [
         "1",
         "R 7 000Per Month",
         "Bhisho, Bhisho Central",
         "3 Bedroom House to Rent in Bhisho Central",
         "How CONVENIENT is this flat directly opposite OFFICE BLOCK in Bhisho Central?SAVE ON PETROL COSTS getting to and from work.Three bedrooms with built in cupboards, bathroom, spacious open plan kitchen and lounge, beautifully tiled.Parking behind a gate.Applicants will be screened and  interviewed.A deposit of R8 500 is required.The Tenant will also pay the water and sewerage.Pre-paid electricity.",
         "Property OverviewListing Number115332086Type of PropertyHousePets AllowedNoFurnishedNoRoomsBedroom3Bathroom1Kitchen1Lounge1External FeaturesParking1Garden1Other FeaturesSecurity1",
         "3-bedroom-house-to-rent-in-bhisho-central-115332086",
         "115332086",
         "House",
         "No",
         "No",
         "3",
         "1",
         "1",
         "1",
         null,
         "1",
         null,
         null,
         null,
         "1",
         null,
         null
        ],
        [
         "2",
         "R 5 300Per Month",
         "Bhisho, Tyu Tyu North",
         "2 Bedroom House to Rent in Tyu Tyu North",
         "Comfortable Home for a family which is available FOR RENTAL as from the 1st December 2024.There is pre paid electricity.The Tenant also pays for the Water, as per usage, refuse and sewerage.A DEPOSIT of R5 300 is required,  a rental application and a credit check apply to secure a suitable Tenant.",
         "Property OverviewListing Number115210602Type of PropertyHouseOccupation Date01 December 2024Deposit RequirementsEqual to one month rent plus additional to cover the municipal serv...Pets AllowedYesFurnishedNoRoomsBedroom2Bathroom1Kitchen1Lounge1External FeaturesParking1Garden1Other FeaturesNearby Public TransportMinibus Taxi",
         "2-bedroom-house-to-rent-in-tyu-tyu-north-115210602",
         "115210602",
         "House",
         "Yes",
         "No",
         "2",
         "1",
         "1",
         "1",
         null,
         "1",
         null,
         null,
         null,
         "1",
         null,
         null
        ],
        [
         "3",
         "R 7 500Per Month",
         "Bhisho, Bisho Park",
         "3 Bedroom House to Rent in Bisho Park",
         "BetterProp is thrilled to present this well-maintained 3-bedroom, 1-bathroom home is designed with both comfort and functionality in mind, making it perfect for families or individuals seeking a cozy, yet spacious living environment. Upon entering, you'll be greeted by a warm and inviting lounge area, ideal for relaxing with loved ones or entertaining guests. The large windows allow natural light to flood the room, creating a bright and airy atmosphere.Adjacent to the lounge, the formal dining area is spacious enough to accommodate family dinners or gatherings, providing a wonderful space to create lasting memories. The kitchen is thoughtfully designed, featuring ample countertop space, cabinetry, and modern appliances, perfect for preparing meals or enjoying casual meals at thebreakfast nook.The home boasts three well-sized bedrooms, each with plenty of closet space and large windows that let in plenty of light, creating a peaceful retreat for rest and relaxation. The bathroom, conveniently located near the bedrooms, is designed with contemporary finishes and features a bathtub and shower combination.For added convenience, the property includes a large two-car garage, offering secure parking and additional storage options. The garage can also be used for projects or as an extra space for your needs.With ample parking space for guests, a practical layout, and easy access to local amenities, this home provides everything you need for a comfortable and convenient lifestyle.Read more...",
         "Property OverviewListing Number115555490Type of PropertyHouseOccupation Date10 February 2025Pets AllowedYesFurnishedNoRoomsBedroomBathrooms1.5Kitchens1Reception Rooms2External FeaturesGarageParking3",
         "3-bedroom-house-to-rent-in-bisho-park-115555490",
         "115555490",
         "House",
         "Yes",
         "No",
         null,
         "1",
         "1",
         null,
         null,
         "3",
         null,
         null,
         null,
         null,
         null,
         null
        ],
        [
         "4",
         "R 5 500Per Month",
         "Bhisho, Bisho Park",
         "House to Rent in Bisho Park",
         "This neat family home boasts:3 bedroomsOpen plan dining and loungeFitted kitchenEn-suit bathroomFamily bathroomall rooms have fitted BICDouble garageThe rental excludes water, lights, sewage and refuse.This home is in a fully walled yard.To view this property contact me now.",
         "Property OverviewListing Number115525482Type of PropertyHouse",
         "house-to-rent-in-bisho-park-115525482",
         "115525482",
         "House",
         null,
         null,
         null,
         null,
         null,
         null,
         null,
         null,
         null,
         null,
         null,
         null,
         null,
         null
        ]
       ],
       "shape": {
        "columns": 22,
        "rows": 5
       }
      },
      "text/html": [
       "<div>\n",
       "<style scoped>\n",
       "    .dataframe tbody tr th:only-of-type {\n",
       "        vertical-align: middle;\n",
       "    }\n",
       "\n",
       "    .dataframe tbody tr th {\n",
       "        vertical-align: top;\n",
       "    }\n",
       "\n",
       "    .dataframe thead th {\n",
       "        text-align: right;\n",
       "    }\n",
       "</style>\n",
       "<table border=\"1\" class=\"dataframe\">\n",
       "  <thead>\n",
       "    <tr style=\"text-align: right;\">\n",
       "      <th></th>\n",
       "      <th>price</th>\n",
       "      <th>location</th>\n",
       "      <th>property_title</th>\n",
       "      <th>property_description</th>\n",
       "      <th>property_features</th>\n",
       "      <th>listing_slug</th>\n",
       "      <th>Listing Number</th>\n",
       "      <th>Type of Property</th>\n",
       "      <th>Pets Allowed</th>\n",
       "      <th>Furnished</th>\n",
       "      <th>...</th>\n",
       "      <th>Kitchen</th>\n",
       "      <th>Lounge</th>\n",
       "      <th>Dining Room</th>\n",
       "      <th>Parking</th>\n",
       "      <th>Backup Water</th>\n",
       "      <th>Erf Size (m²)</th>\n",
       "      <th>Floor Area (m²)</th>\n",
       "      <th>Garden</th>\n",
       "      <th>Pool</th>\n",
       "      <th>Garage</th>\n",
       "    </tr>\n",
       "  </thead>\n",
       "  <tbody>\n",
       "    <tr>\n",
       "      <th>0</th>\n",
       "      <td>R 7 000Per Month</td>\n",
       "      <td>Bhisho, Tyu Tyu North</td>\n",
       "      <td>3 Bedroom House to Rent in Tyu Tyu North</td>\n",
       "      <td>RE/MAX Border is proud to present this 3-bedro...</td>\n",
       "      <td>Property OverviewListing Number115295115Type o...</td>\n",
       "      <td>3-bedroom-house-to-rent-in-tyu-tyu-north-11529...</td>\n",
       "      <td>115295115</td>\n",
       "      <td>House</td>\n",
       "      <td>No</td>\n",
       "      <td>No</td>\n",
       "      <td>...</td>\n",
       "      <td>1</td>\n",
       "      <td>1</td>\n",
       "      <td>1</td>\n",
       "      <td>1</td>\n",
       "      <td>No</td>\n",
       "      <td>None</td>\n",
       "      <td>None</td>\n",
       "      <td>None</td>\n",
       "      <td>None</td>\n",
       "      <td>None</td>\n",
       "    </tr>\n",
       "    <tr>\n",
       "      <th>1</th>\n",
       "      <td>R 7 000Per Month</td>\n",
       "      <td>Bhisho, Bhisho Central</td>\n",
       "      <td>3 Bedroom House to Rent in Bhisho Central</td>\n",
       "      <td>How CONVENIENT is this flat directly opposite ...</td>\n",
       "      <td>Property OverviewListing Number115332086Type o...</td>\n",
       "      <td>3-bedroom-house-to-rent-in-bhisho-central-1153...</td>\n",
       "      <td>115332086</td>\n",
       "      <td>House</td>\n",
       "      <td>No</td>\n",
       "      <td>No</td>\n",
       "      <td>...</td>\n",
       "      <td>1</td>\n",
       "      <td>1</td>\n",
       "      <td>None</td>\n",
       "      <td>1</td>\n",
       "      <td>None</td>\n",
       "      <td>None</td>\n",
       "      <td>None</td>\n",
       "      <td>1</td>\n",
       "      <td>None</td>\n",
       "      <td>None</td>\n",
       "    </tr>\n",
       "    <tr>\n",
       "      <th>2</th>\n",
       "      <td>R 5 300Per Month</td>\n",
       "      <td>Bhisho, Tyu Tyu North</td>\n",
       "      <td>2 Bedroom House to Rent in Tyu Tyu North</td>\n",
       "      <td>Comfortable Home for a family which is availab...</td>\n",
       "      <td>Property OverviewListing Number115210602Type o...</td>\n",
       "      <td>2-bedroom-house-to-rent-in-tyu-tyu-north-11521...</td>\n",
       "      <td>115210602</td>\n",
       "      <td>House</td>\n",
       "      <td>Yes</td>\n",
       "      <td>No</td>\n",
       "      <td>...</td>\n",
       "      <td>1</td>\n",
       "      <td>1</td>\n",
       "      <td>None</td>\n",
       "      <td>1</td>\n",
       "      <td>None</td>\n",
       "      <td>None</td>\n",
       "      <td>None</td>\n",
       "      <td>1</td>\n",
       "      <td>None</td>\n",
       "      <td>None</td>\n",
       "    </tr>\n",
       "    <tr>\n",
       "      <th>3</th>\n",
       "      <td>R 7 500Per Month</td>\n",
       "      <td>Bhisho, Bisho Park</td>\n",
       "      <td>3 Bedroom House to Rent in Bisho Park</td>\n",
       "      <td>BetterProp is thrilled to present this well-ma...</td>\n",
       "      <td>Property OverviewListing Number115555490Type o...</td>\n",
       "      <td>3-bedroom-house-to-rent-in-bisho-park-115555490</td>\n",
       "      <td>115555490</td>\n",
       "      <td>House</td>\n",
       "      <td>Yes</td>\n",
       "      <td>No</td>\n",
       "      <td>...</td>\n",
       "      <td>1</td>\n",
       "      <td>None</td>\n",
       "      <td>None</td>\n",
       "      <td>3</td>\n",
       "      <td>None</td>\n",
       "      <td>None</td>\n",
       "      <td>None</td>\n",
       "      <td>None</td>\n",
       "      <td>None</td>\n",
       "      <td>None</td>\n",
       "    </tr>\n",
       "    <tr>\n",
       "      <th>4</th>\n",
       "      <td>R 5 500Per Month</td>\n",
       "      <td>Bhisho, Bisho Park</td>\n",
       "      <td>House to Rent in Bisho Park</td>\n",
       "      <td>This neat family home boasts:3 bedroomsOpen pl...</td>\n",
       "      <td>Property OverviewListing Number115525482Type o...</td>\n",
       "      <td>house-to-rent-in-bisho-park-115525482</td>\n",
       "      <td>115525482</td>\n",
       "      <td>House</td>\n",
       "      <td>None</td>\n",
       "      <td>None</td>\n",
       "      <td>...</td>\n",
       "      <td>None</td>\n",
       "      <td>None</td>\n",
       "      <td>None</td>\n",
       "      <td>None</td>\n",
       "      <td>None</td>\n",
       "      <td>None</td>\n",
       "      <td>None</td>\n",
       "      <td>None</td>\n",
       "      <td>None</td>\n",
       "      <td>None</td>\n",
       "    </tr>\n",
       "  </tbody>\n",
       "</table>\n",
       "<p>5 rows × 22 columns</p>\n",
       "</div>"
      ],
      "text/plain": [
       "              price                location  \\\n",
       "0  R 7 000Per Month   Bhisho, Tyu Tyu North   \n",
       "1  R 7 000Per Month  Bhisho, Bhisho Central   \n",
       "2  R 5 300Per Month   Bhisho, Tyu Tyu North   \n",
       "3  R 7 500Per Month      Bhisho, Bisho Park   \n",
       "4  R 5 500Per Month      Bhisho, Bisho Park   \n",
       "\n",
       "                              property_title  \\\n",
       "0   3 Bedroom House to Rent in Tyu Tyu North   \n",
       "1  3 Bedroom House to Rent in Bhisho Central   \n",
       "2   2 Bedroom House to Rent in Tyu Tyu North   \n",
       "3      3 Bedroom House to Rent in Bisho Park   \n",
       "4                House to Rent in Bisho Park   \n",
       "\n",
       "                                property_description  \\\n",
       "0  RE/MAX Border is proud to present this 3-bedro...   \n",
       "1  How CONVENIENT is this flat directly opposite ...   \n",
       "2  Comfortable Home for a family which is availab...   \n",
       "3  BetterProp is thrilled to present this well-ma...   \n",
       "4  This neat family home boasts:3 bedroomsOpen pl...   \n",
       "\n",
       "                                   property_features  \\\n",
       "0  Property OverviewListing Number115295115Type o...   \n",
       "1  Property OverviewListing Number115332086Type o...   \n",
       "2  Property OverviewListing Number115210602Type o...   \n",
       "3  Property OverviewListing Number115555490Type o...   \n",
       "4  Property OverviewListing Number115525482Type o...   \n",
       "\n",
       "                                        listing_slug Listing Number  \\\n",
       "0  3-bedroom-house-to-rent-in-tyu-tyu-north-11529...      115295115   \n",
       "1  3-bedroom-house-to-rent-in-bhisho-central-1153...      115332086   \n",
       "2  2-bedroom-house-to-rent-in-tyu-tyu-north-11521...      115210602   \n",
       "3    3-bedroom-house-to-rent-in-bisho-park-115555490      115555490   \n",
       "4              house-to-rent-in-bisho-park-115525482      115525482   \n",
       "\n",
       "  Type of Property Pets Allowed Furnished  ... Kitchen Lounge Dining Room  \\\n",
       "0            House           No        No  ...       1      1           1   \n",
       "1            House           No        No  ...       1      1        None   \n",
       "2            House          Yes        No  ...       1      1        None   \n",
       "3            House          Yes        No  ...       1   None        None   \n",
       "4            House         None      None  ...    None   None        None   \n",
       "\n",
       "  Parking Backup Water Erf Size (m²) Floor Area (m²) Garden  Pool Garage  \n",
       "0       1           No          None            None   None  None   None  \n",
       "1       1         None          None            None      1  None   None  \n",
       "2       1         None          None            None      1  None   None  \n",
       "3       3         None          None            None   None  None   None  \n",
       "4    None         None          None            None   None  None   None  \n",
       "\n",
       "[5 rows x 22 columns]"
      ]
     },
     "execution_count": 11,
     "metadata": {},
     "output_type": "execute_result"
    }
   ],
   "source": [
    "# We define the patterns of the features we want to extract\n",
    "patterns = {\n",
    "    'Listing Number': r'Listing Number(\\d+)',\n",
    "    'Type of Property': r'Type of Property\\s*(House|Apartment / Flat|Townhouse|Commercial|Industrial|Vacant Land|Farm)',\n",
    "    'Pets Allowed': r'Pets Allowed(Yes|No)',\n",
    "    'Furnished': r'Furnished(Yes|No)',\n",
    "    'Bedrooms': r'Bedrooms?\\s*(\\d+)',\n",
    "    'Bathrooms': r'Bathrooms?\\s*(\\d+)',\n",
    "    'Kitchen': r'Kitchens?\\s*(\\d+)',\n",
    "    'Lounge': r'Lounges?\\s*(\\d+)',\n",
    "    'Dining Room': r'Dining Room(\\d+)',\n",
    "    'Parking': r'Parking(\\d+)',\n",
    "    'Backup Water': r'Backup Water(Yes|No)',\n",
    "    'Erf Size (m²)': r'Erf Size\\s*(\\d+)\\s*m²',\n",
    "    'Floor Area (m²)': r'Floor Area\\s*(\\d+)\\s*m²',\n",
    "    'Garden': r'Gardens?\\s*(\\d+)',\n",
    "    'Pool': r'Pools?\\s*(\\d+)',\n",
    "    'Garage': r'Garages?\\s*(\\d+)'\n",
    "}\n",
    "\n",
    "\n",
    "\n",
    "# Function to extract features from text\n",
    "def extract_features(text):\n",
    "    return {\n",
    "        field: (match := re.search(pattern, text)\n",
    "                ) and match.group(1).strip() or None for field, pattern in patterns.items()\n",
    "    }\n",
    "    \n",
    "# Apply extraction row-wise\n",
    "extracted_df = rental_listings['property_features'].apply(extract_features).apply(pd.Series)\n",
    "\n",
    "# Combine original df with the extracted columns\n",
    "results_df = pd.concat([rental_listings, extracted_df], axis=1)\n",
    "\n",
    "# View result\n",
    "results_df.head()"
   ]
  },
  {
   "cell_type": "code",
   "execution_count": null,
   "id": "0903730d",
   "metadata": {},
   "outputs": [
    {
     "data": {
      "text/plain": [
       "np.int64(11068)"
      ]
     },
     "execution_count": 12,
     "metadata": {},
     "output_type": "execute_result"
    }
   ],
   "source": [
    "# Print the number of null values in the `Bedrooms` column\n",
    "results_df[\"Bedrooms\"].isnull().sum()"
   ]
  },
  {
   "cell_type": "markdown",
   "id": "f72b2998",
   "metadata": {},
   "source": [
    "The `property_title` column often contains structured phrases that include the number of bedrooms, for residental properties such as apartments, houses and townhouses. This consistency allows for the extraction of bedroom information directly from the title using regular expressions, which can help fill in missing values in the `Bedrooms` columns. "
   ]
  },
  {
   "cell_type": "code",
   "execution_count": 13,
   "id": "6c804854",
   "metadata": {},
   "outputs": [],
   "source": [
    "def extract_bedrooms_from_property_title(title):\n",
    "    if pd.isna(title):\n",
    "        return None\n",
    "    match = re.search(r'(\\d+)[-\\s]?bedroom', title.lower())\n",
    "    return int(match.group(1)) if match else None\n",
    "\n",
    "results_df['Bedrooms'] = results_df['Bedrooms'].fillna(\n",
    "    results_df.apply(lambda row: extract_bedrooms_from_property_title(row['property_title']) if pd.isna(row['Bedrooms']) else row['Bedrooms'], axis=1))\n",
    "\n",
    "# Optional: convert to integer if needed\n",
    "results_df['Bedrooms'] = pd.to_numeric(results_df['Bedrooms'], errors='coerce').astype('Int64')"
   ]
  },
  {
   "cell_type": "code",
   "execution_count": null,
   "id": "855df346",
   "metadata": {},
   "outputs": [
    {
     "data": {
      "text/plain": [
       "np.int64(8521)"
      ]
     },
     "execution_count": 14,
     "metadata": {},
     "output_type": "execute_result"
    }
   ],
   "source": [
    "# Print the number of null values in the `Bedrooms` column after the function has been applied\n",
    "results_df[\"Bedrooms\"].isnull().sum()"
   ]
  },
  {
   "cell_type": "markdown",
   "id": "492e5bab",
   "metadata": {},
   "source": [
    "####  Suburb, city and province extraction"
   ]
  },
  {
   "cell_type": "markdown",
   "id": "4f271be5",
   "metadata": {},
   "source": [
    "The `property_title` column follows a structure that includes the suburb where the property is located. We can use this to extract the suburb for each listing. "
   ]
  },
  {
   "cell_type": "code",
   "execution_count": 15,
   "id": "4057939d",
   "metadata": {},
   "outputs": [
    {
     "data": {
      "application/vnd.microsoft.datawrangler.viewer.v0+json": {
       "columns": [
        {
         "name": "index",
         "rawType": "int64",
         "type": "integer"
        },
        {
         "name": "price",
         "rawType": "object",
         "type": "string"
        },
        {
         "name": "location",
         "rawType": "object",
         "type": "string"
        },
        {
         "name": "property_description",
         "rawType": "object",
         "type": "string"
        },
        {
         "name": "property_features",
         "rawType": "object",
         "type": "string"
        },
        {
         "name": "listing_slug",
         "rawType": "object",
         "type": "string"
        },
        {
         "name": "Listing Number",
         "rawType": "object",
         "type": "string"
        },
        {
         "name": "Type of Property",
         "rawType": "object",
         "type": "string"
        },
        {
         "name": "Pets Allowed",
         "rawType": "object",
         "type": "unknown"
        },
        {
         "name": "Furnished",
         "rawType": "object",
         "type": "unknown"
        },
        {
         "name": "Bedrooms",
         "rawType": "Int64",
         "type": "integer"
        },
        {
         "name": "Bathrooms",
         "rawType": "object",
         "type": "unknown"
        },
        {
         "name": "Kitchen",
         "rawType": "object",
         "type": "unknown"
        },
        {
         "name": "Lounge",
         "rawType": "object",
         "type": "unknown"
        },
        {
         "name": "Dining Room",
         "rawType": "object",
         "type": "unknown"
        },
        {
         "name": "Parking",
         "rawType": "object",
         "type": "unknown"
        },
        {
         "name": "Backup Water",
         "rawType": "object",
         "type": "unknown"
        },
        {
         "name": "Erf Size (m²)",
         "rawType": "object",
         "type": "unknown"
        },
        {
         "name": "Floor Area (m²)",
         "rawType": "object",
         "type": "unknown"
        },
        {
         "name": "Garden",
         "rawType": "object",
         "type": "unknown"
        },
        {
         "name": "Pool",
         "rawType": "object",
         "type": "unknown"
        },
        {
         "name": "Garage",
         "rawType": "object",
         "type": "unknown"
        },
        {
         "name": "suburb",
         "rawType": "object",
         "type": "string"
        }
       ],
       "ref": "b726189c-be06-426c-9d18-760accc91a85",
       "rows": [
        [
         "0",
         "R 7 000Per Month",
         "Bhisho, Tyu Tyu North",
         "RE/MAX Border is proud to present this 3-bedroom house, located in Tyutyu North, Bisho.The home boasts a bright and airy living area which seamlessly connects to the kitchen. The property has 3 bedrooms and 1 bathroom, a yard, perfect for outdoor activities or relaxation.Admin fees do apply.Viewings arranged by appointment.Rent: R7 000Deposit: R10 500Electricity and water are excluded.",
         "Property OverviewListing Number115295115Type of PropertyHouseDescriptionFreestandingLifestyleSuburbanOccupation Date02 December 2024Deposit RequirementsDeposit Amount: R 10500Pets AllowedNoFurnishedNoRoomsBedroom3Bathroom1Kitchen1Lounge1Dining Room1External FeaturesParking1Other FeaturesSpecial Features1Backup WaterNo",
         "3-bedroom-house-to-rent-in-tyu-tyu-north-115295115",
         "115295115",
         "House",
         "No",
         "No",
         "3",
         "1",
         "1",
         "1",
         "1",
         "1",
         "No",
         null,
         null,
         null,
         null,
         null,
         "Tyu Tyu North"
        ],
        [
         "1",
         "R 7 000Per Month",
         "Bhisho, Bhisho Central",
         "How CONVENIENT is this flat directly opposite OFFICE BLOCK in Bhisho Central?SAVE ON PETROL COSTS getting to and from work.Three bedrooms with built in cupboards, bathroom, spacious open plan kitchen and lounge, beautifully tiled.Parking behind a gate.Applicants will be screened and  interviewed.A deposit of R8 500 is required.The Tenant will also pay the water and sewerage.Pre-paid electricity.",
         "Property OverviewListing Number115332086Type of PropertyHousePets AllowedNoFurnishedNoRoomsBedroom3Bathroom1Kitchen1Lounge1External FeaturesParking1Garden1Other FeaturesSecurity1",
         "3-bedroom-house-to-rent-in-bhisho-central-115332086",
         "115332086",
         "House",
         "No",
         "No",
         "3",
         "1",
         "1",
         "1",
         null,
         "1",
         null,
         null,
         null,
         "1",
         null,
         null,
         "Bhisho Central"
        ],
        [
         "2",
         "R 5 300Per Month",
         "Bhisho, Tyu Tyu North",
         "Comfortable Home for a family which is available FOR RENTAL as from the 1st December 2024.There is pre paid electricity.The Tenant also pays for the Water, as per usage, refuse and sewerage.A DEPOSIT of R5 300 is required,  a rental application and a credit check apply to secure a suitable Tenant.",
         "Property OverviewListing Number115210602Type of PropertyHouseOccupation Date01 December 2024Deposit RequirementsEqual to one month rent plus additional to cover the municipal serv...Pets AllowedYesFurnishedNoRoomsBedroom2Bathroom1Kitchen1Lounge1External FeaturesParking1Garden1Other FeaturesNearby Public TransportMinibus Taxi",
         "2-bedroom-house-to-rent-in-tyu-tyu-north-115210602",
         "115210602",
         "House",
         "Yes",
         "No",
         "2",
         "1",
         "1",
         "1",
         null,
         "1",
         null,
         null,
         null,
         "1",
         null,
         null,
         "Tyu Tyu North"
        ],
        [
         "3",
         "R 7 500Per Month",
         "Bhisho, Bisho Park",
         "BetterProp is thrilled to present this well-maintained 3-bedroom, 1-bathroom home is designed with both comfort and functionality in mind, making it perfect for families or individuals seeking a cozy, yet spacious living environment. Upon entering, you'll be greeted by a warm and inviting lounge area, ideal for relaxing with loved ones or entertaining guests. The large windows allow natural light to flood the room, creating a bright and airy atmosphere.Adjacent to the lounge, the formal dining area is spacious enough to accommodate family dinners or gatherings, providing a wonderful space to create lasting memories. The kitchen is thoughtfully designed, featuring ample countertop space, cabinetry, and modern appliances, perfect for preparing meals or enjoying casual meals at thebreakfast nook.The home boasts three well-sized bedrooms, each with plenty of closet space and large windows that let in plenty of light, creating a peaceful retreat for rest and relaxation. The bathroom, conveniently located near the bedrooms, is designed with contemporary finishes and features a bathtub and shower combination.For added convenience, the property includes a large two-car garage, offering secure parking and additional storage options. The garage can also be used for projects or as an extra space for your needs.With ample parking space for guests, a practical layout, and easy access to local amenities, this home provides everything you need for a comfortable and convenient lifestyle.Read more...",
         "Property OverviewListing Number115555490Type of PropertyHouseOccupation Date10 February 2025Pets AllowedYesFurnishedNoRoomsBedroomBathrooms1.5Kitchens1Reception Rooms2External FeaturesGarageParking3",
         "3-bedroom-house-to-rent-in-bisho-park-115555490",
         "115555490",
         "House",
         "Yes",
         "No",
         "3",
         "1",
         "1",
         null,
         null,
         "3",
         null,
         null,
         null,
         null,
         null,
         null,
         "Bisho Park"
        ],
        [
         "4",
         "R 5 500Per Month",
         "Bhisho, Bisho Park",
         "This neat family home boasts:3 bedroomsOpen plan dining and loungeFitted kitchenEn-suit bathroomFamily bathroomall rooms have fitted BICDouble garageThe rental excludes water, lights, sewage and refuse.This home is in a fully walled yard.To view this property contact me now.",
         "Property OverviewListing Number115525482Type of PropertyHouse",
         "house-to-rent-in-bisho-park-115525482",
         "115525482",
         "House",
         null,
         null,
         null,
         null,
         null,
         null,
         null,
         null,
         null,
         null,
         null,
         null,
         null,
         null,
         "Bisho Park"
        ]
       ],
       "shape": {
        "columns": 22,
        "rows": 5
       }
      },
      "text/html": [
       "<div>\n",
       "<style scoped>\n",
       "    .dataframe tbody tr th:only-of-type {\n",
       "        vertical-align: middle;\n",
       "    }\n",
       "\n",
       "    .dataframe tbody tr th {\n",
       "        vertical-align: top;\n",
       "    }\n",
       "\n",
       "    .dataframe thead th {\n",
       "        text-align: right;\n",
       "    }\n",
       "</style>\n",
       "<table border=\"1\" class=\"dataframe\">\n",
       "  <thead>\n",
       "    <tr style=\"text-align: right;\">\n",
       "      <th></th>\n",
       "      <th>price</th>\n",
       "      <th>location</th>\n",
       "      <th>property_description</th>\n",
       "      <th>property_features</th>\n",
       "      <th>listing_slug</th>\n",
       "      <th>Listing Number</th>\n",
       "      <th>Type of Property</th>\n",
       "      <th>Pets Allowed</th>\n",
       "      <th>Furnished</th>\n",
       "      <th>Bedrooms</th>\n",
       "      <th>...</th>\n",
       "      <th>Lounge</th>\n",
       "      <th>Dining Room</th>\n",
       "      <th>Parking</th>\n",
       "      <th>Backup Water</th>\n",
       "      <th>Erf Size (m²)</th>\n",
       "      <th>Floor Area (m²)</th>\n",
       "      <th>Garden</th>\n",
       "      <th>Pool</th>\n",
       "      <th>Garage</th>\n",
       "      <th>suburb</th>\n",
       "    </tr>\n",
       "  </thead>\n",
       "  <tbody>\n",
       "    <tr>\n",
       "      <th>0</th>\n",
       "      <td>R 7 000Per Month</td>\n",
       "      <td>Bhisho, Tyu Tyu North</td>\n",
       "      <td>RE/MAX Border is proud to present this 3-bedro...</td>\n",
       "      <td>Property OverviewListing Number115295115Type o...</td>\n",
       "      <td>3-bedroom-house-to-rent-in-tyu-tyu-north-11529...</td>\n",
       "      <td>115295115</td>\n",
       "      <td>House</td>\n",
       "      <td>No</td>\n",
       "      <td>No</td>\n",
       "      <td>3</td>\n",
       "      <td>...</td>\n",
       "      <td>1</td>\n",
       "      <td>1</td>\n",
       "      <td>1</td>\n",
       "      <td>No</td>\n",
       "      <td>None</td>\n",
       "      <td>None</td>\n",
       "      <td>None</td>\n",
       "      <td>None</td>\n",
       "      <td>None</td>\n",
       "      <td>Tyu Tyu North</td>\n",
       "    </tr>\n",
       "    <tr>\n",
       "      <th>1</th>\n",
       "      <td>R 7 000Per Month</td>\n",
       "      <td>Bhisho, Bhisho Central</td>\n",
       "      <td>How CONVENIENT is this flat directly opposite ...</td>\n",
       "      <td>Property OverviewListing Number115332086Type o...</td>\n",
       "      <td>3-bedroom-house-to-rent-in-bhisho-central-1153...</td>\n",
       "      <td>115332086</td>\n",
       "      <td>House</td>\n",
       "      <td>No</td>\n",
       "      <td>No</td>\n",
       "      <td>3</td>\n",
       "      <td>...</td>\n",
       "      <td>1</td>\n",
       "      <td>None</td>\n",
       "      <td>1</td>\n",
       "      <td>None</td>\n",
       "      <td>None</td>\n",
       "      <td>None</td>\n",
       "      <td>1</td>\n",
       "      <td>None</td>\n",
       "      <td>None</td>\n",
       "      <td>Bhisho Central</td>\n",
       "    </tr>\n",
       "    <tr>\n",
       "      <th>2</th>\n",
       "      <td>R 5 300Per Month</td>\n",
       "      <td>Bhisho, Tyu Tyu North</td>\n",
       "      <td>Comfortable Home for a family which is availab...</td>\n",
       "      <td>Property OverviewListing Number115210602Type o...</td>\n",
       "      <td>2-bedroom-house-to-rent-in-tyu-tyu-north-11521...</td>\n",
       "      <td>115210602</td>\n",
       "      <td>House</td>\n",
       "      <td>Yes</td>\n",
       "      <td>No</td>\n",
       "      <td>2</td>\n",
       "      <td>...</td>\n",
       "      <td>1</td>\n",
       "      <td>None</td>\n",
       "      <td>1</td>\n",
       "      <td>None</td>\n",
       "      <td>None</td>\n",
       "      <td>None</td>\n",
       "      <td>1</td>\n",
       "      <td>None</td>\n",
       "      <td>None</td>\n",
       "      <td>Tyu Tyu North</td>\n",
       "    </tr>\n",
       "    <tr>\n",
       "      <th>3</th>\n",
       "      <td>R 7 500Per Month</td>\n",
       "      <td>Bhisho, Bisho Park</td>\n",
       "      <td>BetterProp is thrilled to present this well-ma...</td>\n",
       "      <td>Property OverviewListing Number115555490Type o...</td>\n",
       "      <td>3-bedroom-house-to-rent-in-bisho-park-115555490</td>\n",
       "      <td>115555490</td>\n",
       "      <td>House</td>\n",
       "      <td>Yes</td>\n",
       "      <td>No</td>\n",
       "      <td>3</td>\n",
       "      <td>...</td>\n",
       "      <td>None</td>\n",
       "      <td>None</td>\n",
       "      <td>3</td>\n",
       "      <td>None</td>\n",
       "      <td>None</td>\n",
       "      <td>None</td>\n",
       "      <td>None</td>\n",
       "      <td>None</td>\n",
       "      <td>None</td>\n",
       "      <td>Bisho Park</td>\n",
       "    </tr>\n",
       "    <tr>\n",
       "      <th>4</th>\n",
       "      <td>R 5 500Per Month</td>\n",
       "      <td>Bhisho, Bisho Park</td>\n",
       "      <td>This neat family home boasts:3 bedroomsOpen pl...</td>\n",
       "      <td>Property OverviewListing Number115525482Type o...</td>\n",
       "      <td>house-to-rent-in-bisho-park-115525482</td>\n",
       "      <td>115525482</td>\n",
       "      <td>House</td>\n",
       "      <td>None</td>\n",
       "      <td>None</td>\n",
       "      <td>&lt;NA&gt;</td>\n",
       "      <td>...</td>\n",
       "      <td>None</td>\n",
       "      <td>None</td>\n",
       "      <td>None</td>\n",
       "      <td>None</td>\n",
       "      <td>None</td>\n",
       "      <td>None</td>\n",
       "      <td>None</td>\n",
       "      <td>None</td>\n",
       "      <td>None</td>\n",
       "      <td>Bisho Park</td>\n",
       "    </tr>\n",
       "  </tbody>\n",
       "</table>\n",
       "<p>5 rows × 22 columns</p>\n",
       "</div>"
      ],
      "text/plain": [
       "              price                location  \\\n",
       "0  R 7 000Per Month   Bhisho, Tyu Tyu North   \n",
       "1  R 7 000Per Month  Bhisho, Bhisho Central   \n",
       "2  R 5 300Per Month   Bhisho, Tyu Tyu North   \n",
       "3  R 7 500Per Month      Bhisho, Bisho Park   \n",
       "4  R 5 500Per Month      Bhisho, Bisho Park   \n",
       "\n",
       "                                property_description  \\\n",
       "0  RE/MAX Border is proud to present this 3-bedro...   \n",
       "1  How CONVENIENT is this flat directly opposite ...   \n",
       "2  Comfortable Home for a family which is availab...   \n",
       "3  BetterProp is thrilled to present this well-ma...   \n",
       "4  This neat family home boasts:3 bedroomsOpen pl...   \n",
       "\n",
       "                                   property_features  \\\n",
       "0  Property OverviewListing Number115295115Type o...   \n",
       "1  Property OverviewListing Number115332086Type o...   \n",
       "2  Property OverviewListing Number115210602Type o...   \n",
       "3  Property OverviewListing Number115555490Type o...   \n",
       "4  Property OverviewListing Number115525482Type o...   \n",
       "\n",
       "                                        listing_slug Listing Number  \\\n",
       "0  3-bedroom-house-to-rent-in-tyu-tyu-north-11529...      115295115   \n",
       "1  3-bedroom-house-to-rent-in-bhisho-central-1153...      115332086   \n",
       "2  2-bedroom-house-to-rent-in-tyu-tyu-north-11521...      115210602   \n",
       "3    3-bedroom-house-to-rent-in-bisho-park-115555490      115555490   \n",
       "4              house-to-rent-in-bisho-park-115525482      115525482   \n",
       "\n",
       "  Type of Property Pets Allowed Furnished  Bedrooms  ... Lounge Dining Room  \\\n",
       "0            House           No        No         3  ...      1           1   \n",
       "1            House           No        No         3  ...      1        None   \n",
       "2            House          Yes        No         2  ...      1        None   \n",
       "3            House          Yes        No         3  ...   None        None   \n",
       "4            House         None      None      <NA>  ...   None        None   \n",
       "\n",
       "  Parking Backup Water Erf Size (m²) Floor Area (m²) Garden  Pool Garage  \\\n",
       "0       1           No          None            None   None  None   None   \n",
       "1       1         None          None            None      1  None   None   \n",
       "2       1         None          None            None      1  None   None   \n",
       "3       3         None          None            None   None  None   None   \n",
       "4    None         None          None            None   None  None   None   \n",
       "\n",
       "           suburb  \n",
       "0   Tyu Tyu North  \n",
       "1  Bhisho Central  \n",
       "2   Tyu Tyu North  \n",
       "3      Bisho Park  \n",
       "4      Bisho Park  \n",
       "\n",
       "[5 rows x 22 columns]"
      ]
     },
     "execution_count": 15,
     "metadata": {},
     "output_type": "execute_result"
    }
   ],
   "source": [
    "# Extract the suburb from the property_title column\n",
    "results_df['suburb'] = results_df['property_title'].str.extract(\n",
    "    r'to Rent in (.+)', expand=False)\n",
    "\n",
    "# Remove the trailing numbers from the suburb column\n",
    "results_df['suburb'] = (\n",
    "    results_df['suburb'].str.replace(r'-\\d+$', '', regex=True).str.strip())\n",
    "\n",
    "# Drop the property_title column as we have exytacted all the information we need\n",
    "results_df.drop(columns=['property_title'], inplace=True)\n",
    "\n",
    "# Print the first five rows of the table to see the results\n",
    "results_df.head()"
   ]
  },
  {
   "cell_type": "markdown",
   "id": "d3052575",
   "metadata": {},
   "source": [
    "We will then load a seperate **city_province** csv file that contains a mapping of cities to their matching provinces to validate and fill in missing province information in the main dataset. "
   ]
  },
  {
   "cell_type": "code",
   "execution_count": null,
   "id": "46e5b844",
   "metadata": {},
   "outputs": [],
   "source": [
    "# Load the csv that contains the capital_cities with their respective provinces and create a mapping\n",
    "city_province = pd.read_csv(\"../data/raw/south_africa_provinces_capitals.csv\")\n",
    "\n",
    "# Crete a mapping from city to province\n",
    "city_list = city_province['city'].dropna().str.strip().unique()"
   ]
  },
  {
   "cell_type": "markdown",
   "id": "92bfda5b",
   "metadata": {},
   "source": [
    "The `location` column contains inconsistent formats, where it lists both the suburb and city, and other times providing a full address. To address this, we use the *city_list* mapping to extract the city by matching it against known entries. If no match is found, the value is replaced with **None**."
   ]
  },
  {
   "cell_type": "code",
   "execution_count": 17,
   "id": "1fd25e90",
   "metadata": {},
   "outputs": [],
   "source": [
    "def extract_city_from_location(location, city_list):\n",
    "    if pd.isna(location):\n",
    "        return None\n",
    "    \n",
    "    \n",
    "    location_lower = location.lower()\n",
    "    for city in city_list:\n",
    "        if city.lower() in location_lower:\n",
    "            return city\n",
    "    return None"
   ]
  },
  {
   "cell_type": "code",
   "execution_count": 18,
   "id": "40cea20f",
   "metadata": {},
   "outputs": [],
   "source": [
    "# Apply the extract_city_from_location function to extract the city from the location column\n",
    "results_df['city'] = results_df['location'].apply(\n",
    "    lambda loc: extract_city_from_location(loc, city_list))\n",
    "\n",
    "# Drop the location column as it is redundant\n",
    "results_df.drop(columns=[\"location\"], inplace=True)"
   ]
  },
  {
   "cell_type": "markdown",
   "id": "d69ee9df",
   "metadata": {},
   "source": [
    "The `city` column contains null values because some entries in the `location` column are empty or incomplete. To address this, we create a mapping of known suburbs to their matching cities and use it to fill in the missing `city` column. "
   ]
  },
  {
   "cell_type": "code",
   "execution_count": 19,
   "id": "5d587f6e",
   "metadata": {},
   "outputs": [],
   "source": [
    "# Create a mapping of suburb to known cities\n",
    "suburb_to_city_map = results_df[results_df['city'].notna()].drop_duplicates(subset=['suburb', 'city']).set_index('suburb')['city'].to_dict()\n",
    "\n",
    "# Fill missing city values based on the suburb\n",
    "results_df['city'] = results_df.apply(lambda row: suburb_to_city_map.get(row['suburb'], row['city']) if pd.isna(row['city']) else row['city'], axis= 1)   "
   ]
  },
  {
   "cell_type": "code",
   "execution_count": null,
   "id": "90f5968d",
   "metadata": {},
   "outputs": [
    {
     "data": {
      "text/plain": [
       "np.int64(91)"
      ]
     },
     "execution_count": 20,
     "metadata": {},
     "output_type": "execute_result"
    }
   ],
   "source": [
    "# Print out the number of null values within the `city` column\n",
    "results_df['city'].isnull().sum()"
   ]
  },
  {
   "cell_type": "markdown",
   "id": "257b7890",
   "metadata": {},
   "source": [
    "There are 91 null rows in the city column which account for less than 0.5% of the total dataset. We remove these rows to maintain data quality given their small proportion. "
   ]
  },
  {
   "cell_type": "code",
   "execution_count": null,
   "id": "aac4dd4b",
   "metadata": {},
   "outputs": [],
   "source": [
    "# Drop the city rows with null values\n",
    "results_df = results_df.dropna(subset=['city'])\n",
    "results_df['city'].isnull().sum()"
   ]
  },
  {
   "cell_type": "markdown",
   "id": "d63e92fb",
   "metadata": {},
   "source": [
    "We will then merge the dataset with the **city_province.csv** file to assign the matching province to each city. "
   ]
  },
  {
   "cell_type": "code",
   "execution_count": 23,
   "id": "1fe2bdb3",
   "metadata": {},
   "outputs": [],
   "source": [
    "# Merge the city with its matching province\n",
    "results_df = results_df.merge(city_province, on='city', how='left')"
   ]
  },
  {
   "cell_type": "markdown",
   "id": "c318c993",
   "metadata": {},
   "source": [
    "The `listing_slug` column contains a URL-friendly string summarising key details about this listing, such the number of bedrooms, property type, suburb, and a unique listing ID. This information is already avaliable in other columns, we drop `listing_slug` to avoid redundancy. "
   ]
  },
  {
   "cell_type": "code",
   "execution_count": 24,
   "id": "7083d40c",
   "metadata": {},
   "outputs": [],
   "source": [
    "# Drop the listing slug column\n",
    "results_df.drop(columns=['listing_slug'], inplace=True)"
   ]
  },
  {
   "cell_type": "markdown",
   "id": "85a7fb31",
   "metadata": {},
   "source": [
    "#### Price column"
   ]
  },
  {
   "cell_type": "markdown",
   "id": "5f6ec85a",
   "metadata": {},
   "source": [
    "The `price` column currently combines the price amount with its associated pricing type (e.g., R 7000Per Month), which complicates aggregation and analysis. To resolve this, we seperate the pricing type into a new `price_type` column and extract the numeric value into a new `price (in rands)` column, removing the currency symbol in the process. The cleaned data is then stored in a new DataFrame called **results_df**. "
   ]
  },
  {
   "cell_type": "code",
   "execution_count": 25,
   "id": "fd3bd830",
   "metadata": {},
   "outputs": [
    {
     "name": "stdout",
     "output_type": "stream",
     "text": [
      "              price price_type  price (in rands)\n",
      "0  R 7 000Per Month  Per Month            7000.0\n",
      "1  R 7 000Per Month  Per Month            7000.0\n",
      "2  R 5 300Per Month  Per Month            5300.0\n",
      "3  R 7 500Per Month  Per Month            7500.0\n",
      "4  R 5 500Per Month  Per Month            5500.0\n"
     ]
    }
   ],
   "source": [
    "# Extract the pricing option after the price amount\n",
    "results_df['price_type'] = results_df['price'].str.extract(\n",
    "    r'(Per\\s*Month|Per\\s*Day|m2|m²|Perm²)', flags=re.IGNORECASE, expand=False\n",
    ")\n",
    "\n",
    "\n",
    "# Normalize price_type text (remove spaces, lower case) then map to standard form\n",
    "results_df['price_type'] = results_df['price_type'].str.replace(\n",
    "    r'\\s+', '', regex=True).str.lower()\n",
    "results_df['price_type'] = results_df['price_type'].replace({\n",
    "    'permonth': 'Per Month',\n",
    "    'perday': 'Per Day',\n",
    "    'm2': 'Per m²',\n",
    "    'm²': 'Per m²',\n",
    "    'perm²': 'Per m²'\n",
    "})\n",
    "\n",
    "# Remove spaces inside the price string first\n",
    "results_df['price_clean'] = results_df['price'].str.replace(\n",
    "    r'\\s+', '', regex=True)\n",
    "\n",
    "# Now extract the numeric part (digits only, continuous)\n",
    "results_df['price (in rands)'] = results_df['price_clean'].str.extract(\n",
    "    r'R?(\\d+)', expand=False)\n",
    "\n",
    "# Convert the price(in rands) column to numeric\n",
    "results_df['price (in rands)'] = pd.to_numeric(\n",
    "    results_df['price (in rands)'], errors='coerce')\n",
    "\n",
    "# Drop the helper clean column if you want\n",
    "results_df.drop(columns=['price_clean'], inplace=True)\n",
    "\n",
    "# Then clean blank or whitespace-only price_type entries as before\n",
    "results_df['price_type'] = results_df['price_type'].replace(\n",
    "    r'^\\s*$', pd.NA, regex=True)\n",
    "\n",
    "# Preview results\n",
    "print(results_df[['price', 'price_type', 'price (in rands)']].head())"
   ]
  },
  {
   "cell_type": "code",
   "execution_count": 26,
   "id": "14d6e2f3",
   "metadata": {},
   "outputs": [
    {
     "data": {
      "application/vnd.microsoft.datawrangler.viewer.v0+json": {
       "columns": [
        {
         "name": "price_type",
         "rawType": "object",
         "type": "string"
        },
        {
         "name": "count",
         "rawType": "int64",
         "type": "integer"
        }
       ],
       "ref": "ca0a6abf-7638-4a6d-b13d-d4e571c60858",
       "rows": [
        [
         "Per Month",
         "12826"
        ],
        [
         "Per m²",
         "948"
        ],
        [
         "Per Day",
         "143"
        ]
       ],
       "shape": {
        "columns": 1,
        "rows": 3
       }
      },
      "text/plain": [
       "price_type\n",
       "Per Month    12826\n",
       "Per m²         948\n",
       "Per Day        143\n",
       "Name: count, dtype: int64"
      ]
     },
     "execution_count": 26,
     "metadata": {},
     "output_type": "execute_result"
    }
   ],
   "source": [
    "# Get the unique values in the price_type column\n",
    "results_df['price_type'].value_counts()"
   ]
  },
  {
   "cell_type": "code",
   "execution_count": 27,
   "id": "0b368c91",
   "metadata": {},
   "outputs": [
    {
     "data": {
      "text/plain": [
       "np.int64(12)"
      ]
     },
     "execution_count": 27,
     "metadata": {},
     "output_type": "execute_result"
    }
   ],
   "source": [
    "# Get the number of null values in the price_type column\n",
    "results_df['price_type'].isnull().sum()"
   ]
  },
  {
   "cell_type": "code",
   "execution_count": 28,
   "id": "32602d6a",
   "metadata": {},
   "outputs": [
    {
     "data": {
      "application/vnd.microsoft.datawrangler.viewer.v0+json": {
       "columns": [
        {
         "name": "index",
         "rawType": "int64",
         "type": "integer"
        },
        {
         "name": "price",
         "rawType": "object",
         "type": "string"
        },
        {
         "name": "property_description",
         "rawType": "object",
         "type": "string"
        },
        {
         "name": "property_features",
         "rawType": "object",
         "type": "string"
        },
        {
         "name": "Listing Number",
         "rawType": "object",
         "type": "string"
        },
        {
         "name": "Type of Property",
         "rawType": "object",
         "type": "string"
        },
        {
         "name": "Pets Allowed",
         "rawType": "object",
         "type": "unknown"
        },
        {
         "name": "Furnished",
         "rawType": "object",
         "type": "unknown"
        },
        {
         "name": "Bedrooms",
         "rawType": "Int64",
         "type": "integer"
        },
        {
         "name": "Bathrooms",
         "rawType": "object",
         "type": "unknown"
        },
        {
         "name": "Kitchen",
         "rawType": "object",
         "type": "unknown"
        },
        {
         "name": "Lounge",
         "rawType": "object",
         "type": "unknown"
        },
        {
         "name": "Dining Room",
         "rawType": "object",
         "type": "unknown"
        },
        {
         "name": "Parking",
         "rawType": "object",
         "type": "unknown"
        },
        {
         "name": "Backup Water",
         "rawType": "object",
         "type": "unknown"
        },
        {
         "name": "Erf Size (m²)",
         "rawType": "object",
         "type": "unknown"
        },
        {
         "name": "Floor Area (m²)",
         "rawType": "object",
         "type": "unknown"
        },
        {
         "name": "Garden",
         "rawType": "object",
         "type": "unknown"
        },
        {
         "name": "Pool",
         "rawType": "object",
         "type": "unknown"
        },
        {
         "name": "Garage",
         "rawType": "object",
         "type": "unknown"
        },
        {
         "name": "suburb",
         "rawType": "object",
         "type": "string"
        },
        {
         "name": "city",
         "rawType": "object",
         "type": "string"
        },
        {
         "name": "province",
         "rawType": "object",
         "type": "string"
        },
        {
         "name": "price_type",
         "rawType": "object",
         "type": "unknown"
        },
        {
         "name": "price (in rands)",
         "rawType": "float64",
         "type": "float"
        }
       ],
       "ref": "3d293575-63ee-42d0-82dc-60de4a58d10f",
       "rows": [
        [
         "357",
         "POA",
         "Unit 1 within 29 Grey Street, Hilton - FS, Bloemfontein offers an Industrial space with a GLA of 1143m². Immediate availability for lease. Flexible layout options, suitable for various business needs. Asking rental at R45.00/m² (gross), POR (net). Amenities include, kitchenette, balcony, boardroom, with security features. Suitable for businesses seeking a functional and practical workspace.Big open sales area4 x officesBaordroomTraining roomWarehouseKitchenToilets  x 2Braai areaCovered parking areaBackup generator/",
         "Property OverviewListing Number114774738Type of PropertyIndustrial PropertyStreet Address29 Grey Street, HiltonOccupation Date09 August 2024Erf Size4 500 m²Floor Area1 143 m²FurnishedNoBuildingGross Lettable Area1143 m²Building GradingP GradePower AvailabilitySingle Phase",
         "114774738",
         "Industrial",
         null,
         "No",
         null,
         null,
         null,
         null,
         null,
         null,
         null,
         null,
         null,
         null,
         null,
         null,
         "Hilton",
         "Bloemfontein",
         "Free State",
         null,
         null
        ],
        [
         "3728",
         "POA",
         "Salty ocean breezes, golden sunsets, breathtaking sea views —Halcyon celebrates the precious moments that come with living on the water's edge. Despite their scale, spaces are intimate and quiet, but for the sound of waves crashing gently. Inspired by its surroundings, champagne tones and raw textures evoke the soft sand and raw stone of the mountain terrain and beachfront below. Rooms are oriented towards the ocean, opening up to take in the spectacular sunsets.A minimum stay of 3 nights is required.Peak Season: A minimum stay of 7 nights is required.",
         "Property OverviewListing Number115605901Type of PropertyHouseOccupation Date19 February 2025Lease PeriodMinimum 3 nights ...Pets AllowedNoFurnishedYesRoomsBedroom4Bathroom6Kitchen2Office/study1Lounge2Dining Room2Bar1External FeaturesGarage1Garden1Pool1",
         "115605901",
         "House",
         "No",
         "Yes",
         "4",
         "6",
         "2",
         "2",
         "2",
         null,
         null,
         null,
         null,
         "1",
         "1",
         "1",
         "Bantry Bay",
         "Cape Town",
         "Western Cape",
         null,
         null
        ],
        [
         "3760",
         "POA",
         "Peering over the edge of Africa from its clifftop vantage point, there are moments of wonder throughout this uniquely architectural home. With its gaze to the horizon, the views from Obsidian are nothing short of breathtaking. Whether you choose to ascend spectacular Table Mountain, chase the sunset aboard a private yacht or visit the nearby restaurants of Camps Bay or Sea Point, Obsidian promises the adventure of a lifetime.A minimum stay of 3 nights is required.Peak Season: A minimum stay of 7 nights is required.",
         "Property OverviewListing Number115594664Type of PropertyHouseOccupation Date06 March 2025Lease PeriodMinimum 3 nights ...Pets AllowedNoFurnishedYesRoomsBedroom5Bathroom7Kitchen2Office/study1Lounge4Dining Room3External FeaturesGarage1Pool1BuildingBackup PowerBackup Battery / Inverter",
         "115594664",
         "House",
         "No",
         "Yes",
         "5",
         "7",
         "2",
         "4",
         "3",
         null,
         null,
         null,
         null,
         null,
         "1",
         "1",
         "Clifton",
         "Cape Town",
         "Western Cape",
         null,
         null
        ],
        [
         "3771",
         "POA",
         "Drawing inspiration from the whitewashed villas that dot the Riviera’s rocky coastline, this home is uncompromising in the pursuit of calm and quiet. Spaces are open and airy, finished in raw timber, warm stone, and soft textiles.A minimum stay of 3 nights is required.Peak Season: A minimum stay of 7 nights is required.",
         "Property OverviewListing Number115613951Type of PropertyHouseOccupation Date20 February 2025Lease PeriodMinimum 3 nights ...FurnishedYesRoomsBedroom5Bathroom5Kitchen2Lounge4External FeaturesGarage1Pool1BuildingBackup PowerBackup Battery / Inverter",
         "115613951",
         "House",
         null,
         "Yes",
         "5",
         "5",
         "2",
         "4",
         null,
         null,
         null,
         null,
         null,
         null,
         "1",
         "1",
         "Fresnaye",
         "Cape Town",
         "Western Cape",
         null,
         null
        ],
        [
         "3837",
         "POA",
         "With its gaze fixed to the horizon, this beach bungalow celebrates the virtues of life on the water. Glorious floor-to-ceiling windows capturedramatic ocean and sunset views while its easy-going attitude makes this an ideal family escape.A minimum stay of 3 nights is required.Peak Season: A minimum stay of 7 nights is required.",
         "Property OverviewListing Number115606187Type of PropertyHouseOccupation Date19 February 2025Lease PeriodMinimum 3 nights ...Pets AllowedNoFurnishedYesRoomsBedroom4Bathroom5Kitchen1Lounge1Dining Room1External FeaturesGarage2Pool1",
         "115606187",
         "House",
         "No",
         "Yes",
         "4",
         "5",
         "1",
         "1",
         "1",
         null,
         null,
         null,
         null,
         null,
         "1",
         "2",
         "Clifton",
         "Cape Town",
         "Western Cape",
         null,
         null
        ],
        [
         "4180",
         "POA",
         "An exceptional and very glamorous Llandudno villa on 4 levels oozing style and glamour in a magnificent elevated north facing location with unparalleled panoramic beach, sea and mountain views from every room.The main reception level is accessed via the internal lift or staircase from the entrance hall leading to a spacious state of the art gourmet kitchen with open plan casual dining and family sitting room leading in turn to a formal dining room and lounge. There are full floor to ceiling sliding glass doors leading to a sunbathing deck and 22 meter pool plus a wet room and further tv family.The next level has 4 bedrooms all ensuite including the superb master suite with dressing room and sun bathing terrace, a large cinema room and stairway leading to a further double bedroomensuite and a chill out party braai pavilion just prefect for parties under the stars.The ground level houses spacious grand entrance hall, a three car integral garage, ensuite staff accommodation and a one bedroom guest apartment and parking for 2 further cars.FEATURES:- 5 bedrooms ensuite- 3 receptions- gourmet kitchen with smeg appliances including double ovens, dual dishwashers, integrated coffee machine- BBQ in main reception- 22 meter heated swimming pool and sunbathing deck- penthouse party pavilion with braai- TV room- entrance hall- wet room- internal lift- 1 bedroom separate guest apartment- laundry room- parking for 4 cars- air con in receptions and master bedroom- integrated security system- internal lift- integrated CCTV security system with cameras, beams and electric fence- integrated music system- steam room- all TVs connected to triple view and ready for any new AV technologyRates:POAEnquire for availabilityDeckScenic ViewTVRead more...",
         "Property OverviewListing Number108778518Type of PropertyHouseOccupation Date28 December 2024Erf Size991 m²Floor Area862 m²FurnishedYesRoomsBedroomBathrooms5,Main en Suite, Guest ToiletKitchens1,Pantry, LaundryLounge1Dining Room1Family/TV Room1RoomsAir ConditionerExternal FeaturesParking4,4 Covered Parking,Shade net parkingPoolBuildingFacingSeaOther FeaturesSecurityAlarm SystemSpecial FeatureBalconyFlatletYes",
         "108778518",
         "House",
         null,
         "Yes",
         "5",
         "5",
         "1",
         "1",
         "1",
         "4",
         null,
         "991",
         "862",
         null,
         null,
         null,
         "Llandudno",
         "Cape Town",
         "Western Cape",
         null,
         null
        ],
        [
         "4587",
         "POA",
         "*Please note that the daily rate ranges from R16 500 - R65 500 and has a minimum night stay requirement, depending on the season.Beautifully appointed, this contemporary solar-powered villa in Camps Bay has everything you could possibly require for optimum comfort and enjoyment. Located a mere ten minutes from the sandy beach and bustling ‘strip’, this stylish haven is configured on three levels, with ample space for entertaining, relaxing and easy living, ideal for family or friends. The property has four spacious bedrooms and three opulent bathrooms.The SpaceLocated on the second floor are the main bedroom, with walk-in closet, and an impressive en-suite bathroom with double sink, large walk-in shower and free standing modern ‘egg’ bath; there are two further bedrooms sharinganother bathroom. On the lower level is a fourth en-suite bedroom. The property also has two guest toilets and all four bedrooms have air conditioning. The expansive open-plan living area is fabulous, with doors opening onto an astounding view, and a wood burning fireplace for warmth and atmosphere. The kitchen is equipped to the highest standards, and there is a separate utility/laundry area. There is a second, cosy TV lounge, with gas fireplace. The exterior is no less impressive, and includes a sparkling pool with mountain and ocean views, and not one but two patios, with both gas and wood barbeques and a pizza oven. Indoors there is a fully-equipped gym and sauna. A focus on exquisite modern finishes and beautiful art work, high ceilings, large windows and a neutral palate, has created a genuinely magnificent, light-filled, serene and beautiful sanctuary. The house has a full-time live-in housekeeper, a direct access double garage and excellent security. All in all, eye-catching views, luxury finishes and impeccable attention to detail make this the perfect spot for an unforgettable holiday.Read more...",
         "Property OverviewListing Number115118688Type of PropertyHouseDescriptionFreestandingOccupation Date24 October 2024Erf Size530 m²Pets AllowedNoFurnishedYesRoomsBedroomBathrooms4.5Kitchens1External FeaturesGarageGardenYesPool",
         "115118688",
         "House",
         "No",
         "Yes",
         "5",
         "4",
         "1",
         null,
         null,
         null,
         null,
         "530",
         null,
         null,
         null,
         null,
         "Camps Bay",
         "Cape Town",
         "Western Cape",
         null,
         null
        ],
        [
         "4610",
         "POA",
         "Clifton beach bungalow with entertainment area, private pool and exceptional views.  With five bedrooms, five bathrooms, this house is ideal for a family holiday in our beautiful City.  The lounge and dining area are open plan and overlook the ocean.  With beautiful wooden floors, ceiling beams and stack sliding doors guests have an opportunity to experience the best of the famous Fourth beach!   Dine or relax in this open plan space.  The kitchen is fitted and equipped with all modern conveniences and appliances.  Two of the bedrooms are sea facing while the others are on a lower level and offer a bit more tranquility.  The swimming pool deck is elevated and located at the back of the house and has stunning views of the ocean and Lions head.  Enjoy a relaxing sunset while chilling on thesun loungers.  One level down you will find a large patio with built-in braai and outdoor dining facilities.  Enjoy beach views from the patio.  The house offers direct access to the beach which is an absolute bonus in this prime location.  Enquire now to secure your best holiday experience!Read more...",
         "Property OverviewListing Number115153896Type of PropertyHouseFloor Area463 m²Pets AllowedNoFurnishedYesRoomsBedroomBathrooms5Reception Rooms1External FeaturesGardenYesPoolOther FeaturesInternet AccessFibre",
         "115153896",
         "House",
         "No",
         "Yes",
         "5",
         "5",
         null,
         null,
         null,
         null,
         null,
         null,
         "463",
         null,
         null,
         null,
         "Clifton",
         "Cape Town",
         "Western Cape",
         null,
         null
        ],
        [
         "4896",
         "POA",
         "A beautifully crafted furnished home with the definitive WOW factor. This exceptional home on 3 floors offers stylish architecture and exquisite finishes throughout.Located high up on the nature reserve this property has 360 degree views of the ocean, Llandudno beach and the spectacular mountains from every level.The spacious light and airy design incorporates floor to ceiling windows just perfect to maximise those views and offers 8 bedrooms all en-suite. Wonderful open plan receptions, generous terraces and a State-of-The-Art kitchen with appliances imported from Germany, leading to a stylish conservatory with innovative three sided fireplace imported from Italy which in turn opens out to a gorgeous pool and extensive Balau deck just perfect for lazy summer days.The wowfactor is truly represented by the Penthouse Suite. This suite has it's own floor and a separate entrance from the pool deck and consists of large open plan reception, 2 bedrooms en- suite, huge travertine sun terrace and of course awe inspiring views.The property has State-of-the-Art security system, air con,  plus a perimeter electrified fence. There is garaging for 2 cars, and staff quarters.Price on application8 Bedrooms8 BathroomsUninterrupted views from each levelPenthouse suiteSpacious lounge3rd floor travertine terraceAll floors can run independently (electricity/water) from each otherImported Italian “three-sided” fireplaceKitchen extractor is motorized and can be completely hidden in the worktopAll kitchen appliances are imported from Germany (Siemens/Bosch/Neff)Indoor outdoor conservatory/pool roomSwimming poolAir conditioning in all roomsBalau deckingState-of-the-Art securityElectric fencingStaff quartersDouble glazing throughoutDouble garagingDeckScenic ViewTVRead more...",
         "Property OverviewListing Number110813037Type of PropertyHouseOccupation Date01 October 2024Erf Size1 126 m²Floor Area605 m²FurnishedYesRoomsBedroomBathrooms8,Main en Suite, Guest ToiletKitchens1Lounge1RoomsAir Conditioner,FireplaceExternal FeaturesGaragePoolBuildingFacingSeaOther FeaturesSecurityAlarm System,Electric fencing",
         "110813037",
         "House",
         null,
         "Yes",
         "8",
         "8",
         "1",
         "1",
         null,
         null,
         null,
         null,
         "605",
         null,
         null,
         null,
         "Llandudno",
         "Cape Town",
         "Western Cape",
         null,
         null
        ],
        [
         "4899",
         "POA",
         "Welcome to this Constantia homestead, steeped in history and charm. This property holds a unique legacy as the original wine cellar for the esteemed vineyard.Upon arrival, you are greeted by a picturesque facade adorned with classic Cape Dutch architecture, a hallmark of the region's heritage. The sprawling grounds boasts lush gardens and two swimming pools.The interior seamlessly blends historic features with modern amenities, offering a harmonious balance of comfort and tradition. From the exposed wooden beams to the stone floors every detail tells a story of the estate's rich past.The heart of the home is the spacious living area and the gourmet kitchen, equipped with top-of-the-line appliances and ample counter space, is a culinary enthusiast's dream.The main houseboasts 4 extra large  ensuite bedrooms and thennestled within the grounds is a charming one-bedroom cottage, perfect for guests seeking a more secluded experience with its own living area, kitchenette, and bathroom, this cottage provides a cozy haven amidst the lush landscape.A newly built garden \"pod\" with two en suite bedrooms make up the7 bedroom offering.Parking for 20 carsSelf contained cottagenewly built 2 bedroomed garden PODDouble volumeSunny atriumFully staffedSpacious Farmhouse kitchenAVAILABLE for SHORT TERM RENTALS, FILM SHOOTS, EVENTS, CONFERENCES .Rates tailor made to suit your needs .POD AND COTTAGE MAY BE BOOKED INDEPENDANTLY OF THE MAIN HOMESTEADPool: 2Garden: yesAvailability: 2024-04-01Read more...",
         "Property OverviewListing Number113953599Type of PropertyHouseDescriptionGarden FlatOccupation Date01 April 2024Erf Size2 236 m²FurnishedYesRoomsBedroomBathrooms7.5RoomsPatioExternal FeaturesParking20,20 Open ParkingPool",
         "113953599",
         "House",
         null,
         "Yes",
         "7",
         "7",
         null,
         null,
         null,
         "20",
         null,
         null,
         null,
         null,
         null,
         null,
         "Constantia",
         "Cape Town",
         "Western Cape",
         null,
         null
        ],
        [
         "5027",
         "POA",
         "Laika Villa is located on the slopes of the Atlantic Seaboard in Cape Town’s prestigious and safest suburb - Llandudno.The villa has spacious accommodation for up to 12 people. It's elegantly styled and most rooms have breathtaking views of the ocean and mountain, beautifully framed byfully retractable glass doors and complemented by natural stone and wood tones creating a bespoke indoor and outdoor experience.LOWER LEVELYou can enter the house through the garage (3 parking places) or via the front entrance to a bespoke spacious hall with the glass elevator to each floor.FIRST LEVELThe first level hosts six bedrooms. Four out of six bedrooms have a direct access to the Pool Terrace with large L-shaped heated pool, sun-deck, outdoor shower and a magnificent ocean &mountain panoramic view.The 2 other bedrooms are located in a quieter part of this level with a gym which includes a Sonos sound system, heavyweights, boxing equipment and a treadmill.Separately on the floor is a cinema with a plush seating for 6 – 8 people, sound system and a PlayStation.SECOND LEVELSpacious living area with lots of light and has floor to ceiling windows allowing you to fully enjoy the exquisite ocean and mountain views.The living area has a comfortable dining table for 10 people seating. The large breakfast bar has seating for 4, the kitchen is equipped with all modern amenities, Nespresso machine and a wine fridge, and separate scullery.The most inviting part of this floor is a luxurious lounge area with couch seating for 8---10 people. This opens onto a large deck with lounge seating on one side and a small garden patio with an outdoor dining table for 10 on another side.The second floor also has a study, perfect for relaxing, doing some work, watching TV, play some table games or the piano.PROPERTY DETAILS:7 bedrooms5 bathrooms2 entertainment areas2 terraces3 floors1 heated pool24/7 housekeeping3 dining areas1 gym4 parking placesLuxurious linen and toiletriesFull security systemHigh-speed internetUnderfloor heatingExtra services like a chef, event management, babysitter, butler etc, on requestRATES:POA* Housekeeping included* Minimum stay of 5 days*Villa available for photoshootsENQUIRE FOR AVAILABILITYDeckElectricity IncludedGymScenic ViewTVWater IncludedRead more...",
         "Property OverviewListing Number106851597Type of PropertyHouseOccupation Date03 March 2024FurnishedYesRoomsBedroomBathrooms5,Guest ToiletKitchens1,Pantry, Scullery, LaundryOffice/study1Family/TV Room1RoomsPatio,Air Conditioner,FireplaceExternal FeaturesGaragePoolBuildingFacingSeaOther FeaturesSecurityAlarm System,Intercom,Electric fencingSpecial FeatureBuilt in Braai,Satellite Dish",
         "106851597",
         "House",
         null,
         "Yes",
         "7",
         "5",
         "1",
         null,
         null,
         null,
         null,
         null,
         null,
         null,
         null,
         null,
         "Llandudno",
         "Cape Town",
         "Western Cape",
         null,
         null
        ],
        [
         "11534",
         "POA",
         "19 Fortune Street, City Deep, Gauteng17 155 sqm of manufacturing grade facility to lease, with expansive yard of approximately 28 000sqm and amenities Landlord will upgrade to your specificationsSituated just off the M31 Heidelburg Road south of Johannesburg CBD, close to the Johannesburg  Market Access to M2, N17 and N3Consisting:•\tWarehouse with chiller / cold rooms•\tGantry Cranes.•\tOffice block .•\tAllocation for dynamic signage / branding•\t3 Phase electricity with large power availability•\tWeigh bridges•\tDedicated forklift charging stations•\tDedicated dispatch dock levellers•\tFuel Depo•\tWash Bays•\tExpansive racking inside the chillers•\tAmmonia Plant•\tCovered and open parking for staff and visitors•\tFibre installed solution•\tStaffCanteens•\tCovered Loading / Dispatch areas•\tFully sprinkleredRead more...",
         "Property OverviewListing Number114533276Type of PropertyIndustrial PropertyStreet Address19 Fortune Street, City DeepDescriptionWarehouseAvailability Date21 February 2025Floor Area17 155 m²BuildingBuilding Name19 Fortune StreetGross Lettable Area17155 m²",
         "114533276",
         "Industrial",
         null,
         null,
         null,
         null,
         null,
         null,
         null,
         null,
         null,
         null,
         null,
         null,
         null,
         null,
         "City Deep",
         "Johannesburg",
         "Gauteng",
         null,
         null
        ]
       ],
       "shape": {
        "columns": 24,
        "rows": 12
       }
      },
      "text/html": [
       "<div>\n",
       "<style scoped>\n",
       "    .dataframe tbody tr th:only-of-type {\n",
       "        vertical-align: middle;\n",
       "    }\n",
       "\n",
       "    .dataframe tbody tr th {\n",
       "        vertical-align: top;\n",
       "    }\n",
       "\n",
       "    .dataframe thead th {\n",
       "        text-align: right;\n",
       "    }\n",
       "</style>\n",
       "<table border=\"1\" class=\"dataframe\">\n",
       "  <thead>\n",
       "    <tr style=\"text-align: right;\">\n",
       "      <th></th>\n",
       "      <th>price</th>\n",
       "      <th>property_description</th>\n",
       "      <th>property_features</th>\n",
       "      <th>Listing Number</th>\n",
       "      <th>Type of Property</th>\n",
       "      <th>Pets Allowed</th>\n",
       "      <th>Furnished</th>\n",
       "      <th>Bedrooms</th>\n",
       "      <th>Bathrooms</th>\n",
       "      <th>Kitchen</th>\n",
       "      <th>...</th>\n",
       "      <th>Erf Size (m²)</th>\n",
       "      <th>Floor Area (m²)</th>\n",
       "      <th>Garden</th>\n",
       "      <th>Pool</th>\n",
       "      <th>Garage</th>\n",
       "      <th>suburb</th>\n",
       "      <th>city</th>\n",
       "      <th>province</th>\n",
       "      <th>price_type</th>\n",
       "      <th>price (in rands)</th>\n",
       "    </tr>\n",
       "  </thead>\n",
       "  <tbody>\n",
       "    <tr>\n",
       "      <th>357</th>\n",
       "      <td>POA</td>\n",
       "      <td>Unit 1 within 29 Grey Street, Hilton - FS, Blo...</td>\n",
       "      <td>Property OverviewListing Number114774738Type o...</td>\n",
       "      <td>114774738</td>\n",
       "      <td>Industrial</td>\n",
       "      <td>None</td>\n",
       "      <td>No</td>\n",
       "      <td>&lt;NA&gt;</td>\n",
       "      <td>None</td>\n",
       "      <td>None</td>\n",
       "      <td>...</td>\n",
       "      <td>None</td>\n",
       "      <td>None</td>\n",
       "      <td>None</td>\n",
       "      <td>None</td>\n",
       "      <td>None</td>\n",
       "      <td>Hilton</td>\n",
       "      <td>Bloemfontein</td>\n",
       "      <td>Free State</td>\n",
       "      <td>NaN</td>\n",
       "      <td>NaN</td>\n",
       "    </tr>\n",
       "    <tr>\n",
       "      <th>3728</th>\n",
       "      <td>POA</td>\n",
       "      <td>Salty ocean breezes, golden sunsets, breathtak...</td>\n",
       "      <td>Property OverviewListing Number115605901Type o...</td>\n",
       "      <td>115605901</td>\n",
       "      <td>House</td>\n",
       "      <td>No</td>\n",
       "      <td>Yes</td>\n",
       "      <td>4</td>\n",
       "      <td>6</td>\n",
       "      <td>2</td>\n",
       "      <td>...</td>\n",
       "      <td>None</td>\n",
       "      <td>None</td>\n",
       "      <td>1</td>\n",
       "      <td>1</td>\n",
       "      <td>1</td>\n",
       "      <td>Bantry Bay</td>\n",
       "      <td>Cape Town</td>\n",
       "      <td>Western Cape</td>\n",
       "      <td>NaN</td>\n",
       "      <td>NaN</td>\n",
       "    </tr>\n",
       "    <tr>\n",
       "      <th>3760</th>\n",
       "      <td>POA</td>\n",
       "      <td>Peering over the edge of Africa from its cliff...</td>\n",
       "      <td>Property OverviewListing Number115594664Type o...</td>\n",
       "      <td>115594664</td>\n",
       "      <td>House</td>\n",
       "      <td>No</td>\n",
       "      <td>Yes</td>\n",
       "      <td>5</td>\n",
       "      <td>7</td>\n",
       "      <td>2</td>\n",
       "      <td>...</td>\n",
       "      <td>None</td>\n",
       "      <td>None</td>\n",
       "      <td>None</td>\n",
       "      <td>1</td>\n",
       "      <td>1</td>\n",
       "      <td>Clifton</td>\n",
       "      <td>Cape Town</td>\n",
       "      <td>Western Cape</td>\n",
       "      <td>NaN</td>\n",
       "      <td>NaN</td>\n",
       "    </tr>\n",
       "    <tr>\n",
       "      <th>3771</th>\n",
       "      <td>POA</td>\n",
       "      <td>Drawing inspiration from the whitewashed villa...</td>\n",
       "      <td>Property OverviewListing Number115613951Type o...</td>\n",
       "      <td>115613951</td>\n",
       "      <td>House</td>\n",
       "      <td>None</td>\n",
       "      <td>Yes</td>\n",
       "      <td>5</td>\n",
       "      <td>5</td>\n",
       "      <td>2</td>\n",
       "      <td>...</td>\n",
       "      <td>None</td>\n",
       "      <td>None</td>\n",
       "      <td>None</td>\n",
       "      <td>1</td>\n",
       "      <td>1</td>\n",
       "      <td>Fresnaye</td>\n",
       "      <td>Cape Town</td>\n",
       "      <td>Western Cape</td>\n",
       "      <td>NaN</td>\n",
       "      <td>NaN</td>\n",
       "    </tr>\n",
       "    <tr>\n",
       "      <th>3837</th>\n",
       "      <td>POA</td>\n",
       "      <td>With its gaze fixed to the horizon, this beach...</td>\n",
       "      <td>Property OverviewListing Number115606187Type o...</td>\n",
       "      <td>115606187</td>\n",
       "      <td>House</td>\n",
       "      <td>No</td>\n",
       "      <td>Yes</td>\n",
       "      <td>4</td>\n",
       "      <td>5</td>\n",
       "      <td>1</td>\n",
       "      <td>...</td>\n",
       "      <td>None</td>\n",
       "      <td>None</td>\n",
       "      <td>None</td>\n",
       "      <td>1</td>\n",
       "      <td>2</td>\n",
       "      <td>Clifton</td>\n",
       "      <td>Cape Town</td>\n",
       "      <td>Western Cape</td>\n",
       "      <td>NaN</td>\n",
       "      <td>NaN</td>\n",
       "    </tr>\n",
       "    <tr>\n",
       "      <th>4180</th>\n",
       "      <td>POA</td>\n",
       "      <td>An exceptional and very glamorous Llandudno vi...</td>\n",
       "      <td>Property OverviewListing Number108778518Type o...</td>\n",
       "      <td>108778518</td>\n",
       "      <td>House</td>\n",
       "      <td>None</td>\n",
       "      <td>Yes</td>\n",
       "      <td>5</td>\n",
       "      <td>5</td>\n",
       "      <td>1</td>\n",
       "      <td>...</td>\n",
       "      <td>991</td>\n",
       "      <td>862</td>\n",
       "      <td>None</td>\n",
       "      <td>None</td>\n",
       "      <td>None</td>\n",
       "      <td>Llandudno</td>\n",
       "      <td>Cape Town</td>\n",
       "      <td>Western Cape</td>\n",
       "      <td>NaN</td>\n",
       "      <td>NaN</td>\n",
       "    </tr>\n",
       "    <tr>\n",
       "      <th>4587</th>\n",
       "      <td>POA</td>\n",
       "      <td>*Please note that the daily rate ranges from R...</td>\n",
       "      <td>Property OverviewListing Number115118688Type o...</td>\n",
       "      <td>115118688</td>\n",
       "      <td>House</td>\n",
       "      <td>No</td>\n",
       "      <td>Yes</td>\n",
       "      <td>5</td>\n",
       "      <td>4</td>\n",
       "      <td>1</td>\n",
       "      <td>...</td>\n",
       "      <td>530</td>\n",
       "      <td>None</td>\n",
       "      <td>None</td>\n",
       "      <td>None</td>\n",
       "      <td>None</td>\n",
       "      <td>Camps Bay</td>\n",
       "      <td>Cape Town</td>\n",
       "      <td>Western Cape</td>\n",
       "      <td>NaN</td>\n",
       "      <td>NaN</td>\n",
       "    </tr>\n",
       "    <tr>\n",
       "      <th>4610</th>\n",
       "      <td>POA</td>\n",
       "      <td>Clifton beach bungalow with entertainment area...</td>\n",
       "      <td>Property OverviewListing Number115153896Type o...</td>\n",
       "      <td>115153896</td>\n",
       "      <td>House</td>\n",
       "      <td>No</td>\n",
       "      <td>Yes</td>\n",
       "      <td>5</td>\n",
       "      <td>5</td>\n",
       "      <td>None</td>\n",
       "      <td>...</td>\n",
       "      <td>None</td>\n",
       "      <td>463</td>\n",
       "      <td>None</td>\n",
       "      <td>None</td>\n",
       "      <td>None</td>\n",
       "      <td>Clifton</td>\n",
       "      <td>Cape Town</td>\n",
       "      <td>Western Cape</td>\n",
       "      <td>NaN</td>\n",
       "      <td>NaN</td>\n",
       "    </tr>\n",
       "    <tr>\n",
       "      <th>4896</th>\n",
       "      <td>POA</td>\n",
       "      <td>A beautifully crafted furnished home with the ...</td>\n",
       "      <td>Property OverviewListing Number110813037Type o...</td>\n",
       "      <td>110813037</td>\n",
       "      <td>House</td>\n",
       "      <td>None</td>\n",
       "      <td>Yes</td>\n",
       "      <td>8</td>\n",
       "      <td>8</td>\n",
       "      <td>1</td>\n",
       "      <td>...</td>\n",
       "      <td>None</td>\n",
       "      <td>605</td>\n",
       "      <td>None</td>\n",
       "      <td>None</td>\n",
       "      <td>None</td>\n",
       "      <td>Llandudno</td>\n",
       "      <td>Cape Town</td>\n",
       "      <td>Western Cape</td>\n",
       "      <td>NaN</td>\n",
       "      <td>NaN</td>\n",
       "    </tr>\n",
       "    <tr>\n",
       "      <th>4899</th>\n",
       "      <td>POA</td>\n",
       "      <td>Welcome to this Constantia homestead, steeped ...</td>\n",
       "      <td>Property OverviewListing Number113953599Type o...</td>\n",
       "      <td>113953599</td>\n",
       "      <td>House</td>\n",
       "      <td>None</td>\n",
       "      <td>Yes</td>\n",
       "      <td>7</td>\n",
       "      <td>7</td>\n",
       "      <td>None</td>\n",
       "      <td>...</td>\n",
       "      <td>None</td>\n",
       "      <td>None</td>\n",
       "      <td>None</td>\n",
       "      <td>None</td>\n",
       "      <td>None</td>\n",
       "      <td>Constantia</td>\n",
       "      <td>Cape Town</td>\n",
       "      <td>Western Cape</td>\n",
       "      <td>NaN</td>\n",
       "      <td>NaN</td>\n",
       "    </tr>\n",
       "    <tr>\n",
       "      <th>5027</th>\n",
       "      <td>POA</td>\n",
       "      <td>Laika Villa is located on the slopes of the At...</td>\n",
       "      <td>Property OverviewListing Number106851597Type o...</td>\n",
       "      <td>106851597</td>\n",
       "      <td>House</td>\n",
       "      <td>None</td>\n",
       "      <td>Yes</td>\n",
       "      <td>7</td>\n",
       "      <td>5</td>\n",
       "      <td>1</td>\n",
       "      <td>...</td>\n",
       "      <td>None</td>\n",
       "      <td>None</td>\n",
       "      <td>None</td>\n",
       "      <td>None</td>\n",
       "      <td>None</td>\n",
       "      <td>Llandudno</td>\n",
       "      <td>Cape Town</td>\n",
       "      <td>Western Cape</td>\n",
       "      <td>NaN</td>\n",
       "      <td>NaN</td>\n",
       "    </tr>\n",
       "    <tr>\n",
       "      <th>11534</th>\n",
       "      <td>POA</td>\n",
       "      <td>19 Fortune Street, City Deep, Gauteng17 155 sq...</td>\n",
       "      <td>Property OverviewListing Number114533276Type o...</td>\n",
       "      <td>114533276</td>\n",
       "      <td>Industrial</td>\n",
       "      <td>None</td>\n",
       "      <td>None</td>\n",
       "      <td>&lt;NA&gt;</td>\n",
       "      <td>None</td>\n",
       "      <td>None</td>\n",
       "      <td>...</td>\n",
       "      <td>None</td>\n",
       "      <td>None</td>\n",
       "      <td>None</td>\n",
       "      <td>None</td>\n",
       "      <td>None</td>\n",
       "      <td>City Deep</td>\n",
       "      <td>Johannesburg</td>\n",
       "      <td>Gauteng</td>\n",
       "      <td>NaN</td>\n",
       "      <td>NaN</td>\n",
       "    </tr>\n",
       "  </tbody>\n",
       "</table>\n",
       "<p>12 rows × 24 columns</p>\n",
       "</div>"
      ],
      "text/plain": [
       "      price                               property_description  \\\n",
       "357     POA  Unit 1 within 29 Grey Street, Hilton - FS, Blo...   \n",
       "3728    POA  Salty ocean breezes, golden sunsets, breathtak...   \n",
       "3760    POA  Peering over the edge of Africa from its cliff...   \n",
       "3771    POA  Drawing inspiration from the whitewashed villa...   \n",
       "3837    POA  With its gaze fixed to the horizon, this beach...   \n",
       "4180    POA  An exceptional and very glamorous Llandudno vi...   \n",
       "4587    POA  *Please note that the daily rate ranges from R...   \n",
       "4610    POA  Clifton beach bungalow with entertainment area...   \n",
       "4896    POA  A beautifully crafted furnished home with the ...   \n",
       "4899    POA  Welcome to this Constantia homestead, steeped ...   \n",
       "5027    POA  Laika Villa is located on the slopes of the At...   \n",
       "11534   POA  19 Fortune Street, City Deep, Gauteng17 155 sq...   \n",
       "\n",
       "                                       property_features Listing Number  \\\n",
       "357    Property OverviewListing Number114774738Type o...      114774738   \n",
       "3728   Property OverviewListing Number115605901Type o...      115605901   \n",
       "3760   Property OverviewListing Number115594664Type o...      115594664   \n",
       "3771   Property OverviewListing Number115613951Type o...      115613951   \n",
       "3837   Property OverviewListing Number115606187Type o...      115606187   \n",
       "4180   Property OverviewListing Number108778518Type o...      108778518   \n",
       "4587   Property OverviewListing Number115118688Type o...      115118688   \n",
       "4610   Property OverviewListing Number115153896Type o...      115153896   \n",
       "4896   Property OverviewListing Number110813037Type o...      110813037   \n",
       "4899   Property OverviewListing Number113953599Type o...      113953599   \n",
       "5027   Property OverviewListing Number106851597Type o...      106851597   \n",
       "11534  Property OverviewListing Number114533276Type o...      114533276   \n",
       "\n",
       "      Type of Property Pets Allowed Furnished  Bedrooms Bathrooms Kitchen  \\\n",
       "357         Industrial         None        No      <NA>      None    None   \n",
       "3728             House           No       Yes         4         6       2   \n",
       "3760             House           No       Yes         5         7       2   \n",
       "3771             House         None       Yes         5         5       2   \n",
       "3837             House           No       Yes         4         5       1   \n",
       "4180             House         None       Yes         5         5       1   \n",
       "4587             House           No       Yes         5         4       1   \n",
       "4610             House           No       Yes         5         5    None   \n",
       "4896             House         None       Yes         8         8       1   \n",
       "4899             House         None       Yes         7         7    None   \n",
       "5027             House         None       Yes         7         5       1   \n",
       "11534       Industrial         None      None      <NA>      None    None   \n",
       "\n",
       "       ... Erf Size (m²) Floor Area (m²) Garden  Pool Garage      suburb  \\\n",
       "357    ...          None            None   None  None   None      Hilton   \n",
       "3728   ...          None            None      1     1      1  Bantry Bay   \n",
       "3760   ...          None            None   None     1      1     Clifton   \n",
       "3771   ...          None            None   None     1      1    Fresnaye   \n",
       "3837   ...          None            None   None     1      2     Clifton   \n",
       "4180   ...           991             862   None  None   None   Llandudno   \n",
       "4587   ...           530            None   None  None   None   Camps Bay   \n",
       "4610   ...          None             463   None  None   None     Clifton   \n",
       "4896   ...          None             605   None  None   None   Llandudno   \n",
       "4899   ...          None            None   None  None   None  Constantia   \n",
       "5027   ...          None            None   None  None   None   Llandudno   \n",
       "11534  ...          None            None   None  None   None   City Deep   \n",
       "\n",
       "               city      province price_type price (in rands)  \n",
       "357    Bloemfontein    Free State        NaN              NaN  \n",
       "3728      Cape Town  Western Cape        NaN              NaN  \n",
       "3760      Cape Town  Western Cape        NaN              NaN  \n",
       "3771      Cape Town  Western Cape        NaN              NaN  \n",
       "3837      Cape Town  Western Cape        NaN              NaN  \n",
       "4180      Cape Town  Western Cape        NaN              NaN  \n",
       "4587      Cape Town  Western Cape        NaN              NaN  \n",
       "4610      Cape Town  Western Cape        NaN              NaN  \n",
       "4896      Cape Town  Western Cape        NaN              NaN  \n",
       "4899      Cape Town  Western Cape        NaN              NaN  \n",
       "5027      Cape Town  Western Cape        NaN              NaN  \n",
       "11534  Johannesburg       Gauteng        NaN              NaN  \n",
       "\n",
       "[12 rows x 24 columns]"
      ]
     },
     "execution_count": 28,
     "metadata": {},
     "output_type": "execute_result"
    }
   ],
   "source": [
    "# Visualize the rows where price_type is null\n",
    "results_df[results_df['price_type'].isna()]"
   ]
  },
  {
   "cell_type": "markdown",
   "id": "35c8cfb8",
   "metadata": {},
   "source": [
    "Identify price columns that are equal to POA and contain the price type and those without. "
   ]
  },
  {
   "cell_type": "code",
   "execution_count": 29,
   "id": "b742f58d",
   "metadata": {},
   "outputs": [
    {
     "name": "stdout",
     "output_type": "stream",
     "text": [
      "There are 217 listings with 'POA' in the price column.\n"
     ]
    }
   ],
   "source": [
    "# Get the number of rows in the dataset in the 'price' column that are equal to 'POA'\n",
    "poa_mask = results_df['price'].astype(\n",
    "    str).str.contains(\"POA\", case=False, na=False)\n",
    "num_poa = poa_mask.sum()\n",
    "\n",
    "# Print the total number of rows\n",
    "print(f\"There are {num_poa} listings with 'POA' in the price column.\")"
   ]
  },
  {
   "cell_type": "code",
   "execution_count": 30,
   "id": "a895e0c1",
   "metadata": {},
   "outputs": [],
   "source": [
    "# Identify POA rows with valid price_type\n",
    "poa_mask = results_df['price'].str.lower().str.startswith('poa')\n",
    "poa_with_type_mask = poa_mask & results_df['price_type'].notna() & (results_df['price_type'] != '')\n",
    "\n",
    "# Calculate averages for the suburb, Type of Property and price_type\n",
    "avg_prices = results_df[~poa_mask & results_df['price (in rands)'].notna()] \\\n",
    "    .groupby(['suburb', 'Type of Property', 'price_type'])['price (in rands)'] \\\n",
    "    .apply(lambda x: pd.to_numeric(x, errors='coerce').mean()) \\\n",
    "    .reset_index().rename(columns={'price (in rands)': 'price_avg'})\n",
    "    \n",
    "# Merge the averages into the original DataFrame\n",
    "results_df = results_df.merge(avg_prices, on=['suburb', 'Type of Property', 'price_type'], how='left')\n",
    "\n",
    "# Replace the POA with non-empty price_types with the averages\n",
    "results_df.loc[poa_with_type_mask,\n",
    "'price (in rands)'] = results_df.loc[poa_with_type_mask, 'price_avg']\n",
    "\n",
    "# Drop the POA rows without a price type\n",
    "results_df = results_df[~(poa_mask & ~poa_with_type_mask)]\n",
    "\n",
    "# Drop the helper column\n",
    "results_df.drop(columns=['price_avg'], inplace=True)"
   ]
  },
  {
   "cell_type": "code",
   "execution_count": 31,
   "id": "a39ae2d8",
   "metadata": {},
   "outputs": [
    {
     "name": "stdout",
     "output_type": "stream",
     "text": [
      "Remaining 'POA': 0\n",
      "Remaining nulls in 'price (in rands)': 12\n"
     ]
    }
   ],
   "source": [
    "print(\"Remaining 'POA':\", results_df['price'].str.lower().eq('poa').sum())\n",
    "print(\"Remaining nulls in 'price (in rands)':\",\n",
    "      results_df['price (in rands)'].isna().sum())"
   ]
  },
  {
   "cell_type": "code",
   "execution_count": 32,
   "id": "47cb16ed",
   "metadata": {},
   "outputs": [
    {
     "data": {
      "application/vnd.microsoft.datawrangler.viewer.v0+json": {
       "columns": [
        {
         "name": "index",
         "rawType": "int64",
         "type": "integer"
        },
        {
         "name": "price",
         "rawType": "object",
         "type": "string"
        },
        {
         "name": "property_description",
         "rawType": "object",
         "type": "string"
        },
        {
         "name": "property_features",
         "rawType": "object",
         "type": "string"
        },
        {
         "name": "Listing Number",
         "rawType": "object",
         "type": "string"
        },
        {
         "name": "Type of Property",
         "rawType": "object",
         "type": "string"
        },
        {
         "name": "Pets Allowed",
         "rawType": "object",
         "type": "unknown"
        },
        {
         "name": "Furnished",
         "rawType": "object",
         "type": "unknown"
        },
        {
         "name": "Bedrooms",
         "rawType": "Int64",
         "type": "integer"
        },
        {
         "name": "Bathrooms",
         "rawType": "object",
         "type": "unknown"
        },
        {
         "name": "Kitchen",
         "rawType": "object",
         "type": "unknown"
        },
        {
         "name": "Lounge",
         "rawType": "object",
         "type": "unknown"
        },
        {
         "name": "Dining Room",
         "rawType": "object",
         "type": "unknown"
        },
        {
         "name": "Parking",
         "rawType": "object",
         "type": "unknown"
        },
        {
         "name": "Backup Water",
         "rawType": "object",
         "type": "unknown"
        },
        {
         "name": "Erf Size (m²)",
         "rawType": "object",
         "type": "unknown"
        },
        {
         "name": "Floor Area (m²)",
         "rawType": "object",
         "type": "unknown"
        },
        {
         "name": "Garden",
         "rawType": "object",
         "type": "unknown"
        },
        {
         "name": "Pool",
         "rawType": "object",
         "type": "unknown"
        },
        {
         "name": "Garage",
         "rawType": "object",
         "type": "unknown"
        },
        {
         "name": "suburb",
         "rawType": "object",
         "type": "string"
        },
        {
         "name": "city",
         "rawType": "object",
         "type": "string"
        },
        {
         "name": "province",
         "rawType": "object",
         "type": "string"
        },
        {
         "name": "price_type",
         "rawType": "object",
         "type": "string"
        },
        {
         "name": "price (in rands)",
         "rawType": "float64",
         "type": "float"
        }
       ],
       "ref": "84209603-7005-4b29-a151-e72abfefd390",
       "rows": [
        [
         "4246",
         "POAPer Day",
         "Positioned in the prestigious Fresnaye neighborhood, this brand new four-bedroom  apartment offers a serene blend of sophistication and comfort, perfect for those seeking a luxurious coastal retreat.Each of the four spacious bedrooms are ensuite, with thoughtfully designed bathrooms. The main suite boasts a full bathroom, a walk-in closet and direct access to the terrace ensuring a private oasis for relaxation.The apartment’s interiors exude elegance, featuring premium Oggie herring bone flooring and top-of-the-range finishes.The open-plan kitchen, both functional and stylish, is ideal for entertaining, while the formal and informal lounges provide versatile spaces for leisure.Every detail of the décor has been carefully curated to create an atmosphere of calmsophistication.Step outside onto the expansive terrace, complete with a wooden deck and sparkling pool perfect for soaking up the sun with the back drop of the ocean, or wow your guests with a braai in true “South African style” comfortably seated at the stylish ten seater dining table.Practicality meets luxury with three secure parking bays and direct lift access, ensuring convenience at every turn.Whether you’re savoring the sea breeze or indulging in the apartment’s refined amenities, this property promises an unparalleled living experience in one of Cape Town’s most sought-after locations.Book your stay and immerse yourself in the ultimate coastal lifestyle.Read more...",
         "Property OverviewListing Number115374518Type of PropertyApartment / FlatRoomsBedroom4Bathroom4.5Kitchen1External FeaturesParking3Pool1",
         "115374518",
         "Apartment / Flat",
         null,
         null,
         "4",
         "4",
         "1",
         null,
         null,
         "3",
         null,
         null,
         null,
         null,
         "1",
         null,
         "Fresnaye",
         "Cape Town",
         "Western Cape",
         "Per Day",
         null
        ],
        [
         "4586",
         "POAPer Day",
         "Escape to Paradise...Welcome to a world of enchantment and beauty, where luxury and artistry harmoniously intertwine. This magnificent villa is nestled within a secluded luxury estate, revealing its splendour against the breathtaking backdrop of the Constantiaberg mountain.Ascending three levels, this 2000sq m (21,500sq ft) modern masterpiece showcases architectural brilliance. Its design seamlessly blends with the majestic mountain landscape, offering panoramic vistas that extend beyond the Stellenbosch and Franschhoek mountains, caressing the  shores of False Bay.As you step through the grand entrance, tranquillity envelops you. The interior unfolds before you, a mesmerizing display of grandeur and style, meticulously crafted to embrace the natural surroundings. The spacious livingroom, dining room, and chef's kitchen are bathed in the soft glow of sunlight filtering through the towering glazed windows, casting dancing shadows upon the gas-lit fireplace.Spread across three levels, this villa provides ample space, ideal for family vacations, yoga retreats, corporate functions, or destination weddings. It caters to your every desire, ensuring uncompromised comfort and luxury.The expansive terrace beckons you to immerse yourself in leisure. Adjacent to three interconnected pools, a water slide with a swing suspended over the middle pool promises endless fun and laughter. Whether you seek socializing, sunbathing, or simply soaking up the enchanting atmosphere of the Western Cape, this open-air oasis epitomizes indulgence.An al fresco dining area invites you to savour culinary delights, while a lounge seating area awaits your evening drinks, providing front-row seats to witness breath-taking sunsets. For intimate gatherings, a boma fire-pit invites you to share stories and warmth by the boma. As the night descends, the 12-seater cinema, hot tub, games room, putting green, sauna, gym, and boma fireplace offer endless entertainment and relaxation.With seven opulent bedroom suites, including a separate guest apartment with a private entrance, every anticipated need is catered for. Each suite boasts lavish en-suite facilities, private terraces, and panoramic views that transport you to a world of boundless beauty. The dedicated staff and private chef are on hand to cater to your every desire should you so request, ensuring an unforgettable experience.Step into a realm where dreams become reality, where luxury seamlessly merges with nature's splendour.SEASONAL RATES15 December to 11 January   R67 000 per day12 January to 28 February    R50 000 per day1 March to 30 April                  R40 000 per day1 May to 30 June                     R20 000 per day1 July to 31 August                   R25 000 per day1 September to 31 October    R30 000 per day1 November to 14 December R45 000 per dayRead more...",
         "Property OverviewListing Number112682529Type of PropertyHouseLifestyleEstateDeposit RequirementsDeposit Required: 50000FurnishedYesRoomsBedroomBathrooms7KitchenUnder Counter OvenRoomsAir ConditionerExternal FeaturesGarageParking6PoolOther FeaturesSecurityAlarm SystemSpecial FeatureSauna,Spa PoolInternet AccessFibre",
         "112682529",
         "House",
         null,
         "Yes",
         "7",
         "7",
         null,
         null,
         null,
         "6",
         null,
         null,
         null,
         null,
         null,
         null,
         "Zwaanswyk",
         "Cape Town",
         "Western Cape",
         "Per Day",
         null
        ],
        [
         "4836",
         "POAPer Day",
         "This magnificent penthouse located in Barley Bay spans 2 levels and offers uninterrupted ocean views.The entry level comprises an open plan kitchen dining and lounge area which flows directly onto a wrap around terrace complete with pool, outdoor lounging & dining area with outdoor braai, perfect for entertaining; there is also a guest toilet on this level.Upstairs comprises beautiful master suite with private terrace and magnificent ocean views as well as another 2 bedrooms, one of which is ensuite and a 3rd bathroom.Additional features include:2 secure parking baysWifi UncappedCleaning on requestDSTVAvailability on Request",
         "Property OverviewListing Number111244618Type of PropertyApartment / FlatFloor Area286 m²RoomsBedroom3Bathroom3.5External FeaturesParking2Pool1",
         "111244618",
         "Apartment / Flat",
         null,
         null,
         "3",
         "3",
         null,
         null,
         null,
         "2",
         null,
         null,
         "286",
         null,
         "1",
         null,
         "Bakoven",
         "Cape Town",
         "Western Cape",
         "Per Day",
         null
        ],
        [
         "4863",
         "POAPer Day",
         "Discover Luxury Living in the Heart of Cape TownStep into a world where luxury meets comfort—welcome to one of Cape Town's premier apartments. As you enter, you are immediately enveloped in a sophisticated ambiance that showcases modern, high-quality design. Every detail has been meticulously crafted to create a serene yet stylish living space.The expansive open-plan layout effortlessly blends the kitchen, lounge, and dining area, perfect for both entertaining and relaxation. Floor-to-ceiling glass doors lead you to an expansive pool terrace that offers breathtaking views of the iconic Atlantic Seaboard. Picture yourself soaking up the sun by the pool, surrounded by stunning vistas that change with the light of the day.This remarkable residence features four generous bedrooms,including two that open directly onto the entertainment terrace, providing seamless access to outdoor living. A separate flatlet and a luxurious fourth bedroom suite offer additional privacy and versatility.Parking is a breeze with space for three vehicles, ensuring convenience for you and your guests.Don’t miss your chance to secure this exquisite holiday accommodation. Contact us today to make your dream getaway a reality!Read more...",
         "Property OverviewListing Number114968205Type of PropertyApartment / FlatRoomsBedroom4Bathroom4.5Kitchen1External FeaturesParking3Pool1",
         "114968205",
         "Apartment / Flat",
         null,
         null,
         "4",
         "4",
         "1",
         null,
         null,
         "3",
         null,
         null,
         null,
         null,
         "1",
         null,
         "Fresnaye",
         "Cape Town",
         "Western Cape",
         "Per Day",
         null
        ],
        [
         "4991",
         "POAPer Day",
         "*Available 01 May 2025 - 31 August 2025*If it is only the finest that you have been searching for, look no further than this awe-inspiring residence located in the heart of Bantry Bay.With uninterrupted sea views, this Penthouse welcomes one to a sweeping open planned pool and entertainment area that can be accessed either through the downstairs staircase, or via the private elevator that runs through all three floors of the property.There are 3 bedrooms, fully equipped kitchen,  large open plan lounge and dining room with beautiful views and an outdoor deck with swimming pool and ample seating area.The property itself is completed with only the finest finishes throughout.",
         "Property OverviewListing Number111859212Type of PropertyApartment / FlatFurnishedYesRoomsBedroom3Bathroom4Kitchen1Office/study1Family/TV Room1Bar1External FeaturesParking2Pool1Other FeaturesSecurity1Internet AccessFibre",
         "111859212",
         "Apartment / Flat",
         null,
         "Yes",
         "3",
         "4",
         "1",
         null,
         null,
         "2",
         null,
         null,
         null,
         null,
         "1",
         null,
         "Bantry Bay",
         "Cape Town",
         "Western Cape",
         "Per Day",
         null
        ],
        [
         "7450",
         "POAPer m²",
         "1.\tOffices with large windows2.\tKitchenette3.\tGreat exposure on Atlas Road4.\tEasy access to major highways5.\tIn secure Office Park6.\tGood advertising potential7.\tAmple Ablutions8.\tAmple ParkingCan be used for:•\tHead Office•\tCall Center•\tSales Office•\tTraining Center•\tDr. Office•\tDentistry•\tGym Space",
         "Property OverviewListing Number115523149Type of PropertyCommercial PropertyStreet AddressAA10 - Cnr Atlas & Paul Smit Street, HeriotdaleDescriptionOffice,Distribution CentreLease TypeTriple Net LeaseAvailability Date28 February 2025Floor Area235 m²BuildingBuilding NameAtlas Park",
         "115523149",
         "Commercial",
         null,
         null,
         null,
         null,
         null,
         null,
         null,
         null,
         null,
         null,
         "235",
         null,
         null,
         null,
         "Heriotdale",
         "Johannesburg",
         "Gauteng",
         "Per m²",
         null
        ],
        [
         "8317",
         "POAPer m²",
         "1.\tAmple Parking2.\tOffices with large windows3.\tKitchenette4.\tGreat exposure on Atlas Road5.\tAmple Ablutions6.\tIn secure Office Park7.\tGood advertising potential8.\tEasy access to major highwaysCan be used for:•\tHead Office•\tCall Center•\tSales Office•\tTraining Center•\tDr. Office•\tDentistry•\tGym Space",
         "Property OverviewListing Number115418255Type of PropertyCommercial PropertyStreet AddressAA13-2 - Cnr Atlas & Paul Smit Street, HeriotdaleDescriptionOffice,RetailLease TypeTriple Net LeaseAvailability Date28 February 2025Floor Area260 m²BuildingBuilding NameAtlas Park",
         "115418255",
         "Commercial",
         null,
         null,
         null,
         null,
         null,
         null,
         null,
         null,
         null,
         null,
         "260",
         null,
         null,
         null,
         "Heriotdale",
         "Johannesburg",
         "Gauteng",
         "Per m²",
         null
        ],
        [
         "8706",
         "POAPer Month",
         "Discover this spacious 500 square meter property available for lease, ideal for a furniture manufacturing workshop or clothing manufacturing.With its versatile layout and ample space, this property offers flexibility for various business needs. Whether you're in the furniture manufacturing industry or clothing production, this space provides the room required for your operations.Situated in a convenient location, this property presents an excellent opportunity for businesses looking to establish or expand their manufacturing facilities.",
         "Property OverviewListing Number114459245Type of PropertyIndustrial PropertyStreet AddressCorner Village Road & Ntemi Piliso Street, WestgateLease TypeFully Serviced Lease (Gross Lease)Erf Size500 m²Floor Area500 m²FurnishedNo",
         "114459245",
         "Industrial",
         null,
         "No",
         null,
         null,
         null,
         null,
         null,
         null,
         null,
         "500",
         "500",
         null,
         null,
         null,
         "Westgate",
         "Johannesburg",
         "Gauteng",
         "Per Month",
         null
        ],
        [
         "8758",
         "POAPer m²",
         "1.\tOffices2.\tAmple Kitchenette3.\tAmple Ablutions4.\tAmple Parking5.\tAccess controlled Industrial Park with 24hr security6.\tEasy access to major highways and public transportation7.\tClose to a container depo8.\t3 Phase PowerCan be used for:•\tSales Office•\tCall Center•\tTraining Center•\tDistribution•\tFactory•\tStorage",
         "Property OverviewListing Number115517306Type of PropertyCommercial PropertyStreet AddressB11-2 - Lower Germiston Road, HeriotdaleDescriptionOffice,Storage,Factory,Distribution CentreLease TypeTriple Net LeaseAvailability Date27 February 2025Floor Area225 m²BuildingBuilding NameKrost Park",
         "115517306",
         "Commercial",
         null,
         null,
         null,
         null,
         null,
         null,
         null,
         null,
         null,
         null,
         "225",
         null,
         null,
         null,
         "Heriotdale",
         "Johannesburg",
         "Gauteng",
         "Per m²",
         null
        ],
        [
         "12308",
         "POAPer Month",
         "This rarely available 3,788sqm industrial warehouse in Nelspruit offers a prime opportunity for businesses seeking a well-located, high-functionality space. Positioned adjacent to the N4 highway, this property provides unparalleled access to major transport routes, making it ideal for logistics, warehousing, and distribution operations.The warehouse sits on a hard-top stand, ensuring easy truck access, and is equipped with 400A Three-Phase power, catering to heavy-duty industrial requirements.Ample open parking and shade-net bays further enhance convenience for staff and visitors.With its generous floor area, strategic location, and excellent infrastructure, this warehouse is a standout opportunity in Nelspruit’s industrial market.Contact Morne Flewin at Kellaprince Propertiestoday to arrange a viewing!Read more...",
         "Property OverviewListing Number113997397Type of PropertyIndustrial PropertyAvailability Date01 May 2024Occupation Date01 May 2024Floor Area3 788 m²FurnishedNo",
         "113997397",
         "Industrial",
         null,
         "No",
         null,
         null,
         null,
         null,
         null,
         null,
         null,
         null,
         null,
         null,
         null,
         null,
         "Nelsville",
         "Nelspruit",
         "Mpumalanga",
         "Per Month",
         null
        ],
        [
         "13346",
         "POAPer Month",
         "This outstanding commercial property offers 2,000m² of space available for development, tailored to meet your business needs in the bustling N1 Industrial Park.Property Highlights:•\tCustomizable Space: The property can be developed according to your business requirements, whether for warehousing, retail, offices, or industrial use.•\tSize: A generous 2,000m² of space, perfect for large-scale operations or a multi-tenant facility.•\tPrime Location: It is located in the heart of the N1 Industrial Park, ensuring high visibility and accessibility for your business.•\tBusy Area: The N1 Industrial Park is a highly sought-after area with heavy foot and vehicle traffic, providing excellent exposure for your business.Why Choose This Property?•\tDevelopment options tailored to your needs,providing flexibility.•\tHigh exposure on major transport routes.•\tIdeal for businesses looking to expand or establish a prominent presence in the area.Book your space now! Contact us to discuss how we can tailor this property to suit your business and secure a prime location in one of the area’s busiest industrial hubs.Before a viewing, a formal rental application will be done.Deposit will depend on the Credit Score.We commit ourselves to:*Trustful and honest advice*Professional attitude, assessment, and understanding of your needs*Confidentiality and protection of your interest*Negotiate the best possible agreementMake the important call TODAY!Please also click on the logo to your right to see all the properties available with us.Read more...",
         "Property OverviewListing Number115506400Type of PropertyVacant Land / PlotDescriptionNew DevelopmentErf Size1 940 m²",
         "115506400",
         "Vacant Land",
         null,
         null,
         null,
         null,
         null,
         null,
         null,
         null,
         null,
         null,
         null,
         null,
         null,
         null,
         "Magna Via Industrial",
         "Polokwane",
         "Limpopo",
         "Per Month",
         null
        ],
        [
         "13904",
         "POAPer m²",
         "An exciting opportunity awaits in this newly developed Mini Industrial Park, offering versatile warehouse spaces to meet your business needs.Key Features:•\tFlexible Space Options: Warehouses available in sizes ranging from 200m² to 650m², perfect for various industrial, storage, or operational purposes.•\tPrime Location: Strategically situated for excellent access to major transport routes and business hubs.•\tModern Infrastructure: State-of-the-art facilities designed to support efficient operations.•\tCustomizable Units: Opportunity to tailor the space to suit your specific requirements.Why Choose This Industrial Park?•\tHigh visibility and accessibility.•\tIdeal for businesses of all sizes, from start-ups to established enterprises.•\tAmple parking and manoeuvring space fortrucks and deliveries.Secure your warehouse space today! Contact us now to book a unit and explore how this prime industrial park can support your business growth.Before a viewing, a formal rental application will be done.Deposit will depend on the Credit Score.We commit ourselves to:*Trustful and honest advice*Professional attitude, assessment, and understanding of your needs*Confidentiality and protection of your interest*Negotiate the best possible agreementMake the important call TODAY!Please also click on the logo to your right to see all the properties available with us.Read more...",
         "Property OverviewListing Number115507851Type of PropertyVacant Land / PlotErf Size14 937 m²",
         "115507851",
         "Vacant Land",
         null,
         null,
         null,
         null,
         null,
         null,
         null,
         null,
         null,
         null,
         null,
         null,
         null,
         null,
         "Magna Via Industrial",
         "Polokwane",
         "Limpopo",
         "Per m²",
         null
        ]
       ],
       "shape": {
        "columns": 24,
        "rows": 12
       }
      },
      "text/html": [
       "<div>\n",
       "<style scoped>\n",
       "    .dataframe tbody tr th:only-of-type {\n",
       "        vertical-align: middle;\n",
       "    }\n",
       "\n",
       "    .dataframe tbody tr th {\n",
       "        vertical-align: top;\n",
       "    }\n",
       "\n",
       "    .dataframe thead th {\n",
       "        text-align: right;\n",
       "    }\n",
       "</style>\n",
       "<table border=\"1\" class=\"dataframe\">\n",
       "  <thead>\n",
       "    <tr style=\"text-align: right;\">\n",
       "      <th></th>\n",
       "      <th>price</th>\n",
       "      <th>property_description</th>\n",
       "      <th>property_features</th>\n",
       "      <th>Listing Number</th>\n",
       "      <th>Type of Property</th>\n",
       "      <th>Pets Allowed</th>\n",
       "      <th>Furnished</th>\n",
       "      <th>Bedrooms</th>\n",
       "      <th>Bathrooms</th>\n",
       "      <th>Kitchen</th>\n",
       "      <th>...</th>\n",
       "      <th>Erf Size (m²)</th>\n",
       "      <th>Floor Area (m²)</th>\n",
       "      <th>Garden</th>\n",
       "      <th>Pool</th>\n",
       "      <th>Garage</th>\n",
       "      <th>suburb</th>\n",
       "      <th>city</th>\n",
       "      <th>province</th>\n",
       "      <th>price_type</th>\n",
       "      <th>price (in rands)</th>\n",
       "    </tr>\n",
       "  </thead>\n",
       "  <tbody>\n",
       "    <tr>\n",
       "      <th>4246</th>\n",
       "      <td>POAPer Day</td>\n",
       "      <td>Positioned in the prestigious Fresnaye neighbo...</td>\n",
       "      <td>Property OverviewListing Number115374518Type o...</td>\n",
       "      <td>115374518</td>\n",
       "      <td>Apartment / Flat</td>\n",
       "      <td>None</td>\n",
       "      <td>None</td>\n",
       "      <td>4</td>\n",
       "      <td>4</td>\n",
       "      <td>1</td>\n",
       "      <td>...</td>\n",
       "      <td>None</td>\n",
       "      <td>None</td>\n",
       "      <td>None</td>\n",
       "      <td>1</td>\n",
       "      <td>None</td>\n",
       "      <td>Fresnaye</td>\n",
       "      <td>Cape Town</td>\n",
       "      <td>Western Cape</td>\n",
       "      <td>Per Day</td>\n",
       "      <td>NaN</td>\n",
       "    </tr>\n",
       "    <tr>\n",
       "      <th>4586</th>\n",
       "      <td>POAPer Day</td>\n",
       "      <td>Escape to Paradise...Welcome to a world of enc...</td>\n",
       "      <td>Property OverviewListing Number112682529Type o...</td>\n",
       "      <td>112682529</td>\n",
       "      <td>House</td>\n",
       "      <td>None</td>\n",
       "      <td>Yes</td>\n",
       "      <td>7</td>\n",
       "      <td>7</td>\n",
       "      <td>None</td>\n",
       "      <td>...</td>\n",
       "      <td>None</td>\n",
       "      <td>None</td>\n",
       "      <td>None</td>\n",
       "      <td>None</td>\n",
       "      <td>None</td>\n",
       "      <td>Zwaanswyk</td>\n",
       "      <td>Cape Town</td>\n",
       "      <td>Western Cape</td>\n",
       "      <td>Per Day</td>\n",
       "      <td>NaN</td>\n",
       "    </tr>\n",
       "    <tr>\n",
       "      <th>4836</th>\n",
       "      <td>POAPer Day</td>\n",
       "      <td>This magnificent penthouse located in Barley B...</td>\n",
       "      <td>Property OverviewListing Number111244618Type o...</td>\n",
       "      <td>111244618</td>\n",
       "      <td>Apartment / Flat</td>\n",
       "      <td>None</td>\n",
       "      <td>None</td>\n",
       "      <td>3</td>\n",
       "      <td>3</td>\n",
       "      <td>None</td>\n",
       "      <td>...</td>\n",
       "      <td>None</td>\n",
       "      <td>286</td>\n",
       "      <td>None</td>\n",
       "      <td>1</td>\n",
       "      <td>None</td>\n",
       "      <td>Bakoven</td>\n",
       "      <td>Cape Town</td>\n",
       "      <td>Western Cape</td>\n",
       "      <td>Per Day</td>\n",
       "      <td>NaN</td>\n",
       "    </tr>\n",
       "    <tr>\n",
       "      <th>4863</th>\n",
       "      <td>POAPer Day</td>\n",
       "      <td>Discover Luxury Living in the Heart of Cape To...</td>\n",
       "      <td>Property OverviewListing Number114968205Type o...</td>\n",
       "      <td>114968205</td>\n",
       "      <td>Apartment / Flat</td>\n",
       "      <td>None</td>\n",
       "      <td>None</td>\n",
       "      <td>4</td>\n",
       "      <td>4</td>\n",
       "      <td>1</td>\n",
       "      <td>...</td>\n",
       "      <td>None</td>\n",
       "      <td>None</td>\n",
       "      <td>None</td>\n",
       "      <td>1</td>\n",
       "      <td>None</td>\n",
       "      <td>Fresnaye</td>\n",
       "      <td>Cape Town</td>\n",
       "      <td>Western Cape</td>\n",
       "      <td>Per Day</td>\n",
       "      <td>NaN</td>\n",
       "    </tr>\n",
       "    <tr>\n",
       "      <th>4991</th>\n",
       "      <td>POAPer Day</td>\n",
       "      <td>*Available 01 May 2025 - 31 August 2025*If it ...</td>\n",
       "      <td>Property OverviewListing Number111859212Type o...</td>\n",
       "      <td>111859212</td>\n",
       "      <td>Apartment / Flat</td>\n",
       "      <td>None</td>\n",
       "      <td>Yes</td>\n",
       "      <td>3</td>\n",
       "      <td>4</td>\n",
       "      <td>1</td>\n",
       "      <td>...</td>\n",
       "      <td>None</td>\n",
       "      <td>None</td>\n",
       "      <td>None</td>\n",
       "      <td>1</td>\n",
       "      <td>None</td>\n",
       "      <td>Bantry Bay</td>\n",
       "      <td>Cape Town</td>\n",
       "      <td>Western Cape</td>\n",
       "      <td>Per Day</td>\n",
       "      <td>NaN</td>\n",
       "    </tr>\n",
       "    <tr>\n",
       "      <th>7450</th>\n",
       "      <td>POAPer m²</td>\n",
       "      <td>1.\\tOffices with large windows2.\\tKitchenette3...</td>\n",
       "      <td>Property OverviewListing Number115523149Type o...</td>\n",
       "      <td>115523149</td>\n",
       "      <td>Commercial</td>\n",
       "      <td>None</td>\n",
       "      <td>None</td>\n",
       "      <td>&lt;NA&gt;</td>\n",
       "      <td>None</td>\n",
       "      <td>None</td>\n",
       "      <td>...</td>\n",
       "      <td>None</td>\n",
       "      <td>235</td>\n",
       "      <td>None</td>\n",
       "      <td>None</td>\n",
       "      <td>None</td>\n",
       "      <td>Heriotdale</td>\n",
       "      <td>Johannesburg</td>\n",
       "      <td>Gauteng</td>\n",
       "      <td>Per m²</td>\n",
       "      <td>NaN</td>\n",
       "    </tr>\n",
       "    <tr>\n",
       "      <th>8317</th>\n",
       "      <td>POAPer m²</td>\n",
       "      <td>1.\\tAmple Parking2.\\tOffices with large window...</td>\n",
       "      <td>Property OverviewListing Number115418255Type o...</td>\n",
       "      <td>115418255</td>\n",
       "      <td>Commercial</td>\n",
       "      <td>None</td>\n",
       "      <td>None</td>\n",
       "      <td>&lt;NA&gt;</td>\n",
       "      <td>None</td>\n",
       "      <td>None</td>\n",
       "      <td>...</td>\n",
       "      <td>None</td>\n",
       "      <td>260</td>\n",
       "      <td>None</td>\n",
       "      <td>None</td>\n",
       "      <td>None</td>\n",
       "      <td>Heriotdale</td>\n",
       "      <td>Johannesburg</td>\n",
       "      <td>Gauteng</td>\n",
       "      <td>Per m²</td>\n",
       "      <td>NaN</td>\n",
       "    </tr>\n",
       "    <tr>\n",
       "      <th>8706</th>\n",
       "      <td>POAPer Month</td>\n",
       "      <td>Discover this spacious 500 square meter proper...</td>\n",
       "      <td>Property OverviewListing Number114459245Type o...</td>\n",
       "      <td>114459245</td>\n",
       "      <td>Industrial</td>\n",
       "      <td>None</td>\n",
       "      <td>No</td>\n",
       "      <td>&lt;NA&gt;</td>\n",
       "      <td>None</td>\n",
       "      <td>None</td>\n",
       "      <td>...</td>\n",
       "      <td>500</td>\n",
       "      <td>500</td>\n",
       "      <td>None</td>\n",
       "      <td>None</td>\n",
       "      <td>None</td>\n",
       "      <td>Westgate</td>\n",
       "      <td>Johannesburg</td>\n",
       "      <td>Gauteng</td>\n",
       "      <td>Per Month</td>\n",
       "      <td>NaN</td>\n",
       "    </tr>\n",
       "    <tr>\n",
       "      <th>8758</th>\n",
       "      <td>POAPer m²</td>\n",
       "      <td>1.\\tOffices2.\\tAmple Kitchenette3.\\tAmple Ablu...</td>\n",
       "      <td>Property OverviewListing Number115517306Type o...</td>\n",
       "      <td>115517306</td>\n",
       "      <td>Commercial</td>\n",
       "      <td>None</td>\n",
       "      <td>None</td>\n",
       "      <td>&lt;NA&gt;</td>\n",
       "      <td>None</td>\n",
       "      <td>None</td>\n",
       "      <td>...</td>\n",
       "      <td>None</td>\n",
       "      <td>225</td>\n",
       "      <td>None</td>\n",
       "      <td>None</td>\n",
       "      <td>None</td>\n",
       "      <td>Heriotdale</td>\n",
       "      <td>Johannesburg</td>\n",
       "      <td>Gauteng</td>\n",
       "      <td>Per m²</td>\n",
       "      <td>NaN</td>\n",
       "    </tr>\n",
       "    <tr>\n",
       "      <th>12308</th>\n",
       "      <td>POAPer Month</td>\n",
       "      <td>This rarely available 3,788sqm industrial ware...</td>\n",
       "      <td>Property OverviewListing Number113997397Type o...</td>\n",
       "      <td>113997397</td>\n",
       "      <td>Industrial</td>\n",
       "      <td>None</td>\n",
       "      <td>No</td>\n",
       "      <td>&lt;NA&gt;</td>\n",
       "      <td>None</td>\n",
       "      <td>None</td>\n",
       "      <td>...</td>\n",
       "      <td>None</td>\n",
       "      <td>None</td>\n",
       "      <td>None</td>\n",
       "      <td>None</td>\n",
       "      <td>None</td>\n",
       "      <td>Nelsville</td>\n",
       "      <td>Nelspruit</td>\n",
       "      <td>Mpumalanga</td>\n",
       "      <td>Per Month</td>\n",
       "      <td>NaN</td>\n",
       "    </tr>\n",
       "    <tr>\n",
       "      <th>13346</th>\n",
       "      <td>POAPer Month</td>\n",
       "      <td>This outstanding commercial property offers 2,...</td>\n",
       "      <td>Property OverviewListing Number115506400Type o...</td>\n",
       "      <td>115506400</td>\n",
       "      <td>Vacant Land</td>\n",
       "      <td>None</td>\n",
       "      <td>None</td>\n",
       "      <td>&lt;NA&gt;</td>\n",
       "      <td>None</td>\n",
       "      <td>None</td>\n",
       "      <td>...</td>\n",
       "      <td>None</td>\n",
       "      <td>None</td>\n",
       "      <td>None</td>\n",
       "      <td>None</td>\n",
       "      <td>None</td>\n",
       "      <td>Magna Via Industrial</td>\n",
       "      <td>Polokwane</td>\n",
       "      <td>Limpopo</td>\n",
       "      <td>Per Month</td>\n",
       "      <td>NaN</td>\n",
       "    </tr>\n",
       "    <tr>\n",
       "      <th>13904</th>\n",
       "      <td>POAPer m²</td>\n",
       "      <td>An exciting opportunity awaits in this newly d...</td>\n",
       "      <td>Property OverviewListing Number115507851Type o...</td>\n",
       "      <td>115507851</td>\n",
       "      <td>Vacant Land</td>\n",
       "      <td>None</td>\n",
       "      <td>None</td>\n",
       "      <td>&lt;NA&gt;</td>\n",
       "      <td>None</td>\n",
       "      <td>None</td>\n",
       "      <td>...</td>\n",
       "      <td>None</td>\n",
       "      <td>None</td>\n",
       "      <td>None</td>\n",
       "      <td>None</td>\n",
       "      <td>None</td>\n",
       "      <td>Magna Via Industrial</td>\n",
       "      <td>Polokwane</td>\n",
       "      <td>Limpopo</td>\n",
       "      <td>Per m²</td>\n",
       "      <td>NaN</td>\n",
       "    </tr>\n",
       "  </tbody>\n",
       "</table>\n",
       "<p>12 rows × 24 columns</p>\n",
       "</div>"
      ],
      "text/plain": [
       "              price                               property_description  \\\n",
       "4246     POAPer Day  Positioned in the prestigious Fresnaye neighbo...   \n",
       "4586     POAPer Day  Escape to Paradise...Welcome to a world of enc...   \n",
       "4836     POAPer Day  This magnificent penthouse located in Barley B...   \n",
       "4863     POAPer Day  Discover Luxury Living in the Heart of Cape To...   \n",
       "4991     POAPer Day  *Available 01 May 2025 - 31 August 2025*If it ...   \n",
       "7450      POAPer m²  1.\\tOffices with large windows2.\\tKitchenette3...   \n",
       "8317      POAPer m²  1.\\tAmple Parking2.\\tOffices with large window...   \n",
       "8706   POAPer Month  Discover this spacious 500 square meter proper...   \n",
       "8758      POAPer m²  1.\\tOffices2.\\tAmple Kitchenette3.\\tAmple Ablu...   \n",
       "12308  POAPer Month  This rarely available 3,788sqm industrial ware...   \n",
       "13346  POAPer Month  This outstanding commercial property offers 2,...   \n",
       "13904     POAPer m²  An exciting opportunity awaits in this newly d...   \n",
       "\n",
       "                                       property_features Listing Number  \\\n",
       "4246   Property OverviewListing Number115374518Type o...      115374518   \n",
       "4586   Property OverviewListing Number112682529Type o...      112682529   \n",
       "4836   Property OverviewListing Number111244618Type o...      111244618   \n",
       "4863   Property OverviewListing Number114968205Type o...      114968205   \n",
       "4991   Property OverviewListing Number111859212Type o...      111859212   \n",
       "7450   Property OverviewListing Number115523149Type o...      115523149   \n",
       "8317   Property OverviewListing Number115418255Type o...      115418255   \n",
       "8706   Property OverviewListing Number114459245Type o...      114459245   \n",
       "8758   Property OverviewListing Number115517306Type o...      115517306   \n",
       "12308  Property OverviewListing Number113997397Type o...      113997397   \n",
       "13346  Property OverviewListing Number115506400Type o...      115506400   \n",
       "13904  Property OverviewListing Number115507851Type o...      115507851   \n",
       "\n",
       "       Type of Property Pets Allowed Furnished  Bedrooms Bathrooms Kitchen  \\\n",
       "4246   Apartment / Flat         None      None         4         4       1   \n",
       "4586              House         None       Yes         7         7    None   \n",
       "4836   Apartment / Flat         None      None         3         3    None   \n",
       "4863   Apartment / Flat         None      None         4         4       1   \n",
       "4991   Apartment / Flat         None       Yes         3         4       1   \n",
       "7450         Commercial         None      None      <NA>      None    None   \n",
       "8317         Commercial         None      None      <NA>      None    None   \n",
       "8706         Industrial         None        No      <NA>      None    None   \n",
       "8758         Commercial         None      None      <NA>      None    None   \n",
       "12308        Industrial         None        No      <NA>      None    None   \n",
       "13346       Vacant Land         None      None      <NA>      None    None   \n",
       "13904       Vacant Land         None      None      <NA>      None    None   \n",
       "\n",
       "       ... Erf Size (m²) Floor Area (m²) Garden  Pool Garage  \\\n",
       "4246   ...          None            None   None     1   None   \n",
       "4586   ...          None            None   None  None   None   \n",
       "4836   ...          None             286   None     1   None   \n",
       "4863   ...          None            None   None     1   None   \n",
       "4991   ...          None            None   None     1   None   \n",
       "7450   ...          None             235   None  None   None   \n",
       "8317   ...          None             260   None  None   None   \n",
       "8706   ...           500             500   None  None   None   \n",
       "8758   ...          None             225   None  None   None   \n",
       "12308  ...          None            None   None  None   None   \n",
       "13346  ...          None            None   None  None   None   \n",
       "13904  ...          None            None   None  None   None   \n",
       "\n",
       "                     suburb          city      province price_type  \\\n",
       "4246               Fresnaye     Cape Town  Western Cape    Per Day   \n",
       "4586              Zwaanswyk     Cape Town  Western Cape    Per Day   \n",
       "4836                Bakoven     Cape Town  Western Cape    Per Day   \n",
       "4863               Fresnaye     Cape Town  Western Cape    Per Day   \n",
       "4991             Bantry Bay     Cape Town  Western Cape    Per Day   \n",
       "7450             Heriotdale  Johannesburg       Gauteng     Per m²   \n",
       "8317             Heriotdale  Johannesburg       Gauteng     Per m²   \n",
       "8706               Westgate  Johannesburg       Gauteng  Per Month   \n",
       "8758             Heriotdale  Johannesburg       Gauteng     Per m²   \n",
       "12308             Nelsville     Nelspruit    Mpumalanga  Per Month   \n",
       "13346  Magna Via Industrial     Polokwane       Limpopo  Per Month   \n",
       "13904  Magna Via Industrial     Polokwane       Limpopo     Per m²   \n",
       "\n",
       "      price (in rands)  \n",
       "4246               NaN  \n",
       "4586               NaN  \n",
       "4836               NaN  \n",
       "4863               NaN  \n",
       "4991               NaN  \n",
       "7450               NaN  \n",
       "8317               NaN  \n",
       "8706               NaN  \n",
       "8758               NaN  \n",
       "12308              NaN  \n",
       "13346              NaN  \n",
       "13904              NaN  \n",
       "\n",
       "[12 rows x 24 columns]"
      ]
     },
     "execution_count": 32,
     "metadata": {},
     "output_type": "execute_result"
    }
   ],
   "source": [
    "# Get the rows where price (in rands) is null\n",
    "results_df[results_df['price (in rands)'].isna()]"
   ]
  },
  {
   "cell_type": "code",
   "execution_count": 33,
   "id": "dd497659",
   "metadata": {},
   "outputs": [],
   "source": [
    "# Drop rows in the price (in rands) column that are null\n",
    "results_df = results_df.dropna(subset=['price (in rands)'])"
   ]
  },
  {
   "cell_type": "code",
   "execution_count": 34,
   "id": "60153147",
   "metadata": {},
   "outputs": [],
   "source": [
    "# Drop the price column as we do not need it anymore\n",
    "results_df.drop(columns=['price'], inplace=True)"
   ]
  },
  {
   "cell_type": "markdown",
   "id": "9e495a29",
   "metadata": {},
   "source": [
    "### Pets Allowed"
   ]
  },
  {
   "cell_type": "code",
   "execution_count": 35,
   "id": "c941d5a9",
   "metadata": {},
   "outputs": [
    {
     "data": {
      "text/plain": [
       "np.int64(10304)"
      ]
     },
     "execution_count": 35,
     "metadata": {},
     "output_type": "execute_result"
    }
   ],
   "source": [
    "results_df['Pets Allowed'].isnull().sum()"
   ]
  },
  {
   "cell_type": "code",
   "execution_count": 36,
   "id": "7fc285a8",
   "metadata": {},
   "outputs": [
    {
     "data": {
      "application/vnd.microsoft.datawrangler.viewer.v0+json": {
       "columns": [
        {
         "name": "Pets Allowed",
         "rawType": "object",
         "type": "string"
        },
        {
         "name": "count",
         "rawType": "int64",
         "type": "integer"
        }
       ],
       "ref": "028e9b06-9ce0-4d1c-8615-cf0e955611e0",
       "rows": [
        [
         "No",
         "2598"
        ],
        [
         "Yes",
         "1003"
        ]
       ],
       "shape": {
        "columns": 1,
        "rows": 2
       }
      },
      "text/plain": [
       "Pets Allowed\n",
       "No     2598\n",
       "Yes    1003\n",
       "Name: count, dtype: int64"
      ]
     },
     "execution_count": 36,
     "metadata": {},
     "output_type": "execute_result"
    }
   ],
   "source": [
    "results_df['Pets Allowed'].value_counts()"
   ]
  },
  {
   "cell_type": "code",
   "execution_count": 37,
   "id": "07d88e4d",
   "metadata": {},
   "outputs": [
    {
     "name": "stdout",
     "output_type": "stream",
     "text": [
      "Type of Property\n",
      "Apartment / Flat     No\n",
      "Commercial           No\n",
      "Farm                Yes\n",
      "House               Yes\n",
      "Industrial           No\n",
      "Townhouse            No\n",
      "Vacant Land          No\n",
      "Name: Pets Allowed, dtype: object\n"
     ]
    }
   ],
   "source": [
    "# Calculate mode for each property type\n",
    "pets_mode = results_df.groupby('Type of Property')['Pets Allowed'].agg(\n",
    "    lambda x: x.mode().iloc[0] if not x.mode().empty else pd.NA\n",
    ")\n",
    "print(pets_mode)"
   ]
  },
  {
   "cell_type": "code",
   "execution_count": 38,
   "id": "a50044d2",
   "metadata": {},
   "outputs": [],
   "source": [
    "default_pets_value = {\n",
    "    'Apartment / Flat': 'No', \n",
    "    'Commercial': 'No',\n",
    "    'Farm': 'Yes',\n",
    "    'House': 'Yes', \n",
    "    'Industrial': 'No', \n",
    "    'Townhouse': 'No', \n",
    "    'Vacant Land': 'No'\n",
    "}\n",
    "\n",
    "results_df['Pets Allowed'] = results_df.apply(\n",
    "    lambda row: default_pets_value[row['Type of Property']]\n",
    "    if pd.isna(row['Pets Allowed']) and row['Type of Property'] in default_pets_value\n",
    "    else row['Pets Allowed'],\n",
    "    axis=1\n",
    ")"
   ]
  },
  {
   "cell_type": "code",
   "execution_count": 39,
   "id": "ce64b4b1",
   "metadata": {},
   "outputs": [
    {
     "name": "stdout",
     "output_type": "stream",
     "text": [
      "0\n"
     ]
    }
   ],
   "source": [
    "print(results_df['Pets Allowed'].isna().sum())"
   ]
  },
  {
   "cell_type": "markdown",
   "id": "d9ccea38",
   "metadata": {},
   "source": [
    "### Furnished"
   ]
  },
  {
   "cell_type": "code",
   "execution_count": 40,
   "id": "56bf14a3",
   "metadata": {},
   "outputs": [
    {
     "data": {
      "text/plain": [
       "np.int64(4635)"
      ]
     },
     "execution_count": 40,
     "metadata": {},
     "output_type": "execute_result"
    }
   ],
   "source": [
    "results_df['Furnished'].isnull().sum()"
   ]
  },
  {
   "cell_type": "code",
   "execution_count": 41,
   "id": "aaf0a236",
   "metadata": {},
   "outputs": [
    {
     "data": {
      "application/vnd.microsoft.datawrangler.viewer.v0+json": {
       "columns": [
        {
         "name": "Furnished",
         "rawType": "object",
         "type": "string"
        },
        {
         "name": "count",
         "rawType": "int64",
         "type": "integer"
        }
       ],
       "ref": "d889afa4-e7e9-43a5-899c-8fdecea241c6",
       "rows": [
        [
         "No",
         "7962"
        ],
        [
         "Yes",
         "1308"
        ]
       ],
       "shape": {
        "columns": 1,
        "rows": 2
       }
      },
      "text/plain": [
       "Furnished\n",
       "No     7962\n",
       "Yes    1308\n",
       "Name: count, dtype: int64"
      ]
     },
     "execution_count": 41,
     "metadata": {},
     "output_type": "execute_result"
    }
   ],
   "source": [
    "results_df['Furnished'].value_counts()"
   ]
  },
  {
   "cell_type": "code",
   "execution_count": 42,
   "id": "b606df23",
   "metadata": {},
   "outputs": [
    {
     "name": "stdout",
     "output_type": "stream",
     "text": [
      "Type of Property\n",
      "Apartment / Flat    No\n",
      "Commercial          No\n",
      "Farm                No\n",
      "House               No\n",
      "Industrial          No\n",
      "Townhouse           No\n",
      "Vacant Land         No\n",
      "Name: Furnished, dtype: object\n"
     ]
    }
   ],
   "source": [
    "# Calculate mode for each property type for the furnished column\n",
    "furnished_mode = results_df.groupby('Type of Property')['Furnished'].agg(\n",
    "    lambda x: x.mode().iloc[0] if not x.mode().empty else pd.NA\n",
    ")\n",
    "print(furnished_mode)"
   ]
  },
  {
   "cell_type": "code",
   "execution_count": 43,
   "id": "7f34f209",
   "metadata": {},
   "outputs": [],
   "source": [
    "# Fill the null vlaues in the furnished column with unknown\n",
    "results_df['Furnished'] = results_df['Furnished'].fillna(\"Unknown\")"
   ]
  },
  {
   "cell_type": "code",
   "execution_count": 44,
   "id": "c27be147",
   "metadata": {},
   "outputs": [
    {
     "name": "stdout",
     "output_type": "stream",
     "text": [
      "0\n"
     ]
    }
   ],
   "source": [
    "print(results_df['Furnished'].isna().sum())"
   ]
  },
  {
   "cell_type": "markdown",
   "id": "0a2ad281",
   "metadata": {},
   "source": [
    "### Bedrooms"
   ]
  },
  {
   "cell_type": "code",
   "execution_count": 45,
   "id": "a66ab57b",
   "metadata": {},
   "outputs": [
    {
     "data": {
      "text/plain": [
       "np.int64(8449)"
      ]
     },
     "execution_count": 45,
     "metadata": {},
     "output_type": "execute_result"
    }
   ],
   "source": [
    "results_df['Bedrooms'].isnull().sum()"
   ]
  },
  {
   "cell_type": "code",
   "execution_count": 46,
   "id": "a6d618af",
   "metadata": {},
   "outputs": [
    {
     "data": {
      "application/vnd.microsoft.datawrangler.viewer.v0+json": {
       "columns": [
        {
         "name": "Bedrooms",
         "rawType": "Int64",
         "type": "integer"
        },
        {
         "name": "count",
         "rawType": "Int64",
         "type": "integer"
        }
       ],
       "ref": "40d37c71-fe48-41ea-9257-cba2681ea2de",
       "rows": [
        [
         "2",
         "1825"
        ],
        [
         "1",
         "1446"
        ],
        [
         "3",
         "1178"
        ],
        [
         "5",
         "403"
        ],
        [
         "4",
         "347"
        ],
        [
         "0",
         "177"
        ],
        [
         "6",
         "45"
        ],
        [
         "7",
         "17"
        ],
        [
         "8",
         "8"
        ],
        [
         "9",
         "4"
        ],
        [
         "11",
         "2"
        ],
        [
         "13",
         "2"
        ],
        [
         "12",
         "1"
        ],
        [
         "10",
         "1"
        ]
       ],
       "shape": {
        "columns": 1,
        "rows": 14
       }
      },
      "text/plain": [
       "Bedrooms\n",
       "2     1825\n",
       "1     1446\n",
       "3     1178\n",
       "5      403\n",
       "4      347\n",
       "0      177\n",
       "6       45\n",
       "7       17\n",
       "8        8\n",
       "9        4\n",
       "11       2\n",
       "13       2\n",
       "12       1\n",
       "10       1\n",
       "Name: count, dtype: Int64"
      ]
     },
     "execution_count": 46,
     "metadata": {},
     "output_type": "execute_result"
    }
   ],
   "source": [
    "results_df['Bedrooms'].value_counts()"
   ]
  },
  {
   "cell_type": "code",
   "execution_count": 47,
   "id": "e323447c",
   "metadata": {},
   "outputs": [
    {
     "name": "stdout",
     "output_type": "stream",
     "text": [
      "Type of Property\n",
      "Apartment / Flat       2\n",
      "Commercial             0\n",
      "Farm                   2\n",
      "House                  3\n",
      "Industrial             2\n",
      "Townhouse              2\n",
      "Vacant Land         <NA>\n",
      "Name: Bedrooms, dtype: Int64\n"
     ]
    }
   ],
   "source": [
    "# Calculate mode for each property type for the furnished column\n",
    "furnished_mode = results_df.groupby('Type of Property')['Bedrooms'].agg(\n",
    "    lambda x: x.mode().iloc[0] if not x.mode().empty else pd.NA\n",
    ")\n",
    "print(furnished_mode)"
   ]
  },
  {
   "cell_type": "code",
   "execution_count": 48,
   "id": "3c55601c",
   "metadata": {},
   "outputs": [],
   "source": [
    "bedroom_medians = results_df.groupby('Type of Property')['Bedrooms'].median()\n",
    "\n",
    "def fill_bedrooms(row):\n",
    "    if pd.isna(row['Bedrooms']):\n",
    "        median = bedroom_medians.get(row['Type of Property'], np.nan)\n",
    "        return median if pd.notna(median) else 0\n",
    "    return row['Bedrooms']\n",
    "\n",
    "results_df['Bedrooms'] = results_df.apply(fill_bedrooms, axis=1)"
   ]
  },
  {
   "cell_type": "code",
   "execution_count": 49,
   "id": "a9c6548d",
   "metadata": {},
   "outputs": [
    {
     "data": {
      "text/plain": [
       "np.int64(0)"
      ]
     },
     "execution_count": 49,
     "metadata": {},
     "output_type": "execute_result"
    }
   ],
   "source": [
    "results_df['Bedrooms'].isnull().sum()"
   ]
  },
  {
   "cell_type": "markdown",
   "id": "b36141f9",
   "metadata": {},
   "source": [
    "### Bathrooms"
   ]
  },
  {
   "cell_type": "code",
   "execution_count": 50,
   "id": "68405c89",
   "metadata": {},
   "outputs": [
    {
     "data": {
      "text/plain": [
       "np.int64(6113)"
      ]
     },
     "execution_count": 50,
     "metadata": {},
     "output_type": "execute_result"
    }
   ],
   "source": [
    "results_df['Bathrooms'].isnull().sum()"
   ]
  },
  {
   "cell_type": "code",
   "execution_count": 51,
   "id": "148f0c2a",
   "metadata": {},
   "outputs": [
    {
     "data": {
      "application/vnd.microsoft.datawrangler.viewer.v0+json": {
       "columns": [
        {
         "name": "Bathrooms",
         "rawType": "object",
         "type": "string"
        },
        {
         "name": "count",
         "rawType": "int64",
         "type": "integer"
        }
       ],
       "ref": "7c013760-37d7-4ebe-97f7-c5f4f8c88bab",
       "rows": [
        [
         "1",
         "3937"
        ],
        [
         "2",
         "2662"
        ],
        [
         "3",
         "529"
        ],
        [
         "4",
         "347"
        ],
        [
         "6",
         "99"
        ],
        [
         "5",
         "90"
        ],
        [
         "8",
         "41"
        ],
        [
         "7",
         "26"
        ],
        [
         "10",
         "21"
        ],
        [
         "0",
         "13"
        ],
        [
         "12",
         "6"
        ],
        [
         "15",
         "5"
        ],
        [
         "9",
         "4"
        ],
        [
         "20",
         "3"
        ],
        [
         "14",
         "2"
        ],
        [
         "16",
         "2"
        ],
        [
         "11",
         "1"
        ],
        [
         "13",
         "1"
        ],
        [
         "30",
         "1"
        ],
        [
         "200",
         "1"
        ],
        [
         "160",
         "1"
        ]
       ],
       "shape": {
        "columns": 1,
        "rows": 21
       }
      },
      "text/plain": [
       "Bathrooms\n",
       "1      3937\n",
       "2      2662\n",
       "3       529\n",
       "4       347\n",
       "6        99\n",
       "5        90\n",
       "8        41\n",
       "7        26\n",
       "10       21\n",
       "0        13\n",
       "12        6\n",
       "15        5\n",
       "9         4\n",
       "20        3\n",
       "14        2\n",
       "16        2\n",
       "11        1\n",
       "13        1\n",
       "30        1\n",
       "200       1\n",
       "160       1\n",
       "Name: count, dtype: int64"
      ]
     },
     "execution_count": 51,
     "metadata": {},
     "output_type": "execute_result"
    }
   ],
   "source": [
    "results_df['Bathrooms'].value_counts()"
   ]
  },
  {
   "cell_type": "code",
   "execution_count": 52,
   "id": "c41471c2",
   "metadata": {},
   "outputs": [
    {
     "name": "stdout",
     "output_type": "stream",
     "text": [
      "  Type of Property  Count with >10 Bathrooms\n",
      "0       Commercial                        21\n",
      "2       Industrial                        19\n",
      "1            House                         4\n"
     ]
    }
   ],
   "source": [
    "# Ensure 'Bathrooms' is numeric\n",
    "results_df['Bathrooms'] = pd.to_numeric(\n",
    "    results_df['Bathrooms'], errors='coerce')\n",
    "\n",
    "# Filter listings with Bathrooms > 10\n",
    "bathroom_outliers = results_df[results_df['Bathrooms'] > 9]\n",
    "\n",
    "# Group by Type of Property and count\n",
    "bathroom_summary = bathroom_outliers.groupby(\n",
    "    'Type of Property')['Bathrooms'].count().reset_index()\n",
    "\n",
    "# Rename column for clarity\n",
    "bathroom_summary.columns = ['Type of Property', 'Count with >10 Bathrooms']\n",
    "\n",
    "# Sort by count descending\n",
    "bathroom_summary = bathroom_summary.sort_values(\n",
    "    by='Count with >10 Bathrooms', ascending=False)\n",
    "\n",
    "print(bathroom_summary)"
   ]
  },
  {
   "cell_type": "code",
   "execution_count": 53,
   "id": "5d83dc96",
   "metadata": {},
   "outputs": [],
   "source": [
    "threshold = 10\n",
    "extreme_bathrooms = results_df[results_df['Bathrooms'] > threshold]"
   ]
  },
  {
   "cell_type": "code",
   "execution_count": 54,
   "id": "c4435c75",
   "metadata": {},
   "outputs": [],
   "source": [
    "# Set the threshold for outlier bathroom numbers\n",
    "threshold = 9 \n",
    "\n",
    "outliner_bathrooms = results_df[results_df['Bathrooms'] > threshold]\n",
    "\n",
    "bathroom_median = results_df[results_df['Bathrooms'] <= threshold].groupby('Type of Property')['Bathrooms'].median()\n",
    "\n",
    "bathroom_median = bathroom_median.fillna(0)\n",
    "\n",
    "for idx, row in outliner_bathrooms.iterrows():\n",
    "    prop_type = row['Type of Property']\n",
    "    median_val = bathroom_median.get(prop_type, 0)\n",
    "    results_df.at[idx, 'Bathrooms'] = median_val"
   ]
  },
  {
   "cell_type": "markdown",
   "id": "d8fe61e1",
   "metadata": {},
   "source": [
    "### Kitchen"
   ]
  },
  {
   "cell_type": "code",
   "execution_count": 55,
   "id": "b731b0df",
   "metadata": {},
   "outputs": [
    {
     "data": {
      "text/plain": [
       "np.int64(7387)"
      ]
     },
     "execution_count": 55,
     "metadata": {},
     "output_type": "execute_result"
    }
   ],
   "source": [
    "results_df['Kitchen'].isnull().sum()"
   ]
  },
  {
   "cell_type": "code",
   "execution_count": 56,
   "id": "ba95f942",
   "metadata": {},
   "outputs": [
    {
     "name": "stdout",
     "output_type": "stream",
     "text": [
      "   Type of Property  Median Kitchen\n",
      "0  Apartment / Flat             1.0\n",
      "1        Commercial             1.0\n",
      "2              Farm             1.0\n",
      "3             House             1.0\n",
      "4        Industrial             1.0\n",
      "5         Townhouse             1.0\n",
      "6       Vacant Land             NaN\n"
     ]
    }
   ],
   "source": [
    "# Ensure that the Kitchen column is numeric\n",
    "results_df['Kitchen'] = pd.to_numeric(\n",
    "    results_df['Kitchen'], errors='coerce')\n",
    "\n",
    "\n",
    "# Group by property type and calculate median\n",
    "median_bathrooms = results_df.groupby('Type of Property')[\n",
    "    'Kitchen'].median().reset_index()\n",
    "\n",
    "# Rename columns for clarity\n",
    "median_bathrooms.columns = ['Type of Property', 'Median Kitchen']\n",
    "\n",
    "# Sort by median descending (optional)\n",
    "median_bathrooms = median_bathrooms.sort_values(\n",
    "    by='Median Kitchen', ascending=False)\n",
    "\n",
    "print(median_bathrooms)"
   ]
  },
  {
   "cell_type": "code",
   "execution_count": 57,
   "id": "cd1b5601",
   "metadata": {},
   "outputs": [
    {
     "data": {
      "application/vnd.microsoft.datawrangler.viewer.v0+json": {
       "columns": [
        {
         "name": "Kitchen",
         "rawType": "float64",
         "type": "float"
        },
        {
         "name": "count",
         "rawType": "int64",
         "type": "integer"
        }
       ],
       "ref": "4788ca0e-5f5f-4efa-ab6b-c28268a0f6b3",
       "rows": [
        [
         "1.0",
         "6116"
        ],
        [
         "2.0",
         "304"
        ],
        [
         "4.0",
         "44"
        ],
        [
         "3.0",
         "40"
        ],
        [
         "5.0",
         "10"
        ],
        [
         "6.0",
         "2"
        ],
        [
         "21.0",
         "1"
        ],
        [
         "10.0",
         "1"
        ]
       ],
       "shape": {
        "columns": 1,
        "rows": 8
       }
      },
      "text/plain": [
       "Kitchen\n",
       "1.0     6116\n",
       "2.0      304\n",
       "4.0       44\n",
       "3.0       40\n",
       "5.0       10\n",
       "6.0        2\n",
       "21.0       1\n",
       "10.0       1\n",
       "Name: count, dtype: int64"
      ]
     },
     "execution_count": 57,
     "metadata": {},
     "output_type": "execute_result"
    }
   ],
   "source": [
    "results_df['Kitchen'].value_counts()"
   ]
  },
  {
   "cell_type": "code",
   "execution_count": 58,
   "id": "1f76ed24",
   "metadata": {},
   "outputs": [],
   "source": [
    "kitchen_threshold = 6\n",
    "\n",
    "# Identify outliers\n",
    "kitchen_outliers = results_df[results_df['Kitchen'] > kitchen_threshold]\n",
    "\n",
    "# Compute medians and replace NaNs with 0\n",
    "kitchen_median = results_df[results_df['Kitchen'] <= kitchen_threshold] \\\n",
    "    .groupby('Type of Property')['Kitchen'].median().fillna(0)\n",
    "\n",
    "# Replace outlier values\n",
    "for idx, row in kitchen_outliers.iterrows():\n",
    "    prop_type = row['Type of Property']\n",
    "    median_val = kitchen_median.get(prop_type, 1)\n",
    "    results_df.at[idx, 'Kitchen'] = median_val"
   ]
  },
  {
   "cell_type": "code",
   "execution_count": 59,
   "id": "cb336161",
   "metadata": {},
   "outputs": [],
   "source": [
    "# Fill NaN kitchen values with property-type median, or 0 if still missing\n",
    "def fill_missing_kitchen(row):\n",
    "    if pd.isna(row['Kitchen']):\n",
    "        return kitchen_median.get(row['Type of Property'], 0)\n",
    "    return row['Kitchen']\n",
    "\n",
    "\n",
    "results_df['Kitchen'] = results_df.apply(fill_missing_kitchen, axis=1)"
   ]
  },
  {
   "cell_type": "code",
   "execution_count": 60,
   "id": "105e2385",
   "metadata": {},
   "outputs": [
    {
     "data": {
      "text/plain": [
       "np.int64(0)"
      ]
     },
     "execution_count": 60,
     "metadata": {},
     "output_type": "execute_result"
    }
   ],
   "source": [
    "results_df['Kitchen'].isnull().sum()"
   ]
  },
  {
   "cell_type": "markdown",
   "id": "7dd618d3",
   "metadata": {},
   "source": [
    "### Lounge"
   ]
  },
  {
   "cell_type": "code",
   "execution_count": 61,
   "id": "74353e40",
   "metadata": {},
   "outputs": [
    {
     "data": {
      "text/plain": [
       "np.int64(12299)"
      ]
     },
     "execution_count": 61,
     "metadata": {},
     "output_type": "execute_result"
    }
   ],
   "source": [
    "results_df['Lounge'].isnull().sum()"
   ]
  },
  {
   "cell_type": "code",
   "execution_count": 62,
   "id": "298b12a0",
   "metadata": {},
   "outputs": [
    {
     "data": {
      "application/vnd.microsoft.datawrangler.viewer.v0+json": {
       "columns": [
        {
         "name": "Lounge",
         "rawType": "object",
         "type": "string"
        },
        {
         "name": "count",
         "rawType": "int64",
         "type": "integer"
        }
       ],
       "ref": "3c7488bb-d951-4549-8e91-fd7c0f547fdc",
       "rows": [
        [
         "1",
         "1575"
        ],
        [
         "2",
         "29"
        ],
        [
         "3",
         "2"
        ]
       ],
       "shape": {
        "columns": 1,
        "rows": 3
       }
      },
      "text/plain": [
       "Lounge\n",
       "1    1575\n",
       "2      29\n",
       "3       2\n",
       "Name: count, dtype: int64"
      ]
     },
     "execution_count": 62,
     "metadata": {},
     "output_type": "execute_result"
    }
   ],
   "source": [
    "results_df['Lounge'].value_counts()"
   ]
  },
  {
   "cell_type": "code",
   "execution_count": 63,
   "id": "d89a519d",
   "metadata": {},
   "outputs": [
    {
     "name": "stdout",
     "output_type": "stream",
     "text": [
      "   Type of Property  Median Kitchen\n",
      "0  Apartment / Flat             1.0\n",
      "1        Commercial             1.0\n",
      "2              Farm             1.0\n",
      "3             House             1.0\n",
      "4        Industrial             1.0\n",
      "5         Townhouse             1.0\n",
      "6       Vacant Land             NaN\n"
     ]
    }
   ],
   "source": [
    "# Ensure that the Lounge column is numeric\n",
    "results_df['Lounge'] = pd.to_numeric(\n",
    "    results_df['Lounge'], errors='coerce')\n",
    "\n",
    "\n",
    "# Group by property type and calculate median\n",
    "median_lounge = results_df.groupby('Type of Property')[\n",
    "    'Lounge'].median().reset_index()\n",
    "\n",
    "# Rename columns for clarity\n",
    "median_lounge.columns = ['Type of Property', 'Median Lounge']\n",
    "\n",
    "# Sort by median descending (optional)\n",
    "median_lounge = median_lounge.sort_values(\n",
    "    by='Median Lounge', ascending=False)\n",
    "\n",
    "print(median_bathrooms)"
   ]
  },
  {
   "cell_type": "code",
   "execution_count": 64,
   "id": "a47d8a6f",
   "metadata": {},
   "outputs": [],
   "source": [
    "# Compute median lounges per property type\n",
    "lounge_median = results_df.groupby('Type of Property')['Lounge'].median()\n",
    "\n",
    "# Fill NaNs in median with 0\n",
    "median_lounge = lounge_median.fillna(0)\n",
    "\n",
    "# Function using the correct filled median\n",
    "\n",
    "\n",
    "def fill_lounge(row):\n",
    "    if pd.isna(row['Lounge']):\n",
    "        return median_lounge.get(row['Type of Property'], 0)\n",
    "    return row['Lounge']\n",
    "\n",
    "\n",
    "# Apply the fix\n",
    "results_df['Lounge'] = results_df.apply(fill_lounge, axis=1)"
   ]
  },
  {
   "cell_type": "code",
   "execution_count": 65,
   "id": "e24f46bb",
   "metadata": {},
   "outputs": [
    {
     "data": {
      "text/plain": [
       "np.int64(0)"
      ]
     },
     "execution_count": 65,
     "metadata": {},
     "output_type": "execute_result"
    }
   ],
   "source": [
    "results_df['Lounge'].isnull().sum()"
   ]
  },
  {
   "cell_type": "markdown",
   "id": "c3be09a8",
   "metadata": {},
   "source": [
    "### Dining Room"
   ]
  },
  {
   "cell_type": "code",
   "execution_count": 66,
   "id": "b6e5d560",
   "metadata": {},
   "outputs": [
    {
     "data": {
      "text/plain": [
       "np.int64(13103)"
      ]
     },
     "execution_count": 66,
     "metadata": {},
     "output_type": "execute_result"
    }
   ],
   "source": [
    "results_df['Dining Room'].isnull().sum()"
   ]
  },
  {
   "cell_type": "code",
   "execution_count": 67,
   "id": "ef4c9c1c",
   "metadata": {},
   "outputs": [
    {
     "data": {
      "application/vnd.microsoft.datawrangler.viewer.v0+json": {
       "columns": [
        {
         "name": "Dining Room",
         "rawType": "object",
         "type": "string"
        },
        {
         "name": "count",
         "rawType": "int64",
         "type": "integer"
        }
       ],
       "ref": "ce40ad51-bfc1-438a-b6d5-ba8b52374ea8",
       "rows": [
        [
         "1",
         "795"
        ],
        [
         "2",
         "6"
        ],
        [
         "3",
         "1"
        ]
       ],
       "shape": {
        "columns": 1,
        "rows": 3
       }
      },
      "text/plain": [
       "Dining Room\n",
       "1    795\n",
       "2      6\n",
       "3      1\n",
       "Name: count, dtype: int64"
      ]
     },
     "execution_count": 67,
     "metadata": {},
     "output_type": "execute_result"
    }
   ],
   "source": [
    "results_df['Dining Room'].value_counts()"
   ]
  },
  {
   "cell_type": "code",
   "execution_count": 68,
   "id": "16711c40",
   "metadata": {},
   "outputs": [
    {
     "name": "stdout",
     "output_type": "stream",
     "text": [
      "   Type of Property  Median Kitchen\n",
      "0  Apartment / Flat             1.0\n",
      "1        Commercial             1.0\n",
      "2              Farm             1.0\n",
      "3             House             1.0\n",
      "4        Industrial             1.0\n",
      "5         Townhouse             1.0\n",
      "6       Vacant Land             NaN\n"
     ]
    }
   ],
   "source": [
    "# Ensure that the Dining Room column is numeric\n",
    "results_df['Dining Room'] = pd.to_numeric(\n",
    "    results_df['Dining Room'], errors='coerce')\n",
    "\n",
    "\n",
    "# Group by property type and calculate median\n",
    "median_dining_room = results_df.groupby('Type of Property')[\n",
    "    'Dining Room'].median().reset_index()\n",
    "\n",
    "# Rename columns for clarity\n",
    "median_dining_room.columns = ['Type of Property', 'Median Dining Room']\n",
    "\n",
    "# Sort by median descending (optional)\n",
    "median_dining_room = median_dining_room.sort_values(\n",
    "    by='Median Dining Room', ascending=False)\n",
    "\n",
    "print(median_bathrooms)"
   ]
  },
  {
   "cell_type": "code",
   "execution_count": 69,
   "id": "339de017",
   "metadata": {},
   "outputs": [],
   "source": [
    "# Compute median lounges per property type\n",
    "dining_room_median = results_df.groupby('Type of Property')['Dining Room'].median()\n",
    "\n",
    "# Fill NaNs in median with 0\n",
    "median_dining_room = dining_room_median.fillna(0)\n",
    "\n",
    "# Function using the correct filled median\n",
    "\n",
    "\n",
    "def fill_lounge(row):\n",
    "    if pd.isna(row['Dining Room']):\n",
    "        return median_dining_room.get(row['Type of Property'], 0)\n",
    "    return row['Dining Room']\n",
    "\n",
    "\n",
    "# Apply the fix\n",
    "results_df['Dining Room'] = results_df.apply(fill_lounge, axis=1)"
   ]
  },
  {
   "cell_type": "code",
   "execution_count": 70,
   "id": "059ee635",
   "metadata": {},
   "outputs": [
    {
     "data": {
      "text/plain": [
       "np.int64(0)"
      ]
     },
     "execution_count": 70,
     "metadata": {},
     "output_type": "execute_result"
    }
   ],
   "source": [
    "results_df['Dining Room'].isnull().sum()"
   ]
  },
  {
   "cell_type": "markdown",
   "id": "61e0f3be",
   "metadata": {},
   "source": [
    "### Garage"
   ]
  },
  {
   "cell_type": "code",
   "execution_count": 71,
   "id": "08b43877",
   "metadata": {},
   "outputs": [
    {
     "data": {
      "text/plain": [
       "np.int64(13242)"
      ]
     },
     "execution_count": 71,
     "metadata": {},
     "output_type": "execute_result"
    }
   ],
   "source": [
    "results_df['Garage'].isnull().sum()"
   ]
  },
  {
   "cell_type": "code",
   "execution_count": 72,
   "id": "e85c081d",
   "metadata": {},
   "outputs": [
    {
     "data": {
      "application/vnd.microsoft.datawrangler.viewer.v0+json": {
       "columns": [
        {
         "name": "Garage",
         "rawType": "object",
         "type": "string"
        },
        {
         "name": "count",
         "rawType": "int64",
         "type": "integer"
        }
       ],
       "ref": "40ee3f25-bd11-4d2b-b1fc-c1bb5c6a3d9d",
       "rows": [
        [
         "1",
         "388"
        ],
        [
         "2",
         "233"
        ],
        [
         "3",
         "18"
        ],
        [
         "4",
         "12"
        ],
        [
         "5",
         "5"
        ],
        [
         "40",
         "2"
        ],
        [
         "14",
         "1"
        ],
        [
         "20",
         "1"
        ],
        [
         "10",
         "1"
        ],
        [
         "6",
         "1"
        ],
        [
         "9",
         "1"
        ]
       ],
       "shape": {
        "columns": 1,
        "rows": 11
       }
      },
      "text/plain": [
       "Garage\n",
       "1     388\n",
       "2     233\n",
       "3      18\n",
       "4      12\n",
       "5       5\n",
       "40      2\n",
       "14      1\n",
       "20      1\n",
       "10      1\n",
       "6       1\n",
       "9       1\n",
       "Name: count, dtype: int64"
      ]
     },
     "execution_count": 72,
     "metadata": {},
     "output_type": "execute_result"
    }
   ],
   "source": [
    "results_df['Garage'].value_counts()"
   ]
  },
  {
   "cell_type": "code",
   "execution_count": 73,
   "id": "15b53d3c",
   "metadata": {},
   "outputs": [
    {
     "name": "stdout",
     "output_type": "stream",
     "text": [
      "   Type of Property  Median Garage\n",
      "4        Industrial           30.0\n",
      "1        Commercial           12.0\n",
      "3             House            2.0\n",
      "0  Apartment / Flat            1.0\n",
      "5         Townhouse            1.0\n",
      "2              Farm            NaN\n",
      "6       Vacant Land            NaN\n"
     ]
    }
   ],
   "source": [
    "# Ensure that the Garage column is numeric\n",
    "results_df['Garage'] = pd.to_numeric(\n",
    "    results_df['Garage'], errors='coerce')\n",
    "\n",
    "\n",
    "# Group by property type and calculate median\n",
    "median_garage = results_df.groupby('Type of Property')[\n",
    "    'Garage'].median().reset_index()\n",
    "\n",
    "# Rename columns for clarity\n",
    "median_garage.columns = ['Type of Property', 'Median Garage']\n",
    "\n",
    "# Sort by median descending (optional)\n",
    "median_garage = median_garage.sort_values(\n",
    "    by='Median Garage', ascending=False)\n",
    "\n",
    "print(median_garage)"
   ]
  },
  {
   "cell_type": "code",
   "execution_count": 74,
   "id": "b052f6a3",
   "metadata": {},
   "outputs": [],
   "source": [
    "garage_threshold = 5\n",
    "\n",
    "# Identify outliers\n",
    "garage_outliers = results_df[results_df['Garage'] > garage_threshold]\n",
    "\n",
    "# Compute medians and replace NaNs with 0\n",
    "garage_median = results_df[results_df['Garage'] <= garage_threshold].groupby('Type of Property')['Garage'].median().fillna(0)\n",
    "\n",
    "# Replace outlier values\n",
    "for idx, row in garage_outliers.iterrows():\n",
    "    prop_type = row['Type of Property']\n",
    "    median_val = garage_median.get(prop_type, 1)\n",
    "    results_df.at[idx, 'Garage'] = median_val"
   ]
  },
  {
   "cell_type": "code",
   "execution_count": 75,
   "id": "c90b5e0c",
   "metadata": {},
   "outputs": [],
   "source": [
    "# Fill NaN kitchen values with property-type median, or 0 if still missing\n",
    "def fill_missing_garage(row):\n",
    "    if pd.isna(row['Garage']):\n",
    "        return garage_median.get(row['Type of Property'], 0)\n",
    "    return row['Garage']\n",
    "\n",
    "\n",
    "results_df['Garage'] = results_df.apply(fill_missing_garage, axis=1)"
   ]
  },
  {
   "cell_type": "code",
   "execution_count": 76,
   "id": "41a2b6e2",
   "metadata": {},
   "outputs": [
    {
     "data": {
      "text/plain": [
       "np.int64(0)"
      ]
     },
     "execution_count": 76,
     "metadata": {},
     "output_type": "execute_result"
    }
   ],
   "source": [
    "results_df['Garage'].isnull().sum()"
   ]
  },
  {
   "cell_type": "markdown",
   "id": "b045f629",
   "metadata": {},
   "source": [
    "### Garden"
   ]
  },
  {
   "cell_type": "code",
   "execution_count": 77,
   "id": "b16a6584",
   "metadata": {},
   "outputs": [
    {
     "data": {
      "text/plain": [
       "np.int64(12622)"
      ]
     },
     "execution_count": 77,
     "metadata": {},
     "output_type": "execute_result"
    }
   ],
   "source": [
    "results_df['Garden'].isnull().sum()"
   ]
  },
  {
   "cell_type": "code",
   "execution_count": 78,
   "id": "61266077",
   "metadata": {},
   "outputs": [
    {
     "data": {
      "application/vnd.microsoft.datawrangler.viewer.v0+json": {
       "columns": [
        {
         "name": "Garden",
         "rawType": "object",
         "type": "string"
        },
        {
         "name": "count",
         "rawType": "int64",
         "type": "integer"
        }
       ],
       "ref": "fff354d8-cae8-4337-ab26-21060c3913f6",
       "rows": [
        [
         "1",
         "1274"
        ],
        [
         "2",
         "7"
        ],
        [
         "23",
         "1"
        ],
        [
         "3",
         "1"
        ]
       ],
       "shape": {
        "columns": 1,
        "rows": 4
       }
      },
      "text/plain": [
       "Garden\n",
       "1     1274\n",
       "2        7\n",
       "23       1\n",
       "3        1\n",
       "Name: count, dtype: int64"
      ]
     },
     "execution_count": 78,
     "metadata": {},
     "output_type": "execute_result"
    }
   ],
   "source": [
    "results_df['Garden'].value_counts()"
   ]
  },
  {
   "cell_type": "code",
   "execution_count": 79,
   "id": "c78ce3c7",
   "metadata": {},
   "outputs": [
    {
     "name": "stdout",
     "output_type": "stream",
     "text": [
      "   Type of Property  Median Garden\n",
      "0  Apartment / Flat            1.0\n",
      "1        Commercial            1.0\n",
      "2              Farm            1.0\n",
      "3             House            1.0\n",
      "4        Industrial            1.0\n",
      "5         Townhouse            1.0\n",
      "6       Vacant Land            1.0\n"
     ]
    }
   ],
   "source": [
    "# Ensure that the Garden column is numeric\n",
    "results_df['Garden'] = pd.to_numeric(\n",
    "    results_df['Garden'], errors='coerce')\n",
    "\n",
    "\n",
    "# Group by property type and calculate median\n",
    "median_garden = results_df.groupby('Type of Property')[\n",
    "    'Garden'].median().reset_index()\n",
    "\n",
    "# Rename columns for clarity\n",
    "median_garden.columns = ['Type of Property', 'Median Garden']\n",
    "\n",
    "# Sort by median descending (optional)\n",
    "median_garden = median_garden.sort_values(\n",
    "    by='Median Garden', ascending=False)\n",
    "\n",
    "print(median_garden)"
   ]
  },
  {
   "cell_type": "code",
   "execution_count": 80,
   "id": "34aed5ab",
   "metadata": {},
   "outputs": [],
   "source": [
    "garden_threshold = 3\n",
    "\n",
    "# Identify outliers\n",
    "garden_outliers = results_df[results_df['Garden'] > garden_threshold]\n",
    "\n",
    "# Compute medians and replace NaNs with 0\n",
    "garden_median = results_df[results_df['Garden'] <= garden_threshold].groupby(\n",
    "    'Type of Property')['Garden'].median().fillna(0)\n",
    "\n",
    "# Replace outlier values\n",
    "for idx, row in garden_outliers.iterrows():\n",
    "    prop_type = row['Type of Property']\n",
    "    median_val = garden_median.get(prop_type, 1)\n",
    "    results_df.at[idx, 'Garden'] = median_val"
   ]
  },
  {
   "cell_type": "code",
   "execution_count": 81,
   "id": "2d539d2c",
   "metadata": {},
   "outputs": [],
   "source": [
    "# Fill NaN kitchen values with property-type median, or 0 if still missing\n",
    "def fill_missing_garden(row):\n",
    "    if pd.isna(row['Garden']):\n",
    "        return garage_median.get(row['Type of Property'], 0)\n",
    "    return row['Garden']\n",
    "\n",
    "\n",
    "results_df['Garden'] = results_df.apply(fill_missing_garden, axis=1)"
   ]
  },
  {
   "cell_type": "code",
   "execution_count": 82,
   "id": "9c3297cb",
   "metadata": {},
   "outputs": [
    {
     "data": {
      "text/plain": [
       "np.int64(0)"
      ]
     },
     "execution_count": 82,
     "metadata": {},
     "output_type": "execute_result"
    }
   ],
   "source": [
    "results_df['Garden'].isnull().sum()"
   ]
  },
  {
   "cell_type": "code",
   "execution_count": 83,
   "id": "cccf93ff",
   "metadata": {},
   "outputs": [
    {
     "data": {
      "application/vnd.microsoft.datawrangler.viewer.v0+json": {
       "columns": [
        {
         "name": "Garden",
         "rawType": "float64",
         "type": "float"
        },
        {
         "name": "count",
         "rawType": "int64",
         "type": "integer"
        }
       ],
       "ref": "917e004a-fb01-45bc-8dc9-b40a863400a2",
       "rows": [
        [
         "5.0",
         "5979"
        ],
        [
         "1.0",
         "4698"
        ],
        [
         "0.0",
         "2075"
        ],
        [
         "2.0",
         "1152"
        ],
        [
         "3.0",
         "1"
        ]
       ],
       "shape": {
        "columns": 1,
        "rows": 5
       }
      },
      "text/plain": [
       "Garden\n",
       "5.0    5979\n",
       "1.0    4698\n",
       "0.0    2075\n",
       "2.0    1152\n",
       "3.0       1\n",
       "Name: count, dtype: int64"
      ]
     },
     "execution_count": 83,
     "metadata": {},
     "output_type": "execute_result"
    }
   ],
   "source": [
    "results_df['Garden'].value_counts()"
   ]
  },
  {
   "cell_type": "markdown",
   "id": "30e053d3",
   "metadata": {},
   "source": [
    "### Pool"
   ]
  },
  {
   "cell_type": "code",
   "execution_count": 84,
   "id": "22aab9c0",
   "metadata": {},
   "outputs": [
    {
     "data": {
      "text/plain": [
       "np.int64(13175)"
      ]
     },
     "execution_count": 84,
     "metadata": {},
     "output_type": "execute_result"
    }
   ],
   "source": [
    "results_df['Pool'].isnull().sum()"
   ]
  },
  {
   "cell_type": "code",
   "execution_count": 85,
   "id": "f9261e6c",
   "metadata": {},
   "outputs": [
    {
     "data": {
      "application/vnd.microsoft.datawrangler.viewer.v0+json": {
       "columns": [
        {
         "name": "Pool",
         "rawType": "object",
         "type": "string"
        },
        {
         "name": "count",
         "rawType": "int64",
         "type": "integer"
        }
       ],
       "ref": "23c9a8f4-4502-4fa0-901e-5d6ca376259b",
       "rows": [
        [
         "1",
         "719"
        ],
        [
         "2",
         "10"
        ],
        [
         "3",
         "1"
        ]
       ],
       "shape": {
        "columns": 1,
        "rows": 3
       }
      },
      "text/plain": [
       "Pool\n",
       "1    719\n",
       "2     10\n",
       "3      1\n",
       "Name: count, dtype: int64"
      ]
     },
     "execution_count": 85,
     "metadata": {},
     "output_type": "execute_result"
    }
   ],
   "source": [
    "results_df['Pool'].value_counts()"
   ]
  },
  {
   "cell_type": "code",
   "execution_count": 86,
   "id": "604ed8c9",
   "metadata": {},
   "outputs": [
    {
     "name": "stdout",
     "output_type": "stream",
     "text": [
      "   Type of Property  Median Pool\n",
      "0  Apartment / Flat          1.0\n",
      "1        Commercial          1.0\n",
      "3             House          1.0\n",
      "5         Townhouse          1.0\n",
      "2              Farm          NaN\n",
      "4        Industrial          NaN\n",
      "6       Vacant Land          NaN\n"
     ]
    }
   ],
   "source": [
    "# Ensure that the Pool column is numeric\n",
    "results_df['Pool'] = pd.to_numeric(\n",
    "    results_df['Pool'], errors='coerce')\n",
    "\n",
    "\n",
    "# Group by property type and calculate median\n",
    "median_pool = results_df.groupby('Type of Property')[\n",
    "    'Pool'].median().reset_index()\n",
    "\n",
    "# Rename columns for clarity\n",
    "median_pool.columns = ['Type of Property', 'Median Pool']\n",
    "\n",
    "# Sort by median descending (optional)\n",
    "median_pool = median_pool.sort_values(\n",
    "    by='Median Pool', ascending=False)\n",
    "\n",
    "print(median_pool)"
   ]
  },
  {
   "cell_type": "code",
   "execution_count": 87,
   "id": "6318ff01",
   "metadata": {},
   "outputs": [],
   "source": [
    "results_df['Pool'] = results_df['Pool'].fillna(0)"
   ]
  },
  {
   "cell_type": "code",
   "execution_count": 88,
   "id": "fce4b866",
   "metadata": {},
   "outputs": [
    {
     "data": {
      "text/plain": [
       "np.int64(0)"
      ]
     },
     "execution_count": 88,
     "metadata": {},
     "output_type": "execute_result"
    }
   ],
   "source": [
    "results_df['Pool'].isnull().sum()"
   ]
  },
  {
   "cell_type": "markdown",
   "id": "d37fe0c7",
   "metadata": {},
   "source": [
    "### Parking"
   ]
  },
  {
   "cell_type": "code",
   "execution_count": 89,
   "id": "c1ba7540",
   "metadata": {},
   "outputs": [
    {
     "data": {
      "text/plain": [
       "np.int64(8477)"
      ]
     },
     "execution_count": 89,
     "metadata": {},
     "output_type": "execute_result"
    }
   ],
   "source": [
    "results_df['Parking'].isnull().sum()"
   ]
  },
  {
   "cell_type": "code",
   "execution_count": 90,
   "id": "0ac26a4c",
   "metadata": {},
   "outputs": [
    {
     "data": {
      "application/vnd.microsoft.datawrangler.viewer.v0+json": {
       "columns": [
        {
         "name": "Parking",
         "rawType": "object",
         "type": "string"
        },
        {
         "name": "count",
         "rawType": "int64",
         "type": "integer"
        }
       ],
       "ref": "df93b02a-8bdc-4170-af0f-88c552f31c46",
       "rows": [
        [
         "1",
         "2361"
        ],
        [
         "2",
         "1122"
        ],
        [
         "4",
         "385"
        ],
        [
         "3",
         "242"
        ],
        [
         "5",
         "169"
        ],
        [
         "6",
         "162"
        ],
        [
         "10",
         "160"
        ],
        [
         "8",
         "110"
        ],
        [
         "20",
         "72"
        ],
        [
         "12",
         "69"
        ],
        [
         "15",
         "58"
        ],
        [
         "7",
         "39"
        ],
        [
         "16",
         "35"
        ],
        [
         "30",
         "30"
        ],
        [
         "14",
         "29"
        ],
        [
         "40",
         "27"
        ],
        [
         "50",
         "26"
        ],
        [
         "25",
         "25"
        ],
        [
         "24",
         "24"
        ],
        [
         "9",
         "22"
        ],
        [
         "18",
         "14"
        ],
        [
         "35",
         "13"
        ],
        [
         "60",
         "13"
        ],
        [
         "22",
         "12"
        ],
        [
         "11",
         "12"
        ],
        [
         "13",
         "10"
        ],
        [
         "32",
         "10"
        ],
        [
         "28",
         "8"
        ],
        [
         "100",
         "8"
        ],
        [
         "17",
         "8"
        ],
        [
         "1200",
         "7"
        ],
        [
         "80",
         "7"
        ],
        [
         "21",
         "6"
        ],
        [
         "1450",
         "5"
        ],
        [
         "19",
         "5"
        ],
        [
         "70",
         "5"
        ],
        [
         "1600",
         "5"
        ],
        [
         "36",
         "5"
        ],
        [
         "254",
         "5"
        ],
        [
         "33",
         "5"
        ],
        [
         "27",
         "5"
        ],
        [
         "46",
         "5"
        ],
        [
         "23",
         "4"
        ],
        [
         "42",
         "4"
        ],
        [
         "26",
         "3"
        ],
        [
         "85",
         "3"
        ],
        [
         "45",
         "3"
        ],
        [
         "1500",
         "3"
        ],
        [
         "48",
         "3"
        ],
        [
         "41",
         "3"
        ]
       ],
       "shape": {
        "columns": 1,
        "rows": 94
       }
      },
      "text/plain": [
       "Parking\n",
       "1      2361\n",
       "2      1122\n",
       "4       385\n",
       "3       242\n",
       "5       169\n",
       "       ... \n",
       "65        1\n",
       "137       1\n",
       "175       1\n",
       "160       1\n",
       "66        1\n",
       "Name: count, Length: 94, dtype: int64"
      ]
     },
     "execution_count": 90,
     "metadata": {},
     "output_type": "execute_result"
    }
   ],
   "source": [
    "results_df['Parking'].value_counts()"
   ]
  },
  {
   "cell_type": "code",
   "execution_count": 91,
   "id": "f9e02d41",
   "metadata": {},
   "outputs": [
    {
     "name": "stdout",
     "output_type": "stream",
     "text": [
      "   Type of Property  Median Parking\n",
      "1        Commercial             6.0\n",
      "4        Industrial             5.0\n",
      "2              Farm             2.0\n",
      "3             House             2.0\n",
      "0  Apartment / Flat             1.0\n",
      "5         Townhouse             1.0\n",
      "6       Vacant Land             1.0\n"
     ]
    }
   ],
   "source": [
    "# Ensure that the Parking column is numeric\n",
    "results_df['Parking'] = pd.to_numeric(\n",
    "    results_df['Parking'], errors='coerce')\n",
    "\n",
    "\n",
    "# Group by property type and calculate median\n",
    "median_parking = results_df.groupby('Type of Property')[\n",
    "    'Parking'].median().reset_index()\n",
    "\n",
    "# Rename columns for clarity\n",
    "median_parking.columns = ['Type of Property', 'Median Parking']\n",
    "\n",
    "# Sort by median descending (optional)\n",
    "median_parking = median_parking.sort_values(\n",
    "    by='Median Parking', ascending=False)\n",
    "\n",
    "print(median_parking)"
   ]
  },
  {
   "cell_type": "code",
   "execution_count": 92,
   "id": "2640689b",
   "metadata": {},
   "outputs": [],
   "source": [
    "parking_threshold = 5\n",
    "\n",
    "# Identify outliers\n",
    "parking_outliers = results_df[results_df['Parking'] > parking_threshold]\n",
    "\n",
    "# Compute medians and replace NaNs with 0\n",
    "parking_median = results_df[results_df['Parking'] <= parking_threshold].groupby(\n",
    "    'Type of Property')['Parking'].median().fillna(0)\n",
    "\n",
    "# Replace outlier values\n",
    "for idx, row in parking_outliers.iterrows():\n",
    "    prop_type = row['Type of Property']\n",
    "    median_val = parking_median.get(prop_type, 1)\n",
    "    results_df.at[idx, 'Parking'] = median_val"
   ]
  },
  {
   "cell_type": "code",
   "execution_count": 93,
   "id": "6ef9ab74",
   "metadata": {},
   "outputs": [],
   "source": [
    "# Fill NaN kitchen values with property-type median, or 0 if still missing\n",
    "def fill_missing_parking(row):\n",
    "    if pd.isna(row['Parking']):\n",
    "        return garage_median.get(row['Type of Property'], 0)\n",
    "    return row['Parking']\n",
    "\n",
    "\n",
    "results_df['Parking'] = results_df.apply(fill_missing_parking, axis=1)"
   ]
  },
  {
   "cell_type": "code",
   "execution_count": 94,
   "id": "240e1231",
   "metadata": {},
   "outputs": [
    {
     "data": {
      "text/plain": [
       "np.int64(0)"
      ]
     },
     "execution_count": 94,
     "metadata": {},
     "output_type": "execute_result"
    }
   ],
   "source": [
    "results_df['Parking'].isnull().sum()"
   ]
  },
  {
   "cell_type": "markdown",
   "id": "387ca22e",
   "metadata": {},
   "source": [
    "### Backup Water"
   ]
  },
  {
   "cell_type": "code",
   "execution_count": 95,
   "id": "1d6f1c2b",
   "metadata": {},
   "outputs": [
    {
     "data": {
      "text/plain": [
       "np.int64(12410)"
      ]
     },
     "execution_count": 95,
     "metadata": {},
     "output_type": "execute_result"
    }
   ],
   "source": [
    "results_df['Backup Water'].isnull().sum()"
   ]
  },
  {
   "cell_type": "code",
   "execution_count": 96,
   "id": "bb4ce201",
   "metadata": {},
   "outputs": [
    {
     "data": {
      "application/vnd.microsoft.datawrangler.viewer.v0+json": {
       "columns": [
        {
         "name": "Backup Water",
         "rawType": "object",
         "type": "string"
        },
        {
         "name": "count",
         "rawType": "int64",
         "type": "integer"
        }
       ],
       "ref": "81693a6a-2573-4104-93b1-13176698a76f",
       "rows": [
        [
         "Yes",
         "757"
        ],
        [
         "No",
         "738"
        ]
       ],
       "shape": {
        "columns": 1,
        "rows": 2
       }
      },
      "text/plain": [
       "Backup Water\n",
       "Yes    757\n",
       "No     738\n",
       "Name: count, dtype: int64"
      ]
     },
     "execution_count": 96,
     "metadata": {},
     "output_type": "execute_result"
    }
   ],
   "source": [
    "results_df['Backup Water'].value_counts()"
   ]
  },
  {
   "cell_type": "code",
   "execution_count": 97,
   "id": "387a47a5",
   "metadata": {},
   "outputs": [
    {
     "name": "stdout",
     "output_type": "stream",
     "text": [
      "   Type of Property  Median Backup Water\n",
      "0  Apartment / Flat                  NaN\n",
      "1        Commercial                  NaN\n",
      "2              Farm                  NaN\n",
      "3             House                  NaN\n",
      "4        Industrial                  NaN\n",
      "5         Townhouse                  NaN\n",
      "6       Vacant Land                  NaN\n"
     ]
    }
   ],
   "source": [
    "# Ensure that the Backup Water column is numeric\n",
    "results_df['Backup Water'] = pd.to_numeric(\n",
    "    results_df['Backup Water'], errors='coerce')\n",
    "\n",
    "\n",
    "# Group by property type and calculate median\n",
    "median_backup_water = results_df.groupby('Type of Property')[\n",
    "    'Backup Water'].median().reset_index()\n",
    "\n",
    "# Rename columns for clarity\n",
    "median_backup_water.columns = ['Type of Property', 'Median Backup Water']\n",
    "\n",
    "# Sort by median descending (optional)\n",
    "median_backup_water = median_backup_water.sort_values(\n",
    "    by='Median Backup Water', ascending=False)\n",
    "\n",
    "print(median_backup_water)"
   ]
  },
  {
   "cell_type": "code",
   "execution_count": 99,
   "id": "61ec15ef",
   "metadata": {},
   "outputs": [],
   "source": [
    "results_df['Backup Water'] = results_df['Backup Water'].fillna('Unknown')"
   ]
  },
  {
   "cell_type": "code",
   "execution_count": 101,
   "id": "42100301",
   "metadata": {},
   "outputs": [
    {
     "data": {
      "text/plain": [
       "np.int64(0)"
      ]
     },
     "execution_count": 101,
     "metadata": {},
     "output_type": "execute_result"
    }
   ],
   "source": [
    "results_df['Backup Water'].isnull().sum()"
   ]
  },
  {
   "cell_type": "markdown",
   "id": "faa9bff1",
   "metadata": {},
   "source": [
    "### Floor Size"
   ]
  },
  {
   "cell_type": "code",
   "execution_count": 103,
   "id": "255f8299",
   "metadata": {},
   "outputs": [
    {
     "data": {
      "text/plain": [
       "np.int64(6234)"
      ]
     },
     "execution_count": 103,
     "metadata": {},
     "output_type": "execute_result"
    }
   ],
   "source": [
    "results_df['Floor Area (m²)'].isnull().sum()"
   ]
  },
  {
   "cell_type": "code",
   "execution_count": 104,
   "id": "2c2cfd0c",
   "metadata": {},
   "outputs": [
    {
     "data": {
      "application/vnd.microsoft.datawrangler.viewer.v0+json": {
       "columns": [
        {
         "name": "Floor Area (m²)",
         "rawType": "object",
         "type": "string"
        },
        {
         "name": "count",
         "rawType": "int64",
         "type": "integer"
        }
       ],
       "ref": "e5901ee9-1d88-4bef-ba30-a80473e1ba65",
       "rows": [
        [
         "300",
         "105"
        ],
        [
         "30",
         "93"
        ],
        [
         "50",
         "90"
        ],
        [
         "100",
         "89"
        ],
        [
         "60",
         "78"
        ],
        [
         "200",
         "77"
        ],
        [
         "80",
         "71"
        ],
        [
         "20",
         "71"
        ],
        [
         "250",
         "59"
        ],
        [
         "150",
         "56"
        ],
        [
         "400",
         "56"
        ],
        [
         "90",
         "55"
        ],
        [
         "75",
         "53"
        ],
        [
         "70",
         "53"
        ],
        [
         "120",
         "51"
        ],
        [
         "800",
         "51"
        ],
        [
         "45",
         "51"
        ],
        [
         "35",
         "50"
        ],
        [
         "40",
         "49"
        ],
        [
         "43",
         "48"
        ],
        [
         "500",
         "48"
        ],
        [
         "15",
         "48"
        ],
        [
         "110",
         "47"
        ],
        [
         "180",
         "46"
        ],
        [
         "450",
         "46"
        ],
        [
         "600",
         "43"
        ],
        [
         "140",
         "42"
        ],
        [
         "51",
         "42"
        ],
        [
         "42",
         "41"
        ],
        [
         "25",
         "41"
        ],
        [
         "270",
         "40"
        ],
        [
         "220",
         "40"
        ],
        [
         "350",
         "39"
        ],
        [
         "360",
         "38"
        ],
        [
         "55",
         "38"
        ],
        [
         "330",
         "38"
        ],
        [
         "160",
         "37"
        ],
        [
         "32",
         "36"
        ],
        [
         "8",
         "34"
        ],
        [
         "65",
         "34"
        ],
        [
         "225",
         "33"
        ],
        [
         "125",
         "33"
        ],
        [
         "88",
         "32"
        ],
        [
         "530",
         "32"
        ],
        [
         "318",
         "31"
        ],
        [
         "47",
         "31"
        ],
        [
         "5",
         "30"
        ],
        [
         "105",
         "29"
        ],
        [
         "85",
         "29"
        ],
        [
         "10",
         "29"
        ]
       ],
       "shape": {
        "columns": 1,
        "rows": 764
       }
      },
      "text/plain": [
       "Floor Area (m²)\n",
       "300    105\n",
       "30      93\n",
       "50      90\n",
       "100     89\n",
       "60      78\n",
       "      ... \n",
       "783      1\n",
       "577      1\n",
       "635      1\n",
       "990      1\n",
       "974      1\n",
       "Name: count, Length: 764, dtype: int64"
      ]
     },
     "execution_count": 104,
     "metadata": {},
     "output_type": "execute_result"
    }
   ],
   "source": [
    "results_df['Floor Area (m²)'].value_counts()"
   ]
  },
  {
   "cell_type": "code",
   "execution_count": 106,
   "id": "53197ff8",
   "metadata": {},
   "outputs": [],
   "source": [
    "# Convert Floor Area to numeric (coerce errors to NaN)\n",
    "results_df['Floor Area (m²)'] = pd.to_numeric(\n",
    "    results_df['Floor Area (m²)'], errors='coerce')\n",
    "\n",
    "floor_area_median = results_df.groupby('Type of Property')['Floor Area (m²)'].median().fillna(0)\n",
    "\n",
    "def fill_floor_size(row):\n",
    "    if pd.isna(row['Floor Area (m²)']):\n",
    "        return floor_area_median.get(row['Type of Property'], 0)\n",
    "    return row['Floor Area (m²)']\n",
    "\n",
    "\n",
    "results_df['Floor Area (m²)'] = results_df.apply(fill_floor_size, axis=1)"
   ]
  },
  {
   "cell_type": "code",
   "execution_count": 107,
   "id": "97a612a0",
   "metadata": {},
   "outputs": [
    {
     "data": {
      "text/plain": [
       "np.int64(0)"
      ]
     },
     "execution_count": 107,
     "metadata": {},
     "output_type": "execute_result"
    }
   ],
   "source": [
    "results_df['Floor Area (m²)'].isnull().sum()"
   ]
  },
  {
   "cell_type": "markdown",
   "id": "6c150693",
   "metadata": {},
   "source": [
    "### Erf Size"
   ]
  },
  {
   "cell_type": "code",
   "execution_count": 109,
   "id": "ac8a2c8a",
   "metadata": {},
   "outputs": [
    {
     "data": {
      "text/plain": [
       "np.int64(10801)"
      ]
     },
     "execution_count": 109,
     "metadata": {},
     "output_type": "execute_result"
    }
   ],
   "source": [
    "results_df['Erf Size (m²)'].isnull().sum()"
   ]
  },
  {
   "cell_type": "code",
   "execution_count": 110,
   "id": "bcc856bf",
   "metadata": {},
   "outputs": [
    {
     "data": {
      "application/vnd.microsoft.datawrangler.viewer.v0+json": {
       "columns": [
        {
         "name": "Erf Size (m²)",
         "rawType": "object",
         "type": "string"
        },
        {
         "name": "count",
         "rawType": "int64",
         "type": "integer"
        }
       ],
       "ref": "04a73b7e-9374-481c-9e4d-faa549ae2ce5",
       "rows": [
        [
         "495",
         "68"
        ],
        [
         "500",
         "40"
        ],
        [
         "250",
         "39"
        ],
        [
         "100",
         "34"
        ],
        [
         "800",
         "34"
        ],
        [
         "200",
         "32"
        ],
        [
         "600",
         "30"
        ],
        [
         "496",
         "29"
        ],
        [
         "60",
         "29"
        ],
        [
         "300",
         "28"
        ],
        [
         "400",
         "25"
        ],
        [
         "450",
         "25"
        ],
        [
         "750",
         "24"
        ],
        [
         "990",
         "23"
        ],
        [
         "90",
         "23"
        ],
        [
         "150",
         "21"
        ],
        [
         "991",
         "21"
        ],
        [
         "120",
         "20"
        ],
        [
         "220",
         "20"
        ],
        [
         "70",
         "19"
        ],
        [
         "75",
         "18"
        ],
        [
         "594",
         "18"
        ],
        [
         "140",
         "18"
        ],
        [
         "248",
         "18"
        ],
        [
         "249",
         "16"
        ],
        [
         "360",
         "16"
        ],
        [
         "264",
         "16"
        ],
        [
         "1",
         "16"
        ],
        [
         "466",
         "15"
        ],
        [
         "900",
         "15"
        ],
        [
         "530",
         "15"
        ],
        [
         "270",
         "15"
        ],
        [
         "65",
         "14"
        ],
        [
         "170",
         "14"
        ],
        [
         "700",
         "14"
        ],
        [
         "350",
         "14"
        ],
        [
         "547",
         "13"
        ],
        [
         "80",
         "13"
        ],
        [
         "55",
         "13"
        ],
        [
         "180",
         "13"
        ],
        [
         "110",
         "13"
        ],
        [
         "655",
         "13"
        ],
        [
         "125",
         "12"
        ],
        [
         "218",
         "12"
        ],
        [
         "225",
         "12"
        ],
        [
         "808",
         "12"
        ],
        [
         "678",
         "12"
        ],
        [
         "76",
         "12"
        ],
        [
         "929",
         "12"
        ],
        [
         "154",
         "12"
        ]
       ],
       "shape": {
        "columns": 1,
        "rows": 716
       }
      },
      "text/plain": [
       "Erf Size (m²)\n",
       "495    68\n",
       "500    40\n",
       "250    39\n",
       "100    34\n",
       "800    34\n",
       "       ..\n",
       "922     1\n",
       "689     1\n",
       "877     1\n",
       "474     1\n",
       "416     1\n",
       "Name: count, Length: 716, dtype: int64"
      ]
     },
     "execution_count": 110,
     "metadata": {},
     "output_type": "execute_result"
    }
   ],
   "source": [
    "results_df['Erf Size (m²)'].value_counts()"
   ]
  },
  {
   "cell_type": "code",
   "execution_count": 112,
   "id": "cca2c8d4",
   "metadata": {},
   "outputs": [],
   "source": [
    "results_df['Erf Size (m²)'] = pd.to_numeric(\n",
    "    results_df['Erf Size (m²)'], errors='coerce')\n",
    "\n",
    "floor_size_median = results_df.groupby('Type of Property')[\n",
    "    'Erf Size (m²)'].median().fillna(0)\n",
    "\n",
    "\n",
    "def fill_floor_size(row):\n",
    "    if pd.isna(row['Erf Size (m²)']):\n",
    "        return floor_size_median.get(row['Type of Property'], 0)\n",
    "    return row['Erf Size (m²)']\n",
    "\n",
    "\n",
    "results_df['Erf Size (m²)'] = results_df.apply(fill_floor_size, axis=1)"
   ]
  },
  {
   "cell_type": "code",
   "execution_count": 113,
   "id": "9b2403ca",
   "metadata": {},
   "outputs": [
    {
     "data": {
      "text/plain": [
       "np.int64(0)"
      ]
     },
     "execution_count": 113,
     "metadata": {},
     "output_type": "execute_result"
    }
   ],
   "source": [
    "results_df['Erf Size (m²)'].isnull().sum()"
   ]
  }
 ],
 "metadata": {
  "kernelspec": {
   "display_name": ".venv",
   "language": "python",
   "name": "python3"
  },
  "language_info": {
   "codemirror_mode": {
    "name": "ipython",
    "version": 3
   },
   "file_extension": ".py",
   "mimetype": "text/x-python",
   "name": "python",
   "nbconvert_exporter": "python",
   "pygments_lexer": "ipython3",
   "version": "3.13.1"
  }
 },
 "nbformat": 4,
 "nbformat_minor": 5
}

{
 "cells": [
  {
   "cell_type": "markdown",
   "id": "1feaf872",
   "metadata": {},
   "source": [
    "# <center> 🧽 Data Cleaning Part 1 </center>"
   ]
  },
  {
   "cell_type": "markdown",
   "id": "42a4d6bf",
   "metadata": {},
   "source": [
    "## Table of Contents\n",
    "\n",
    "- [1. Introduction](#1-introduction)\n",
    "- [2. Loading Data](#2-loading-data)"
   ]
  },
  {
   "cell_type": "markdown",
   "id": "acdffd07",
   "metadata": {},
   "source": [
    "## 1. Introduction\n",
    "[Back to Table of Contents](#table-of-contents)\n",
    "\n",
    "---\n",
    "\n",
    "| ⚡ Description: Introducing the project ⚡ |\n",
    "| :--------------------------- |\n",
    "\n",
    "---"
   ]
  },
  {
   "cell_type": "markdown",
   "id": "bfc87451",
   "metadata": {},
   "source": [
    "<a id=\"two\"></a>\n",
    "## 2. Loading Data\n",
    "<a href=#cont>Back to Table of Contents</a>\n",
    "\n",
    "---\n",
    "    \n",
    "| ⚡ Description: Loading the data in our environment ⚡ |\n",
    "| :--------------------------- |\n",
    "\n",
    "---"
   ]
  },
  {
   "cell_type": "markdown",
   "id": "4c737deb",
   "metadata": {},
   "source": [
    "### Import packages"
   ]
  },
  {
   "cell_type": "code",
   "execution_count": 1,
   "id": "a78b697d",
   "metadata": {},
   "outputs": [],
   "source": [
    "# Import packages\n",
    "import re\n",
    "\n",
    "import numpy as np\n",
    "import pandas as pd"
   ]
  },
  {
   "cell_type": "markdown",
   "id": "9d14b166",
   "metadata": {},
   "source": [
    "### Rental Properties"
   ]
  },
  {
   "cell_type": "code",
   "execution_count": 2,
   "id": "4ee1b231",
   "metadata": {},
   "outputs": [
    {
     "data": {
      "text/plain": [
       "'Rentals'"
      ]
     },
     "metadata": {},
     "output_type": "display_data"
    },
    {
     "data": {
      "text/html": [
       "<div>\n",
       "<style scoped>\n",
       "    .dataframe tbody tr th:only-of-type {\n",
       "        vertical-align: middle;\n",
       "    }\n",
       "\n",
       "    .dataframe tbody tr th {\n",
       "        vertical-align: top;\n",
       "    }\n",
       "\n",
       "    .dataframe thead th {\n",
       "        text-align: right;\n",
       "    }\n",
       "</style>\n",
       "<table border=\"1\" class=\"dataframe\">\n",
       "  <thead>\n",
       "    <tr style=\"text-align: right;\">\n",
       "      <th></th>\n",
       "      <th>price</th>\n",
       "      <th>location</th>\n",
       "      <th>property_title</th>\n",
       "      <th>property_description</th>\n",
       "      <th>property_features</th>\n",
       "      <th>listing_slug</th>\n",
       "    </tr>\n",
       "  </thead>\n",
       "  <tbody>\n",
       "    <tr>\n",
       "      <th>0</th>\n",
       "      <td>R 7 000Per Month</td>\n",
       "      <td>Bhisho, Tyu Tyu North</td>\n",
       "      <td>3 Bedroom House to Rent in Tyu Tyu North</td>\n",
       "      <td>RE/MAX Border is proud to present this 3-bedro...</td>\n",
       "      <td>Property OverviewListing Number115295115Type o...</td>\n",
       "      <td>3-bedroom-house-to-rent-in-tyu-tyu-north-11529...</td>\n",
       "    </tr>\n",
       "    <tr>\n",
       "      <th>1</th>\n",
       "      <td>R 7 000Per Month</td>\n",
       "      <td>Bhisho, Bhisho Central</td>\n",
       "      <td>3 Bedroom House to Rent in Bhisho Central</td>\n",
       "      <td>How CONVENIENT is this flat directly opposite ...</td>\n",
       "      <td>Property OverviewListing Number115332086Type o...</td>\n",
       "      <td>3-bedroom-house-to-rent-in-bhisho-central-1153...</td>\n",
       "    </tr>\n",
       "    <tr>\n",
       "      <th>2</th>\n",
       "      <td>R 5 300Per Month</td>\n",
       "      <td>Bhisho, Tyu Tyu North</td>\n",
       "      <td>2 Bedroom House to Rent in Tyu Tyu North</td>\n",
       "      <td>Comfortable Home for a family which is availab...</td>\n",
       "      <td>Property OverviewListing Number115210602Type o...</td>\n",
       "      <td>2-bedroom-house-to-rent-in-tyu-tyu-north-11521...</td>\n",
       "    </tr>\n",
       "    <tr>\n",
       "      <th>3</th>\n",
       "      <td>NaN</td>\n",
       "      <td>NaN</td>\n",
       "      <td>NaN</td>\n",
       "      <td>NaN</td>\n",
       "      <td>NaN</td>\n",
       "      <td>house-to-rent-in-bisho-park-101731048</td>\n",
       "    </tr>\n",
       "    <tr>\n",
       "      <th>4</th>\n",
       "      <td>R 7 500Per Month</td>\n",
       "      <td>Bhisho, Bisho Park</td>\n",
       "      <td>3 Bedroom House to Rent in Bisho Park</td>\n",
       "      <td>BetterProp is thrilled to present this well-ma...</td>\n",
       "      <td>Property OverviewListing Number115555490Type o...</td>\n",
       "      <td>3-bedroom-house-to-rent-in-bisho-park-115555490</td>\n",
       "    </tr>\n",
       "  </tbody>\n",
       "</table>\n",
       "</div>"
      ],
      "text/plain": [
       "              price                location  \\\n",
       "0  R 7 000Per Month   Bhisho, Tyu Tyu North   \n",
       "1  R 7 000Per Month  Bhisho, Bhisho Central   \n",
       "2  R 5 300Per Month   Bhisho, Tyu Tyu North   \n",
       "3               NaN                     NaN   \n",
       "4  R 7 500Per Month      Bhisho, Bisho Park   \n",
       "\n",
       "                              property_title  \\\n",
       "0   3 Bedroom House to Rent in Tyu Tyu North   \n",
       "1  3 Bedroom House to Rent in Bhisho Central   \n",
       "2   2 Bedroom House to Rent in Tyu Tyu North   \n",
       "3                                        NaN   \n",
       "4      3 Bedroom House to Rent in Bisho Park   \n",
       "\n",
       "                                property_description  \\\n",
       "0  RE/MAX Border is proud to present this 3-bedro...   \n",
       "1  How CONVENIENT is this flat directly opposite ...   \n",
       "2  Comfortable Home for a family which is availab...   \n",
       "3                                                NaN   \n",
       "4  BetterProp is thrilled to present this well-ma...   \n",
       "\n",
       "                                   property_features  \\\n",
       "0  Property OverviewListing Number115295115Type o...   \n",
       "1  Property OverviewListing Number115332086Type o...   \n",
       "2  Property OverviewListing Number115210602Type o...   \n",
       "3                                                NaN   \n",
       "4  Property OverviewListing Number115555490Type o...   \n",
       "\n",
       "                                        listing_slug  \n",
       "0  3-bedroom-house-to-rent-in-tyu-tyu-north-11529...  \n",
       "1  3-bedroom-house-to-rent-in-bhisho-central-1153...  \n",
       "2  2-bedroom-house-to-rent-in-tyu-tyu-north-11521...  \n",
       "3              house-to-rent-in-bisho-park-101731048  \n",
       "4    3-bedroom-house-to-rent-in-bisho-park-115555490  "
      ]
     },
     "metadata": {},
     "output_type": "display_data"
    },
    {
     "data": {
      "text/plain": [
       "(15324, 6)"
      ]
     },
     "metadata": {},
     "output_type": "display_data"
    }
   ],
   "source": [
    "# Load the rental listings dataset\n",
    "rental_listings = pd.read_csv(\"../data/raw/rental_listings_for_capital_cities.csv\")\n",
    "\n",
    "# Display the first few rows of the dataset and it's shape\n",
    "display(\"Rentals\", rental_listings.head(), rental_listings.shape)"
   ]
  },
  {
   "cell_type": "code",
   "execution_count": 3,
   "id": "01de9d3c",
   "metadata": {},
   "outputs": [
    {
     "name": "stdout",
     "output_type": "stream",
     "text": [
      "<class 'pandas.core.frame.DataFrame'>\n",
      "RangeIndex: 15324 entries, 0 to 15323\n",
      "Data columns (total 6 columns):\n",
      " #   Column                Non-Null Count  Dtype \n",
      "---  ------                --------------  ----- \n",
      " 0   price                 15323 non-null  object\n",
      " 1   location              8189 non-null   object\n",
      " 2   property_title        15323 non-null  object\n",
      " 3   property_description  15323 non-null  object\n",
      " 4   property_features     15323 non-null  object\n",
      " 5   listing_slug          15324 non-null  object\n",
      "dtypes: object(6)\n",
      "memory usage: 718.4+ KB\n"
     ]
    }
   ],
   "source": [
    "# Print a summary of the dataset\n",
    "rental_listings.info()"
   ]
  },
  {
   "cell_type": "code",
   "execution_count": 4,
   "id": "564574cb",
   "metadata": {},
   "outputs": [
    {
     "name": "stdout",
     "output_type": "stream",
     "text": [
      "There are 7139 null values in the rental dataset\n"
     ]
    }
   ],
   "source": [
    "# Print the total number of null values in the dataset\n",
    "rental_null_values = rental_listings.isnull().sum().sum()\n",
    "print(f\"There are {rental_null_values} null values in the rental dataset\")"
   ]
  },
  {
   "cell_type": "code",
   "execution_count": 5,
   "id": "d037535a",
   "metadata": {},
   "outputs": [
    {
     "data": {
      "text/plain": [
       "price                      1\n",
       "location                7135\n",
       "property_title             1\n",
       "property_description       1\n",
       "property_features          1\n",
       "listing_slug               0\n",
       "dtype: int64"
      ]
     },
     "execution_count": 5,
     "metadata": {},
     "output_type": "execute_result"
    }
   ],
   "source": [
    "# Print the number of null values in each column\n",
    "rental_listings.isnull().sum()"
   ]
  },
  {
   "cell_type": "code",
   "execution_count": 6,
   "id": "1fadd376",
   "metadata": {},
   "outputs": [
    {
     "data": {
      "text/html": [
       "<div>\n",
       "<style scoped>\n",
       "    .dataframe tbody tr th:only-of-type {\n",
       "        vertical-align: middle;\n",
       "    }\n",
       "\n",
       "    .dataframe tbody tr th {\n",
       "        vertical-align: top;\n",
       "    }\n",
       "\n",
       "    .dataframe thead th {\n",
       "        text-align: right;\n",
       "    }\n",
       "</style>\n",
       "<table border=\"1\" class=\"dataframe\">\n",
       "  <thead>\n",
       "    <tr style=\"text-align: right;\">\n",
       "      <th></th>\n",
       "      <th>price</th>\n",
       "      <th>location</th>\n",
       "      <th>property_title</th>\n",
       "      <th>property_description</th>\n",
       "      <th>property_features</th>\n",
       "      <th>listing_slug</th>\n",
       "    </tr>\n",
       "  </thead>\n",
       "  <tbody>\n",
       "    <tr>\n",
       "      <th>3</th>\n",
       "      <td>NaN</td>\n",
       "      <td>NaN</td>\n",
       "      <td>NaN</td>\n",
       "      <td>NaN</td>\n",
       "      <td>NaN</td>\n",
       "      <td>house-to-rent-in-bisho-park-101731048</td>\n",
       "    </tr>\n",
       "  </tbody>\n",
       "</table>\n",
       "</div>"
      ],
      "text/plain": [
       "  price location property_title property_description property_features  \\\n",
       "3   NaN      NaN            NaN                  NaN               NaN   \n",
       "\n",
       "                            listing_slug  \n",
       "3  house-to-rent-in-bisho-park-101731048  "
      ]
     },
     "execution_count": 6,
     "metadata": {},
     "output_type": "execute_result"
    }
   ],
   "source": [
    "rental_listings[rental_listings.isnull().sum(axis=1) >= 4]"
   ]
  },
  {
   "cell_type": "code",
   "execution_count": 7,
   "id": "f783b3a2",
   "metadata": {},
   "outputs": [],
   "source": [
    "rental_listings.drop(\n",
    "    rental_listings[rental_listings.isnull().sum(axis=1) >= 2].index, inplace=True)"
   ]
  },
  {
   "cell_type": "code",
   "execution_count": 8,
   "id": "ea6279e5",
   "metadata": {},
   "outputs": [
    {
     "name": "stdout",
     "output_type": "stream",
     "text": [
      "There are 1303 duplicates in the rental dataset \n"
     ]
    }
   ],
   "source": [
    "# Get the total number of duplicate rows in the dataset\n",
    "rental_duplicates = rental_listings[rental_listings.duplicated()]\n",
    "num_rental_duplicates = len(rental_duplicates)\n",
    "print(f\"There are {num_rental_duplicates} duplicates in the rental dataset \")"
   ]
  },
  {
   "cell_type": "code",
   "execution_count": 9,
   "id": "e0c43e82",
   "metadata": {},
   "outputs": [],
   "source": [
    "# Drop duplicate rows and keep the first occurrence\n",
    "rental_listings = rental_listings.drop_duplicates().reset_index(drop=True)"
   ]
  },
  {
   "cell_type": "markdown",
   "id": "5b1b5345",
   "metadata": {},
   "source": [
    "#### Property features extraction"
   ]
  },
  {
   "cell_type": "code",
   "execution_count": 10,
   "id": "51e3df5e",
   "metadata": {},
   "outputs": [],
   "source": [
    "# Remove any information following the text 'Points of Interest' in the 'property_features' column\n",
    "rental_listings[\"property_features\"] = rental_listings[\"property_features\"].str.replace(\n",
    "    r'Points of Interest.*', '', regex=True\n",
    ")\n",
    "\n",
    "rental_listings[\"property_features\"] = rental_listings[\"property_features\"].str.strip()"
   ]
  },
  {
   "cell_type": "code",
   "execution_count": 11,
   "id": "5d10715f",
   "metadata": {},
   "outputs": [
    {
     "data": {
      "text/html": [
       "<div>\n",
       "<style scoped>\n",
       "    .dataframe tbody tr th:only-of-type {\n",
       "        vertical-align: middle;\n",
       "    }\n",
       "\n",
       "    .dataframe tbody tr th {\n",
       "        vertical-align: top;\n",
       "    }\n",
       "\n",
       "    .dataframe thead th {\n",
       "        text-align: right;\n",
       "    }\n",
       "</style>\n",
       "<table border=\"1\" class=\"dataframe\">\n",
       "  <thead>\n",
       "    <tr style=\"text-align: right;\">\n",
       "      <th></th>\n",
       "      <th>price</th>\n",
       "      <th>location</th>\n",
       "      <th>property_title</th>\n",
       "      <th>property_description</th>\n",
       "      <th>property_features</th>\n",
       "      <th>listing_slug</th>\n",
       "      <th>Listing Number</th>\n",
       "      <th>Type of Property</th>\n",
       "      <th>Pets Allowed</th>\n",
       "      <th>Furnished</th>\n",
       "      <th>...</th>\n",
       "      <th>Kitchen</th>\n",
       "      <th>Lounge</th>\n",
       "      <th>Dining Room</th>\n",
       "      <th>Parking</th>\n",
       "      <th>Backup Water</th>\n",
       "      <th>Erf Size (m²)</th>\n",
       "      <th>Floor Area (m²)</th>\n",
       "      <th>Garden</th>\n",
       "      <th>Pool</th>\n",
       "      <th>Garage</th>\n",
       "    </tr>\n",
       "  </thead>\n",
       "  <tbody>\n",
       "    <tr>\n",
       "      <th>0</th>\n",
       "      <td>R 7 000Per Month</td>\n",
       "      <td>Bhisho, Tyu Tyu North</td>\n",
       "      <td>3 Bedroom House to Rent in Tyu Tyu North</td>\n",
       "      <td>RE/MAX Border is proud to present this 3-bedro...</td>\n",
       "      <td>Property OverviewListing Number115295115Type o...</td>\n",
       "      <td>3-bedroom-house-to-rent-in-tyu-tyu-north-11529...</td>\n",
       "      <td>115295115</td>\n",
       "      <td>House</td>\n",
       "      <td>No</td>\n",
       "      <td>No</td>\n",
       "      <td>...</td>\n",
       "      <td>1</td>\n",
       "      <td>1</td>\n",
       "      <td>1</td>\n",
       "      <td>1</td>\n",
       "      <td>No</td>\n",
       "      <td>None</td>\n",
       "      <td>None</td>\n",
       "      <td>None</td>\n",
       "      <td>None</td>\n",
       "      <td>None</td>\n",
       "    </tr>\n",
       "    <tr>\n",
       "      <th>1</th>\n",
       "      <td>R 7 000Per Month</td>\n",
       "      <td>Bhisho, Bhisho Central</td>\n",
       "      <td>3 Bedroom House to Rent in Bhisho Central</td>\n",
       "      <td>How CONVENIENT is this flat directly opposite ...</td>\n",
       "      <td>Property OverviewListing Number115332086Type o...</td>\n",
       "      <td>3-bedroom-house-to-rent-in-bhisho-central-1153...</td>\n",
       "      <td>115332086</td>\n",
       "      <td>House</td>\n",
       "      <td>No</td>\n",
       "      <td>No</td>\n",
       "      <td>...</td>\n",
       "      <td>1</td>\n",
       "      <td>1</td>\n",
       "      <td>None</td>\n",
       "      <td>1</td>\n",
       "      <td>None</td>\n",
       "      <td>None</td>\n",
       "      <td>None</td>\n",
       "      <td>1</td>\n",
       "      <td>None</td>\n",
       "      <td>None</td>\n",
       "    </tr>\n",
       "    <tr>\n",
       "      <th>2</th>\n",
       "      <td>R 5 300Per Month</td>\n",
       "      <td>Bhisho, Tyu Tyu North</td>\n",
       "      <td>2 Bedroom House to Rent in Tyu Tyu North</td>\n",
       "      <td>Comfortable Home for a family which is availab...</td>\n",
       "      <td>Property OverviewListing Number115210602Type o...</td>\n",
       "      <td>2-bedroom-house-to-rent-in-tyu-tyu-north-11521...</td>\n",
       "      <td>115210602</td>\n",
       "      <td>House</td>\n",
       "      <td>Yes</td>\n",
       "      <td>No</td>\n",
       "      <td>...</td>\n",
       "      <td>1</td>\n",
       "      <td>1</td>\n",
       "      <td>None</td>\n",
       "      <td>1</td>\n",
       "      <td>None</td>\n",
       "      <td>None</td>\n",
       "      <td>None</td>\n",
       "      <td>1</td>\n",
       "      <td>None</td>\n",
       "      <td>None</td>\n",
       "    </tr>\n",
       "    <tr>\n",
       "      <th>3</th>\n",
       "      <td>R 7 500Per Month</td>\n",
       "      <td>Bhisho, Bisho Park</td>\n",
       "      <td>3 Bedroom House to Rent in Bisho Park</td>\n",
       "      <td>BetterProp is thrilled to present this well-ma...</td>\n",
       "      <td>Property OverviewListing Number115555490Type o...</td>\n",
       "      <td>3-bedroom-house-to-rent-in-bisho-park-115555490</td>\n",
       "      <td>115555490</td>\n",
       "      <td>House</td>\n",
       "      <td>Yes</td>\n",
       "      <td>No</td>\n",
       "      <td>...</td>\n",
       "      <td>1</td>\n",
       "      <td>None</td>\n",
       "      <td>None</td>\n",
       "      <td>3</td>\n",
       "      <td>None</td>\n",
       "      <td>None</td>\n",
       "      <td>None</td>\n",
       "      <td>None</td>\n",
       "      <td>None</td>\n",
       "      <td>None</td>\n",
       "    </tr>\n",
       "    <tr>\n",
       "      <th>4</th>\n",
       "      <td>R 5 500Per Month</td>\n",
       "      <td>Bhisho, Bisho Park</td>\n",
       "      <td>House to Rent in Bisho Park</td>\n",
       "      <td>This neat family home boasts:3 bedroomsOpen pl...</td>\n",
       "      <td>Property OverviewListing Number115525482Type o...</td>\n",
       "      <td>house-to-rent-in-bisho-park-115525482</td>\n",
       "      <td>115525482</td>\n",
       "      <td>House</td>\n",
       "      <td>None</td>\n",
       "      <td>None</td>\n",
       "      <td>...</td>\n",
       "      <td>None</td>\n",
       "      <td>None</td>\n",
       "      <td>None</td>\n",
       "      <td>None</td>\n",
       "      <td>None</td>\n",
       "      <td>None</td>\n",
       "      <td>None</td>\n",
       "      <td>None</td>\n",
       "      <td>None</td>\n",
       "      <td>None</td>\n",
       "    </tr>\n",
       "  </tbody>\n",
       "</table>\n",
       "<p>5 rows × 22 columns</p>\n",
       "</div>"
      ],
      "text/plain": [
       "              price                location  \\\n",
       "0  R 7 000Per Month   Bhisho, Tyu Tyu North   \n",
       "1  R 7 000Per Month  Bhisho, Bhisho Central   \n",
       "2  R 5 300Per Month   Bhisho, Tyu Tyu North   \n",
       "3  R 7 500Per Month      Bhisho, Bisho Park   \n",
       "4  R 5 500Per Month      Bhisho, Bisho Park   \n",
       "\n",
       "                              property_title  \\\n",
       "0   3 Bedroom House to Rent in Tyu Tyu North   \n",
       "1  3 Bedroom House to Rent in Bhisho Central   \n",
       "2   2 Bedroom House to Rent in Tyu Tyu North   \n",
       "3      3 Bedroom House to Rent in Bisho Park   \n",
       "4                House to Rent in Bisho Park   \n",
       "\n",
       "                                property_description  \\\n",
       "0  RE/MAX Border is proud to present this 3-bedro...   \n",
       "1  How CONVENIENT is this flat directly opposite ...   \n",
       "2  Comfortable Home for a family which is availab...   \n",
       "3  BetterProp is thrilled to present this well-ma...   \n",
       "4  This neat family home boasts:3 bedroomsOpen pl...   \n",
       "\n",
       "                                   property_features  \\\n",
       "0  Property OverviewListing Number115295115Type o...   \n",
       "1  Property OverviewListing Number115332086Type o...   \n",
       "2  Property OverviewListing Number115210602Type o...   \n",
       "3  Property OverviewListing Number115555490Type o...   \n",
       "4  Property OverviewListing Number115525482Type o...   \n",
       "\n",
       "                                        listing_slug Listing Number  \\\n",
       "0  3-bedroom-house-to-rent-in-tyu-tyu-north-11529...      115295115   \n",
       "1  3-bedroom-house-to-rent-in-bhisho-central-1153...      115332086   \n",
       "2  2-bedroom-house-to-rent-in-tyu-tyu-north-11521...      115210602   \n",
       "3    3-bedroom-house-to-rent-in-bisho-park-115555490      115555490   \n",
       "4              house-to-rent-in-bisho-park-115525482      115525482   \n",
       "\n",
       "  Type of Property Pets Allowed Furnished  ... Kitchen Lounge Dining Room  \\\n",
       "0            House           No        No  ...       1      1           1   \n",
       "1            House           No        No  ...       1      1        None   \n",
       "2            House          Yes        No  ...       1      1        None   \n",
       "3            House          Yes        No  ...       1   None        None   \n",
       "4            House         None      None  ...    None   None        None   \n",
       "\n",
       "  Parking Backup Water Erf Size (m²) Floor Area (m²) Garden  Pool Garage  \n",
       "0       1           No          None            None   None  None   None  \n",
       "1       1         None          None            None      1  None   None  \n",
       "2       1         None          None            None      1  None   None  \n",
       "3       3         None          None            None   None  None   None  \n",
       "4    None         None          None            None   None  None   None  \n",
       "\n",
       "[5 rows x 22 columns]"
      ]
     },
     "execution_count": 11,
     "metadata": {},
     "output_type": "execute_result"
    }
   ],
   "source": [
    "patterns = {\n",
    "    'Listing Number': r'Listing Number(\\d+)',\n",
    "    'Type of Property': r'Type of Property\\s*(House|Apartment / Flat|Townhouse|Commercial|Industrial|Vacant Land|Farm)',\n",
    "    'Pets Allowed': r'Pets Allowed(Yes|No)',\n",
    "    'Furnished': r'Furnished(Yes|No)',\n",
    "    'Bedrooms': r'Bedrooms?\\s*(\\d+)',\n",
    "    'Bathrooms': r'Bathrooms?\\s*(\\d+)',\n",
    "    'Kitchen': r'Kitchens?\\s*(\\d+)',\n",
    "    'Lounge': r'Lounges?\\s*(\\d+)',\n",
    "    'Dining Room': r'Dining Room(\\d+)',\n",
    "    'Parking': r'Parking(\\d+)',\n",
    "    'Backup Water': r'Backup Water(Yes|No)',\n",
    "    'Erf Size (m²)': r'Erf Size\\s*(\\d+)\\s*m²',\n",
    "    'Floor Area (m²)': r'Floor Area\\s*(\\d+)\\s*m²',\n",
    "    'Garden': r'Gardens?\\s*(\\d+)',\n",
    "    'Pool': r'Pools?\\s*(\\d+)',\n",
    "    'Garage': r'Garages?\\s*(\\d+)'\n",
    "}\n",
    "\n",
    "\n",
    "\n",
    "# Function to extract features from text\n",
    "def extract_features(text):\n",
    "    return {\n",
    "        field: (match := re.search(pattern, text)\n",
    "                ) and match.group(1).strip() or None for field, pattern in patterns.items()\n",
    "    }\n",
    "    \n",
    "# Apply extraction row-wise\n",
    "extracted_df = rental_listings['property_features'].apply(extract_features).apply(pd.Series)\n",
    "\n",
    "# Combine original df with the extracted columns\n",
    "results_df = pd.concat([rental_listings, extracted_df], axis=1)\n",
    "\n",
    "# View result\n",
    "results_df.head()"
   ]
  },
  {
   "cell_type": "code",
   "execution_count": 12,
   "id": "0903730d",
   "metadata": {},
   "outputs": [
    {
     "data": {
      "text/plain": [
       "np.int64(11068)"
      ]
     },
     "execution_count": 12,
     "metadata": {},
     "output_type": "execute_result"
    }
   ],
   "source": [
    "results_df[\"Bedrooms\"].isnull().sum()"
   ]
  },
  {
   "cell_type": "code",
   "execution_count": 13,
   "id": "6c804854",
   "metadata": {},
   "outputs": [],
   "source": [
    "def extract_bedrooms_from_property_title(title):\n",
    "    if pd.isna(title):\n",
    "        return None\n",
    "    match = re.search(r'(\\d+)[-\\s]?bedroom', title.lower())\n",
    "    return int(match.group(1)) if match else None\n",
    "\n",
    "results_df['Bedrooms'] = results_df['Bedrooms'].fillna(\n",
    "    results_df.apply(lambda row: extract_bedrooms_from_property_title(row['property_title']) if pd.isna(row['Bedrooms']) else row['Bedrooms'], axis=1))\n",
    "\n",
    "# Optional: convert to integer if needed\n",
    "results_df['Bedrooms'] = pd.to_numeric(results_df['Bedrooms'], errors='coerce').astype('Int64')"
   ]
  },
  {
   "cell_type": "code",
   "execution_count": 14,
   "id": "855df346",
   "metadata": {},
   "outputs": [
    {
     "data": {
      "text/plain": [
       "np.int64(8521)"
      ]
     },
     "execution_count": 14,
     "metadata": {},
     "output_type": "execute_result"
    }
   ],
   "source": [
    "results_df[\"Bedrooms\"].isnull().sum()"
   ]
  },
  {
   "cell_type": "markdown",
   "id": "492e5bab",
   "metadata": {},
   "source": [
    "####  Suburb, city and province extraction"
   ]
  },
  {
   "cell_type": "code",
   "execution_count": 15,
   "id": "4057939d",
   "metadata": {},
   "outputs": [
    {
     "data": {
      "text/html": [
       "<div>\n",
       "<style scoped>\n",
       "    .dataframe tbody tr th:only-of-type {\n",
       "        vertical-align: middle;\n",
       "    }\n",
       "\n",
       "    .dataframe tbody tr th {\n",
       "        vertical-align: top;\n",
       "    }\n",
       "\n",
       "    .dataframe thead th {\n",
       "        text-align: right;\n",
       "    }\n",
       "</style>\n",
       "<table border=\"1\" class=\"dataframe\">\n",
       "  <thead>\n",
       "    <tr style=\"text-align: right;\">\n",
       "      <th></th>\n",
       "      <th>price</th>\n",
       "      <th>location</th>\n",
       "      <th>property_description</th>\n",
       "      <th>property_features</th>\n",
       "      <th>listing_slug</th>\n",
       "      <th>Listing Number</th>\n",
       "      <th>Type of Property</th>\n",
       "      <th>Pets Allowed</th>\n",
       "      <th>Furnished</th>\n",
       "      <th>Bedrooms</th>\n",
       "      <th>...</th>\n",
       "      <th>Lounge</th>\n",
       "      <th>Dining Room</th>\n",
       "      <th>Parking</th>\n",
       "      <th>Backup Water</th>\n",
       "      <th>Erf Size (m²)</th>\n",
       "      <th>Floor Area (m²)</th>\n",
       "      <th>Garden</th>\n",
       "      <th>Pool</th>\n",
       "      <th>Garage</th>\n",
       "      <th>suburb</th>\n",
       "    </tr>\n",
       "  </thead>\n",
       "  <tbody>\n",
       "    <tr>\n",
       "      <th>0</th>\n",
       "      <td>R 7 000Per Month</td>\n",
       "      <td>Bhisho, Tyu Tyu North</td>\n",
       "      <td>RE/MAX Border is proud to present this 3-bedro...</td>\n",
       "      <td>Property OverviewListing Number115295115Type o...</td>\n",
       "      <td>3-bedroom-house-to-rent-in-tyu-tyu-north-11529...</td>\n",
       "      <td>115295115</td>\n",
       "      <td>House</td>\n",
       "      <td>No</td>\n",
       "      <td>No</td>\n",
       "      <td>3</td>\n",
       "      <td>...</td>\n",
       "      <td>1</td>\n",
       "      <td>1</td>\n",
       "      <td>1</td>\n",
       "      <td>No</td>\n",
       "      <td>None</td>\n",
       "      <td>None</td>\n",
       "      <td>None</td>\n",
       "      <td>None</td>\n",
       "      <td>None</td>\n",
       "      <td>Tyu Tyu North</td>\n",
       "    </tr>\n",
       "    <tr>\n",
       "      <th>1</th>\n",
       "      <td>R 7 000Per Month</td>\n",
       "      <td>Bhisho, Bhisho Central</td>\n",
       "      <td>How CONVENIENT is this flat directly opposite ...</td>\n",
       "      <td>Property OverviewListing Number115332086Type o...</td>\n",
       "      <td>3-bedroom-house-to-rent-in-bhisho-central-1153...</td>\n",
       "      <td>115332086</td>\n",
       "      <td>House</td>\n",
       "      <td>No</td>\n",
       "      <td>No</td>\n",
       "      <td>3</td>\n",
       "      <td>...</td>\n",
       "      <td>1</td>\n",
       "      <td>None</td>\n",
       "      <td>1</td>\n",
       "      <td>None</td>\n",
       "      <td>None</td>\n",
       "      <td>None</td>\n",
       "      <td>1</td>\n",
       "      <td>None</td>\n",
       "      <td>None</td>\n",
       "      <td>Bhisho Central</td>\n",
       "    </tr>\n",
       "    <tr>\n",
       "      <th>2</th>\n",
       "      <td>R 5 300Per Month</td>\n",
       "      <td>Bhisho, Tyu Tyu North</td>\n",
       "      <td>Comfortable Home for a family which is availab...</td>\n",
       "      <td>Property OverviewListing Number115210602Type o...</td>\n",
       "      <td>2-bedroom-house-to-rent-in-tyu-tyu-north-11521...</td>\n",
       "      <td>115210602</td>\n",
       "      <td>House</td>\n",
       "      <td>Yes</td>\n",
       "      <td>No</td>\n",
       "      <td>2</td>\n",
       "      <td>...</td>\n",
       "      <td>1</td>\n",
       "      <td>None</td>\n",
       "      <td>1</td>\n",
       "      <td>None</td>\n",
       "      <td>None</td>\n",
       "      <td>None</td>\n",
       "      <td>1</td>\n",
       "      <td>None</td>\n",
       "      <td>None</td>\n",
       "      <td>Tyu Tyu North</td>\n",
       "    </tr>\n",
       "    <tr>\n",
       "      <th>3</th>\n",
       "      <td>R 7 500Per Month</td>\n",
       "      <td>Bhisho, Bisho Park</td>\n",
       "      <td>BetterProp is thrilled to present this well-ma...</td>\n",
       "      <td>Property OverviewListing Number115555490Type o...</td>\n",
       "      <td>3-bedroom-house-to-rent-in-bisho-park-115555490</td>\n",
       "      <td>115555490</td>\n",
       "      <td>House</td>\n",
       "      <td>Yes</td>\n",
       "      <td>No</td>\n",
       "      <td>3</td>\n",
       "      <td>...</td>\n",
       "      <td>None</td>\n",
       "      <td>None</td>\n",
       "      <td>3</td>\n",
       "      <td>None</td>\n",
       "      <td>None</td>\n",
       "      <td>None</td>\n",
       "      <td>None</td>\n",
       "      <td>None</td>\n",
       "      <td>None</td>\n",
       "      <td>Bisho Park</td>\n",
       "    </tr>\n",
       "    <tr>\n",
       "      <th>4</th>\n",
       "      <td>R 5 500Per Month</td>\n",
       "      <td>Bhisho, Bisho Park</td>\n",
       "      <td>This neat family home boasts:3 bedroomsOpen pl...</td>\n",
       "      <td>Property OverviewListing Number115525482Type o...</td>\n",
       "      <td>house-to-rent-in-bisho-park-115525482</td>\n",
       "      <td>115525482</td>\n",
       "      <td>House</td>\n",
       "      <td>None</td>\n",
       "      <td>None</td>\n",
       "      <td>&lt;NA&gt;</td>\n",
       "      <td>...</td>\n",
       "      <td>None</td>\n",
       "      <td>None</td>\n",
       "      <td>None</td>\n",
       "      <td>None</td>\n",
       "      <td>None</td>\n",
       "      <td>None</td>\n",
       "      <td>None</td>\n",
       "      <td>None</td>\n",
       "      <td>None</td>\n",
       "      <td>Bisho Park</td>\n",
       "    </tr>\n",
       "  </tbody>\n",
       "</table>\n",
       "<p>5 rows × 22 columns</p>\n",
       "</div>"
      ],
      "text/plain": [
       "              price                location  \\\n",
       "0  R 7 000Per Month   Bhisho, Tyu Tyu North   \n",
       "1  R 7 000Per Month  Bhisho, Bhisho Central   \n",
       "2  R 5 300Per Month   Bhisho, Tyu Tyu North   \n",
       "3  R 7 500Per Month      Bhisho, Bisho Park   \n",
       "4  R 5 500Per Month      Bhisho, Bisho Park   \n",
       "\n",
       "                                property_description  \\\n",
       "0  RE/MAX Border is proud to present this 3-bedro...   \n",
       "1  How CONVENIENT is this flat directly opposite ...   \n",
       "2  Comfortable Home for a family which is availab...   \n",
       "3  BetterProp is thrilled to present this well-ma...   \n",
       "4  This neat family home boasts:3 bedroomsOpen pl...   \n",
       "\n",
       "                                   property_features  \\\n",
       "0  Property OverviewListing Number115295115Type o...   \n",
       "1  Property OverviewListing Number115332086Type o...   \n",
       "2  Property OverviewListing Number115210602Type o...   \n",
       "3  Property OverviewListing Number115555490Type o...   \n",
       "4  Property OverviewListing Number115525482Type o...   \n",
       "\n",
       "                                        listing_slug Listing Number  \\\n",
       "0  3-bedroom-house-to-rent-in-tyu-tyu-north-11529...      115295115   \n",
       "1  3-bedroom-house-to-rent-in-bhisho-central-1153...      115332086   \n",
       "2  2-bedroom-house-to-rent-in-tyu-tyu-north-11521...      115210602   \n",
       "3    3-bedroom-house-to-rent-in-bisho-park-115555490      115555490   \n",
       "4              house-to-rent-in-bisho-park-115525482      115525482   \n",
       "\n",
       "  Type of Property Pets Allowed Furnished  Bedrooms  ... Lounge Dining Room  \\\n",
       "0            House           No        No         3  ...      1           1   \n",
       "1            House           No        No         3  ...      1        None   \n",
       "2            House          Yes        No         2  ...      1        None   \n",
       "3            House          Yes        No         3  ...   None        None   \n",
       "4            House         None      None      <NA>  ...   None        None   \n",
       "\n",
       "  Parking Backup Water Erf Size (m²) Floor Area (m²) Garden  Pool Garage  \\\n",
       "0       1           No          None            None   None  None   None   \n",
       "1       1         None          None            None      1  None   None   \n",
       "2       1         None          None            None      1  None   None   \n",
       "3       3         None          None            None   None  None   None   \n",
       "4    None         None          None            None   None  None   None   \n",
       "\n",
       "           suburb  \n",
       "0   Tyu Tyu North  \n",
       "1  Bhisho Central  \n",
       "2   Tyu Tyu North  \n",
       "3      Bisho Park  \n",
       "4      Bisho Park  \n",
       "\n",
       "[5 rows x 22 columns]"
      ]
     },
     "execution_count": 15,
     "metadata": {},
     "output_type": "execute_result"
    }
   ],
   "source": [
    "# Extract the suburb from the property_title column\n",
    "results_df['suburb'] = results_df['property_title'].str.extract(\n",
    "    r'to Rent in (.+)', expand=False)\n",
    "\n",
    "# Remove the trailing numbers from the suburb column\n",
    "results_df['suburb'] = (\n",
    "    results_df['suburb'].str.replace(r'-\\d+$', '', regex=True).str.strip())\n",
    "\n",
    "# Drop the property_title column as we have exytacted all the information we need\n",
    "results_df.drop(columns=['property_title'], inplace=True)\n",
    "\n",
    "# Print the first five rows of the table to see the results\n",
    "results_df.head()"
   ]
  },
  {
   "cell_type": "code",
   "execution_count": 16,
   "id": "46e5b844",
   "metadata": {},
   "outputs": [],
   "source": [
    "# Load the csv that contains the capital_cities with their respective provinces and create a mapping\n",
    "city_province = pd.read_csv(\"../data/raw/south_africa_provinces_capitals.csv\")\n",
    "city_list = city_province['city'].dropna().str.strip().unique()"
   ]
  },
  {
   "cell_type": "code",
   "execution_count": 17,
   "id": "1fd25e90",
   "metadata": {},
   "outputs": [],
   "source": [
    "def extract_city_from_location(location, city_list):\n",
    "    if pd.isna(location):\n",
    "        return None\n",
    "    \n",
    "    \n",
    "    location_lower = location.lower()\n",
    "    for city in city_list:\n",
    "        if city.lower() in location_lower:\n",
    "            return city\n",
    "    return None"
   ]
  },
  {
   "cell_type": "code",
   "execution_count": 18,
   "id": "40cea20f",
   "metadata": {},
   "outputs": [],
   "source": [
    "# Apply the extract_city_from_location function to extract the city from the location column\n",
    "results_df['city'] = results_df['location'].apply(\n",
    "    lambda loc: extract_city_from_location(loc, city_list))\n",
    "\n",
    "# Drop the location column as it is redundant\n",
    "results_df.drop(columns=[\"location\"], inplace=True)"
   ]
  },
  {
   "cell_type": "code",
   "execution_count": 19,
   "id": "5d587f6e",
   "metadata": {},
   "outputs": [],
   "source": [
    "# Create a mapping of suburb to known cities\n",
    "suburb_to_city_map = results_df[results_df['city'].notna()].drop_duplicates(subset=['suburb', 'city']).set_index('suburb')['city'].to_dict()\n",
    "\n",
    "# Fill missing city values based on the suburb\n",
    "results_df['city'] = results_df.apply(lambda row: suburb_to_city_map.get(row['suburb'], row['city']) if pd.isna(row['city']) else row['city'], axis= 1)   "
   ]
  },
  {
   "cell_type": "code",
   "execution_count": 20,
   "id": "90f5968d",
   "metadata": {},
   "outputs": [
    {
     "data": {
      "text/plain": [
       "np.int64(91)"
      ]
     },
     "execution_count": 20,
     "metadata": {},
     "output_type": "execute_result"
    }
   ],
   "source": [
    "results_df['city'].isnull().sum()"
   ]
  },
  {
   "cell_type": "code",
   "execution_count": 21,
   "id": "aac4dd4b",
   "metadata": {},
   "outputs": [],
   "source": [
    "# Drop the city rows with null values\n",
    "results_df = results_df.dropna(subset=['city'])"
   ]
  },
  {
   "cell_type": "code",
   "execution_count": 22,
   "id": "dd032d2c",
   "metadata": {},
   "outputs": [
    {
     "data": {
      "text/plain": [
       "np.int64(0)"
      ]
     },
     "execution_count": 22,
     "metadata": {},
     "output_type": "execute_result"
    }
   ],
   "source": [
    "results_df['city'].isnull().sum()"
   ]
  },
  {
   "cell_type": "code",
   "execution_count": 23,
   "id": "1fe2bdb3",
   "metadata": {},
   "outputs": [],
   "source": [
    "# Merge the city with its matching province\n",
    "results_df = results_df.merge(city_province, on='city', how='left')"
   ]
  },
  {
   "cell_type": "code",
   "execution_count": 24,
   "id": "7083d40c",
   "metadata": {},
   "outputs": [],
   "source": [
    "# Drop the listing slug column\n",
    "results_df.drop(columns=['listing_slug'], inplace=True)"
   ]
  },
  {
   "cell_type": "markdown",
   "id": "85a7fb31",
   "metadata": {},
   "source": [
    "#### Price column"
   ]
  },
  {
   "cell_type": "code",
   "execution_count": 25,
   "id": "fd3bd830",
   "metadata": {},
   "outputs": [
    {
     "name": "stdout",
     "output_type": "stream",
     "text": [
      "              price price_type  price (in rands)\n",
      "0  R 7 000Per Month  Per Month            7000.0\n",
      "1  R 7 000Per Month  Per Month            7000.0\n",
      "2  R 5 300Per Month  Per Month            5300.0\n",
      "3  R 7 500Per Month  Per Month            7500.0\n",
      "4  R 5 500Per Month  Per Month            5500.0\n"
     ]
    }
   ],
   "source": [
    "# Extract the pricing option after the price amount\n",
    "results_df['price_type'] = results_df['price'].str.extract(\n",
    "    r'(Per\\s*Month|Per\\s*Day|m2|m²|Perm²)', flags=re.IGNORECASE, expand=False\n",
    ")\n",
    "\n",
    "\n",
    "# Normalize price_type text (remove spaces, lower case) then map to standard form\n",
    "results_df['price_type'] = results_df['price_type'].str.replace(\n",
    "    r'\\s+', '', regex=True).str.lower()\n",
    "results_df['price_type'] = results_df['price_type'].replace({\n",
    "    'permonth': 'Per Month',\n",
    "    'perday': 'Per Day',\n",
    "    'm2': 'Per m²',\n",
    "    'm²': 'Per m²',\n",
    "    'perm²': 'Per m²'\n",
    "})\n",
    "\n",
    "# Remove spaces inside the price string first\n",
    "results_df['price_clean'] = results_df['price'].str.replace(\n",
    "    r'\\s+', '', regex=True)\n",
    "\n",
    "# Now extract the numeric part (digits only, continuous)\n",
    "results_df['price (in rands)'] = results_df['price_clean'].str.extract(\n",
    "    r'R?(\\d+)', expand=False)\n",
    "\n",
    "# Convert the price(in rands) column to numeric\n",
    "results_df['price (in rands)'] = pd.to_numeric(\n",
    "    results_df['price (in rands)'], errors='coerce')\n",
    "\n",
    "# Drop the helper clean column if you want\n",
    "results_df.drop(columns=['price_clean'], inplace=True)\n",
    "\n",
    "# Then clean blank or whitespace-only price_type entries as before\n",
    "results_df['price_type'] = results_df['price_type'].replace(\n",
    "    r'^\\s*$', pd.NA, regex=True)\n",
    "\n",
    "# Preview results\n",
    "print(results_df[['price', 'price_type', 'price (in rands)']].head())"
   ]
  },
  {
   "cell_type": "code",
   "execution_count": 26,
   "id": "14d6e2f3",
   "metadata": {},
   "outputs": [
    {
     "data": {
      "text/plain": [
       "price_type\n",
       "Per Month    12826\n",
       "Per m²         948\n",
       "Per Day        143\n",
       "Name: count, dtype: int64"
      ]
     },
     "execution_count": 26,
     "metadata": {},
     "output_type": "execute_result"
    }
   ],
   "source": [
    "# Get the unique values in the price_type column\n",
    "results_df['price_type'].value_counts()"
   ]
  },
  {
   "cell_type": "code",
   "execution_count": 27,
   "id": "0b368c91",
   "metadata": {},
   "outputs": [
    {
     "data": {
      "text/plain": [
       "np.int64(12)"
      ]
     },
     "execution_count": 27,
     "metadata": {},
     "output_type": "execute_result"
    }
   ],
   "source": [
    "# Get the number of null values in the price_type column\n",
    "results_df['price_type'].isnull().sum()"
   ]
  },
  {
   "cell_type": "code",
   "execution_count": 28,
   "id": "32602d6a",
   "metadata": {},
   "outputs": [
    {
     "data": {
      "text/html": [
       "<div>\n",
       "<style scoped>\n",
       "    .dataframe tbody tr th:only-of-type {\n",
       "        vertical-align: middle;\n",
       "    }\n",
       "\n",
       "    .dataframe tbody tr th {\n",
       "        vertical-align: top;\n",
       "    }\n",
       "\n",
       "    .dataframe thead th {\n",
       "        text-align: right;\n",
       "    }\n",
       "</style>\n",
       "<table border=\"1\" class=\"dataframe\">\n",
       "  <thead>\n",
       "    <tr style=\"text-align: right;\">\n",
       "      <th></th>\n",
       "      <th>price</th>\n",
       "      <th>property_description</th>\n",
       "      <th>property_features</th>\n",
       "      <th>Listing Number</th>\n",
       "      <th>Type of Property</th>\n",
       "      <th>Pets Allowed</th>\n",
       "      <th>Furnished</th>\n",
       "      <th>Bedrooms</th>\n",
       "      <th>Bathrooms</th>\n",
       "      <th>Kitchen</th>\n",
       "      <th>...</th>\n",
       "      <th>Erf Size (m²)</th>\n",
       "      <th>Floor Area (m²)</th>\n",
       "      <th>Garden</th>\n",
       "      <th>Pool</th>\n",
       "      <th>Garage</th>\n",
       "      <th>suburb</th>\n",
       "      <th>city</th>\n",
       "      <th>province</th>\n",
       "      <th>price_type</th>\n",
       "      <th>price (in rands)</th>\n",
       "    </tr>\n",
       "  </thead>\n",
       "  <tbody>\n",
       "    <tr>\n",
       "      <th>357</th>\n",
       "      <td>POA</td>\n",
       "      <td>Unit 1 within 29 Grey Street, Hilton - FS, Blo...</td>\n",
       "      <td>Property OverviewListing Number114774738Type o...</td>\n",
       "      <td>114774738</td>\n",
       "      <td>Industrial</td>\n",
       "      <td>None</td>\n",
       "      <td>No</td>\n",
       "      <td>&lt;NA&gt;</td>\n",
       "      <td>None</td>\n",
       "      <td>None</td>\n",
       "      <td>...</td>\n",
       "      <td>None</td>\n",
       "      <td>None</td>\n",
       "      <td>None</td>\n",
       "      <td>None</td>\n",
       "      <td>None</td>\n",
       "      <td>Hilton</td>\n",
       "      <td>Bloemfontein</td>\n",
       "      <td>Free State</td>\n",
       "      <td>NaN</td>\n",
       "      <td>NaN</td>\n",
       "    </tr>\n",
       "    <tr>\n",
       "      <th>3728</th>\n",
       "      <td>POA</td>\n",
       "      <td>Salty ocean breezes, golden sunsets, breathtak...</td>\n",
       "      <td>Property OverviewListing Number115605901Type o...</td>\n",
       "      <td>115605901</td>\n",
       "      <td>House</td>\n",
       "      <td>No</td>\n",
       "      <td>Yes</td>\n",
       "      <td>4</td>\n",
       "      <td>6</td>\n",
       "      <td>2</td>\n",
       "      <td>...</td>\n",
       "      <td>None</td>\n",
       "      <td>None</td>\n",
       "      <td>1</td>\n",
       "      <td>1</td>\n",
       "      <td>1</td>\n",
       "      <td>Bantry Bay</td>\n",
       "      <td>Cape Town</td>\n",
       "      <td>Western Cape</td>\n",
       "      <td>NaN</td>\n",
       "      <td>NaN</td>\n",
       "    </tr>\n",
       "    <tr>\n",
       "      <th>3760</th>\n",
       "      <td>POA</td>\n",
       "      <td>Peering over the edge of Africa from its cliff...</td>\n",
       "      <td>Property OverviewListing Number115594664Type o...</td>\n",
       "      <td>115594664</td>\n",
       "      <td>House</td>\n",
       "      <td>No</td>\n",
       "      <td>Yes</td>\n",
       "      <td>5</td>\n",
       "      <td>7</td>\n",
       "      <td>2</td>\n",
       "      <td>...</td>\n",
       "      <td>None</td>\n",
       "      <td>None</td>\n",
       "      <td>None</td>\n",
       "      <td>1</td>\n",
       "      <td>1</td>\n",
       "      <td>Clifton</td>\n",
       "      <td>Cape Town</td>\n",
       "      <td>Western Cape</td>\n",
       "      <td>NaN</td>\n",
       "      <td>NaN</td>\n",
       "    </tr>\n",
       "    <tr>\n",
       "      <th>3771</th>\n",
       "      <td>POA</td>\n",
       "      <td>Drawing inspiration from the whitewashed villa...</td>\n",
       "      <td>Property OverviewListing Number115613951Type o...</td>\n",
       "      <td>115613951</td>\n",
       "      <td>House</td>\n",
       "      <td>None</td>\n",
       "      <td>Yes</td>\n",
       "      <td>5</td>\n",
       "      <td>5</td>\n",
       "      <td>2</td>\n",
       "      <td>...</td>\n",
       "      <td>None</td>\n",
       "      <td>None</td>\n",
       "      <td>None</td>\n",
       "      <td>1</td>\n",
       "      <td>1</td>\n",
       "      <td>Fresnaye</td>\n",
       "      <td>Cape Town</td>\n",
       "      <td>Western Cape</td>\n",
       "      <td>NaN</td>\n",
       "      <td>NaN</td>\n",
       "    </tr>\n",
       "    <tr>\n",
       "      <th>3837</th>\n",
       "      <td>POA</td>\n",
       "      <td>With its gaze fixed to the horizon, this beach...</td>\n",
       "      <td>Property OverviewListing Number115606187Type o...</td>\n",
       "      <td>115606187</td>\n",
       "      <td>House</td>\n",
       "      <td>No</td>\n",
       "      <td>Yes</td>\n",
       "      <td>4</td>\n",
       "      <td>5</td>\n",
       "      <td>1</td>\n",
       "      <td>...</td>\n",
       "      <td>None</td>\n",
       "      <td>None</td>\n",
       "      <td>None</td>\n",
       "      <td>1</td>\n",
       "      <td>2</td>\n",
       "      <td>Clifton</td>\n",
       "      <td>Cape Town</td>\n",
       "      <td>Western Cape</td>\n",
       "      <td>NaN</td>\n",
       "      <td>NaN</td>\n",
       "    </tr>\n",
       "    <tr>\n",
       "      <th>4180</th>\n",
       "      <td>POA</td>\n",
       "      <td>An exceptional and very glamorous Llandudno vi...</td>\n",
       "      <td>Property OverviewListing Number108778518Type o...</td>\n",
       "      <td>108778518</td>\n",
       "      <td>House</td>\n",
       "      <td>None</td>\n",
       "      <td>Yes</td>\n",
       "      <td>5</td>\n",
       "      <td>5</td>\n",
       "      <td>1</td>\n",
       "      <td>...</td>\n",
       "      <td>991</td>\n",
       "      <td>862</td>\n",
       "      <td>None</td>\n",
       "      <td>None</td>\n",
       "      <td>None</td>\n",
       "      <td>Llandudno</td>\n",
       "      <td>Cape Town</td>\n",
       "      <td>Western Cape</td>\n",
       "      <td>NaN</td>\n",
       "      <td>NaN</td>\n",
       "    </tr>\n",
       "    <tr>\n",
       "      <th>4587</th>\n",
       "      <td>POA</td>\n",
       "      <td>*Please note that the daily rate ranges from R...</td>\n",
       "      <td>Property OverviewListing Number115118688Type o...</td>\n",
       "      <td>115118688</td>\n",
       "      <td>House</td>\n",
       "      <td>No</td>\n",
       "      <td>Yes</td>\n",
       "      <td>5</td>\n",
       "      <td>4</td>\n",
       "      <td>1</td>\n",
       "      <td>...</td>\n",
       "      <td>530</td>\n",
       "      <td>None</td>\n",
       "      <td>None</td>\n",
       "      <td>None</td>\n",
       "      <td>None</td>\n",
       "      <td>Camps Bay</td>\n",
       "      <td>Cape Town</td>\n",
       "      <td>Western Cape</td>\n",
       "      <td>NaN</td>\n",
       "      <td>NaN</td>\n",
       "    </tr>\n",
       "    <tr>\n",
       "      <th>4610</th>\n",
       "      <td>POA</td>\n",
       "      <td>Clifton beach bungalow with entertainment area...</td>\n",
       "      <td>Property OverviewListing Number115153896Type o...</td>\n",
       "      <td>115153896</td>\n",
       "      <td>House</td>\n",
       "      <td>No</td>\n",
       "      <td>Yes</td>\n",
       "      <td>5</td>\n",
       "      <td>5</td>\n",
       "      <td>None</td>\n",
       "      <td>...</td>\n",
       "      <td>None</td>\n",
       "      <td>463</td>\n",
       "      <td>None</td>\n",
       "      <td>None</td>\n",
       "      <td>None</td>\n",
       "      <td>Clifton</td>\n",
       "      <td>Cape Town</td>\n",
       "      <td>Western Cape</td>\n",
       "      <td>NaN</td>\n",
       "      <td>NaN</td>\n",
       "    </tr>\n",
       "    <tr>\n",
       "      <th>4896</th>\n",
       "      <td>POA</td>\n",
       "      <td>A beautifully crafted furnished home with the ...</td>\n",
       "      <td>Property OverviewListing Number110813037Type o...</td>\n",
       "      <td>110813037</td>\n",
       "      <td>House</td>\n",
       "      <td>None</td>\n",
       "      <td>Yes</td>\n",
       "      <td>8</td>\n",
       "      <td>8</td>\n",
       "      <td>1</td>\n",
       "      <td>...</td>\n",
       "      <td>None</td>\n",
       "      <td>605</td>\n",
       "      <td>None</td>\n",
       "      <td>None</td>\n",
       "      <td>None</td>\n",
       "      <td>Llandudno</td>\n",
       "      <td>Cape Town</td>\n",
       "      <td>Western Cape</td>\n",
       "      <td>NaN</td>\n",
       "      <td>NaN</td>\n",
       "    </tr>\n",
       "    <tr>\n",
       "      <th>4899</th>\n",
       "      <td>POA</td>\n",
       "      <td>Welcome to this Constantia homestead, steeped ...</td>\n",
       "      <td>Property OverviewListing Number113953599Type o...</td>\n",
       "      <td>113953599</td>\n",
       "      <td>House</td>\n",
       "      <td>None</td>\n",
       "      <td>Yes</td>\n",
       "      <td>7</td>\n",
       "      <td>7</td>\n",
       "      <td>None</td>\n",
       "      <td>...</td>\n",
       "      <td>None</td>\n",
       "      <td>None</td>\n",
       "      <td>None</td>\n",
       "      <td>None</td>\n",
       "      <td>None</td>\n",
       "      <td>Constantia</td>\n",
       "      <td>Cape Town</td>\n",
       "      <td>Western Cape</td>\n",
       "      <td>NaN</td>\n",
       "      <td>NaN</td>\n",
       "    </tr>\n",
       "    <tr>\n",
       "      <th>5027</th>\n",
       "      <td>POA</td>\n",
       "      <td>Laika Villa is located on the slopes of the At...</td>\n",
       "      <td>Property OverviewListing Number106851597Type o...</td>\n",
       "      <td>106851597</td>\n",
       "      <td>House</td>\n",
       "      <td>None</td>\n",
       "      <td>Yes</td>\n",
       "      <td>7</td>\n",
       "      <td>5</td>\n",
       "      <td>1</td>\n",
       "      <td>...</td>\n",
       "      <td>None</td>\n",
       "      <td>None</td>\n",
       "      <td>None</td>\n",
       "      <td>None</td>\n",
       "      <td>None</td>\n",
       "      <td>Llandudno</td>\n",
       "      <td>Cape Town</td>\n",
       "      <td>Western Cape</td>\n",
       "      <td>NaN</td>\n",
       "      <td>NaN</td>\n",
       "    </tr>\n",
       "    <tr>\n",
       "      <th>11534</th>\n",
       "      <td>POA</td>\n",
       "      <td>19 Fortune Street, City Deep, Gauteng17 155 sq...</td>\n",
       "      <td>Property OverviewListing Number114533276Type o...</td>\n",
       "      <td>114533276</td>\n",
       "      <td>Industrial</td>\n",
       "      <td>None</td>\n",
       "      <td>None</td>\n",
       "      <td>&lt;NA&gt;</td>\n",
       "      <td>None</td>\n",
       "      <td>None</td>\n",
       "      <td>...</td>\n",
       "      <td>None</td>\n",
       "      <td>None</td>\n",
       "      <td>None</td>\n",
       "      <td>None</td>\n",
       "      <td>None</td>\n",
       "      <td>City Deep</td>\n",
       "      <td>Johannesburg</td>\n",
       "      <td>Gauteng</td>\n",
       "      <td>NaN</td>\n",
       "      <td>NaN</td>\n",
       "    </tr>\n",
       "  </tbody>\n",
       "</table>\n",
       "<p>12 rows × 24 columns</p>\n",
       "</div>"
      ],
      "text/plain": [
       "      price                               property_description  \\\n",
       "357     POA  Unit 1 within 29 Grey Street, Hilton - FS, Blo...   \n",
       "3728    POA  Salty ocean breezes, golden sunsets, breathtak...   \n",
       "3760    POA  Peering over the edge of Africa from its cliff...   \n",
       "3771    POA  Drawing inspiration from the whitewashed villa...   \n",
       "3837    POA  With its gaze fixed to the horizon, this beach...   \n",
       "4180    POA  An exceptional and very glamorous Llandudno vi...   \n",
       "4587    POA  *Please note that the daily rate ranges from R...   \n",
       "4610    POA  Clifton beach bungalow with entertainment area...   \n",
       "4896    POA  A beautifully crafted furnished home with the ...   \n",
       "4899    POA  Welcome to this Constantia homestead, steeped ...   \n",
       "5027    POA  Laika Villa is located on the slopes of the At...   \n",
       "11534   POA  19 Fortune Street, City Deep, Gauteng17 155 sq...   \n",
       "\n",
       "                                       property_features Listing Number  \\\n",
       "357    Property OverviewListing Number114774738Type o...      114774738   \n",
       "3728   Property OverviewListing Number115605901Type o...      115605901   \n",
       "3760   Property OverviewListing Number115594664Type o...      115594664   \n",
       "3771   Property OverviewListing Number115613951Type o...      115613951   \n",
       "3837   Property OverviewListing Number115606187Type o...      115606187   \n",
       "4180   Property OverviewListing Number108778518Type o...      108778518   \n",
       "4587   Property OverviewListing Number115118688Type o...      115118688   \n",
       "4610   Property OverviewListing Number115153896Type o...      115153896   \n",
       "4896   Property OverviewListing Number110813037Type o...      110813037   \n",
       "4899   Property OverviewListing Number113953599Type o...      113953599   \n",
       "5027   Property OverviewListing Number106851597Type o...      106851597   \n",
       "11534  Property OverviewListing Number114533276Type o...      114533276   \n",
       "\n",
       "      Type of Property Pets Allowed Furnished  Bedrooms Bathrooms Kitchen  \\\n",
       "357         Industrial         None        No      <NA>      None    None   \n",
       "3728             House           No       Yes         4         6       2   \n",
       "3760             House           No       Yes         5         7       2   \n",
       "3771             House         None       Yes         5         5       2   \n",
       "3837             House           No       Yes         4         5       1   \n",
       "4180             House         None       Yes         5         5       1   \n",
       "4587             House           No       Yes         5         4       1   \n",
       "4610             House           No       Yes         5         5    None   \n",
       "4896             House         None       Yes         8         8       1   \n",
       "4899             House         None       Yes         7         7    None   \n",
       "5027             House         None       Yes         7         5       1   \n",
       "11534       Industrial         None      None      <NA>      None    None   \n",
       "\n",
       "       ... Erf Size (m²) Floor Area (m²) Garden  Pool Garage      suburb  \\\n",
       "357    ...          None            None   None  None   None      Hilton   \n",
       "3728   ...          None            None      1     1      1  Bantry Bay   \n",
       "3760   ...          None            None   None     1      1     Clifton   \n",
       "3771   ...          None            None   None     1      1    Fresnaye   \n",
       "3837   ...          None            None   None     1      2     Clifton   \n",
       "4180   ...           991             862   None  None   None   Llandudno   \n",
       "4587   ...           530            None   None  None   None   Camps Bay   \n",
       "4610   ...          None             463   None  None   None     Clifton   \n",
       "4896   ...          None             605   None  None   None   Llandudno   \n",
       "4899   ...          None            None   None  None   None  Constantia   \n",
       "5027   ...          None            None   None  None   None   Llandudno   \n",
       "11534  ...          None            None   None  None   None   City Deep   \n",
       "\n",
       "               city      province price_type price (in rands)  \n",
       "357    Bloemfontein    Free State        NaN              NaN  \n",
       "3728      Cape Town  Western Cape        NaN              NaN  \n",
       "3760      Cape Town  Western Cape        NaN              NaN  \n",
       "3771      Cape Town  Western Cape        NaN              NaN  \n",
       "3837      Cape Town  Western Cape        NaN              NaN  \n",
       "4180      Cape Town  Western Cape        NaN              NaN  \n",
       "4587      Cape Town  Western Cape        NaN              NaN  \n",
       "4610      Cape Town  Western Cape        NaN              NaN  \n",
       "4896      Cape Town  Western Cape        NaN              NaN  \n",
       "4899      Cape Town  Western Cape        NaN              NaN  \n",
       "5027      Cape Town  Western Cape        NaN              NaN  \n",
       "11534  Johannesburg       Gauteng        NaN              NaN  \n",
       "\n",
       "[12 rows x 24 columns]"
      ]
     },
     "execution_count": 28,
     "metadata": {},
     "output_type": "execute_result"
    }
   ],
   "source": [
    "# Visualize the rows where price_type is null\n",
    "results_df[results_df['price_type'].isna()]"
   ]
  },
  {
   "cell_type": "markdown",
   "id": "35c8cfb8",
   "metadata": {},
   "source": [
    "Identify price columns that are equal to POA and contain the price type and those without. "
   ]
  },
  {
   "cell_type": "code",
   "execution_count": 29,
   "id": "b742f58d",
   "metadata": {},
   "outputs": [
    {
     "name": "stdout",
     "output_type": "stream",
     "text": [
      "There are 217 listings with 'POA' in the price column.\n"
     ]
    }
   ],
   "source": [
    "# Get the number of rows in the dataset in the 'price' column that are equal to 'POA'\n",
    "poa_mask = results_df['price'].astype(\n",
    "    str).str.contains(\"POA\", case=False, na=False)\n",
    "num_poa = poa_mask.sum()\n",
    "\n",
    "# Print the total number of rows\n",
    "print(f\"There are {num_poa} listings with 'POA' in the price column.\")"
   ]
  },
  {
   "cell_type": "code",
   "execution_count": 30,
   "id": "a895e0c1",
   "metadata": {},
   "outputs": [],
   "source": [
    "# Identify POA rows with valid price_type\n",
    "poa_mask = results_df['price'].str.lower().str.startswith('poa')\n",
    "poa_with_type_mask = poa_mask & results_df['price_type'].notna() & (results_df['price_type'] != '')\n",
    "\n",
    "# Calculate averages for the suburb, Type of Property and price_type\n",
    "avg_prices = results_df[~poa_mask & results_df['price (in rands)'].notna()] \\\n",
    "    .groupby(['suburb', 'Type of Property', 'price_type'])['price (in rands)'] \\\n",
    "    .apply(lambda x: pd.to_numeric(x, errors='coerce').mean()) \\\n",
    "    .reset_index().rename(columns={'price (in rands)': 'price_avg'})\n",
    "    \n",
    "# Merge the averages into the original DataFrame\n",
    "results_df = results_df.merge(avg_prices, on=['suburb', 'Type of Property', 'price_type'], how='left')\n",
    "\n",
    "# Replace the POA with non-empty price_types with the averages\n",
    "results_df.loc[poa_with_type_mask,\n",
    "'price (in rands)'] = results_df.loc[poa_with_type_mask, 'price_avg']\n",
    "\n",
    "# Drop the POA rows without a price type\n",
    "results_df = results_df[~(poa_mask & ~poa_with_type_mask)]\n",
    "\n",
    "# Drop the helper column\n",
    "results_df.drop(columns=['price_avg'], inplace=True)"
   ]
  },
  {
   "cell_type": "code",
   "execution_count": 31,
   "id": "a39ae2d8",
   "metadata": {},
   "outputs": [
    {
     "name": "stdout",
     "output_type": "stream",
     "text": [
      "Remaining 'POA': 0\n",
      "Remaining nulls in 'price (in rands)': 12\n"
     ]
    }
   ],
   "source": [
    "print(\"Remaining 'POA':\", results_df['price'].str.lower().eq('poa').sum())\n",
    "print(\"Remaining nulls in 'price (in rands)':\",\n",
    "      results_df['price (in rands)'].isna().sum())"
   ]
  },
  {
   "cell_type": "code",
   "execution_count": 32,
   "id": "47cb16ed",
   "metadata": {},
   "outputs": [
    {
     "data": {
      "text/html": [
       "<div>\n",
       "<style scoped>\n",
       "    .dataframe tbody tr th:only-of-type {\n",
       "        vertical-align: middle;\n",
       "    }\n",
       "\n",
       "    .dataframe tbody tr th {\n",
       "        vertical-align: top;\n",
       "    }\n",
       "\n",
       "    .dataframe thead th {\n",
       "        text-align: right;\n",
       "    }\n",
       "</style>\n",
       "<table border=\"1\" class=\"dataframe\">\n",
       "  <thead>\n",
       "    <tr style=\"text-align: right;\">\n",
       "      <th></th>\n",
       "      <th>price</th>\n",
       "      <th>property_description</th>\n",
       "      <th>property_features</th>\n",
       "      <th>Listing Number</th>\n",
       "      <th>Type of Property</th>\n",
       "      <th>Pets Allowed</th>\n",
       "      <th>Furnished</th>\n",
       "      <th>Bedrooms</th>\n",
       "      <th>Bathrooms</th>\n",
       "      <th>Kitchen</th>\n",
       "      <th>...</th>\n",
       "      <th>Erf Size (m²)</th>\n",
       "      <th>Floor Area (m²)</th>\n",
       "      <th>Garden</th>\n",
       "      <th>Pool</th>\n",
       "      <th>Garage</th>\n",
       "      <th>suburb</th>\n",
       "      <th>city</th>\n",
       "      <th>province</th>\n",
       "      <th>price_type</th>\n",
       "      <th>price (in rands)</th>\n",
       "    </tr>\n",
       "  </thead>\n",
       "  <tbody>\n",
       "    <tr>\n",
       "      <th>4246</th>\n",
       "      <td>POAPer Day</td>\n",
       "      <td>Positioned in the prestigious Fresnaye neighbo...</td>\n",
       "      <td>Property OverviewListing Number115374518Type o...</td>\n",
       "      <td>115374518</td>\n",
       "      <td>Apartment / Flat</td>\n",
       "      <td>None</td>\n",
       "      <td>None</td>\n",
       "      <td>4</td>\n",
       "      <td>4</td>\n",
       "      <td>1</td>\n",
       "      <td>...</td>\n",
       "      <td>None</td>\n",
       "      <td>None</td>\n",
       "      <td>None</td>\n",
       "      <td>1</td>\n",
       "      <td>None</td>\n",
       "      <td>Fresnaye</td>\n",
       "      <td>Cape Town</td>\n",
       "      <td>Western Cape</td>\n",
       "      <td>Per Day</td>\n",
       "      <td>NaN</td>\n",
       "    </tr>\n",
       "    <tr>\n",
       "      <th>4586</th>\n",
       "      <td>POAPer Day</td>\n",
       "      <td>Escape to Paradise...Welcome to a world of enc...</td>\n",
       "      <td>Property OverviewListing Number112682529Type o...</td>\n",
       "      <td>112682529</td>\n",
       "      <td>House</td>\n",
       "      <td>None</td>\n",
       "      <td>Yes</td>\n",
       "      <td>7</td>\n",
       "      <td>7</td>\n",
       "      <td>None</td>\n",
       "      <td>...</td>\n",
       "      <td>None</td>\n",
       "      <td>None</td>\n",
       "      <td>None</td>\n",
       "      <td>None</td>\n",
       "      <td>None</td>\n",
       "      <td>Zwaanswyk</td>\n",
       "      <td>Cape Town</td>\n",
       "      <td>Western Cape</td>\n",
       "      <td>Per Day</td>\n",
       "      <td>NaN</td>\n",
       "    </tr>\n",
       "    <tr>\n",
       "      <th>4836</th>\n",
       "      <td>POAPer Day</td>\n",
       "      <td>This magnificent penthouse located in Barley B...</td>\n",
       "      <td>Property OverviewListing Number111244618Type o...</td>\n",
       "      <td>111244618</td>\n",
       "      <td>Apartment / Flat</td>\n",
       "      <td>None</td>\n",
       "      <td>None</td>\n",
       "      <td>3</td>\n",
       "      <td>3</td>\n",
       "      <td>None</td>\n",
       "      <td>...</td>\n",
       "      <td>None</td>\n",
       "      <td>286</td>\n",
       "      <td>None</td>\n",
       "      <td>1</td>\n",
       "      <td>None</td>\n",
       "      <td>Bakoven</td>\n",
       "      <td>Cape Town</td>\n",
       "      <td>Western Cape</td>\n",
       "      <td>Per Day</td>\n",
       "      <td>NaN</td>\n",
       "    </tr>\n",
       "    <tr>\n",
       "      <th>4863</th>\n",
       "      <td>POAPer Day</td>\n",
       "      <td>Discover Luxury Living in the Heart of Cape To...</td>\n",
       "      <td>Property OverviewListing Number114968205Type o...</td>\n",
       "      <td>114968205</td>\n",
       "      <td>Apartment / Flat</td>\n",
       "      <td>None</td>\n",
       "      <td>None</td>\n",
       "      <td>4</td>\n",
       "      <td>4</td>\n",
       "      <td>1</td>\n",
       "      <td>...</td>\n",
       "      <td>None</td>\n",
       "      <td>None</td>\n",
       "      <td>None</td>\n",
       "      <td>1</td>\n",
       "      <td>None</td>\n",
       "      <td>Fresnaye</td>\n",
       "      <td>Cape Town</td>\n",
       "      <td>Western Cape</td>\n",
       "      <td>Per Day</td>\n",
       "      <td>NaN</td>\n",
       "    </tr>\n",
       "    <tr>\n",
       "      <th>4991</th>\n",
       "      <td>POAPer Day</td>\n",
       "      <td>*Available 01 May 2025 - 31 August 2025*If it ...</td>\n",
       "      <td>Property OverviewListing Number111859212Type o...</td>\n",
       "      <td>111859212</td>\n",
       "      <td>Apartment / Flat</td>\n",
       "      <td>None</td>\n",
       "      <td>Yes</td>\n",
       "      <td>3</td>\n",
       "      <td>4</td>\n",
       "      <td>1</td>\n",
       "      <td>...</td>\n",
       "      <td>None</td>\n",
       "      <td>None</td>\n",
       "      <td>None</td>\n",
       "      <td>1</td>\n",
       "      <td>None</td>\n",
       "      <td>Bantry Bay</td>\n",
       "      <td>Cape Town</td>\n",
       "      <td>Western Cape</td>\n",
       "      <td>Per Day</td>\n",
       "      <td>NaN</td>\n",
       "    </tr>\n",
       "    <tr>\n",
       "      <th>7450</th>\n",
       "      <td>POAPer m²</td>\n",
       "      <td>1.\\tOffices with large windows2.\\tKitchenette3...</td>\n",
       "      <td>Property OverviewListing Number115523149Type o...</td>\n",
       "      <td>115523149</td>\n",
       "      <td>Commercial</td>\n",
       "      <td>None</td>\n",
       "      <td>None</td>\n",
       "      <td>&lt;NA&gt;</td>\n",
       "      <td>None</td>\n",
       "      <td>None</td>\n",
       "      <td>...</td>\n",
       "      <td>None</td>\n",
       "      <td>235</td>\n",
       "      <td>None</td>\n",
       "      <td>None</td>\n",
       "      <td>None</td>\n",
       "      <td>Heriotdale</td>\n",
       "      <td>Johannesburg</td>\n",
       "      <td>Gauteng</td>\n",
       "      <td>Per m²</td>\n",
       "      <td>NaN</td>\n",
       "    </tr>\n",
       "    <tr>\n",
       "      <th>8317</th>\n",
       "      <td>POAPer m²</td>\n",
       "      <td>1.\\tAmple Parking2.\\tOffices with large window...</td>\n",
       "      <td>Property OverviewListing Number115418255Type o...</td>\n",
       "      <td>115418255</td>\n",
       "      <td>Commercial</td>\n",
       "      <td>None</td>\n",
       "      <td>None</td>\n",
       "      <td>&lt;NA&gt;</td>\n",
       "      <td>None</td>\n",
       "      <td>None</td>\n",
       "      <td>...</td>\n",
       "      <td>None</td>\n",
       "      <td>260</td>\n",
       "      <td>None</td>\n",
       "      <td>None</td>\n",
       "      <td>None</td>\n",
       "      <td>Heriotdale</td>\n",
       "      <td>Johannesburg</td>\n",
       "      <td>Gauteng</td>\n",
       "      <td>Per m²</td>\n",
       "      <td>NaN</td>\n",
       "    </tr>\n",
       "    <tr>\n",
       "      <th>8706</th>\n",
       "      <td>POAPer Month</td>\n",
       "      <td>Discover this spacious 500 square meter proper...</td>\n",
       "      <td>Property OverviewListing Number114459245Type o...</td>\n",
       "      <td>114459245</td>\n",
       "      <td>Industrial</td>\n",
       "      <td>None</td>\n",
       "      <td>No</td>\n",
       "      <td>&lt;NA&gt;</td>\n",
       "      <td>None</td>\n",
       "      <td>None</td>\n",
       "      <td>...</td>\n",
       "      <td>500</td>\n",
       "      <td>500</td>\n",
       "      <td>None</td>\n",
       "      <td>None</td>\n",
       "      <td>None</td>\n",
       "      <td>Westgate</td>\n",
       "      <td>Johannesburg</td>\n",
       "      <td>Gauteng</td>\n",
       "      <td>Per Month</td>\n",
       "      <td>NaN</td>\n",
       "    </tr>\n",
       "    <tr>\n",
       "      <th>8758</th>\n",
       "      <td>POAPer m²</td>\n",
       "      <td>1.\\tOffices2.\\tAmple Kitchenette3.\\tAmple Ablu...</td>\n",
       "      <td>Property OverviewListing Number115517306Type o...</td>\n",
       "      <td>115517306</td>\n",
       "      <td>Commercial</td>\n",
       "      <td>None</td>\n",
       "      <td>None</td>\n",
       "      <td>&lt;NA&gt;</td>\n",
       "      <td>None</td>\n",
       "      <td>None</td>\n",
       "      <td>...</td>\n",
       "      <td>None</td>\n",
       "      <td>225</td>\n",
       "      <td>None</td>\n",
       "      <td>None</td>\n",
       "      <td>None</td>\n",
       "      <td>Heriotdale</td>\n",
       "      <td>Johannesburg</td>\n",
       "      <td>Gauteng</td>\n",
       "      <td>Per m²</td>\n",
       "      <td>NaN</td>\n",
       "    </tr>\n",
       "    <tr>\n",
       "      <th>12308</th>\n",
       "      <td>POAPer Month</td>\n",
       "      <td>This rarely available 3,788sqm industrial ware...</td>\n",
       "      <td>Property OverviewListing Number113997397Type o...</td>\n",
       "      <td>113997397</td>\n",
       "      <td>Industrial</td>\n",
       "      <td>None</td>\n",
       "      <td>No</td>\n",
       "      <td>&lt;NA&gt;</td>\n",
       "      <td>None</td>\n",
       "      <td>None</td>\n",
       "      <td>...</td>\n",
       "      <td>None</td>\n",
       "      <td>None</td>\n",
       "      <td>None</td>\n",
       "      <td>None</td>\n",
       "      <td>None</td>\n",
       "      <td>Nelsville</td>\n",
       "      <td>Nelspruit</td>\n",
       "      <td>Mpumalanga</td>\n",
       "      <td>Per Month</td>\n",
       "      <td>NaN</td>\n",
       "    </tr>\n",
       "    <tr>\n",
       "      <th>13346</th>\n",
       "      <td>POAPer Month</td>\n",
       "      <td>This outstanding commercial property offers 2,...</td>\n",
       "      <td>Property OverviewListing Number115506400Type o...</td>\n",
       "      <td>115506400</td>\n",
       "      <td>Vacant Land</td>\n",
       "      <td>None</td>\n",
       "      <td>None</td>\n",
       "      <td>&lt;NA&gt;</td>\n",
       "      <td>None</td>\n",
       "      <td>None</td>\n",
       "      <td>...</td>\n",
       "      <td>None</td>\n",
       "      <td>None</td>\n",
       "      <td>None</td>\n",
       "      <td>None</td>\n",
       "      <td>None</td>\n",
       "      <td>Magna Via Industrial</td>\n",
       "      <td>Polokwane</td>\n",
       "      <td>Limpopo</td>\n",
       "      <td>Per Month</td>\n",
       "      <td>NaN</td>\n",
       "    </tr>\n",
       "    <tr>\n",
       "      <th>13904</th>\n",
       "      <td>POAPer m²</td>\n",
       "      <td>An exciting opportunity awaits in this newly d...</td>\n",
       "      <td>Property OverviewListing Number115507851Type o...</td>\n",
       "      <td>115507851</td>\n",
       "      <td>Vacant Land</td>\n",
       "      <td>None</td>\n",
       "      <td>None</td>\n",
       "      <td>&lt;NA&gt;</td>\n",
       "      <td>None</td>\n",
       "      <td>None</td>\n",
       "      <td>...</td>\n",
       "      <td>None</td>\n",
       "      <td>None</td>\n",
       "      <td>None</td>\n",
       "      <td>None</td>\n",
       "      <td>None</td>\n",
       "      <td>Magna Via Industrial</td>\n",
       "      <td>Polokwane</td>\n",
       "      <td>Limpopo</td>\n",
       "      <td>Per m²</td>\n",
       "      <td>NaN</td>\n",
       "    </tr>\n",
       "  </tbody>\n",
       "</table>\n",
       "<p>12 rows × 24 columns</p>\n",
       "</div>"
      ],
      "text/plain": [
       "              price                               property_description  \\\n",
       "4246     POAPer Day  Positioned in the prestigious Fresnaye neighbo...   \n",
       "4586     POAPer Day  Escape to Paradise...Welcome to a world of enc...   \n",
       "4836     POAPer Day  This magnificent penthouse located in Barley B...   \n",
       "4863     POAPer Day  Discover Luxury Living in the Heart of Cape To...   \n",
       "4991     POAPer Day  *Available 01 May 2025 - 31 August 2025*If it ...   \n",
       "7450      POAPer m²  1.\\tOffices with large windows2.\\tKitchenette3...   \n",
       "8317      POAPer m²  1.\\tAmple Parking2.\\tOffices with large window...   \n",
       "8706   POAPer Month  Discover this spacious 500 square meter proper...   \n",
       "8758      POAPer m²  1.\\tOffices2.\\tAmple Kitchenette3.\\tAmple Ablu...   \n",
       "12308  POAPer Month  This rarely available 3,788sqm industrial ware...   \n",
       "13346  POAPer Month  This outstanding commercial property offers 2,...   \n",
       "13904     POAPer m²  An exciting opportunity awaits in this newly d...   \n",
       "\n",
       "                                       property_features Listing Number  \\\n",
       "4246   Property OverviewListing Number115374518Type o...      115374518   \n",
       "4586   Property OverviewListing Number112682529Type o...      112682529   \n",
       "4836   Property OverviewListing Number111244618Type o...      111244618   \n",
       "4863   Property OverviewListing Number114968205Type o...      114968205   \n",
       "4991   Property OverviewListing Number111859212Type o...      111859212   \n",
       "7450   Property OverviewListing Number115523149Type o...      115523149   \n",
       "8317   Property OverviewListing Number115418255Type o...      115418255   \n",
       "8706   Property OverviewListing Number114459245Type o...      114459245   \n",
       "8758   Property OverviewListing Number115517306Type o...      115517306   \n",
       "12308  Property OverviewListing Number113997397Type o...      113997397   \n",
       "13346  Property OverviewListing Number115506400Type o...      115506400   \n",
       "13904  Property OverviewListing Number115507851Type o...      115507851   \n",
       "\n",
       "       Type of Property Pets Allowed Furnished  Bedrooms Bathrooms Kitchen  \\\n",
       "4246   Apartment / Flat         None      None         4         4       1   \n",
       "4586              House         None       Yes         7         7    None   \n",
       "4836   Apartment / Flat         None      None         3         3    None   \n",
       "4863   Apartment / Flat         None      None         4         4       1   \n",
       "4991   Apartment / Flat         None       Yes         3         4       1   \n",
       "7450         Commercial         None      None      <NA>      None    None   \n",
       "8317         Commercial         None      None      <NA>      None    None   \n",
       "8706         Industrial         None        No      <NA>      None    None   \n",
       "8758         Commercial         None      None      <NA>      None    None   \n",
       "12308        Industrial         None        No      <NA>      None    None   \n",
       "13346       Vacant Land         None      None      <NA>      None    None   \n",
       "13904       Vacant Land         None      None      <NA>      None    None   \n",
       "\n",
       "       ... Erf Size (m²) Floor Area (m²) Garden  Pool Garage  \\\n",
       "4246   ...          None            None   None     1   None   \n",
       "4586   ...          None            None   None  None   None   \n",
       "4836   ...          None             286   None     1   None   \n",
       "4863   ...          None            None   None     1   None   \n",
       "4991   ...          None            None   None     1   None   \n",
       "7450   ...          None             235   None  None   None   \n",
       "8317   ...          None             260   None  None   None   \n",
       "8706   ...           500             500   None  None   None   \n",
       "8758   ...          None             225   None  None   None   \n",
       "12308  ...          None            None   None  None   None   \n",
       "13346  ...          None            None   None  None   None   \n",
       "13904  ...          None            None   None  None   None   \n",
       "\n",
       "                     suburb          city      province price_type  \\\n",
       "4246               Fresnaye     Cape Town  Western Cape    Per Day   \n",
       "4586              Zwaanswyk     Cape Town  Western Cape    Per Day   \n",
       "4836                Bakoven     Cape Town  Western Cape    Per Day   \n",
       "4863               Fresnaye     Cape Town  Western Cape    Per Day   \n",
       "4991             Bantry Bay     Cape Town  Western Cape    Per Day   \n",
       "7450             Heriotdale  Johannesburg       Gauteng     Per m²   \n",
       "8317             Heriotdale  Johannesburg       Gauteng     Per m²   \n",
       "8706               Westgate  Johannesburg       Gauteng  Per Month   \n",
       "8758             Heriotdale  Johannesburg       Gauteng     Per m²   \n",
       "12308             Nelsville     Nelspruit    Mpumalanga  Per Month   \n",
       "13346  Magna Via Industrial     Polokwane       Limpopo  Per Month   \n",
       "13904  Magna Via Industrial     Polokwane       Limpopo     Per m²   \n",
       "\n",
       "      price (in rands)  \n",
       "4246               NaN  \n",
       "4586               NaN  \n",
       "4836               NaN  \n",
       "4863               NaN  \n",
       "4991               NaN  \n",
       "7450               NaN  \n",
       "8317               NaN  \n",
       "8706               NaN  \n",
       "8758               NaN  \n",
       "12308              NaN  \n",
       "13346              NaN  \n",
       "13904              NaN  \n",
       "\n",
       "[12 rows x 24 columns]"
      ]
     },
     "execution_count": 32,
     "metadata": {},
     "output_type": "execute_result"
    }
   ],
   "source": [
    "# Get the rows where price (in rands) is null\n",
    "results_df[results_df['price (in rands)'].isna()]"
   ]
  },
  {
   "cell_type": "code",
   "execution_count": 33,
   "id": "dd497659",
   "metadata": {},
   "outputs": [],
   "source": [
    "# Drop rows in the price (in rands) column that are null\n",
    "results_df = results_df.dropna(subset=['price (in rands)'])"
   ]
  },
  {
   "cell_type": "code",
   "execution_count": 34,
   "id": "60153147",
   "metadata": {},
   "outputs": [],
   "source": [
    "# Drop the price column as we do not need it anymore\n",
    "results_df.drop(columns=['price'], inplace=True)"
   ]
  },
  {
   "cell_type": "markdown",
   "id": "9e495a29",
   "metadata": {},
   "source": [
    "### Pets Allowed"
   ]
  },
  {
   "cell_type": "code",
   "execution_count": 35,
   "id": "c941d5a9",
   "metadata": {},
   "outputs": [
    {
     "data": {
      "text/plain": [
       "np.int64(10304)"
      ]
     },
     "execution_count": 35,
     "metadata": {},
     "output_type": "execute_result"
    }
   ],
   "source": [
    "results_df['Pets Allowed'].isnull().sum()"
   ]
  },
  {
   "cell_type": "code",
   "execution_count": 36,
   "id": "7fc285a8",
   "metadata": {},
   "outputs": [
    {
     "data": {
      "text/plain": [
       "Pets Allowed\n",
       "No     2598\n",
       "Yes    1003\n",
       "Name: count, dtype: int64"
      ]
     },
     "execution_count": 36,
     "metadata": {},
     "output_type": "execute_result"
    }
   ],
   "source": [
    "results_df['Pets Allowed'].value_counts()"
   ]
  },
  {
   "cell_type": "code",
   "execution_count": 37,
   "id": "07d88e4d",
   "metadata": {},
   "outputs": [
    {
     "name": "stdout",
     "output_type": "stream",
     "text": [
      "Type of Property\n",
      "Apartment / Flat     No\n",
      "Commercial           No\n",
      "Farm                Yes\n",
      "House               Yes\n",
      "Industrial           No\n",
      "Townhouse            No\n",
      "Vacant Land          No\n",
      "Name: Pets Allowed, dtype: object\n"
     ]
    }
   ],
   "source": [
    "# Calculate mode for each property type\n",
    "pets_mode = results_df.groupby('Type of Property')['Pets Allowed'].agg(\n",
    "    lambda x: x.mode().iloc[0] if not x.mode().empty else pd.NA\n",
    ")\n",
    "print(pets_mode)"
   ]
  },
  {
   "cell_type": "code",
   "execution_count": 38,
   "id": "a50044d2",
   "metadata": {},
   "outputs": [],
   "source": [
    "default_pets_value = {\n",
    "    'Apartment / Flat': 'No', \n",
    "    'Commercial': 'No',\n",
    "    'Farm': 'Yes',\n",
    "    'House': 'Yes', \n",
    "    'Industrial': 'No', \n",
    "    'Townhouse': 'No', \n",
    "    'Vacant Land': 'No'\n",
    "}\n",
    "\n",
    "results_df['Pets Allowed'] = results_df.apply(\n",
    "    lambda row: default_pets_value[row['Type of Property']]\n",
    "    if pd.isna(row['Pets Allowed']) and row['Type of Property'] in default_pets_value\n",
    "    else row['Pets Allowed'],\n",
    "    axis=1\n",
    ")"
   ]
  },
  {
   "cell_type": "code",
   "execution_count": 39,
   "id": "ce64b4b1",
   "metadata": {},
   "outputs": [
    {
     "name": "stdout",
     "output_type": "stream",
     "text": [
      "0\n"
     ]
    }
   ],
   "source": [
    "print(results_df['Pets Allowed'].isna().sum())"
   ]
  },
  {
   "cell_type": "markdown",
   "id": "d9ccea38",
   "metadata": {},
   "source": [
    "### Furnished"
   ]
  },
  {
   "cell_type": "code",
   "execution_count": 40,
   "id": "56bf14a3",
   "metadata": {},
   "outputs": [
    {
     "data": {
      "text/plain": [
       "np.int64(4635)"
      ]
     },
     "execution_count": 40,
     "metadata": {},
     "output_type": "execute_result"
    }
   ],
   "source": [
    "results_df['Furnished'].isnull().sum()"
   ]
  },
  {
   "cell_type": "code",
   "execution_count": 41,
   "id": "aaf0a236",
   "metadata": {},
   "outputs": [
    {
     "data": {
      "text/plain": [
       "Furnished\n",
       "No     7962\n",
       "Yes    1308\n",
       "Name: count, dtype: int64"
      ]
     },
     "execution_count": 41,
     "metadata": {},
     "output_type": "execute_result"
    }
   ],
   "source": [
    "results_df['Furnished'].value_counts()"
   ]
  },
  {
   "cell_type": "code",
   "execution_count": 42,
   "id": "b606df23",
   "metadata": {},
   "outputs": [
    {
     "name": "stdout",
     "output_type": "stream",
     "text": [
      "Type of Property\n",
      "Apartment / Flat    No\n",
      "Commercial          No\n",
      "Farm                No\n",
      "House               No\n",
      "Industrial          No\n",
      "Townhouse           No\n",
      "Vacant Land         No\n",
      "Name: Furnished, dtype: object\n"
     ]
    }
   ],
   "source": [
    "# Calculate mode for each property type for the furnished column\n",
    "furnished_mode = results_df.groupby('Type of Property')['Furnished'].agg(\n",
    "    lambda x: x.mode().iloc[0] if not x.mode().empty else pd.NA\n",
    ")\n",
    "print(furnished_mode)"
   ]
  },
  {
   "cell_type": "code",
   "execution_count": 43,
   "id": "7f34f209",
   "metadata": {},
   "outputs": [],
   "source": [
    "# Fill the null vlaues in the furnished column with unknown\n",
    "results_df['Furnished'] = results_df['Furnished'].fillna(\"Unknown\")"
   ]
  },
  {
   "cell_type": "code",
   "execution_count": 44,
   "id": "c27be147",
   "metadata": {},
   "outputs": [
    {
     "name": "stdout",
     "output_type": "stream",
     "text": [
      "0\n"
     ]
    }
   ],
   "source": [
    "print(results_df['Furnished'].isna().sum())"
   ]
  },
  {
   "cell_type": "markdown",
   "id": "0a2ad281",
   "metadata": {},
   "source": [
    "### Bedrooms"
   ]
  },
  {
   "cell_type": "code",
   "execution_count": 45,
   "id": "a66ab57b",
   "metadata": {},
   "outputs": [
    {
     "data": {
      "text/plain": [
       "np.int64(8449)"
      ]
     },
     "execution_count": 45,
     "metadata": {},
     "output_type": "execute_result"
    }
   ],
   "source": [
    "results_df['Bedrooms'].isnull().sum()"
   ]
  },
  {
   "cell_type": "code",
   "execution_count": 46,
   "id": "a6d618af",
   "metadata": {},
   "outputs": [
    {
     "data": {
      "text/plain": [
       "Bedrooms\n",
       "2     1825\n",
       "1     1446\n",
       "3     1178\n",
       "5      403\n",
       "4      347\n",
       "0      177\n",
       "6       45\n",
       "7       17\n",
       "8        8\n",
       "9        4\n",
       "11       2\n",
       "13       2\n",
       "12       1\n",
       "10       1\n",
       "Name: count, dtype: Int64"
      ]
     },
     "execution_count": 46,
     "metadata": {},
     "output_type": "execute_result"
    }
   ],
   "source": [
    "results_df['Bedrooms'].value_counts()"
   ]
  },
  {
   "cell_type": "code",
   "execution_count": 47,
   "id": "e323447c",
   "metadata": {},
   "outputs": [
    {
     "name": "stdout",
     "output_type": "stream",
     "text": [
      "Type of Property\n",
      "Apartment / Flat       2\n",
      "Commercial             0\n",
      "Farm                   2\n",
      "House                  3\n",
      "Industrial             2\n",
      "Townhouse              2\n",
      "Vacant Land         <NA>\n",
      "Name: Bedrooms, dtype: Int64\n"
     ]
    }
   ],
   "source": [
    "# Calculate mode for each property type for the furnished column\n",
    "furnished_mode = results_df.groupby('Type of Property')['Bedrooms'].agg(\n",
    "    lambda x: x.mode().iloc[0] if not x.mode().empty else pd.NA\n",
    ")\n",
    "print(furnished_mode)"
   ]
  },
  {
   "cell_type": "code",
   "execution_count": 48,
   "id": "3c55601c",
   "metadata": {},
   "outputs": [],
   "source": [
    "bedroom_medians = results_df.groupby('Type of Property')['Bedrooms'].median()\n",
    "\n",
    "def fill_bedrooms(row):\n",
    "    if pd.isna(row['Bedrooms']):\n",
    "        median = bedroom_medians.get(row['Type of Property'], np.nan)\n",
    "        return median if pd.notna(median) else 0\n",
    "    return row['Bedrooms']\n",
    "\n",
    "results_df['Bedrooms'] = results_df.apply(fill_bedrooms, axis=1)"
   ]
  },
  {
   "cell_type": "code",
   "execution_count": 49,
   "id": "a9c6548d",
   "metadata": {},
   "outputs": [
    {
     "data": {
      "text/plain": [
       "np.int64(0)"
      ]
     },
     "execution_count": 49,
     "metadata": {},
     "output_type": "execute_result"
    }
   ],
   "source": [
    "results_df['Bedrooms'].isnull().sum()"
   ]
  },
  {
   "cell_type": "markdown",
   "id": "b36141f9",
   "metadata": {},
   "source": [
    "### Bathrooms"
   ]
  },
  {
   "cell_type": "code",
   "execution_count": 50,
   "id": "68405c89",
   "metadata": {},
   "outputs": [
    {
     "data": {
      "text/plain": [
       "np.int64(6113)"
      ]
     },
     "execution_count": 50,
     "metadata": {},
     "output_type": "execute_result"
    }
   ],
   "source": [
    "results_df['Bathrooms'].isnull().sum()"
   ]
  },
  {
   "cell_type": "code",
   "execution_count": 51,
   "id": "148f0c2a",
   "metadata": {},
   "outputs": [
    {
     "data": {
      "text/plain": [
       "Bathrooms\n",
       "1      3937\n",
       "2      2662\n",
       "3       529\n",
       "4       347\n",
       "6        99\n",
       "5        90\n",
       "8        41\n",
       "7        26\n",
       "10       21\n",
       "0        13\n",
       "12        6\n",
       "15        5\n",
       "9         4\n",
       "20        3\n",
       "14        2\n",
       "16        2\n",
       "11        1\n",
       "13        1\n",
       "30        1\n",
       "200       1\n",
       "160       1\n",
       "Name: count, dtype: int64"
      ]
     },
     "execution_count": 51,
     "metadata": {},
     "output_type": "execute_result"
    }
   ],
   "source": [
    "results_df['Bathrooms'].value_counts()"
   ]
  },
  {
   "cell_type": "code",
   "execution_count": 52,
   "id": "c41471c2",
   "metadata": {},
   "outputs": [
    {
     "name": "stdout",
     "output_type": "stream",
     "text": [
      "  Type of Property  Count with >10 Bathrooms\n",
      "0       Commercial                        21\n",
      "2       Industrial                        19\n",
      "1            House                         4\n"
     ]
    }
   ],
   "source": [
    "# Ensure 'Bathrooms' is numeric\n",
    "results_df['Bathrooms'] = pd.to_numeric(\n",
    "    results_df['Bathrooms'], errors='coerce')\n",
    "\n",
    "# Filter listings with Bathrooms > 10\n",
    "bathroom_outliers = results_df[results_df['Bathrooms'] > 9]\n",
    "\n",
    "# Group by Type of Property and count\n",
    "bathroom_summary = bathroom_outliers.groupby(\n",
    "    'Type of Property')['Bathrooms'].count().reset_index()\n",
    "\n",
    "# Rename column for clarity\n",
    "bathroom_summary.columns = ['Type of Property', 'Count with >10 Bathrooms']\n",
    "\n",
    "# Sort by count descending\n",
    "bathroom_summary = bathroom_summary.sort_values(\n",
    "    by='Count with >10 Bathrooms', ascending=False)\n",
    "\n",
    "print(bathroom_summary)"
   ]
  },
  {
   "cell_type": "code",
   "execution_count": null,
   "id": "5d83dc96",
   "metadata": {},
   "outputs": [
    {
     "name": "stdout",
     "output_type": "stream",
     "text": [
      "   Type of Property  Median Bathrooms\n",
      "2              Farm               3.0\n",
      "1        Commercial               2.0\n",
      "4        Industrial               2.0\n",
      "3             House               2.0\n",
      "5         Townhouse               2.0\n",
      "0  Apartment / Flat               1.0\n",
      "6       Vacant Land               NaN\n"
     ]
    }
   ],
   "source": [
    "threshold = 10\n",
    "extreme_bathrooms = results_df[results_df['Bathrooms'] > threshold]s"
   ]
  },
  {
   "cell_type": "code",
   "execution_count": 54,
   "id": "bf43dd41",
   "metadata": {},
   "outputs": [
    {
     "name": "stdout",
     "output_type": "stream",
     "text": [
      "Type of Property\n",
      "Apartment / Flat     1.0\n",
      "Commercial           2.0\n",
      "Farm                 1.0\n",
      "House                1.0\n",
      "Industrial           2.0\n",
      "Townhouse            2.0\n",
      "Vacant Land         <NA>\n",
      "Name: Bathrooms, dtype: object\n"
     ]
    }
   ],
   "source": [
    "# Calculate mode for each property type for the furnished column\n",
    "furnished_mode = results_df.groupby('Type of Property')['Bathrooms'].agg(\n",
    "    lambda x: x.mode().iloc[0] if not x.mode().empty else pd.NA\n",
    ")\n",
    "print(furnished_mode)"
   ]
  },
  {
   "cell_type": "code",
   "execution_count": 55,
   "id": "ff44c6e6",
   "metadata": {},
   "outputs": [],
   "source": [
    "# Filter out rows where Bathrooms > 9\n",
    "results_df = results_df[results_df['Bathrooms'] <= 9]"
   ]
  },
  {
   "cell_type": "code",
   "execution_count": 56,
   "id": "7d9611ac",
   "metadata": {},
   "outputs": [
    {
     "data": {
      "text/plain": [
       "np.int64(0)"
      ]
     },
     "execution_count": 56,
     "metadata": {},
     "output_type": "execute_result"
    }
   ],
   "source": [
    "results_df['Bathrooms'].isnull().sum()"
   ]
  },
  {
   "cell_type": "markdown",
   "id": "d8fe61e1",
   "metadata": {},
   "source": [
    "### Kitchen"
   ]
  },
  {
   "cell_type": "code",
   "execution_count": 57,
   "id": "b731b0df",
   "metadata": {},
   "outputs": [
    {
     "data": {
      "text/plain": [
       "np.int64(1498)"
      ]
     },
     "execution_count": 57,
     "metadata": {},
     "output_type": "execute_result"
    }
   ],
   "source": [
    "results_df['Kitchen'].isnull().sum()"
   ]
  },
  {
   "cell_type": "code",
   "execution_count": 58,
   "id": "ba95f942",
   "metadata": {},
   "outputs": [
    {
     "name": "stdout",
     "output_type": "stream",
     "text": [
      "   Type of Property  Median Kitchen\n",
      "0  Apartment / Flat             1.0\n",
      "1        Commercial             1.0\n",
      "2              Farm             1.0\n",
      "3             House             1.0\n",
      "4        Industrial             1.0\n",
      "5         Townhouse             1.0\n"
     ]
    }
   ],
   "source": [
    "results_df['Kitchen'] = pd.to_numeric(\n",
    "    results_df['Kitchen'], errors='coerce')\n",
    "\n",
    "\n",
    "# Group by property type and calculate median\n",
    "median_bathrooms = results_df.groupby('Type of Property')[\n",
    "    'Kitchen'].median().reset_index()\n",
    "\n",
    "# Rename columns for clarity\n",
    "median_bathrooms.columns = ['Type of Property', 'Median Kitchen']\n",
    "\n",
    "# Sort by median descending (optional)\n",
    "median_bathrooms = median_bathrooms.sort_values(\n",
    "    by='Median Kitchen', ascending=False)\n",
    "\n",
    "print(median_bathrooms)"
   ]
  },
  {
   "cell_type": "code",
   "execution_count": null,
   "id": "cd1b5601",
   "metadata": {},
   "outputs": [],
   "source": []
  }
 ],
 "metadata": {
  "kernelspec": {
   "display_name": ".venv",
   "language": "python",
   "name": "python3"
  },
  "language_info": {
   "codemirror_mode": {
    "name": "ipython",
    "version": 3
   },
   "file_extension": ".py",
   "mimetype": "text/x-python",
   "name": "python",
   "nbconvert_exporter": "python",
   "pygments_lexer": "ipython3",
   "version": "3.13.1"
  }
 },
 "nbformat": 4,
 "nbformat_minor": 5
}
